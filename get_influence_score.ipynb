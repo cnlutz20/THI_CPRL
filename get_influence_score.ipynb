{
 "cells": [
  {
   "cell_type": "code",
   "execution_count": 2,
   "metadata": {},
   "outputs": [],
   "source": [
    "import os, sys, json, datetime, re, xlrd  # Provides OS-dependent functionality, system-specific parameters, JSON handling, and date/time manipulation\n",
    "import pandas as pd             # Provides data structures and data analysis tools\n",
    "from openpyxl import Workbook\n",
    "import numpy as np              # Supports large, multi-dimensional arrays and matrices\n",
    "import requests\n",
    "import glob\n",
    "import time\n",
    "from tqdm import tqdm\n",
    "import urllib3\n",
    "urllib3.disable_warnings(urllib3.exceptions.InsecureRequestWarning)\n",
    "import warnings\n",
    "warnings.simplefilter(action='ignore', category=FutureWarning)\n",
    "pd.options.mode.chained_assignment = None  # default='warn'\n",
    "from IPython.display import display_markdown"
   ]
  },
  {
   "cell_type": "code",
   "execution_count": 3,
   "metadata": {},
   "outputs": [],
   "source": [
    "def bordered(text):\n",
    "    \n",
    "    if isinstance(text, int) or isinstance(text, str):\n",
    "        text = str(text)\n",
    "    try:\n",
    "        lines = text.splitlines()\n",
    "        width = max(len(s) for s in lines)\n",
    "        res = ['┌' + '─' * width + '┐']\n",
    "        for s in lines:\n",
    "            res.append('│' + (s + ' ' * width)[:width] + '│')\n",
    "        res.append('└' + '─' * width + '┘')\n",
    "        return '\\n'.join(res)\n",
    "    except:\n",
    "        lines = [text]\n",
    "        width = len(str(lines[0]))\n",
    "        res = ['┌' + '─' * width + '┐']\n",
    "        for s in lines:\n",
    "            res.append('│' + (s + ' ' * width)[:width] + '│')\n",
    "        res.append('└' + '─' * width + '┘')\n",
    "        return '\\n'.join(res)\n",
    "\n"
   ]
  },
  {
   "cell_type": "code",
   "execution_count": 25,
   "metadata": {},
   "outputs": [],
   "source": [
    "os.chdir(r'C:\\Users\\clutz\\THE HUNT INSTITUTE\\The Hunt Institute Team Site - Documents\\Development (formerly Grants Management)\\!Administrative\\Christian\\Legislators Data\\leg_data_update_10_2024\\done')\n",
    "legislator_files = glob.glob('*.xlsx') \n",
    "\n"
   ]
  },
  {
   "cell_type": "code",
   "execution_count": 26,
   "metadata": {},
   "outputs": [
    {
     "name": "stdout",
     "output_type": "stream",
     "text": [
      "working on file:AL_legislators.xlsx\n",
      "working on file:CT_legislators.xlsx\n",
      "working on file:IL_legislators.xlsx\n",
      "working on file:IN_Legislators.xlsx\n",
      "working on file:KS_legislators.xlsx\n",
      "working on file:MO_legislators.xlsx\n",
      "working on file:ND_legislators.xlsx\n",
      "working on file:NM_legislators.xlsx\n",
      "working on file:OH_legislators.xlsx\n",
      "working on file:OK_legislators.xlsx\n",
      "working on file:VA_legislators.xlsx\n",
      "working on file:WV_legislators.xlsx\n"
     ]
    }
   ],
   "source": [
    "#compiles legislator files into one file\n",
    "dfs = {}\n",
    "for i,file in enumerate(legislator_files):\n",
    "    print('working on file:' + str(file))\n",
    "    # file = legislator_files[0]\n",
    "    # xls = pd.ExcelFile(file)\n",
    "    sheets_dict = pd.read_excel(file, engine=\"openpyxl\", sheet_name=None)\n",
    "    sheet_names = list(sheets_dict.keys())\n",
    "    for s in sheet_names:\n",
    "        df = pd.read_excel(file, engine=\"openpyxl\", sheet_name=s)\n",
    "        \n",
    "        \n",
    "        filename =  f'{s}'\n",
    "        dfs[filename] = df\n",
    "\n"
   ]
  },
  {
   "cell_type": "code",
   "execution_count": null,
   "metadata": {},
   "outputs": [],
   "source": [
    "\n",
    "compiling = []\n",
    "for k,v in dfs.items():\n",
    "    print(*v.columns, sep = \" | \")\n",
    "    df = v.iloc[:, :9]\n",
    "    compiling.append(df)\n",
    "    print(k,\" is in\")\n",
    "\n",
    "all_legs_files = pd.concat(compiling)\n",
    "\n",
    "os.chdir(r'C:\\Users\\clutz\\THE HUNT INSTITUTE\\The Hunt Institute Team Site - Documents\\Development (formerly Grants Management)\\!Administrative\\Christian\\Legislators Data\\leg_data_update_10_2024')\n",
    "all_legs_files.to_csv(\"all_legs_files.csv\", index=False)\n",
    "\n",
    "\n"
   ]
  },
  {
   "cell_type": "code",
   "execution_count": 21,
   "metadata": {},
   "outputs": [],
   "source": [
    "def is_majority_party(list, x) :\n",
    "    rep = [x for x in list if \"Republican\" in str(x)]\n",
    "    dem = [x for x in list if \"Democrat\" in str(x)]\n",
    "\n",
    "    rep_count = len(rep)\n",
    "    dem_count = len(dem)\n",
    "\n",
    "    if rep_count > dem_count:\n",
    "        maj_party = \"Republican\"\n",
    "    elif dem_count > rep_count:\n",
    "        maj_party = \"Democrat\"\n",
    "    else:\n",
    "        print('somehow they are equal')\n",
    "\n",
    "    if maj_party == x:\n",
    "        return True\n",
    "    else: \n",
    "        return False\n",
    "    \n"
   ]
  },
  {
   "cell_type": "markdown",
   "metadata": {},
   "source": [
    "The commented out code below was to edit the originial file\n",
    "uncommented is to import the manual edits made after"
   ]
  },
  {
   "cell_type": "code",
   "execution_count": 10,
   "metadata": {},
   "outputs": [],
   "source": [
    "ranking_file = r\"C:\\Users\\clutz\\OneDrive - THE HUNT INSTITUTE\\Documents\\Data\\legislator data\\leader_rankings.csv\"\n",
    "rankings = pd.read_csv(ranking_file)\n",
    "\n",
    "\n",
    "# file = r\"C:\\Users\\clutz\\OneDrive - THE HUNT INSTITUTE\\Documents\\Data\\legislator data\\leadership_ranking.xlsx\"\n",
    "# leader_rankings_df = pd.read_excel(file)\n",
    "# print(*leader_rankings_df.columns)\n",
    "# leader_rankings_df['state'] = leader_rankings_df['state'].fillna(method=\"ffill\")\n",
    "\n",
    "# n = len(leader_rankings_df)\n",
    "# break_point = False\n",
    "\n",
    "# for i,j in enumerate(leader_rankings_df['state']):\n",
    "#     if \"Wyoming\" in str(j) and \"Alabama\" in leader_rankings_df['state'].iloc[i+1]:\n",
    "#         index_stop = i + 1\n",
    "#         break_point = True\n",
    "\n",
    "\n",
    "#     else:\n",
    "#         continue\n",
    "\n",
    "#     if break_point == True:\n",
    "#         house_list = ['House']*index_stop\n",
    "#         senate_list = ['Senate']*(n-index_stop)\n",
    "#         full_list = house_list + senate_list\n",
    "#         leader_rankings_df['chamber'] = full_list\n",
    "#         leader_rankings_df.dropna(inplace=True)\n",
    "#         break\n",
    "\n",
    "# os.chdir(r'C:\\Users\\clutz\\OneDrive - THE HUNT INSTITUTE\\Documents\\Data\\legislator data')\n",
    "# leader_rankings_df.to_csv('leader_rankings.csv', index_label= False, index=False)\n",
    "\n",
    "# print(leader_rankings_df[leader_rankings_df['state'].str.contains('Connecticut')].to_string())\n",
    "\n"
   ]
  },
  {
   "cell_type": "markdown",
   "metadata": {},
   "source": [
    "Cell below is an older chunk that looked through the raw legislator files, cell above contains the same information"
   ]
  },
  {
   "cell_type": "code",
   "execution_count": null,
   "metadata": {},
   "outputs": [
    {
     "ename": "NameError",
     "evalue": "name 'leader_rankings_df' is not defined",
     "output_type": "error",
     "traceback": [
      "\u001b[1;31m---------------------------------------------------------------------------\u001b[0m",
      "\u001b[1;31mNameError\u001b[0m                                 Traceback (most recent call last)",
      "Cell \u001b[1;32mIn[9], line 2\u001b[0m\n\u001b[0;32m      1\u001b[0m leader_dfs \u001b[38;5;241m=\u001b[39m []\n\u001b[1;32m----> 2\u001b[0m \u001b[38;5;28;01mfor\u001b[39;00m i,j \u001b[38;5;129;01min\u001b[39;00m \u001b[38;5;28menumerate\u001b[39m(\u001b[43mleader_rankings_df\u001b[49m[\u001b[38;5;124m'\u001b[39m\u001b[38;5;124mposition\u001b[39m\u001b[38;5;124m'\u001b[39m]):\n\u001b[0;32m      3\u001b[0m     \u001b[38;5;28;01mif\u001b[39;00m re\u001b[38;5;241m.\u001b[39msearch(\u001b[38;5;124mr\u001b[39m\u001b[38;5;124m'\u001b[39m\u001b[38;5;124m[Ss]peaker\u001b[39m\u001b[38;5;124m'\u001b[39m, \u001b[38;5;28mstr\u001b[39m(j)):\n\u001b[0;32m      4\u001b[0m         \u001b[38;5;28;01mcontinue\u001b[39;00m\n",
      "\u001b[1;31mNameError\u001b[0m: name 'leader_rankings_df' is not defined"
     ]
    }
   ],
   "source": [
    "# leader_dfs = []\n",
    "# for i,j in enumerate(leader_rankings_df['position']):\n",
    "#     if re.search(r'[Ss]peaker', str(j)):\n",
    "#         continue\n",
    "#     elif re.search(r'[Mm]ajority|[Mm]inority', str(j)):\n",
    "#         # print(j)\n",
    "#         continue\n",
    "#     else:\n",
    "#         # print('***not found***')\n",
    "#         # print(j)\n",
    "#         # print(\"**************\")\n",
    "#         # print(leader_rankings_df.iloc[i,:].to_string())\n",
    "#         df2 = pd.DataFrame(columns=['state', 'position', 'chamber'])\n",
    "#         df2 = df2._append(leader_rankings_df.iloc[i], ignore_index=True)\n",
    "#         # print(type(df))\n",
    "#         leader_dfs.append(df2)\n",
    "#         # print('\\n')\n",
    "\n",
    "# outliers = pd.concat(leader_dfs)\n"
   ]
  },
  {
   "cell_type": "code",
   "execution_count": 11,
   "metadata": {},
   "outputs": [],
   "source": [
    "#regex list set up\n",
    "state_list = [\n",
    "    \"Alabama\", \"Alaska\", \"Arizona\", \"Arkansas\", \"California\", \"Colorado\", \n",
    "    \"Connecticut\", \"Delaware\", \"Florida\", \"Georgia\", \"Hawaii\", \"Idaho\", \n",
    "    \"Illinois\", \"Indiana\", \"Iowa\", \"Kansas\", \"Kentucky\", \"Louisiana\", \n",
    "    \"Maine\", \"Maryland\", \"Massachusetts\", \"Michigan\", \"Minnesota\", \n",
    "    \"Mississippi\", \"Missouri\", \"Montana\", \"Nebraska\", \"Nevada\", \n",
    "    \"New Hampshire\", \"New Jersey\", \"New Mexico\", \"New York\", \n",
    "    \"North Carolina\", \"North Dakota\", \"Ohio\", \"Oklahoma\", \"Oregon\", \n",
    "    \"Pennsylvania\", \"Rhode Island\", \"South Carolina\", \"South Dakota\", \n",
    "    \"Tennessee\", \"Texas\", \"Utah\", \"Vermont\", \"Virginia\", \"Washington\", \n",
    "    \"West Virginia\", \"Wisconsin\", \"Wyoming\", \"District of Columbia\"\n",
    "]\n",
    "state_abbreviations = [\n",
    "    \"AL\", \"AK\", \"AZ\", \"AR\", \"CA\", \"CO\", \"CT\", \"DE\", \"FL\", \"GA\", \n",
    "    \"HI\", \"ID\", \"IL\", \"IN\", \"IA\", \"KS\", \"KY\", \"LA\", \"ME\", \"MD\", \n",
    "    \"MA\", \"MI\", \"MN\", \"MS\", \"MO\", \"MT\", \"NE\", \"NV\", \"NH\", \"NJ\", \n",
    "    \"NM\", \"NY\", \"NC\", \"ND\", \"OH\", \"OK\", \"OR\", \"PA\", \"RI\", \"SC\", \n",
    "    \"SD\", \"TN\", \"TX\", \"UT\", \"VT\", \"VA\", \"WA\", \"WV\", \"WI\", \"WY\", \"DC\"\n",
    "]\n",
    "#editing for finding state intitals at beginning of string only\n",
    "state_abbreviations_reg = []\n",
    "for abv in state_abbreviations:\n",
    "    for_regex = f'^{abv}'\n",
    "    state_abbreviations_reg.append(for_regex)\n",
    "#compiling regex patterns for looking for states\n",
    "state_pat = re.compile(\"|\".join(state_list))\n",
    "state_abv_pat = re.compile(\"|\".join(state_abbreviations_reg))\n",
    "# print(state_abv_pat)\n",
    "state_ref = dict(zip(state_list, state_abbreviations))"
   ]
  },
  {
   "cell_type": "markdown",
   "metadata": {},
   "source": [
    "## Importing manually edited leadership positions file"
   ]
  },
  {
   "cell_type": "code",
   "execution_count": 28,
   "metadata": {},
   "outputs": [
    {
     "name": "stdout",
     "output_type": "stream",
     "text": [
      "helper {0: 'AL-House-53', 1: 'AL-House-103', 2: 'AL-House-70', 3: 'AL-House-24', 4: 'AL-House-101', 5: 'AL-House-9', 6: 'AL-Senate-30', 7: 'AL-Senate-20', 8: 'AL-Senate-8', 9: 'AL-Senate-5', 10: 'AL-Senate-24', 11: 'AL-Senate-18', 12: 'CT-House-1', 13: 'CT-House-110', 14: 'CT-House-123', 15: 'CT-House-125', 16: 'CT-House-65', 17: 'CT-House-86', 18: 'CT-House-9', 19: 'CT-Senate-S11', 20: 'CT-Senate-S25', 21: 'CT-Senate-S30', 22: 'IL-House-26', 23: 'IL-House-36', 24: 'IL-House-90', 25: 'IL-House-100', 26: 'IL-House-111', 27: 'IL-House-33', 28: 'IL-House-18', 29: 'IL-House-92', 30: 'IL-House-79', 31: 'IL-House-94', 32: 'IL-House-50', 33: 'IL-House-2', 34: 'IL-House-113', 35: 'IL-House-70', 36: 'IL-House-78', 37: 'IL-House-24', 38: 'IL-House-98', 39: 'IL-House-89', 40: 'IL-House-109', 41: 'IL-House-1', 42: 'IL-House-28', 43: 'IL-House-73', 44: 'IL-House-20', 45: 'IL-House-7', 46: 'IL-Senate-58', 47: 'IL-Senate-18', 48: 'IL-Senate-41', 49: 'IL-Senate-59', 50: 'IL-Senate-39', 51: 'IL-Senate-42', 52: 'IL-Senate-3', 53: 'IL-Senate-46', 54: 'IL-Senate-4', 55: 'IL-Senate-54', 56: 'IL-Senate-28', 57: 'IL-Senate-55', 58: 'IL-Senate-38', 59: 'IN-Senate-12', 60: 'IN-Senate-15', 61: 'IN-Senate-28', 62: 'IN-Senate-33', 63: 'IN-Senate-45', 64: 'IN-Senate-21', 65: 'IN-Senate-29', 66: 'IN-Senate-19', 67: 'IN-Senate-25', 68: 'IN-Senate-37', 69: 'IN-Senate-13', 70: 'IN-Senate-40', 71: 'IN-House-46', 72: 'IN-House-45', 73: 'IN-House-1', 74: 'IN-House-94', 75: 'IN-House-51', 76: 'IN-House-2', 77: 'IN-House-35', 78: 'IN-House-49', 79: 'IN-House-19', 80: 'IN-House-97', 81: 'IN-House-79', 82: 'IN-House-61', 83: 'IN-House-30', 84: 'IN-House-89', 85: 'IN-House-80', 86: 'IN-House-77', 87: 'IN-House-13', 88: 'IN-House-74', 89: 'IN-House-37', 90: 'KS-House-81', 91: 'KS-House-19', 92: 'KS-House-8', 93: 'KS-House-87', 94: 'KS-House-10', 95: 'KS-House-100', 96: 'KS-House-58', 97: 'KS-House-21', 98: 'KS-House-34', 99: 'KS-Senate-32', 100: 'KS-Senate-30', 101: 'KS-Senate-29', 102: 'KS-Senate-2', 103: 'KS-Senate-19', 104: 'KS-Senate-16', 105: 'KS-Senate-6', 106: 'KS-Senate-21', 107: 'KS-Senate-35', 108: 'MO-House-14', 109: 'MO-House-152', 110: 'MO-House-27', 111: 'MO-House-148', 112: 'MO-House-117', 113: 'MO-House-30', 114: 'MO-House-89', 115: 'MO-House-132', 116: 'MO-Senate-25', 117: 'MO-Senate-1', 118: 'MO-Senate-13', 119: 'MO-Senate-18', 120: 'MO-Senate-5', 121: 'MO-Senate-19', 122: 'ND-House-30', 123: 'ND-House-44', 124: 'ND-House-9A', 125: 'ND-House-43', 126: 'ND-House-15', 127: 'ND-House-37', 128: 'ND-Senate-10', 129: 'ND-Senate-21', 130: 'ND-Senate-38', 131: 'ND-Senate-14', 132: 'ND-Senate-44', 133: 'ND-Senate-31', 134: 'NM-House-49', 135: 'NM-House-18', 136: 'NM-House-23', 137: 'NM-House-11', 138: 'NM-House-1', 139: 'NM-House-47', 140: 'NM-Senate-29', 141: 'NM-Senate-40', 142: 'NM-Senate-14', 143: 'NM-Senate-17', 144: 'NM-Senate-25', 145: 'OH-House-83', 146: 'OH-House-43', 147: 'OH-House-81', 148: 'OH-House-24', 149: 'OH-House-1', 150: 'OH-House-48', 151: 'OH-House-66', 152: 'OH-House-7', 153: 'OH-House-30', 154: 'OH-House-93', 155: 'OH-Senate-23', 156: 'OH-Senate-15', 157: 'OH-Senate-2', 158: 'OH-Senate-12', 159: 'OH-Senate-9', 160: 'OH-Senate-1', 161: 'OH-Senate-29', 162: 'OH-Senate-21', 163: 'OK-House-7', 164: 'OK-House-92', 165: 'OK-House-6', 166: 'OK-House-41', 167: 'OK-House-1', 168: 'OK-House-59', 169: 'OK-House-93', 170: 'OK-House-90', 171: 'OK-House-76', 172: 'OK-House-94', 173: 'OK-House-73', 174: 'OK-House-17', 175: 'OK-House-86', 176: 'OK-House-29', 177: 'OK-House-47', 178: 'OK-House-56', 179: 'OK-House-53', 180: 'OK-House-22', 181: 'OK-House-82', 182: 'OK-House-85', 183: 'OK-House-23', 184: 'OK-House-38', 185: 'OK-House-79', 186: 'OK-House-34', 187: 'OK-House-83', 188: 'OK-House-96', 189: 'OK-House-74', 190: 'OK-House-5', 191: 'OK-House-54', 192: 'OK-House-84', 193: 'OK-Senate-44', 194: 'OK-Senate-10', 195: 'OK-Senate-29', 196: 'OK-Senate-46', 197: 'OK-Senate-40', 198: 'OK-Senate-38', 199: 'OK-Senate-11', 200: 'OK-Senate-13', 201: 'OK-Senate-27', 202: 'OK-Senate-23', 203: 'OK-Senate-9', 204: 'OK-Senate-37', 205: 'OK-Senate-47', 206: 'VA-House-71', 207: 'VA-House-33', 208: 'VA-House-4', 209: 'VA-House-88', 210: 'VA-House-18', 211: 'VA-House-61', 212: 'VA-Senate-14', 213: 'VA-Senate-40', 214: 'VA-Senate-23', 215: 'VA-Senate-18', 216: 'VA-Senate-26', 217: 'VA-Senate-2', 218: 'VA-Senate-28', 219: 'VA-Senate-7', 220: 'VA-Senate-34', 221: 'WV-House-98', 222: 'WV-House-5', 223: 'WV-House-37', 224: 'WV-House-58', 225: 'WV-House-62', 226: 'WV-House-13', 227: 'WV-House-92', 228: 'WV-House-25', 229: 'WV-House-85', 230: 'WV-House-96', 231: 'WV-House-61', 232: 'WV-House-71', 233: 'WV-House-24', 234: 'WV-House-65', 235: 'WV-House-41', 236: 'WV-House-17', 237: 'WV-House-53', 238: 'WV-House-26', 239: 'WV-House-59', 240: 'WV-House-83', 241: 'WV-House-35', 242: 'WV-House-56', 243: 'WV-Senate-3', 244: 'WV-Senate-5', 245: 'WV-Senate-17', 246: 'WV-Senate-1', 247: 'WV-Senate-5'} \n",
      "\n",
      "leader {0: 'Minority Leader', 1: 'Caucus Vice Chair', 2: 'Caucus Chair', 3: 'Speaker [1]', 4: 'Speaker Pro Tempore of the House ', 5: 'Majority Leader', 6: 'Senate Majority Vice Leader', 7: 'Minority Democratic Caucus Chair', 8: 'Senate Majority Leader ', 9: 'Senate President Pro Tempore ', 10: 'Senate Minority Leader ', 11: 'Minority Vice Leader', 12: 'Speaker', 13: 'Deputy Speaker Pro-Tempore', 14: 'Deputy Republican Leader', 15: 'Deputy Republican Leader', 16: 'Deputy Speaker Pro-Tempore', 17: 'Minority Leader', 18: 'Majority Leader', 19: 'President Pro Tempore', 20: 'Majority Leader', 21: 'Minority Leader', 22: 'House Assistant Majority Leader ', 23: 'House Assistant Majority Leader ', 24: 'House Assistant Minority Leader ', 25: 'House Assistant Minority Leader ', 26: 'House Assistant Minority Leader ', 27: 'House Assistant Majority Leader ', 28: 'House Majority Leader ', 29: 'House Speaker Pro Tempore ', 30: 'House Assistant Minority Leader ', 31: 'House Deputy Minority Leader ', 32: 'House Assistant Majority Leader ', 33: 'House Deputy Majority Leader ', 34: 'House Assistant Majority Leader ', 35: 'House Minority Conference Chair ', 36: 'House Assistant Majority Leader ', 37: 'House Majority Conference Chairman ', 38: 'House Deputy Majority Leader ', 39: 'Minority Leader', 40: 'House Assistant Minority Leader ', 41: 'House Assistant Majority Leader ', 42: 'House Assistant Majority Leader ', 43: 'House Deputy Minority Leader ', 44: 'House Assistant Minority Leader ', 45: 'Speaker', 46: 'Senate Assistant Minority Leader ', 47: 'Senate President Pro Tempore ', 48: 'Senate Minority Leader ', 49: 'Senate Assistant Minority Leader ', 50: 'Senate President ', 51: 'Senate Assistant Majority Leader ', 52: 'Senate Assistant Majority Leader ', 53: 'Senate Assistant Majority Leader ', 54: 'Senate Majority Leader ', 55: 'Senate Assistant Minority Leader ', 56: 'Senate Assistant Majority Leader ', 57: 'Senate Assistant Minority Leader ', 58: 'Senate Deputy Minority Leader ', 59: 'Senate Assistant Majority Whip ', 60: 'Senate Assistant Majority Floor Leader for Communications ', 61: 'Senate Majority Whip ', 62: 'Senate Minority Leader ', 63: 'Senate Majority Leader ', 64: 'Senate Majority Floor Leader Emeritus ', 65: 'Minority Caucus Chair', 66: 'Majority Caucus Chair', 67: 'Senate Assistant Majority Floor Leader for Parliamentary Affairs ', 68: 'Senate President Pro Tempore ', 69: 'Senate Assistant President Pro Tempore ', 70: 'Senate Assistant Minority Leader ', 71: 'House Majority Whip ', 72: 'House Assistant Majority Whip ', 73: 'House Assistant Minority Whip ', 74: 'House Minority Floor Leader ', 75: 'House Assistant Majority Floor Leader ', 76: 'House Assistant Minority Floor Leader ', 77: 'House Assistant Majority Floor Leader ', 78: 'House Assistant Majority Floor Leader ', 79: 'House Assistant Majority Whip ', 80: 'House Minority Whip ', 81: 'House Majority Floor Leader ', 82: 'House Assistant Minority Floor Leader ', 83: 'Speaker Pro Tempore of the House ', 84: 'House Assistant Minority Whip ', 85: 'House Minority Leader ', 86: 'House Assistant Minority Leader ', 87: 'House Deputy Speaker Pro Tempore ', 88: 'House Assistant Majority Whip ', 89: 'Speaker of the House ', 90: 'House Speaker Pro Tem ', 91: 'House Minority Whip ', 92: 'House Majority Leader ', 93: 'House Majority Whip ', 94: 'House Minority Policy Chair ', 95: 'Speaker of the House ', 96: 'House Minority Leader ', 97: 'House Minority Agenda Chair ', 98: 'House Assistant Minority Leader ', 99: 'Senate Majority Leader ', 100: 'Senate Assistant Majority Leader ', 101: 'Senate Assistant Minority Leader ', 102: 'Senate Agenda Chair ', 103: 'Senate Majority Whip ', 104: 'Senate President ', 105: 'Senate Minority Whip ', 106: 'Senate Minority Leader ', 107: 'Senate Vice President ', 108: 'House Minority Whip ', 109: 'House Majority Whip ', 110: 'House Assistant Minority Floor Leader ', 111: 'House Assistant Majority Floor Leader ', 112: 'Speaker Pro Tempore of the House ', 113: 'Majority Leader', 114: 'Speaker of the House ', 115: 'Minority Leader', 116: 'Senate Assistant Majority Floor Leader ', 117: 'Senate Minority Floor Leader ', 118: 'Minority Caucus Chair', 119: 'Senate Majority Floor Leader ', 120: 'Minority Caucus Whip', 121: 'Senate President Pro Tempore ', 122: 'House Assistant Majority Leader ', 123: 'House Assistant Minority Leader ', 124: 'Minority Caucus Chair', 125: 'House Minority Leader ', 126: 'Speaker of the House ', 127: 'House Majority Leader ', 128: 'Minority Caucus Chair', 129: 'Senate Minority Leader ', 130: 'Senate Majority Leader ', 131: 'Senate Assistant Majority Leader ', 132: 'Senate Assistant Minority Leader ', 133: 'President Pro Tempore of the Senate ', 134: 'House Republican Caucus Chair', 135: 'House Majority Floor Leader ', 136: 'House Minority Whip ', 137: 'Speaker of the House ', 138: 'House Minority Floor Leader ', 139: 'House Majority Whip ', 140: 'Senate Minority Floor Leader ', 141: 'Senate Minority Whip ', 142: 'Senate Majority Whip ', 143: 'Senate President Pro Tempore ', 144: 'Senate Majority Floor Leader ', 145: 'House Assistant Majority Floor Leader ', 146: 'House Assistant Minority Whip ', 147: 'House Majority Whip ', 148: 'House Minority Whip ', 149: 'House Assistant Minority Leader ', 150: 'Speaker Pro Tempore of the House ', 151: 'House Assistant Majority Whip ', 152: 'House Minority Leader ', 153: 'House Majority Floor Leader ', 154: 'Speaker of the House ', 155: 'Senate Minority Leader ', 156: 'Senate Assistant Minority Leader ', 157: 'Senate Majority Whip ', 158: 'President of the Senate ', 159: 'Senate Assistant Minority Whip ', 160: 'Senate Majority Floor Leader ', 161: 'President Pro Tempore of the Senate ', 162: 'Senate Minority Whip ', 163: 'House Majority Deputy Floor Leader ', 164: 'House Assistant Minority Floor Leader ', 165: 'House Assistant Majority Whip ', 166: 'House Assistant Majority Whip ', 167: 'House Assistant Majority Whip ', 168: 'House Assistant Majority Whip ', 169: 'House Minority Whip ', 170: 'House Majority Floor Leader ', 171: 'House Assistant Majority Whip ', 172: 'House Minority Floor Leader ', 173: 'House Assistant Minority Floor Leader ', 174: 'House Assistant Majority Whip ', 175: 'House Assistant Majority Whip ', 176: 'House Speaker Pro Tempore ', 177: 'House Majority Assistant Floor Leader ', 178: 'House Assistant Majority Whip ', 179: 'House Majority Assistant Floor Leader ', 180: 'Speaker of the House ', 181: 'House Assistant Majority Whip ', 182: 'House Minority Leader ', 183: 'House Majority Whip ', 184: 'House Majority Deputy Floor Leader ', 185: 'House Assistant Minority Leader ', 186: 'Minority Caucus Chair', 187: 'House Assistant Majority Whip ', 188: 'House Assistant Majority Whip ', 189: 'House Assistant Majority Whip ', 190: 'House Majority Assistant Floor Leader ', 191: 'House Majority Assistant Floor Leader ', 192: 'House Majority Leader ', 193: 'Senate Assistant Minorty Floor Leader ', 194: 'Senate Assistant Majority Whip ', 195: 'Senate Majority Assistant Floor Leader ', 196: 'Senate Minority Leader ', 197: 'Senate Minority Whip ', 198: 'Senate Majority Chief Presiding Officer ', 199: 'Democratic Caucus Chair', 200: 'Senate Majority Floor Leader ', 201: 'Senate Majority Whip ', 202: 'Senate Majority Assistant Floor Leader ', 203: 'Senate Assistant Majority Whip ', 204: 'Senate Assistant Majority Whip ', 205: 'President Pro Tempore of the Senate ', 206: 'Minority Caucus Chair', 207: 'House Minority Leader ', 208: 'House Majority Leader ', 209: 'Speaker of the House ', 210: 'Majority Caucus Chair', 211: 'House Minority Whip ', 212: 'Senate Majority Whip ', 213: 'Senate Majority Whip ', 214: 'Majority Caucus Chair', 215: 'President Pro Tempore of the Senate ', 216: 'Senate Minority Leader ', 217: 'Minority Caucus Chair', 218: 'Senate Minority Whip ', 219: 'Senate Minority Whip ', 220: 'Senate Majority Leader ', 221: 'Speaker Pro Tempore of the House ', 222: 'House Minority Whip ', 223: 'House Majority Whip ', 224: 'House Assistant Majority Whip ', 225: 'Speaker of the House ', 226: 'House Assistant Majority Whip ', 227: 'House Assistant Majority Whip ', 228: 'House Minority Leader ', 229: 'House Assistant Majority Leader ', 230: 'House Majority Leader ', 231: 'House Assistant Majority Leader ', 232: 'House Assistant Majority Leader ', 233: 'House Assistant Majority Whip ', 234: 'House Assistant Majority Whip ', 235: 'House Assistant Majority Whip ', 236: 'House Deputy Majority Whip ', 237: 'House Deputy Majority Whip ', 238: 'House Deputy Speaker ', 239: 'House Assistant Majority Whip ', 240: 'House Assistant Majority Whip ', 241: 'House Assistant Majority Whip ', 242: 'House Minority Leader Pro Tempore ', 243: 'President Pro Tempore', 244: 'Minority Whip', 245: 'Majority Leader', 246: 'Majority Whip', 247: 'Minority Leader'} \n",
      "\n"
     ]
    },
    {
     "data": {
      "text/plain": [
       "[None, None]"
      ]
     },
     "execution_count": 28,
     "metadata": {},
     "output_type": "execute_result"
    }
   ],
   "source": [
    "leadership_positions_file = r\"C:\\Users\\clutz\\THE HUNT INSTITUTE\\The Hunt Institute Team Site - Documents\\Development (formerly Grants Management)\\!Administrative\\Christian\\Legislators Data\\leg_data_update_10_2024\\all_legs_files_w_rankings.csv\"\n",
    "leaders_lookup = pd.read_csv(leadership_positions_file)\n",
    "leaders_lookup['helper'] = leaders_lookup['State Abbreviation'].astype(str)+ \"-\"+ leaders_lookup['Chamber'].astype(str)+ \"-\"+leaders_lookup['district'].astype(str)\n",
    "\n",
    "leaders_lookup = leaders_lookup.loc[:, ['helper', \"leader\"]]\n",
    "leaders_lookup.dropna(subset='leader', inplace=True)\n",
    "leaders_lookup.reset_index(inplace=True, drop=True)\n",
    "leaders_dict = leaders_lookup.to_dict()\n",
    "\n",
    "\n",
    "[print(k,v,\"\\n\") for k,v in leaders_dict.items()]"
   ]
  },
  {
   "cell_type": "code",
   "execution_count": 48,
   "metadata": {},
   "outputs": [
    {
     "data": {
      "text/markdown": [
       " # AL_house"
      ]
     },
     "metadata": {},
     "output_type": "display_data"
    },
    {
     "data": {
      "text/markdown": [
       " # AL_senate"
      ]
     },
     "metadata": {},
     "output_type": "display_data"
    },
    {
     "name": "stdout",
     "output_type": "stream",
     "text": [
      "something else\n"
     ]
    },
    {
     "data": {
      "text/markdown": [
       " # CT_joint_coms"
      ]
     },
     "metadata": {},
     "output_type": "display_data"
    },
    {
     "name": "stdout",
     "output_type": "stream",
     "text": [
      "something else\n",
      "something else\n",
      "something else\n",
      "something else\n",
      "something else\n",
      "something else\n",
      "something else\n",
      "something else\n",
      "something else\n",
      "something else\n"
     ]
    },
    {
     "data": {
      "text/markdown": [
       " # IL_house"
      ]
     },
     "metadata": {},
     "output_type": "display_data"
    },
    {
     "data": {
      "text/markdown": [
       " # IL_senate"
      ]
     },
     "metadata": {},
     "output_type": "display_data"
    },
    {
     "name": "stdout",
     "output_type": "stream",
     "text": [
      "something else\n",
      "something else\n"
     ]
    },
    {
     "data": {
      "text/markdown": [
       " # IN_Senate"
      ]
     },
     "metadata": {},
     "output_type": "display_data"
    },
    {
     "data": {
      "text/markdown": [
       " # IN_House"
      ]
     },
     "metadata": {},
     "output_type": "display_data"
    },
    {
     "data": {
      "text/markdown": [
       " # KS_house"
      ]
     },
     "metadata": {},
     "output_type": "display_data"
    },
    {
     "data": {
      "text/markdown": [
       " # KS_senate"
      ]
     },
     "metadata": {},
     "output_type": "display_data"
    },
    {
     "data": {
      "text/markdown": [
       " # MO_house"
      ]
     },
     "metadata": {},
     "output_type": "display_data"
    },
    {
     "data": {
      "text/markdown": [
       " # MO_senate"
      ]
     },
     "metadata": {},
     "output_type": "display_data"
    },
    {
     "data": {
      "text/markdown": [
       " # ND_house"
      ]
     },
     "metadata": {},
     "output_type": "display_data"
    },
    {
     "data": {
      "text/markdown": [
       " # ND_senate"
      ]
     },
     "metadata": {},
     "output_type": "display_data"
    },
    {
     "data": {
      "text/markdown": [
       " # NM_house"
      ]
     },
     "metadata": {},
     "output_type": "display_data"
    },
    {
     "data": {
      "text/markdown": [
       " # NM_senate"
      ]
     },
     "metadata": {},
     "output_type": "display_data"
    },
    {
     "data": {
      "text/markdown": [
       " # OH_house"
      ]
     },
     "metadata": {},
     "output_type": "display_data"
    },
    {
     "name": "stdout",
     "output_type": "stream",
     "text": [
      "something else\n"
     ]
    },
    {
     "data": {
      "text/markdown": [
       " # OH_senate"
      ]
     },
     "metadata": {},
     "output_type": "display_data"
    },
    {
     "data": {
      "text/markdown": [
       " # OK_house"
      ]
     },
     "metadata": {},
     "output_type": "display_data"
    },
    {
     "data": {
      "text/markdown": [
       " # OK_senate"
      ]
     },
     "metadata": {},
     "output_type": "display_data"
    },
    {
     "data": {
      "text/markdown": [
       " # VA_house"
      ]
     },
     "metadata": {},
     "output_type": "display_data"
    },
    {
     "data": {
      "text/markdown": [
       " # VA_senate"
      ]
     },
     "metadata": {},
     "output_type": "display_data"
    },
    {
     "data": {
      "text/markdown": [
       " # WV_house"
      ]
     },
     "metadata": {},
     "output_type": "display_data"
    },
    {
     "name": "stdout",
     "output_type": "stream",
     "text": [
      "something else\n"
     ]
    },
    {
     "data": {
      "text/markdown": [
       " # WV_senate"
      ]
     },
     "metadata": {},
     "output_type": "display_data"
    }
   ],
   "source": [
    "from collections import Counter\n",
    "\n",
    "\n",
    "\n",
    "\n",
    "\n",
    "influence_score = {}\n",
    "for k,v in dfs.items():\n",
    "    display_markdown(f' # {k}', raw = True)\n",
    "    # v = dfs.get('AL_house')\n",
    "    df = v\n",
    "    # print(df.columns)\n",
    "    \n",
    "\n",
    "    # house = df[df['Chamber'] == \"House\"]\n",
    "    # leader_list_uc = df['leader'].to_list()\n",
    "    # leader_list = [x for x in leader_list_uc if not isinstance(x, float)]\n",
    "    # house_list_uc = df['Chamber'].to_list()\n",
    "    # house_list = [x for x in house_list_uc if not isinstance(x, float)]\n",
    "    # house_list = list(set(house_list))\n",
    "    if re.search(r'^CT', str(k)):\n",
    "        house = df[df['Chamber'] == \"House\"]\n",
    "\n",
    "        \n",
    "        senate = df[df['Chamber'] == \"Senate\"]\n",
    "        # print(house.to_string())\n",
    "        # print(senate.to_string())\n",
    "        dfs_temp = [house, senate]\n",
    "    \n",
    "    else:\n",
    "        dfs_temp = [df]\n",
    "\n",
    "    \n",
    "    \n",
    "    for d in dfs_temp:\n",
    "        #Putting helper column in the front\n",
    "        # print(d)\n",
    "        d['helper'] = d['State Abbreviation'].astype(str)+ \"-\"+ d['Chamber'].astype(str)+ \"-\"+d['district'].astype(str)\n",
    "        # d.loc[d['state'].isna() | (d['state'] == \"\") | (d['district'].isna()), 'helper'] = None\n",
    "        first_column = d.pop('helper') \n",
    "        d.insert(0, 'helper', first_column)\n",
    "        col_list = d.columns.to_list()\n",
    "        for ic,col in enumerate(col_list):\n",
    "            if re.search(r'^leader', str(col)):\n",
    "                index_start = ic+1\n",
    "                break\n",
    "            else:\n",
    "                continue\n",
    "        \n",
    "        # d_coms = d.iloc[:, f'-{index_start}'index_start:]\n",
    "        # print(d.shape[1])\n",
    "\n",
    "        d_coms = d.iloc[:, [0] + list(range(index_start, (d.shape[1]-1)))]\n",
    "        # print(d_2.columns)\n",
    "        comm_dict = {}\n",
    "        for i,dc in enumerate(d_coms['helper']):\n",
    "            \n",
    "            coms_list = d_coms.iloc[i,1:].to_list()\n",
    "            comm_dict[dc] = coms_list\n",
    "\n",
    "        \n",
    "\n",
    "\n",
    "\n",
    "        # #getting majority party and splitting up by dems and repubs\n",
    "        party_list_uc = d['Party'].to_list()   \n",
    "\n",
    "        for i,v in enumerate(d['helper']):\n",
    "            #variable declaration\n",
    "            score = 1\n",
    "            first_tier = False\n",
    "            second_tier = False\n",
    "            other_tier = False\n",
    "            in_maj_party = False\n",
    "            is_chair = False\n",
    "            is_vice = False\n",
    "            member = False\n",
    "            minority_mem = False\n",
    "            \n",
    "            \n",
    "            #retrieving values\n",
    "            value = leaders_dict.get(str(v))\n",
    "            d.loc[i,'leaders'] = value\n",
    "            if re.search(r'\\[\\d\\]', str(value)):\n",
    "                print('found a top leader')\n",
    "                if re.search(r'\\[1\\]'):\n",
    "                    first_tier = True\n",
    "                elif re.search(r'\\[2\\]'):\n",
    "                    second_tier = True                \n",
    "            else:\n",
    "                other_tier = True\n",
    "\n",
    "            #get the majority party\n",
    "            if is_majority_party(party_list_uc, str(d['Party'].iloc[i])):\n",
    "                in_maj_party = True\n",
    "\n",
    "            #get comms list\n",
    "            leg_comms = comm_dict.get(v)\n",
    "            # print(\"****Legislator's Comms\")\n",
    "            for leg in leg_comms:\n",
    "                \n",
    "                if isinstance(leg, float):\n",
    "                    continue\n",
    "                elif re.search(r'^[Cc]hair', str(leg)):\n",
    "                    is_chair = True\n",
    "                elif re.search(r'[Vv]ice-?\\s?[Cc]hair', str(leg)):\n",
    "                    is_vice = True\n",
    "                elif re.search(r'[Mm]ember', str(leg)):\n",
    "                    member = True\n",
    "                elif re.search(r'[Mm]inority', str(leg)):\n",
    "                    minority_mem = True\n",
    "                else:\n",
    "                    print(\"something else\")\n",
    "\n",
    "    \n",
    "            #scoring\n",
    "            if in_maj_party == True and first_tier == True:\n",
    "                if first_tier == True:\n",
    "                    score = 20\n",
    "                elif second_tier == True:\n",
    "                    score = 15\n",
    "                elif is_chair == True:\n",
    "                    score = 15\n",
    "                elif is_vice == True:\n",
    "                    score = 10\n",
    "                elif other_tier == True:\n",
    "                    score = 10\n",
    "                elif member == True:\n",
    "                    score = 5\n",
    "            elif in_maj_party == False and second_tier == True:\n",
    "                if first_tier == True:\n",
    "                    score = 15\n",
    "                elif is_chair == True:\n",
    "                    score = 15\n",
    "                elif second_tier == True:\n",
    "                    score = 10\n",
    "                elif is_vice == True:\n",
    "                    score = 10\n",
    "                elif minority_mem == True:\n",
    "                    score = 5\n",
    "                elif member == True:\n",
    "                    score = 5\n",
    "                elif other_tier == True:\n",
    "                    score = 5\n",
    "        \n",
    "            if score > 1:\n",
    "                print('###############')\n",
    "                display_markdown(f' #### Helper: {v}', raw = True)    \n",
    "                display_markdown(f' #### Influence Score: {score}', raw = True)\n",
    "                print('\\n')\n",
    "            \n",
    "            influence_score[v] = score  \n",
    "        \n",
    "\n",
    "\n",
    "        \n",
    "#creating helper column\n"
   ]
  },
  {
   "cell_type": "code",
   "execution_count": null,
   "metadata": {},
   "outputs": [],
   "source": [
    "\n",
    "\n",
    "\n",
    "        \n",
    "\n",
    "\n",
    "\n",
    "        leader_list_uc = d['leader'].to_list()\n",
    "        leader_name_list_uc = (d['First Name']+\" \"+d['Last Name']).to_list()\n",
    "        chamber_list_uc = d['Chamber'].to_list()\n",
    "        party_list_uc = d['Party'].to_list()\n",
    "        chamber = list(set(chamber_list_uc))[0]\n",
    "        \n",
    "        \n",
    "\n",
    "\n",
    "        # print(leader_name_list_uc)\n",
    "\n",
    "        leaders_df = pd.DataFrame({\"name\": leader_name_list_uc,\"chamber\": chamber_list_uc, \"party\":party_list_uc,\"position\":leader_list_uc})\n",
    "        leaders_df = leaders_df.dropna(subset='position')\n",
    "\n",
    "\n",
    "        # print(leaders_df.to_string())\n",
    "        \n",
    "        \n",
    "        \n",
    "        \n",
    "        \n",
    "        dem_leaders = leaders_df[leaders_df['party'] == \"Democrat\"]\n",
    "        rep_leaders = leaders_df[leaders_df['party'] == \"Republican\"]\n",
    "\n",
    "        state_abv = re.findall(state_abv_pat, str(k))[0]\n",
    "        print(state_abv)\n",
    "        state_list = list(state_ref.values())\n",
    "        state_abbr_list = list(state_ref.keys())\n",
    "        # print(state_list)\n",
    "        # print(state_abbr_list)\n",
    "        if state_abv in state_list:\n",
    "            state_index = state_list.index(state_abv)\n",
    "            state = state_abbr_list[state_index]\n",
    "        else:\n",
    "            state = None  # Handle cases where the state abbreviation is not found\n",
    "\n",
    "        if state:\n",
    "            # Look up rankings for the specific state and chamber\n",
    "            look_up_df = rankings[\n",
    "                (rankings['state'].str.contains(state)) &\n",
    "                (rankings['chamber'].str.contains(chamber))\n",
    "            ]\n",
    "\n",
    "            \n",
    "        \n",
    "        \n",
    "\n",
    "        if majority_party == \"Democrat\":\n",
    "            print('Democrats are majority')\n",
    "            look_up_df_dems = look_up_df[(look_up_df['party_level'].str.contains('majority|[Dd]emocrat')) &\n",
    "                                          (look_up_df['chamber'].str.contains(f'{chamber}', regex=True))] \n",
    "            look_up_df_repub = look_up_df[(look_up_df['party_level'].str.contains('minority|[Rr]epublican', regex=True)) &\n",
    "                                          look_up_df['chamber'].str.contains(f'{chamber}', regex=True)] \n",
    "            display_markdown('## Democrats', raw = True)\n",
    "            display_markdown('### Lookup values', raw = True)\n",
    "            print(look_up_df_dems.to_string())\n",
    "            display_markdown('### Actual', raw = True)\n",
    "            print(dem_leaders.to_string())\n",
    "\n",
    "\n",
    "            display_markdown('## Republicans', raw = True)\n",
    "            display_markdown('### Lookup values', raw = True)\n",
    "            print(look_up_df_repub.to_string())\n",
    "            display_markdown('### Actual', raw = True)\n",
    "            print(rep_leaders.to_string())\n",
    "        \n",
    "            \n",
    "        else:\n",
    "            print('Republicans are majority')\n",
    "            look_up_df_repub = look_up_df[(look_up_df['party_level'].str.contains('majority|[Rr]epublican')) &\n",
    "                                          (look_up_df['chamber'].str.contains(f'{chamber}', regex=True))] \n",
    "            look_up_df_dems = look_up_df[(look_up_df['party_level'].str.contains('minority|[Dd]emocrat', regex=True)) &\n",
    "                                          look_up_df['chamber'].str.contains(f'{chamber}', regex=True)]\n",
    "\n",
    "            display_markdown('## Republicans', raw = True)\n",
    "            display_markdown('### Lookup values', raw = True)\n",
    "            print(look_up_df_repub.to_string())\n",
    "            display_markdown('### Actual', raw = True)\n",
    "            print(rep_leaders.to_string())\n",
    "            \n",
    "            display_markdown('## Democrats', raw = True)\n",
    "            display_markdown('### Lookup values', raw = True)\n",
    "            print(look_up_df_dems.to_string())\n",
    "            display_markdown('### Actual', raw = True)\n",
    "            print(dem_leaders.to_string())\n",
    "\n",
    "\n",
    "        \n",
    "        \n",
    "        # for i, l in enumerate(leaders_df['position']):\n",
    "\n",
    "            \n",
    "            \n",
    "            # state = state_ref.keys()[state_ref.values().index(state)]\n",
    "            # look_up_df = leader_rankings_df[\n",
    "            #     (leader_rankings_df['state'].str.contains(state)) & \n",
    "            #     (leader_rankings_df['chamber'].str.contains(chamber))\n",
    "            # ]\n",
    "            \n",
    "        \n"
   ]
  },
  {
   "cell_type": "code",
   "execution_count": null,
   "metadata": {},
   "outputs": [],
   "source": [
    "\n",
    "        if majority_party == \"\"\n",
    "        look_up_df_dems = look_up_df[look_up_df['party_level'].str.contains(f'{majority_party.lower()}|[]')] \n",
    "        # for i, l in enumerate(leaders_df['position']):\n",
    "\n",
    "            \n",
    "            \n",
    "            # state = state_ref.keys()[state_ref.values().index(state)]\n",
    "            # look_up_df = leader_rankings_df[\n",
    "            #     (leader_rankings_df['state'].str.contains(state)) & \n",
    "            #     (leader_rankings_df['chamber'].str.contains(chamber))\n",
    "            # ]\n",
    "            \n",
    "        \n"
   ]
  },
  {
   "cell_type": "code",
   "execution_count": null,
   "metadata": {},
   "outputs": [],
   "source": [
    "        party_list_uc = df['Party'].to_list()        \n",
    "        majority_party = find_majority_party(party_list_uc)\n",
    "        display_markdown(f' #### Majority Party: {majority_party}', raw = True)\n",
    "        dem_leaders = leaders_df[leaders_df['party'] == \"Democrat\"]\n",
    "        rep_leaders = leaders_df[leaders_df['party'] == \"Republican\"]\n",
    "        # print(dem_leaders.to_string())\n",
    "        # print('\\n')\n",
    "        # print(rep_leaders.to_string())\n",
    "\n",
    "\n",
    "\n",
    "        split_dfs = [dem_leaders,rep_leaders]\n",
    "        for i_s,s in enumerate(split_dfs):\n",
    "            if i_s == 0:\n",
    "                print(\"democrats\")\n",
    "            else:\n",
    "                print('republicans')\n",
    "            party = list(set(s['party'].to_list()))[0]\n",
    "            positions = s['position'].to_list()\n",
    "            # print(party)      \n",
    "            # print(majority_party)\n",
    "            p_index = []\n",
    "            position = []\n",
    "            if chamber == \"House\":\n",
    "                if majority_party == party:\n",
    "                    should_continue = False\n",
    "                    # print(f'positions before: {positions}')\n",
    "                    speaker_sub = 'Speaker'\n",
    "                    speaker_positions = [x for x in positions if speaker_sub in x]\n",
    "                    for sp in speaker_positions:\n",
    "                        if re.search(r'Speaker|Speaker of the House', sp.strip()):\n",
    "                            p_index.insert(0, 1)\n",
    "                            position.insert(0, str(sp))\n",
    "                        else:\n",
    "                            p_index.insert(1, 2)\n",
    "                            position.insert(1, str(sp))\n",
    "                        \n",
    "                        \n",
    "                        value_to_remove = str(sp)\n",
    "\n",
    "                        positions = [x for x in positions if x != value_to_remove]\n",
    "                    \n",
    "                    \n",
    "                    \n",
    "                # print(f'positions after: {positions}')\n",
    "                m_leader_subs = 'Leader'\n",
    "                m_lead_positions = [x for x in positions if re.search(r'(Majority|Minority)\\sLeader', str(x))]\n",
    "                print(f'm_leader positions: {m_lead_positions}')\n",
    "\n",
    "                m_lead_positions = list(set(m_lead_positions))\n",
    "\n",
    "                # m_lead_list = []\n",
    "                # if len(m_lead_positions) > 1:\n",
    "                #     for ml in m_lead_positions:\n",
    "                #         if len(m_lead_list) == 0:\n",
    "\n",
    "                #         print(ml)\n",
    "                # elif len(m_lead_positions) == 0:\n",
    "                #     print('no majority leaders')\n",
    "                # else:\n",
    "                #     print(f'{m_lead_positions[0]} is the only leader')\n",
    "\n",
    "                \n",
    "\n",
    "                    # print(f'majority leader positions: {maj_lead_positions}')\n",
    "\n",
    "\n",
    "                    # print(speaker_positions)\n",
    "                    # speaker_positions = re.findall(r'[Ss]peaker', positions)\n",
    "                    # print(speaker_positions)\n",
    "\n",
    "\n",
    "state position\n",
    "       state           position chamber\n",
    "0    Alabama            Speaker   House\n",
    "1    Alabama    Speaker pro tem   House\n",
    "2    Alabama    Majority leader   House\n",
    "3    Alabama    Minority leader   House\n",
    "\n",
    "449  Alabama          President  Senate\n",
    "450  Alabama  President pro tem  Senate\n",
    "451  Alabama    Majority leader  Senate\n",
    "452  Alabama    Minority leader  Senate\n",
    "\n"
   ]
  },
  {
   "cell_type": "code",
   "execution_count": null,
   "metadata": {},
   "outputs": [],
   "source": [
    "\n",
    "                    \n",
    "                    for i,p in enumerate(positions):\n",
    "                        # print(f'position {i}: ', p)\n",
    "                        print(f'position: {p}')\n",
    "                        if 'speaker' in str(p).lower():\n",
    "                            \n",
    "                            if 'Tempore' in str(p):\n",
    "                                position.append(p)\n",
    "                                # len(p_index)\n",
    "                                p_index.append(1)\n",
    "                                # del positions[i]\n",
    "                                # print(f'deleting {str(position[i])}')\n",
    "                                # should_continue = True\n",
    "                            else:\n",
    "                                position.append(p)\n",
    "                                p_index.append(0)\n",
    "                                # del positions[i]\n",
    "\n",
    "                        else:\n",
    "\n",
    "                            maj_leaders = re.findall(r'[Mm]ajority [Ll]eader', str(p))\n",
    "                            print(len(maj_leaders))\n",
    "                        # print(f'The rest of the positions in the {party} : ')\n",
    "                        # print(positions)\n",
    "                        \n",
    "\n",
    "                        # maj_leader_positions = re.findall(r'Leader', str(p))\n",
    "                        # print(maj_leader_positions)\n",
    "\n",
    "                        \n",
    "                        \n",
    "                        \n",
    "                                \n",
    "                            \n",
    "                        \n",
    "                            \n",
    "   \n",
    "\n",
    "            ##majority party\n",
    "            #look for the speaker\n",
    "            #look for speaker pro tempore\n",
    "\n",
    "\n",
    "        \n",
    "        # print(\"leader list\", len(leader_list_uc))\n",
    "        # print(\"leader name list\", len(leader_name_list_uc))\n",
    "\n",
    "        # if len(leader_list_uc) == len(leader_name_list_uc):\n",
    "        #     print(\"Pass\")\n",
    "            \n",
    "        # else:\n",
    "        #     print(\"FAIL\")\n",
    "        #     print(\"leader list\", len(leader_list_uc))\n",
    "        #     print(\"leader name list\", len(leader_name_list_uc))\n",
    "\n",
    "    print('\\n')\n",
    "            \n",
    "        # leader_list = [x for x in leader_list_uc if not isinstance(x, float)]\n",
    "        # leader_list = list(set(leader_list))\n",
    "       \n",
    "        # print(bordered('\\n'.join(leader_list)))\n",
    "\n",
    "        # party_list_uc = df['Party'].to_list()\n",
    "        # party_list = [x for x in party_list_uc if not isinstance(x, float)]\n",
    "        # party_list = list(set(party_list))\n",
    "        # majority_party = find_majority_party(party_list_uc)\n",
    "\n",
    "\n",
    "    \n",
    "    # print(bordered('\\n'.join(party_list)))\n",
    "        \n",
    "    \n",
    "\n",
    "    \n",
    "    # print(*leader_list, sep=' ; ')\n",
    "    \n",
    "    # print(len(df['leader'].to_list()))\n",
    "\n",
    "    # print(len(df_cl['leader']))\n",
    "\n"
   ]
  },
  {
   "cell_type": "code",
   "execution_count": null,
   "metadata": {},
   "outputs": [],
   "source": [
    "\n",
    "    \n",
    "    for i,j in enumerate(df['leader']):\n",
    "        print('j')\n",
    "        leader_values[k] = \n",
    "    # dfs[k] = v.iloc[:,8]    \n",
    "    print('#############')\n",
    "    print(k)\n",
    "    print(v.columns)\n",
    "    print('\\n')\n",
    "    \n",
    "    \n"
   ]
  },
  {
   "cell_type": "code",
   "execution_count": null,
   "metadata": {},
   "outputs": [],
   "source": []
  }
 ],
 "metadata": {
  "kernelspec": {
   "display_name": "hunt_env",
   "language": "python",
   "name": "python3"
  },
  "language_info": {
   "codemirror_mode": {
    "name": "ipython",
    "version": 3
   },
   "file_extension": ".py",
   "mimetype": "text/x-python",
   "name": "python",
   "nbconvert_exporter": "python",
   "pygments_lexer": "ipython3",
   "version": "3.12.5"
  }
 },
 "nbformat": 4,
 "nbformat_minor": 2
}
