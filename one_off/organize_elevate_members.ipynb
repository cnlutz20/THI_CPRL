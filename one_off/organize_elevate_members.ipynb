{
 "cells": [
  {
   "cell_type": "code",
   "execution_count": 9,
   "metadata": {},
   "outputs": [],
   "source": [
    "import pandas as pd\n",
    "import pyperclip\n",
    "import numpy as np\n",
    "import re\n",
    "from cprl_functions.defined_functions import extract_title_and_name"
   ]
  },
  {
   "cell_type": "markdown",
   "metadata": {},
   "source": [
    "## Elevate\n",
    "link to elevate members list\n",
    "https://huntinstitute.sharepoint.com/:w:/g/EfKqws-V5KRIuY6ufT3o5GABPSAremTNW0d6UctoJyl48w?e=KtioDA"
   ]
  },
  {
   "cell_type": "code",
   "execution_count": 10,
   "metadata": {},
   "outputs": [],
   "source": [
    "elevate_members = pyperclip.paste()\n"
   ]
  },
  {
   "cell_type": "code",
   "execution_count": 11,
   "metadata": {},
   "outputs": [
    {
     "name": "stdout",
     "output_type": "stream",
     "text": [
      "['Elevate NC Cohort', '2023-2024', 'Yolanda Adams | Watauga County Schools', 'Dr. Margaret Annunziata | Isothermal Community College', 'Dr. Gary Brown | Elizabeth City State University', 'Monica Clark | The Belk Center for Community College Leadership and Research', 'Superintendent Dr. Eisa Cox | Ashe County Schools', 'Dr. Mark D’Amico | University of North Carolina at Charlotte', 'Jamey Falkenbury | North Carolina Department of Public Instruction', 'Crystal Folger-Hawks | Surry Community College', 'Dr. Eric Fotheringham | UNC System', 'Angel Garcia | University of North Carolina Wilmington', 'Kate Groat | Live Oak Bank', 'Perry Harker | Carteret Community College', 'Commissioner Viola Harris | Edgecombe County', 'Keisha Jones | Davidson-Davie Community College', 'Dr. Caleb Marsh | Wilkes Community College', 'Commissioner Todd McNeill | Ashe County', 'Dwight Miller | John M. Belk Endowment', 'Dr. Heather Miller | Wingate University', 'Senator Natalie Murdock | North Carolina General Assembly', 'Representative Lindsey Prather | North Carolina General Assembly', 'President Melissa Singler | Robeson Community College', 'Dr. Johnny Smith | Robeson Community College', 'Representative Frank Sossamon | North Carolina General Assembly', 'Gina Zhang | myFutureNC', '2022-2023', 'Senator Sydney Batch | North Carolina General Assembly', 'Nimasheena Burns | Durham County', 'Dr. Angela Alvarado Coleman | North Carolina Central University', 'Senator Kevin Corbin | North Carolina General Assembly', 'Senator Sarah Crawford | North Carolina General Assembly', 'Dr. John D. Denning | John M. Belk Endowment', 'Dr. Andrea DeSantis | Office of Governor Roy Cooper', 'Abraham Dones | Durham Technical Community College', 'Dr. Kim Evans | North Carolina Department of Public Instruction', 'Jon Harris | Office of the Lieutenant Governor Mark Robinson', 'Representative Zack Hawkins | North Carolina General Assembly', 'Tai Huynh | Town of Chapel Hill', 'Bruce A. Johnson | Central Piedmont Community College', 'Dr. Shonda Jones | Wake Forest University', 'Representative Raymond E. Smith Jr. | North Carolina General Assembly', 'Dr. Chris Marsicano | Davidson College', 'Dr. Ashley McMillan | The University of North Carolina at Pembroke', 'Dr. Brian S. Merritt | McDowell Technical Community College', 'Chris Rivera | GuilfordWorks', 'Corinne Smith | Appalachian State University', 'Maureen Stover | NC Virtual Public School', 'Emily Thomas | EducationNC', 'Representative David A. Willis | North Carolina General Assembly', '2021-2022', 'Alvin Atkinson | Winston-Salem State University', 'Dr. Jim Beeler | Appalachian State University', 'Senator Jim Burgin | NC Senate', 'Dr. Monique Colclough | Belk Center for Community College Leadership and Research', 'Dr. Patrick Crane | North Carolina Community College System', 'Dr. Robin Cummings | University of North Carolina at Pembroke', 'Dr. David English | University of North Carolina System', 'Senator Amy Galey | NC Senate', 'Representative Julie von Haefen | NC General Assembly', 'Nation Hahn | EducationNC', 'Karen Howard | Chatham County Board of Commissioners', 'Representative Ricky Hurtado | NC General Assembly', 'Tracey Johnson | Washington County Board of Commissioners', 'Freebird McKinney | NC State Board of Education & NC Department of Public Instruction', 'Andrew Meehan | Relate Advocacy', 'Andrea Poole | North Carolina State Education Assistance Authority', 'Mark Reed | John M. Belk Endowment', 'Dr. Lawrence Rouse | Pitt Community College', 'Dr. Jennifer Servi-Roberts | Central Carolina Community College', 'Sneha Shah-Coltrane | NC Department of Public Instruction', 'Dr. Andrew Sioberg | NC Department of Public Instruction', 'Representative John Torbett | NC General Assembly', 'Tabari Wallace | Advisor, North Carolina Superintendent of Public Instruction', 'Dr. Tony Watlington | Rowan-Salisbury Schools', 'Dr. Stelfanie Williams | Duke University', '2020-2021', 'Dr. Tawannah Allen | High Point University', 'Kevin Austin | Yadkin County Commissioners', 'Senator Deanna Ballard | NC General Assembly', 'Dr. Valerie Bridges | Edgecombe County Public Schools', 'Dr. Jason J. Caldwell | NC A&T State University', \"Geoff Coltrane | Governor Roy Cooper's Office\", 'Dr. Sharon Contreras | Guilford County Schools', 'Eric Davis | NC State Board of Education', 'Dr. Algie Gatewood | Alamance Community College', 'Joe Gonzalez | Duke University', 'Freda Hicks | NC Central University', 'Kevin Howell | NC State University', 'Representative Rachel Hunt | NC General Assembly', 'Representative Pat Hurley | NC General Assembly', 'David Jackson | Boone Area Chamber of Commerce', 'Chuck Kaylor | John M. Belk Endowment', 'Andrew P. Kelly | UNC System', 'Mariah Morris | Moore County Schools', 'L. David Mounts | Inmar Intelligence', 'Tony Murphy | Fayetteville Technical Community College', 'Nathan Ramsey | Land-of-Sky Regional Council', 'Mebane Rash | EducationNC', 'Representative Robert Reives | NC General Assembly', 'Jenna Robinson | The James G. Martin Center for Academic Renewal', 'Dr. Carol S. Spalding | Rowan-Cabarrus Community College', 'Kristi Walters | The Duke Endowment', '', '']\n"
     ]
    }
   ],
   "source": [
    "elevate_members_l = elevate_members.replace('•\t', '').replace('\\r', '').split('\\n')\n",
    "print(elevate_members_l)\n"
   ]
  },
  {
   "cell_type": "code",
   "execution_count": 12,
   "metadata": {},
   "outputs": [],
   "source": [
    "\n",
    "elevate_members_df = pd.DataFrame({'raw_data': elevate_members_l})\n",
    "elevate_members_df['name'] = np.nan\n",
    "elevate_members_df['year'] = np.nan"
   ]
  },
  {
   "cell_type": "code",
   "execution_count": 13,
   "metadata": {},
   "outputs": [
    {
     "name": "stdout",
     "output_type": "stream",
     "text": [
      "raw_data, name, year\n"
     ]
    }
   ],
   "source": [
    "for i,j in enumerate(elevate_members_df['raw_data']):\n",
    "    if re.search(r'\\d{4}-\\d{4}', str(j)):\n",
    "        elevate_members_df.loc[i,'year'] = j\n",
    "    elif re.search(r'\\s\\|\\s', str(j)):\n",
    "        elevate_members_df.loc[i,'name'] = j\n",
    "        elevate_members_df\n",
    "elevate_members_df = elevate_members_df.dropna(subset=['name', 'year'], how = 'all')\n",
    "elevate_members_df['year'] = elevate_members_df['year'].ffill()\n",
    "print(*elevate_members_df.columns, sep = ', ')"
   ]
  },
  {
   "cell_type": "code",
   "execution_count": 14,
   "metadata": {},
   "outputs": [],
   "source": [
    "elevate_members_df = elevate_members_df.loc[:,['name', 'year']]\n",
    "elevate_members_df = elevate_members_df.dropna(subset=['name'], how = 'all')"
   ]
  },
  {
   "cell_type": "code",
   "execution_count": 15,
   "metadata": {},
   "outputs": [
    {
     "name": "stdout",
     "output_type": "stream",
     "text": [
      "2                  Yolanda Adams\n",
      "3        Dr. Margaret Annunziata\n",
      "4                 Dr. Gary Brown\n",
      "5                   Monica Clark\n",
      "6    Superintendent Dr. Eisa Cox\n",
      "Name: name, dtype: object\n"
     ]
    }
   ],
   "source": [
    "elevate_members_df['title'] = elevate_members_df['name'].str.split('|').str[-1].str.strip() \n",
    "elevate_members_df['name'] = elevate_members_df['name'].str.split('|').str[0].str.strip() \n",
    "print(elevate_members_df['name'].head())  # Check first few values"
   ]
  },
  {
   "cell_type": "code",
   "execution_count": 16,
   "metadata": {},
   "outputs": [],
   "source": [
    "elevate_members_df['clean name'] = elevate_members_df['name'].apply(\n",
    "    lambda x: pd.Series(extract_title_and_name(x))\n",
    ")"
   ]
  },
  {
   "cell_type": "code",
   "execution_count": null,
   "metadata": {},
   "outputs": [
    {
     "ename": "",
     "evalue": "",
     "output_type": "error",
     "traceback": [
      "\u001b[1;31mThe Kernel crashed while executing code in the current cell or a previous cell. \n",
      "\u001b[1;31mPlease review the code in the cell(s) to identify a possible cause of the failure. \n",
      "\u001b[1;31mClick <a href='https://aka.ms/vscodeJupyterKernelCrash'>here</a> for more info. \n",
      "\u001b[1;31mView Jupyter <a href='command:jupyter.viewOutput'>log</a> for further details."
     ]
    }
   ],
   "source": [
    "\n",
    "elevate_members_df['first_name'] = elevate_members_df['clean name'].str.split(' ').str[0].str.strip()\n",
    "elevate_members_df['last_name'] = elevate_members_df['clean name'].str.split(' ').str[-1].str.strip()\n",
    "\n",
    "\n",
    "elevate_members_df = elevate_members_df.loc[:,['clean name', 'first_name', 'last_name', 'title', 'year']].reset_index(drop=True)\n",
    "\n",
    "elevate_members_df.to_csv(r'C:\\Users\\clutz\\THE HUNT INSTITUTE\\The Hunt Institute Team Site - Documents\\Development (formerly Grants Management)\\!Administrative\\Christian\\Legislators Data\\dev programs\\cleaned\\elevate_program.csv', index=False)\n"
   ]
  },
  {
   "cell_type": "markdown",
   "metadata": {},
   "source": [
    "## EC Policy Academy"
   ]
  },
  {
   "cell_type": "code",
   "execution_count": 7,
   "metadata": {},
   "outputs": [],
   "source": [
    "ec_pa_file = r\"C:\\Users\\clutz\\THE HUNT INSTITUTE\\The Hunt Institute Team Site - Documents\\Development (formerly Grants Management)\\!Administrative\\Christian\\Legislators Data\\dev programs\\ec_policy_academy.xlsx\"\n",
    "ec_pa_df = pd.read_excel(ec_pa_file)\n",
    "\n",
    "ec_pa_df['clean name'] = ec_pa_df['participant'].apply(\n",
    "    lambda x: pd.Series(extract_title_and_name(x))\n",
    ")\n",
    "ec_pa_df['first_name'] = ec_pa_df['clean name'].str.split(' ').str[0].str.strip()\n",
    "ec_pa_df['last_name'] = ec_pa_df['clean name'].str.split(' ').str[-1].str.strip()\n",
    "\n",
    "\n",
    "ec_pa_df = ec_pa_df.loc[:,['clean name', 'first_name', 'last_name', 'state', 'year','participant', 'role']]\n",
    "\n",
    "ec_pa_df.to_csv(r'C:\\Users\\clutz\\THE HUNT INSTITUTE\\The Hunt Institute Team Site - Documents\\Development (formerly Grants Management)\\!Administrative\\Christian\\Legislators Data\\dev programs\\cleaned\\ec_policy_academy.csv', index = False)\n",
    "\n"
   ]
  },
  {
   "cell_type": "markdown",
   "metadata": {},
   "source": [
    "Split the 'name' column into two parts based on '|', take the second part, and strip it<br>\n",
    "elevate_members_df['title'] = elevate_members_df['name'].str.split('|', 1).str[-1].str.strip()"
   ]
  },
  {
   "cell_type": "markdown",
   "metadata": {},
   "source": [
    "%%"
   ]
  }
 ],
 "metadata": {
  "kernelspec": {
   "display_name": "hunt_env",
   "language": "python",
   "name": "python3"
  },
  "language_info": {
   "codemirror_mode": {
    "name": "ipython",
    "version": 3
   },
   "file_extension": ".py",
   "mimetype": "text/x-python",
   "name": "python",
   "nbconvert_exporter": "python",
   "pygments_lexer": "ipython3",
   "version": "3.12.5"
  }
 },
 "nbformat": 4,
 "nbformat_minor": 2
}
