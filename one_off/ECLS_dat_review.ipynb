{
 "cells": [
  {
   "cell_type": "markdown",
   "metadata": {},
   "source": [
    "# ECLS Attendance"
   ]
  },
  {
   "cell_type": "code",
   "execution_count": 36,
   "metadata": {},
   "outputs": [],
   "source": [
    "#imports\n",
    "import os, sys, json, datetime  # Provides OS-dependent functionality, system-specific parameters, JSON handling, and date/time manipulation\n",
    "import pandas as pd             # Provides data structures and data analysis tools\n",
    "import numpy as np              # Supports large, multi-dimensional arrays and matrices\n",
    "import requests\n",
    "import time\n",
    "import glob\n",
    "import re\n",
    "from tqdm import tqdm\n",
    "import shutil\n",
    "from cprl_functions.state_capture import state_ref, state_ref_r"
   ]
  },
  {
   "cell_type": "code",
   "execution_count": null,
   "metadata": {},
   "outputs": [],
   "source": [
    "for k,v in state_ref.items():\n",
    "    print(k,v)"
   ]
  },
  {
   "cell_type": "code",
   "execution_count": null,
   "metadata": {},
   "outputs": [
    {
     "name": "stdout",
     "output_type": "stream",
     "text": [
      "341\n"
     ]
    }
   ],
   "source": [
    "ecls_atten_file = r\"C:\\Users\\clutz\\OneDrive - THE HUNT INSTITUTE\\Documents\\Data\\attendance data\\ECLS_2024_v2.xlsx\"\n",
    "attendance = pd.read_excel(ecls_atten_file)\n",
    "attendance\n"
   ]
  },
  {
   "cell_type": "code",
   "execution_count": null,
   "metadata": {},
   "outputs": [],
   "source": []
  },
  {
   "cell_type": "code",
   "execution_count": null,
   "metadata": {},
   "outputs": [],
   "source": [
    "att_types = []\n",
    "for i,j in enumerate(attendance['state']):\n",
    "    att_types.append(j)\n",
    "\n",
    "state_list = list(set(att_types))\n",
    "state_list = [state for state in state_list if str(state) != 'nan']\n",
    "print(sorted(state_list))\n",
    "\n",
    "abs = []\n",
    "for s in state_list:\n",
    "    abv = state_ref.get(s)\n",
    "    if abv is None:\n",
    "        continue\n",
    "    else:\n",
    "        abs.append(abv)\n",
    "\n",
    "print(*abs, sep = \"\\n\")\n",
    "\n",
    "\n",
    "# for i,j in enumerate(attendance.iloc[:,:]):\n",
    "#     print(j)"
   ]
  },
  {
   "cell_type": "code",
   "execution_count": null,
   "metadata": {},
   "outputs": [],
   "source": []
  },
  {
   "cell_type": "code",
   "execution_count": null,
   "metadata": {},
   "outputs": [],
   "source": [
    "for i,(a,b) in enumerate(zip(attendance['first_name'], attendance['last_name'])):\n",
    "    print(i)\n",
    "    print(str(a)+ \" \" + str(b))"
   ]
  }
 ],
 "metadata": {
  "kernelspec": {
   "display_name": "hunt_env",
   "language": "python",
   "name": "python3"
  },
  "language_info": {
   "codemirror_mode": {
    "name": "ipython",
    "version": 3
   },
   "file_extension": ".py",
   "mimetype": "text/x-python",
   "name": "python",
   "nbconvert_exporter": "python",
   "pygments_lexer": "ipython3",
   "version": "3.12.5"
  }
 },
 "nbformat": 4,
 "nbformat_minor": 2
}
