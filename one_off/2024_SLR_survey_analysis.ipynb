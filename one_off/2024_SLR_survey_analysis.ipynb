{
 "cells": [
  {
   "cell_type": "code",
   "execution_count": 1,
   "metadata": {},
   "outputs": [],
   "source": [
    "import os, sys, json, datetime  # Provides OS-dependent functionality, system-specific parameters, JSON handling, and date/time manipulation\n",
    "import pandas as pd             # Provides data structures and data analysis tools\n",
    "import numpy as np              # Supports large, multi-dimensional arrays and matrices\n",
    "import requests\n",
    "import time\n",
    "import glob\n",
    "import re\n",
    "from tqdm import tqdm\n",
    "import shutil"
   ]
  },
  {
   "cell_type": "code",
   "execution_count": 29,
   "metadata": {},
   "outputs": [],
   "source": [
    "file = r'C:\\Users\\clutz\\OneDrive - THE HUNT INSTITUTE\\Documents\\Data\\tableau\\survey view\\data sources\\master_survey_sheet.csv'\n",
    "survey_data = pd.read_csv(file)\n",
    "\n",
    "\n",
    "slrs = survey_data[survey_data.event.str.contains(r'SLR|HLR', regex=True)]\n",
    "\n",
    "\n",
    "early_care = slrs[slrs.question.str.contains(r'Early Care', regex=True)]\n",
    "early_care.reset_index(drop = True, inplace = True)\n",
    "\n",
    "\n",
    "# How likely are you to use information and/or policies you learned about at the Retreat to inform your work to improve education?\n",
    "# Overall, I found the Retreat useful in growing my understanding in education policy topics.\n",
    "\n",
    "q_1 = slrs[slrs.question.str.contains(r'likely are you to use information .+ policies you learned about .+ to inform your work to improve education', regex=True)]\n",
    "q_2 = slrs[slrs.question.str.contains(r'growing my understanding in education policy topics', regex=True)]\n",
    "\n",
    "q_1.reset_index(drop = True, inplace = True)\n",
    "q_2.reset_index(drop = True, inplace = True)"
   ]
  },
  {
   "cell_type": "code",
   "execution_count": 32,
   "metadata": {},
   "outputs": [
    {
     "name": "stderr",
     "output_type": "stream",
     "text": [
      "C:\\Users\\clutz\\AppData\\Local\\Temp\\ipykernel_35764\\1002207046.py:14: SettingWithCopyWarning: \n",
      "A value is trying to be set on a copy of a slice from a DataFrame.\n",
      "Try using .loc[row_indexer,col_indexer] = value instead\n",
      "\n",
      "See the caveats in the documentation: https://pandas.pydata.org/pandas-docs/stable/user_guide/indexing.html#returning-a-view-versus-a-copy\n",
      "  early_care['response'] = pd.to_numeric(early_care['response'], errors='coerce')\n"
     ]
    },
    {
     "data": {
      "text/plain": [
       "np.float64(4.41603224361845)"
      ]
     },
     "execution_count": 32,
     "metadata": {},
     "output_type": "execute_result"
    }
   ],
   "source": [
    "# grouped_df = q_1.groupby('event')['response'].mean(skipna=True).reset_index()\n",
    "    # 'respondent': 'first',\n",
    "    # 'last_name': 'first',\n",
    "    # 'honorific': 'first',\n",
    "    # 'title': 'first',\n",
    "    # 'org': 'first',\n",
    "    # 'district': 'first',\n",
    "    # 'state': 'first',\n",
    "    # 'event name': lambda x: '|'.join(\n",
    "    #     f\"{sc} ({ac})\" if not pd.isna(ac) else f\"{sc}\"\n",
    "    #     for sc, ac in zip(thi_states_df.loc[x.index, 'event name'], thi_states_df.loc[x.index, 'role'])),\n",
    "\n",
    "\n",
    "early_care['response'] = pd.to_numeric(early_care['response'], errors='coerce')\n",
    "\n",
    "grouped_ec_df = early_care.groupby(['event', 'question']).agg(\n",
    "    response_mean=('response', 'mean'))\n",
    "\n",
    "grouped_ec_df['response_mean'].mean()\n"
   ]
  },
  {
   "cell_type": "code",
   "execution_count": null,
   "metadata": {},
   "outputs": [],
   "source": [
    "\n",
    "q_1['response'] = pd.to_numeric(q_1['response'], errors='coerce')\n",
    "\n",
    "grouped_q1_df = q_1.groupby('event').agg(\n",
    "    response_mean=('response', 'mean'))\n",
    "\n",
    "#question for showing growing understanding in education policy topics\n",
    "q_2['response'] = pd.to_numeric(q_2['response'], errors='coerce')\n",
    "\n",
    "grouped_q2_df = q_2.groupby('event').agg(\n",
    "    response_mean=('response', 'mean'))\n",
    "\n",
    "# print(grouped_q2_df.columns())\n",
    "type(grouped_q2_df)\n",
    "print(grouped_q2_df.columns)\n",
    "\n",
    "\n",
    "grouped_q2_df['response_mean'].mean()\n",
    "\n"
   ]
  },
  {
   "cell_type": "code",
   "execution_count": 28,
   "metadata": {},
   "outputs": [
    {
     "name": "stdout",
     "output_type": "stream",
     "text": [
      "How likely are you to use information and/or policies you learned about at the Retreat to inform your work to improve education?\n",
      "               response_mean\n",
      "event                       \n",
      "HLR 2024            4.629630\n",
      "ND SLR 2024         4.517241\n",
      "OH SLR              4.500000\n",
      "OK SLR 2024         4.535714\n",
      "WV SLR 2024         4.636364\n",
      "WV SLR 2024         4.636364\n",
      "Overall, I found the Retreat useful in growing my understanding in education policy topics.\n",
      "               response_mean\n",
      "event                       \n",
      "HLR 2024            4.777778\n",
      "ND SLR 2024         4.566667\n",
      "OH SLR              4.714286\n",
      "OK SLR 2024         4.785714\n",
      "WV SLR 2024         4.636364\n",
      "WV SLR 2024         4.636364\n"
     ]
    }
   ],
   "source": [
    "\n",
    "\n",
    "print(q_1.at[0, 'question'])\n",
    "print(grouped_q1_df.to_string())\n",
    "print(q_2.at[0, 'question'])\n",
    "print(grouped_q2_df.to_string())"
   ]
  }
 ],
 "metadata": {
  "kernelspec": {
   "display_name": "hunt_env",
   "language": "python",
   "name": "python3"
  },
  "language_info": {
   "codemirror_mode": {
    "name": "ipython",
    "version": 3
   },
   "file_extension": ".py",
   "mimetype": "text/x-python",
   "name": "python",
   "nbconvert_exporter": "python",
   "pygments_lexer": "ipython3",
   "version": "3.12.5"
  }
 },
 "nbformat": 4,
 "nbformat_minor": 2
}
