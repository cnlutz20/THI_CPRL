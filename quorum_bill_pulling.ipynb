{
 "cells": [
  {
   "cell_type": "markdown",
   "metadata": {},
   "source": [
    "## Setup"
   ]
  },
  {
   "cell_type": "code",
   "execution_count": 1,
   "metadata": {},
   "outputs": [
    {
     "name": "stdout",
     "output_type": "stream",
     "text": [
      "AL 10\n",
      "AK 11\n",
      "AZ 12\n",
      "AR 13\n",
      "CA 14\n",
      "CO 15\n",
      "CT 16\n",
      "DE 17\n",
      "FL 18\n",
      "GA 19\n",
      "HI 20\n",
      "ID 21\n",
      "IL 22\n",
      "IN 23\n",
      "IA 24\n",
      "KS 25\n",
      "KY 26\n",
      "LA 27\n",
      "ME 28\n",
      "MD 29\n",
      "MA 30\n",
      "MI 31\n",
      "MN 32\n",
      "MS 33\n",
      "MO 34\n",
      "MT 35\n",
      "NE 36\n",
      "NV 37\n",
      "NH 38\n",
      "NJ 39\n",
      "NM 40\n",
      "NY 41\n",
      "NC 42\n",
      "ND 43\n",
      "OH 44\n",
      "OK 45\n",
      "OR 46\n",
      "PA 47\n",
      "RI 48\n",
      "SC 49\n",
      "SD 50\n",
      "TN 51\n",
      "TX 52\n",
      "UT 53\n",
      "VT 54\n",
      "VA 55\n",
      "WA 56\n",
      "WV 57\n",
      "WI 58\n",
      "WY 59\n",
      "DC 60\n"
     ]
    }
   ],
   "source": [
    "#imports\n",
    "import os, sys, json, datetime, re # Provides OS-dependent functionality, system-specific parameters, JSON handling, and date/time manipulation\n",
    "import pandas as pd             # Provides data structures and data analysis tools\n",
    "import numpy as np              # Supports large, multi-dimensional arrays and matrices\n",
    "import ast\n",
    "import requests\n",
    "import urllib3\n",
    "import time\n",
    "import glob\n",
    "from tqdm import tqdm\n",
    "urllib3.disable_warnings(urllib3.exceptions.InsecureRequestWarning)\n",
    "from bs4 import BeautifulSoup\n",
    "# from pandas.core.common import SettingWithCopyWarning\n",
    "\n",
    "from cprl_functions.state_capture import thi_states,state_ref, state_coding, state_pat, state_abv_pat\n",
    "from cprl_functions.defined_functions import create_pk, add_seats\n",
    "\n",
    "from IPython.display import display_markdown\n"
   ]
  },
  {
   "cell_type": "markdown",
   "metadata": {},
   "source": [
    "## Data Gathering"
   ]
  },
  {
   "cell_type": "code",
   "execution_count": 2,
   "metadata": {},
   "outputs": [],
   "source": [
    "# #get most recent file\n",
    "# os.chdir(r'C:\\Users\\clutz\\OneDrive - THE HUNT INSTITUTE\\Documents\\Data\\quorum\\bill data downloads')\n",
    "# files = glob.glob('*.xlsx')\n",
    "\n",
    "# if len(files) > 1:\n",
    "#     max_mtime = 0\n",
    "#     for file in files:\n",
    "#         mtime = os.stat(file).st_mtime\n",
    "#         if mtime > max_mtime:\n",
    "#             max_mtime = mtime\n",
    "#             max_file = file\n",
    "\n",
    "#     bill_file = max_file\n",
    "\n",
    "# else:\n",
    "#     bill_file = files[0]\n",
    "\n"
   ]
  },
  {
   "cell_type": "code",
   "execution_count": 3,
   "metadata": {},
   "outputs": [],
   "source": [
    "all_states = r\"C:\\Users\\clutz\\Downloads\\all_states_bills (1).xlsx\""
   ]
  },
  {
   "cell_type": "code",
   "execution_count": 4,
   "metadata": {},
   "outputs": [
    {
     "data": {
      "text/plain": [
       "'\\nBills Data Pull_v2\\tRegion Abbreviation \\tBill Label without Title\\tTitle (no number)\\tAI Summary\\tOfficial Summary\\tSponsors List\\tStatus Text\\tStatus Date\\tLast Timeline Action\\tSource Link\\tLast Timeline Action Date\\tDate Introduced\\tDetailed Status Date\\tDetailed Status\\n\\n'"
      ]
     },
     "execution_count": 4,
     "metadata": {},
     "output_type": "execute_result"
    }
   ],
   "source": [
    "#df creation\n",
    "all_bills = pd.read_excel(all_states)\n",
    "all_bills.columns = ['full_bill_label','bill_label', 'state','title', 'bill_sum','sponsors','status','status_date','detailed_status','quorum_link']\n",
    "\n",
    "'''\n",
    "Bills Data Pull_v2\tRegion Abbreviation \tBill Label without Title\tTitle (no number)\tAI Summary\tOfficial Summary\tSponsors List\tStatus Text\tStatus Date\tLast Timeline Action\tSource Link\tLast Timeline Action Date\tDate Introduced\tDetailed Status Date\tDetailed Status\n",
    "\n",
    "'''\n",
    "\n",
    "# %% early ed bills\n",
    "# ec_subs =  [\n",
    "#     \"Child Care Comn\",\n",
    "#     \"Day Care\",\n",
    "#     \"Early Childhood Education\",\n",
    "#     \"Newborns & Infants\",\n",
    "#     \"Partnership For Children\",\n",
    "#     \"Social Services\"\n",
    "# ]\n",
    "\n"
   ]
  },
  {
   "cell_type": "code",
   "execution_count": 5,
   "metadata": {},
   "outputs": [
    {
     "name": "stdout",
     "output_type": "stream",
     "text": [
      "S.2498A: Relates to including providing onsite child daycare facilities by a project into a uniform tax exemption policy\n",
      "###################\n",
      "H.B.6208: Children: child care; immunization for day care providers; require. Amends 1973 PA 116 (MCL 722.111 - 722.128) by adding sec. 3m.\n",
      "###################\n",
      "A.B.772: Child day care facilities.\n",
      "###################\n",
      "A.B.2317: Child day care facilities: anaphylactic policy.\n",
      "###################\n",
      "A.2243: Allows gross income tax credit for certain child care staff and registered family day care providers.\n",
      "###################\n",
      "S.B.3207: Child Care-Day Care Center\n",
      "###################\n",
      "H.B.5596: Day Care-Military Children\n",
      "###################\n",
      "H.B.1584: Relative to Home Day Care Licensing Requirements.\n",
      "###################\n",
      "H.B.1056: Relative to Child Day Care Licensing.\n",
      "###################\n",
      "A.10599: Relates to the retail sale and on-site consumption of cannabis within one thousand feet of a school or child day care center\n",
      "###################\n",
      "Relating to providing for the establishment of county daycares.\n",
      "###################\n",
      "Prohibiting locating certain homeless facilities near schools and certain daycares\n",
      "###################\n",
      "AN ACT to amend and reenact subsection36 of section 57‑02‑08 of the North Dakota Century Code, relating to a property tax exemption for property leased for the provision of early childhood or adult day care services; and to provide an effective date.\n",
      "###################\n",
      "Eliminate the bond required to start an independent daycare business\n",
      "###################\n",
      "A BILL for an Act to create and enact a new section to chapter 23‑07 of the North Dakota Century Code, relating to limitations on vaccinations requirements; to amend and reenact subsection2 of section 15.1‑23‑02 and section 23‑01‑05.3 of the North Dakota Century Code, relating to immunization records and data; and to repeal section 23‑07‑17.1 of the North Dakota Century Code, relating to immunizations required for entry to school or day care.\n",
      "###################\n",
      "15\n"
     ]
    }
   ],
   "source": [
    "#looking through and testing various titles and descriptions\n",
    "# ed_bills = all_bills.loc[all_bills['title'].notna() & all_bills['title'].str.contains(r'.*[Ee]ducation.*|.*[Cc]hild.*|.*[Ss]chool.*|.*[Cc]harter.*|.*[Mm]ath.*|.*[Rr]ead.*|.*[Tt]each.*|.*[Pp]arent.*|.*[Kk]id.*|.*[Ss]tudent.*|.*[Cc]ollege.*|.*[Uu]niversit.*|.*[Tt]uition.*', regex=True)]\n",
    "# print(len(all_bills))\n",
    "# print(len(ed_bills))\n",
    "\n",
    "\n",
    "import textwrap\n",
    "\n",
    "# ed_bills = all_bills.loc[(all_bills['title'].notna() & (all_bills['title'].str.contains(r'[Ii]ccb-?[Oo]ce[Ee]duc-.?|[Ee]arly [Cc]h(i)?ld|^Sch\\s?|[Hg]ighr [Ee]d|[Hh]igher ([Ee]d(ucation)?)?\\s?([Ll]earning)?|.*[Ee]ducation.*|.*[Cc]hild.*|.*[Ss]chool.*|.*[Cc]harter.*|.*[Mm]ath.*|.*[Rr]ead.*|.*[Tt]each.*|.*[Pp]arent.*|.*[Kk]id.*|.*[Ss]tudent.*|.*[Cc]ollege.*|.*[Uu]niversit.*|.*[Tt]uition.*', regex=True, na=False))) | all_bills['bill_sum'].str.contains(r'[Ee]arly\\s?-?[Cc]hildhood|[Ee]ducational\\s?[Rr]equirements|[Pp]ost-?\\s?[Ss]econdary\\s?[Ee]ducation|[Cc]hild\\s?[Ee]mploy', regex=True, na = True)]\n",
    "\n",
    "count = 0\n",
    "for i,b in enumerate(all_bills['title']):\n",
    "    if re.search(r'[Dd]ay\\s?[Cc]are', str(b)):\n",
    "    # if re.search(r'[Ee]arly [Cc]h(i)?ld', str(b)) and len(str(b)) < 100:\n",
    "        \n",
    "        print(str(b))\n",
    "        print('###################')\n",
    "        # wrapped_text = textwrap.fill((all_bills.loc[i,'bill_sum']), width=100)\n",
    "        # print(wrapped_text)\n",
    "        # print('###################')\n",
    "        # print('\\n')\n",
    "        count += 1\n",
    "\n",
    "print(count)\n",
    "\n",
    "\n",
    "\n"
   ]
  },
  {
   "cell_type": "code",
   "execution_count": 17,
   "metadata": {},
   "outputs": [
    {
     "name": "stdout",
     "output_type": "stream",
     "text": [
      "H.B.592|H.B.211|H.B.0302|H.B.682|H.R.275|H.B.2287|H.B.660|H.B. 382|S.B.244|H.B.3457|H.B. 90|H.B.65|S.B.0015|H.B.4319|S.B.1572|S.B.526|S.J.R.54|S.B. 265|H.B. 2572|S.B. 137|H.B.387|H.B. 1133|S.B.1407|H.B.5907|S.B.1520|S.B. 118|H.R.1048|S.B.48|H.B.5380|H.B.4265|S.J.R.69|S.B.3276|H.B.5766|S.B. 1125|H.B.3196|H.B. 2926|S.B.296|S.B.33|S.B.1487|S.R.1747|S.B.277|S.B. 717|H.B.3273|H.R.1043|S.B. 222|H.B.2|S.B. 235|H.B. 355|H.B. 380|H.J.R.67|H.B. 338|H.B. 1024|H.B. 766|H.B. 1450|S.B. 819|H.B.5489|H.B.525|H.B. 1548|H.B. 1599|H.B.279|S.B. 324|H.J. 52|H.B. 2655|S.B. 506|H.B.4958|H.B.0341|H.B. 329|H.B. 599|H.B.420|H.B. 1445|H.B.4937|S.B.1985|H.B. 700|H.R.14|H.B. 97|H.J.241|H.B. 707|H.B. 232|S.B.2754|S.B. 742|S.B.1278|H.B.4618|S.B.0469|H.B.1824|H.B.3276|S.B. 225|S.B.3261|H.B. 500|H.R.1040|H.B. 376|S.B. 433|S.B.88|S.B. 498|S.J.R. 18|S.B.183|H.B. 1055|H.B.575|H.B.0041|H.B. 1810|S.B. 575|H.B. 2123|S.B.3349|H.B.468|H.B. 248|H.B.569|S.B.3104|S.B.3329|H.B.1432|H.B. 1771|S.B.1909|H.B. 358|S.B. 420|H.B.4671|H.B.3836|H.B. 1374|H.B.5613|H.B. 2906|H.B.2567|S.B.1257|S.B.284|S.B. 456|H.B. 585|H.B. 615|H.B.5826|S.B. 773|H.B. 1758|H.B.2822|H.J.R.6|S.B.246|H.B.4786|H.R.431|H.J.19|S.B.4|H.B.4218|H.B. 2092|H.B.2176|H.B. 509|H.B. 1623|H.B.5184|H.B.277|H.B.146|S.B. 563|H.B.2458|H.B.4412|H.B. 1569|S870|H.B. 211|S.B.0202|S.B.3017|H.B.1769|H.B. 267|H.B.1375|S.B.257|H.B.373|H1035|S.B. 1245|H.J. 15|H.B.2401|H.B.24|H.B.195|H.B. 2252|S.B. 1049|S.B. 6006|H.B. 2537|S.R.0042|S.J.208|S.B. 1446|S.B. 1099|S.B. 812|S.B.1550|H.B. 1447|H.B.4277|S.B. 223|S.B.212|H.B. 1933|H.B.3860|H.B.582|S.B.1559|H.B. 1852|H.B.383|S.B.2986|H.B.1240|H.B. 381|H.B.5568|H.B.1765|S.B.3578|S.B.3320|S.B.538|S.B. 1481|H.B.506|H.B. 2742|H.B. 41|H.B.5892|H.B. 626|H.B.3348|H.B.169|H.B.1753|H.B.3098|H.B. 1221|H.B. 1091|H.B. 1505|H.B.165|H.B. 2916|H991|H.B. 387|H.B. 222|S.B.1401|H.B.338|S.B.294|S.B. 885|S.B. 49|H.B. 2650|H.J. 34|H.B.3645|H.B.5389|H.B.3713|S.B. 314|S.B.0468|H.J.238|S.B.0455|H.B. 294|S.B. 683|H.B.3737|S829|S.J.R. 41|S819|H.B. 1991|H.B.4157|S.B. 35|H.B.4057|S.B.3913|H.B.4939|S.B.325|H.B.1747|S.B. 1393|H.R. 4267|H.B. 297|S.B. 209|S.B.2692|H.B.4903|S.B.56|H.B.2320|H.B.3329|H.B.3497|S.B.3180|S.B.0002|H.B. 2250|H.B.83|H.B.4196|H.B.4441|S.B.1849|H.B.4520|H.B.4310|H.B. 2644|S.B.194|S.B.0998|H.B.2137|H.B. 1858|S.B. 360|H.B. 1305|S.B. 201|H.B. 27|H.B.1826|H.B.1037|S.B.501|S.B.2825|H.B.4652|H.B.5811|H.B.5839|H.B. 2339|H823|S.B. 257|H.B. 1375|H.B.5609|S.B. 203|H.B. 1715|S.B.1766|H.B.4798|H.B.352|S.B. 38|H.B.5041|H.R.99|S.B.7|H.B. 2792|H.B.3523|H.B.4175|H.B.2989|H.B.5008|S.B. 1203|H.B. 339|H.B.130|S.B.2568|S.B.3561|H.J.R. 71|H.B. 111|S801|H.B. 1638|S.B. 705|H.B. 1089|S.B. 132|H1040|H.B. 1216|H.B.1755|H.B.4866|S.B.1895|S.B. 445|S.B.229|H.J.R.0046|H.B.173|H.B. 2631|H981|H.B. 227|H.B. 2536|S.B. 432|H.B. 404|S.B.3757|S.B. 233|H.B. 625|S.B.6|S.B. 1462|H.B.3861|H.B.5414|S.B.265|S.B. 1111|H.J.236|S.B.3645|S.B.2688|H.B.2486|H.B. 1051|H941|H.B.1556|S.R.1756|H.B. 2938|S.C.R. 22|S.B.3383|S.B. 56|H.B.3998|H.B.4658|H.B.0340|H.B. 2484|S.B.1315|S.B.1962|S.B.0457|H1045|H.B.3015|H.B.5024|H.B.3512|H.B.571|S.B.1796|H.B.477|H.B. 134|S.B.169|H.B. 2905|S.B. 69|H.B.623|H.B.5113|S.J.R. 92|S.B.0463|H.B.1035|H.B. 1427|H.B. 1499|S.B. 738|H.B. 1362|S.B.1521|S.B.0459|H.B. 347|S.B. 501|S.B.2788|H.B. 32|S.B. 115|H.J.240|S.B.362|H.B. 2093|S.B.3110|H.B.5407|H.B.414|S.B.1395|H.B.1752|H.B. 366|H.B. 375|S.B.3703|H.B.463|H.B.4965|H.B. 498|H.B.148|H.B.3212|S.B.1339|H.B. 1592|H.B.3940|H.B. 675|H.B.251|S.B.3133|H.B. 2159|H1011|H.J.235|S.B.109|H.J.R. 7|H.B.3966|S.R.0803|H914|H.R.1051|H.B. 713|H.R.263|H.B.9|S.B.1|H.B.4622|H.R.227|S.B.0462|H.B.3450|S.B.3984|H.B.4581|H.B.4216|H.B.5523|H.B.3914|S814|S.J.R. 6|S.B. 24|S.B. 220|H.B. 624|H.B. 102|H.B.5430|S.B.3473|S.B.3078|S.J.R.0049|S.B.117|H.B. 406|S.B.3923|S.B. 44|S.B. 72|S.B.55|H.J.R.1061|H.B.1626|H.B.5806|H960|H.B.120|H.B. 731|H.B.659|H.B. 2622|H.B.44|S.B. 678|H.B.1770|H967|H.B. 2185|S.B.1592|H.B. 603|S.B.0378|H.B.1181|H.B. 1660|S.B. 492|H.R.295|S.B. 1372|S.B. 189|H.B. 2343|S.B.2412|S.B. 1504|H.B.5655|S.B.156|S.B.2689|H.B.3181|S.C.R.20|H940|H.B.5381|H.B.4945|H.B. 1945|H.B. 2303|H.B. 36|H.B.2528|H.B. 501|H.B.1123|H.B.210|H.B.1761|H.B. 2310|S.B.1527|H.B. 1640|S.B. 1450|H1031|H.B. 1125|S.B.273|H.B.5617|S.B.1432|S.B. 266|H.B. 2696|H.B. 215|H.B.5226|H.R.0571|H.B. 460|S.B.3132|H.B. 2297|H.B.5276|H.B.5210|H.B.3048|H.R.289|H.J.239|S.B.1478|H.J.R.168|H.B.50|H.B. 1475|S.B.1904|H.B.4700|H.B. 1672|H.R.424|S.B. 475|S.B.2753|S.B.0995|S.B.217|H.B.98|H.B.1107|H.B.5563|H.B.1425|H.B. 696|H.B.149|H.B.595|H.B.577|S.B.311|S.B.479|H.B.4473|H.B. 1646|S.B.304|H.R.64|H.B.3034|H.B.330|H.B. 1543|H.B.322|S.B. 1421|H.B.1751|H.B. 2652|H.B.4932|H.B.168|H.R.143|H.B. 2847|H.B. 1345|S.B.1308|S.B. 54|H.B.4787|S.B.2690|H.B. 2463|H.B. 1989|H.B.1825|S.B. 159|S.B.1256|H.B.3277|H.B. 298|S.B.3587|H.B.175|H.B.5434|H.B.5547|H.C.R.1013|H.J.R. 132|H.B.557|H.B.5505|H.B.2602|H.B.4858|H.B. 2858|S.B.104|H.B.5025|H.B.364|S.B.3378|S.B.69|H.B.1823|S.B.3571|S.B. 749|H.B.4733|H.B.5880|S.B.1324|H.B. 2717|H.B. 1642|H.B. 1477|H.B. 2852|H.B. 2769|S.B. 279|H.B. 181|H.B.3249|H.B.4902|S.B.36|H.B.4895|H.B.2036|H.B.4133|S.B.2677|H.B. 89|H.B.5510|H.B.303|S.B.1591|H.B. 1777|S.B. 106|H.B.5619|H.B. 377|H.B.4738|S.B.3902|S.B. 14|S.B.1198|H.B.2141|H.B. 2692|H.B. 1414|S.B.2327|H.B. 1919|H.B.3215|H.B. 48|H.B. 2937|H.B. 113|H.B. 1208|S.B.261|H.B. 415|H.R.0942|S.B. 11|H.B.3545|H.B.4524|H.B.357|H.B.2894|H.B. 1722|H.B. 583|H.B. 1946|H.B.278|H38|S.B. 702|S.B.99|S.B.3819|H.B.596|S.B.423|H.B.4760|S.B.1268|S.B. 105|H.B.4016|H.B.61|H.B.5632|S625|S.B.0377|H.B. 287|S825|H.B.377|H.R. 3887|H.B.3086|H.B. 1714|S.B.295|S.B. 1290|S.B.3702|H.B. 2374|H.B. 485|H.B. 1488|S.B.2862|S.B. 375|H.J.R.1060|S.B. 217|S.B. 283|H.B.5399|S.B. 170|H.R. 3899|S.B.2696|H.B.1028|H.B. 1890|H.B. 2872|H.B.4633|H.B.580|H.B. 775|H.B.3570|H.B. 31|H.B. 305|H.B. 1277|H.B. 371|S.B.0093|S.B.3367|H.B.5625|S.B. 343|H.C.0032|H.B.2892|H.B. 2161|H.J. 29|S.B.309|H.B.5364|S.B. 444|H.B. 2408|S.B.2755|H.B. 1127|H.B. 2363|S.B.2861|H.B. 1545|S.B.3690|H.B.3396|H.B.578|H.B.5418|H.B.1056|H1047|H.B.114|S.B.253|S.B. 435|H.B.1051|S885|H.B.585|H.B.5752|H.B. 1647|H.B. 1896|S.B.0171|H.B. 825|H.B.339|H.B.280|S.B. 426|S.B. 1164|S.B.0086|H.B.4586|S.B. 684|H.B.1766|H.B.1304|H.B.129|H.B. 535|S.B.165|S.B. 429|S.B.0456|H.B.5524|S.B.1135|H.B. 627|S.B. 1402|H.B.145|H.B. 2456|S.B. 344|H.B. 2918|S.B.0006|S.B.1313|H.B. 1806|H.B. 359|H.R.611|H.R.282|S.B.168|S.B. 907|H.B.4751|S.B. 624|H1016|H.B. 1473|H.B.5416|S.B. 1508|S.B. 258|S559|S.B. 28|H.B.4274|S.B. 124|H.B. 462|H.B.1048|S.B. 112|H.B.4521|S.B.1911|H.B. 54|H.B. 920|H.B.462|S.B.3989|H.B. 2724|S.B. 342|H.B.5455|H.B.4840|H.B.4616|H.B. 772|H.B.39|H.B. 1795|H902|H.B.0307|H.B.4013|H.B. 1893|H.B. 398|H.B.4173|H.B. 1432|H.B.3642|H.B.56|H.B. 1121|H.B.3278|S.B.3018|H.B. 2285|S.B.2987|S.B.2236|H.B. 2621|H.B. 1146|S.R.0532|H.B.4050|H.B.439|S.B.3347|S.B. 262|H.B.3936|H.B.5394|H.B.4936|H.B.3158|H.B.3813|H.B. 893|S.B. 62|H.B.4709|S.B.3387|H.B. 1029|H.B.3727|H.B. 1486|H.B. 281|H.B.67|H.B. 409|H.B.4294|S.B.171|H.R.0734|H.B.4941|S.B. 1440|S818|H.B.4905|H.B. 1039|H.B.164|H.R.0647|H.B. 140|H.B.2613|S.B. 60|S.B. 117|H.B.2562|H.R. 4092|H.B. 251|H.B.4435|H999|H972|S.B. 215|H.B.565|H.B.2536|S.B.0282|S.B. 784|H.B.5057|S.B. 395|H.B. 732|H.B. 2114|H.B. 617|H.B.4670|S.B. 608|S.B. 599|H.B.1768|S.B.17|S.B.129|S.B. 347|S.B. 231|S.B. 364|S.B.2536|S.B. 731|S.B.53|S.B. 1479|S.B.0461|S.B.0211|H.B.276|S.B.3081|H.B.1744|H.B.3286|S.B.1126|H.B. 1576|H.R.62|H.B. 285|H.B. 351|H.B. 405|S.B. 264|H.B. 677|S.B. 39|H.B. 332|S.B.157|H.B.3884|H.B.411|S.B.176|H.R.0707|H.B. 1130|H.B. 1231|S.B.125|S.B.1768|H.B. 112|H.B. 383|S824|H.B. 1388|H.B. 1616|S.B. 441|H.B. 212|S.B.293|H.B.5220|H.C.R. 44|S.R.1303|S.B.3553|H.B.1553|H.B.239|S.B.1400|H.B. 53|S.B.1677|H.B.5318|H.B. 571|nan|S.B.237|S.B. 352|S.B.0458|S.B.1625|H.B. 919|H.B.3591|H.B.570|H.B. 1129|H.B.1138|H.B.5853|H.B.3774|H.B.5539|H.B. 890|S.B.3237|S.B. 535|H.B.144|H.B. 1573|S.B. 306|S.B.280|H.B.5393|H.B.4156|H.B.3551|S.B.31|S.B. 68|H.B.1763|H1057|S.B.278|S.B.0030|H.B.5782|H.B. 676|H.B. 38|H.B. 1928|H.B. 1542|H.B. 508|H.B.331|S.B. 155|H.B.5848|S.B. 96|H.B.2823|H.B. 2578|H947|S.B.3722|H.B.4219|H.B. 326|S.B.3459|S.B.2838|H.B. 2293|H.B. 682|S.B.2980|S.B. 1432|S895|H.B. 1044|S.B.0210|H.B. 328|H.B. 1279|H.B. 1497|H.B. 269|H.B. 187|S.B.2810|H.B. 66|H.B.3274|H.B.2435|S.B.175|H.B.5492|H.B.284|H97|H.B.309|S.B. 104|H.B. 317|H.B.1808|S.B. 19|S.B.3803|S.B. 1286|S.B.1578|H.B.0303|S90|H.B. 1905|S.B. 442|S.B.2872|S812|H.J. 67|H.B.1104|H.B.3234|S.B.0181|H.B. 416|S.B. 627|H.J.233|H.B.561|S.B.3626|H.B.5478|H.B.5141|H.B.3056|H.B. 207|H.B. 980|H.B. 286|H.B. 842|S822|H.B.470|H.B.4015|S.R.13|H.B. 168|H.B.4617|S.B.2222|H.B.5398|S.B.3630|S.B.3667|H.B.2893|H.B.5292|S.B.3159|H.B.0308|H.B.5258|H.B.3386|H.B.265|H.J.234|H.B.5497|H.B.1886|S.B.0466|H.B. 566|S778|H.B.4273|S.B.329|S.B.313|H.B.292|H.B.1179|H.B. 981|S.R.0819|H.B. 2803|S.B. 46|S.R.483|H.B.4059|H.B. 536|H.B. 2552|H.B. 1307|H.B.2917|H.B.2009|S.B. 212|H.B.4491|S.B.1328|H.B.1860|H.B. 386|H.B. 1626|S788|H.J. 28|S.B. 707|S.B.142|S.B.3606|H1013|S.B.1964|H.B. 1899|H.B.1101|S826|H.B.5009|H.B. 1756|S.B.1191|H.B. 582|S.B.991|H.B. 1365|S.B.1185|H.B. 372|S.B.2349|H.B.57|S.B.206|H.J. 61|H1069|S.R.295|H.B. 220|S.J.R.50|H1059|H.J.R.1002|H.B. 131|H.B.484|S.B.0464|S.B. 613|H.R.224|H.B. 977|S.B.0270|H1021|S.B.2040|H.B. 777|S.B. 195|H.B.1757|H.B.3918|H.B. 2922|H.B. 632|H.B.1246|H.J.R. 108|H.B. 255|S.B.1122|H.B.5450|H.R.90|S.B.0281|H.B.147|H.B.4350|H.J.R.215|S.B.86|H.B. 1492|H.B.2190|H.B. 690|S.B. 440|H.B. 1688|H.B. 419|S.B.3348|S.J.R.35|S.B.3397|H.B. 1574|H.B. 1863|S.B. 309|H.B.188|H.B. 1644|S.B. 199|H.B. 331|H.B.4017|H.B.5020|H.B.53|H.B.63|H.R.0596|H.B. 1317|S.B. 1398|S.B.2675|H.B.1749|S.B.211|S.B.3749|H.B.3231|H.B.615|S.B.112|H.B. 2889|S.B. 811|H.B.316|H.B.450|S.B.0169|H.R.0926|H.B.3287|S.B.3166|H.B.584|H.B. 1898|S865|S.B. 455|H.B.3958|S.B. 740|H.B.1764|H.B. 101|H.B.4850|S.J.R.0006|H.B.31|H.B.4728|H.B.4073|H.R.6047|S.B.3644|S.B.308|S.B.3138|S.B.3768|H.B. 783|S.B.359|H.B.3907|S.B.98|H.B.78|S.B.1906|S.B.3156|H.B. 253|H.B.1259|H.B. 346|H.B. 2126|S.B.3215|S.B.198|H.B. 711|S.B.3286|S.B.2717|H.B.1772|H.B.1382|S.B.35|H.B.3792|S.B.3985|S.B.1638|H.R. 3886|H.B. 266|H.B. 240|S.B.0236|H.J.R.15|H.B.516|H.B.1750|H.B.1748|S.B.310|S.B. 1447|S.B.1651|H.B. 1677|S.B.1522|H.B.1759|S.B.1641|H.B. 401|H.B.1007|S.B.0048|S.B. 42|H.B. 391|S.B.3572|H.B.4779|H.B.2672|H.B.1247|S.B. 20|H.B.18|S.B. 975|H.B. 114|H.B. 407|H.B.2260|S.B.2606|S.B. 202|H.B.3449|H.B.2158|S.B.3092|H.B.3476|S.B.349|H.B.5501|H.B.4800|S.B.2237|H.B.1746|H.B. 1405|H.B.602|S.B. 518|S.B.3610|S.B. 272|S846|H.B. 882|H.B.1042|H.B.1774|S.B. 63|S.B.482|H.B.1773|S.B.1207|H.B.5336|H.B.4672|H.B.610|H.B. 969|S.B. 13|H.B.4254|S.B. 553|S.B. 619|H.B.70|H.B.4407|H.R.105|H.B. 2535|H.B.432|S.B.3147|S.B.13|S.B.2609|H.B.4918|H.B. 2667|S.B.1756|S.B. 53|S.B.3316|S.J.R.68|H.B.158|S.R.1253|H.B.3510|H.B.308|H.B.5596|H.B.576|S.B.3284|H.B. 34|H.B.5482|H.B. 739|H.B.445|H.B. 573|S.B.696|H.B. 1541|H.B.5532|S.B.2|H.B. 1504|S.B.3898|H.B.47|H.B.3122|H.B. 1128|H.B.81|H.J.R.0071|H.B.5312|S.B.143|S.B.3366|H.B.5043|H.B. 1823|H.B.5079|H.B.5250|S.B.3945|H.B.3459|S.B.18|H.B.1002|H.B. 306|S.B. 219|S.B.3961|H.B.633|S.J.R. 35|H.B.358|S.B. 1492|S.B. 379|H.B.5906|S.B.1683|H.B. 91|H.J.R. 96|S.B.2006|H.B.4653|S.B.3000|S.B.1513|H.B. 368|S.B. 12|H.B. 1467|S.B.0284|H.B. 2846|S.B.1692|S.B. 80|H.B.4955|S.B. 728|H.B. 219|S.B.1314|H.B.290|S.B.8|H.B.579|H.B.1001|S.B.141|H.R.0742|S.B. 131|S.B.3581|H.B. 341|H.B.163|H.B. 296|H.B. 218|H.J. 21|H.B.1102|S.B.2209|H.B.4474|S.B.1477|S.B. 1392|S.B.59|H.B.443|H.B.329|S.B. 484|H.B.27|H.B. 1373|S.J. 20|S.B.11|S.J.R.61|H.B. 408|S.B. 6003|H.B.3614|S820|H.B.206|S.B. 1497|H.B. 2589|H.B.5005|H.B. 486|H.B.4432|H.B. 194|S.B.1713|H.J.R.0073|H.B.4147|S.B.305|S.B. 83|S.B. 43|H.R.0355|H.B.5451|S.B.3560|H.B.591|S.B.0008|H.B. 805|S.B. 618|S.B.3965|H.J. 84|S.B. 1401|S.B.2265|H.B.3446|H.B.1754|S.B.901|S.B.3207|H.B. 1820|S.B. 21|H.B.556|S872|H.B.4570|H.B. 2673|H.B. 472|H.B.4597|S.R.4|H.B. 833|H.J.R.117|H.B.4896|S.B.1786|H.B.4252|H.B.0305|S.B.0102|H.B.5480|H.B. 1033|H.B.95|H.B.0334|H.B.436|S.B. 326|S765|S.B.0212|H.J. 25|S828|H.B.32|S.B.2824|S.B.3164|H.B.5878|H.B.3604|H.B.4492|S.B. 55|H.B.3669|H.B.4279|H.B. 784|H.B. 2472|H.B.1758|H.B. 1617|H.B.4272|H.B.4749|H.B.3974|H.B. 270|H.B.415|S.B.3467|H.B.5335|S.B. 1486|H.J. 39|H.B.1006|S.B.1539|H.B.1762|H.B.5796|S.B.1229|H.B. 163|H924|S.B.259|H.B.240|H.B.3327|S.B.2404|H.B.2673|H.B. 2565|H.B.1795|S.B. 476|H.B.4577|H.B.1756|H.B.5158|S.B.1307|H.B. 1087|H.B.1544|H.B. 564|S.B. 460|S.B.1475|S.B.3151|S.B. 502|S.B.189|S.B.0185|S.B.29|H.B. 2094|S.B. 323|H.R.383|H.B.4236|H.B. 979|S.B. 474|H.B.1464|H.B.5820|H.B.5499|S.B.0331|H.J.R.173|H.B. 2088|S.B.2776|H.B.91|S.B.1156|H.B.4853|S.B. 330|H.B.4291|H.B.2944|H.B.3530|H.B. 1678|H.B. 291|S.J.209|S.B.1722|S.B. 150|S.B.3646|H.B. 937|H.B.407|H.B. 561|S.B. 431|S.B. 586|H.B.485|H.B. 2612|H.B. 385|S892|S.B.119|H.B.4889|S.J.R. 95|S.B. 443|H.B. 2195|H.B. 360|H.B.4662|H.B.408|S.B. 1394|H.B.2891|H.B.48|H.B. 2495|H.B. 98|S.B.163|H.B. 1512|H.B.393|H.B.5415|S.B. 181|H.R.1049|H.B.1775|S.B. 166|H.B.1760|H.B. 958|H.B.4322|H.B. 647|H.B.381|S.B.2634|H.B.654|H.B.4922|H.B.4417|H.B.3550|H.B.5406|H.B. 1481|S.B.1601|H.B.183|H.B. 1385|H.B.5036|S.B.1884|H.B. 100|H.B.4625|S.B.2718|S.B. 572|H.B.4070|S.B.1921|H946|S.B.3771|S.B.332|H.B.5863|S.B.0467|H.B.574|H.B. 259|H.B. 765|H.B.0299|H.B. 1917|H.B.102|H.B.1097|S.B. 361|H.B.1771|S.B.338|H.B. 2327|H.B.5275|H.B.302|H.B.1310|H.B.1745|H.B.4459|H.B. 1076|S.R.315|S.B.3914|H.B.4163|H.B. 1342|H.B. 2897|H.B.3388|H1027|S.B. 726|H.B.4650|H907|H.B.3232|H.J.R. 74|H.B. 1247|H.B.581|S.B. 398|H.B.5425|S.B. 801|S.B.3777|S.B.1258|H.B. 813|S.B.2928|S.B. 1391|H.B. 183|S.B.1624|S.C.R.1601|S.B.358|S.B. 128|H.B. 224|S.B.3634|S.J.R. 1|H.B.2485|H.B.113|H.B.2102|H.B.4626|S.B.0001|H.B. 830|H.B. 1494|H.B.214|S.B.3001|H.B. 265|H.B. 1511|H.B.123|S.B.2829|H.B. 2183|S.B.1302|H.B.2998|H.B.4572|H.B. 2182|S.B. 468|H.B.4720|H.B.5400|S.R.0802|H.B.5873|H.B.353|H.B. 719|H.B. 2760\n"
     ]
    }
   ],
   "source": [
    "compiled_file = r\"C:\\Users\\clutz\\THE HUNT INSTITUTE\\The Hunt Institute Team Site - Documents\\Development (formerly Grants Management)\\!Administrative\\Christian\\Legislators Data\\leg_data_update_10_2024\\build files\\bills and legislators\\2024\\bills_and_legislators2024_12_18.xlsx\"\n",
    "compiled_df = pd.read_excel(compiled_file)\n",
    "\n",
    "leg_bills = compiled_df['bills'].to_list()\n",
    "leg_bills = list(set(leg_bills))\n",
    "print(*leg_bills, sep='|')"
   ]
  },
  {
   "cell_type": "code",
   "execution_count": null,
   "metadata": {},
   "outputs": [],
   "source": [
    "all_"
   ]
  },
  {
   "cell_type": "code",
   "execution_count": 6,
   "metadata": {},
   "outputs": [
    {
     "name": "stderr",
     "output_type": "stream",
     "text": [
      "C:\\Users\\clutz\\AppData\\Local\\Temp\\ipykernel_28856\\400887923.py:3: UserWarning: This pattern is interpreted as a regular expression, and has match groups. To actually get the groups, use str.extract.\n",
      "  (all_bills['title'].str.contains(\n",
      "C:\\Users\\clutz\\AppData\\Local\\Temp\\ipykernel_28856\\400887923.py:15: UserWarning: This pattern is interpreted as a regular expression, and has match groups. To actually get the groups, use str.extract.\n",
      "  ed_bills = ed_bills[~((ed_bills.title.str.contains(r'[Cc]ongrat[Ss]?(ulations)?|[Mm]ourn|[Mm]emorial|[Cc]ommending|[Hh]onoring', regex = True, na = True)) |\n",
      "C:\\Users\\clutz\\AppData\\Local\\Temp\\ipykernel_28856\\400887923.py:16: UserWarning: This pattern is interpreted as a regular expression, and has match groups. To actually get the groups, use str.extract.\n",
      "  (ed_bills.title.str.contains(r'[Cc]ongrat[Ss]?(ulations)?|[Mm]ourn|[Mm]emorial|[Cc]ommending|[Hh]onoring', regex = True, na = True))) ]\n"
     ]
    }
   ],
   "source": [
    "\n",
    "ed_bills = all_bills.loc[\n",
    "    (all_bills['title'].notna() & \n",
    "     (all_bills['title'].str.contains(\n",
    "         r'[Ii]ccb-?|[Oo]ce-|[Ee]duc-.?|[Ee]arly [Cc]h(i)?ld|^Sch\\s?|[Hg]ighr [Ee]d|[Hh]igher ([Ee]d(ucation)?)?\\s?([Ll]earning)?|.*[Ee]ducation.*|.*[Cc]hild.*|.*[Ss]chool.*|.*[Cc]harter.*|.*[Mm]ath.*|.*[Rr]ead.*|.*[Tt]each.*|.*[Pp]arent.*|.*[Kk]id.*|.*[Ss]tudent.*|.*[Cc]ollege.*|.*[Uu]niversit.*|.*[Tt]uition.*', \n",
    "         regex=True, na=False\n",
    "     ))\n",
    "    ) \n",
    "    | \n",
    "    all_bills['bill_sum'].str.contains(\n",
    "        r'[Ee]arly\\s?-?[Cc]hildhood|[Ee]ducational\\s?[Rr]equirements|[Pp]ost-?\\s?[Ss]econdary\\s?[Ee]ducation|[Cc]hild\\s?[Ee]mploy', \n",
    "        regex=True, na=True\n",
    "    )\n",
    "]\n",
    "\n",
    "ed_bills = ed_bills[~((ed_bills.title.str.contains(r'[Cc]ongrat[Ss]?(ulations)?|[Mm]ourn|[Mm]emorial|[Cc]ommending|[Hh]onoring', regex = True, na = True)) |\n",
    "                    (ed_bills.title.str.contains(r'[Cc]ongrat[Ss]?(ulations)?|[Mm]ourn|[Mm]emorial|[Cc]ommending|[Hh]onoring', regex = True, na = True))) ]\n",
    "\n",
    "ed_bills = ed_bills.reset_index(drop=True)\n",
    "# ed_bills = ed_bills[~ed_bills.title.str.contains(r'[Cc]ongrat[Ss]?(ulations)?|[Mm]ourn|[Mm]emorial|[Cc]ommending|[Hh]onoring', regex = True, na = True)]"
   ]
  },
  {
   "cell_type": "code",
   "execution_count": null,
   "metadata": {},
   "outputs": [],
   "source": [
    "ed_bills['pk_sponsors'] = np.nan\n",
    "for i,j in enumerate(ed_bills['sponsors']):\n",
    "\n",
    "    # print(j)\n",
    "    is_nan = pd.isna(ed_bills.loc[i,'sponsors'])  # True\n",
    "    if is_nan == True:\n",
    "        continue\n",
    "    try:\n",
    "        sponsor_split = j.split(',')\n",
    "    except:\n",
    "        print('************')\n",
    "        print(f'sponsors: {j}')\n",
    "        print(f'title: {str(ed_bills.loc[i,'title'])}')\n",
    "        print('************')\n",
    "    if len(sponsor_split) == 1:\n",
    "        sponsor_split = [j]\n",
    "    \n",
    "        \n",
    "    pks = []\n",
    "    \n",
    "    for s in enumerate(sponsor_split):\n",
    "        chamber_match = re.findall(r'[Ss]en\\.|[Rr]ep\\.|[Ss]peaker|[Dd]el\\.', str(s))\n",
    "        if len(chamber_match) == 0:\n",
    "            print(f'here is what has no chamber: {s}')\n",
    "            continue\n",
    "        # if not chamber_match[0]:\n",
    "        #     print(chamber_match)\n",
    "        #     print(s)\n",
    "        #     continue\n",
    "\n",
    "        if 'rep' in str(chamber_match[0]).lower() or 'speaker' in str(chamber_match[0]).lower() or 'del' in str(chamber_match[0]).lower():\n",
    "            chamber_code = '0'\n",
    "        elif 'sen' in str(chamber_match[0]).lower():\n",
    "            chamber_code = '1'\n",
    "        get_dis_and_state = re.findall(r'(?!\\()[A-Z]{1}-[A-Z]{2}-\\d{1,3}(?<!\\))', str(s))\n",
    "\n",
    "        if len(get_dis_and_state) == 0:\n",
    "            print('regex failed')\n",
    "            print(s)\n",
    "        else:\n",
    "            broken_up_val = str(get_dis_and_state[0]).split('-')\n",
    "            state_code = state_coding.get(broken_up_val[1])\n",
    "        # print(type(state_code))\n",
    "            district_code = broken_up_val[2]\n",
    "            desired_length = 3\n",
    "\n",
    "            if len(district_code) < desired_length:\n",
    "                district_code = district_code.zfill(desired_length)\n",
    "\n",
    "        pk = str(state_code)+chamber_code+district_code\n",
    "        pks.append(pk)\n",
    "\n",
    "    pks_for_bill = '|'.join(pks)\n",
    "    ed_bills.loc[i,'pk_sponsors'] = pks_for_bill\n",
    "            \n",
    "print(ed_bills.head())\n",
    "\n"
   ]
  },
  {
   "cell_type": "code",
   "execution_count": null,
   "metadata": {},
   "outputs": [],
   "source": [
    "\n",
    "\n",
    "ed_bills['HE_tag'] = False\n",
    "ed_bills['EC_tag'] = False\n",
    "ed_bills['ED_tag'] = False\n",
    "i = 0\n",
    "for a,b in zip(ed_bills.title, ed_bills.bill_sum):\n",
    "    if re.search(r'[Ii]ccb|[Ee]duc-.?|[Hg]ighr [Ee]d|[Hh]igher ([Ee]d(ucation)?)?\\s?([Ll]earning)?|.*[Cc]ollege.*|.*[Uu]niversit.*|.*[Tt]uition.*', str(a)):\n",
    "        ed_bills.loc[i,'HE_tag'] = True\n",
    "    \n",
    "    if re.search('[Pp]ost-?\\s?[Ss]econdary\\s?[Ee]ducation', str(b)):\n",
    "        ed_bills.loc[i,'HE_tag'] = True\n",
    "\n",
    "\n",
    "    if re.search('[Ee]arly [Cc]h(i)?ld', str(a)):\n",
    "        ed_bills.loc[i,'EC_tag'] = True\n",
    "\n",
    "    if re.search(r'[Ee]arly\\s?-?[Cc]hildhood', str(b)):\n",
    "        ed_bills.loc[i,'EC_tag'] = True\n",
    "\n",
    "    i += 1\n",
    "\n",
    "\n",
    "ec_bills = ed_bills[ed_bills['EC_tag']==True]\n",
    "he_bills = ed_bills[ed_bills['HE_tag']==True]\n",
    "\n",
    "test_dupes = ed_bills[ed_bills['bill_label'].duplicated(keep=False)]\n",
    "test_dupes\n",
    "\n",
    "ed_bills[ed_bills['bill_label'].duplicated(keep=\"last\")]"
   ]
  },
  {
   "cell_type": "code",
   "execution_count": 10,
   "metadata": {},
   "outputs": [],
   "source": [
    "ed_bills['lookup'] = ed_bills['bill_label'] + \"-[\" + ed_bills['state'] + \"]\""
   ]
  },
  {
   "cell_type": "code",
   "execution_count": 19,
   "metadata": {},
   "outputs": [],
   "source": [
    "\n",
    "# Move the 'C' column to the first position\n",
    "column_to_move = ed_bills.pop('bill_label')\n",
    "ed_bills.insert(0, 'bill_label', column_to_move)\n",
    "\n",
    "column2_to_move = ed_bills.pop('lookup')\n",
    "ed_bills.insert(0, 'lookup', column2_to_move)\n",
    "ed_bills\n",
    "\n",
    "cpf_column_to_move = compiled_df.pop('bill_lookup')\n",
    "compiled_df.insert(0,'bill_lookup', cpf_column_to_move)"
   ]
  },
  {
   "cell_type": "code",
   "execution_count": 20,
   "metadata": {},
   "outputs": [
    {
     "name": "stdout",
     "output_type": "stream",
     "text": [
      "lookup|bill_label|full_bill_label|state|title|bill_sum|sponsors|status|status_date|detailed_status|quorum_link|pk_sponsors|HE_tag|EC_tag|ED_tag\n",
      "bill_lookup|full_pk|primary_key|first_name|last_name|party|tenure|influence_score|activities_score|events|event_count|state|chamber|district|seat_num|year|bill_labels|bill_counts|bills\n"
     ]
    }
   ],
   "source": [
    "print(*ed_bills.columns, sep = \"|\")\n",
    "print(*compiled_df.columns, sep = \"|\")"
   ]
  },
  {
   "cell_type": "code",
   "execution_count": 30,
   "metadata": {},
   "outputs": [],
   "source": [
    "full_df = pd.merge(ed_bills, compiled_df, how='left', left_on='lookup', right_on='bill_lookup')\n",
    "# full_df_v2 = pd.merge(ed_bills, compiled_df, how='left', left_on='bill_label', right_on='bills')\n",
    "\n",
    "#this is just for testing\n",
    "# print(full_df_v1.head(2).to_string())\n",
    "# print(len(full_df_v1))\n",
    "# print(full_df_v2.head(2).to_string())\n",
    "# print(len(full_df_v2))\n"
   ]
  },
  {
   "cell_type": "code",
   "execution_count": 31,
   "metadata": {},
   "outputs": [],
   "source": [
    "full_df.to_excel(r'C:\\Users\\clutz\\THE HUNT INSTITUTE\\The Hunt Institute Team Site - Documents\\Development (formerly Grants Management)\\!Administrative\\Christian\\Legislators Data\\leg_data_update_10_2024\\build files\\bills\\ed_bills_v3_w_join.xlsx', sheet_name=f'ed_bills',index = False)"
   ]
  },
  {
   "cell_type": "code",
   "execution_count": 13,
   "metadata": {},
   "outputs": [],
   "source": [
    "\n",
    "ed_bills.to_excel(r'C:\\Users\\clutz\\THE HUNT INSTITUTE\\The Hunt Institute Team Site - Documents\\Development (formerly Grants Management)\\!Administrative\\Christian\\Legislators Data\\leg_data_update_10_2024\\build files\\bills\\ed_bills_v2.xlsx', sheet_name=f'ed_bills',index = False)"
   ]
  },
  {
   "cell_type": "code",
   "execution_count": null,
   "metadata": {},
   "outputs": [],
   "source": [
    "ed_bills.head()"
   ]
  },
  {
   "cell_type": "code",
   "execution_count": 17,
   "metadata": {},
   "outputs": [
    {
     "name": "stdout",
     "output_type": "stream",
     "text": [
      "Index(['primary_key', 'bill_labels', 'bill_counts'], dtype='object')\n"
     ]
    },
    {
     "data": {
      "text/html": [
       "<div>\n",
       "<style scoped>\n",
       "    .dataframe tbody tr th:only-of-type {\n",
       "        vertical-align: middle;\n",
       "    }\n",
       "\n",
       "    .dataframe tbody tr th {\n",
       "        vertical-align: top;\n",
       "    }\n",
       "\n",
       "    .dataframe thead th {\n",
       "        text-align: right;\n",
       "    }\n",
       "</style>\n",
       "<table border=\"1\" class=\"dataframe\">\n",
       "  <thead>\n",
       "    <tr style=\"text-align: right;\">\n",
       "      <th></th>\n",
       "      <th>primary_key</th>\n",
       "      <th>bill_labels</th>\n",
       "      <th>bill_counts</th>\n",
       "    </tr>\n",
       "  </thead>\n",
       "  <tbody>\n",
       "    <tr>\n",
       "      <th>0</th>\n",
       "      <td>100003</td>\n",
       "      <td>H.B.353</td>\n",
       "      <td>1</td>\n",
       "    </tr>\n",
       "    <tr>\n",
       "      <th>1</th>\n",
       "      <td>100008</td>\n",
       "      <td>H.B.308|H.B.188</td>\n",
       "      <td>2</td>\n",
       "    </tr>\n",
       "    <tr>\n",
       "      <th>2</th>\n",
       "      <td>100009</td>\n",
       "      <td>H.B.67</td>\n",
       "      <td>1</td>\n",
       "    </tr>\n",
       "    <tr>\n",
       "      <th>3</th>\n",
       "      <td>100011</td>\n",
       "      <td>H.J.R.15</td>\n",
       "      <td>1</td>\n",
       "    </tr>\n",
       "    <tr>\n",
       "      <th>4</th>\n",
       "      <td>100012</td>\n",
       "      <td>H.J.R.168</td>\n",
       "      <td>1</td>\n",
       "    </tr>\n",
       "    <tr>\n",
       "      <th>...</th>\n",
       "      <td>...</td>\n",
       "      <td>...</td>\n",
       "      <td>...</td>\n",
       "    </tr>\n",
       "    <tr>\n",
       "      <th>871</th>\n",
       "      <td>551036</td>\n",
       "      <td>S.B. 395|S.B. 738|S.B. 225|S.B. 586|S.B. 608</td>\n",
       "      <td>5</td>\n",
       "    </tr>\n",
       "    <tr>\n",
       "      <th>872</th>\n",
       "      <td>551037</td>\n",
       "      <td>S.B. 21</td>\n",
       "      <td>1</td>\n",
       "    </tr>\n",
       "    <tr>\n",
       "      <th>873</th>\n",
       "      <td>551038</td>\n",
       "      <td>S.B. 159|S.B. 379</td>\n",
       "      <td>2</td>\n",
       "    </tr>\n",
       "    <tr>\n",
       "      <th>874</th>\n",
       "      <td>551039</td>\n",
       "      <td>S.B. 44</td>\n",
       "      <td>1</td>\n",
       "    </tr>\n",
       "    <tr>\n",
       "      <th>875</th>\n",
       "      <td>551040</td>\n",
       "      <td>S.B. 12|S.B. 39|S.B. 60|S.B. 220|S.B. 13</td>\n",
       "      <td>5</td>\n",
       "    </tr>\n",
       "  </tbody>\n",
       "</table>\n",
       "<p>876 rows × 3 columns</p>\n",
       "</div>"
      ],
      "text/plain": [
       "    primary_key                                   bill_labels  bill_counts\n",
       "0        100003                                       H.B.353            1\n",
       "1        100008                               H.B.308|H.B.188            2\n",
       "2        100009                                        H.B.67            1\n",
       "3        100011                                      H.J.R.15            1\n",
       "4        100012                                     H.J.R.168            1\n",
       "..          ...                                           ...          ...\n",
       "871      551036  S.B. 395|S.B. 738|S.B. 225|S.B. 586|S.B. 608            5\n",
       "872      551037                                       S.B. 21            1\n",
       "873      551038                             S.B. 159|S.B. 379            2\n",
       "874      551039                                       S.B. 44            1\n",
       "875      551040      S.B. 12|S.B. 39|S.B. 60|S.B. 220|S.B. 13            5\n",
       "\n",
       "[876 rows x 3 columns]"
      ]
     },
     "execution_count": 17,
     "metadata": {},
     "output_type": "execute_result"
    }
   ],
   "source": [
    "#Summary of bills\n",
    "sponsor_bill_lookup = []\n",
    "for i,j in enumerate(ed_bills['pk_sponsors']):\n",
    "    is_nan = pd.isna(ed_bills.loc[i,'pk_sponsors'])  # True\n",
    "\n",
    "    if is_nan == True:\n",
    "        continue \n",
    "    sponsors_ls = []\n",
    "    bill_nums = []\n",
    "    sponsors_split = str(j).split('|')\n",
    "    sponsors_split = [x for x in sponsors_split if len(x) > 0]\n",
    "    n = len(sponsors_split)\n",
    "    sponsors_ls.extend(sponsors_split)\n",
    "    bill_nums.extend([ed_bills.loc[i,'bill_label']]*n)\n",
    "    append_df = pd.DataFrame({'primary_key':sponsors_ls, 'bill_labels':bill_nums})\n",
    "    sponsor_bill_lookup.append(append_df)\n",
    "\n",
    "leg_bill_lookup = pd.concat(sponsor_bill_lookup)\n",
    "leg_bill_lookup = leg_bill_lookup.reset_index(drop=True)\n",
    "leg_bill_lookup_grouped = leg_bill_lookup.groupby(['primary_key']).agg({\n",
    "    'bill_labels': ['|'.join, 'count']\n",
    "}).reset_index()\n",
    "\n",
    "leg_bill_lookup_grouped.columns = ['primary_key', 'bill_labels', 'bill_counts']\n",
    "\n",
    "\n",
    "\n",
    "\n",
    "print(leg_bill_lookup_grouped.columns)\n",
    "\n",
    "leg_bill_lookup_grouped\n"
   ]
  },
  {
   "cell_type": "code",
   "execution_count": 18,
   "metadata": {},
   "outputs": [],
   "source": [
    "\n",
    "#leg_bills_info\n",
    "\n",
    "leg_filename = r'C:\\Users\\clutz\\THE HUNT INSTITUTE\\The Hunt Institute Team Site - Documents\\Development (formerly Grants Management)\\!Administrative\\Christian\\Legislators Data\\leg_data_update_10_2024\\build files\\bills\\leg_bills_info.xlsx'\n",
    "leg_bill_lookup_grouped.to_excel(leg_filename, index=False)"
   ]
  },
  {
   "cell_type": "markdown",
   "metadata": {},
   "source": [
    "# END\n"
   ]
  },
  {
   "cell_type": "markdown",
   "metadata": {},
   "source": [
    "## Tagging for Program and Content Teams\n",
    "\n"
   ]
  },
  {
   "cell_type": "code",
   "execution_count": null,
   "metadata": {},
   "outputs": [
    {
     "name": "stdout",
     "output_type": "stream",
     "text": [
      "3\n"
     ]
    }
   ],
   "source": [
    "#[Bb]lack\n",
    "\n",
    "count = 0\n",
    "for i,b in enumerate(ed_bills['title']):\n",
    "    if re.search(r'[Dd]ay\\s?[Cc]are', str(b)):\n",
    "    # if re.search(r'[Ee]arly [Cc]h(i)?ld', str(b)) and len(str(b)) < 100:\n",
    "        # if re.search(r'[Ee]arly', str(b)):\n",
    "            print(str(b))\n",
    "            print('###################')\n",
    "            # wrapped_text = textwrap.fill(ed_bills.loc[i,'title'], width=100)\n",
    "            # print(wrapped_text)\n",
    "            # print('###################')\n",
    "            # print('\\n')\n",
    "            count += 1\n",
    "\n",
    "print(count)"
   ]
  },
  {
   "cell_type": "code",
   "execution_count": null,
   "metadata": {},
   "outputs": [],
   "source": [
    "\n",
    "ed_bills.loc[:,\"sponsors_helper\"] = np.nan\n",
    "for i,j in enumerate(ed_bills['sponsors']):\n",
    "    \n",
    "    # print(str(j))\n",
    "    \n",
    "\n",
    "    if isinstance(j,float):\n",
    "        continue\n",
    "    sponsors = str(j).split(',')\n",
    "    s_list = []\n",
    "    for s in sponsors:\n",
    "        # display_markdown(f'{s}', raw=True)\n",
    "        try:\n",
    "            lname_identifier = re.findall(r'\\w+\\s\\([RD]-[A-Z]{2}-\\d+\\)', str(s))[0]\n",
    "        except:\n",
    "            continue\n",
    "            # print('no last name')\n",
    "            # print(str(s))\n",
    "            # # print(type(j))\n",
    "        \n",
    "        \n",
    "        house_or_senate = re.findall(r'[Ss]en\\.|[Rr]ep\\.|[Dd]el\\.',str(s))\n",
    "        # print(house_or_senate)                \n",
    "\n",
    "        if len(house_or_senate) == 0:\n",
    "            if re.search(r'[Ss]peaker', str(s)):\n",
    "                chamber = 'House'\n",
    "            else:\n",
    "                print('not speaker but something else')\n",
    "                print(s)\n",
    "\n",
    "        else:\n",
    "            if house_or_senate[0] == \"Sen.\":\n",
    "                chamber = \"Senate\"\n",
    "                # print(\"found a senate\")\n",
    "            elif house_or_senate[0] == \"Rep.\" or house_or_senate[0] == \"Del.\":\n",
    "                chamber = \"House\"\n",
    "\n",
    "        # print(chamber)\n",
    "        state = re.findall(r'-[A-Z]{2}-',str(lname_identifier))[0]\n",
    "        state = state.strip('-')\n",
    "        # print(lname_identifier)\n",
    "        # print(str(state))\n",
    "        \n",
    "        district = re.findall(r'-\\d+', str(lname_identifier))[0]\n",
    "        district = district.lstrip('-').strip().lstrip('0')\n",
    "        name = re.findall(r'^\\w+', str(lname_identifier))[0]\n",
    "        # print(str(district))\n",
    "        if 'ND' in str(state):\n",
    "            helper = state +'-'+ chamber + \"-\" + district +'-' + name\n",
    "        elif \"CT\" in str(state) and chamber == \"Senate\":\n",
    "            helper = state +'-'+ chamber + \"-S\" + district\n",
    "\n",
    "        else:\n",
    "            helper = state +'-'+ chamber + \"-\" + district\n",
    "        s_list.append(helper)\n",
    "\n",
    "    sponsor_ext = \"|\".join(s_list)\n",
    "    # try:\n",
    "    #     print(sponsor_ext)\n",
    "    # except:\n",
    "    #     display_markdown(f'{s}', raw=True)\n",
    "\n",
    "\n",
    "    ed_bills.loc[i, 'sponsors_helper'] = str(sponsor_ext)\n",
    "\n",
    "\n",
    "    "
   ]
  },
  {
   "cell_type": "code",
   "execution_count": 97,
   "metadata": {},
   "outputs": [],
   "source": [
    "first_column = ed_bills.pop('sponsors_helper') \n",
    "ed_bills.insert(0, 'sponsors_helper', first_column) \n",
    "ed_bills.reset_index(inplace=True, drop=True)\n",
    "\n"
   ]
  },
  {
   "cell_type": "code",
   "execution_count": null,
   "metadata": {},
   "outputs": [],
   "source": [
    "#This is used to check if the values match the compiled_info csv\n",
    "\n",
    "helper_values = []\n",
    "for i,j in enumerate(ed_bills['sponsors_helper']):\n",
    "    helper_ls = str(j).split('|')\n",
    "    helper_values.extend(helper_ls)\n",
    "\n",
    "\n",
    "\n",
    "helper_values = list(set(helper_values))\n",
    "df = pd.DataFrame({\"helper\":helper_values})\n",
    "df.to_excel(r'C:\\Users\\clutz\\OneDrive - THE HUNT INSTITUTE\\Documents\\Data\\quorum\\bill data downloads\\exports\\unique_helpers.xlsx', index=False)"
   ]
  },
  {
   "cell_type": "code",
   "execution_count": null,
   "metadata": {},
   "outputs": [],
   "source": [
    "#taking bill data and providing cumulative totals\n",
    "sponsors_dfs = []\n",
    "for i,j in enumerate(ed_bills['sponsors_helper']):\n",
    "    sponsor_list = []\n",
    "    bill_label_list = []\n",
    "    \n",
    "    sponsors = str(j).split('|')\n",
    "    bill_number = ed_bills.loc[i,'bill_label']\n",
    "    n = len(sponsors)\n",
    "    print(bill_number)\n",
    "\n",
    "    sponsor_list.extend(sponsors)\n",
    "    bill_label_list.extend([str(bill_number)]*n)\n",
    "\n",
    "    df = pd.DataFrame({'sponsors':sponsor_list, \"bill_labels\": bill_label_list})\n",
    "    print(df.to_string())\n",
    "    sponsors_dfs.append(df)\n",
    "\n",
    "bills_and_sponsors = pd.concat(sponsors_dfs)\n",
    "bills_and_sponsors.reset_index(inplace=True, drop=True)"
   ]
  },
  {
   "cell_type": "code",
   "execution_count": null,
   "metadata": {},
   "outputs": [
    {
     "ename": "",
     "evalue": "",
     "output_type": "error",
     "traceback": [
      "\u001b[1;31mThe Kernel crashed while executing code in the current cell or a previous cell. \n",
      "\u001b[1;31mPlease review the code in the cell(s) to identify a possible cause of the failure. \n",
      "\u001b[1;31mClick <a href='https://aka.ms/vscodeJupyterKernelCrash'>here</a> for more info. \n",
      "\u001b[1;31mView Jupyter <a href='command:jupyter.viewOutput'>log</a> for further details."
     ]
    }
   ],
   "source": [
    "#grouping data together and getting list of events per legislator\n",
    "grouped_df = bills_and_sponsors.groupby('sponsors')#['bill_labels']#.apply('|'.join).reset_index()\n",
    "\n",
    "\n",
    "# agg({\n",
    "#     'bills': lambda x: \n",
    "#         f\"{sc} ({ac})\" if not pd.isna(ac) else f\"{sc}\"\n",
    "#         for sc, ac in zip(thi_states_df.loc[x.index, 'event name'], thi_states_df.loc[x.index, 'role'])),\n",
    "\n",
    "# }).reset_index()\n",
    "# # grouped_df.reset_index()\n",
    "# grouped_df.rename(columns={'event name': 'events'}, inplace=True)"
   ]
  },
  {
   "cell_type": "code",
   "execution_count": null,
   "metadata": {},
   "outputs": [],
   "source": [
    "\n",
    "bills_clean_up = non_ed_bills.loc[non_ed_bills['bill_sum'].notna() & (non_ed_bills['bill_sum'].str.contains(r'[Hh]igher ([Ee]d(ucation)?)?\\s?([Ll]earning)?'))]\n",
    "\n",
    "# for bill in non_ed_bills['title']:\n",
    "#     print('##############')\n",
    "#     print(bill)\n"
   ]
  },
  {
   "cell_type": "code",
   "execution_count": null,
   "metadata": {},
   "outputs": [],
   "source": [
    "\n",
    "# Iterate through each row in the 'bill_sum' column\n",
    "for text in all_bills['title'].dropna():\n",
    "    # Find all matches with 5 words of context before and after\n",
    "    matches = re.findall(r'(?:\\b\\w+\\b\\s){0,10}\\b[Ee]ducation\\b(?:\\s\\b\\w+\\b){0,10}', text)\n",
    "    matches_v2 = re.findall(r'.*[Ee]ducation.*|.*[Cc]hild.*|.*[Ss]chool.*|.*[Cc]harter.*|.*[Mm]ath.*|.*[Rr]ead.*|.*[Tt]each.*|.*[Pp]arent.*|.*[Kk]id.*|.*[Ss]tudent.*|.*[Cc]ollege.*|.*[Uu]niversit.*|.*[Tt]uition.*', str(text))\n",
    "\n",
    "\n",
    "    \n",
    "    # Print matches if found\n",
    "    print('####################')\n",
    "    for match in matches_v2:\n",
    "        \n",
    "        print(\"****\")\n",
    "        print(str(match))\n",
    "        print('\\n')\n",
    "\n",
    "\n",
    "\n",
    "\n"
   ]
  },
  {
   "cell_type": "code",
   "execution_count": null,
   "metadata": {},
   "outputs": [],
   "source": [
    "ec_subs = ['child\\s{0,1}care', 'early\\s{0,1}childhood', 'preschool']\n",
    "ec_pat = \"|\".join(ec_subs)\n",
    "print(ec_pat)"
   ]
  },
  {
   "cell_type": "markdown",
   "metadata": {},
   "source": [
    "%%"
   ]
  },
  {
   "cell_type": "code",
   "execution_count": null,
   "metadata": {},
   "outputs": [],
   "source": [
    "print(all_bills.columns)\n",
    "for bill in all_bills['bill_sum']:\n",
    "    if re.search(f'{ec_pat}', str(bill).lower()):\n",
    "        matches = re.findall(ec_pat, str(bill).lower())\n",
    "        print('############################')\n",
    "        print('***********')\n",
    "        print(*matches)\n",
    "        print('***********')\n",
    "        print(bill)\n",
    "        print('\\n')\n",
    "# %%"
   ]
  },
  {
   "cell_type": "code",
   "execution_count": null,
   "metadata": {},
   "outputs": [],
   "source": [
    "ec_ed_bills = all_bills[all_bills.subjects.str.contains(ec_pat, regex = True, case=False)]"
   ]
  },
  {
   "cell_type": "code",
   "execution_count": null,
   "metadata": {},
   "outputs": [],
   "source": [
    "ec_ed_bills.reset_index(inplace=True, drop=True)"
   ]
  },
  {
   "cell_type": "markdown",
   "metadata": {},
   "source": [
    "% Higher Ed"
   ]
  },
  {
   "cell_type": "code",
   "execution_count": null,
   "metadata": {},
   "outputs": [],
   "source": [
    "he_keywords = [\n",
    "    \"post-secondary transition\",\n",
    "    \"equity gaps\",\n",
    "    \"college-going rates\",\n",
    "    \"workforce readiness\",\n",
    "    \"certificate programs\",\n",
    "    \"wraparound services\",\n",
    "    \"stackable credentials\",\n",
    "    \"student persistence\",\n",
    "    \"retention strategies\",\n",
    "    \"lifelong learning\",\n",
    "    \"postsecondary barriers\",\n",
    "    \"alternative pathways\",\n",
    "    \"higher education institutions\",\n",
    "    \"higher education\",\n",
    "    \"legislative support for education\",\n",
    "    \"student success metrics\",\n",
    "    \"high quality credential\",\n",
    "    \"vocational training\",\n",
    "    \"attainment\",\n",
    "    \"persistence\",\n",
    "    \"resistance\",\n",
    "    \"graduation\"\n",
    "]"
   ]
  },
  {
   "cell_type": "code",
   "execution_count": null,
   "metadata": {},
   "outputs": [],
   "source": [
    "he_pat = r'\\b(' + '|'.join(map(re.escape, he_keywords)) + r')\\b'"
   ]
  },
  {
   "cell_type": "markdown",
   "metadata": {},
   "source": [
    "he_pat = \"|\".join(he_keywords)"
   ]
  },
  {
   "cell_type": "code",
   "execution_count": null,
   "metadata": {},
   "outputs": [],
   "source": [
    "print(he_pat)"
   ]
  },
  {
   "cell_type": "code",
   "execution_count": null,
   "metadata": {},
   "outputs": [],
   "source": [
    "all_bills['bill_sum'].fillna('nan',inplace=True)"
   ]
  },
  {
   "cell_type": "code",
   "execution_count": null,
   "metadata": {},
   "outputs": [],
   "source": [
    "he_ed_bills = all_bills[all_bills.bill_sum.str.contains(he_pat, regex = True, case=False)]\n",
    "he_ed_bills.reset_index(inplace=True, drop=True)"
   ]
  },
  {
   "cell_type": "code",
   "execution_count": null,
   "metadata": {},
   "outputs": [],
   "source": [
    "os.chdir(r'C:\\Users\\clutz\\OneDrive - THE HUNT INSTITUTE\\Documents\\Data\\bill_data\\Higher Ed')\n",
    "he_ed_bills.to_csv('higher_ed_bills.csv', index=False)\n",
    "# %%\n",
    "# print(all_bills.columns)\n",
    "for i,bill in enumerate(he_ed_bills['bill_sum']):\n",
    "    # matches = re.findall(he_pat, str(bill).lower())\n",
    "    matches = re.findall(r'graduation', str(bill).lower())\n",
    "    if matches:\n",
    "        grad_match = re.findall(r'higher ed|post-{0,1}secondary', str(bill).lower())\n",
    "        if grad_match:\n",
    "            continue\n",
    "        \n",
    "        else:\n",
    "            print('############################')\n",
    "            print(he_ed_bills.loc[i,'state'])\n",
    "            print(he_ed_bills.loc[i,'bill'])\n",
    "            print('############################')\n",
    "            print('***********')\n",
    "            print(*grad_match)\n",
    "            print('***********')\n",
    "            print(bill)\n",
    "            print('\\n')\n",
    "    \n",
    "        print('############################')\n",
    "        print(he_ed_bills.loc[i,'bill'])\n",
    "        print('############################')\n",
    "        print('***********')\n",
    "        print(*matches)\n",
    "        print('***********')\n",
    "        print(bill)\n",
    "        print('\\n')\n",
    "# %%"
   ]
  }
 ],
 "metadata": {
  "kernelspec": {
   "display_name": "hunt_env",
   "language": "python",
   "name": "python3"
  },
  "language_info": {
   "codemirror_mode": {
    "name": "ipython",
    "version": 3
   },
   "file_extension": ".py",
   "mimetype": "text/x-python",
   "name": "python",
   "nbconvert_exporter": "python",
   "pygments_lexer": "ipython3",
   "version": "3.12.5"
  }
 },
 "nbformat": 4,
 "nbformat_minor": 2
}
