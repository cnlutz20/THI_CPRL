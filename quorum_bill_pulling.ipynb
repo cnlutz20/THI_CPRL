{
 "cells": [
  {
   "cell_type": "markdown",
   "metadata": {},
   "source": [
    "## Setup"
   ]
  },
  {
   "cell_type": "code",
   "execution_count": 51,
   "metadata": {},
   "outputs": [],
   "source": [
    "#imports\n",
    "import os, sys, json, datetime, re # Provides OS-dependent functionality, system-specific parameters, JSON handling, and date/time manipulation\n",
    "import pandas as pd             # Provides data structures and data analysis tools\n",
    "import numpy as np              # Supports large, multi-dimensional arrays and matrices\n",
    "import ast\n",
    "import requests\n",
    "import urllib3\n",
    "import time\n",
    "import glob\n",
    "from tqdm import tqdm\n",
    "urllib3.disable_warnings(urllib3.exceptions.InsecureRequestWarning)\n",
    "from bs4 import BeautifulSoup\n",
    "# from pandas.core.common import SettingWithCopyWarning\n",
    "\n",
    "\n",
    "from IPython.display import display_markdown\n"
   ]
  },
  {
   "cell_type": "markdown",
   "metadata": {},
   "source": [
    "## Data Gathering"
   ]
  },
  {
   "cell_type": "code",
   "execution_count": 12,
   "metadata": {},
   "outputs": [],
   "source": [
    "#get most recent file\n",
    "os.chdir(r'C:\\Users\\clutz\\OneDrive - THE HUNT INSTITUTE\\Documents\\Data\\quorum\\bill data downloads')\n",
    "files = glob.glob('*.xlsx')\n",
    "\n",
    "if len(files) > 1:\n",
    "    max_mtime = 0\n",
    "    for file in files:\n",
    "        mtime = os.stat(file).st_mtime\n",
    "        if mtime > max_mtime:\n",
    "            max_mtime = mtime\n",
    "            max_file = file\n",
    "\n",
    "    bill_file = max_file\n",
    "\n",
    "else:\n",
    "    bill_file = files[0]\n",
    "\n"
   ]
  },
  {
   "cell_type": "code",
   "execution_count": 14,
   "metadata": {},
   "outputs": [],
   "source": [
    "#df creation\n",
    "all_bills = pd.read_excel(bill_file)\n",
    "all_bills.columns = ['bill', 'state','bill_label','title', 'bill_sum_ai', 'bill_sum','sponsors','status','last_action','source_link']\n",
    "\n",
    "# %% early ed bills\n",
    "# ec_subs =  [\n",
    "#     \"Child Care Comn\",\n",
    "#     \"Day Care\",\n",
    "#     \"Early Childhood Education\",\n",
    "#     \"Newborns & Infants\",\n",
    "#     \"Partnership For Children\",\n",
    "#     \"Social Services\"\n",
    "# ]\n",
    "\n"
   ]
  },
  {
   "cell_type": "code",
   "execution_count": 91,
   "metadata": {},
   "outputs": [
    {
     "name": "stderr",
     "output_type": "stream",
     "text": [
      "C:\\Users\\clutz\\AppData\\Local\\Temp\\ipykernel_10096\\1095051003.py:13: UserWarning: This pattern is interpreted as a regular expression, and has match groups. To actually get the groups, use str.extract.\n",
      "  (all_bills['title'].str.contains(\n"
     ]
    }
   ],
   "source": [
    "#looking through and testing various titles and descriptions\n",
    "# ed_bills = all_bills.loc[all_bills['title'].notna() & all_bills['title'].str.contains(r'.*[Ee]ducation.*|.*[Cc]hild.*|.*[Ss]chool.*|.*[Cc]harter.*|.*[Mm]ath.*|.*[Rr]ead.*|.*[Tt]each.*|.*[Pp]arent.*|.*[Kk]id.*|.*[Ss]tudent.*|.*[Cc]ollege.*|.*[Uu]niversit.*|.*[Tt]uition.*', regex=True)]\n",
    "# print(len(all_bills))\n",
    "# print(len(ed_bills))\n",
    "\n",
    "\n",
    "\n",
    "# ed_bills = all_bills.loc[(all_bills['title'].notna() & (all_bills['title'].str.contains(r'[Ii]ccb-?[Oo]ce[Ee]duc-.?|[Ee]arly [Cc]h(i)?ld|^Sch\\s?|[Hg]ighr [Ee]d|[Hh]igher ([Ee]d(ucation)?)?\\s?([Ll]earning)?|.*[Ee]ducation.*|.*[Cc]hild.*|.*[Ss]chool.*|.*[Cc]harter.*|.*[Mm]ath.*|.*[Rr]ead.*|.*[Tt]each.*|.*[Pp]arent.*|.*[Kk]id.*|.*[Ss]tudent.*|.*[Cc]ollege.*|.*[Uu]niversit.*|.*[Tt]uition.*', regex=True, na=False))) | all_bills['bill_sum'].str.contains(r'[Ee]arly\\s?-?[Cc]hildhood|[Ee]ducational\\s?[Rr]equirements|[Pp]ost-?\\s?[Ss]econdary\\s?[Ee]ducation|[Cc]hild\\s?[Ee]mploy', regex=True, na = True)]\n",
    "\n",
    "\n",
    "ed_bills = all_bills.loc[\n",
    "    (all_bills['title'].notna() & \n",
    "     (all_bills['title'].str.contains(\n",
    "         r'[Ii]ccb-?[Oo]ce[Ee]duc-.?|[Ee]arly [Cc]h(i)?ld|^Sch\\s?|[Hg]ighr [Ee]d|[Hh]igher ([Ee]d(ucation)?)?\\s?([Ll]earning)?|.*[Ee]ducation.*|.*[Cc]hild.*|.*[Ss]chool.*|.*[Cc]harter.*|.*[Mm]ath.*|.*[Rr]ead.*|.*[Tt]each.*|.*[Pp]arent.*|.*[Kk]id.*|.*[Ss]tudent.*|.*[Cc]ollege.*|.*[Uu]niversit.*|.*[Tt]uition.*', \n",
    "         regex=True, na=False\n",
    "     ))\n",
    "    ) \n",
    "    | \n",
    "    all_bills['bill_sum'].str.contains(\n",
    "        r'[Ee]arly\\s?-?[Cc]hildhood|[Ee]ducational\\s?[Rr]equirements|[Pp]ost-?\\s?[Ss]econdary\\s?[Ee]ducation|[Cc]hild\\s?[Ee]mploy', \n",
    "        regex=True, na=True\n",
    "    )\n",
    "]\n",
    "\n",
    "ed_bills.to_excel(r'C:\\Users\\clutz\\OneDrive - THE HUNT INSTITUTE\\Documents\\Data\\quorum\\bill data downloads\\exports\\ed_bills.xlsx', index = False)"
   ]
  },
  {
   "cell_type": "code",
   "execution_count": null,
   "metadata": {},
   "outputs": [],
   "source": [
    "\n",
    "ed_bills.loc[:,\"sponsors_helper\"] = np.nan\n",
    "for i,j in enumerate(ed_bills['sponsors']):\n",
    "    \n",
    "    # print(str(j))\n",
    "    \n",
    "\n",
    "    if isinstance(j,float):\n",
    "        continue\n",
    "    sponsors = str(j).split(',')\n",
    "    s_list = []\n",
    "    for s in sponsors:\n",
    "        # display_markdown(f'{s}', raw=True)\n",
    "        try:\n",
    "            lname_identifier = re.findall(r'\\w+\\s\\([RD]-[A-Z]{2}-\\d+\\)', str(s))[0]\n",
    "        except:\n",
    "            continue\n",
    "            # print('no last name')\n",
    "            # print(str(s))\n",
    "            # # print(type(j))\n",
    "        \n",
    "        \n",
    "        house_or_senate = re.findall(r'[Ss]en\\.|[Rr]ep\\.|[Dd]el\\.',str(s))\n",
    "        # print(house_or_senate)                \n",
    "\n",
    "        if len(house_or_senate) == 0:\n",
    "            if re.search(r'[Ss]peaker', str(s)):\n",
    "                chamber = 'House'\n",
    "            else:\n",
    "                print('not speaker but something else')\n",
    "                print(s)\n",
    "\n",
    "        else:\n",
    "            if house_or_senate[0] == \"Sen.\":\n",
    "                chamber = \"Senate\"\n",
    "                # print(\"found a senate\")\n",
    "            elif house_or_senate[0] == \"Rep.\" or house_or_senate[0] == \"Del.\":\n",
    "                chamber = \"House\"\n",
    "\n",
    "        # print(chamber)\n",
    "        state = re.findall(r'-[A-Z]{2}-',str(lname_identifier))[0]\n",
    "        state = state.strip('-')\n",
    "        # print(lname_identifier)\n",
    "        # print(str(state))\n",
    "        \n",
    "        district = re.findall(r'-\\d+', str(lname_identifier))[0]\n",
    "        district = district.lstrip('-').strip().lstrip('0')\n",
    "        name = re.findall(r'^\\w+', str(lname_identifier))[0]\n",
    "        # print(str(district))\n",
    "        if 'ND' in str(state):\n",
    "            helper = state +'-'+ chamber + \"-\" + district +'-' + name\n",
    "        elif \"CT\" in str(state) and chamber == \"Senate\":\n",
    "            helper = state +'-'+ chamber + \"-S\" + district\n",
    "\n",
    "        else:\n",
    "            helper = state +'-'+ chamber + \"-\" + district\n",
    "        s_list.append(helper)\n",
    "\n",
    "    sponsor_ext = \"|\".join(s_list)\n",
    "    # try:\n",
    "    #     print(sponsor_ext)\n",
    "    # except:\n",
    "    #     display_markdown(f'{s}', raw=True)\n",
    "\n",
    "\n",
    "    ed_bills.loc[i, 'sponsors_helper'] = str(sponsor_ext)\n",
    "\n",
    "\n",
    "    "
   ]
  },
  {
   "cell_type": "code",
   "execution_count": 97,
   "metadata": {},
   "outputs": [],
   "source": [
    "first_column = ed_bills.pop('sponsors_helper') \n",
    "ed_bills.insert(0, 'sponsors_helper', first_column) \n",
    "ed_bills.reset_index(inplace=True, drop=True)\n",
    "\n"
   ]
  },
  {
   "cell_type": "code",
   "execution_count": null,
   "metadata": {},
   "outputs": [],
   "source": [
    "#This is used to check if the values match the compiled_info csv\n",
    "\n",
    "helper_values = []\n",
    "for i,j in enumerate(ed_bills['sponsors_helper']):\n",
    "    helper_ls = str(j).split('|')\n",
    "    helper_values.extend(helper_ls)\n",
    "\n",
    "\n",
    "\n",
    "helper_values = list(set(helper_values))\n",
    "df = pd.DataFrame({\"helper\":helper_values})\n",
    "df.to_excel(r'C:\\Users\\clutz\\OneDrive - THE HUNT INSTITUTE\\Documents\\Data\\quorum\\bill data downloads\\exports\\unique_helpers.xlsx', index=False)"
   ]
  },
  {
   "cell_type": "code",
   "execution_count": null,
   "metadata": {},
   "outputs": [],
   "source": [
    "#taking bill data and providing cumulative totals\n",
    "sponsors_dfs = []\n",
    "for i,j in enumerate(ed_bills['sponsors_helper']):\n",
    "    sponsor_list = []\n",
    "    bill_label_list = []\n",
    "    \n",
    "    sponsors = str(j).split('|')\n",
    "    bill_number = ed_bills.loc[i,'bill_label']\n",
    "    n = len(sponsors)\n",
    "    print(bill_number)\n",
    "\n",
    "    sponsor_list.extend(sponsors)\n",
    "    bill_label_list.extend([str(bill_number)]*n)\n",
    "\n",
    "    df = pd.DataFrame({'sponsors':sponsor_list, \"bill_labels\": bill_label_list})\n",
    "    print(df.to_string())\n",
    "    sponsors_dfs.append(df)\n",
    "\n",
    "bills_and_sponsors = pd.concat(sponsors_dfs)\n",
    "bills_and_sponsors.reset_index(inplace=True, drop=True)"
   ]
  },
  {
   "cell_type": "code",
   "execution_count": null,
   "metadata": {},
   "outputs": [
    {
     "ename": "",
     "evalue": "",
     "output_type": "error",
     "traceback": [
      "\u001b[1;31mThe Kernel crashed while executing code in the current cell or a previous cell. \n",
      "\u001b[1;31mPlease review the code in the cell(s) to identify a possible cause of the failure. \n",
      "\u001b[1;31mClick <a href='https://aka.ms/vscodeJupyterKernelCrash'>here</a> for more info. \n",
      "\u001b[1;31mView Jupyter <a href='command:jupyter.viewOutput'>log</a> for further details."
     ]
    }
   ],
   "source": [
    "#grouping data together and getting list of events per legislator\n",
    "grouped_df = bills_and_sponsors.groupby('sponsors')#['bill_labels']#.apply('|'.join).reset_index()\n",
    "\n",
    "\n",
    "# agg({\n",
    "#     'bills': lambda x: \n",
    "#         f\"{sc} ({ac})\" if not pd.isna(ac) else f\"{sc}\"\n",
    "#         for sc, ac in zip(thi_states_df.loc[x.index, 'event name'], thi_states_df.loc[x.index, 'role'])),\n",
    "\n",
    "# }).reset_index()\n",
    "# # grouped_df.reset_index()\n",
    "# grouped_df.rename(columns={'event name': 'events'}, inplace=True)"
   ]
  },
  {
   "cell_type": "code",
   "execution_count": null,
   "metadata": {},
   "outputs": [],
   "source": [
    "\n",
    "bills_clean_up = non_ed_bills.loc[non_ed_bills['bill_sum'].notna() & (non_ed_bills['bill_sum'].str.contains(r'[Hh]igher ([Ee]d(ucation)?)?\\s?([Ll]earning)?'))]\n",
    "\n",
    "# for bill in non_ed_bills['title']:\n",
    "#     print('##############')\n",
    "#     print(bill)\n"
   ]
  },
  {
   "cell_type": "code",
   "execution_count": null,
   "metadata": {},
   "outputs": [],
   "source": [
    "\n",
    "# Iterate through each row in the 'bill_sum' column\n",
    "for text in all_bills['title'].dropna():\n",
    "    # Find all matches with 5 words of context before and after\n",
    "    matches = re.findall(r'(?:\\b\\w+\\b\\s){0,10}\\b[Ee]ducation\\b(?:\\s\\b\\w+\\b){0,10}', text)\n",
    "    matches_v2 = re.findall(r'.*[Ee]ducation.*|.*[Cc]hild.*|.*[Ss]chool.*|.*[Cc]harter.*|.*[Mm]ath.*|.*[Rr]ead.*|.*[Tt]each.*|.*[Pp]arent.*|.*[Kk]id.*|.*[Ss]tudent.*|.*[Cc]ollege.*|.*[Uu]niversit.*|.*[Tt]uition.*', str(text))\n",
    "\n",
    "\n",
    "    \n",
    "    # Print matches if found\n",
    "    print('####################')\n",
    "    for match in matches_v2:\n",
    "        \n",
    "        print(\"****\")\n",
    "        print(str(match))\n",
    "        print('\\n')\n",
    "\n",
    "\n",
    "\n",
    "\n"
   ]
  },
  {
   "cell_type": "code",
   "execution_count": null,
   "metadata": {},
   "outputs": [],
   "source": [
    "ec_subs = ['child\\s{0,1}care', 'early\\s{0,1}childhood', 'preschool']\n",
    "ec_pat = \"|\".join(ec_subs)\n",
    "print(ec_pat)"
   ]
  },
  {
   "cell_type": "markdown",
   "metadata": {},
   "source": [
    "%%"
   ]
  },
  {
   "cell_type": "code",
   "execution_count": null,
   "metadata": {},
   "outputs": [],
   "source": [
    "print(all_bills.columns)\n",
    "for bill in all_bills['bill_sum']:\n",
    "    if re.search(f'{ec_pat}', str(bill).lower()):\n",
    "        matches = re.findall(ec_pat, str(bill).lower())\n",
    "        print('############################')\n",
    "        print('***********')\n",
    "        print(*matches)\n",
    "        print('***********')\n",
    "        print(bill)\n",
    "        print('\\n')\n",
    "# %%"
   ]
  },
  {
   "cell_type": "code",
   "execution_count": null,
   "metadata": {},
   "outputs": [],
   "source": [
    "ec_ed_bills = all_bills[all_bills.subjects.str.contains(ec_pat, regex = True, case=False)]"
   ]
  },
  {
   "cell_type": "code",
   "execution_count": null,
   "metadata": {},
   "outputs": [],
   "source": [
    "ec_ed_bills.reset_index(inplace=True, drop=True)"
   ]
  },
  {
   "cell_type": "markdown",
   "metadata": {},
   "source": [
    "% Higher Ed"
   ]
  },
  {
   "cell_type": "code",
   "execution_count": null,
   "metadata": {},
   "outputs": [],
   "source": [
    "he_keywords = [\n",
    "    \"post-secondary transition\",\n",
    "    \"equity gaps\",\n",
    "    \"college-going rates\",\n",
    "    \"workforce readiness\",\n",
    "    \"certificate programs\",\n",
    "    \"wraparound services\",\n",
    "    \"stackable credentials\",\n",
    "    \"student persistence\",\n",
    "    \"retention strategies\",\n",
    "    \"lifelong learning\",\n",
    "    \"postsecondary barriers\",\n",
    "    \"alternative pathways\",\n",
    "    \"higher education institutions\",\n",
    "    \"higher education\",\n",
    "    \"legislative support for education\",\n",
    "    \"student success metrics\",\n",
    "    \"high quality credential\",\n",
    "    \"vocational training\",\n",
    "    \"attainment\",\n",
    "    \"persistence\",\n",
    "    \"resistance\",\n",
    "    \"graduation\"\n",
    "]"
   ]
  },
  {
   "cell_type": "code",
   "execution_count": null,
   "metadata": {},
   "outputs": [],
   "source": [
    "he_pat = r'\\b(' + '|'.join(map(re.escape, he_keywords)) + r')\\b'"
   ]
  },
  {
   "cell_type": "markdown",
   "metadata": {},
   "source": [
    "he_pat = \"|\".join(he_keywords)"
   ]
  },
  {
   "cell_type": "code",
   "execution_count": null,
   "metadata": {},
   "outputs": [],
   "source": [
    "print(he_pat)"
   ]
  },
  {
   "cell_type": "code",
   "execution_count": null,
   "metadata": {},
   "outputs": [],
   "source": [
    "all_bills['bill_sum'].fillna('nan',inplace=True)"
   ]
  },
  {
   "cell_type": "code",
   "execution_count": null,
   "metadata": {},
   "outputs": [],
   "source": [
    "he_ed_bills = all_bills[all_bills.bill_sum.str.contains(he_pat, regex = True, case=False)]\n",
    "he_ed_bills.reset_index(inplace=True, drop=True)"
   ]
  },
  {
   "cell_type": "code",
   "execution_count": null,
   "metadata": {},
   "outputs": [],
   "source": [
    "os.chdir(r'C:\\Users\\clutz\\OneDrive - THE HUNT INSTITUTE\\Documents\\Data\\bill_data\\Higher Ed')\n",
    "he_ed_bills.to_csv('higher_ed_bills.csv', index=False)\n",
    "# %%\n",
    "# print(all_bills.columns)\n",
    "for i,bill in enumerate(he_ed_bills['bill_sum']):\n",
    "    # matches = re.findall(he_pat, str(bill).lower())\n",
    "    matches = re.findall(r'graduation', str(bill).lower())\n",
    "    if matches:\n",
    "        grad_match = re.findall(r'higher ed|post-{0,1}secondary', str(bill).lower())\n",
    "        if grad_match:\n",
    "            continue\n",
    "        \n",
    "        else:\n",
    "            print('############################')\n",
    "            print(he_ed_bills.loc[i,'state'])\n",
    "            print(he_ed_bills.loc[i,'bill'])\n",
    "            print('############################')\n",
    "            print('***********')\n",
    "            print(*grad_match)\n",
    "            print('***********')\n",
    "            print(bill)\n",
    "            print('\\n')\n",
    "    \n",
    "        print('############################')\n",
    "        print(he_ed_bills.loc[i,'bill'])\n",
    "        print('############################')\n",
    "        print('***********')\n",
    "        print(*matches)\n",
    "        print('***********')\n",
    "        print(bill)\n",
    "        print('\\n')\n",
    "# %%"
   ]
  }
 ],
 "metadata": {
  "kernelspec": {
   "display_name": "hunt_env",
   "language": "python",
   "name": "python3"
  },
  "language_info": {
   "codemirror_mode": {
    "name": "ipython",
    "version": 3
   },
   "file_extension": ".py",
   "mimetype": "text/x-python",
   "name": "python",
   "nbconvert_exporter": "python",
   "pygments_lexer": "ipython3",
   "version": "3.12.5"
  }
 },
 "nbformat": 4,
 "nbformat_minor": 2
}
