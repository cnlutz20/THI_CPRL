{
 "cells": [
  {
   "cell_type": "markdown",
   "metadata": {},
   "source": [
    "## Setup"
   ]
  },
  {
   "cell_type": "code",
   "execution_count": null,
   "metadata": {},
   "outputs": [],
   "source": [
    "#imports\n",
    "import os, sys, json, datetime, re # Provides OS-dependent functionality, system-specific parameters, JSON handling, and date/time manipulation\n",
    "import pandas as pd             # Provides data structures and data analysis tools\n",
    "import numpy as np              # Supports large, multi-dimensional arrays and matrices\n",
    "import ast\n",
    "import requests\n",
    "import urllib3\n",
    "import time\n",
    "import glob\n",
    "from tqdm import tqdm\n",
    "urllib3.disable_warnings(urllib3.exceptions.InsecureRequestWarning)\n",
    "from bs4 import BeautifulSoup\n",
    "# from pandas.core.common import SettingWithCopyWarning\n",
    "\n",
    "from cprl_functions.state_capture import thi_states,state_ref, state_coding, state_pat, state_abv_pat\n",
    "from cprl_functions.defined_functions import create_pk, add_seats\n",
    "\n",
    "from IPython.display import display_markdown\n"
   ]
  },
  {
   "cell_type": "markdown",
   "metadata": {},
   "source": [
    "## Data Gathering"
   ]
  },
  {
   "cell_type": "code",
   "execution_count": 7,
   "metadata": {},
   "outputs": [],
   "source": [
    "#get most recent file\n",
    "os.chdir(r'C:\\Users\\clutz\\OneDrive - THE HUNT INSTITUTE\\Documents\\Data\\quorum\\bill data downloads')\n",
    "files = glob.glob('*.xlsx')\n",
    "\n",
    "if len(files) > 1:\n",
    "    max_mtime = 0\n",
    "    for file in files:\n",
    "        mtime = os.stat(file).st_mtime\n",
    "        if mtime > max_mtime:\n",
    "            max_mtime = mtime\n",
    "            max_file = file\n",
    "\n",
    "    bill_file = max_file\n",
    "\n",
    "else:\n",
    "    bill_file = files[0]\n",
    "\n"
   ]
  },
  {
   "cell_type": "code",
   "execution_count": null,
   "metadata": {},
   "outputs": [],
   "source": [
    "all_states = \"C:\\Users\\clutz\\Downloads\\all_states_bills.xlsx\""
   ]
  },
  {
   "cell_type": "code",
   "execution_count": 9,
   "metadata": {},
   "outputs": [
    {
     "data": {
      "text/plain": [
       "'\\nBills Data Pull_v2\\tRegion Abbreviation \\tBill Label without Title\\tTitle (no number)\\tAI Summary\\tOfficial Summary\\tSponsors List\\tStatus Text\\tStatus Date\\tLast Timeline Action\\tSource Link\\tLast Timeline Action Date\\tDate Introduced\\tDetailed Status Date\\tDetailed Status\\n\\n'"
      ]
     },
     "execution_count": 9,
     "metadata": {},
     "output_type": "execute_result"
    }
   ],
   "source": [
    "#df creation\n",
    "all_bills = pd.read_excel(bill_file)\n",
    "all_bills.columns = ['bill', 'state','bill_label','title', 'bill_sum_ai', 'bill_sum','sponsors','status','status_date','last_action','quorum_link']\n",
    "\n",
    "'''\n",
    "Bills Data Pull_v2\tRegion Abbreviation \tBill Label without Title\tTitle (no number)\tAI Summary\tOfficial Summary\tSponsors List\tStatus Text\tStatus Date\tLast Timeline Action\tSource Link\tLast Timeline Action Date\tDate Introduced\tDetailed Status Date\tDetailed Status\n",
    "\n",
    "'''\n",
    "\n",
    "# %% early ed bills\n",
    "# ec_subs =  [\n",
    "#     \"Child Care Comn\",\n",
    "#     \"Day Care\",\n",
    "#     \"Early Childhood Education\",\n",
    "#     \"Newborns & Infants\",\n",
    "#     \"Partnership For Children\",\n",
    "#     \"Social Services\"\n",
    "# ]\n",
    "\n"
   ]
  },
  {
   "cell_type": "code",
   "execution_count": 44,
   "metadata": {},
   "outputs": [
    {
     "name": "stdout",
     "output_type": "stream",
     "text": [
      "Child Care-Day Care Center\n",
      "###################\n",
      "Day Care-Military Children\n",
      "###################\n",
      "$Dhs-Lawndale Comm Daycare\n",
      "###################\n",
      "Long-term care; Oklahoma Health Care Authority; PACE program; agreements; enforcement; regulations; exemption; rules; Adult Day Care Act; Home Care Act; modifying definitions; emergency.\n",
      "###################\n",
      "Increased Security - Nonpublics &amp; Day Cares.\n",
      "###################\n",
      "Prop Tx-Day Care Centers\n",
      "###################\n",
      "Use/Occ Tx-Exempt Day Care\n",
      "###################\n",
      "Day Care Licensing-Dhs\n",
      "###################\n",
      "Dhs-Day Care-Paid Sick Day\n",
      "###################\n",
      "House Substitute for House Substitute for SB 96 by Committee on Commerce, Labor and Economic Development - Establishing child care licensing requirements relating to license capacity and staff-to-child ratios, eliminating certain license fees and training requirements, creating a process for day care facility licensees to apply for temporary waiver of certain statutory requirements and authorizing the secretary to develop and operate pilot programs to increase child care facility availability or capacity, transferring certain child care programs to the Kansas office of early childhood and separating licensing duties between the secretary for health and environment and the executive director of early childhood.\n",
      "###################\n",
      "Adult day care centers; name changes to adult day centers throughout the Code.\n",
      "###################\n",
      "Adult day care centers; name changes to adult day centers throughout the Code.\n",
      "###################\n",
      "Day care centers; required to install and maintain video cameras; use of cameras and recordings, limited to certain circumstances; video recordings confidential except following incident of alleged abuse, neglect, harassment, or other inappropriate behavior; Dept. of Human Resources required to adopt rules\n",
      "###################\n",
      "13\n"
     ]
    }
   ],
   "source": [
    "#looking through and testing various titles and descriptions\n",
    "# ed_bills = all_bills.loc[all_bills['title'].notna() & all_bills['title'].str.contains(r'.*[Ee]ducation.*|.*[Cc]hild.*|.*[Ss]chool.*|.*[Cc]harter.*|.*[Mm]ath.*|.*[Rr]ead.*|.*[Tt]each.*|.*[Pp]arent.*|.*[Kk]id.*|.*[Ss]tudent.*|.*[Cc]ollege.*|.*[Uu]niversit.*|.*[Tt]uition.*', regex=True)]\n",
    "# print(len(all_bills))\n",
    "# print(len(ed_bills))\n",
    "\n",
    "\n",
    "import textwrap\n",
    "\n",
    "# ed_bills = all_bills.loc[(all_bills['title'].notna() & (all_bills['title'].str.contains(r'[Ii]ccb-?[Oo]ce[Ee]duc-.?|[Ee]arly [Cc]h(i)?ld|^Sch\\s?|[Hg]ighr [Ee]d|[Hh]igher ([Ee]d(ucation)?)?\\s?([Ll]earning)?|.*[Ee]ducation.*|.*[Cc]hild.*|.*[Ss]chool.*|.*[Cc]harter.*|.*[Mm]ath.*|.*[Rr]ead.*|.*[Tt]each.*|.*[Pp]arent.*|.*[Kk]id.*|.*[Ss]tudent.*|.*[Cc]ollege.*|.*[Uu]niversit.*|.*[Tt]uition.*', regex=True, na=False))) | all_bills['bill_sum'].str.contains(r'[Ee]arly\\s?-?[Cc]hildhood|[Ee]ducational\\s?[Rr]equirements|[Pp]ost-?\\s?[Ss]econdary\\s?[Ee]ducation|[Cc]hild\\s?[Ee]mploy', regex=True, na = True)]\n",
    "\n",
    "count = 0\n",
    "for i,b in enumerate(all_bills['title']):\n",
    "    if re.search(r'[Dd]ay\\s?[Cc]are', str(b)):\n",
    "    # if re.search(r'[Ee]arly [Cc]h(i)?ld', str(b)) and len(str(b)) < 100:\n",
    "        \n",
    "        print(str(b))\n",
    "        print('###################')\n",
    "        # wrapped_text = textwrap.fill((all_bills.loc[i,'bill_sum']), width=100)\n",
    "        # print(wrapped_text)\n",
    "        # print('###################')\n",
    "        # print('\\n')\n",
    "        count += 1\n",
    "\n",
    "print(count)\n",
    "\n",
    "\n",
    "\n"
   ]
  },
  {
   "cell_type": "code",
   "execution_count": 10,
   "metadata": {},
   "outputs": [
    {
     "name": "stderr",
     "output_type": "stream",
     "text": [
      "C:\\Users\\clutz\\AppData\\Local\\Temp\\ipykernel_20828\\400887923.py:3: UserWarning: This pattern is interpreted as a regular expression, and has match groups. To actually get the groups, use str.extract.\n",
      "  (all_bills['title'].str.contains(\n",
      "C:\\Users\\clutz\\AppData\\Local\\Temp\\ipykernel_20828\\400887923.py:15: UserWarning: This pattern is interpreted as a regular expression, and has match groups. To actually get the groups, use str.extract.\n",
      "  ed_bills = ed_bills[~((ed_bills.title.str.contains(r'[Cc]ongrat[Ss]?(ulations)?|[Mm]ourn|[Mm]emorial|[Cc]ommending|[Hh]onoring', regex = True, na = True)) |\n",
      "C:\\Users\\clutz\\AppData\\Local\\Temp\\ipykernel_20828\\400887923.py:16: UserWarning: This pattern is interpreted as a regular expression, and has match groups. To actually get the groups, use str.extract.\n",
      "  (ed_bills.title.str.contains(r'[Cc]ongrat[Ss]?(ulations)?|[Mm]ourn|[Mm]emorial|[Cc]ommending|[Hh]onoring', regex = True, na = True))) ]\n"
     ]
    }
   ],
   "source": [
    "\n",
    "ed_bills = all_bills.loc[\n",
    "    (all_bills['title'].notna() & \n",
    "     (all_bills['title'].str.contains(\n",
    "         r'[Ii]ccb-?|[Oo]ce-|[Ee]duc-.?|[Ee]arly [Cc]h(i)?ld|^Sch\\s?|[Hg]ighr [Ee]d|[Hh]igher ([Ee]d(ucation)?)?\\s?([Ll]earning)?|.*[Ee]ducation.*|.*[Cc]hild.*|.*[Ss]chool.*|.*[Cc]harter.*|.*[Mm]ath.*|.*[Rr]ead.*|.*[Tt]each.*|.*[Pp]arent.*|.*[Kk]id.*|.*[Ss]tudent.*|.*[Cc]ollege.*|.*[Uu]niversit.*|.*[Tt]uition.*', \n",
    "         regex=True, na=False\n",
    "     ))\n",
    "    ) \n",
    "    | \n",
    "    all_bills['bill_sum'].str.contains(\n",
    "        r'[Ee]arly\\s?-?[Cc]hildhood|[Ee]ducational\\s?[Rr]equirements|[Pp]ost-?\\s?[Ss]econdary\\s?[Ee]ducation|[Cc]hild\\s?[Ee]mploy', \n",
    "        regex=True, na=True\n",
    "    )\n",
    "]\n",
    "\n",
    "ed_bills = ed_bills[~((ed_bills.title.str.contains(r'[Cc]ongrat[Ss]?(ulations)?|[Mm]ourn|[Mm]emorial|[Cc]ommending|[Hh]onoring', regex = True, na = True)) |\n",
    "                    (ed_bills.title.str.contains(r'[Cc]ongrat[Ss]?(ulations)?|[Mm]ourn|[Mm]emorial|[Cc]ommending|[Hh]onoring', regex = True, na = True))) ]\n",
    "\n",
    "ed_bills = ed_bills.reset_index(drop=True)\n",
    "# ed_bills = ed_bills[~ed_bills.title.str.contains(r'[Cc]ongrat[Ss]?(ulations)?|[Mm]ourn|[Mm]emorial|[Cc]ommending|[Hh]onoring', regex = True, na = True)]"
   ]
  },
  {
   "cell_type": "code",
   "execution_count": null,
   "metadata": {},
   "outputs": [],
   "source": [
    "ed_bills['pk_sponsors'] = np.nan\n",
    "for i,j in enumerate(ed_bills['sponsors']):\n",
    "\n",
    "    # print(j)\n",
    "    is_nan = pd.isna(ed_bills.loc[i,'sponsors'])  # True\n",
    "    if is_nan == True:\n",
    "        continue\n",
    "    try:\n",
    "        sponsor_split = j.split(',')\n",
    "    except:\n",
    "        print('************')\n",
    "        print(f'sponsors: {j}')\n",
    "        print(f'title: {str(ed_bills.loc[i,'title'])}')\n",
    "        print('************')\n",
    "    if len(sponsor_split) == 1:\n",
    "        sponsor_split = [j]\n",
    "    \n",
    "        \n",
    "    pks = []\n",
    "    \n",
    "    for s in enumerate(sponsor_split):\n",
    "        chamber_match = re.findall(r'[Ss]en\\.|[Rr]ep\\.|[Ss]peaker|[Dd]el\\.', str(s))\n",
    "        if len(chamber_match) == 0:\n",
    "            print(f'here is what has no chamber: {s}')\n",
    "            continue\n",
    "        # if not chamber_match[0]:\n",
    "        #     print(chamber_match)\n",
    "        #     print(s)\n",
    "        #     continue\n",
    "\n",
    "        if 'rep' in str(chamber_match[0]).lower() or 'speaker' in str(chamber_match[0]).lower() or 'del' in str(chamber_match[0]).lower():\n",
    "            chamber_code = '0'\n",
    "        elif 'sen' in str(chamber_match[0]).lower():\n",
    "            chamber_code = '1'\n",
    "        get_dis_and_state = re.findall(r'(?!\\()[A-Z]{1}-[A-Z]{2}-\\d{1,3}(?<!\\))', str(s))\n",
    "\n",
    "        if len(get_dis_and_state) == 0:\n",
    "            print('regex failed')\n",
    "            print(s)\n",
    "        else:\n",
    "            broken_up_val = str(get_dis_and_state[0]).split('-')\n",
    "            state_code = state_coding.get(broken_up_val[1])\n",
    "        # print(type(state_code))\n",
    "            district_code = broken_up_val[2]\n",
    "            desired_length = 3\n",
    "\n",
    "            if len(district_code) < desired_length:\n",
    "                district_code = district_code.zfill(desired_length)\n",
    "\n",
    "        pk = str(state_code)+chamber_code+district_code\n",
    "        pks.append(pk)\n",
    "\n",
    "    pks_for_bill = '|'.join(pks)\n",
    "    ed_bills.loc[i,'pk_sponsors'] = pks_for_bill\n",
    "            \n",
    "print(ed_bills.head())\n",
    "\n"
   ]
  },
  {
   "cell_type": "code",
   "execution_count": 12,
   "metadata": {},
   "outputs": [
    {
     "name": "stderr",
     "output_type": "stream",
     "text": [
      "<>:9: SyntaxWarning: invalid escape sequence '\\s'\n",
      "<>:9: SyntaxWarning: invalid escape sequence '\\s'\n",
      "C:\\Users\\clutz\\AppData\\Local\\Temp\\ipykernel_20828\\1357261867.py:9: SyntaxWarning: invalid escape sequence '\\s'\n",
      "  if re.search('[Pp]ost-?\\s?[Ss]econdary\\s?[Ee]ducation', str(b)):\n"
     ]
    }
   ],
   "source": [
    "\n",
    "\n",
    "ed_bills['HE_tag'] = False\n",
    "ed_bills['EC_tag'] = False\n",
    "ed_bills['ED_tag'] = False\n",
    "i = 0\n",
    "for a,b in zip(ed_bills.title, ed_bills.bill_sum):\n",
    "    if re.search(r'[Ii]ccb|[Ee]duc-.?|[Hg]ighr [Ee]d|[Hh]igher ([Ee]d(ucation)?)?\\s?([Ll]earning)?|.*[Cc]ollege.*|.*[Uu]niversit.*|.*[Tt]uition.*', str(a)):\n",
    "        ed_bills.loc[i,'HE_tag'] = True\n",
    "    \n",
    "    if re.search('[Pp]ost-?\\s?[Ss]econdary\\s?[Ee]ducation', str(b)):\n",
    "        ed_bills.loc[i,'HE_tag'] = True\n",
    "\n",
    "\n",
    "    if re.search('[Ee]arly [Cc]h(i)?ld', str(a)):\n",
    "        ed_bills.loc[i,'EC_tag'] = True\n",
    "\n",
    "    if re.search(r'[Ee]arly\\s?-?[Cc]hildhood', str(b)):\n",
    "        ed_bills.loc[i,'EC_tag'] = True\n",
    "\n",
    "    i += 1\n",
    "\n",
    "\n",
    "ec_bills = ed_bills[ed_bills['EC_tag']==True]\n",
    "he_bills = ed_bills[ed_bills['HE_tag']==True]\n",
    "\n",
    "# # ed_bills\n",
    "# he_bills.to_csv(r'C:\\Users\\clutz\\OneDrive - THE HUNT INSTITUTE\\Documents\\Data\\bill_data\\bill_pulls\\he_bills.csv', index = False)\n",
    "# ec_bills.to_csv(r'C:\\Users\\clutz\\OneDrive - THE HUNT INSTITUTE\\Documents\\Data\\bill_data\\bill_pulls\\ec_bills.csv', index = False)"
   ]
  },
  {
   "cell_type": "code",
   "execution_count": 16,
   "metadata": {},
   "outputs": [],
   "source": [
    "\n",
    "# Move the 'C' column to the first position\n",
    "column_to_move = ed_bills.pop('bill_label')\n",
    "ed_bills.insert(0, 'bill_label', column_to_move)\n",
    "\n",
    "ed_bills.to_excel(r'C:\\Users\\clutz\\THE HUNT INSTITUTE\\The Hunt Institute Team Site - Documents\\Development (formerly Grants Management)\\!Administrative\\Christian\\Legislators Data\\leg_data_update_10_2024\\build files\\bills\\ed_bills.xlsx', sheet_name=f'ed_bills',index = False)"
   ]
  },
  {
   "cell_type": "code",
   "execution_count": null,
   "metadata": {},
   "outputs": [],
   "source": [
    "ed_bills.head()"
   ]
  },
  {
   "cell_type": "code",
   "execution_count": 17,
   "metadata": {},
   "outputs": [
    {
     "name": "stdout",
     "output_type": "stream",
     "text": [
      "Index(['primary_key', 'bill_labels', 'bill_counts'], dtype='object')\n"
     ]
    },
    {
     "data": {
      "text/html": [
       "<div>\n",
       "<style scoped>\n",
       "    .dataframe tbody tr th:only-of-type {\n",
       "        vertical-align: middle;\n",
       "    }\n",
       "\n",
       "    .dataframe tbody tr th {\n",
       "        vertical-align: top;\n",
       "    }\n",
       "\n",
       "    .dataframe thead th {\n",
       "        text-align: right;\n",
       "    }\n",
       "</style>\n",
       "<table border=\"1\" class=\"dataframe\">\n",
       "  <thead>\n",
       "    <tr style=\"text-align: right;\">\n",
       "      <th></th>\n",
       "      <th>primary_key</th>\n",
       "      <th>bill_labels</th>\n",
       "      <th>bill_counts</th>\n",
       "    </tr>\n",
       "  </thead>\n",
       "  <tbody>\n",
       "    <tr>\n",
       "      <th>0</th>\n",
       "      <td>100003</td>\n",
       "      <td>H.B.353</td>\n",
       "      <td>1</td>\n",
       "    </tr>\n",
       "    <tr>\n",
       "      <th>1</th>\n",
       "      <td>100008</td>\n",
       "      <td>H.B.308|H.B.188</td>\n",
       "      <td>2</td>\n",
       "    </tr>\n",
       "    <tr>\n",
       "      <th>2</th>\n",
       "      <td>100009</td>\n",
       "      <td>H.B.67</td>\n",
       "      <td>1</td>\n",
       "    </tr>\n",
       "    <tr>\n",
       "      <th>3</th>\n",
       "      <td>100011</td>\n",
       "      <td>H.J.R.15</td>\n",
       "      <td>1</td>\n",
       "    </tr>\n",
       "    <tr>\n",
       "      <th>4</th>\n",
       "      <td>100012</td>\n",
       "      <td>H.J.R.168</td>\n",
       "      <td>1</td>\n",
       "    </tr>\n",
       "    <tr>\n",
       "      <th>...</th>\n",
       "      <td>...</td>\n",
       "      <td>...</td>\n",
       "      <td>...</td>\n",
       "    </tr>\n",
       "    <tr>\n",
       "      <th>871</th>\n",
       "      <td>551036</td>\n",
       "      <td>S.B. 395|S.B. 738|S.B. 225|S.B. 586|S.B. 608</td>\n",
       "      <td>5</td>\n",
       "    </tr>\n",
       "    <tr>\n",
       "      <th>872</th>\n",
       "      <td>551037</td>\n",
       "      <td>S.B. 21</td>\n",
       "      <td>1</td>\n",
       "    </tr>\n",
       "    <tr>\n",
       "      <th>873</th>\n",
       "      <td>551038</td>\n",
       "      <td>S.B. 159|S.B. 379</td>\n",
       "      <td>2</td>\n",
       "    </tr>\n",
       "    <tr>\n",
       "      <th>874</th>\n",
       "      <td>551039</td>\n",
       "      <td>S.B. 44</td>\n",
       "      <td>1</td>\n",
       "    </tr>\n",
       "    <tr>\n",
       "      <th>875</th>\n",
       "      <td>551040</td>\n",
       "      <td>S.B. 12|S.B. 39|S.B. 60|S.B. 220|S.B. 13</td>\n",
       "      <td>5</td>\n",
       "    </tr>\n",
       "  </tbody>\n",
       "</table>\n",
       "<p>876 rows × 3 columns</p>\n",
       "</div>"
      ],
      "text/plain": [
       "    primary_key                                   bill_labels  bill_counts\n",
       "0        100003                                       H.B.353            1\n",
       "1        100008                               H.B.308|H.B.188            2\n",
       "2        100009                                        H.B.67            1\n",
       "3        100011                                      H.J.R.15            1\n",
       "4        100012                                     H.J.R.168            1\n",
       "..          ...                                           ...          ...\n",
       "871      551036  S.B. 395|S.B. 738|S.B. 225|S.B. 586|S.B. 608            5\n",
       "872      551037                                       S.B. 21            1\n",
       "873      551038                             S.B. 159|S.B. 379            2\n",
       "874      551039                                       S.B. 44            1\n",
       "875      551040      S.B. 12|S.B. 39|S.B. 60|S.B. 220|S.B. 13            5\n",
       "\n",
       "[876 rows x 3 columns]"
      ]
     },
     "execution_count": 17,
     "metadata": {},
     "output_type": "execute_result"
    }
   ],
   "source": [
    "#Summary of bills\n",
    "sponsor_bill_lookup = []\n",
    "for i,j in enumerate(ed_bills['pk_sponsors']):\n",
    "    is_nan = pd.isna(ed_bills.loc[i,'pk_sponsors'])  # True\n",
    "\n",
    "    if is_nan == True:\n",
    "        continue \n",
    "    sponsors_ls = []\n",
    "    bill_nums = []\n",
    "    sponsors_split = str(j).split('|')\n",
    "    sponsors_split = [x for x in sponsors_split if len(x) > 0]\n",
    "    n = len(sponsors_split)\n",
    "    sponsors_ls.extend(sponsors_split)\n",
    "    bill_nums.extend([ed_bills.loc[i,'bill_label']]*n)\n",
    "    append_df = pd.DataFrame({'primary_key':sponsors_ls, 'bill_labels':bill_nums})\n",
    "    sponsor_bill_lookup.append(append_df)\n",
    "\n",
    "leg_bill_lookup = pd.concat(sponsor_bill_lookup)\n",
    "leg_bill_lookup = leg_bill_lookup.reset_index(drop=True)\n",
    "leg_bill_lookup_grouped = leg_bill_lookup.groupby(['primary_key']).agg({\n",
    "    'bill_labels': ['|'.join, 'count']\n",
    "}).reset_index()\n",
    "\n",
    "leg_bill_lookup_grouped.columns = ['primary_key', 'bill_labels', 'bill_counts']\n",
    "\n",
    "\n",
    "\n",
    "\n",
    "print(leg_bill_lookup_grouped.columns)\n",
    "\n",
    "leg_bill_lookup_grouped\n"
   ]
  },
  {
   "cell_type": "code",
   "execution_count": 18,
   "metadata": {},
   "outputs": [],
   "source": [
    "\n",
    "#leg_bills_info\n",
    "\n",
    "leg_filename = r'C:\\Users\\clutz\\THE HUNT INSTITUTE\\The Hunt Institute Team Site - Documents\\Development (formerly Grants Management)\\!Administrative\\Christian\\Legislators Data\\leg_data_update_10_2024\\build files\\bills\\leg_bills_info.xlsx'\n",
    "leg_bill_lookup_grouped.to_excel(leg_filename, index=False)"
   ]
  },
  {
   "cell_type": "markdown",
   "metadata": {},
   "source": [
    "# END\n"
   ]
  },
  {
   "cell_type": "markdown",
   "metadata": {},
   "source": [
    "## Tagging for Program and Content Teams\n",
    "\n"
   ]
  },
  {
   "cell_type": "code",
   "execution_count": null,
   "metadata": {},
   "outputs": [
    {
     "name": "stdout",
     "output_type": "stream",
     "text": [
      "3\n"
     ]
    }
   ],
   "source": [
    "#[Bb]lack\n",
    "\n",
    "count = 0\n",
    "for i,b in enumerate(ed_bills['title']):\n",
    "    if re.search(r'[Dd]ay\\s?[Cc]are', str(b)):\n",
    "    # if re.search(r'[Ee]arly [Cc]h(i)?ld', str(b)) and len(str(b)) < 100:\n",
    "        # if re.search(r'[Ee]arly', str(b)):\n",
    "            print(str(b))\n",
    "            print('###################')\n",
    "            # wrapped_text = textwrap.fill(ed_bills.loc[i,'title'], width=100)\n",
    "            # print(wrapped_text)\n",
    "            # print('###################')\n",
    "            # print('\\n')\n",
    "            count += 1\n",
    "\n",
    "print(count)"
   ]
  },
  {
   "cell_type": "code",
   "execution_count": null,
   "metadata": {},
   "outputs": [],
   "source": [
    "\n",
    "ed_bills.loc[:,\"sponsors_helper\"] = np.nan\n",
    "for i,j in enumerate(ed_bills['sponsors']):\n",
    "    \n",
    "    # print(str(j))\n",
    "    \n",
    "\n",
    "    if isinstance(j,float):\n",
    "        continue\n",
    "    sponsors = str(j).split(',')\n",
    "    s_list = []\n",
    "    for s in sponsors:\n",
    "        # display_markdown(f'{s}', raw=True)\n",
    "        try:\n",
    "            lname_identifier = re.findall(r'\\w+\\s\\([RD]-[A-Z]{2}-\\d+\\)', str(s))[0]\n",
    "        except:\n",
    "            continue\n",
    "            # print('no last name')\n",
    "            # print(str(s))\n",
    "            # # print(type(j))\n",
    "        \n",
    "        \n",
    "        house_or_senate = re.findall(r'[Ss]en\\.|[Rr]ep\\.|[Dd]el\\.',str(s))\n",
    "        # print(house_or_senate)                \n",
    "\n",
    "        if len(house_or_senate) == 0:\n",
    "            if re.search(r'[Ss]peaker', str(s)):\n",
    "                chamber = 'House'\n",
    "            else:\n",
    "                print('not speaker but something else')\n",
    "                print(s)\n",
    "\n",
    "        else:\n",
    "            if house_or_senate[0] == \"Sen.\":\n",
    "                chamber = \"Senate\"\n",
    "                # print(\"found a senate\")\n",
    "            elif house_or_senate[0] == \"Rep.\" or house_or_senate[0] == \"Del.\":\n",
    "                chamber = \"House\"\n",
    "\n",
    "        # print(chamber)\n",
    "        state = re.findall(r'-[A-Z]{2}-',str(lname_identifier))[0]\n",
    "        state = state.strip('-')\n",
    "        # print(lname_identifier)\n",
    "        # print(str(state))\n",
    "        \n",
    "        district = re.findall(r'-\\d+', str(lname_identifier))[0]\n",
    "        district = district.lstrip('-').strip().lstrip('0')\n",
    "        name = re.findall(r'^\\w+', str(lname_identifier))[0]\n",
    "        # print(str(district))\n",
    "        if 'ND' in str(state):\n",
    "            helper = state +'-'+ chamber + \"-\" + district +'-' + name\n",
    "        elif \"CT\" in str(state) and chamber == \"Senate\":\n",
    "            helper = state +'-'+ chamber + \"-S\" + district\n",
    "\n",
    "        else:\n",
    "            helper = state +'-'+ chamber + \"-\" + district\n",
    "        s_list.append(helper)\n",
    "\n",
    "    sponsor_ext = \"|\".join(s_list)\n",
    "    # try:\n",
    "    #     print(sponsor_ext)\n",
    "    # except:\n",
    "    #     display_markdown(f'{s}', raw=True)\n",
    "\n",
    "\n",
    "    ed_bills.loc[i, 'sponsors_helper'] = str(sponsor_ext)\n",
    "\n",
    "\n",
    "    "
   ]
  },
  {
   "cell_type": "code",
   "execution_count": 97,
   "metadata": {},
   "outputs": [],
   "source": [
    "first_column = ed_bills.pop('sponsors_helper') \n",
    "ed_bills.insert(0, 'sponsors_helper', first_column) \n",
    "ed_bills.reset_index(inplace=True, drop=True)\n",
    "\n"
   ]
  },
  {
   "cell_type": "code",
   "execution_count": null,
   "metadata": {},
   "outputs": [],
   "source": [
    "#This is used to check if the values match the compiled_info csv\n",
    "\n",
    "helper_values = []\n",
    "for i,j in enumerate(ed_bills['sponsors_helper']):\n",
    "    helper_ls = str(j).split('|')\n",
    "    helper_values.extend(helper_ls)\n",
    "\n",
    "\n",
    "\n",
    "helper_values = list(set(helper_values))\n",
    "df = pd.DataFrame({\"helper\":helper_values})\n",
    "df.to_excel(r'C:\\Users\\clutz\\OneDrive - THE HUNT INSTITUTE\\Documents\\Data\\quorum\\bill data downloads\\exports\\unique_helpers.xlsx', index=False)"
   ]
  },
  {
   "cell_type": "code",
   "execution_count": null,
   "metadata": {},
   "outputs": [],
   "source": [
    "#taking bill data and providing cumulative totals\n",
    "sponsors_dfs = []\n",
    "for i,j in enumerate(ed_bills['sponsors_helper']):\n",
    "    sponsor_list = []\n",
    "    bill_label_list = []\n",
    "    \n",
    "    sponsors = str(j).split('|')\n",
    "    bill_number = ed_bills.loc[i,'bill_label']\n",
    "    n = len(sponsors)\n",
    "    print(bill_number)\n",
    "\n",
    "    sponsor_list.extend(sponsors)\n",
    "    bill_label_list.extend([str(bill_number)]*n)\n",
    "\n",
    "    df = pd.DataFrame({'sponsors':sponsor_list, \"bill_labels\": bill_label_list})\n",
    "    print(df.to_string())\n",
    "    sponsors_dfs.append(df)\n",
    "\n",
    "bills_and_sponsors = pd.concat(sponsors_dfs)\n",
    "bills_and_sponsors.reset_index(inplace=True, drop=True)"
   ]
  },
  {
   "cell_type": "code",
   "execution_count": null,
   "metadata": {},
   "outputs": [
    {
     "ename": "",
     "evalue": "",
     "output_type": "error",
     "traceback": [
      "\u001b[1;31mThe Kernel crashed while executing code in the current cell or a previous cell. \n",
      "\u001b[1;31mPlease review the code in the cell(s) to identify a possible cause of the failure. \n",
      "\u001b[1;31mClick <a href='https://aka.ms/vscodeJupyterKernelCrash'>here</a> for more info. \n",
      "\u001b[1;31mView Jupyter <a href='command:jupyter.viewOutput'>log</a> for further details."
     ]
    }
   ],
   "source": [
    "#grouping data together and getting list of events per legislator\n",
    "grouped_df = bills_and_sponsors.groupby('sponsors')#['bill_labels']#.apply('|'.join).reset_index()\n",
    "\n",
    "\n",
    "# agg({\n",
    "#     'bills': lambda x: \n",
    "#         f\"{sc} ({ac})\" if not pd.isna(ac) else f\"{sc}\"\n",
    "#         for sc, ac in zip(thi_states_df.loc[x.index, 'event name'], thi_states_df.loc[x.index, 'role'])),\n",
    "\n",
    "# }).reset_index()\n",
    "# # grouped_df.reset_index()\n",
    "# grouped_df.rename(columns={'event name': 'events'}, inplace=True)"
   ]
  },
  {
   "cell_type": "code",
   "execution_count": null,
   "metadata": {},
   "outputs": [],
   "source": [
    "\n",
    "bills_clean_up = non_ed_bills.loc[non_ed_bills['bill_sum'].notna() & (non_ed_bills['bill_sum'].str.contains(r'[Hh]igher ([Ee]d(ucation)?)?\\s?([Ll]earning)?'))]\n",
    "\n",
    "# for bill in non_ed_bills['title']:\n",
    "#     print('##############')\n",
    "#     print(bill)\n"
   ]
  },
  {
   "cell_type": "code",
   "execution_count": null,
   "metadata": {},
   "outputs": [],
   "source": [
    "\n",
    "# Iterate through each row in the 'bill_sum' column\n",
    "for text in all_bills['title'].dropna():\n",
    "    # Find all matches with 5 words of context before and after\n",
    "    matches = re.findall(r'(?:\\b\\w+\\b\\s){0,10}\\b[Ee]ducation\\b(?:\\s\\b\\w+\\b){0,10}', text)\n",
    "    matches_v2 = re.findall(r'.*[Ee]ducation.*|.*[Cc]hild.*|.*[Ss]chool.*|.*[Cc]harter.*|.*[Mm]ath.*|.*[Rr]ead.*|.*[Tt]each.*|.*[Pp]arent.*|.*[Kk]id.*|.*[Ss]tudent.*|.*[Cc]ollege.*|.*[Uu]niversit.*|.*[Tt]uition.*', str(text))\n",
    "\n",
    "\n",
    "    \n",
    "    # Print matches if found\n",
    "    print('####################')\n",
    "    for match in matches_v2:\n",
    "        \n",
    "        print(\"****\")\n",
    "        print(str(match))\n",
    "        print('\\n')\n",
    "\n",
    "\n",
    "\n",
    "\n"
   ]
  },
  {
   "cell_type": "code",
   "execution_count": null,
   "metadata": {},
   "outputs": [],
   "source": [
    "ec_subs = ['child\\s{0,1}care', 'early\\s{0,1}childhood', 'preschool']\n",
    "ec_pat = \"|\".join(ec_subs)\n",
    "print(ec_pat)"
   ]
  },
  {
   "cell_type": "markdown",
   "metadata": {},
   "source": [
    "%%"
   ]
  },
  {
   "cell_type": "code",
   "execution_count": null,
   "metadata": {},
   "outputs": [],
   "source": [
    "print(all_bills.columns)\n",
    "for bill in all_bills['bill_sum']:\n",
    "    if re.search(f'{ec_pat}', str(bill).lower()):\n",
    "        matches = re.findall(ec_pat, str(bill).lower())\n",
    "        print('############################')\n",
    "        print('***********')\n",
    "        print(*matches)\n",
    "        print('***********')\n",
    "        print(bill)\n",
    "        print('\\n')\n",
    "# %%"
   ]
  },
  {
   "cell_type": "code",
   "execution_count": null,
   "metadata": {},
   "outputs": [],
   "source": [
    "ec_ed_bills = all_bills[all_bills.subjects.str.contains(ec_pat, regex = True, case=False)]"
   ]
  },
  {
   "cell_type": "code",
   "execution_count": null,
   "metadata": {},
   "outputs": [],
   "source": [
    "ec_ed_bills.reset_index(inplace=True, drop=True)"
   ]
  },
  {
   "cell_type": "markdown",
   "metadata": {},
   "source": [
    "% Higher Ed"
   ]
  },
  {
   "cell_type": "code",
   "execution_count": null,
   "metadata": {},
   "outputs": [],
   "source": [
    "he_keywords = [\n",
    "    \"post-secondary transition\",\n",
    "    \"equity gaps\",\n",
    "    \"college-going rates\",\n",
    "    \"workforce readiness\",\n",
    "    \"certificate programs\",\n",
    "    \"wraparound services\",\n",
    "    \"stackable credentials\",\n",
    "    \"student persistence\",\n",
    "    \"retention strategies\",\n",
    "    \"lifelong learning\",\n",
    "    \"postsecondary barriers\",\n",
    "    \"alternative pathways\",\n",
    "    \"higher education institutions\",\n",
    "    \"higher education\",\n",
    "    \"legislative support for education\",\n",
    "    \"student success metrics\",\n",
    "    \"high quality credential\",\n",
    "    \"vocational training\",\n",
    "    \"attainment\",\n",
    "    \"persistence\",\n",
    "    \"resistance\",\n",
    "    \"graduation\"\n",
    "]"
   ]
  },
  {
   "cell_type": "code",
   "execution_count": null,
   "metadata": {},
   "outputs": [],
   "source": [
    "he_pat = r'\\b(' + '|'.join(map(re.escape, he_keywords)) + r')\\b'"
   ]
  },
  {
   "cell_type": "markdown",
   "metadata": {},
   "source": [
    "he_pat = \"|\".join(he_keywords)"
   ]
  },
  {
   "cell_type": "code",
   "execution_count": null,
   "metadata": {},
   "outputs": [],
   "source": [
    "print(he_pat)"
   ]
  },
  {
   "cell_type": "code",
   "execution_count": null,
   "metadata": {},
   "outputs": [],
   "source": [
    "all_bills['bill_sum'].fillna('nan',inplace=True)"
   ]
  },
  {
   "cell_type": "code",
   "execution_count": null,
   "metadata": {},
   "outputs": [],
   "source": [
    "he_ed_bills = all_bills[all_bills.bill_sum.str.contains(he_pat, regex = True, case=False)]\n",
    "he_ed_bills.reset_index(inplace=True, drop=True)"
   ]
  },
  {
   "cell_type": "code",
   "execution_count": null,
   "metadata": {},
   "outputs": [],
   "source": [
    "os.chdir(r'C:\\Users\\clutz\\OneDrive - THE HUNT INSTITUTE\\Documents\\Data\\bill_data\\Higher Ed')\n",
    "he_ed_bills.to_csv('higher_ed_bills.csv', index=False)\n",
    "# %%\n",
    "# print(all_bills.columns)\n",
    "for i,bill in enumerate(he_ed_bills['bill_sum']):\n",
    "    # matches = re.findall(he_pat, str(bill).lower())\n",
    "    matches = re.findall(r'graduation', str(bill).lower())\n",
    "    if matches:\n",
    "        grad_match = re.findall(r'higher ed|post-{0,1}secondary', str(bill).lower())\n",
    "        if grad_match:\n",
    "            continue\n",
    "        \n",
    "        else:\n",
    "            print('############################')\n",
    "            print(he_ed_bills.loc[i,'state'])\n",
    "            print(he_ed_bills.loc[i,'bill'])\n",
    "            print('############################')\n",
    "            print('***********')\n",
    "            print(*grad_match)\n",
    "            print('***********')\n",
    "            print(bill)\n",
    "            print('\\n')\n",
    "    \n",
    "        print('############################')\n",
    "        print(he_ed_bills.loc[i,'bill'])\n",
    "        print('############################')\n",
    "        print('***********')\n",
    "        print(*matches)\n",
    "        print('***********')\n",
    "        print(bill)\n",
    "        print('\\n')\n",
    "# %%"
   ]
  }
 ],
 "metadata": {
  "kernelspec": {
   "display_name": "hunt_env",
   "language": "python",
   "name": "python3"
  },
  "language_info": {
   "codemirror_mode": {
    "name": "ipython",
    "version": 3
   },
   "file_extension": ".py",
   "mimetype": "text/x-python",
   "name": "python",
   "nbconvert_exporter": "python",
   "pygments_lexer": "ipython3",
   "version": "3.12.5"
  }
 },
 "nbformat": 4,
 "nbformat_minor": 2
}
