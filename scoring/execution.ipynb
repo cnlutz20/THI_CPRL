{
 "cells": [
  {
   "cell_type": "code",
   "execution_count": 2,
   "metadata": {},
   "outputs": [],
   "source": [
    "import os, sys, json, re, xlrd  # Provides OS-dependent functionality, system-specific parameters, JSON handling, and date/time manipulation\n",
    "from datetime import date\n",
    "import pandas as pd             # Provides data structures and data analysis tools\n",
    "from openpyxl import Workbook\n",
    "import numpy as np              # Supports large, multi-dimensional arrays and matrices\n",
    "import requests\n",
    "import glob\n",
    "import time\n",
    "from tqdm import tqdm\n",
    "import urllib3\n",
    "urllib3.disable_warnings(urllib3.exceptions.InsecureRequestWarning)\n",
    "import warnings\n",
    "warnings.simplefilter(action='ignore', category=FutureWarning)\n",
    "pd.options.mode.chained_assignment = None  # default='warn'\n",
    "from IPython.display import display_markdown\n",
    "\n",
    "from cprl_functions.state_capture import thi_states,state_ref, state_coding, state_coding_r, state_pat, state_abv_pat\n",
    "from cprl_functions.text_printing import bordered\n",
    "from cprl_functions.defined_functions import create_pk, add_seats, get_key, get_recent_file\n",
    "from notebook.services.config import ConfigManager\n",
    "\n",
    "\n",
    "\n",
    "import os, sys, json, datetime, re  # Provides OS-dependent functionality, system-specific parameters, JSON handling, and date/time manipulation\n",
    "import pandas as pd             # Provides data structures and data analysis tools\n",
    "import numpy as np              # Supports large, multi-dimensional arrays and matrices\n",
    "import requests\n",
    "import time\n",
    "from tqdm import tqdm\n",
    "import urllib3\n",
    "urllib3.disable_warnings(urllib3.exceptions.InsecureRequestWarning)\n",
    "from bs4 import BeautifulSoup\n",
    "from lxml import etree, html\n",
    "from selenium import webdriver\n",
    "from selenium.webdriver.common.by import By\n",
    "from selenium.webdriver.chrome.service import Service\n",
    "from selenium.webdriver.chrome.options import Options\n",
    "from selenium.webdriver.common.action_chains import ActionChains\n",
    "import time\n",
    "from selenium.webdriver.support.ui import WebDriverWait\n",
    "from selenium.webdriver.support import expected_conditions as EC\n",
    "\n",
    "from selenium import webdriver\n",
    "from selenium.webdriver.chrome.service import Service as ChromeService\n",
    "from webdriver_manager.chrome import ChromeDriverManager\n",
    "\n",
    "from selenium.webdriver.common.keys import Keys\n"
   ]
  },
  {
   "cell_type": "markdown",
   "metadata": {},
   "source": [
    "## Process"
   ]
  },
  {
   "cell_type": "markdown",
   "metadata": {},
   "source": [
    "- get legislator info\n",
    "    - *done* pull in data from quorum using quorum_officials_manipulation.py\n",
    "        - gets files for each state\n",
    "    - *done* run all_legs_file_creation.py\n",
    "        - organizes and cleans data to ideal setup\n",
    "        - create df's for use in influence calculation\n",
    "        - outputs\n",
    "            - all_leg\n",
    "            - dfs_w_pk's\n",
    "            - all_leg_records\n",
    "    - *done* run and create keys with key_creation.py\n",
    "        - use all_leg files for the year (from all_legs_file_creation)\n",
    "        - outputs\n",
    "            - key_lookup\n",
    "- Influence Calculation\n",
    "    - Pull data\n",
    "        - Pull key_lookup (from key_creation)\n",
    "        - Manual Leadership File\n",
    "        - dfs_w_pk's (from all_legs_creation)\n",
    "    - Calculate Influence Score\n",
    "        - leg_infl_df[date].csv\n",
    "    - Create Priority Analysis file\n",
    "        - comms_summary.csv\n",
    "- Activity Calculation\n",
    "    - Pulls in data\n",
    "        - Leg_lookup (from key_creation)\n",
    "        - Attendance data (attendance data folder)\n",
    "    - Outputs: \n",
    "        - activities_scores[date].csv\n",
    "        - event_summary[date].csv\n",
    "- Compiling Scores *i need to split up the compiled plus bills and bills and legislators into their own script*\n",
    "    - Main compilation\n",
    "        - Input Files:\n",
    "            - activities_scores[date].csv\n",
    "            - leg_infl_df[date].csv\n",
    "            - leg_lookup\n",
    "        - Exports:\n",
    "            - compiled_scores (final_df)\n",
    "    - Compiled plus bills *needs bill pull ran first*\n",
    "        - Inputs\n",
    "            - legislator info (from bill pulling)\n",
    "            - Final_df (local)\n",
    "        - Outputs:\n",
    "            - compiled_plus_bills.csv\n",
    "            - bills_and_legislators.csv\n",
    "- Quorum Bill Pulling\n",
    "        - *needs to be updated regularly*\n",
    "        - Gets bills from quorum bill_downloads (..\\bill_data\\quorum downloads)\n",
    "        - Outputs:\n",
    "            - ed_bills (local)\n",
    "            - legislator_info.csv\n",
    "    - Final join\n",
    "        - inputs:\n",
    "            - ed_bills\n",
    "            - bills_and_legislators\n",
    "\n",
    "\n",
    "\n"
   ]
  },
  {
   "cell_type": "markdown",
   "metadata": {},
   "source": [
    "## Excution"
   ]
  },
  {
   "cell_type": "markdown",
   "metadata": {},
   "source": [
    "### Pulling Data From Quorum"
   ]
  },
  {
   "cell_type": "code",
   "execution_count": 78,
   "metadata": {},
   "outputs": [],
   "source": [
    "# Pull files from quorum\n",
    "\n",
    "webdriver_path = r\"C:\\Users\\clutz\\hunt_env\\chrome driver\\chromedriver-win64\\chromedriver.exe\"\n",
    "chrome_options = Options()\n",
    "# chrome_options.add_argument(\"--headless\")  # Run in headless mode (no GUI)\n",
    "# Set up WebDriver service\n",
    "service = Service(webdriver_path)\n",
    "\n",
    "#call on driver and get data\n",
    "driver = webdriver.Chrome(service=ChromeService(ChromeDriverManager().install()), options=chrome_options)\n"
   ]
  },
  {
   "cell_type": "code",
   "execution_count": null,
   "metadata": {},
   "outputs": [],
   "source": [
    "#log in\n",
    "page_url = r'https://www.quorum.us/sheets/'\n",
    "driver.get(page_url)\n",
    "\n",
    "username_field = driver.find_element(By.ID,\"username\")\n",
    "# login_form = driver.find_element(By.ID, 'loginForm')\n",
    "username_field.click()\n",
    "username_field.send_keys('clutz@hunt-institute.org')\n",
    "\n",
    "password_field = driver.find_element(By.ID, \"password\");\n",
    "password_field.click()\n",
    "password_field.send_keys('4Ducksquack!')\n",
    "password_field.send_keys('\\ue006')\n",
    "time.sleep(10)\n"
   ]
  },
  {
   "cell_type": "code",
   "execution_count": 88,
   "metadata": {},
   "outputs": [],
   "source": [
    "#get sheet links\n",
    "page_url = r'https://www.quorum.us/sheets/'\n",
    "driver.get(page_url)\n",
    "\n",
    "html_from_page = driver.page_source\n",
    "# print(html_from_page)\n",
    "soup = BeautifulSoup(html_from_page, 'html.parser')\n",
    "\n",
    "\n",
    "\n",
    "links = soup.find_all(\"a\", {\"class\":\"datum-link\"},href=True)\n",
    "main_url = page_url.split('sheets')[0].strip()\n",
    "sheet_links = {}\n",
    "for l in links:\n",
    "    # print(l)\n",
    "    # print(type(l))\n",
    "    new_l = str(l).split('public_fixedDataTableCell_cellContent\">', 1)[-1].split('</')[0].strip()\n",
    "    # print(new_l)\n",
    "    sheet_link = f\"{main_url}{str(l).split('href=\"', 1)[-1].split('\">')[0].lstrip('/')}\"\n",
    "\n",
    "\n",
    "    if re.search(r'_thii', str(new_l)):\n",
    "        sheet_links[new_l] = sheet_link\n",
    "    elif re.search('elected_officials', str(new_l)):\n",
    "        sheet_links[new_l] = sheet_link"
   ]
  },
  {
   "cell_type": "code",
   "execution_count": 89,
   "metadata": {},
   "outputs": [
    {
     "name": "stdout",
     "output_type": "stream",
     "text": [
      "ND Bills_thii\n",
      "https://www.quorum.us/sheet/126248/\n",
      "2025_thi_states_bills_thii\n",
      "https://www.quorum.us/sheet/124234/\n",
      "2025_non_thi_states_bills_thii\n",
      "https://www.quorum.us/sheet/124235/\n",
      "elected_officials\n",
      "https://www.quorum.us/sheet/128847/\n"
     ]
    }
   ],
   "source": [
    "for k,v in sheet_links.items():\n",
    "    print(k)\n",
    "    print(v)"
   ]
  },
  {
   "cell_type": "code",
   "execution_count": null,
   "metadata": {},
   "outputs": [],
   "source": [
    "#loop and download\n",
    "#they should go to the right folder\n",
    "\n",
    "for k,v in sheet_links:\n",
    "    time.sleep(60)\n",
    "    driver.get(v)\n",
    "    dl_button = driver.find_element(By.ID,\"download-sheet\")\n",
    "    dl_button.click()\n",
    "\n",
    "    excel_button = driver.find_element(By.XPATH, '/html/body/div[85]/div/div[4]/div[1]/button')\n",
    "    excel_button.click()\n",
    "driver.quit()"
   ]
  },
  {
   "cell_type": "markdown",
   "metadata": {},
   "source": [
    "# Running Scripts"
   ]
  },
  {
   "cell_type": "code",
   "execution_count": 13,
   "metadata": {},
   "outputs": [
    {
     "name": "stdout",
     "output_type": "stream",
     "text": [
      "['all_legs_file_creation.ipynb', 'attendance', 'compiling_act_and_infl_scores.ipynb', 'event_data_stats.ipynb', 'execution.ipynb', 'get_activities_score.ipynb', 'get_influence_score.ipynb', 'influence_maintenance.ipynb', 'influence_maintenance.md', 'key_creation.ipynb', 'merge_cohorts_and_activities.ipynb']\n"
     ]
    }
   ],
   "source": [
    "print(os.listdir())  # See if the file is present\n"
   ]
  },
  {
   "cell_type": "code",
   "execution_count": null,
   "metadata": {},
   "outputs": [],
   "source": [
    "#run all_legs_file_creation\n",
    "import subprocess\n",
    "import sys\n",
    "\n",
    "\n",
    "run_process = subprocess.run([\"jupyter\", \"nbconvert\", \"--to\", \"notebook\", \"--execute\", \"all_legs_file_creation.ipynb\"],    \n",
    "                             capture_output=True, text=True\n",
    ")\n",
    "\n",
    "# Check if the script execution was successful\n",
    "if run_process.returncode != 0:\n",
    "    print(\"Error while running all_legs_file_creation.py:\")\n",
    "    print(run_process.stderr)  # Print script error output\n",
    "    exit(1)\n",
    "\n"
   ]
  },
  {
   "cell_type": "code",
   "execution_count": null,
   "metadata": {},
   "outputs": [
    {
     "ename": "",
     "evalue": "",
     "output_type": "error",
     "traceback": [
      "\u001b[1;31mThe Kernel crashed while executing code in the current cell or a previous cell. \n",
      "\u001b[1;31mPlease review the code in the cell(s) to identify a possible cause of the failure. \n",
      "\u001b[1;31mClick <a href='https://aka.ms/vscodeJupyterKernelCrash'>here</a> for more info. \n",
      "\u001b[1;31mView Jupyter <a href='command:jupyter.viewOutput'>log</a> for further details."
     ]
    }
   ],
   "source": [
    "#running key_creation\n",
    "import subprocess\n",
    "import sys\n",
    "\n",
    "\n",
    "run_process = subprocess.run([\"jupyter\", \"nbconvert\", \"--to\", \"notebook\", \"--execute\", \"key_creation.ipynb\"],    \n",
    "                             capture_output=True, text=True\n",
    ")\n",
    "\n",
    "# Check if the script execution was successful\n",
    "if run_process.returncode != 0:\n",
    "    print(\"Error while running key_creation.py:\")\n",
    "    print(run_process.stderr)  # Print script error output\n",
    "    exit(1)\n"
   ]
  },
  {
   "cell_type": "code",
   "execution_count": null,
   "metadata": {},
   "outputs": [],
   "source": []
  }
 ],
 "metadata": {
  "kernelspec": {
   "display_name": "hunt_env",
   "language": "python",
   "name": "python3"
  },
  "language_info": {
   "codemirror_mode": {
    "name": "ipython",
    "version": 3
   },
   "file_extension": ".py",
   "mimetype": "text/x-python",
   "name": "python",
   "nbconvert_exporter": "python",
   "pygments_lexer": "ipython3",
   "version": "3.12.5"
  }
 },
 "nbformat": 4,
 "nbformat_minor": 2
}
