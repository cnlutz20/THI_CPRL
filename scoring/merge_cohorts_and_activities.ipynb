{
 "cells": [
  {
   "cell_type": "code",
   "execution_count": 25,
   "metadata": {},
   "outputs": [
    {
     "name": "stdout",
     "output_type": "stream",
     "text": [
      "c:\\Users\\clutz\\hunt_env\\Scripts\\python.exe\n",
      "[]\n"
     ]
    }
   ],
   "source": [
    "#importing modules\n",
    "import os, sys, json, datetime, re, xlrd  # Provides OS-dependent functionality, system-specific parameters, JSON handling, and date/time manipulation\n",
    "import pandas as pd             # Provides data structures and data analysis tools\n",
    "from openpyxl import Workbook\n",
    "import numpy as np              # Supports large, multi-dimensional arrays and matrices\n",
    "import requests\n",
    "import glob\n",
    "import time\n",
    "from tqdm import tqdm\n",
    "import urllib3\n",
    "urllib3.disable_warnings(urllib3.exceptions.InsecureRequestWarning)\n",
    "import warnings\n",
    "warnings.simplefilter(action='ignore', category=FutureWarning)\n",
    "pd.options.mode.chained_assignment = None  # default='warn'\n",
    "from IPython.display import display_markdown\n",
    "\n",
    "import sys\n",
    "print(sys.executable)\n",
    "\n",
    "from setuptools import find_packages\n",
    "print(find_packages())\n",
    "\n",
    "\n",
    "from cprl_functions.state_capture import thi_states,state_ref, state_coding, state_coding_r, state_pat, state_abv_pat\n",
    "from cprl_functions.text_printing import bordered\n",
    "from cprl_functions.defined_functions import create_pk, get_recent_file"
   ]
  },
  {
   "cell_type": "code",
   "execution_count": null,
   "metadata": {},
   "outputs": [],
   "source": [
    "for k,v in state_coding_r.items():\n",
    "    print(k,v)"
   ]
  },
  {
   "cell_type": "code",
   "execution_count": 33,
   "metadata": {},
   "outputs": [],
   "source": [
    "#grab scores data\n",
    "dir_path = r'C:\\Users\\clutz\\THE HUNT INSTITUTE\\The Hunt Institute Team Site - Documents\\Development (formerly Grants Management)\\!Administrative\\Christian\\Legislators Data\\leg_data_update_10_2024\\build files'\n",
    "activity_file = get_recent_file(\"activity*.csv\", dir_path)\n",
    "\n",
    "activities = pd.read_csv(activity_file)\n",
    "activities['state'] = np.nan\n",
    "\n",
    "for i,j in enumerate(activities['full_pk']):\n",
    "    # print(i)\n",
    "    # print(j)\n",
    "    key_match = re.match(r'(^\\d{2})', str(j))\n",
    "    key = key_match.group(1)\n",
    "    # print(type(key))\n",
    "\n",
    "    state = state_coding_r.get(int(key))\n",
    "    activities.loc[i,['state']] = state\n",
    "    # print(state)\n"
   ]
  },
  {
   "cell_type": "code",
   "execution_count": 38,
   "metadata": {},
   "outputs": [
    {
     "name": "stdout",
     "output_type": "stream",
     "text": [
      "full_pk, primary_key, first_name, last_name, activities_score, events, state\n",
      "clean name, first_name, last_name, state, year, participant, role\n"
     ]
    }
   ],
   "source": [
    "\n",
    "\n",
    "elevate_file = r\"C:\\Users\\clutz\\THE HUNT INSTITUTE\\The Hunt Institute Team Site - Documents\\Development (formerly Grants Management)\\!Administrative\\Christian\\Legislators Data\\dev programs\\cleaned\\elevate_program.csv\"\n",
    "elevate = pd.read_csv(elevate_file)\n",
    "\n",
    "ec_pa_file = r\"C:\\Users\\clutz\\THE HUNT INSTITUTE\\The Hunt Institute Team Site - Documents\\Development (formerly Grants Management)\\!Administrative\\Christian\\Legislators Data\\dev programs\\cleaned\\ec_policy_academy.csv\"\n",
    "ec_pa = pd.read_csv(ec_pa_file)\n",
    "\n",
    "\n",
    "print(*activities.columns, sep=\", \")\n",
    "print(*ec_pa.columns, sep=\", \")\n"
   ]
  },
  {
   "cell_type": "code",
   "execution_count": 39,
   "metadata": {},
   "outputs": [],
   "source": [
    "\n",
    "for i,j in enumerate(ec_pa['state']):\n",
    "    match = state_ref.get(str(j).strip())\n",
    "    if match:\n",
    "        ec_pa.loc[i,['state']] = str(match)\n",
    "    else:\n",
    "        print(j)\n"
   ]
  },
  {
   "cell_type": "code",
   "execution_count": 40,
   "metadata": {},
   "outputs": [
    {
     "name": "stdout",
     "output_type": "stream",
     "text": [
      "full_pk, primary_key, first_name, last_name, activities_score, events, state\n",
      "clean name, first_name, last_name, state, year, participant, role\n"
     ]
    }
   ],
   "source": [
    "\n",
    "print(*activities.columns, sep=\", \")\n",
    "print(*ec_pa.columns, sep=\", \")"
   ]
  },
  {
   "cell_type": "code",
   "execution_count": null,
   "metadata": {},
   "outputs": [],
   "source": [
    "\n",
    "df_merged = activities.merge(ec_pa[['last_name', 'first_name','state','year']], on=['last_name', 'first_name', 'state'], how='left')\n",
    "\n"
   ]
  },
  {
   "cell_type": "code",
   "execution_count": 90,
   "metadata": {},
   "outputs": [
    {
     "name": "stdout",
     "output_type": "stream",
     "text": [
      "primary_key,bill_labels,bill_counts\n",
      "full_pk,primary_key,first_name,last_name,party,influence_score,activities_score,events,event_count,state,chamber,district,seat_num,year\n"
     ]
    }
   ],
   "source": [
    "#files\n",
    "bills_file = r\"C:\\Users\\clutz\\THE HUNT INSTITUTE\\The Hunt Institute Team Site - Documents\\Development (formerly Grants Management)\\!Administrative\\Christian\\Legislators Data\\leg_data_update_10_2024\\build files\\bills\\leg_bills_info.xlsx\"\n",
    "compiled_scores_file = r\"C:\\Users\\clutz\\THE HUNT INSTITUTE\\The Hunt Institute Team Site - Documents\\Development (formerly Grants Management)\\!Administrative\\Christian\\Legislators Data\\leg_data_update_10_2024\\build files\\compiled scores\\compiled_scores2024_12_04.csv\"\n",
    "\n",
    "\n",
    "#df creation\n",
    "bills_data = pd.read_excel(bills_file)\n",
    "comp_scores = pd.read_csv(compiled_scores_file)\n",
    "\n",
    "print(*bills_data.columns, sep = ',')\n",
    "print(*comp_scores.columns, sep = ',')\n",
    "\n",
    "\n",
    "# print('############')\n",
    "# print(bills_data.head())\n",
    "# print('######')\n",
    "# print(comp_scores.head())\n",
    "\n",
    "\n",
    "# type(bills_data['primary_key'])\n",
    "# type(comp_scores['primary_key'])\n",
    "\n",
    "\n",
    "# print(bills_data.dtypes)\n",
    "# print(comp_scores.dtypes)\n"
   ]
  },
  {
   "cell_type": "code",
   "execution_count": 73,
   "metadata": {},
   "outputs": [
    {
     "data": {
      "text/plain": [
       "pandas.core.series.Series"
      ]
     },
     "execution_count": 73,
     "metadata": {},
     "output_type": "execute_result"
    }
   ],
   "source": [
    "\n",
    "type(bills_data['primary_key'])\n"
   ]
  },
  {
   "cell_type": "code",
   "execution_count": 72,
   "metadata": {},
   "outputs": [
    {
     "data": {
      "text/html": [
       "<div>\n",
       "<style scoped>\n",
       "    .dataframe tbody tr th:only-of-type {\n",
       "        vertical-align: middle;\n",
       "    }\n",
       "\n",
       "    .dataframe tbody tr th {\n",
       "        vertical-align: top;\n",
       "    }\n",
       "\n",
       "    .dataframe thead th {\n",
       "        text-align: right;\n",
       "    }\n",
       "</style>\n",
       "<table border=\"1\" class=\"dataframe\">\n",
       "  <thead>\n",
       "    <tr style=\"text-align: right;\">\n",
       "      <th></th>\n",
       "      <th>full_pk</th>\n",
       "      <th>primary_key</th>\n",
       "      <th>first_name</th>\n",
       "      <th>last_name</th>\n",
       "      <th>party</th>\n",
       "      <th>influence_score</th>\n",
       "      <th>activities_score</th>\n",
       "      <th>events</th>\n",
       "      <th>event_count</th>\n",
       "      <th>state</th>\n",
       "      <th>chamber</th>\n",
       "      <th>district</th>\n",
       "      <th>seat_num</th>\n",
       "      <th>year</th>\n",
       "    </tr>\n",
       "  </thead>\n",
       "  <tbody>\n",
       "    <tr>\n",
       "      <th>0</th>\n",
       "      <td>10100100</td>\n",
       "      <td>101001</td>\n",
       "      <td>Tim</td>\n",
       "      <td>Melson</td>\n",
       "      <td>Republican</td>\n",
       "      <td>17.0</td>\n",
       "      <td>NaN</td>\n",
       "      <td>NaN</td>\n",
       "      <td>0</td>\n",
       "      <td>AL</td>\n",
       "      <td>Senate</td>\n",
       "      <td>District 1</td>\n",
       "      <td>NaN</td>\n",
       "      <td>2024</td>\n",
       "    </tr>\n",
       "    <tr>\n",
       "      <th>1</th>\n",
       "      <td>10100200</td>\n",
       "      <td>101002</td>\n",
       "      <td>Tom</td>\n",
       "      <td>Butler</td>\n",
       "      <td>Republican</td>\n",
       "      <td>11.0</td>\n",
       "      <td>NaN</td>\n",
       "      <td>NaN</td>\n",
       "      <td>0</td>\n",
       "      <td>AL</td>\n",
       "      <td>Senate</td>\n",
       "      <td>District 2</td>\n",
       "      <td>NaN</td>\n",
       "      <td>2024</td>\n",
       "    </tr>\n",
       "    <tr>\n",
       "      <th>2</th>\n",
       "      <td>10100300</td>\n",
       "      <td>101003</td>\n",
       "      <td>Arthur</td>\n",
       "      <td>Orr</td>\n",
       "      <td>Republican</td>\n",
       "      <td>18.0</td>\n",
       "      <td>NaN</td>\n",
       "      <td>NaN</td>\n",
       "      <td>0</td>\n",
       "      <td>AL</td>\n",
       "      <td>Senate</td>\n",
       "      <td>District 3</td>\n",
       "      <td>NaN</td>\n",
       "      <td>2024</td>\n",
       "    </tr>\n",
       "    <tr>\n",
       "      <th>3</th>\n",
       "      <td>10100400</td>\n",
       "      <td>101004</td>\n",
       "      <td>Garlan</td>\n",
       "      <td>Gudger</td>\n",
       "      <td>Republican</td>\n",
       "      <td>11.0</td>\n",
       "      <td>NaN</td>\n",
       "      <td>NaN</td>\n",
       "      <td>0</td>\n",
       "      <td>AL</td>\n",
       "      <td>Senate</td>\n",
       "      <td>District 4</td>\n",
       "      <td>NaN</td>\n",
       "      <td>2024</td>\n",
       "    </tr>\n",
       "    <tr>\n",
       "      <th>4</th>\n",
       "      <td>10100500</td>\n",
       "      <td>101005</td>\n",
       "      <td>Greg</td>\n",
       "      <td>Reed</td>\n",
       "      <td>Republican</td>\n",
       "      <td>20.0</td>\n",
       "      <td>NaN</td>\n",
       "      <td>NaN</td>\n",
       "      <td>0</td>\n",
       "      <td>AL</td>\n",
       "      <td>Senate</td>\n",
       "      <td>District 5</td>\n",
       "      <td>NaN</td>\n",
       "      <td>2024</td>\n",
       "    </tr>\n",
       "  </tbody>\n",
       "</table>\n",
       "</div>"
      ],
      "text/plain": [
       "    full_pk  primary_key first_name last_name       party  influence_score  \\\n",
       "0  10100100       101001        Tim    Melson  Republican             17.0   \n",
       "1  10100200       101002        Tom    Butler  Republican             11.0   \n",
       "2  10100300       101003     Arthur       Orr  Republican             18.0   \n",
       "3  10100400       101004     Garlan    Gudger  Republican             11.0   \n",
       "4  10100500       101005       Greg      Reed  Republican             20.0   \n",
       "\n",
       "   activities_score events  event_count state chamber    district seat_num  \\\n",
       "0               NaN    NaN            0    AL  Senate  District 1      NaN   \n",
       "1               NaN    NaN            0    AL  Senate  District 2      NaN   \n",
       "2               NaN    NaN            0    AL  Senate  District 3      NaN   \n",
       "3               NaN    NaN            0    AL  Senate  District 4      NaN   \n",
       "4               NaN    NaN            0    AL  Senate  District 5      NaN   \n",
       "\n",
       "   year  \n",
       "0  2024  \n",
       "1  2024  \n",
       "2  2024  \n",
       "3  2024  \n",
       "4  2024  "
      ]
     },
     "execution_count": 72,
     "metadata": {},
     "output_type": "execute_result"
    }
   ],
   "source": [
    "\n",
    "comp_scores.head()"
   ]
  },
  {
   "cell_type": "code",
   "execution_count": 92,
   "metadata": {},
   "outputs": [],
   "source": [
    "# print(comp_scores.columns)\n",
    "# print(bills_data.columns)\n",
    "# print(comp_scores[['primary_key']].head())\n",
    "# print(bills_data[['primary_key']].head())\n",
    "\n",
    "# comp_scores.columns = comp_scores.columns.str.strip()\n",
    "# bills_data.columns = bills_data.columns.str.strip()\n",
    "\n",
    "# print(comp_scores['primary_key'].dtype)\n",
    "# print(bills_data['primary_key'].dtype)\n",
    "\n",
    "\n",
    "comp_scores['primary_key'] = comp_scores['primary_key'].astype(str)\n",
    "bills_data['primary_key'] = bills_data['primary_key'].astype(str)\n",
    "\n",
    "\n",
    "# print(comp_scores['primary_key'].isnull().sum())  # Check for missing values\n",
    "# print(comp_scores['primary_key'].duplicated().sum())  # Check for duplicates\n"
   ]
  },
  {
   "cell_type": "code",
   "execution_count": null,
   "metadata": {},
   "outputs": [
    {
     "ename": "",
     "evalue": "",
     "output_type": "error",
     "traceback": [
      "\u001b[1;31mThe Kernel crashed while executing code in the current cell or a previous cell. \n",
      "\u001b[1;31mPlease review the code in the cell(s) to identify a possible cause of the failure. \n",
      "\u001b[1;31mClick <a href='https://aka.ms/vscodeJupyterKernelCrash'>here</a> for more info. \n",
      "\u001b[1;31mView Jupyter <a href='command:jupyter.viewOutput'>log</a> for further details."
     ]
    }
   ],
   "source": [
    "\n",
    "# bills_merge = comp_scores.merge(bills_data[['bill_labels','bill_counts']], on='primary_key', how='left')\n",
    "\n",
    "bills_merge = comp_scores.merge(\n",
    "    bills_data,\n",
    "    left_on=['primary_key'],right_on=['primary_key'], how='left'\n",
    ")\n"
   ]
  },
  {
   "cell_type": "code",
   "execution_count": null,
   "metadata": {},
   "outputs": [],
   "source": []
  }
 ],
 "metadata": {
  "kernelspec": {
   "display_name": "hunt_env",
   "language": "python",
   "name": "python3"
  },
  "language_info": {
   "codemirror_mode": {
    "name": "ipython",
    "version": 3
   },
   "file_extension": ".py",
   "mimetype": "text/x-python",
   "name": "python",
   "nbconvert_exporter": "python",
   "pygments_lexer": "ipython3",
   "version": "3.12.5"
  }
 },
 "nbformat": 4,
 "nbformat_minor": 2
}
