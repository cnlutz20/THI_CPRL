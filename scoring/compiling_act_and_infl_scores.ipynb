{
 "cells": [
  {
   "cell_type": "markdown",
   "metadata": {},
   "source": [
    "## Setup"
   ]
  },
  {
   "cell_type": "code",
   "execution_count": 3,
   "metadata": {},
   "outputs": [],
   "source": [
    "#imports\n",
    "import os, sys, json, datetime, re, xlrd  # Provides OS-dependent functionality, system-specific parameters, JSON handling, and date/time manipulation\n",
    "import pandas as pd             # Provides data structures and data analysis tools\n",
    "from openpyxl import Workbook\n",
    "import numpy as np              # Supports large, multi-dimensional arrays and matrices\n",
    "import requests\n",
    "import glob\n",
    "import time\n",
    "\n",
    "from tqdm import tqdm\n",
    "from functools import reduce\n",
    "import urllib3\n",
    "urllib3.disable_warnings(urllib3.exceptions.InsecureRequestWarning)\n",
    "import warnings\n",
    "warnings.simplefilter(action='ignore', category=FutureWarning)\n",
    "pd.options.mode.chained_assignment = None  # default='warn'\n",
    "from IPython.display import display_markdown\n",
    "# %%\n",
    "os.chdir(r'C:\\Users\\clutz\\THE HUNT INSTITUTE\\The Hunt Institute Team Site - Documents\\Development (formerly Grants Management)\\!Administrative\\Christian\\Legislators Data\\leg_data_update_10_2024\\build files')"
   ]
  },
  {
   "cell_type": "code",
   "execution_count": 4,
   "metadata": {},
   "outputs": [
    {
     "name": "stdout",
     "output_type": "stream",
     "text": [
      "full_pk,primary_key,First Name,Last Name\n",
      "full_pk,primary_key,last_name,activities_score,events\n",
      "full_pk,First Name,Last Name,influence_score\n"
     ]
    }
   ],
   "source": [
    "#Get Data\n",
    "legislators_df = pd.read_csv(r'C:\\Users\\clutz\\OneDrive - THE HUNT INSTITUTE\\Documents\\Data\\legislator data\\connectors\\leg_lookup_df.csv')\n",
    "activities_df = pd.read_csv('activity_scores.csv')\n",
    "influence_df = pd.read_csv('leg_infl_df.csv')\n",
    "\n",
    "all_dfs = [legislators_df,activities_df,influence_df]\n",
    "for all in all_dfs:\n",
    "    print(*all.columns, sep = ',')"
   ]
  },
  {
   "cell_type": "code",
   "execution_count": 5,
   "metadata": {},
   "outputs": [],
   "source": [
    "#narrow down scores dfs\n",
    "activities_df = activities_df.loc[:,['full_pk', 'activities_score']]\n",
    "influence_df = influence_df.loc[:,['full_pk', 'influence_score']]"
   ]
  },
  {
   "cell_type": "code",
   "execution_count": 6,
   "metadata": {},
   "outputs": [],
   "source": [
    "#merging\n",
    "#merge influence scores\n",
    "first_merge = pd.merge(legislators_df, influence_df, how=\"left\", on='full_pk')\n",
    "# print(first_merge.to_string())\n",
    "\n",
    "#merge influence scores\n",
    "second_merge = pd.merge(first_merge, activities_df, how=\"left\", on='full_pk')\n",
    "# print(first_merge.to_string())"
   ]
  },
  {
   "cell_type": "code",
   "execution_count": 8,
   "metadata": {},
   "outputs": [],
   "source": [
    "\n",
    "#final exports\n",
    "# print(legislators_df.columns)\n",
    "# print(activities_df.columns)\n",
    "# print(influence_df.columns)\n",
    "final_df = second_merge\n",
    "# first_merge.to_csv(r'C:\\Users\\clutz\\THE HUNT INSTITUTE\\The Hunt Institute Team Site - Documents\\Development (formerly Grants Management)\\!Administrative\\Christian\\Legislators Data\\leg_data_update_10_2024\\build files\\compiled scores\\first_merge.csv', index=False)\n",
    "# final_df.to_csv(r'C:\\Users\\clutz\\THE HUNT INSTITUTE\\The Hunt Institute Team Site - Documents\\Development (formerly Grants Management)\\!Administrative\\Christian\\Legislators Data\\leg_data_update_10_2024\\build files\\compiled scores\\compiled_scores.csv', index=False)\n",
    "final_df = final_df[~final_df['activities_score'].isna()]"
   ]
  }
 ],
 "metadata": {
  "kernelspec": {
   "display_name": "hunt_env",
   "language": "python",
   "name": "python3"
  },
  "language_info": {
   "codemirror_mode": {
    "name": "ipython",
    "version": 3
   },
   "file_extension": ".py",
   "mimetype": "text/x-python",
   "name": "python",
   "nbconvert_exporter": "python",
   "pygments_lexer": "ipython3",
   "version": "3.12.5"
  }
 },
 "nbformat": 4,
 "nbformat_minor": 2
}
