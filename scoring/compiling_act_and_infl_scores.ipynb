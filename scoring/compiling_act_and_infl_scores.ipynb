{
 "cells": [
  {
   "cell_type": "markdown",
   "metadata": {},
   "source": [
    "## Setup"
   ]
  },
  {
   "cell_type": "code",
   "execution_count": 9,
   "metadata": {},
   "outputs": [],
   "source": [
    "#imports\n",
    "import os, sys, json, datetime, re, xlrd  # Provides OS-dependent functionality, system-specific parameters, JSON handling, and date/time manipulation\n",
    "import pandas as pd             # Provides data structures and data analysis tools\n",
    "from openpyxl import Workbook\n",
    "import numpy as np              # Supports large, multi-dimensional arrays and matrices\n",
    "import requests\n",
    "import glob\n",
    "import time\n",
    "\n",
    "from tqdm import tqdm\n",
    "from functools import reduce\n",
    "import urllib3\n",
    "urllib3.disable_warnings(urllib3.exceptions.InsecureRequestWarning)\n",
    "import warnings\n",
    "warnings.simplefilter(action='ignore', category=FutureWarning)\n",
    "pd.options.mode.chained_assignment = None  # default='warn'\n",
    "from IPython.display import display_markdown\n",
    "from cprl_functions.state_capture import thi_states,state_ref, state_coding, state_pat, state_abv_pat\n",
    "# %%\n",
    "os.chdir(r'C:\\Users\\clutz\\THE HUNT INSTITUTE\\The Hunt Institute Team Site - Documents\\Development (formerly Grants Management)\\!Administrative\\Christian\\Legislators Data\\leg_data_update_10_2024\\build files')"
   ]
  },
  {
   "cell_type": "code",
   "execution_count": 10,
   "metadata": {},
   "outputs": [
    {
     "name": "stdout",
     "output_type": "stream",
     "text": [
      "{'AL': 10, 'AK': 11, 'AZ': 12, 'AR': 13, 'CA': 14, 'CO': 15, 'CT': 16, 'DE': 17, 'FL': 18, 'GA': 19, 'HI': 20, 'ID': 21, 'IL': 22, 'IN': 23, 'IA': 24, 'KS': 25, 'KY': 26, 'LA': 27, 'ME': 28, 'MD': 29, 'MA': 30, 'MI': 31, 'MN': 32, 'MS': 33, 'MO': 34, 'MT': 35, 'NE': 36, 'NV': 37, 'NH': 38, 'NJ': 39, 'NM': 40, 'NY': 41, 'NC': 42, 'ND': 43, 'OH': 44, 'OK': 45, 'OR': 46, 'PA': 47, 'RI': 48, 'SC': 49, 'SD': 50, 'TN': 51, 'TX': 52, 'UT': 53, 'VT': 54, 'VA': 55, 'WA': 56, 'WV': 57, 'WI': 58, 'WY': 59, 'DC': 60}\n"
     ]
    }
   ],
   "source": [
    "print(state_coding)"
   ]
  },
  {
   "cell_type": "code",
   "execution_count": 11,
   "metadata": {},
   "outputs": [
    {
     "name": "stdout",
     "output_type": "stream",
     "text": [
      "full_pk,primary_key,First Name,Last Name\n",
      "full_pk,primary_key,last_name,activities_score,events\n",
      "full_pk,First Name,Last Name,influence_score\n"
     ]
    }
   ],
   "source": [
    "#Get Data\n",
    "legislators_df = pd.read_csv(r'C:\\Users\\clutz\\OneDrive - THE HUNT INSTITUTE\\Documents\\Data\\legislator data\\connectors\\leg_lookup_df.csv')\n",
    "activities_df = pd.read_csv('activity_scores.csv')\n",
    "influence_df = pd.read_csv('leg_infl_df.csv')\n",
    "\n",
    "all_dfs = [legislators_df,activities_df,influence_df]\n",
    "for all in all_dfs:\n",
    "    print(*all.columns, sep = ',')"
   ]
  },
  {
   "cell_type": "code",
   "execution_count": 12,
   "metadata": {},
   "outputs": [],
   "source": [
    "#narrow down scores dfs\n",
    "activities_df = activities_df.loc[:,['full_pk', 'activities_score']]\n",
    "influence_df = influence_df.loc[:,['full_pk', 'influence_score']]"
   ]
  },
  {
   "cell_type": "code",
   "execution_count": 13,
   "metadata": {},
   "outputs": [],
   "source": [
    "#merging\n",
    "#merge influence scores\n",
    "first_merge = pd.merge(legislators_df, influence_df, how=\"left\", on='full_pk')\n",
    "# print(first_merge.to_string())\n",
    "\n",
    "#merge influence scores\n",
    "second_merge = pd.merge(first_merge, activities_df, how=\"left\", on='full_pk')\n",
    "# print(first_merge.to_string())"
   ]
  },
  {
   "cell_type": "code",
   "execution_count": 15,
   "metadata": {},
   "outputs": [],
   "source": [
    "\n",
    "#final exports\n",
    "# print(legislators_df.columns)\n",
    "# print(activities_df.columns)\n",
    "# print(influence_df.columns)\n",
    "final_df = second_merge\n",
    "first_merge.to_csv(r'C:\\Users\\clutz\\THE HUNT INSTITUTE\\The Hunt Institute Team Site - Documents\\Development (formerly Grants Management)\\!Administrative\\Christian\\Legislators Data\\leg_data_update_10_2024\\build files\\compiled scores\\first_merge.csv', index=False)\n",
    "final_df.to_csv(r'C:\\Users\\clutz\\THE HUNT INSTITUTE\\The Hunt Institute Team Site - Documents\\Development (formerly Grants Management)\\!Administrative\\Christian\\Legislators Data\\leg_data_update_10_2024\\build files\\compiled scores\\compiled_scores.csv', index=False)\n",
    "\n",
    "\n",
    "# final_df"
   ]
  }
 ],
 "metadata": {
  "kernelspec": {
   "display_name": "hunt_env",
   "language": "python",
   "name": "python3"
  },
  "language_info": {
   "codemirror_mode": {
    "name": "ipython",
    "version": 3
   },
   "file_extension": ".py",
   "mimetype": "text/x-python",
   "name": "python",
   "nbconvert_exporter": "python",
   "pygments_lexer": "ipython3",
   "version": "3.12.5"
  }
 },
 "nbformat": 4,
 "nbformat_minor": 2
}
