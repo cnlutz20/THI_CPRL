{
 "cells": [
  {
   "cell_type": "markdown",
   "metadata": {},
   "source": [
    "## Setup"
   ]
  },
  {
   "cell_type": "code",
   "execution_count": 19,
   "metadata": {},
   "outputs": [],
   "source": [
    "#imports\n",
    "import os, sys, json, datetime, re, xlrd  # Provides OS-dependent functionality, system-specific parameters, JSON handling, and date/time manipulation\n",
    "import pandas as pd             # Provides data structures and data analysis tools\n",
    "from openpyxl import Workbook\n",
    "import numpy as np              # Supports large, multi-dimensional arrays and matrices\n",
    "import requests\n",
    "import glob\n",
    "import time\n",
    "\n",
    "from tqdm import tqdm\n",
    "from functools import reduce\n",
    "import urllib3\n",
    "urllib3.disable_warnings(urllib3.exceptions.InsecureRequestWarning)\n",
    "import warnings\n",
    "warnings.simplefilter(action='ignore', category=FutureWarning)\n",
    "pd.options.mode.chained_assignment = None  # default='warn'\n",
    "from IPython.display import display_markdown\n",
    "from cprl_functions.state_capture import thi_states,state_ref, state_coding, state_coding_r, state_pat, state_abv_pat\n",
    "from cprl_functions.defined_functions import get_recent_file\n"
   ]
  },
  {
   "cell_type": "markdown",
   "metadata": {},
   "source": [
    "# Data Setup\n",
    "\n",
    "Have the following been updated?\n",
    "- influence score file\n",
    "- activities score file\n",
    "- leg_lookup file (key_creation.py)\n",
    "    - will need to update all_legs_file too\n",
    "        - created in influence_score.py but powers the leg_lookup file"
   ]
  },
  {
   "cell_type": "code",
   "execution_count": 35,
   "metadata": {},
   "outputs": [
    {
     "name": "stdout",
     "output_type": "stream",
     "text": [
      "C:\\Users\\clutz\\OneDrive - THE HUNT INSTITUTE\\Documents\\Data\\legislator data\\connectors\\legislator lookup\\leg_lookup_2025_01_31.csv\n",
      "Index(['full_pk', 'primary_key', 'state_abbreviation', 'first_name',\n",
      "       'last_name'],\n",
      "      dtype='object')\n"
     ]
    },
    {
     "data": {
      "text/html": [
       "<div>\n",
       "<style scoped>\n",
       "    .dataframe tbody tr th:only-of-type {\n",
       "        vertical-align: middle;\n",
       "    }\n",
       "\n",
       "    .dataframe tbody tr th {\n",
       "        vertical-align: top;\n",
       "    }\n",
       "\n",
       "    .dataframe thead th {\n",
       "        text-align: right;\n",
       "    }\n",
       "</style>\n",
       "<table border=\"1\" class=\"dataframe\">\n",
       "  <thead>\n",
       "    <tr style=\"text-align: right;\">\n",
       "      <th></th>\n",
       "      <th>full_pk</th>\n",
       "      <th>primary_key</th>\n",
       "      <th>state_abbreviation</th>\n",
       "      <th>first_name</th>\n",
       "      <th>last_name</th>\n",
       "    </tr>\n",
       "  </thead>\n",
       "  <tbody>\n",
       "    <tr>\n",
       "      <th>0</th>\n",
       "      <td>10100100</td>\n",
       "      <td>101001</td>\n",
       "      <td>AL</td>\n",
       "      <td>Tim</td>\n",
       "      <td>Melson</td>\n",
       "    </tr>\n",
       "    <tr>\n",
       "      <th>1</th>\n",
       "      <td>10100200</td>\n",
       "      <td>101002</td>\n",
       "      <td>AL</td>\n",
       "      <td>Tom</td>\n",
       "      <td>Butler</td>\n",
       "    </tr>\n",
       "    <tr>\n",
       "      <th>2</th>\n",
       "      <td>10100300</td>\n",
       "      <td>101003</td>\n",
       "      <td>AL</td>\n",
       "      <td>Arthur</td>\n",
       "      <td>Orr</td>\n",
       "    </tr>\n",
       "    <tr>\n",
       "      <th>3</th>\n",
       "      <td>10100400</td>\n",
       "      <td>101004</td>\n",
       "      <td>AL</td>\n",
       "      <td>Garlan</td>\n",
       "      <td>Gudger</td>\n",
       "    </tr>\n",
       "    <tr>\n",
       "      <th>4</th>\n",
       "      <td>10100500</td>\n",
       "      <td>101005</td>\n",
       "      <td>AL</td>\n",
       "      <td>Greg</td>\n",
       "      <td>Reed</td>\n",
       "    </tr>\n",
       "    <tr>\n",
       "      <th>...</th>\n",
       "      <td>...</td>\n",
       "      <td>...</td>\n",
       "      <td>...</td>\n",
       "      <td>...</td>\n",
       "      <td>...</td>\n",
       "    </tr>\n",
       "    <tr>\n",
       "      <th>1986</th>\n",
       "      <td>57101500</td>\n",
       "      <td>571015</td>\n",
       "      <td>WV</td>\n",
       "      <td>NaN</td>\n",
       "      <td>NaN</td>\n",
       "    </tr>\n",
       "    <tr>\n",
       "      <th>1987</th>\n",
       "      <td>57101601</td>\n",
       "      <td>571016</td>\n",
       "      <td>WV</td>\n",
       "      <td>Jason</td>\n",
       "      <td>Barrett</td>\n",
       "    </tr>\n",
       "    <tr>\n",
       "      <th>1988</th>\n",
       "      <td>57101602</td>\n",
       "      <td>571016</td>\n",
       "      <td>WV</td>\n",
       "      <td>Patricia</td>\n",
       "      <td>Rucker</td>\n",
       "    </tr>\n",
       "    <tr>\n",
       "      <th>1989</th>\n",
       "      <td>57101701</td>\n",
       "      <td>571017</td>\n",
       "      <td>WV</td>\n",
       "      <td>Eric</td>\n",
       "      <td>Nelson</td>\n",
       "    </tr>\n",
       "    <tr>\n",
       "      <th>1990</th>\n",
       "      <td>57101702</td>\n",
       "      <td>571017</td>\n",
       "      <td>WV</td>\n",
       "      <td>Tom</td>\n",
       "      <td>Takubo</td>\n",
       "    </tr>\n",
       "  </tbody>\n",
       "</table>\n",
       "<p>1991 rows × 5 columns</p>\n",
       "</div>"
      ],
      "text/plain": [
       "       full_pk  primary_key state_abbreviation first_name last_name\n",
       "0     10100100       101001                 AL        Tim    Melson\n",
       "1     10100200       101002                 AL        Tom    Butler\n",
       "2     10100300       101003                 AL     Arthur       Orr\n",
       "3     10100400       101004                 AL     Garlan    Gudger\n",
       "4     10100500       101005                 AL       Greg      Reed\n",
       "...        ...          ...                ...        ...       ...\n",
       "1986  57101500       571015                 WV        NaN       NaN\n",
       "1987  57101601       571016                 WV      Jason   Barrett\n",
       "1988  57101602       571016                 WV   Patricia    Rucker\n",
       "1989  57101701       571017                 WV       Eric    Nelson\n",
       "1990  57101702       571017                 WV        Tom    Takubo\n",
       "\n",
       "[1991 rows x 5 columns]"
      ]
     },
     "execution_count": 35,
     "metadata": {},
     "output_type": "execute_result"
    }
   ],
   "source": [
    "#Get lookup Data\n",
    "key_path = r'C:\\Users\\clutz\\OneDrive - THE HUNT INSTITUTE\\Documents\\Data\\legislator data\\connectors\\legislator lookup'\n",
    "legislators_df = get_recent_file(\"leg_lookup_*.csv\", key_path)\n",
    "print(legislators_df)\n",
    "# legislators_df = pd.read_csv(r'C:\\Users\\clutz\\OneDrive - THE HUNT INSTITUTE\\Documents\\Data\\legislator data\\connectors\\leg_lookup_df.csv')\n",
    "\n",
    "#grab scores data\n",
    "act_dir_path = r'C:\\Users\\clutz\\THE HUNT INSTITUTE\\The Hunt Institute Team Site - Documents\\Development (formerly Grants Management)\\!Administrative\\Christian\\Legislators Data\\leg_data_update_10_2024\\build files\\activity scores\\2025'\n",
    "infl_dir_path = r'C:\\Users\\clutz\\THE HUNT INSTITUTE\\The Hunt Institute Team Site - Documents\\Development (formerly Grants Management)\\!Administrative\\Christian\\Legislators Data\\leg_data_update_10_2024\\build files\\influence scores\\2025'\n",
    "\n",
    "activity_file = get_recent_file(\"activity*.csv\", act_dir_path)\n",
    "influence_file = get_recent_file(\"*infl*.csv\", infl_dir_path)\n",
    "\n",
    "\n",
    "#make dfs\n",
    "legislators_df = pd.read_csv(legislators_df)\n",
    "activities_df = pd.read_csv(activity_file)\n",
    "influence_df = pd.read_csv(influence_file)\n",
    "\n",
    "print(legislators_df.columns)\n",
    "legislators_df"
   ]
  },
  {
   "cell_type": "markdown",
   "metadata": {},
   "source": [
    "### Clean up"
   ]
  },
  {
   "cell_type": "code",
   "execution_count": 21,
   "metadata": {},
   "outputs": [],
   "source": [
    "\n",
    "# #get rid of nan pks\n",
    "# #rewrite na pks to be numpy nan\n",
    "# influence_df.loc[influence_df['full_pk'].str.contains('nan'), 'full_pk'] = np.nan\n",
    "\n",
    "# #drop em\n",
    "# influence_df = influence_df.dropna(subset=['full_pk']).reset_index(drop = True)\n"
   ]
  },
  {
   "cell_type": "code",
   "execution_count": 36,
   "metadata": {},
   "outputs": [],
   "source": [
    "\n",
    "#clean influence\n",
    "for i,j in enumerate(influence_df['full_pk']):\n",
    "    if re.search('nan', str(j)):\n",
    "        print(j)\n",
    "        influence_df.loc[i,'full_pk'] = np.nan\n"
   ]
  },
  {
   "cell_type": "code",
   "execution_count": 37,
   "metadata": {},
   "outputs": [],
   "source": [
    "\n",
    "#forces all pks to int64\n",
    "all_dfs = [legislators_df,activities_df,influence_df]\n",
    "for i,df in enumerate(all_dfs):\n",
    "    # print(*all.columns, sep = ',')\n",
    "    # print(all.head)\n",
    "    if df['full_pk'].dtypes == \"object\":\n",
    "        df['full_pk'] = pd.to_numeric(df['full_pk'], errors='coerce').astype('Int64')  # Use nullable Int64 if NaNs are present\n",
    "        all_dfs[i] = df\n"
   ]
  },
  {
   "cell_type": "code",
   "execution_count": 24,
   "metadata": {},
   "outputs": [],
   "source": [
    "#narrow down scores dfs\n",
    "# activities_df = activities_df.loc[:,['full_pk', 'activities_score']]\n",
    "# influence_df = influence_df.loc[:,['full_pk', 'influence_score']]"
   ]
  },
  {
   "cell_type": "markdown",
   "metadata": {},
   "source": [
    "# Merge Data (compiled_scores creation)"
   ]
  },
  {
   "cell_type": "markdown",
   "metadata": {},
   "source": [
    "## First merge"
   ]
  },
  {
   "cell_type": "code",
   "execution_count": 32,
   "metadata": {},
   "outputs": [
    {
     "name": "stdout",
     "output_type": "stream",
     "text": [
      "full_pk, primary_key, state_abbreviation, first_name, last_name, party, tenure, influence_score\n",
      "full_pk, primary_key, first_name, last_name, activities_score, events\n"
     ]
    },
    {
     "data": {
      "text/html": [
       "<div>\n",
       "<style scoped>\n",
       "    .dataframe tbody tr th:only-of-type {\n",
       "        vertical-align: middle;\n",
       "    }\n",
       "\n",
       "    .dataframe tbody tr th {\n",
       "        vertical-align: top;\n",
       "    }\n",
       "\n",
       "    .dataframe thead th {\n",
       "        text-align: right;\n",
       "    }\n",
       "</style>\n",
       "<table border=\"1\" class=\"dataframe\">\n",
       "  <thead>\n",
       "    <tr style=\"text-align: right;\">\n",
       "      <th></th>\n",
       "      <th>full_pk</th>\n",
       "      <th>primary_key</th>\n",
       "      <th>state_abbreviation</th>\n",
       "      <th>first_name</th>\n",
       "      <th>last_name</th>\n",
       "      <th>party</th>\n",
       "      <th>tenure</th>\n",
       "      <th>influence_score</th>\n",
       "    </tr>\n",
       "  </thead>\n",
       "  <tbody>\n",
       "    <tr>\n",
       "      <th>0</th>\n",
       "      <td>10006300</td>\n",
       "      <td>100063.0</td>\n",
       "      <td>AL</td>\n",
       "      <td>Cynthia</td>\n",
       "      <td>Almond</td>\n",
       "      <td>Republican</td>\n",
       "      <td>4</td>\n",
       "      <td>11.0</td>\n",
       "    </tr>\n",
       "    <tr>\n",
       "      <th>1</th>\n",
       "      <td>10006600</td>\n",
       "      <td>100066.0</td>\n",
       "      <td>AL</td>\n",
       "      <td>Alan</td>\n",
       "      <td>Baker</td>\n",
       "      <td>Republican</td>\n",
       "      <td>19</td>\n",
       "      <td>13.0</td>\n",
       "    </tr>\n",
       "    <tr>\n",
       "      <th>2</th>\n",
       "      <td>10004900</td>\n",
       "      <td>100049.0</td>\n",
       "      <td>AL</td>\n",
       "      <td>Russell</td>\n",
       "      <td>Bedsole</td>\n",
       "      <td>Republican</td>\n",
       "      <td>5</td>\n",
       "      <td>11.0</td>\n",
       "    </tr>\n",
       "    <tr>\n",
       "      <th>3</th>\n",
       "      <td>10008000</td>\n",
       "      <td>100080.0</td>\n",
       "      <td>AL</td>\n",
       "      <td>Chris</td>\n",
       "      <td>Blackshear</td>\n",
       "      <td>Republican</td>\n",
       "      <td>9</td>\n",
       "      <td>12.0</td>\n",
       "    </tr>\n",
       "    <tr>\n",
       "      <th>4</th>\n",
       "      <td>10006100</td>\n",
       "      <td>100061.0</td>\n",
       "      <td>AL</td>\n",
       "      <td>Ronald</td>\n",
       "      <td>Bolton</td>\n",
       "      <td>Republican</td>\n",
       "      <td>3</td>\n",
       "      <td>11.0</td>\n",
       "    </tr>\n",
       "    <tr>\n",
       "      <th>...</th>\n",
       "      <td>...</td>\n",
       "      <td>...</td>\n",
       "      <td>...</td>\n",
       "      <td>...</td>\n",
       "      <td>...</td>\n",
       "      <td>...</td>\n",
       "      <td>...</td>\n",
       "      <td>...</td>\n",
       "    </tr>\n",
       "    <tr>\n",
       "      <th>1980</th>\n",
       "      <td>57100402</td>\n",
       "      <td>571004.0</td>\n",
       "      <td>WV</td>\n",
       "      <td>Eric</td>\n",
       "      <td>Tarr</td>\n",
       "      <td>Republican</td>\n",
       "      <td>13</td>\n",
       "      <td>13.0</td>\n",
       "    </tr>\n",
       "    <tr>\n",
       "      <th>1981</th>\n",
       "      <td>57101402</td>\n",
       "      <td>NaN</td>\n",
       "      <td>NaN</td>\n",
       "      <td>NaN</td>\n",
       "      <td>NaN</td>\n",
       "      <td>Republican</td>\n",
       "      <td>3</td>\n",
       "      <td>11.0</td>\n",
       "    </tr>\n",
       "    <tr>\n",
       "      <th>1982</th>\n",
       "      <td>57100102</td>\n",
       "      <td>571001.0</td>\n",
       "      <td>WV</td>\n",
       "      <td>Ryan</td>\n",
       "      <td>Weld</td>\n",
       "      <td>Republican</td>\n",
       "      <td>9</td>\n",
       "      <td>17.0</td>\n",
       "    </tr>\n",
       "    <tr>\n",
       "      <th>1983</th>\n",
       "      <td>57100502</td>\n",
       "      <td>571005.0</td>\n",
       "      <td>WV</td>\n",
       "      <td>Michael</td>\n",
       "      <td>Woelfel</td>\n",
       "      <td>Democrat</td>\n",
       "      <td>1</td>\n",
       "      <td>NaN</td>\n",
       "    </tr>\n",
       "    <tr>\n",
       "      <th>1984</th>\n",
       "      <td>57101002</td>\n",
       "      <td>571010.0</td>\n",
       "      <td>WV</td>\n",
       "      <td>Jack</td>\n",
       "      <td>Woodrum</td>\n",
       "      <td>Republican</td>\n",
       "      <td>5</td>\n",
       "      <td>11.0</td>\n",
       "    </tr>\n",
       "  </tbody>\n",
       "</table>\n",
       "<p>1985 rows × 8 columns</p>\n",
       "</div>"
      ],
      "text/plain": [
       "       full_pk  primary_key state_abbreviation first_name   last_name  \\\n",
       "0     10006300     100063.0                 AL    Cynthia      Almond   \n",
       "1     10006600     100066.0                 AL       Alan       Baker   \n",
       "2     10004900     100049.0                 AL    Russell     Bedsole   \n",
       "3     10008000     100080.0                 AL      Chris  Blackshear   \n",
       "4     10006100     100061.0                 AL     Ronald      Bolton   \n",
       "...        ...          ...                ...        ...         ...   \n",
       "1980  57100402     571004.0                 WV       Eric        Tarr   \n",
       "1981  57101402          NaN                NaN        NaN         NaN   \n",
       "1982  57100102     571001.0                 WV       Ryan        Weld   \n",
       "1983  57100502     571005.0                 WV    Michael     Woelfel   \n",
       "1984  57101002     571010.0                 WV       Jack     Woodrum   \n",
       "\n",
       "           party  tenure  influence_score  \n",
       "0     Republican       4             11.0  \n",
       "1     Republican      19             13.0  \n",
       "2     Republican       5             11.0  \n",
       "3     Republican       9             12.0  \n",
       "4     Republican       3             11.0  \n",
       "...          ...     ...              ...  \n",
       "1980  Republican      13             13.0  \n",
       "1981  Republican       3             11.0  \n",
       "1982  Republican       9             17.0  \n",
       "1983    Democrat       1              NaN  \n",
       "1984  Republican       5             11.0  \n",
       "\n",
       "[1985 rows x 8 columns]"
      ]
     },
     "execution_count": 32,
     "metadata": {},
     "output_type": "execute_result"
    }
   ],
   "source": [
    "#merging influence and legislators\n",
    "#merge influence scores\n",
    "first_merge = pd.merge(legislators_df, influence_df, how=\"right\", on='full_pk', suffixes=('', '_y'))\n",
    "first_merge.drop(first_merge.filter(regex='_y$').columns, axis=1, inplace=True)\n",
    "\n",
    "# print(first_merge.to_string())\n",
    "print(*first_merge.columns, sep=\", \")\n",
    "print(*activities_df.columns, sep=\", \")\n",
    "first_merge\n"
   ]
  },
  {
   "cell_type": "markdown",
   "metadata": {},
   "source": [
    "## Second Merge"
   ]
  },
  {
   "cell_type": "code",
   "execution_count": 9,
   "metadata": {},
   "outputs": [],
   "source": [
    "\n",
    "#merge influence scores\n",
    "second_merge = pd.merge(first_merge, activities_df, how=\"left\", on='full_pk', suffixes=('', '_y'))\n",
    "second_merge.drop(second_merge.filter(regex='_y$').columns, axis=1, inplace=True)\n",
    "\n",
    "# second_merge"
   ]
  },
  {
   "cell_type": "markdown",
   "metadata": {},
   "source": [
    "## Clean Merge Data"
   ]
  },
  {
   "cell_type": "code",
   "execution_count": 10,
   "metadata": {},
   "outputs": [],
   "source": [
    "\n",
    "# Function to count non-whitespace events\n",
    "def count_events(event_str):\n",
    "    if pd.isna(event_str):  # Check if the value is NaN\n",
    "        return 0\n",
    "    # Split by \"|\" and strip whitespace\n",
    "    events_list = [event.strip() for event in event_str.split('|') if event.strip()]\n",
    "    \n",
    "    return len(events_list)\n",
    "\n",
    "# Add a new column with the count of events\n",
    "second_merge['event_count'] = second_merge['events'].apply(count_events)\n",
    "# print(second_merge.columns)\n",
    "# print(second_merge.to_string())\n",
    "\n"
   ]
  },
  {
   "cell_type": "code",
   "execution_count": 11,
   "metadata": {},
   "outputs": [
    {
     "name": "stdout",
     "output_type": "stream",
     "text": [
      "full_pk, primary_key, state_abbreviation, first_name, last_name, party, tenure, influence_score, activities_score, events, event_count\n"
     ]
    }
   ],
   "source": [
    "#copy dataframe\n",
    "from datetime import date\n",
    "\n",
    "final_df = second_merge.copy()\n",
    "print(*final_df.columns, sep=', ')\n"
   ]
  },
  {
   "cell_type": "code",
   "execution_count": 12,
   "metadata": {},
   "outputs": [
    {
     "name": "stdout",
     "output_type": "stream",
     "text": [
      "full_pk, primary_key, state_abbreviation, first_name, last_name, party, tenure, influence_score, activities_score, events, event_count, state, chamber, district, seat_num\n"
     ]
    }
   ],
   "source": [
    "#PK Cleanup\n",
    "for i,j in enumerate(final_df['full_pk']):\n",
    "    j_pk = re.findall(r'^\\d{6}', str(j))[0]\n",
    "    seat_num = re.findall(r'\\d{2}$', str(j))[0]\n",
    "    # print(f'seat num is {seat_num}')\n",
    "    # print(f'type is {type(seat_num)}')\n",
    "    \n",
    "    if seat_num == '00':\n",
    "        # print('its a single seat')\n",
    "        seat_num_v = np.nan\n",
    "    else:\n",
    "        seat_num_v = 'Seat ' + seat_num\n",
    "\n",
    "    \n",
    "    state_match = re.findall(r'^\\d{2}', str(j_pk))\n",
    "    state = state_coding_r.get(int(state_match[0]))\n",
    "    chamber = int(re.findall(r'(?<=^\\d{2})\\d{1}(?=\\d{3})', str(j_pk))[0])\n",
    "    \n",
    "    if chamber == 0:\n",
    "        chamber_v = 'House'\n",
    "    else:\n",
    "        chamber_v = 'Senate'\n",
    "    \n",
    "    district = int(re.findall(r'(?<=^\\d{3})\\d{3}$', str(j_pk))[0].lstrip('0'))\n",
    "    district_v = f'District {district}'\n",
    "    \n",
    "    \n",
    "    \n",
    "    if str(seat_num_v) != 'nan':\n",
    "        final_df.loc[i,'seat_num'] = seat_num_v\n",
    "        \n",
    "\n",
    "\n",
    "    # print('################')\n",
    "    # print(f'state is {state}')\n",
    "    # print(f'chamber is {chamber_v}')\n",
    "    # print(f'district is {district_v}')\n",
    "    # print(seat_num_v)\n",
    "    \n",
    "\n",
    "    final_df.loc[i,'state'] = state\n",
    "    final_df.loc[i,'chamber'] = chamber_v\n",
    "    final_df.loc[i,'district'] = district_v\n",
    "\n",
    "print(*final_df.columns, sep=', ')\n",
    "\n",
    "\n",
    "final_df.loc[:,['year']] = \"2025\"\n",
    "no_tenure_mask = final_df['tenure'] == 1\n",
    "\n",
    "#clears values for new legislators\n",
    "final_df.loc[no_tenure_mask, 'activities_score'] = np.nan\n",
    "final_df.loc[no_tenure_mask, 'events'] = np.nan\n",
    "final_df.loc[no_tenure_mask, 'event_count'] = np.nan"
   ]
  },
  {
   "cell_type": "markdown",
   "metadata": {},
   "source": [
    "## Export"
   ]
  },
  {
   "cell_type": "code",
   "execution_count": 13,
   "metadata": {},
   "outputs": [],
   "source": [
    "#export\n",
    "file_name = f'compiled_scores{str(date.today()).replace('-','_')}.xlsx'\n",
    "csv_file_name = f'compiled_scores{str(date.today()).replace('-','_')}.csv'\n",
    "final_df.to_excel(fr'C:\\Users\\clutz\\THE HUNT INSTITUTE\\The Hunt Institute Team Site - Documents\\Development (formerly Grants Management)\\!Administrative\\Christian\\Legislators Data\\leg_data_update_10_2024\\build files\\compiled scores\\2025\\{file_name}', index=False)\n",
    "final_df.to_csv(fr'C:\\Users\\clutz\\THE HUNT INSTITUTE\\The Hunt Institute Team Site - Documents\\Development (formerly Grants Management)\\!Administrative\\Christian\\Legislators Data\\leg_data_update_10_2024\\build files\\compiled scores\\2025\\{csv_file_name}', index=False)\n",
    "# final_df"
   ]
  },
  {
   "cell_type": "markdown",
   "metadata": {},
   "source": [
    "# Bills and Legislator Match"
   ]
  },
  {
   "cell_type": "markdown",
   "metadata": {},
   "source": [
    "## Compiled plus bills\n",
    "pulls in bills file and adds on the bills sponsored by legislators and the total count"
   ]
  },
  {
   "cell_type": "code",
   "execution_count": 14,
   "metadata": {},
   "outputs": [],
   "source": [
    "#file set up\n",
    "\n",
    "#this is from quorum_bill_pulling\n",
    "#has bills and pk sponsors but no data to accompany it\n",
    "bills_file = r\"C:\\Users\\clutz\\THE HUNT INSTITUTE\\The Hunt Institute Team Site - Documents\\Development (formerly Grants Management)\\!Administrative\\Christian\\Legislators Data\\leg_data_update_10_2024\\build files\\bills\\leg_bills_info.xlsx\"\n",
    "bills = pd.read_excel(bills_file)\n",
    "# print(bills.columns)\n"
   ]
  },
  {
   "cell_type": "code",
   "execution_count": 15,
   "metadata": {},
   "outputs": [],
   "source": [
    "#bill and leg merger\n",
    "#final df comes from compiling data of legislators\n",
    "#this file has unique rows for legislators and the bills they sponsored along with overall count of bills\n",
    "compiled_plus_bills = pd.merge(final_df, bills, how=\"left\", on='primary_key')\n",
    "compiled_plus_bills = compiled_plus_bills.reset_index(drop = True)\n",
    "compiled_plus_bills = compiled_plus_bills[~(compiled_plus_bills['tenure'] == 1)]\n",
    "\n"
   ]
  },
  {
   "cell_type": "code",
   "execution_count": 16,
   "metadata": {},
   "outputs": [],
   "source": [
    "#export\n",
    "#this exports a file with all of the main info for legislators and the bills they have sponsored\n",
    "file_name_cb = f'compiled_plus_bills{str(date.today()).replace('-','_')}.xlsx'\n",
    "csv_file_name_cb = f'compiled_plus_bills{str(date.today()).replace('-','_')}.csv'\n",
    "compiled_plus_bills.to_excel(fr'C:\\Users\\clutz\\THE HUNT INSTITUTE\\The Hunt Institute Team Site - Documents\\Development (formerly Grants Management)\\!Administrative\\Christian\\Legislators Data\\leg_data_update_10_2024\\build files\\compiled scores\\2025\\{file_name_cb}',sheet_name=f'{file_name_cb.replace(\".xlsx\", \"\")}', index=False)\n",
    "compiled_plus_bills.to_csv(fr'C:\\Users\\clutz\\THE HUNT INSTITUTE\\The Hunt Institute Team Site - Documents\\Development (formerly Grants Management)\\!Administrative\\Christian\\Legislators Data\\leg_data_update_10_2024\\build files\\compiled scores\\2025\\{csv_file_name_cb}', index=False)\n"
   ]
  },
  {
   "cell_type": "markdown",
   "metadata": {},
   "source": [
    "## Bills_and_legisltors"
   ]
  },
  {
   "cell_type": "code",
   "execution_count": 17,
   "metadata": {},
   "outputs": [],
   "source": [
    "#bills and their legislators with the primary focus on bills``\n",
    "bills_and_legislators = compiled_plus_bills.assign(\n",
    "    bills=compiled_plus_bills['bill_labels'].str.split('|')  # Split the string into a list\n",
    ").explode('bills')  # Create a new row for each list element\n",
    "\n",
    "\n",
    "\n",
    "# Optionally, clean up the brackets\n",
    "# bills_and_legislators['Values'] = df_expanded['Values'].str.strip('[]')\n",
    "# print(compiled_plus_bills.columns)\n",
    "bills_and_legislators['bill_lookup'] = bills_and_legislators['bills'] + \"-[\" + bills_and_legislators['state'] + \"]\""
   ]
  },
  {
   "cell_type": "code",
   "execution_count": null,
   "metadata": {},
   "outputs": [],
   "source": [
    "# bills_file = r'C:\\Users\\clutz\\THE HUNT INSTITUTE\\The Hunt Institute Team Site - Documents\\Development (formerly Grants Management)\\!Administrative\\Christian\\Legislators Data\\leg_data_update_10_2024\\build files\\bills\\ed_bills_v2.xlsx'\n",
    "\n",
    "# ed_bills = pd.read_excel(bills_file)\n",
    "\n",
    "# ed_bills\n",
    "# bills_and_legislators"
   ]
  },
  {
   "cell_type": "code",
   "execution_count": 18,
   "metadata": {},
   "outputs": [],
   "source": [
    "\n",
    "#export\n",
    "file_name_bl = f'bills_and_legislators{str(date.today()).replace('-','_')}.xlsx'\n",
    "csv_file_name_bl = f'bills_and_legislators{str(date.today()).replace('-','_')}.csv'\n",
    "bills_and_legislators.to_excel(fr'C:\\Users\\clutz\\THE HUNT INSTITUTE\\The Hunt Institute Team Site - Documents\\Development (formerly Grants Management)\\!Administrative\\Christian\\Legislators Data\\leg_data_update_10_2024\\build files\\bills and legislators\\2025\\{file_name_bl}', sheet_name=f'{file_name_bl.replace(\".xlsx\", \"\")}', index=False)\n",
    "bills_and_legislators.to_csv(fr'C:\\Users\\clutz\\THE HUNT INSTITUTE\\The Hunt Institute Team Site - Documents\\Development (formerly Grants Management)\\!Administrative\\Christian\\Legislators Data\\leg_data_update_10_2024\\build files\\bills and legislators\\2025\\{csv_file_name_bl}', index=False)\n",
    "\n"
   ]
  },
  {
   "cell_type": "code",
   "execution_count": null,
   "metadata": {},
   "outputs": [],
   "source": [
    "# Generate a list of numbers from 81 to 2834 with a step of 1\n",
    "numbers = list(range(0, 830))  # 2834 inclusive\n",
    "\n",
    "for j in numbers:\n",
    "    print(j)\n",
    "\n",
    "# Convert to a comma-separated string\n",
    "comma_separated_numbers = r\"/n\".join(map(str, numbers))\n",
    "len(comma_separated_numbers), comma_separated_numbers\n"
   ]
  }
 ],
 "metadata": {
  "kernelspec": {
   "display_name": "hunt_env",
   "language": "python",
   "name": "python3"
  },
  "language_info": {
   "codemirror_mode": {
    "name": "ipython",
    "version": 3
   },
   "file_extension": ".py",
   "mimetype": "text/x-python",
   "name": "python",
   "nbconvert_exporter": "python",
   "pygments_lexer": "ipython3",
   "version": "3.12.5"
  }
 },
 "nbformat": 4,
 "nbformat_minor": 2
}
