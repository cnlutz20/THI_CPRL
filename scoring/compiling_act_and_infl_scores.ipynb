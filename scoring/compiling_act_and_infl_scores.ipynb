{
 "cells": [
  {
   "cell_type": "markdown",
   "metadata": {},
   "source": [
    "## Setup"
   ]
  },
  {
   "cell_type": "code",
   "execution_count": null,
   "metadata": {},
   "outputs": [],
   "source": [
    "#imports\n",
    "import os, sys, json, datetime, re, xlrd  # Provides OS-dependent functionality, system-specific parameters, JSON handling, and date/time manipulation\n",
    "import pandas as pd             # Provides data structures and data analysis tools\n",
    "from openpyxl import Workbook\n",
    "import numpy as np              # Supports large, multi-dimensional arrays and matrices\n",
    "import requests\n",
    "import glob\n",
    "import time\n",
    "\n",
    "from tqdm import tqdm\n",
    "from functools import reduce\n",
    "import urllib3\n",
    "urllib3.disable_warnings(urllib3.exceptions.InsecureRequestWarning)\n",
    "import warnings\n",
    "warnings.simplefilter(action='ignore', category=FutureWarning)\n",
    "pd.options.mode.chained_assignment = None  # default='warn'\n",
    "from IPython.display import display_markdown\n",
    "from cprl_functions.state_capture import thi_states,state_ref, state_coding, state_coding_r, state_pat, state_abv_pat\n",
    "from cprl_functions.defined_functions import get_recent_file\n"
   ]
  },
  {
   "cell_type": "code",
   "execution_count": 3,
   "metadata": {},
   "outputs": [],
   "source": [
    "\n",
    "# %%\n",
    "os.chdir(r'C:\\Users\\clutz\\THE HUNT INSTITUTE\\The Hunt Institute Team Site - Documents\\Development (formerly Grants Management)\\!Administrative\\Christian\\Legislators Data\\leg_data_update_10_2024\\build files')"
   ]
  },
  {
   "cell_type": "code",
   "execution_count": 4,
   "metadata": {},
   "outputs": [
    {
     "name": "stdout",
     "output_type": "stream",
     "text": [
      "    full_pk first_name   last_name       party  tenure  influence_score\n",
      "0  10006300    Cynthia      Almond  Republican     4.0             11.0\n",
      "1  10006600       Alan       Baker  Republican    19.0             13.0\n",
      "2  10004900    Russell     Bedsole  Republican     5.0             11.0\n",
      "3  10008000      Chris  Blackshear  Republican     9.0             12.0\n",
      "4  10006100     Ronald      Bolton  Republican     3.0             11.0\n"
     ]
    }
   ],
   "source": [
    "#Get lookup Data\n",
    "key_path = r'C:\\Users\\clutz\\OneDrive - THE HUNT INSTITUTE\\Documents\\Data\\legislator data\\connectors'\n",
    "legislators_df = get_recent_file(\"leg_lookup_*.csv\", key_path)\n",
    "# legislators_df = pd.read_csv(r'C:\\Users\\clutz\\OneDrive - THE HUNT INSTITUTE\\Documents\\Data\\legislator data\\connectors\\leg_lookup_df.csv')\n",
    "\n",
    "#grab scores data\n",
    "dir_path = r'C:\\Users\\clutz\\THE HUNT INSTITUTE\\The Hunt Institute Team Site - Documents\\Development (formerly Grants Management)\\!Administrative\\Christian\\Legislators Data\\leg_data_update_10_2024\\build files'\n",
    "activity_file = get_recent_file(\"activity*.csv\", dir_path)\n",
    "influence_file = get_recent_file(\"*infl*.csv\", dir_path)\n",
    "\n",
    "#make dfs\n",
    "legislators_df = pd.read_csv(legislators_df)\n",
    "activities_df = pd.read_csv(activity_file)\n",
    "influence_df = pd.read_csv(influence_file)\n",
    "\n",
    "\n",
    "influence_df.loc[influence_df['full_pk'].str.contains('nan'), 'full_pk'] = np.nan\n",
    "influence_df\n",
    "\n",
    "\n",
    "print(influence_df.head())\n",
    "\n",
    "influence_df = influence_df.dropna(subset=['full_pk']).reset_index(drop = True)\n"
   ]
  },
  {
   "cell_type": "code",
   "execution_count": 5,
   "metadata": {},
   "outputs": [
    {
     "data": {
      "text/html": [
       "<div>\n",
       "<style scoped>\n",
       "    .dataframe tbody tr th:only-of-type {\n",
       "        vertical-align: middle;\n",
       "    }\n",
       "\n",
       "    .dataframe tbody tr th {\n",
       "        vertical-align: top;\n",
       "    }\n",
       "\n",
       "    .dataframe thead th {\n",
       "        text-align: right;\n",
       "    }\n",
       "</style>\n",
       "<table border=\"1\" class=\"dataframe\">\n",
       "  <thead>\n",
       "    <tr style=\"text-align: right;\">\n",
       "      <th></th>\n",
       "      <th>full_pk</th>\n",
       "      <th>primary_key</th>\n",
       "      <th>first_name</th>\n",
       "      <th>last_name</th>\n",
       "      <th>activities_score</th>\n",
       "      <th>events</th>\n",
       "    </tr>\n",
       "  </thead>\n",
       "  <tbody>\n",
       "    <tr>\n",
       "      <th>0</th>\n",
       "      <td>43000101</td>\n",
       "      <td>430001</td>\n",
       "      <td>Patrick</td>\n",
       "      <td>Hatlestad</td>\n",
       "      <td>15</td>\n",
       "      <td>ND SLR 2023</td>\n",
       "    </tr>\n",
       "    <tr>\n",
       "      <th>1</th>\n",
       "      <td>43000102</td>\n",
       "      <td>430001</td>\n",
       "      <td>David</td>\n",
       "      <td>Richter</td>\n",
       "      <td>30</td>\n",
       "      <td>ND SLR 2024 (Legislator)|ND SLR 2023 (Opening ...</td>\n",
       "    </tr>\n",
       "    <tr>\n",
       "      <th>2</th>\n",
       "      <td>43000201</td>\n",
       "      <td>430002</td>\n",
       "      <td>Dick</td>\n",
       "      <td>Anderson</td>\n",
       "      <td>15</td>\n",
       "      <td>ND SLR 2023</td>\n",
       "    </tr>\n",
       "    <tr>\n",
       "      <th>3</th>\n",
       "      <td>43000202</td>\n",
       "      <td>430002</td>\n",
       "      <td>Donald</td>\n",
       "      <td>Longmuir</td>\n",
       "      <td>15</td>\n",
       "      <td>ND SLR 2024 (Legislator)</td>\n",
       "    </tr>\n",
       "    <tr>\n",
       "      <th>4</th>\n",
       "      <td>43000601</td>\n",
       "      <td>430006</td>\n",
       "      <td>Dick</td>\n",
       "      <td>Anderson</td>\n",
       "      <td>15</td>\n",
       "      <td>ND SLR 2024 (Legislator)</td>\n",
       "    </tr>\n",
       "    <tr>\n",
       "      <th>...</th>\n",
       "      <td>...</td>\n",
       "      <td>...</td>\n",
       "      <td>...</td>\n",
       "      <td>...</td>\n",
       "      <td>...</td>\n",
       "      <td>...</td>\n",
       "    </tr>\n",
       "    <tr>\n",
       "      <th>250</th>\n",
       "      <td>45006900</td>\n",
       "      <td>450069</td>\n",
       "      <td>Mark</td>\n",
       "      <td>Tedford</td>\n",
       "      <td>15</td>\n",
       "      <td>OK SLR 2023</td>\n",
       "    </tr>\n",
       "    <tr>\n",
       "      <th>251</th>\n",
       "      <td>16009300</td>\n",
       "      <td>160093</td>\n",
       "      <td>Toni</td>\n",
       "      <td>Walker</td>\n",
       "      <td>10</td>\n",
       "      <td>ECLS 2024</td>\n",
       "    </tr>\n",
       "    <tr>\n",
       "      <th>252</th>\n",
       "      <td>34100900</td>\n",
       "      <td>341009</td>\n",
       "      <td>Barbara</td>\n",
       "      <td>Washington</td>\n",
       "      <td>10</td>\n",
       "      <td>ECLS 2024</td>\n",
       "    </tr>\n",
       "    <tr>\n",
       "      <th>253</th>\n",
       "      <td>45104800</td>\n",
       "      <td>451048</td>\n",
       "      <td>George</td>\n",
       "      <td>Young</td>\n",
       "      <td>15</td>\n",
       "      <td>OK SLR 2023</td>\n",
       "    </tr>\n",
       "    <tr>\n",
       "      <th>254</th>\n",
       "      <td>57004800</td>\n",
       "      <td>570048</td>\n",
       "      <td>Kayla</td>\n",
       "      <td>Young</td>\n",
       "      <td>15</td>\n",
       "      <td>WV SLR 2023</td>\n",
       "    </tr>\n",
       "  </tbody>\n",
       "</table>\n",
       "<p>255 rows × 6 columns</p>\n",
       "</div>"
      ],
      "text/plain": [
       "      full_pk  primary_key first_name   last_name  activities_score  \\\n",
       "0    43000101       430001    Patrick   Hatlestad                15   \n",
       "1    43000102       430001      David     Richter                30   \n",
       "2    43000201       430002       Dick    Anderson                15   \n",
       "3    43000202       430002     Donald    Longmuir                15   \n",
       "4    43000601       430006       Dick    Anderson                15   \n",
       "..        ...          ...        ...         ...               ...   \n",
       "250  45006900       450069       Mark     Tedford                15   \n",
       "251  16009300       160093       Toni      Walker                10   \n",
       "252  34100900       341009    Barbara  Washington                10   \n",
       "253  45104800       451048     George       Young                15   \n",
       "254  57004800       570048      Kayla       Young                15   \n",
       "\n",
       "                                                events  \n",
       "0                                          ND SLR 2023  \n",
       "1    ND SLR 2024 (Legislator)|ND SLR 2023 (Opening ...  \n",
       "2                                          ND SLR 2023  \n",
       "3                             ND SLR 2024 (Legislator)  \n",
       "4                             ND SLR 2024 (Legislator)  \n",
       "..                                                 ...  \n",
       "250                                        OK SLR 2023  \n",
       "251                                          ECLS 2024  \n",
       "252                                          ECLS 2024  \n",
       "253                                        OK SLR 2023  \n",
       "254                                        WV SLR 2023  \n",
       "\n",
       "[255 rows x 6 columns]"
      ]
     },
     "execution_count": 5,
     "metadata": {},
     "output_type": "execute_result"
    }
   ],
   "source": [
    "activities_df"
   ]
  },
  {
   "cell_type": "code",
   "execution_count": null,
   "metadata": {},
   "outputs": [],
   "source": [
    "\n",
    "#clean influence\n",
    "for i,j in enumerate(influence_df['full_pk']):\n",
    "    if re.search('nan', str(j)):\n",
    "        print(j)\n",
    "#         influence_df.loc[i,'full_pk'] = np.nan\n"
   ]
  },
  {
   "cell_type": "code",
   "execution_count": 4,
   "metadata": {},
   "outputs": [],
   "source": [
    "\n",
    "#testing print statement\n",
    "all_dfs = [legislators_df,activities_df,influence_df]\n",
    "for i,df in enumerate(all_dfs):\n",
    "    # print(*all.columns, sep = ',')\n",
    "    # print(all.head)\n",
    "    if df['full_pk'].dtypes == \"object\":\n",
    "        df['full_pk'] = pd.to_numeric(df['full_pk'], errors='coerce').astype('Int64')  # Use nullable Int64 if NaNs are present\n",
    "        all_dfs[i] = df\n"
   ]
  },
  {
   "cell_type": "code",
   "execution_count": 5,
   "metadata": {},
   "outputs": [
    {
     "name": "stdout",
     "output_type": "stream",
     "text": [
      "int64\n",
      "int64\n",
      "Int64\n"
     ]
    }
   ],
   "source": [
    "\n",
    "    \n",
    "for df in all_dfs:\n",
    "    # print(*all.columns, sep = ',')\n",
    "    # print(all.head)\n",
    "    result = df.full_pk.dtypes\n",
    "    print(result)\n"
   ]
  },
  {
   "cell_type": "code",
   "execution_count": 4,
   "metadata": {},
   "outputs": [],
   "source": [
    "#narrow down scores dfs\n",
    "# activities_df = activities_df.loc[:,['full_pk', 'activities_score']]\n",
    "# influence_df = influence_df.loc[:,['full_pk', 'influence_score']]"
   ]
  },
  {
   "cell_type": "code",
   "execution_count": null,
   "metadata": {},
   "outputs": [],
   "source": [
    "#merging\n",
    "#merge influence scores\n",
    "first_merge = pd.merge(legislators_df, influence_df, how=\"left\", on='full_pk', suffixes=('', '_y'))\n",
    "first_merge.drop(first_merge.filter(regex='_y$').columns, axis=1, inplace=True)\n",
    "\n",
    "# print(first_merge.to_string())\n",
    "print(*first_merge.columns, sep=\", \")\n",
    "print(*activities_df.columns, sep=\", \")\n",
    "first_merge\n"
   ]
  },
  {
   "cell_type": "code",
   "execution_count": null,
   "metadata": {},
   "outputs": [],
   "source": [
    "\n",
    "#merge influence scores\n",
    "second_merge = pd.merge(first_merge, activities_df, how=\"left\", on='full_pk', suffixes=('', '_y'))\n",
    "second_merge.drop(second_merge.filter(regex='_y$').columns, axis=1, inplace=True)\n",
    "\n",
    "second_merge"
   ]
  },
  {
   "cell_type": "code",
   "execution_count": 8,
   "metadata": {},
   "outputs": [],
   "source": [
    "\n",
    "# Function to count non-whitespace events\n",
    "def count_events(event_str):\n",
    "    if pd.isna(event_str):  # Check if the value is NaN\n",
    "        return 0\n",
    "    # Split by \"|\" and strip whitespace\n",
    "    events_list = [event.strip() for event in event_str.split('|') if event.strip()]\n",
    "    \n",
    "    return len(events_list)\n",
    "\n",
    "# Add a new column with the count of events\n",
    "second_merge['event_count'] = second_merge['events'].apply(count_events)\n",
    "# print(second_merge.columns)\n",
    "# print(second_merge.to_string())\n",
    "\n"
   ]
  },
  {
   "cell_type": "code",
   "execution_count": 9,
   "metadata": {},
   "outputs": [
    {
     "name": "stdout",
     "output_type": "stream",
     "text": [
      "full_pk, primary_key, first_name, last_name, party, influence_score, activities_score, events, event_count\n"
     ]
    }
   ],
   "source": [
    "from datetime import date\n",
    "\n",
    "#final exports\n",
    "\n",
    "final_df = second_merge.copy()\n",
    "print(*final_df.columns, sep=', ')\n"
   ]
  },
  {
   "cell_type": "code",
   "execution_count": null,
   "metadata": {},
   "outputs": [
    {
     "name": "stdout",
     "output_type": "stream",
     "text": [
      "full_pk, primary_key, first_name, last_name, party, influence_score, activities_score, events, event_count, state, chamber, district, seat_num\n"
     ]
    }
   ],
   "source": [
    "\n",
    "for i,j in enumerate(final_df['full_pk']):\n",
    "    j_pk = re.findall(r'^\\d{6}', str(j))[0]\n",
    "    seat_num = re.findall(r'\\d{2}$', str(j))[0]\n",
    "    # print(f'seat num is {seat_num}')\n",
    "    # print(f'type is {type(seat_num)}')\n",
    "    \n",
    "    if seat_num == '00':\n",
    "        # print('its a single seat')\n",
    "        seat_num_v = np.nan\n",
    "    else:\n",
    "        seat_num_v = 'Seat ' + seat_num\n",
    "\n",
    "    \n",
    "    state_match = re.findall(r'^\\d{2}', str(j_pk))\n",
    "    state = state_coding_r.get(int(state_match[0]))\n",
    "    chamber = int(re.findall(r'(?<=^\\d{2})\\d{1}(?=\\d{3})', str(j_pk))[0])\n",
    "    \n",
    "    if chamber == 0:\n",
    "        chamber_v = 'House'\n",
    "    else:\n",
    "        chamber_v = 'Senate'\n",
    "    \n",
    "    district = int(re.findall(r'(?<=^\\d{3})\\d{3}$', str(j_pk))[0].lstrip('0'))\n",
    "    district_v = f'District {district}'\n",
    "    \n",
    "    \n",
    "    \n",
    "    if str(seat_num_v) != 'nan':\n",
    "        final_df.loc[i,'seat_num'] = seat_num_v\n",
    "        \n",
    "\n",
    "\n",
    "    # print('################')\n",
    "    # print(f'state is {state}')\n",
    "    # print(f'chamber is {chamber_v}')\n",
    "    # print(f'district is {district_v}')\n",
    "    # print(seat_num_v)\n",
    "    \n",
    "\n",
    "    final_df.loc[i,'state'] = state\n",
    "    final_df.loc[i,'chamber'] = chamber_v\n",
    "    final_df.loc[i,'district'] = district_v\n",
    "\n",
    "print(*final_df.columns, sep=', ')\n",
    "\n",
    "\n",
    "final_df.loc[:,['year']] = \"2025\"\n",
    "   "
   ]
  },
  {
   "cell_type": "code",
   "execution_count": null,
   "metadata": {},
   "outputs": [],
   "source": [
    "\n",
    "file_name = f'compiled_scores{str(date.today()).replace('-','_')}.xlsx'\n",
    "csv_file_name = f'compiled_scores{str(date.today()).replace('-','_')}.csv'\n",
    "final_df.to_excel(fr'C:\\Users\\clutz\\THE HUNT INSTITUTE\\The Hunt Institute Team Site - Documents\\Development (formerly Grants Management)\\!Administrative\\Christian\\Legislators Data\\leg_data_update_10_2024\\build files\\compiled scores\\2025\\{file_name}', index=False)\n",
    "final_df.to_csv(fr'C:\\Users\\clutz\\THE HUNT INSTITUTE\\The Hunt Institute Team Site - Documents\\Development (formerly Grants Management)\\!Administrative\\Christian\\Legislators Data\\leg_data_update_10_2024\\build files\\compiled scores\\2025\\{csv_file_name}', index=False)\n",
    "final_df"
   ]
  },
  {
   "cell_type": "markdown",
   "metadata": {},
   "source": [
    "pulling in bills"
   ]
  },
  {
   "cell_type": "code",
   "execution_count": 14,
   "metadata": {},
   "outputs": [],
   "source": [
    "\n",
    "bills_file = r\"C:\\Users\\clutz\\THE HUNT INSTITUTE\\The Hunt Institute Team Site - Documents\\Development (formerly Grants Management)\\!Administrative\\Christian\\Legislators Data\\leg_data_update_10_2024\\build files\\bills\\leg_bills_info.xlsx\"\n",
    "\n",
    "bills = pd.read_excel(bills_file)\n",
    "# print(bills.columns)\n"
   ]
  },
  {
   "cell_type": "code",
   "execution_count": null,
   "metadata": {},
   "outputs": [],
   "source": [
    "\n",
    "compiled_plus_bills = pd.merge(final_df, bills, how=\"left\", on='primary_key')\n",
    "compiled_plus_bills\n"
   ]
  },
  {
   "cell_type": "code",
   "execution_count": 23,
   "metadata": {},
   "outputs": [],
   "source": [
    "\n",
    "file_name_cb = f'compiled_plus_bills{str(date.today()).replace('-','_')}.xlsx'\n",
    "csv_file_name_cb = f'compiled_plus_bills{str(date.today()).replace('-','_')}.csv'\n",
    "compiled_plus_bills.to_excel(fr'C:\\Users\\clutz\\THE HUNT INSTITUTE\\The Hunt Institute Team Site - Documents\\Development (formerly Grants Management)\\!Administrative\\Christian\\Legislators Data\\leg_data_update_10_2024\\build files\\compiled scores\\2025\\{file_name_cb}',sheet_name=f'{file_name_cb.replace(\".xlsx\", \"\")}', index=False)\n",
    "compiled_plus_bills.to_csv(fr'C:\\Users\\clutz\\THE HUNT INSTITUTE\\The Hunt Institute Team Site - Documents\\Development (formerly Grants Management)\\!Administrative\\Christian\\Legislators Data\\leg_data_update_10_2024\\build files\\compiled scores\\2025\\{csv_file_name_cb}', index=False)\n"
   ]
  },
  {
   "cell_type": "code",
   "execution_count": 17,
   "metadata": {},
   "outputs": [],
   "source": [
    "bills_and_legislators = compiled_plus_bills.assign(\n",
    "    bills=compiled_plus_bills['bill_labels'].str.split('|')  # Split the string into a list\n",
    ").explode('bills')  # Create a new row for each list element\n",
    "\n",
    "# Optionally, clean up the brackets\n",
    "# bills_and_legislators['Values'] = df_expanded['Values'].str.strip('[]')\n",
    "# print(compiled_plus_bills.columns)\n",
    "# bills_and_legislators"
   ]
  },
  {
   "cell_type": "code",
   "execution_count": 21,
   "metadata": {},
   "outputs": [],
   "source": [
    "\n",
    "file_name_bl = f'bills_and_legislators{str(date.today()).replace('-','_')}.xlsx'\n",
    "csv_file_name_bl = f'bills_and_legislators{str(date.today()).replace('-','_')}.csv'\n",
    "bills_and_legislators.to_excel(fr'C:\\Users\\clutz\\THE HUNT INSTITUTE\\The Hunt Institute Team Site - Documents\\Development (formerly Grants Management)\\!Administrative\\Christian\\Legislators Data\\leg_data_update_10_2024\\build files\\compiled scores\\2025\\{file_name_bl}', sheet_name=f'{file_name_bl.replace(\".xlsx\", \"\")}', index=False)\n",
    "bills_and_legislators.to_csv(fr'C:\\Users\\clutz\\THE HUNT INSTITUTE\\The Hunt Institute Team Site - Documents\\Development (formerly Grants Management)\\!Administrative\\Christian\\Legislators Data\\leg_data_update_10_2024\\build files\\compiled scores\\2025\\{csv_file_name_bl}', index=False)\n"
   ]
  },
  {
   "cell_type": "code",
   "execution_count": null,
   "metadata": {},
   "outputs": [],
   "source": []
  },
  {
   "cell_type": "code",
   "execution_count": 19,
   "metadata": {},
   "outputs": [],
   "source": [
    "\n",
    "# , suffixes=('', '_y'))\n",
    "# second_merge.drop(second_merge.filter(regex='_y$').columns, axis=1, inplace=True)"
   ]
  },
  {
   "cell_type": "code",
   "execution_count": 20,
   "metadata": {},
   "outputs": [],
   "source": [
    "\n",
    "\n",
    "\n",
    "# print(final_df.columns)\n",
    "\n",
    "# for i,j in enumerate(final_df['full_pk']):\n",
    "#     print('#############')\n",
    "#     print(j)\n",
    "\n",
    "\n",
    "\n",
    "\n",
    "# final_df"
   ]
  }
 ],
 "metadata": {
  "kernelspec": {
   "display_name": "hunt_env",
   "language": "python",
   "name": "python3"
  },
  "language_info": {
   "codemirror_mode": {
    "name": "ipython",
    "version": 3
   },
   "file_extension": ".py",
   "mimetype": "text/x-python",
   "name": "python",
   "nbconvert_exporter": "python",
   "pygments_lexer": "ipython3",
   "version": "3.12.5"
  }
 },
 "nbformat": 4,
 "nbformat_minor": 2
}
