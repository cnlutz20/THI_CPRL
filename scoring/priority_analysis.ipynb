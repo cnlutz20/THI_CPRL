{
 "cells": [
  {
   "cell_type": "markdown",
   "metadata": {},
   "source": [
    "# Pulling committee info for priority analysis"
   ]
  },
  {
   "cell_type": "code",
   "execution_count": null,
   "metadata": {},
   "outputs": [
    {
     "ename": "",
     "evalue": "",
     "output_type": "error",
     "traceback": [
      "\u001b[1;31mThe Kernel crashed while executing code in the current cell or a previous cell. \n",
      "\u001b[1;31mPlease review the code in the cell(s) to identify a possible cause of the failure. \n",
      "\u001b[1;31mClick <a href='https://aka.ms/vscodeJupyterKernelCrash'>here</a> for more info. \n",
      "\u001b[1;31mView Jupyter <a href='command:jupyter.viewOutput'>log</a> for further details."
     ]
    }
   ],
   "source": [
    "import os, json\n",
    "import glob as glob"
   ]
  },
  {
   "cell_type": "code",
   "execution_count": null,
   "metadata": {},
   "outputs": [],
   "source": [
    "#loading full dfs w comm info\n",
    "os.chdir(r'C:\\Users\\clutz\\THE HUNT INSTITUTE\\The Hunt Institute Team Site - Documents\\Development (formerly Grants Management)\\!Administrative\\Christian\\THII\\THII_build files\\2025\\bridges\\committee_info')\n",
    "json_files = glob.glob('full_dfs*.json')\n",
    "\n",
    "max_mtime = 0\n",
    "for dirname,subdirs,files in os.walk(\".\"):\n",
    "    for fname in files:\n",
    "        full_path = os.path.join(dirname, fname)\n",
    "        mtime = os.stat(full_path).st_mtime\n",
    "        if mtime > max_mtime:\n",
    "            max_mtime = mtime\n",
    "            max_dir = dirname\n",
    "            max_file = fname\n",
    "save_file_name = max_file\n",
    "print(save_file_name)\n",
    "\n",
    "\n",
    "\n",
    "\n",
    "with open(f'{save_file_name}', \"r\") as f:\n",
    "    all_districts = json.load(f)\n"
   ]
  },
  {
   "cell_type": "code",
   "execution_count": null,
   "metadata": {},
   "outputs": [],
   "source": [
    "# this is to get information on committee scores for priority analaysis\n",
    "comms_dfs = []\n",
    "for k,v in full_dfs.items():\n",
    "    # print('#############################')\n",
    "    # print(k)\n",
    "\n",
    "    # print(v.to_string())\n",
    "    for i,j in enumerate(v.columns):\n",
    "        # print(i)\n",
    "        # print(j)\n",
    "        if i == 0:\n",
    "            continue\n",
    "        subset = v.iloc[:,[0,i]]\n",
    "        col = subset.columns[-1]\n",
    "\n",
    "        subset[col] = subset[col].notnull().astype('int')\n",
    "        subset = subset[subset[col]==1]\n",
    "        \n",
    "        state_match = re.match(r'(^[A-Z]{2})', str(k))\n",
    "        state = state_match.group(1)\n",
    "\n",
    "        chamber = str(k).split('_', 1)[-1]\n",
    "\n",
    "        com = str(col)\n",
    "        pk_list = subset['full_pk'].to_list()\n",
    "        pks = \"|\".join(pk_list)\n",
    "        com_df = pd.DataFrame({\"state\": [state], \"chamber\":[chamber], \"committee\": [com], \"pks\":[pks]})\n",
    "        comms_dfs.append(com_df)\n",
    "comms_summary = pd.concat(comms_dfs)\n",
    "\n",
    "# comms_summary\n",
    "\n",
    "comms_summary_final = comms_summary.assign(\n",
    "    pks=comms_summary['pks'].str.split('|')  # Split the string into a list\n",
    ").explode('pks')  # Create a new row for each list element\n",
    "# comms_summary_final\n",
    "\n"
   ]
  },
  {
   "cell_type": "code",
   "execution_count": null,
   "metadata": {},
   "outputs": [],
   "source": [
    "#pull committee files\n",
    "for k,v in full_dfs.items():\n",
    "    print('############')\n",
    "    print(k)\n",
    "    # print(v.head(2))\n",
    "    \n",
    "    # print('_______________')\n",
    "    v = v.drop(['leaders', 'influence_score'], axis = 1).reset_index(drop = True)\n",
    "    # print(v.head(2))\n",
    "\n",
    "    # print('_______________')\n",
    "    col_select = np.r_[0:1, 15:(len(v.columns)-1)]\n",
    "    v = v.iloc[:,col_select]\n",
    "    # print(v.head(2))\n",
    "    print((v.dropna(how = 'all', axis = 0)).head(2))\n",
    "\n",
    "    column_to_keep = 'full_pk'\n",
    "\n",
    "    # Drop rows where all columns except 'A' are NaN\n",
    "    filtered_v = v.dropna(subset=[col for col in v.columns if col != column_to_keep], how='all').reset_index(drop = True)\n",
    "    print(v.head())\n",
    "    full_dfs[k] = filtered_v\n",
    "    # for i,dc in enumerate(v.columns):\n",
    "    #     if 'influence' in str(dc):\n",
    "    #         i\n",
    "    #     print(f'[{i}]: {dc}')\n"
   ]
  },
  {
   "cell_type": "code",
   "execution_count": null,
   "metadata": {},
   "outputs": [],
   "source": [
    "from datetime import date\n",
    "\n",
    "comm_sum_name = f'comms_summary{str(date.today()).replace('-','_')}.xlsx'\n",
    "comms_summary_final.to_excel(fr'C:\\Users\\clutz\\THE HUNT INSTITUTE\\The Hunt Institute Team Site - Documents\\Development (formerly Grants Management)\\!Administrative\\Christian\\THII\\THII_build files\\2025\\bridges\\committee_info\\{comm_sum_name}', sheet_name=f'{comm_sum_name.replace('.xlsx',\"\")}', index=False)\n",
    "# comms_summary_final\n",
    "        "
   ]
  }
 ],
 "metadata": {
  "kernelspec": {
   "display_name": "hunt_env",
   "language": "python",
   "name": "python3"
  },
  "language_info": {
   "codemirror_mode": {
    "name": "ipython",
    "version": 3
   },
   "file_extension": ".py",
   "mimetype": "text/x-python",
   "name": "python",
   "nbconvert_exporter": "python",
   "pygments_lexer": "ipython3",
   "version": "3.12.5"
  }
 },
 "nbformat": 4,
 "nbformat_minor": 2
}
