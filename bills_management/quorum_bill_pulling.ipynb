{
 "cells": [
  {
   "cell_type": "markdown",
   "metadata": {},
   "source": [
    "## Setup"
   ]
  },
  {
   "cell_type": "code",
   "execution_count": 2,
   "metadata": {},
   "outputs": [],
   "source": [
    "#imports\n",
    "import os, sys, json, datetime, re # Provides OS-dependent functionality, system-specific parameters, JSON handling, and date/time manipulation\n",
    "from datetime import date\n",
    "import pandas as pd             # Provides data structures and data analysis tools\n",
    "import numpy as np              # Supports large, multi-dimensional arrays and matrices\n",
    "import ast\n",
    "import requests\n",
    "import urllib3\n",
    "import time\n",
    "import glob\n",
    "from tqdm import tqdm\n",
    "urllib3.disable_warnings(urllib3.exceptions.InsecureRequestWarning)\n",
    "from bs4 import BeautifulSoup\n",
    "# from pandas.core.common import SettingWithCopyWarning\n",
    "\n",
    "from cprl_functions.state_capture import thi_states,state_ref, state_coding, state_pat, state_abv_pat\n",
    "from cprl_functions.defined_functions import create_pk, add_seats, get_recent_file\n",
    "\n",
    "from IPython.display import display_markdown\n"
   ]
  },
  {
   "cell_type": "markdown",
   "metadata": {},
   "source": [
    "## File Gathering"
   ]
  },
  {
   "cell_type": "code",
   "execution_count": null,
   "metadata": {},
   "outputs": [],
   "source": [
    "#new file gathering\n",
    "\n",
    "path = r\"C:\\Users\\clutz\\THE HUNT INSTITUTE\\The Hunt Institute Team Site - Documents\\Development (formerly Grants Management)\\!Administrative\\Christian\\THII\\bill_data\\quorum downloads\"\n",
    "glob_pat = os.path.join(path, r'[!old]*')\n",
    "\n",
    "bill_files = glob.glob(glob_pat)\n",
    "\n",
    "\n"
   ]
  },
  {
   "cell_type": "code",
   "execution_count": null,
   "metadata": {},
   "outputs": [],
   "source": [
    "# File declaration (deprecated)\n",
    "thi_bills = r\"C:\\Users\\clutz\\Downloads\\2024_thi_states_bills.xlsx\"\n",
    "nd_bills = r\"C:\\Users\\clutz\\Downloads\\nd-bills.xlsx\"\n",
    "non_thi_bills = r\"C:\\Users\\clutz\\Downloads\\2024_non_thi_states_bills.xlsx\"\n",
    "\n",
    "bill_files = [thi_bills, nd_bills, non_thi_bills]\n"
   ]
  },
  {
   "cell_type": "code",
   "execution_count": null,
   "metadata": {},
   "outputs": [],
   "source": [
    "#format dfs\n",
    "dfs = []\n",
    "for f in bill_files:\n",
    "    df = pd.read_excel(f)\n",
    "    df.columns = ['full_bill_label','bill_label', 'state','title', 'bill_sum','ai_sum','sponsors','status','status_date','detailed_status','detailed_status','quorum_link']\n",
    "    dfs.append(df)\n",
    "\n",
    "\n",
    "all_bills = pd.concat(dfs)\n"
   ]
  },
  {
   "cell_type": "markdown",
   "metadata": {},
   "source": [
    "## Filtering Bills"
   ]
  },
  {
   "cell_type": "code",
   "execution_count": null,
   "metadata": {},
   "outputs": [],
   "source": [
    "#education bills filter\n",
    "\n",
    "#getting only education bills with regex\n",
    "ed_bills = all_bills.loc[\n",
    "    (all_bills['title'].notna() & \n",
    "     (all_bills['title'].str.contains(\n",
    "         r'[Ii]ccb-?|[Oo]ce-|[Ee]duc-.?|[Ee]arly [Cc]h(i)?ld|^Sch\\s?|[Hg]ighr [Ee]d|[Hh]igher ([Ee]d(ucation)?)?\\s?([Ll]earning)?|.*[Ee]ducation.*|.*[Cc]hild.*|.*[Ss]chool.*|.*[Cc]harter.*|.*[Mm]ath.*|.*[Rr]ead.*|.*[Tt]each.*|.*[Pp]arent.*|.*[Kk]id.*|.*[Ss]tudent.*|.*[Cc]ollege.*|.*[Uu]niversit.*|.*[Tt]uition.*', \n",
    "         regex=True, na=False\n",
    "     ))\n",
    "    ) \n",
    "    | \n",
    "    all_bills['bill_sum'].str.contains(\n",
    "        r'[Ee]arly\\s?-?[Cc]hildhood|[Ee]ducational\\s?[Rr]equirements|[Pp]ost-?\\s?[Ss]econdary\\s?[Ee]ducation|[Cc]hild\\s?[Ee]mploy', \n",
    "        regex=True, na=True\n",
    "    )\n",
    "]\n",
    "\n",
    "ed_bills = ed_bills[~((ed_bills.title.str.contains(r'[Cc]ongrat[Ss]?(ulations)?|[Mm]ourn|[Mm]emorial|[Cc]ommending|[Hh]onoring', regex = True, na = True)) |\n",
    "                    (ed_bills.title.str.contains(r'[Cc]ongrat[Ss]?(ulations)?|[Mm]ourn|[Mm]emorial|[Cc]ommending|[Hh]onoring', regex = True, na = True))) ]\n",
    "\n",
    "ed_bills = ed_bills.reset_index(drop=True)\n",
    "# ed_bills = ed_bills[~ed_bills.title.str.contains(r'[Cc]ongrat[Ss]?(ulations)?|[Mm]ourn|[Mm]emorial|[Cc]ommending|[Hh]onoring', regex = True, na = True)]\n",
    "\n",
    "# ed_bills"
   ]
  },
  {
   "cell_type": "markdown",
   "metadata": {},
   "source": [
    "## Final Bills exporting (creates ed_bills)"
   ]
  },
  {
   "cell_type": "code",
   "execution_count": null,
   "metadata": {},
   "outputs": [],
   "source": [
    "\n",
    "# splitting and getting sponsors\n",
    "ed_bills['pk_sponsors'] = np.nan\n",
    "for i,j in enumerate(ed_bills['sponsors']):\n",
    "\n",
    "    # print(j)\n",
    "    print('####')\n",
    "    is_nan = pd.isna(ed_bills.loc[i,'sponsors'])  # True\n",
    "    if is_nan == True:\n",
    "        continue\n",
    "    try:\n",
    "        sponsor_split = j.split(',')\n",
    "    except:\n",
    "        print('************')\n",
    "        print(f'sponsors: {j}')\n",
    "        print(f'title: {str(ed_bills.loc[i,'title'])}')\n",
    "        print('************')\n",
    "    if len(sponsor_split) == 1:\n",
    "        sponsor_split = [j]\n",
    "    \n",
    "        \n",
    "    pks = []\n",
    "    \n",
    "    for s in enumerate(sponsor_split):\n",
    "        s = s[-1]\n",
    "        print(str(s).split('('))\n",
    "        last_name = str(s).split('(')[0].strip().split(' ')[-1]\n",
    "        chamber_match = re.findall(r'[Ss]en\\.|[Rr]ep\\.|[Ss]peaker|[Dd]el\\.', str(s))\n",
    "        if len(chamber_match) == 0:\n",
    "            print(f'here is what has no chamber: {s}')\n",
    "            continue\n",
    "        # if not chamber_match[0]:\n",
    "        #     print(chamber_match)\n",
    "        #     print(s)\n",
    "        #     continue\n",
    "\n",
    "        if 'rep' in str(chamber_match[0]).lower() or 'speaker' in str(chamber_match[0]).lower() or 'del' in str(chamber_match[0]).lower():\n",
    "            chamber_code = '0'\n",
    "        elif 'sen' in str(chamber_match[0]).lower():\n",
    "            chamber_code = '1'\n",
    "        get_dis_and_state = re.findall(r'(?!\\()[A-Z]{1}-[A-Z]{2}-\\d{1,3}(?<!\\))', str(s))\n",
    "\n",
    "        if len(get_dis_and_state) == 0:\n",
    "            print('regex failed')\n",
    "            print(s)\n",
    "            continue\n",
    "        else:\n",
    "            broken_up_val = str(get_dis_and_state[0]).split('-')\n",
    "            state_code = state_coding.get(broken_up_val[1])\n",
    "        # print(type(state_code))\n",
    "            district_code = broken_up_val[2]\n",
    "            desired_length = 3\n",
    "\n",
    "            if len(district_code) < desired_length:\n",
    "                district_code = district_code.zfill(desired_length)\n",
    "\n",
    "        pk = str(state_code)+chamber_code+district_code\n",
    "        pk = f'{pk}({last_name})'\n",
    "        print(pk)\n",
    "\n",
    "        pks.append(pk)\n",
    "\n",
    "\n",
    "\n",
    "    pks_for_bill = '|'.join(pks)\n",
    "    ed_bills.loc[i,'pk_sponsors'] = pks_for_bill\n",
    "            \n",
    "# print(ed_bills.head())\n",
    "# ed_bills\n"
   ]
  },
  {
   "cell_type": "markdown",
   "metadata": {},
   "source": []
  },
  {
   "cell_type": "markdown",
   "metadata": {},
   "source": [
    "## Tagging"
   ]
  },
  {
   "cell_type": "code",
   "execution_count": null,
   "metadata": {},
   "outputs": [],
   "source": [
    "pat = r'[Dd]iversity'\n",
    "\n",
    "\n",
    "for a,b in zip(ed_bills.title, ed_bills.bill_sum):\n",
    "    # print(a)\n",
    "    if re.search(pat, str(a)):\n",
    "        print('###### title #######')\n",
    "        print(a)\n",
    "        print('/n')\n",
    "    if re.search(pat, str(b)):\n",
    "        print('##### summary ########')\n",
    "        print(b)\n",
    "        print('/n')"
   ]
  },
  {
   "cell_type": "code",
   "execution_count": null,
   "metadata": {},
   "outputs": [],
   "source": [
    "#tagging bills\n",
    "ed_bills['HE_tag'] = False\n",
    "ed_bills['EC_tag'] = False\n",
    "ed_bills['ED_tag'] = False\n",
    "i = 0\n",
    "for a,b in zip(ed_bills.title, ed_bills.bill_sum):\n",
    "    if re.search(r'[Ii]ccb|[Ee]duc-.?|[Hg]ighr [Ee]d|[Hh]igher ([Ee]d(ucation)?)?\\s?([Ll]earning)?|.*[Cc]ollege.*|.*[Uu]niversit.*|.*[Tt]uition.*', str(a)):\n",
    "        ed_bills.loc[i,'HE_tag'] = True\n",
    "    \n",
    "    if re.search('[Pp]ost-?\\s?[Ss]econdary\\s?[Ee]ducation', str(b)):\n",
    "        ed_bills.loc[i,'HE_tag'] = True\n",
    "\n",
    "\n",
    "    if re.search('[Ee]arly [Cc]h(i)?ld', str(a)):\n",
    "        ed_bills.loc[i,'EC_tag'] = True\n",
    "\n",
    "    if re.search(r'[Ee]arly\\s?-?[Cc]hildhood', str(b)):\n",
    "        ed_bills.loc[i,'EC_tag'] = True\n",
    "\n",
    "    i += 1\n",
    "\n",
    "\n",
    "ec_bills = ed_bills[ed_bills['EC_tag']==True]\n",
    "he_bills = ed_bills[ed_bills['HE_tag']==True]\n",
    "\n",
    "test_dupes = ed_bills[ed_bills['bill_label'].duplicated(keep=False)]\n",
    "test_dupes\n",
    "\n",
    "\n",
    "ed_bills[ed_bills['bill_label'].duplicated(keep=\"last\")]\n",
    "ed_bills['lookup'] = ed_bills['bill_label'] + \"-[\" + ed_bills['state'] + \"]\"\n",
    "\n",
    "ed_bills.columns"
   ]
  },
  {
   "cell_type": "markdown",
   "metadata": {},
   "source": [
    "# leg_info file\n",
    "Takes ed bills and compiles all of the sponsors together (in pk form)\n",
    "goes into compiling act_and_infl_scores.ipynb"
   ]
  },
  {
   "cell_type": "code",
   "execution_count": null,
   "metadata": {},
   "outputs": [],
   "source": [
    "#Leg_bills_info creation\n",
    "##creates list of bills and counts of bills per legislator\n",
    "sponsor_bill_lookup = []\n",
    "for i,j in enumerate(ed_bills['pk_sponsors']):\n",
    "    is_nan = pd.isna(ed_bills.loc[i,'pk_sponsors'])  # True\n",
    "\n",
    "    if is_nan == True:\n",
    "        continue \n",
    "    sponsors_ls = []\n",
    "    bill_nums = []\n",
    "    sponsors_split = str(j).split('|')\n",
    "    sponsors_split = [x for x in sponsors_split if len(x) > 0]\n",
    "    n = len(sponsors_split)\n",
    "    sponsors_ls.extend(sponsors_split)\n",
    "    bill_nums.extend([ed_bills.loc[i,'bill_label']]*n)\n",
    "    append_df = pd.DataFrame({'primary_key':sponsors_ls, 'bill_labels':bill_nums})\n",
    "    sponsor_bill_lookup.append(append_df)\n",
    "\n",
    "leg_bill_lookup = pd.concat(sponsor_bill_lookup)\n",
    "leg_bill_lookup = leg_bill_lookup.reset_index(drop=True)\n",
    "\n",
    "\n",
    "\n",
    "#bills per primary key\n",
    "leg_bill_lookup_grouped = leg_bill_lookup.groupby(['primary_key']).agg({\n",
    "    'bill_labels': ['|'.join, 'count']\n",
    "}).reset_index()\n",
    "leg_bill_lookup_grouped.columns = ['primary_key', 'bill_labels', 'bill_counts']\n",
    "\n",
    "\n",
    "\n",
    "#print statements for assistance\n",
    "# print(leg_bill_lookup_grouped.columns)\n",
    "# leg_bill_lookup_grouped\n"
   ]
  },
  {
   "cell_type": "code",
   "execution_count": null,
   "metadata": {},
   "outputs": [],
   "source": [
    "#export\n",
    "# leg_filename = r'C:\\Users\\clutz\\THE HUNT INSTITUTE\\The Hunt Institute Team Site - Documents\\Development (formerly Grants Management)\\!Administrative\\Christian\\Legislators Data\\leg_data_update_10_2024\\build files\\bills\\leg_bills_info.xlsx'\n",
    "# leg_bill_lookup_grouped.to_excel(leg_filename, index=False)\n",
    "\n",
    "\n",
    "leg_filename = f'leg_bills_info_{str(date.today()).replace('-','_')}.xlsx'\n",
    "leg_bill_lookup_grouped.to_excel(fr'C:\\Users\\clutz\\THE HUNT INSTITUTE\\The Hunt Institute Team Site - Documents\\Development (formerly Grants Management)\\!Administrative\\Christian\\THII\\THII_build files\\2025\\Bill Data\\{leg_filename}',sheet_name=f'{leg_filename.replace(\".xlsx\", \"\")}', index=False)\n",
    "\n",
    "\n"
   ]
  },
  {
   "cell_type": "markdown",
   "metadata": {},
   "source": [
    "# Tableau Ed Bills\n",
    "Pulls together and unions data to get bills and legislators and other info associated with them\n",
    "Used in making:\n",
    "- Legislative Bill Tracking"
   ]
  },
  {
   "cell_type": "code",
   "execution_count": null,
   "metadata": {},
   "outputs": [],
   "source": [
    "#pull in bills and legislators\n",
    "key_path = r\"C:\\Users\\clutz\\THE HUNT INSTITUTE\\The Hunt Institute Team Site - Documents\\Development (formerly Grants Management)\\!Administrative\\Christian\\Legislators Data\\leg_data_update_10_2024\\build files\\bills and legislators\\2025\"\n",
    "\n",
    "compiled_file = get_recent_file(\"bills_and_legislators*.xlsx\", key_path)\n",
    "# print(compiled_file)\n",
    "compiled_df = pd.read_excel(compiled_file)\n",
    "\n",
    "\n",
    "leg_bills = compiled_df['bills'].to_list()\n",
    "leg_bills = list(set(leg_bills))\n",
    "# print(*leg_bills, sep='|')"
   ]
  },
  {
   "cell_type": "code",
   "execution_count": 54,
   "metadata": {},
   "outputs": [],
   "source": [
    "#moving columns around\n",
    "# Move the 'C' column to the first position\n",
    "column_to_move = ed_bills.pop('bill_label')\n",
    "ed_bills.insert(0, 'bill_label', column_to_move)\n",
    "\n",
    "column2_to_move = ed_bills.pop('lookup')\n",
    "ed_bills.insert(0, 'lookup', column2_to_move)\n",
    "ed_bills\n",
    "\n",
    "cpf_column_to_move = compiled_df.pop('bill_lookup')\n",
    "compiled_df.insert(0,'bill_lookup', cpf_column_to_move)"
   ]
  },
  {
   "cell_type": "code",
   "execution_count": null,
   "metadata": {},
   "outputs": [],
   "source": [
    "#troubleshooting\n",
    "print(*ed_bills.columns, sep = \"|\")\n",
    "print(*compiled_df.columns, sep = \"|\")"
   ]
  },
  {
   "cell_type": "code",
   "execution_count": null,
   "metadata": {},
   "outputs": [],
   "source": [
    "#ed bills is the finalized list of education bills and compiled_df comes in from bills and legislators are the exploded list of legislators with emphasis on bills with repeated legislator values\n",
    "full_df = pd.merge(ed_bills, compiled_df, how='left', left_on='lookup', right_on='bill_lookup')\n",
    "# full_df_v2 = pd.merge(ed_bills, compiled_df, how='left', left_on='bill_label', right_on='bills')\n",
    "\n",
    "#this is just for testing\n",
    "# print(full_df_v1.head(2).to_string())\n",
    "# print(len(full_df_v1))\n",
    "# print(full_df_v2.head(2).to_string())\n",
    "# print(len(full_df_v2))\n",
    "# full_df"
   ]
  },
  {
   "cell_type": "code",
   "execution_count": null,
   "metadata": {},
   "outputs": [],
   "source": [
    "file_name_full = f'full_join{str(date.today()).replace('-','_')}.xlsx'\n",
    "file_name_full_csv = f'full_join{str(date.today()).replace('-','_')}.csv'\n",
    "full_df.to_excel(fr'C:\\Users\\clutz\\THE HUNT INSTITUTE\\The Hunt Institute Team Site - Documents\\Development (formerly Grants Management)\\!Administrative\\Christian\\THII\\THII_build files\\2025\\Bill Data\\{file_name_full}',sheet_name=f'{file_name_full.replace(\".xlsx\", \"\")}', index=False)\n",
    "full_df.to_csv(fr'C:\\Users\\clutz\\THE HUNT INSTITUTE\\The Hunt Institute Team Site - Documents\\Development (formerly Grants Management)\\!Administrative\\Christian\\THII\\THII_build files\\2025\\Bill Data\\{file_name_full_csv}', index=False)\n",
    "\n",
    "\n",
    "# full_df.to_excel(r'C:\\Users\\clutz\\THE HUNT INSTITUTE\\The Hunt Institute Team Site - Documents\\Development (formerly Grants Management)\\!Administrative\\Christian\\Legislators Data\\leg_data_update_10_2024\\build files\\bills\\ed_bills_v3_w_join.xlsx', sheet_name=f'ed_bills',index = False)"
   ]
  },
  {
   "cell_type": "code",
   "execution_count": null,
   "metadata": {},
   "outputs": [],
   "source": [
    "ed_bills.head()"
   ]
  },
  {
   "cell_type": "markdown",
   "metadata": {},
   "source": [
    "# END\n"
   ]
  },
  {
   "cell_type": "markdown",
   "metadata": {},
   "source": [
    "## Tagging for Program and Content Teams\n",
    "\n"
   ]
  },
  {
   "cell_type": "code",
   "execution_count": null,
   "metadata": {},
   "outputs": [
    {
     "name": "stdout",
     "output_type": "stream",
     "text": [
      "3\n"
     ]
    }
   ],
   "source": [
    "#[Bb]lack\n",
    "\n",
    "count = 0\n",
    "for i,b in enumerate(ed_bills['title']):\n",
    "    if re.search(r'[Dd]ay\\s?[Cc]are', str(b)):\n",
    "    # if re.search(r'[Ee]arly [Cc]h(i)?ld', str(b)) and len(str(b)) < 100:\n",
    "        # if re.search(r'[Ee]arly', str(b)):\n",
    "            print(str(b))\n",
    "            print('###################')\n",
    "            # wrapped_text = textwrap.fill(ed_bills.loc[i,'title'], width=100)\n",
    "            # print(wrapped_text)\n",
    "            # print('###################')\n",
    "            # print('\\n')\n",
    "            count += 1\n",
    "\n",
    "print(count)"
   ]
  },
  {
   "cell_type": "code",
   "execution_count": null,
   "metadata": {},
   "outputs": [],
   "source": [
    "\n",
    "ed_bills.loc[:,\"sponsors_helper\"] = np.nan\n",
    "for i,j in enumerate(ed_bills['sponsors']):\n",
    "    \n",
    "    # print(str(j))\n",
    "    \n",
    "\n",
    "    if isinstance(j,float):\n",
    "        continue\n",
    "    sponsors = str(j).split(',')\n",
    "    s_list = []\n",
    "    for s in sponsors:\n",
    "        # display_markdown(f'{s}', raw=True)\n",
    "        try:\n",
    "            lname_identifier = re.findall(r'\\w+\\s\\([RD]-[A-Z]{2}-\\d+\\)', str(s))[0]\n",
    "        except:\n",
    "            continue\n",
    "            # print('no last name')\n",
    "            # print(str(s))\n",
    "            # # print(type(j))\n",
    "        \n",
    "        \n",
    "        house_or_senate = re.findall(r'[Ss]en\\.|[Rr]ep\\.|[Dd]el\\.',str(s))\n",
    "        # print(house_or_senate)                \n",
    "\n",
    "        if len(house_or_senate) == 0:\n",
    "            if re.search(r'[Ss]peaker', str(s)):\n",
    "                chamber = 'House'\n",
    "            else:\n",
    "                print('not speaker but something else')\n",
    "                print(s)\n",
    "\n",
    "        else:\n",
    "            if house_or_senate[0] == \"Sen.\":\n",
    "                chamber = \"Senate\"\n",
    "                # print(\"found a senate\")\n",
    "            elif house_or_senate[0] == \"Rep.\" or house_or_senate[0] == \"Del.\":\n",
    "                chamber = \"House\"\n",
    "\n",
    "        # print(chamber)\n",
    "        state = re.findall(r'-[A-Z]{2}-',str(lname_identifier))[0]\n",
    "        state = state.strip('-')\n",
    "        # print(lname_identifier)\n",
    "        # print(str(state))\n",
    "        \n",
    "        district = re.findall(r'-\\d+', str(lname_identifier))[0]\n",
    "        district = district.lstrip('-').strip().lstrip('0')\n",
    "        name = re.findall(r'^\\w+', str(lname_identifier))[0]\n",
    "        # print(str(district))\n",
    "        if 'ND' in str(state):\n",
    "            helper = state +'-'+ chamber + \"-\" + district +'-' + name\n",
    "        elif \"CT\" in str(state) and chamber == \"Senate\":\n",
    "            helper = state +'-'+ chamber + \"-S\" + district\n",
    "\n",
    "        else:\n",
    "            helper = state +'-'+ chamber + \"-\" + district\n",
    "        s_list.append(helper)\n",
    "\n",
    "    sponsor_ext = \"|\".join(s_list)\n",
    "    # try:\n",
    "    #     print(sponsor_ext)\n",
    "    # except:\n",
    "    #     display_markdown(f'{s}', raw=True)\n",
    "\n",
    "\n",
    "    ed_bills.loc[i, 'sponsors_helper'] = str(sponsor_ext)\n",
    "\n",
    "\n",
    "    "
   ]
  },
  {
   "cell_type": "code",
   "execution_count": 97,
   "metadata": {},
   "outputs": [],
   "source": [
    "first_column = ed_bills.pop('sponsors_helper') \n",
    "ed_bills.insert(0, 'sponsors_helper', first_column) \n",
    "ed_bills.reset_index(inplace=True, drop=True)\n",
    "\n"
   ]
  },
  {
   "cell_type": "code",
   "execution_count": null,
   "metadata": {},
   "outputs": [],
   "source": [
    "#This is used to check if the values match the compiled_info csv\n",
    "\n",
    "helper_values = []\n",
    "for i,j in enumerate(ed_bills['sponsors_helper']):\n",
    "    helper_ls = str(j).split('|')\n",
    "    helper_values.extend(helper_ls)\n",
    "\n",
    "\n",
    "\n",
    "helper_values = list(set(helper_values))\n",
    "df = pd.DataFrame({\"helper\":helper_values})\n",
    "df.to_excel(r'C:\\Users\\clutz\\OneDrive - THE HUNT INSTITUTE\\Documents\\Data\\quorum\\bill data downloads\\exports\\unique_helpers.xlsx', index=False)"
   ]
  },
  {
   "cell_type": "code",
   "execution_count": null,
   "metadata": {},
   "outputs": [],
   "source": [
    "#taking bill data and providing cumulative totals\n",
    "sponsors_dfs = []\n",
    "for i,j in enumerate(ed_bills['sponsors_helper']):\n",
    "    sponsor_list = []\n",
    "    bill_label_list = []\n",
    "    \n",
    "    sponsors = str(j).split('|')\n",
    "    bill_number = ed_bills.loc[i,'bill_label']\n",
    "    n = len(sponsors)\n",
    "    print(bill_number)\n",
    "\n",
    "    sponsor_list.extend(sponsors)\n",
    "    bill_label_list.extend([str(bill_number)]*n)\n",
    "\n",
    "    df = pd.DataFrame({'sponsors':sponsor_list, \"bill_labels\": bill_label_list})\n",
    "    print(df.to_string())\n",
    "    sponsors_dfs.append(df)\n",
    "\n",
    "bills_and_sponsors = pd.concat(sponsors_dfs)\n",
    "bills_and_sponsors.reset_index(inplace=True, drop=True)"
   ]
  },
  {
   "cell_type": "code",
   "execution_count": null,
   "metadata": {},
   "outputs": [
    {
     "ename": "",
     "evalue": "",
     "output_type": "error",
     "traceback": [
      "\u001b[1;31mThe Kernel crashed while executing code in the current cell or a previous cell. \n",
      "\u001b[1;31mPlease review the code in the cell(s) to identify a possible cause of the failure. \n",
      "\u001b[1;31mClick <a href='https://aka.ms/vscodeJupyterKernelCrash'>here</a> for more info. \n",
      "\u001b[1;31mView Jupyter <a href='command:jupyter.viewOutput'>log</a> for further details."
     ]
    }
   ],
   "source": [
    "#grouping data together and getting list of events per legislator\n",
    "grouped_df = bills_and_sponsors.groupby('sponsors')#['bill_labels']#.apply('|'.join).reset_index()\n",
    "\n",
    "\n",
    "# agg({\n",
    "#     'bills': lambda x: \n",
    "#         f\"{sc} ({ac})\" if not pd.isna(ac) else f\"{sc}\"\n",
    "#         for sc, ac in zip(thi_states_df.loc[x.index, 'event name'], thi_states_df.loc[x.index, 'role'])),\n",
    "\n",
    "# }).reset_index()\n",
    "# # grouped_df.reset_index()\n",
    "# grouped_df.rename(columns={'event name': 'events'}, inplace=True)"
   ]
  },
  {
   "cell_type": "code",
   "execution_count": null,
   "metadata": {},
   "outputs": [],
   "source": [
    "\n",
    "bills_clean_up = non_ed_bills.loc[non_ed_bills['bill_sum'].notna() & (non_ed_bills['bill_sum'].str.contains(r'[Hh]igher ([Ee]d(ucation)?)?\\s?([Ll]earning)?'))]\n",
    "\n",
    "# for bill in non_ed_bills['title']:\n",
    "#     print('##############')\n",
    "#     print(bill)\n"
   ]
  },
  {
   "cell_type": "code",
   "execution_count": null,
   "metadata": {},
   "outputs": [],
   "source": [
    "\n",
    "# Iterate through each row in the 'bill_sum' column\n",
    "for text in all_bills['title'].dropna():\n",
    "    # Find all matches with 5 words of context before and after\n",
    "    matches = re.findall(r'(?:\\b\\w+\\b\\s){0,10}\\b[Ee]ducation\\b(?:\\s\\b\\w+\\b){0,10}', text)\n",
    "    matches_v2 = re.findall(r'.*[Ee]ducation.*|.*[Cc]hild.*|.*[Ss]chool.*|.*[Cc]harter.*|.*[Mm]ath.*|.*[Rr]ead.*|.*[Tt]each.*|.*[Pp]arent.*|.*[Kk]id.*|.*[Ss]tudent.*|.*[Cc]ollege.*|.*[Uu]niversit.*|.*[Tt]uition.*', str(text))\n",
    "\n",
    "\n",
    "    \n",
    "    # Print matches if found\n",
    "    print('####################')\n",
    "    for match in matches_v2:\n",
    "        \n",
    "        print(\"****\")\n",
    "        print(str(match))\n",
    "        print('\\n')\n",
    "\n",
    "\n",
    "\n",
    "\n"
   ]
  },
  {
   "cell_type": "code",
   "execution_count": null,
   "metadata": {},
   "outputs": [],
   "source": [
    "ec_subs = ['child\\s{0,1}care', 'early\\s{0,1}childhood', 'preschool']\n",
    "ec_pat = \"|\".join(ec_subs)\n",
    "print(ec_pat)"
   ]
  },
  {
   "cell_type": "markdown",
   "metadata": {},
   "source": [
    "%%"
   ]
  },
  {
   "cell_type": "code",
   "execution_count": null,
   "metadata": {},
   "outputs": [],
   "source": [
    "print(all_bills.columns)\n",
    "for bill in all_bills['bill_sum']:\n",
    "    if re.search(f'{ec_pat}', str(bill).lower()):\n",
    "        matches = re.findall(ec_pat, str(bill).lower())\n",
    "        print('############################')\n",
    "        print('***********')\n",
    "        print(*matches)\n",
    "        print('***********')\n",
    "        print(bill)\n",
    "        print('\\n')\n",
    "# %%"
   ]
  },
  {
   "cell_type": "code",
   "execution_count": null,
   "metadata": {},
   "outputs": [],
   "source": [
    "ec_ed_bills = all_bills[all_bills.subjects.str.contains(ec_pat, regex = True, case=False)]"
   ]
  },
  {
   "cell_type": "code",
   "execution_count": null,
   "metadata": {},
   "outputs": [],
   "source": [
    "ec_ed_bills.reset_index(inplace=True, drop=True)"
   ]
  },
  {
   "cell_type": "markdown",
   "metadata": {},
   "source": [
    "% Higher Ed"
   ]
  },
  {
   "cell_type": "code",
   "execution_count": null,
   "metadata": {},
   "outputs": [],
   "source": [
    "he_keywords = [\n",
    "    \"post-secondary transition\",\n",
    "    \"equity gaps\",\n",
    "    \"college-going rates\",\n",
    "    \"workforce readiness\",\n",
    "    \"certificate programs\",\n",
    "    \"wraparound services\",\n",
    "    \"stackable credentials\",\n",
    "    \"student persistence\",\n",
    "    \"retention strategies\",\n",
    "    \"lifelong learning\",\n",
    "    \"postsecondary barriers\",\n",
    "    \"alternative pathways\",\n",
    "    \"higher education institutions\",\n",
    "    \"higher education\",\n",
    "    \"legislative support for education\",\n",
    "    \"student success metrics\",\n",
    "    \"high quality credential\",\n",
    "    \"vocational training\",\n",
    "    \"attainment\",\n",
    "    \"persistence\",\n",
    "    \"resistance\",\n",
    "    \"graduation\"\n",
    "]"
   ]
  },
  {
   "cell_type": "code",
   "execution_count": null,
   "metadata": {},
   "outputs": [],
   "source": [
    "he_pat = r'\\b(' + '|'.join(map(re.escape, he_keywords)) + r')\\b'"
   ]
  },
  {
   "cell_type": "markdown",
   "metadata": {},
   "source": [
    "he_pat = \"|\".join(he_keywords)"
   ]
  },
  {
   "cell_type": "code",
   "execution_count": null,
   "metadata": {},
   "outputs": [],
   "source": [
    "print(he_pat)"
   ]
  },
  {
   "cell_type": "code",
   "execution_count": null,
   "metadata": {},
   "outputs": [],
   "source": [
    "all_bills['bill_sum'].fillna('nan',inplace=True)"
   ]
  },
  {
   "cell_type": "code",
   "execution_count": null,
   "metadata": {},
   "outputs": [],
   "source": [
    "he_ed_bills = all_bills[all_bills.bill_sum.str.contains(he_pat, regex = True, case=False)]\n",
    "he_ed_bills.reset_index(inplace=True, drop=True)"
   ]
  },
  {
   "cell_type": "code",
   "execution_count": null,
   "metadata": {},
   "outputs": [],
   "source": [
    "os.chdir(r'C:\\Users\\clutz\\OneDrive - THE HUNT INSTITUTE\\Documents\\Data\\bill_data\\Higher Ed')\n",
    "he_ed_bills.to_csv('higher_ed_bills.csv', index=False)\n",
    "# %%\n",
    "# print(all_bills.columns)\n",
    "for i,bill in enumerate(he_ed_bills['bill_sum']):\n",
    "    # matches = re.findall(he_pat, str(bill).lower())\n",
    "    matches = re.findall(r'graduation', str(bill).lower())\n",
    "    if matches:\n",
    "        grad_match = re.findall(r'higher ed|post-{0,1}secondary', str(bill).lower())\n",
    "        if grad_match:\n",
    "            continue\n",
    "        \n",
    "        else:\n",
    "            print('############################')\n",
    "            print(he_ed_bills.loc[i,'state'])\n",
    "            print(he_ed_bills.loc[i,'bill'])\n",
    "            print('############################')\n",
    "            print('***********')\n",
    "            print(*grad_match)\n",
    "            print('***********')\n",
    "            print(bill)\n",
    "            print('\\n')\n",
    "    \n",
    "        print('############################')\n",
    "        print(he_ed_bills.loc[i,'bill'])\n",
    "        print('############################')\n",
    "        print('***********')\n",
    "        print(*matches)\n",
    "        print('***********')\n",
    "        print(bill)\n",
    "        print('\\n')\n",
    "# %%"
   ]
  }
 ],
 "metadata": {
  "kernelspec": {
   "display_name": "hunt_env",
   "language": "python",
   "name": "python3"
  },
  "language_info": {
   "codemirror_mode": {
    "name": "ipython",
    "version": 3
   },
   "file_extension": ".py",
   "mimetype": "text/x-python",
   "name": "python",
   "nbconvert_exporter": "python",
   "pygments_lexer": "ipython3",
   "version": "3.12.5"
  }
 },
 "nbformat": 4,
 "nbformat_minor": 2
}
