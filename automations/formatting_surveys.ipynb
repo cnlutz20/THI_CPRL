{
 "cells": [
  {
   "cell_type": "code",
   "execution_count": 66,
   "metadata": {},
   "outputs": [],
   "source": [
    "#imports\n",
    "import os, sys, json, re  # Provides OS-dependent functionality, system-specific parameters, JSON handling\n",
    "import pandas as pd             # Provides data structures and data analysis tools\n",
    "import numpy as np              # Supports large, multi-dimensional arrays and matrices\n",
    "import requests\n",
    "import time\n",
    "import xlsxwriter\n",
    "from tqdm import tqdm\n",
    "from datetime import date #date/time manipulation\n",
    "import glob as glob\n",
    "\n",
    "import urllib3\n",
    "urllib3.disable_warnings(urllib3.exceptions.InsecureRequestWarning)\n",
    "import warnings\n",
    "warnings.simplefilter(action='ignore', category=FutureWarning)\n",
    "pd.options.mode.chained_assignment = None  # default='warn'\n",
    "from IPython.display import display_markdown\n",
    "\n",
    "\n",
    "from cprl_functions.state_capture import thi_states,state_ref, state_coding, state_coding_r, state_pat, state_abv_pat\n",
    "from cprl_functions.text_printing import bordered\n",
    "from cprl_functions.defined_functions import create_pk, add_seats, get_key, get_recent_file\n"
   ]
  },
  {
   "cell_type": "code",
   "execution_count": 67,
   "metadata": {},
   "outputs": [],
   "source": [
    "file = r'c:\\Users\\clutz\\THE HUNT INSTITUTE\\The Hunt Institute Team Site - Documents\\North Carolina\\Holshouser Legislators Retreat\\22nd Annual HLR (2025)\\Evaluations\\2025 HLR_Evaluation Results.xlsx'\n",
    "\n",
    "hlr_survey_df = pd.read_excel(file)\n",
    "# hlr_survey_df.loc[1]\n",
    "\n",
    "\n"
   ]
  },
  {
   "cell_type": "code",
   "execution_count": null,
   "metadata": {},
   "outputs": [],
   "source": [
    "takeout = ['average', '%', '#', 'answers']\n",
    "drop_cols = []\n",
    "col_mapping = {}\n",
    "p_id = 1\n",
    "for i,b in enumerate(hlr_survey_df.columns):\n",
    "    search_string = str(b).lower().strip()\n",
    "    # print(c)\n",
    "    if any(word in search_string for word in takeout):\n",
    "        drop_cols.append(b)\n",
    "    elif i == 0:\n",
    "        col_mapping[b] = 'question'\n",
    "    # else:\n",
    "    #     col_mapping[c] = f'respondee {p_id}'\n",
    "    #     p_id +=1\n",
    "hlr_survey_df = hlr_survey_df.drop(drop_cols, axis=1)"
   ]
  },
  {
   "cell_type": "code",
   "execution_count": 69,
   "metadata": {},
   "outputs": [
    {
     "name": "stdout",
     "output_type": "stream",
     "text": [
      "Unnamed: 0\n",
      "question\n"
     ]
    }
   ],
   "source": [
    "for k,v in col_mapping.items():\n",
    "    print(k)\n",
    "    print(v)\n"
   ]
  },
  {
   "cell_type": "code",
   "execution_count": 71,
   "metadata": {},
   "outputs": [
    {
     "name": "stdout",
     "output_type": "stream",
     "text": [
      "                                                                                      question Tracy Clark Mana Gervania Woodson Bradley Anon Anon.1  Rep. Lopez  Rep. Colvin  Daniel Willis Rep. Todd C. Dennis Riddell  Anon.2 Anon.3 Anon.4 Jim Burgin  Anon.5  Anon.6 Anon.7  Anon.8  Anon.9  Grant Campbell  Shelly Willingham  Anon.10  D. Pittman  Anon.11  Anon.12  Anon.13 Anon.14  Grafstein  Morey  Logan  Ya Liu  Sen. Jarius Rep. Nasif Majeed   Brinson  Rep. Bull  Rep. Pierce\n",
      "0                        I found the communications received prior to the Retreat were useful.           5             5               4    5      5         4.0          5.0            5.0            5              5     4.0      4      5          5     4.0     4.0      5     5.0     5.0             4.0                5.0      5.0         4.0      4.0      5.0      5.0     NaN        5.0    5.0    4.0     NaN          NaN                  5      5.0        5.0          5.0\n",
      "1                             I found the materials used during the Retreat were informative.            5             5               5    5      4         5.0          5.0            5.0            5              5     5.0      5      5          5     4.0     4.0      5     5.0     5.0             5.0                5.0      5.0         4.0      4.0      5.0      5.0     NaN        5.0    5.0    4.0     NaN          NaN                  5      5.0        5.0          5.0\n",
      "2    I found the Retreat fostered nonpartisan dialogue on critical topics in education policy.           5             5               4    5      4         5.0          5.0            5.0            5              4     5.0      5      5          5     5.0     5.0      5     5.0     5.0             4.0                5.0      5.0         5.0      4.0      5.0      5.0     NaN        5.0    3.0    4.0     NaN          NaN                  5      5.0        5.0          5.0\n",
      "3  Overall, I found the Retreat useful in growing my understanding in education policy topics.           5             5               5    5      4         5.0          5.0            5.0            5              5     5.0      5      5          5     4.0     5.0      5     5.0     5.0             5.0                4.0      5.0         5.0      5.0      5.0      5.0     NaN        5.0    4.0    4.0     NaN          NaN                  5      5.0        5.0          5.0\n",
      "4                            Overal, I found the Retreat provided content relevant to my work.           5             5               5  NaN      4         5.0          NaN            5.0            5              5     4.0      5      5          5     5.0     5.0      5     5.0     5.0             5.0                5.0      5.0         5.0      5.0      5.0      5.0     NaN        5.0    5.0    4.0     NaN          NaN                  5      5.0        5.0          5.0\n"
     ]
    }
   ],
   "source": [
    "hlr_evals = hlr_survey_df.rename(columns=col_mapping)\n",
    "print(hlr_evals.head().to_string())\n",
    "# print(hlr_evals.iloc[0,:])\n",
    "# hlr_survey_df.columns = hlr_survey_df.iloc[0,:]\n",
    "# hlr_survey_df.columns[0] = 'question'\n"
   ]
  },
  {
   "cell_type": "code",
   "execution_count": null,
   "metadata": {},
   "outputs": [
    {
     "name": "stdout",
     "output_type": "stream",
     "text": [
      "question\n"
     ]
    },
    {
     "data": {
      "text/html": [
       "<div>\n",
       "<style scoped>\n",
       "    .dataframe tbody tr th:only-of-type {\n",
       "        vertical-align: middle;\n",
       "    }\n",
       "\n",
       "    .dataframe tbody tr th {\n",
       "        vertical-align: top;\n",
       "    }\n",
       "\n",
       "    .dataframe thead th {\n",
       "        text-align: right;\n",
       "    }\n",
       "</style>\n",
       "<table border=\"1\" class=\"dataframe\">\n",
       "  <thead>\n",
       "    <tr style=\"text-align: right;\">\n",
       "      <th></th>\n",
       "      <th>question</th>\n",
       "      <th>Name</th>\n",
       "      <th>Response</th>\n",
       "    </tr>\n",
       "  </thead>\n",
       "  <tbody>\n",
       "    <tr>\n",
       "      <th>0</th>\n",
       "      <td>I found the communications received prior to t...</td>\n",
       "      <td>Tracy Clark</td>\n",
       "      <td>5</td>\n",
       "    </tr>\n",
       "    <tr>\n",
       "      <th>1</th>\n",
       "      <td>I found the materials used during the Retreat ...</td>\n",
       "      <td>Tracy Clark</td>\n",
       "      <td>5</td>\n",
       "    </tr>\n",
       "    <tr>\n",
       "      <th>2</th>\n",
       "      <td>I found the Retreat fostered nonpartisan dialo...</td>\n",
       "      <td>Tracy Clark</td>\n",
       "      <td>5</td>\n",
       "    </tr>\n",
       "    <tr>\n",
       "      <th>3</th>\n",
       "      <td>Overall, I found the Retreat useful in growing...</td>\n",
       "      <td>Tracy Clark</td>\n",
       "      <td>5</td>\n",
       "    </tr>\n",
       "    <tr>\n",
       "      <th>4</th>\n",
       "      <td>Overal, I found the Retreat provided content r...</td>\n",
       "      <td>Tracy Clark</td>\n",
       "      <td>5</td>\n",
       "    </tr>\n",
       "    <tr>\n",
       "      <th>...</th>\n",
       "      <td>...</td>\n",
       "      <td>...</td>\n",
       "      <td>...</td>\n",
       "    </tr>\n",
       "    <tr>\n",
       "      <th>823</th>\n",
       "      <td>Overall, the session resource experts were ver...</td>\n",
       "      <td>Rep. Pierce</td>\n",
       "      <td>5.0</td>\n",
       "    </tr>\n",
       "    <tr>\n",
       "      <th>824</th>\n",
       "      <td>NaN</td>\n",
       "      <td>Rep. Pierce</td>\n",
       "      <td>NaN</td>\n",
       "    </tr>\n",
       "    <tr>\n",
       "      <th>825</th>\n",
       "      <td>Please share any additional comments and/or fe...</td>\n",
       "      <td>Rep. Pierce</td>\n",
       "      <td>NaN</td>\n",
       "    </tr>\n",
       "    <tr>\n",
       "      <th>826</th>\n",
       "      <td>NaN</td>\n",
       "      <td>Rep. Pierce</td>\n",
       "      <td>NaN</td>\n",
       "    </tr>\n",
       "    <tr>\n",
       "      <th>827</th>\n",
       "      <td>Please share any other comments and/or feedbac...</td>\n",
       "      <td>Rep. Pierce</td>\n",
       "      <td>NaN</td>\n",
       "    </tr>\n",
       "  </tbody>\n",
       "</table>\n",
       "<p>828 rows × 3 columns</p>\n",
       "</div>"
      ],
      "text/plain": [
       "                                              question         Name Response\n",
       "0    I found the communications received prior to t...  Tracy Clark        5\n",
       "1    I found the materials used during the Retreat ...  Tracy Clark        5\n",
       "2    I found the Retreat fostered nonpartisan dialo...  Tracy Clark        5\n",
       "3    Overall, I found the Retreat useful in growing...  Tracy Clark        5\n",
       "4    Overal, I found the Retreat provided content r...  Tracy Clark        5\n",
       "..                                                 ...          ...      ...\n",
       "823  Overall, the session resource experts were ver...  Rep. Pierce      5.0\n",
       "824                                                NaN  Rep. Pierce      NaN\n",
       "825  Please share any additional comments and/or fe...  Rep. Pierce      NaN\n",
       "826                                                NaN  Rep. Pierce      NaN\n",
       "827  Please share any other comments and/or feedbac...  Rep. Pierce      NaN\n",
       "\n",
       "[828 rows x 3 columns]"
      ]
     },
     "execution_count": 74,
     "metadata": {},
     "output_type": "execute_result"
    }
   ],
   "source": [
    "\n",
    "print(hlr_evals.columns[0])\n",
    "hlr_evals = hlr_evals.melt(id_vars=\"question\", var_name=\"Name\", value_name=\"Response\")\n",
    "\n",
    "\n",
    "\n",
    "# pd.pivot(index='')"
   ]
  },
  {
   "cell_type": "code",
   "execution_count": 75,
   "metadata": {},
   "outputs": [],
   "source": [
    "os.chdir(r'C:\\Users\\clutz\\THE HUNT INSTITUTE\\The Hunt Institute Team Site - Documents\\Development (formerly Grants Management)\\!Administrative\\Christian\\THII\\survey\\output')\n",
    "hlr_evals.to_excel('NC_HLR_2025 evals.xlsx', index=False)\n",
    "\n"
   ]
  },
  {
   "cell_type": "code",
   "execution_count": null,
   "metadata": {},
   "outputs": [],
   "source": [
    "hlr\n",
    "for h in hlr_evals.itertuples(index = True):\n",
    "    print(h)\n",
    "\n",
    "    "
   ]
  }
 ],
 "metadata": {
  "kernelspec": {
   "display_name": "hunt_env",
   "language": "python",
   "name": "python3"
  },
  "language_info": {
   "codemirror_mode": {
    "name": "ipython",
    "version": 3
   },
   "file_extension": ".py",
   "mimetype": "text/x-python",
   "name": "python",
   "nbconvert_exporter": "python",
   "pygments_lexer": "ipython3",
   "version": "3.12.5"
  }
 },
 "nbformat": 4,
 "nbformat_minor": 2
}
