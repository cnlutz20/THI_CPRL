{
 "cells": [
  {
   "cell_type": "code",
   "execution_count": 2,
   "metadata": {},
   "outputs": [],
   "source": [
    "\n",
    "# %%\n",
    "import re\n",
    "import pandas as pd\n",
    "import glob as glob\n",
    "import os  # File and directory operations\n",
    "import shutil  # File and directory manipulation (move, copy, delete)\n",
    "import sys  # System-specific parameters and functions\n",
    "import datetime  # Working with dates and times\n",
    "import logging  # Logging messages for debugging and tracking\n",
    "import json  # Working with JSON data\n",
    "import csv  # Handling CSV files\n",
    "import pathlib  # Object-oriented filesystem paths\n",
    "import tempfile  # Creating temporary files and directories\n",
    "import argparse  # Parsing command-line arguments\n",
    "\n",
    "from datetime import date\n"
   ]
  },
  {
   "cell_type": "code",
   "execution_count": 3,
   "metadata": {},
   "outputs": [],
   "source": [
    "\n",
    "# %%\n",
    "\n",
    "def move_file(source, destination):\n",
    "  \"\"\"Moves a file from the source path to the destination path.\n",
    "\n",
    "  Args:\n",
    "    source: The path of the file to move.\n",
    "    destination: The path to move the file to.\n",
    "  \"\"\"\n",
    "  try:\n",
    "    shutil.move(source, destination)\n",
    "    print(f\"File moved successfully from {source} to {destination}\")\n",
    "  except FileNotFoundError:\n",
    "    print(f\"Error: File not found at {source}\")\n",
    "  except Exception as e:\n",
    "    print(f\"An error occurred: {e}\")\n",
    "# %%\n"
   ]
  },
  {
   "cell_type": "code",
   "execution_count": 14,
   "metadata": {},
   "outputs": [
    {
     "name": "stdout",
     "output_type": "stream",
     "text": [
      "11\n",
      "File moved successfully from children_and_senior_advocacyCommittee_Members (1).csv to C:\\Users\\clutz\\THE HUNT INSTITUTE\\The Hunt Institute Team Site - Documents\\Development (formerly Grants Management)\\!Administrative\\Christian\\THII\\legislator data\\committee info\\downloads\n",
      "File moved successfully from Committee_Members.csv to C:\\Users\\clutz\\THE HUNT INSTITUTE\\The Hunt Institute Team Site - Documents\\Development (formerly Grants Management)\\!Administrative\\Christian\\THII\\legislator data\\committee info\\downloads\n",
      "File moved successfully from education_policy_Committee_Members (1).csv to C:\\Users\\clutz\\THE HUNT INSTITUTE\\The Hunt Institute Team Site - Documents\\Development (formerly Grants Management)\\!Administrative\\Christian\\THII\\legislator data\\committee info\\downloads\n",
      "File moved successfully from health_Committee_Members (1).csv to C:\\Users\\clutz\\THE HUNT INSTITUTE\\The Hunt Institute Team Site - Documents\\Development (formerly Grants Management)\\!Administrative\\Christian\\THII\\legislator data\\committee info\\downloads\n",
      "File moved successfully from senate_children_and_youth_healthCommittee_Members (1).csv to C:\\Users\\clutz\\THE HUNT INSTITUTE\\The Hunt Institute Team Site - Documents\\Development (formerly Grants Management)\\!Administrative\\Christian\\THII\\legislator data\\committee info\\downloads\n",
      "File moved successfully from senate_education_policyCommittee_Members (1).csv to C:\\Users\\clutz\\THE HUNT INSTITUTE\\The Hunt Institute Team Site - Documents\\Development (formerly Grants Management)\\!Administrative\\Christian\\THII\\legislator data\\committee info\\downloads\n",
      "File moved successfully from senate_finance_and_taxation_educationCommittee_Members (1).csv to C:\\Users\\clutz\\THE HUNT INSTITUTE\\The Hunt Institute Team Site - Documents\\Development (formerly Grants Management)\\!Administrative\\Christian\\THII\\legislator data\\committee info\\downloads\n",
      "File moved successfully from senate_finance_and_taxation_general_fundCommittee_Members (1).csv to C:\\Users\\clutz\\THE HUNT INSTITUTE\\The Hunt Institute Team Site - Documents\\Development (formerly Grants Management)\\!Administrative\\Christian\\THII\\legislator data\\committee info\\downloads\n",
      "File moved successfully from senate_healthcareCommittee_Members (1).csv to C:\\Users\\clutz\\THE HUNT INSTITUTE\\The Hunt Institute Team Site - Documents\\Development (formerly Grants Management)\\!Administrative\\Christian\\THII\\legislator data\\committee info\\downloads\n",
      "File moved successfully from ways_and_means_education_Committee_Members (1).csv to C:\\Users\\clutz\\THE HUNT INSTITUTE\\The Hunt Institute Team Site - Documents\\Development (formerly Grants Management)\\!Administrative\\Christian\\THII\\legislator data\\committee info\\downloads\n",
      "File moved successfully from ways_and_means_general_Committee_Members (1).csv to C:\\Users\\clutz\\THE HUNT INSTITUTE\\The Hunt Institute Team Site - Documents\\Development (formerly Grants Management)\\!Administrative\\Christian\\THII\\legislator data\\committee info\\downloads\n"
     ]
    }
   ],
   "source": [
    "# %%\n",
    "\n",
    "\n",
    "os.chdir(r\"C:\\Users\\clutz\\OneDrive - THE HUNT INSTITUTE\\Desktop\\downloads_alt\")\n",
    "\n",
    "files = glob.glob('*Committee*')\n",
    "\n",
    "print(len(files))\n",
    "\n",
    "for file in files:\n",
    "    dest = r'C:\\Users\\clutz\\THE HUNT INSTITUTE\\The Hunt Institute Team Site - Documents\\Development (formerly Grants Management)\\!Administrative\\Christian\\THII\\legislator data\\committee info\\downloads'\n",
    "    move_file(file, dest)\n",
    "    \n",
    "\n",
    "\n",
    "# copied_folder = glob.glob(r'C:\\Users\\clutz\\OneDrive - THE HUNT INSTITUTE\\Desktop\\downloads_alt\\*copied*')[0]\n"
   ]
  },
  {
   "cell_type": "code",
   "execution_count": null,
   "metadata": {},
   "outputs": [],
   "source": [
    "#get info\n",
    "\n",
    "os.chdir(r'C:\\Users\\clutz\\THE HUNT INSTITUTE\\The Hunt Institute Team Site - Documents\\Development (formerly Grants Management)\\!Administrative\\Christian\\THII\\legislator data\\committee info\\downloads')\n",
    "comm_files = glob.glob('*.csv')\n",
    "\n",
    "dfs = {}\n",
    "for c in comm_files:\n",
    "    df = pd.read_csv(c)\n",
    "    # print(df.to_string())\n",
    "    \n",
    "    com_name = c.split('Comm')[0].replace('_', ' ').title().strip()\n",
    "\n",
    "    dfs[com_name] = df\n",
    "\n"
   ]
  },
  {
   "cell_type": "code",
   "execution_count": null,
   "metadata": {},
   "outputs": [],
   "source": [
    "\n",
    "# %%\n",
    "for file in files:\n",
    "    print('##############')\n",
    "    print(file)\n",
    "    if not os.path.exists(file):\n",
    "        \n",
    "        print(\"filename is wrong or doesn't exist\")\n",
    "        continue\n",
    "    #check if its leg files\n",
    "    if re.search(r'.elected_official.', file) or re.search(r'.tracking.', file):\n",
    "        eo_dl_path = r\"C:\\Users\\clutz\\THE HUNT INSTITUTE\\The Hunt Institute Team Site - Documents\\Development (formerly Grants Management)\\!Administrative\\Christian\\THII\\legislator data\\quorum_downloads\"\n",
    "        print(fr'{os.path.basename(file)} is going to legislators downloads')\n",
    "        print(os.path.join(eo_dl_path,os.path.basename(file)))\n",
    "        copy_dest = os.path.join(eo_dl_path,os.path.basename(file))\n",
    "        new_path = eo_dl_path\n",
    "\n",
    "    elif re.search(r'.bills.', file):\n",
    "        bills_dl_path = r\"C:\\Users\\clutz\\THE HUNT INSTITUTE\\The Hunt Institute Team Site - Documents\\Development (formerly Grants Management)\\!Administrative\\Christian\\THII\\bill_data\\quorum downloads\"\n",
    "        print(fr'{os.path.basename(file)} is going to bills downloads')\n",
    "        print(os.path.join(bills_dl_path,os.path.basename(file)))\n",
    "        copy_dest = os.path.join(bills_dl_path,os.path.basename(file))\n",
    "        new_path = bills_dl_path\n",
    "\n",
    "    else:\n",
    "        print(f'got nothing for ya for {file}')\n",
    "        continue\n",
    "    \n",
    "    #checks that a file with the same name doesn't already exist\n",
    "    if os.path.exists(copy_dest):\n",
    "       replace_date = str(date.today()).replace('-','_')\n",
    "       old_folder = os.path.join(\"old\", new_path)\n",
    "       move_file(copy_dest, old_folder)\n",
    "\n",
    "    #copy file then move to copied\n",
    "    dest = shutil.copy(file, copy_dest)\n",
    "\n",
    "    moving = move_file(file, copied_folder)\n",
    "\n",
    "# %%\n",
    "\n"
   ]
  }
 ],
 "metadata": {
  "kernelspec": {
   "display_name": "hunt_env",
   "language": "python",
   "name": "python3"
  },
  "language_info": {
   "codemirror_mode": {
    "name": "ipython",
    "version": 3
   },
   "file_extension": ".py",
   "mimetype": "text/x-python",
   "name": "python",
   "nbconvert_exporter": "python",
   "pygments_lexer": "ipython3",
   "version": "3.12.5"
  }
 },
 "nbformat": 4,
 "nbformat_minor": 2
}
