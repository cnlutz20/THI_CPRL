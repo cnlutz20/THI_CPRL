{
 "cells": [
  {
   "cell_type": "code",
   "execution_count": 37,
   "metadata": {},
   "outputs": [],
   "source": [
    "#imports\n",
    "import os, sys, json, re  # Provides OS-dependent functionality, system-specific parameters, JSON handling\n",
    "import pandas as pd             # Provides data structures and data analysis tools\n",
    "import numpy as np              # Supports large, multi-dimensional arrays and matrices\n",
    "import requests\n",
    "import time\n",
    "import xlsxwriter\n",
    "from tqdm import tqdm\n",
    "from datetime import date #date/time manipulation\n",
    "import glob as glob\n",
    "\n",
    "import urllib3\n",
    "urllib3.disable_warnings(urllib3.exceptions.InsecureRequestWarning)\n",
    "import warnings\n",
    "warnings.simplefilter(action='ignore', category=FutureWarning)\n",
    "pd.options.mode.chained_assignment = None  # default='warn'\n",
    "from IPython.display import display_markdown\n",
    "\n",
    "\n",
    "from cprl_functions.state_capture import thi_states,state_ref, state_coding, state_coding_r, state_pat, state_abv_pat\n",
    "from cprl_functions.text_printing import bordered\n",
    "from cprl_functions.defined_functions import create_pk, add_seats, get_key, get_recent_file\n"
   ]
  },
  {
   "cell_type": "code",
   "execution_count": 38,
   "metadata": {},
   "outputs": [
    {
     "name": "stdout",
     "output_type": "stream",
     "text": [
      "{'Alabama': 'AL', 'Alaska': 'AK', 'Arizona': 'AZ', 'Arkansas': 'AR', 'California': 'CA', 'Colorado': 'CO', 'Connecticut': 'CT', 'Delaware': 'DE', 'Florida': 'FL', 'Georgia': 'GA', 'Hawaii': 'HI', 'Idaho': 'ID', 'Illinois': 'IL', 'Indiana': 'IN', 'Iowa': 'IA', 'Kansas': 'KS', 'Kentucky': 'KY', 'Louisiana': 'LA', 'Maine': 'ME', 'Maryland': 'MD', 'Massachusetts': 'MA', 'Michigan': 'MI', 'Minnesota': 'MN', 'Mississippi': 'MS', 'Missouri': 'MO', 'Montana': 'MT', 'Nebraska': 'NE', 'Nevada': 'NV', 'New Hampshire': 'NH', 'New Jersey': 'NJ', 'New Mexico': 'NM', 'New York': 'NY', 'North Carolina': 'NC', 'North Dakota': 'ND', 'Ohio': 'OH', 'Oklahoma': 'OK', 'Oregon': 'OR', 'Pennsylvania': 'PA', 'Rhode Island': 'RI', 'South Carolina': 'SC', 'South Dakota': 'SD', 'Tennessee': 'TN', 'Texas': 'TX', 'Utah': 'UT', 'Vermont': 'VT', 'Virginia': 'VA', 'Washington': 'WA', 'West Virginia': 'WV', 'Wisconsin': 'WI', 'Wyoming': 'WY', 'District of Columbia': 'DC'}\n"
     ]
    }
   ],
   "source": [
    "print(state_ref)\n",
    "\n",
    "# Create regex pattern to match any state name\n",
    "state_pattern = re.compile(r'\\b(' + '|'.join(state_ref.keys()) + r')\\b', re.IGNORECASE)\n",
    "def extract_state_abbreviation(text):\n",
    "    \"\"\"Finds state name in text and returns its abbreviation\"\"\"\n",
    "    match = state_pattern.search(text)\n",
    "    if match:\n",
    "        state_name = match.group(0)  # Extract the matched state name\n",
    "        return state_ref[state_name.title()]  # Convert to title case and look up abbreviation\n",
    "    return None  # Return None if no state is found\n",
    "\n"
   ]
  },
  {
   "cell_type": "code",
   "execution_count": null,
   "metadata": {},
   "outputs": [],
   "source": [
    "os.chdir(r'C:\\Users\\clutz\\THE HUNT INSTITUTE\\The Hunt Institute Team Site - Documents\\Development (formerly Grants Management)\\!Administrative\\Christian\\THII\\attendance\\attendance data\\output')\n",
    "files = glob.glob(r'*.xlsx')\n",
    "for file in files:\n",
    "    df = pd.read_excel(file)\n",
    "    # print(df.head().to_string())\n"
   ]
  },
  {
   "cell_type": "code",
   "execution_count": 41,
   "metadata": {},
   "outputs": [],
   "source": [
    "#Insert Planning Doc File Here and File Name\n",
    "file = r\"c:\\Users\\clutz\\Downloads\\2025 Alaska Summit Logistics Planning Doc.xlsx\"\n",
    "filename = '2025_Alaska_Summit.xlsx'"
   ]
  },
  {
   "cell_type": "markdown",
   "metadata": {},
   "source": [
    "# Data Imports"
   ]
  },
  {
   "cell_type": "code",
   "execution_count": 42,
   "metadata": {},
   "outputs": [],
   "source": [
    "\n",
    "import warnings\n",
    "warnings.simplefilter(\"ignore\", UserWarning)\n",
    "\n",
    "\n",
    "# hlr_planning_doc = pd.read_excel(file)\n",
    "\n",
    "hlr_planning_doc  = pd.read_excel(open(file, 'rb'), sheet_name=None)\n",
    "\n",
    "for k,v in hlr_planning_doc.items():\n",
    "    # if 'site' in str(k).lower().strip():\n",
    "    if re.search(r'[Oo]n(\\s+)?(-)?[Ss]ite', str(k)):\n",
    "        event_attendance = v\n",
    "        # break\n",
    "        # print(k)\n",
    "    if re.search(r'[Aa]ttendance(\\s+)?[Tt]racker', str(k)):\n",
    "        attendee_info = v\n"
   ]
  },
  {
   "cell_type": "markdown",
   "metadata": {},
   "source": [
    "# Attendance Tracking"
   ]
  },
  {
   "cell_type": "code",
   "execution_count": null,
   "metadata": {},
   "outputs": [
    {
     "name": "stdout",
     "output_type": "stream",
     "text": [
      "Status \n",
      "Attendee Type\n",
      "Honorific\n",
      "First\n",
      "Last\n",
      "stop_col: Last\n"
     ]
    },
    {
     "data": {
      "text/html": [
       "<div>\n",
       "<style scoped>\n",
       "    .dataframe tbody tr th:only-of-type {\n",
       "        vertical-align: middle;\n",
       "    }\n",
       "\n",
       "    .dataframe tbody tr th {\n",
       "        vertical-align: top;\n",
       "    }\n",
       "\n",
       "    .dataframe thead th {\n",
       "        text-align: right;\n",
       "    }\n",
       "</style>\n",
       "<table border=\"1\" class=\"dataframe\">\n",
       "  <thead>\n",
       "    <tr style=\"text-align: right;\">\n",
       "      <th></th>\n",
       "      <th>Status</th>\n",
       "      <th>Attendee Type</th>\n",
       "      <th>Honorific</th>\n",
       "      <th>First</th>\n",
       "      <th>Last</th>\n",
       "    </tr>\n",
       "  </thead>\n",
       "  <tbody>\n",
       "    <tr>\n",
       "      <th>1</th>\n",
       "      <td>Not checked in</td>\n",
       "      <td>Invited Guests</td>\n",
       "      <td>Ms.</td>\n",
       "      <td>Tamar</td>\n",
       "      <td>Ben-Yosef</td>\n",
       "    </tr>\n",
       "    <tr>\n",
       "      <th>2</th>\n",
       "      <td>Not checked in</td>\n",
       "      <td>Legislator</td>\n",
       "      <td>0</td>\n",
       "      <td>Stephanie</td>\n",
       "      <td>Berglund</td>\n",
       "    </tr>\n",
       "    <tr>\n",
       "      <th>3</th>\n",
       "      <td>Not checked in</td>\n",
       "      <td>Legislator</td>\n",
       "      <td>0</td>\n",
       "      <td>Mary Kathryn</td>\n",
       "      <td>Brewer</td>\n",
       "    </tr>\n",
       "    <tr>\n",
       "      <th>4</th>\n",
       "      <td>Not checked in</td>\n",
       "      <td>Legislator</td>\n",
       "      <td>Representative</td>\n",
       "      <td>Ashley</td>\n",
       "      <td>Carrick</td>\n",
       "    </tr>\n",
       "    <tr>\n",
       "      <th>5</th>\n",
       "      <td>Not checked in</td>\n",
       "      <td>Legislator</td>\n",
       "      <td>Senator</td>\n",
       "      <td>Matt</td>\n",
       "      <td>Claman</td>\n",
       "    </tr>\n",
       "    <tr>\n",
       "      <th>...</th>\n",
       "      <td>...</td>\n",
       "      <td>...</td>\n",
       "      <td>...</td>\n",
       "      <td>...</td>\n",
       "      <td>...</td>\n",
       "    </tr>\n",
       "    <tr>\n",
       "      <th>68</th>\n",
       "      <td>Not checked in</td>\n",
       "      <td>NaN</td>\n",
       "      <td>NaN</td>\n",
       "      <td>NaN</td>\n",
       "      <td>NaN</td>\n",
       "    </tr>\n",
       "    <tr>\n",
       "      <th>69</th>\n",
       "      <td>Not checked in</td>\n",
       "      <td>NaN</td>\n",
       "      <td>NaN</td>\n",
       "      <td>NaN</td>\n",
       "      <td>NaN</td>\n",
       "    </tr>\n",
       "    <tr>\n",
       "      <th>70</th>\n",
       "      <td>Not checked in</td>\n",
       "      <td>NaN</td>\n",
       "      <td>NaN</td>\n",
       "      <td>NaN</td>\n",
       "      <td>NaN</td>\n",
       "    </tr>\n",
       "    <tr>\n",
       "      <th>71</th>\n",
       "      <td>Not checked in</td>\n",
       "      <td>NaN</td>\n",
       "      <td>NaN</td>\n",
       "      <td>NaN</td>\n",
       "      <td>NaN</td>\n",
       "    </tr>\n",
       "    <tr>\n",
       "      <th>72</th>\n",
       "      <td>Not checked in</td>\n",
       "      <td>NaN</td>\n",
       "      <td>NaN</td>\n",
       "      <td>NaN</td>\n",
       "      <td>NaN</td>\n",
       "    </tr>\n",
       "  </tbody>\n",
       "</table>\n",
       "<p>72 rows × 5 columns</p>\n",
       "</div>"
      ],
      "text/plain": [
       "0          Status     Attendee Type       Honorific         First       Last\n",
       "1   Not checked in  Invited Guests              Ms.         Tamar  Ben-Yosef\n",
       "2   Not checked in       Legislator               0     Stephanie   Berglund\n",
       "3   Not checked in       Legislator               0  Mary Kathryn     Brewer\n",
       "4   Not checked in       Legislator  Representative        Ashley    Carrick\n",
       "5   Not checked in       Legislator         Senator          Matt     Claman\n",
       "..             ...              ...             ...           ...        ...\n",
       "68  Not checked in              NaN             NaN           NaN        NaN\n",
       "69  Not checked in              NaN             NaN           NaN        NaN\n",
       "70  Not checked in              NaN             NaN           NaN        NaN\n",
       "71  Not checked in              NaN             NaN           NaN        NaN\n",
       "72  Not checked in              NaN             NaN           NaN        NaN\n",
       "\n",
       "[72 rows x 5 columns]"
      ]
     },
     "execution_count": 50,
     "metadata": {},
     "output_type": "execute_result"
    }
   ],
   "source": [
    "#get start row and cut df\n",
    "for row in event_attendance.itertuples(index=True):\n",
    "    # print(len(row))\n",
    "    # print( type(row))\n",
    "    # print(row.values)\n",
    "    row_string = \"|\".join(map(str, row))\n",
    "    # print(row_string)\n",
    "\n",
    "    if re.search(r'[Hh]onorific', row_string):\n",
    "        # print(row.Index)\n",
    "        # print(row_string)\n",
    "        start_index = row.Index\n",
    "        continue\n",
    "\n",
    "\n",
    "#implement row narrowing\n",
    "event_data_cl = event_attendance.iloc[start_index:,:].reset_index(drop=True)\n",
    "event_data_cl.columns = event_data_cl.iloc[0]\n",
    "event_data_cl = event_data_cl.iloc[1:,:]\n",
    "\n",
    "\n",
    "#get col subset\n",
    "for name,value in event_data_cl.items():\n",
    "    print(name)\n",
    "    if re.search(r'[Ll]ast', str(name)):\n",
    "        stop_col = name\n",
    "        print(f'stop_col: {stop_col}')\n",
    "        break\n",
    "\n",
    "#implement col narrowing\n",
    "attendance_tracking_df = event_data_cl.loc[:,:stop_col]\n",
    "attendance_tracking_df\n"
   ]
  },
  {
   "cell_type": "code",
   "execution_count": 44,
   "metadata": {},
   "outputs": [
    {
     "data": {
      "text/html": [
       "<div>\n",
       "<style scoped>\n",
       "    .dataframe tbody tr th:only-of-type {\n",
       "        vertical-align: middle;\n",
       "    }\n",
       "\n",
       "    .dataframe tbody tr th {\n",
       "        vertical-align: top;\n",
       "    }\n",
       "\n",
       "    .dataframe thead th {\n",
       "        text-align: right;\n",
       "    }\n",
       "</style>\n",
       "<table border=\"1\" class=\"dataframe\">\n",
       "  <thead>\n",
       "    <tr style=\"text-align: right;\">\n",
       "      <th></th>\n",
       "      <th>Status</th>\n",
       "      <th>Attendee Type</th>\n",
       "      <th>Honorific</th>\n",
       "      <th>First</th>\n",
       "      <th>Last</th>\n",
       "    </tr>\n",
       "  </thead>\n",
       "  <tbody>\n",
       "  </tbody>\n",
       "</table>\n",
       "</div>"
      ],
      "text/plain": [
       "Empty DataFrame\n",
       "Columns: [Status , Attendee Type, Honorific, First, Last]\n",
       "Index: []"
      ]
     },
     "execution_count": 44,
     "metadata": {},
     "output_type": "execute_result"
    }
   ],
   "source": [
    "#find cols and filter\n",
    "cols_found = []\n",
    "for col in attendance_tracking_df:\n",
    "    # print(col)\n",
    "    if re.search('[Ss]tatus', str(col)):\n",
    "        status_col = str(col)\n",
    "        cols_found.append(col)\n",
    "    elif re.search(r'[Aa]ttendee(\\s+)?[Tt]ype', str(col)):\n",
    "        att_type_col = str(col)\n",
    "        cols_found.append(col)\n",
    "\n",
    "\n",
    "attendance_cl = attendance_tracking_df[\n",
    "    attendance_tracking_df[status_col].fillna('').str.contains('Checked', na=False) & \n",
    "    ~(attendance_tracking_df[att_type_col].fillna('').str.strip().str.lower() == \"thi staff\")  # Using ~ (negation)\n",
    "]\n",
    "attendance_cl\n"
   ]
  },
  {
   "cell_type": "markdown",
   "metadata": {},
   "source": [
    "# Attendee Info"
   ]
  },
  {
   "cell_type": "code",
   "execution_count": 45,
   "metadata": {},
   "outputs": [
    {
     "name": "stdout",
     "output_type": "stream",
     "text": [
      "Attendee Type / Role\n",
      "Registration Date\n",
      "Covered by THI or Self Pay\n",
      "Registration Status\n",
      "nan\n",
      "Honorific\n",
      "First Name\n",
      "Last Name\n",
      "Title\n",
      "Organization (State for HKF and District # for SLR)\n"
     ]
    }
   ],
   "source": [
    "#get start row and cut df\n",
    "for row in attendee_info.itertuples(index=True):\n",
    "    # print(len(row))\n",
    "    # print( type(row))\n",
    "    # print(row.values)\n",
    "    row_string = \"|\".join(map(str, row))\n",
    "    # print(row_string)\n",
    "\n",
    "    if re.search(r'[Hh]onorific', row_string):\n",
    "        # print(row.Index)\n",
    "        # print(row_string)\n",
    "        start_index = row.Index\n",
    "        break\n",
    "\n",
    "#implement row bounds\n",
    "attendee_info_cl = attendee_info.iloc[start_index:,:].reset_index(drop=True)\n",
    "attendee_info_cl.columns = attendee_info_cl.iloc[0]\n",
    "attendee_info_cl.columns = [str(x).strip() for x in attendee_info_cl.columns]\n",
    "attendee_info_cl = attendee_info_cl.iloc[1:,:].reset_index(drop=True)\n",
    "\n",
    "start_col = np.nan\n",
    "stop_col = np.nan\n",
    "#get col subset\n",
    "for name,value in attendee_info_cl.items():\n",
    "    print(name)\n",
    "    if re.search(r'[Ff]irst', str(name)):\n",
    "        start_col = name\n",
    "        # print(f'start_col: {start_col}')\n",
    "        continue\n",
    "\n",
    "    elif re.search(r'[Oo]rg', str(name)):\n",
    "        stop_col = name\n",
    "        # print(f'stop_col: {stop_col}')\n",
    "        break\n",
    "\n",
    "\n",
    "# print(f'start col:\"{start_col}\"')\n",
    "# print(f'stop col:\"{stop_col}\"')\n",
    "# print(type)\n",
    "# print(attendee_info_cl.columns)\n",
    "# print(attendee_info_cl[start_col])\n",
    "#implement col bounds\n",
    "attendee_info_df = attendee_info_cl.loc[:,start_col:stop_col]\n",
    "attendee_info_df = attendee_info_df.dropna(how='all', axis=0)\n"
   ]
  },
  {
   "cell_type": "markdown",
   "metadata": {},
   "source": [
    "# Both"
   ]
  },
  {
   "cell_type": "code",
   "execution_count": 46,
   "metadata": {},
   "outputs": [],
   "source": [
    "#edit col names\n",
    "attendance_cl.columns = [re.sub(r\"[Nn]ame|\\(.+\\)\", \"\", str(x)).lower().strip() for x in attendance_cl.columns]\n",
    "attendee_info_df.columns = [re.sub(r\"[Nn]ame|\\(.+\\)\", \"\", str(x)).lower().strip() for x in attendee_info_df.columns]\n"
   ]
  },
  {
   "cell_type": "code",
   "execution_count": 47,
   "metadata": {},
   "outputs": [
    {
     "data": {
      "text/plain": [
       "Index(['status', 'attendee type', 'honorific', 'first', 'last'], dtype='object')"
      ]
     },
     "execution_count": 47,
     "metadata": {},
     "output_type": "execute_result"
    }
   ],
   "source": [
    "attendance_cl.columns"
   ]
  },
  {
   "cell_type": "code",
   "execution_count": 48,
   "metadata": {},
   "outputs": [],
   "source": [
    "attendee_info_df['full'] = attendee_info_df['first'] + \" \" + attendee_info_df['last']\n",
    "attendee_info_df = attendee_info_df.drop(columns=['first', 'last'], axis = 1)\n",
    "attendance_cl['full'] = attendance_cl['first'] + \" \" + attendance_cl['last']"
   ]
  },
  {
   "cell_type": "code",
   "execution_count": 49,
   "metadata": {},
   "outputs": [
    {
     "data": {
      "text/html": [
       "<div>\n",
       "<style scoped>\n",
       "    .dataframe tbody tr th:only-of-type {\n",
       "        vertical-align: middle;\n",
       "    }\n",
       "\n",
       "    .dataframe tbody tr th {\n",
       "        vertical-align: top;\n",
       "    }\n",
       "\n",
       "    .dataframe thead th {\n",
       "        text-align: right;\n",
       "    }\n",
       "</style>\n",
       "<table border=\"1\" class=\"dataframe\">\n",
       "  <thead>\n",
       "    <tr style=\"text-align: right;\">\n",
       "      <th></th>\n",
       "      <th>attendee type</th>\n",
       "      <th>honorific</th>\n",
       "      <th>first</th>\n",
       "      <th>last</th>\n",
       "      <th>title</th>\n",
       "      <th>organization</th>\n",
       "      <th>state</th>\n",
       "      <th>short_convening</th>\n",
       "    </tr>\n",
       "  </thead>\n",
       "  <tbody>\n",
       "  </tbody>\n",
       "</table>\n",
       "</div>"
      ],
      "text/plain": [
       "Empty DataFrame\n",
       "Columns: [attendee type, honorific, first, last, title, organization, state, short_convening]\n",
       "Index: []"
      ]
     },
     "execution_count": 49,
     "metadata": {},
     "output_type": "execute_result"
    }
   ],
   "source": [
    "#merge and clean data/add additional columns\n",
    "#merge data\n",
    "final_df = attendance_cl.merge(attendee_info_df,on='full' , how='left').reset_index(drop=True)\n",
    "final_df = final_df.drop('full', axis=1)\n",
    "#clean\n",
    "final_df = final_df.drop('status', axis = 1)\n",
    "final_df.columns\n",
    "\n",
    "#fill in state where available\n",
    "final_df['state'] = final_df['organization'].apply(extract_state_abbreviation)\n",
    "\n",
    "short_convening_val = False\n",
    "final_df['short_convening'] = short_convening_val\n",
    "\n",
    "\n",
    "final_df"
   ]
  },
  {
   "cell_type": "code",
   "execution_count": 27,
   "metadata": {},
   "outputs": [
    {
     "name": "stdout",
     "output_type": "stream",
     "text": [
      "Index(['first_name', 'last_name', 'honorific', 'title', 'org', 'district',\n",
      "       'role', 'state', 'short_convening'],\n",
      "      dtype='object')\n",
      "mapping first to first_name\n",
      "mapping last to last_name\n",
      "mapping honorific to honorific\n",
      "mapping title to title\n",
      "mapping organization to org\n",
      "mapping attendee type to role\n",
      "mapping state to state\n",
      "mapping short_convening to short_convening\n"
     ]
    }
   ],
   "source": [
    "#pull in template and get col mapping\n",
    "template = r\"C:\\Users\\clutz\\THE HUNT INSTITUTE\\The Hunt Institute Team Site - Documents\\Development (formerly Grants Management)\\!Administrative\\Christian\\THII\\attendance\\attendance data\\to be processed\\2025_GAR_attendance.xlsx\"\n",
    "template_df = pd.read_excel(template)\n",
    "print(template_df.columns)\n",
    "col_mapping = {}\n",
    "#go through template\n",
    "for col in template_df.columns:\n",
    "    #get col\n",
    "    search_string = col.replace('_name','').lower()\n",
    "    \n",
    "    #look for col that matchs\n",
    "    #for each col look for it in the merged_df cols\n",
    "    for m in final_df.columns:\n",
    "        #return found value   \n",
    "        # print(m)\n",
    "        if re.search(rf'{m.lower()}', search_string):\n",
    "            print(f'mapping {m} to {col}')\n",
    "            col_mapping[m] = col\n",
    "            break\n",
    "\n",
    "        elif re.search(r'[Aa]ttendee\\s[Tt]ype|[Rr]ole', search_string):\n",
    "            print(f'mapping {m} to {col}')\n",
    "            col_mapping[m] = col\n",
    "            break\n",
    "        elif re.search(r'^[Oo]rg', search_string) and re.search(r'^[Oo]rg', str(m)):\n",
    "            print(f'mapping {m} to {col}')\n",
    "            col_mapping[m] = col\n",
    "            break\n",
    "\n",
    "        \n",
    "\n",
    "            \n",
    "# list\n"
   ]
  },
  {
   "cell_type": "code",
   "execution_count": 28,
   "metadata": {},
   "outputs": [
    {
     "name": "stdout",
     "output_type": "stream",
     "text": [
      "not assigned: ['district']\n",
      "not accessed: []\n"
     ]
    }
   ],
   "source": [
    "#print out of unassigned and unaccessed\n",
    "#not assigned\n",
    "n_assigned_to_dict = [x for x in template_df.columns if x not in col_mapping.values()]\n",
    "\n",
    "#not pulled\n",
    "n_accessed = [x for x in final_df.columns if x not in col_mapping.keys()]\n",
    "\n",
    "print(f'not assigned: {n_assigned_to_dict}')\n",
    "print(f'not accessed: {n_accessed}')"
   ]
  },
  {
   "cell_type": "code",
   "execution_count": 29,
   "metadata": {},
   "outputs": [],
   "source": [
    "#ONLY RUN IF YOU ARE DONE: assigns np.nan to any columns not included per template\n",
    "for n in n_assigned_to_dict:\n",
    "    final_df[n] = np.nan"
   ]
  },
  {
   "cell_type": "code",
   "execution_count": 30,
   "metadata": {},
   "outputs": [],
   "source": [
    "#remap column names\n",
    "final_df_remapped = final_df.rename(columns=col_mapping).loc[:,list(template_df.columns)]\n"
   ]
  },
  {
   "cell_type": "markdown",
   "metadata": {},
   "source": [
    "# Export"
   ]
  },
  {
   "cell_type": "code",
   "execution_count": 32,
   "metadata": {},
   "outputs": [],
   "source": [
    "os.chdir(r'C:\\Users\\clutz\\THE HUNT INSTITUTE\\The Hunt Institute Team Site - Documents\\Development (formerly Grants Management)\\!Administrative\\Christian\\THII\\attendance\\attendance data\\output')\n",
    "final_df_remapped.to_excel(filename, index=False)"
   ]
  }
 ],
 "metadata": {
  "kernelspec": {
   "display_name": "hunt_env",
   "language": "python",
   "name": "python3"
  },
  "language_info": {
   "codemirror_mode": {
    "name": "ipython",
    "version": 3
   },
   "file_extension": ".py",
   "mimetype": "text/x-python",
   "name": "python",
   "nbconvert_exporter": "python",
   "pygments_lexer": "ipython3",
   "version": "3.12.5"
  }
 },
 "nbformat": 4,
 "nbformat_minor": 2
}
