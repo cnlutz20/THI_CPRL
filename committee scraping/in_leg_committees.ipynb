{
 "cells": [
  {
   "cell_type": "markdown",
   "metadata": {},
   "source": [
    "%%"
   ]
  },
  {
   "cell_type": "code",
   "execution_count": 1,
   "metadata": {},
   "outputs": [],
   "source": [
    "import os, sys, json, datetime, re  # Provides OS-dependent functionality, system-specific parameters, JSON handling, and date/time manipulation\n",
    "import pandas as pd             # Provides data structures and data analysis tools\n",
    "import numpy as np              # Supports large, multi-dimensional arrays and matrices\n",
    "import requests\n",
    "import time\n",
    "from tqdm import tqdm\n",
    "import urllib3\n",
    "urllib3.disable_warnings(urllib3.exceptions.InsecureRequestWarning)\n",
    "from bs4 import BeautifulSoup\n",
    "from lxml import etree, html\n",
    "from selenium import webdriver\n",
    "from selenium.webdriver.common.by import By\n",
    "from selenium.webdriver.chrome.service import Service\n",
    "from selenium.webdriver.chrome.options import Options\n",
    "from selenium.webdriver.common.action_chains import ActionChains\n",
    "import time\n",
    "from selenium.webdriver.support.ui import WebDriverWait\n",
    "from selenium.webdriver.support import expected_conditions as EC\n",
    "\n",
    "from cprl_functions.state_capture import thi_states,state_ref, state_coding, state_pat, state_abv_pat\n",
    "from cprl_functions.text_printing import bordered\n",
    "from cprl_functions.defined_functions import create_pk, extract_title_and_name, get_recent_file\n",
    "from unidecode import unidecode\n",
    "\n",
    "from selenium import webdriver\n",
    "from selenium.webdriver.chrome.service import Service as ChromeService\n",
    "from webdriver_manager.chrome import ChromeDriverManager"
   ]
  },
  {
   "cell_type": "markdown",
   "metadata": {},
   "source": [
    "%%"
   ]
  },
  {
   "cell_type": "code",
   "execution_count": 2,
   "metadata": {},
   "outputs": [],
   "source": [
    "file = r\"C:\\Users\\clutz\\OneDrive - THE HUNT INSTITUTE\\Documents\\Data\\legislator data\\committees_data.xlsx\""
   ]
  },
  {
   "cell_type": "code",
   "execution_count": null,
   "metadata": {},
   "outputs": [],
   "source": [
    "coms = pd.read_excel(file)"
   ]
  },
  {
   "cell_type": "code",
   "execution_count": null,
   "metadata": {},
   "outputs": [],
   "source": [
    "in_coms = coms[coms['state'] == \"IN\"]"
   ]
  },
  {
   "cell_type": "markdown",
   "metadata": {},
   "source": [
    "%%"
   ]
  },
  {
   "cell_type": "code",
   "execution_count": null,
   "metadata": {},
   "outputs": [],
   "source": [
    "in_coms = in_coms.drop_duplicates(subset=['committee', 'url'], keep='first')\n",
    "in_coms.reset_index(inplace=True, drop=True)"
   ]
  },
  {
   "cell_type": "markdown",
   "metadata": {},
   "source": [
    "%%"
   ]
  },
  {
   "cell_type": "markdown",
   "metadata": {},
   "source": [
    "%%"
   ]
  },
  {
   "cell_type": "code",
   "execution_count": null,
   "metadata": {},
   "outputs": [],
   "source": [
    "from selenium import webdriver\n",
    "from selenium.webdriver.common.by import By\n",
    "from selenium.webdriver.chrome.service import Service\n",
    "from selenium.webdriver.chrome.options import Options\n",
    "from selenium.webdriver.common.action_chains import ActionChains\n",
    "import time\n",
    "from selenium.webdriver.support.ui import WebDriverWait\n",
    "from selenium.webdriver.support import expected_conditions as EC"
   ]
  },
  {
   "cell_type": "markdown",
   "metadata": {},
   "source": [
    "Path to your WebDriver executable (adjust if necessary)"
   ]
  },
  {
   "cell_type": "code",
   "execution_count": null,
   "metadata": {},
   "outputs": [],
   "source": [
    "webdriver_path = r\"C:\\Users\\clutz\\hunt_env\\chrome driver\\chromedriver-win64\\chromedriver.exe\""
   ]
  },
  {
   "cell_type": "code",
   "execution_count": null,
   "metadata": {},
   "outputs": [],
   "source": [
    "#set up\n",
    "ref_path = r\"C:\\Users\\clutz\\THE HUNT INSTITUTE\\The Hunt Institute Team Site - Documents\\Development (formerly Grants Management)\\!Administrative\\Christian\\THII\\legislator data\\key_creation\\2025\"\n",
    "leg_ref =pd.read_excel(get_recent_file(\"*\", ref_path))\n",
    "leg_ref = leg_ref[leg_ref['state abbreviation'] == \"VA\"]\n",
    "# print(leg_ref.columns)\n",
    "# print(leg_ref.head())\n",
    "# leg_ref\n"
   ]
  },
  {
   "cell_type": "code",
   "execution_count": null,
   "metadata": {},
   "outputs": [],
   "source": [
    "def get_subset(df, fpk_col, fpk):\n",
    "    df_new = df[df[fpk_col] == fpk]\n",
    "    return df_new"
   ]
  },
  {
   "cell_type": "code",
   "execution_count": null,
   "metadata": {},
   "outputs": [
    {
     "name": "stdout",
     "output_type": "stream",
     "text": [
      "[1]\n"
     ]
    },
    {
     "data": {
      "text/plain": [
       "'\\nif this returns anything other than [1] that means that the fpk match isnt fully clean\\n'"
      ]
     },
     "metadata": {},
     "output_type": "display_data"
    }
   ],
   "source": [
    "#checking that all are assigned correctly\n",
    "lens = []\n",
    "for row in va_com_info.itertuples(index=False):\n",
    "    sub_df = get_subset(leg_ref, 'full_pk', int(row.fpk))\n",
    "    lens.append(len(sub_df))\n",
    "    if len(sub_df) >1:\n",
    "        print(row)\n",
    "        print(f'sub df :')\n",
    "        for row in sub_df.itertuples(index=False):\n",
    "            print(row)\n",
    "    elif len(sub_df) <1:\n",
    "        print(row)\n",
    "        print(sub_df)\n",
    "        \n",
    "    # print(sub_df)\n",
    "print(list(set(lens)))\n",
    "\n",
    "\n",
    "\"\"\"\n",
    "if this returns anything other than [1] that means that the fpk match isnt fully clean\n",
    "\"\"\""
   ]
  },
  {
   "cell_type": "markdown",
   "metadata": {},
   "source": [
    "Set up Chrome options"
   ]
  },
  {
   "cell_type": "code",
   "execution_count": null,
   "metadata": {},
   "outputs": [],
   "source": [
    "chrome_options = Options()\n",
    "# chrome_options.add_argument(\"--headless\")  # Run in headless mode (no GUI)"
   ]
  },
  {
   "cell_type": "markdown",
   "metadata": {},
   "source": [
    "Set up WebDriver service"
   ]
  },
  {
   "cell_type": "code",
   "execution_count": null,
   "metadata": {},
   "outputs": [],
   "source": [
    "service = Service(webdriver_path)"
   ]
  },
  {
   "cell_type": "markdown",
   "metadata": {},
   "source": [
    "Initialize WebDriver"
   ]
  },
  {
   "cell_type": "code",
   "execution_count": null,
   "metadata": {},
   "outputs": [],
   "source": [
    "driver = webdriver.Chrome(service=service, options=chrome_options)\n",
    "\"C:\\Users\\clutz\\OneDrive - THE HUNT INSTITUTE\\Documents\\Data\\legislator data\\IN\\IN_committee_data_from_quorum.xlsx\""
   ]
  },
  {
   "cell_type": "markdown",
   "metadata": {},
   "source": [
    "%%<br>\n",
    "url = in_coms['url'].iloc[0]<br>\n",
    "print(in_coms['committee'].iloc[0])"
   ]
  },
  {
   "cell_type": "code",
   "execution_count": null,
   "metadata": {},
   "outputs": [],
   "source": [
    "member_dict = {}\n",
    "for i,url in enumerate(in_coms[\"url\"]):\n",
    "    driver.get(url)\n",
    "    time.sleep(5)\n",
    "    chamber = in_coms.loc[i,'branch']\n",
    "    # print(response.text)  # Check the raw HTML\n",
    "    html_from_page = driver.page_source\n",
    "    soup = BeautifulSoup(html_from_page, 'html.parser')\n",
    "    member_cards = soup.find_all(class_='MemberCard_memberCardContent__5CHYi')\n",
    "    if len(member_cards) == 0:\n",
    "        print(in_coms['committee'].iloc[i])\n",
    "        break"
   ]
  },
  {
   "cell_type": "code",
   "execution_count": null,
   "metadata": {},
   "outputs": [],
   "source": [
    "    members = []\n",
    "    role = []\n",
    "    districts = []\n",
    "    members_df = []\n",
    "    chambers = []\n",
    "    for member in member_cards:\n",
    "        \n",
    "        name = member.select_one('.MemberCard_memberCardName__AA367 span').text.strip()\n",
    "        district = member.select_one('.MemberCard_memberCardDistrict__1IKVn').text.strip()\n",
    "        position = member.select_one('.MemberCard_memberCardPosition__3b90Z p').text.strip()\n",
    "        \n",
    "        \n",
    "        members.extend([name])\n",
    "        \n",
    "        districts.extend([district])\n",
    "        role.extend([position])\n",
    "        \n",
    "        # print(\"chambers print out\" + str(chambers))"
   ]
  },
  {
   "cell_type": "code",
   "execution_count": null,
   "metadata": {},
   "outputs": [],
   "source": [
    "        try:\n",
    "            df = pd.DataFrame({\"member\": members, \"district\": districts, \"position\": role})\n",
    "        except:\n",
    "            \n",
    "            print('MISTAKE')\n",
    "            print(\"members list length: \" + str(len(members)))\n",
    "            print(members)\n",
    "            print(\"roles list length: \" + str(len(role)))\n",
    "            print(role)\n",
    "            print(\"district list length: \" + str(len(districts)))\n",
    "            print(districts)\n",
    "            break\n",
    "        members_df.append(df)\n",
    "    in_com_dfs = pd.concat(members_df)\n",
    "    in_com_dfs.loc[:,'Chamber'] = chamber\n",
    "    print(in_com_dfs)\n",
    "    member_dict[in_coms['committee'].iloc[i]] = in_com_dfs"
   ]
  },
  {
   "cell_type": "markdown",
   "metadata": {},
   "source": [
    "%%<br>\n",
    "Define a function to modify each string"
   ]
  },
  {
   "cell_type": "code",
   "execution_count": null,
   "metadata": {},
   "outputs": [],
   "source": [
    "def modify_string(s):\n",
    "    sen = False\n",
    "    rep = False\n",
    "    if re.search(r'Rep\\.', s):\n",
    "        rep = True\n",
    "    elif re.search(r'Sen\\.', s):\n",
    "        sen = True\n",
    "    \n",
    "    if sen == True:\n",
    "        # Split the string at commas\n",
    "        parts = re.split('Sen.',s, maxsplit=1)\n",
    "    elif rep == True:\n",
    "        parts = re.split('Rep.',s, maxsplit=1)\n",
    "    elif sen == False and sen == False:\n",
    "        print('no rep/sen delimeter')\n",
    "        return None\n",
    "    \n",
    "    result = parts[-1]\n",
    "    # print(type(result))\n",
    "    result = re.sub(r'\\([rdRD]\\)',\"\", str(result))\n",
    "    result = result.lstrip().rstrip()\n",
    "    return result"
   ]
  },
  {
   "cell_type": "markdown",
   "metadata": {},
   "source": [
    "%%<br>\n",
    "Define a function to standardize committee role"
   ]
  },
  {
   "cell_type": "code",
   "execution_count": null,
   "metadata": {},
   "outputs": [],
   "source": [
    "def modify_membership(s):\n",
    "    if re.search(r'Chair', str(s)):\n",
    "        if 'Vice' in str(s):\n",
    "            membership = 'Vice Chair' \n",
    "        elif re.search(r'^Chair of', str(s)):\n",
    "            membership = 'Member'\n",
    "        else:\n",
    "            membership = 'Chair'\n",
    "    elif re.search(r'Member',  str(s)):\n",
    "        membership = 'Member'\n",
    "    \n",
    "    return membership"
   ]
  },
  {
   "cell_type": "markdown",
   "metadata": {},
   "source": [
    "%%<br>\n",
    "Define a function to standardize committee role"
   ]
  },
  {
   "cell_type": "code",
   "execution_count": null,
   "metadata": {},
   "outputs": [],
   "source": [
    "def modify_district(s):\n",
    "    result = re.split(r'District ', str(s))\n",
    "    result = str(result[-1])\n",
    "    return result"
   ]
  },
  {
   "cell_type": "markdown",
   "metadata": {},
   "source": [
    "%%"
   ]
  },
  {
   "cell_type": "code",
   "execution_count": null,
   "metadata": {},
   "outputs": [],
   "source": [
    "committee_results = []\n",
    "for k,v in member_dict.items():\n",
    "    df = v\n",
    "    df = df.drop_duplicates()\n",
    "    df.loc[:,'member'] = df['member'].apply(modify_string)\n",
    "    df.loc[:,'position'] = df['position'].apply(modify_membership)\n",
    "    df.loc[:,'district'] = df['district'].apply(modify_district)\n",
    "    n = len(df.loc[:, 'member'])\n",
    "    com_values = [str(k)]*n\n",
    "    df.loc[:,'committee'] = com_values\n",
    "    committee_results.append(df)"
   ]
  },
  {
   "cell_type": "markdown",
   "metadata": {},
   "source": [
    "%%"
   ]
  },
  {
   "cell_type": "code",
   "execution_count": null,
   "metadata": {},
   "outputs": [],
   "source": [
    "committee_info = pd.concat(committee_results, ignore_index=True)"
   ]
  },
  {
   "cell_type": "markdown",
   "metadata": {},
   "source": [
    "%% pickling committe info<br>\n",
    "%% storing"
   ]
  },
  {
   "cell_type": "code",
   "execution_count": null,
   "metadata": {},
   "outputs": [],
   "source": [
    "import pickle"
   ]
  },
  {
   "cell_type": "markdown",
   "metadata": {},
   "source": [
    "file_name = os.path.join(os.getcwd(), 'committee_info_df')<br>\n",
    "committee_info.to_pickle(file_name)"
   ]
  },
  {
   "cell_type": "markdown",
   "metadata": {},
   "source": [
    "dbfile = open('committee_info_df', 'ab')"
   ]
  },
  {
   "cell_type": "code",
   "execution_count": null,
   "metadata": {},
   "outputs": [],
   "source": [
    "    \n",
    "#     # source, destination\n",
    "# pickle.dump(committee_info, dbfile)                    \n",
    "# dbfile.close()"
   ]
  },
  {
   "cell_type": "code",
   "execution_count": null,
   "metadata": {},
   "outputs": [],
   "source": [
    "committee_info.to_csv('in_committee_info.csv', index=False)"
   ]
  },
  {
   "cell_type": "markdown",
   "metadata": {},
   "source": [
    "%% Loading"
   ]
  },
  {
   "cell_type": "code",
   "execution_count": null,
   "metadata": {},
   "outputs": [],
   "source": [
    "with open('committee_info_df', 'rb') as dbfile:\n",
    "    # Step 2: Load the data from the file\n",
    "    data = pickle.load(dbfile)"
   ]
  },
  {
   "cell_type": "code",
   "execution_count": null,
   "metadata": {},
   "outputs": [],
   "source": [
    "in_committee_info = pd.DataFrame(data)"
   ]
  },
  {
   "cell_type": "markdown",
   "metadata": {},
   "source": [
    "%%"
   ]
  },
  {
   "cell_type": "code",
   "execution_count": null,
   "metadata": {},
   "outputs": [],
   "source": [
    "from openpyxl import load_workbook"
   ]
  },
  {
   "cell_type": "code",
   "execution_count": null,
   "metadata": {},
   "outputs": [],
   "source": [
    "def get_sheetnames_xlsx(filepath):\n",
    "    wb = load_workbook(filepath, read_only=True, keep_links=False)\n",
    "    return wb.sheetnames"
   ]
  },
  {
   "cell_type": "code",
   "execution_count": null,
   "metadata": {},
   "outputs": [],
   "source": [
    "file = r\"C:\\Users\\clutz\\THE HUNT INSTITUTE\\The Hunt Institute Team Site - Documents\\Development (formerly Grants Management)\\!Administrative\\Christian\\Legislators Data\\leg_data_update_10_2024\\IN_legislators.xlsx\"\n",
    "names = get_sheetnames_xlsx(file)"
   ]
  },
  {
   "cell_type": "markdown",
   "metadata": {},
   "source": [
    "%%"
   ]
  },
  {
   "cell_type": "markdown",
   "metadata": {},
   "source": [
    "% SENATE"
   ]
  },
  {
   "cell_type": "code",
   "execution_count": null,
   "metadata": {},
   "outputs": [],
   "source": [
    "in_legs_senate = pd.read_excel(file, sheet_name=names[1])\n",
    "in_committee_info_senate = in_committee_info[in_committee_info.Chamber.str.contains('senate')]"
   ]
  },
  {
   "cell_type": "code",
   "execution_count": null,
   "metadata": {},
   "outputs": [],
   "source": [
    "in_legs_senate_melted = in_legs_senate.melt(id_vars=['State Abbreviation', 'Chamber', 'full title', 'First Name',\n",
    "       'Last Name', 'Party', 'district', 'tenure', 'leader'], value_vars=[ 'Appropriations overall', 'Education & Career Development',\n",
    "       'Family & Children Services', 'Health & Provider Services'],\n",
    "       var_name='committee',  # Name the new column\n",
    "       value_name='membership_status'  # Optionally, name this column\n",
    "       )"
   ]
  },
  {
   "cell_type": "markdown",
   "metadata": {},
   "source": [
    "Ensure to include 'district', 'variable', and 'position' in the merge"
   ]
  },
  {
   "cell_type": "code",
   "execution_count": null,
   "metadata": {},
   "outputs": [],
   "source": [
    "in_committee_info_senate = in_committee_info_senate[['district', 'committee', 'position']]"
   ]
  },
  {
   "cell_type": "code",
   "execution_count": null,
   "metadata": {},
   "outputs": [],
   "source": [
    "in_legs_senate_melted['district'] = in_legs_senate_melted['district'].astype(str)"
   ]
  },
  {
   "cell_type": "code",
   "execution_count": null,
   "metadata": {},
   "outputs": [],
   "source": [
    "in_legs_senate_melted = in_legs_senate_melted.merge(\n",
    "    in_committee_info_senate,\n",
    "    how='left',\n",
    "    left_on=['district', 'committee'],  # Using the melted 'committee'\n",
    "    right_on=['district', 'committee']  # Matching it with the 'variable' from in_committee_info_senate\n",
    ")"
   ]
  },
  {
   "cell_type": "code",
   "execution_count": null,
   "metadata": {},
   "outputs": [],
   "source": [
    "in_legs_senate = in_legs_senate_melted.pivot(columns='committee', \n",
    "                         values='position',\n",
    "                         index=['State Abbreviation', 'Chamber', 'full title', 'First Name','Last Name', 'Party', 'district', 'tenure', 'leader']     \n",
    "       )\n",
    "in_legs_senate.reset_index(inplace=True)"
   ]
  },
  {
   "cell_type": "markdown",
   "metadata": {},
   "source": [
    "% HOUSE"
   ]
  },
  {
   "cell_type": "code",
   "execution_count": null,
   "metadata": {},
   "outputs": [],
   "source": [
    "in_legs_house = pd.read_excel(file, sheet_name=names[0])\n",
    "in_committee_info_house = in_committee_info[in_committee_info.Chamber.str.contains('house')]"
   ]
  },
  {
   "cell_type": "code",
   "execution_count": null,
   "metadata": {},
   "outputs": [],
   "source": [
    "in_legs_house_melted = in_legs_house.melt(id_vars=['State Abbreviation', 'Chamber', 'full title', 'First Name',\n",
    "       'Last Name', 'Party', 'district', 'tenure', 'leader'], value_vars=['Family, Children & Human Affairs', 'Education', 'Public Health',\n",
    "       'Appropriations (Ways & Means)'],\n",
    "       var_name='committee',  # Name the new column\n",
    "       value_name='membership_status'  # Optionally, name this column\n",
    "       )"
   ]
  },
  {
   "cell_type": "markdown",
   "metadata": {},
   "source": [
    "Ensure to include 'district', 'variable', and 'position' in the merge"
   ]
  },
  {
   "cell_type": "code",
   "execution_count": null,
   "metadata": {},
   "outputs": [],
   "source": [
    "in_committee_info_house = in_committee_info_house[['district', 'committee', 'position']]"
   ]
  },
  {
   "cell_type": "code",
   "execution_count": null,
   "metadata": {},
   "outputs": [],
   "source": [
    "in_legs_house_melted['district'] = in_legs_house_melted['district'].astype(str)"
   ]
  },
  {
   "cell_type": "code",
   "execution_count": null,
   "metadata": {},
   "outputs": [],
   "source": [
    "in_legs_house_melted = in_legs_house_melted.merge(\n",
    "    in_committee_info_house,\n",
    "    how='left',\n",
    "    left_on=['district', 'committee'],  # Using the melted 'committee'\n",
    "    right_on=['district', 'committee']  # Matching it with the 'variable' from in_committee_info_house\n",
    ")"
   ]
  },
  {
   "cell_type": "code",
   "execution_count": null,
   "metadata": {},
   "outputs": [],
   "source": [
    "in_legs_house = in_legs_house_melted.pivot(columns='committee', \n",
    "                         values='position',\n",
    "                         index=['State Abbreviation', 'Chamber', 'full title', 'First Name','Last Name', 'Party', 'district', 'tenure', 'leader']     \n",
    "       )\n",
    "in_legs_house.reset_index(inplace=True)\n",
    "# %%"
   ]
  },
  {
   "cell_type": "code",
   "execution_count": null,
   "metadata": {},
   "outputs": [],
   "source": [
    "export_list = [in_legs_senate, in_legs_house]\n",
    "in_comm_export_df = pd.concat(export_list)"
   ]
  },
  {
   "cell_type": "code",
   "execution_count": null,
   "metadata": {},
   "outputs": [],
   "source": [
    "in_comm_export_df.to_csv('in_committee_export.csv', index=False)"
   ]
  },
  {
   "cell_type": "markdown",
   "metadata": {},
   "source": [
    "%%"
   ]
  },
  {
   "cell_type": "code",
   "execution_count": null,
   "metadata": {},
   "outputs": [],
   "source": [
    "import openpyxl"
   ]
  },
  {
   "cell_type": "code",
   "execution_count": null,
   "metadata": {},
   "outputs": [],
   "source": [
    "filepath = r'C:\\Users\\clutz\\THE HUNT INSTITUTE\\The Hunt Institute Team Site - Documents\\Development (formerly Grants Management)\\!Administrative\\Christian\\Legislators Data\\leg_data_update_10_2024\\in_legislator_com_info.xlsx'\n",
    "wb = openpyxl.Workbook()"
   ]
  },
  {
   "cell_type": "code",
   "execution_count": null,
   "metadata": {},
   "outputs": [],
   "source": [
    "wb.save(filepath)"
   ]
  },
  {
   "cell_type": "code",
   "execution_count": null,
   "metadata": {},
   "outputs": [],
   "source": [
    "with pd.ExcelWriter(\"in_legislator_com_info.xlsx\", mode=\"a\", engine=\"openpyxl\", if_sheet_exists='replace') as writer:\n",
    "     \n",
    "    # use to_excel function and specify the sheet_name and index to \n",
    "    # store the dataframe in specified sheet\n",
    "    in_legs_senate.to_excel(writer, sheet_name=\"IN_Senate\")\n",
    "    in_legs_house.to_excel(writer, sheet_name=\"IN_House\")"
   ]
  },
  {
   "cell_type": "markdown",
   "metadata": {},
   "source": [
    "%%"
   ]
  },
  {
   "cell_type": "code",
   "execution_count": null,
   "metadata": {},
   "outputs": [],
   "source": [
    "test.columns\n",
    "for k in in_committee_info_senate['district']:\n",
    "    print(type(k))"
   ]
  },
  {
   "cell_type": "code",
   "execution_count": null,
   "metadata": {},
   "outputs": [],
   "source": [
    "in_committee_info_senate.columns"
   ]
  },
  {
   "cell_type": "code",
   "execution_count": null,
   "metadata": {},
   "outputs": [],
   "source": [
    "result = test.merge(in_committee_info_senate['position'], \n",
    "                     how='left', \n",
    "                     left_on=['district','committee'], \n",
    "                     right_on=['district','variable'])"
   ]
  },
  {
   "cell_type": "markdown",
   "metadata": {},
   "source": [
    "%%"
   ]
  }
 ],
 "metadata": {
  "kernelspec": {
   "display_name": "hunt_env",
   "language": "python",
   "name": "python3"
  },
  "language_info": {
   "codemirror_mode": {
    "name": "ipython",
    "version": 3
   },
   "file_extension": ".py",
   "mimetype": "text/x-python",
   "name": "python",
   "nbconvert_exporter": "python",
   "pygments_lexer": "ipython3",
   "version": "3.12.5"
  }
 },
 "nbformat": 4,
 "nbformat_minor": 2
}
