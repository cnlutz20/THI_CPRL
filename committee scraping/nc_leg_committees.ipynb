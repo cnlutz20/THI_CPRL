{
 "cells": [
  {
   "cell_type": "markdown",
   "metadata": {},
   "source": [
    "%%"
   ]
  },
  {
   "cell_type": "code",
   "execution_count": null,
   "metadata": {},
   "outputs": [],
   "source": [
    "import os, sys, json, datetime, re  # Provides OS-dependent functionality, system-specific parameters, JSON handling, and date/time manipulation\n",
    "import pandas as pd             # Provides data structures and data analysis tools\n",
    "import numpy as np              # Supports large, multi-dimensional arrays and matrices\n",
    "import requests\n",
    "import time\n",
    "from tqdm import tqdm\n",
    "import urllib3\n",
    "urllib3.disable_warnings(urllib3.exceptions.InsecureRequestWarning)\n",
    "from bs4 import BeautifulSoup\n",
    "from lxml import etree, html\n",
    "from selenium import webdriver\n",
    "from selenium.webdriver.common.by import By\n",
    "from selenium.webdriver.chrome.service import Service\n",
    "from selenium.webdriver.chrome.options import Options\n",
    "from selenium.webdriver.common.action_chains import ActionChains\n",
    "import time\n",
    "from selenium.webdriver.support.ui import WebDriverWait\n",
    "from selenium.webdriver.support import expected_conditions as EC"
   ]
  },
  {
   "cell_type": "markdown",
   "metadata": {},
   "source": [
    "%%"
   ]
  },
  {
   "cell_type": "code",
   "execution_count": 6,
   "metadata": {},
   "outputs": [],
   "source": [
    "from selenium import webdriver\n",
    "from selenium.webdriver.chrome.service import Service as ChromeService\n",
    "from webdriver_manager.chrome import ChromeDriverManager"
   ]
  },
  {
   "cell_type": "markdown",
   "metadata": {},
   "source": [
    "%%"
   ]
  },
  {
   "cell_type": "markdown",
   "metadata": {},
   "source": [
    "Path to your WebDriver executable (adjust if necessary)"
   ]
  },
  {
   "cell_type": "markdown",
   "metadata": {},
   "source": [
    "Set up Chrome options"
   ]
  },
  {
   "cell_type": "code",
   "execution_count": 32,
   "metadata": {},
   "outputs": [],
   "source": [
    "webdriver_path = r\"C:\\Users\\clutz\\hunt_env\\chrome driver\\chromedriver-win64\\chromedriver.exe\"\n",
    "chrome_options = Options()\n",
    "chrome_options.add_argument('--headless')\n",
    "# chrome_options.add_argument(\"--headless\")  # Run in headless mode (no GUI)\n",
    "# Set up WebDriver service\n",
    "service = Service(webdriver_path)"
   ]
  },
  {
   "cell_type": "code",
   "execution_count": null,
   "metadata": {},
   "outputs": [],
   "source": [
    "#call on driver and get data\n",
    "driver = webdriver.Chrome(service=ChromeService(ChromeDriverManager().install()), options=chrome_options)\n",
    "page_url = r'https://www.ncleg.gov/Committees#HouseStanding'\n",
    "driver.get(page_url)\n",
    "\n",
    "html_from_page = driver.page_source\n",
    "soup = BeautifulSoup(html_from_page, 'html.parser')\n",
    "\n",
    "links = soup.find_all(\"a\", {\"class\": \"list-group-item list-group-item-action filteredGroup searchable\"})\n"
   ]
  },
  {
   "cell_type": "code",
   "execution_count": 63,
   "metadata": {},
   "outputs": [
    {
     "name": "stdout",
     "output_type": "stream",
     "text": [
      "False\n",
      "title was : Agriculture and Environment\n",
      "False\n",
      "title was : Alcoholic Beverage Control\n",
      "False\n",
      "title was : Appropriations\n",
      "False\n",
      "title was : Appropriations, Agriculture and Natural and Economic Resources\n",
      "False\n",
      "title was : Appropriations, Capital and Information Technology\n",
      "False\n",
      "title was : Appropriations, Education\n",
      "False\n",
      "title was : Appropriations, General Government\n",
      "False\n",
      "title was : Appropriations, Health and Human Services\n",
      "False\n",
      "title was : Appropriations, Justice and Public Safety\n",
      "False\n",
      "title was : Appropriations, Transportation\n",
      "False\n",
      "title was : Commerce and Economic Development\n",
      "False\n",
      "title was : Education - K-12\n",
      "False\n",
      "title was : Election Law\n",
      "False\n",
      "title was : Emergency Management and Disaster Recovery\n",
      "False\n",
      "title was : Energy and Public Utilities\n",
      "False\n",
      "title was : Ethics\n",
      "False\n",
      "title was : Federal Relations and American Indian Affairs\n",
      "False\n",
      "title was : Finance\n",
      "True\n",
      "False\n",
      "title was : Higher Education\n",
      "False\n",
      "title was : Homeland Security and Military and Veterans Affairs\n",
      "False\n",
      "title was : Housing and Development\n",
      "False\n",
      "title was : Insurance\n",
      "False\n",
      "title was : Judiciary 1\n",
      "False\n",
      "title was : Judiciary 2\n",
      "False\n",
      "title was : Judiciary 3\n",
      "False\n",
      "title was : Oversight\n",
      "False\n",
      "title was : Pensions and Retirement\n",
      "False\n",
      "title was : Regulatory Reform\n",
      "False\n",
      "title was : Rules, Calendar, and Operations of the House\n",
      "False\n",
      "title was : State and Local Government\n",
      "False\n",
      "title was : Transportation\n",
      "False\n",
      "title was : Wildlife Resources\n",
      "False\n",
      "title was : Agriculture, Energy, and Environment\n",
      "False\n",
      "title was : Appropriations on Agriculture, Natural, and Economic Resources\n",
      "False\n",
      "title was : Appropriations on Department of Transportation\n",
      "False\n",
      "title was : Appropriations on Education/Higher Education\n",
      "False\n",
      "title was : Appropriations on General Government and Information Technology\n",
      "False\n",
      "title was : Appropriations on Health and Human Services\n",
      "False\n",
      "title was : Appropriations on Justice and Public Safety\n",
      "False\n",
      "title was : Appropriations/Base Budget\n",
      "False\n",
      "title was : Commerce and Insurance\n",
      "False\n",
      "title was : Education/Higher Education\n",
      "False\n",
      "title was : Elections\n",
      "False\n",
      "title was : Finance\n",
      "False\n",
      "title was : Health Care\n",
      "False\n",
      "title was : Judiciary\n",
      "False\n",
      "title was : Pensions and Retirement and Aging\n",
      "False\n",
      "title was : Regulatory Reform\n",
      "False\n",
      "title was : Rules and Operations of the Senate\n",
      "False\n",
      "title was : State and Local Government\n",
      "False\n",
      "title was : Transportation\n"
     ]
    }
   ],
   "source": [
    "import fnmatch\n",
    "\n",
    "\n",
    "hrefs = {}\n",
    "for l in links:\n",
    "    if 'NonStanding' in str(l):\n",
    "        continue\n",
    "    elif 'Standing' in str(l):\n",
    "        half_link = str(l).split('href=\"', 1)[-1].split('\">', 1)[0].strip()\n",
    "        link = f'https://www.ncleg.gov{half_link}'\n",
    "        title = str(l).split('title\">', 1)[-1].split(\"</span\",1)[0].strip()\n",
    "        keywords = [\"[Hh]ealth\", \"[Ee]ducation\"]\n",
    "        res = bool(list(filter(lambda x: fnmatch.fnmatch(title, x), keywords)))\n",
    "        print(res)\n",
    "        if res is True:\n",
    "            hrefs[title] = link\n",
    "        else:\n",
    "            print(f'title was : {title}')\n"
   ]
  },
  {
   "cell_type": "code",
   "execution_count": 60,
   "metadata": {},
   "outputs": [
    {
     "name": "stdout",
     "output_type": "stream",
     "text": [
      "Health\n",
      "https://www.ncleg.gov/Committees/CommitteeInfo/HouseStanding/26\n"
     ]
    }
   ],
   "source": [
    "for k,v in hrefs.items():\n",
    "    print(k)\n",
    "    print(v)"
   ]
  },
  {
   "cell_type": "markdown",
   "metadata": {},
   "source": [
    "%%"
   ]
  },
  {
   "cell_type": "code",
   "execution_count": 13,
   "metadata": {},
   "outputs": [],
   "source": [
    "file = r\"C:\\Users\\clutz\\OneDrive - THE HUNT INSTITUTE\\Documents\\Data\\legislator data\\committees_data.xlsx\""
   ]
  },
  {
   "cell_type": "code",
   "execution_count": 50,
   "metadata": {},
   "outputs": [
    {
     "name": "stdout",
     "output_type": "stream",
     "text": [
      "    branch                                     committee\n",
      "52   house                Education - Community Colleges\n",
      "53   house                      Education - Universities\n",
      "54   house          Families, Children, and Aging Policy\n",
      "55   house                              Education - K-12\n",
      "56   house                     Appropriations, Education\n",
      "57   house                                        Health\n",
      "58  senate  Appropriations on Education/Higher Education\n",
      "59  senate                    Education/Higher Education\n",
      "60  senate                                   Health Care\n"
     ]
    }
   ],
   "source": [
    "coms = pd.read_excel(file)\n",
    "nc_coms = coms[coms['state'] == \"NC\"].loc[:,['branch', 'committee']]\n",
    "print(nc_coms.to_string())\n",
    "comms = nc_coms['committee'].to_list()\n",
    "# print(*comms, sep='\\n')"
   ]
  },
  {
   "cell_type": "markdown",
   "metadata": {},
   "source": [
    "%%"
   ]
  },
  {
   "cell_type": "code",
   "execution_count": null,
   "metadata": {},
   "outputs": [],
   "source": [
    "members_list = []\n",
    "for i,url in enumerate(nc_coms['url']):\n",
    "    print(\"#######################\")\n",
    "    print(url)\n",
    "    url = nc_coms['url'].iloc[i]\n",
    "    print(nc_coms['committee'].iloc[i])\n",
    "    driver.get(url)\n",
    "    \n",
    "    \n",
    "    time.sleep(3)\n",
    "\n",
    "    # html_from_page = driver.page_source\n",
    "    \n",
    "    # Find all matching divs\n",
    "    xpath_expression = '//*[@id=\"Membership\"]'\n",
    "    divs = driver.find_elements(By.XPATH, xpath_expression)\n",
    "    if len(divs) == 1:\n",
    "        text = divs[0].text\n",
    "    elif len(divs) > 1:\n",
    "        print(\"more than one matching div\")\n",
    "    else:\n",
    "        print('no matching divs')\n",
    "    members = text.split('\\n')\n",
    "    members_df = pd.DataFrame({\"member\": members})\n",
    "    members_df['roles'] = members_df['member'].apply(lambda x: 'chair' if 'chair' in x.lower() else ('member' if 'member' in x.lower() else np.nan))\n",
    "    members_df['member'] = members_df['member'].apply(lambda x: np.nan if 'chair' in x.lower() else (np.nan if 'member' in x.lower() else x))\n",
    "    # members_df['member'] = members_df['roles'].apply(lambda x: x if 'nan' in str(x).lower() else np.nan)\n",
    "    members_df['committee'] = str(nc_coms['committee'].iloc[i])\n",
    "    members_df['roles'] = members_df['roles'].ffill()\n",
    "    members_df = members_df.dropna(subset=['member'])\n",
    "    members_list.append(members_df)\n",
    "# %%\n",
    "nc_coms_members = pd.concat(members_list)\n",
    "nc_coms_members.reset_index(inplace=True, drop=True)"
   ]
  },
  {
   "cell_type": "code",
   "execution_count": null,
   "metadata": {},
   "outputs": [],
   "source": [
    "nc_coms_members = nc_coms_members[nc_coms_members['member'].str.contains('sen.', regex=True, case=False)]\n",
    "nc_coms_members['member'] = nc_coms_members['member'].fillna('').astype(str).str.replace('Sen.', '').str.strip().str.split(' ').str[-1]\n",
    "os.chdir(r'C:\\Users\\clutz\\OneDrive - THE HUNT INSTITUTE\\Documents\\Data\\legislator data')\n",
    "nc_coms_members.to_csv('nc_coms_members.csv', index=False)\n",
    "# %%\n",
    "driver.quit()"
   ]
  },
  {
   "cell_type": "markdown",
   "metadata": {},
   "source": [
    "%%    "
   ]
  },
  {
   "cell_type": "code",
   "execution_count": null,
   "metadata": {},
   "outputs": [],
   "source": [
    "    print(members)\n",
    "    # roles = []\n",
    "    for div in divs:\n",
    "        print('#######')\n",
    "        print(div.text)\n",
    "        members.append(div.text)\n",
    "    len(members)\n",
    "    members_df = pd.DataFrame({\"member\": members})\n",
    "    \n",
    "    "
   ]
  },
  {
   "cell_type": "code",
   "execution_count": null,
   "metadata": {},
   "outputs": [],
   "source": [
    "    for i,j in enumerate(members_df['member']):\n",
    "        if 'chair' in str(j).lower() or 'member' in str(j).lower():\n",
    "            \n",
    "    \n",
    "    response = requests.get(html_from_page, verify=False)\n",
    "    \n",
    "    tree = html.fromstring(response.content)\n",
    "    \n",
    "    divs = tree.xpath(xpath_expression)\n",
    "    for div in divs:\n",
    "        print(div.text_content())\n",
    "    \n",
    "    \n",
    "    \n",
    "    driver.get(url)\n",
    "    time.sleep(5)\n",
    "\n",
    "    # print(response.text)  # Check the raw HTML\n",
    "    html_from_page = driver.page_source\n",
    "        tree = html.fromstring(response.content)\n",
    "    \n",
    "    \n",
    "    soup = BeautifulSoup(html_from_page, 'html.parser')\n",
    "    print('\\n')\n",
    "\n",
    "    # member_cards = soup.find_all(\"div\",{id:\"Memberships\"})"
   ]
  },
  {
   "cell_type": "code",
   "execution_count": null,
   "metadata": {},
   "outputs": [],
   "source": [
    "    members = etree.HTML(str(soup))\n",
    "    print(members.xpath('//*[@id=\"Membership\"]')[0].text)\n",
    "    # for m in member_cards:\n",
    "    #     print(\"######################\")\n",
    "    #     print(m)\n",
    "    #     print(\"\\n\")\n",
    "    # print(member_cards.text)"
   ]
  },
  {
   "cell_type": "markdown",
   "metadata": {},
   "source": [
    "%%"
   ]
  },
  {
   "cell_type": "code",
   "execution_count": null,
   "metadata": {},
   "outputs": [],
   "source": [
    "soup = BeautifulSoup(r.text, 'html5lib') # If this line causes an error, run 'pip install html5lib' or install html5lib\n",
    "# %%\n",
    "links = soup.find_all('a')"
   ]
  },
  {
   "cell_type": "code",
   "execution_count": null,
   "metadata": {},
   "outputs": [],
   "source": [
    "commitee_urls = {}\n",
    "base_url = 'https://www.ncleg.gov'\n",
    "for link in links:\n",
    "    href = link.get('href', '')\n",
    "    full_url = base_url+href\n",
    "    text = link.get_text(strip=True)\n",
    "    if 'SenateStanding' in href or 'SenateStanding' in text:\n",
    "        if 'Education' in text or \"Health Care\" in text:\n",
    "            commitee_urls[text] = full_url \n",
    "for k,v in commitee_urls.items():\n",
    "    print(k) \n",
    "    print(v)\n",
    "# %%        \n",
    "base_url = 'https://www.ncleg.gov'\n",
    "full_committee_urls = [base_url + url if url.startswith('/') else url for url in committee_urls]"
   ]
  },
  {
   "cell_type": "markdown",
   "metadata": {},
   "source": [
    "%%<br>\n",
    "Send a GET request to the page"
   ]
  },
  {
   "cell_type": "code",
   "execution_count": null,
   "metadata": {},
   "outputs": [],
   "source": [
    "response = requests.get(url)\n",
    "response.raise_for_status()  # Check that the request was successful"
   ]
  },
  {
   "cell_type": "markdown",
   "metadata": {},
   "source": [
    "Parse the page content"
   ]
  },
  {
   "cell_type": "code",
   "execution_count": null,
   "metadata": {},
   "outputs": [],
   "source": [
    "soup = BeautifulSoup(response.text, 'html.parser')"
   ]
  },
  {
   "cell_type": "markdown",
   "metadata": {},
   "source": [
    "Find all links related to committees"
   ]
  },
  {
   "cell_type": "code",
   "execution_count": null,
   "metadata": {},
   "outputs": [],
   "source": [
    "committee_links = soup.find_all('a', href=True)"
   ]
  },
  {
   "cell_type": "markdown",
   "metadata": {},
   "source": [
    "Extract URLs and filter out non-committee links"
   ]
  },
  {
   "cell_type": "code",
   "execution_count": null,
   "metadata": {},
   "outputs": [],
   "source": [
    "committee_urls = [link['href'] for link in committee_links if 'Committee' in link.text]"
   ]
  },
  {
   "cell_type": "markdown",
   "metadata": {},
   "source": [
    "Print the extracted URLs"
   ]
  },
  {
   "cell_type": "code",
   "execution_count": null,
   "metadata": {},
   "outputs": [],
   "source": [
    "for url in committee_urls:\n",
    "    print(url)"
   ]
  },
  {
   "cell_type": "markdown",
   "metadata": {},
   "source": [
    "Optional: If you need to get the full URLs, prepend the base URL"
   ]
  },
  {
   "cell_type": "code",
   "execution_count": null,
   "metadata": {},
   "outputs": [],
   "source": [
    "base_url = 'https://www.ncleg.gov'\n",
    "full_committee_urls = [base_url + url if url.startswith('/') else url for url in committee_urls]"
   ]
  },
  {
   "cell_type": "code",
   "execution_count": null,
   "metadata": {},
   "outputs": [],
   "source": [
    "print(\"\\nFull Committee URLs:\")\n",
    "for full_url in full_committee_urls:\n",
    "    print(full_url)"
   ]
  }
 ],
 "metadata": {
  "kernelspec": {
   "display_name": "hunt_env",
   "language": "python",
   "name": "python3"
  },
  "language_info": {
   "codemirror_mode": {
    "name": "ipython",
    "version": 3
   },
   "file_extension": ".py",
   "mimetype": "text/x-python",
   "name": "python",
   "nbconvert_exporter": "python",
   "pygments_lexer": "ipython3",
   "version": "3.12.5"
  }
 },
 "nbformat": 4,
 "nbformat_minor": 2
}
