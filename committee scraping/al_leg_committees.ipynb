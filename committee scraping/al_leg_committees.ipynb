{
 "cells": [
  {
   "cell_type": "code",
   "execution_count": 66,
   "metadata": {},
   "outputs": [],
   "source": [
    "import os, sys, json, datetime, re  # Provides OS-dependent functionality, system-specific parameters, JSON handling, and date/time manipulation\n",
    "import pandas as pd             # Provides data structures and data analysis tools\n",
    "import numpy as np              # Supports large, multi-dimensional arrays and matrices\n",
    "import requests\n",
    "import time\n",
    "from tqdm import tqdm\n",
    "import urllib3\n",
    "urllib3.disable_warnings(urllib3.exceptions.InsecureRequestWarning)\n",
    "from bs4 import BeautifulSoup\n",
    "from lxml import etree, html\n",
    "from selenium import webdriver\n",
    "from selenium.webdriver.common.by import By\n",
    "from selenium.webdriver.chrome.service import Service\n",
    "from selenium.webdriver.chrome.options import Options\n",
    "from selenium.webdriver.common.action_chains import ActionChains\n",
    "import time\n",
    "from selenium.webdriver.support.ui import WebDriverWait\n",
    "from selenium.webdriver.support import expected_conditions as EC\n",
    "\n",
    "from cprl_functions.state_capture import thi_states,state_ref, state_coding, state_pat, state_abv_pat\n",
    "from cprl_functions.text_printing import bordered\n",
    "from cprl_functions.defined_functions import create_pk, extract_title_and_name, get_recent_file\n",
    "from unidecode import unidecode\n",
    "\n",
    "from selenium import webdriver\n",
    "from selenium.webdriver.chrome.service import Service as ChromeService\n",
    "from webdriver_manager.chrome import ChromeDriverManager"
   ]
  },
  {
   "cell_type": "markdown",
   "metadata": {},
   "source": [
    "## Driver Set up"
   ]
  },
  {
   "cell_type": "code",
   "execution_count": 67,
   "metadata": {},
   "outputs": [],
   "source": [
    "webdriver_path = r\"C:\\Users\\clutz\\hunt_env\\chrome driver\\chromedriver-win64\\chromedriver.exe\"\n",
    "chrome_options = Options()\n",
    "# chrome_options.add_argument('--headless')\n",
    "# chrome_options.add_argument(\"--headless\")  # Run in headless mode (no GUI)\n",
    "# Set up WebDriver service\n",
    "service = Service(webdriver_path)"
   ]
  },
  {
   "cell_type": "code",
   "execution_count": 68,
   "metadata": {},
   "outputs": [],
   "source": [
    "#call on driver and get data\n",
    "driver = webdriver.Chrome(service=ChromeService(ChromeDriverManager().install()), options=chrome_options)\n"
   ]
  },
  {
   "cell_type": "code",
   "execution_count": 69,
   "metadata": {},
   "outputs": [],
   "source": [
    "house_url = \"https://alison.legislature.state.al.us/committees-house-standing-current\"\n",
    "senate_url = \"https://alison.legislature.state.al.us/committees-senate-standing-current-year\""
   ]
  },
  {
   "cell_type": "code",
   "execution_count": 70,
   "metadata": {},
   "outputs": [],
   "source": [
    "def clean_string(s):\n",
    "    return s.strip().lower()"
   ]
  },
  {
   "cell_type": "code",
   "execution_count": 71,
   "metadata": {},
   "outputs": [
    {
     "name": "stdout",
     "output_type": "stream",
     "text": [
      "['committe', 'education policy', 'children and youth health', 'finance and taxation general fund', 'finance and taxation education', 'education policy', 'children and youth health']\n"
     ]
    }
   ],
   "source": [
    "#senate com setup\n",
    "s_com_names = \"\"\"\n",
    "    Committe\n",
    "Education Policy\n",
    "Children and Youth Health\n",
    "Finance and Taxation General Fund\n",
    "Finance and Taxation Education\n",
    "Education Policy\n",
    "Children and Youth Health\n",
    "    \"\"\"\n",
    "s_com_names = list(map(clean_string, s_com_names.split('\\n')))\n",
    "s_com_names = [x for x in s_com_names if len(x) > 0]\n",
    "print(s_com_names)\n"
   ]
  },
  {
   "cell_type": "code",
   "execution_count": 72,
   "metadata": {},
   "outputs": [
    {
     "name": "stdout",
     "output_type": "stream",
     "text": [
      "['children and senior advocacy', 'education policy', 'ways and means education', 'ways and means general fund']\n"
     ]
    }
   ],
   "source": [
    "#house com setup\n",
    "h_com_names = \"\"\"\n",
    "    Children and Senior Advocacy\n",
    "    Education Policy\n",
    "    Ways and Means Education\n",
    "    Ways and Means General Fund \n",
    "    \"\"\"\n",
    "h_com_names = list(map(clean_string, h_com_names.split('\\n')))\n",
    "h_com_names = [x for x in h_com_names if len(x) > 0]\n",
    "print(h_com_names)\n"
   ]
  },
  {
   "cell_type": "code",
   "execution_count": 73,
   "metadata": {},
   "outputs": [],
   "source": [
    "# testing chunk\n",
    "# driver.get(house_url)\n",
    "# time.sleep(2)\n",
    "# elements = driver.find_elements(By.XPATH, \"//button[@aria-label='Next Page']\")\n",
    "\n",
    "# processed = []\n",
    "# # print(elements)\n",
    "# for ele in elements:\n",
    "#     print(ele)\n",
    "#     ele.click()"
   ]
  },
  {
   "cell_type": "code",
   "execution_count": null,
   "metadata": {},
   "outputs": [],
   "source": [
    "#split text, clean, and append\n",
    "def split_and_clean(element):\n",
    "    text_split = element.text.split('\\n')\n",
    "    com_name = text_split[0]\n",
    "    com_name = clean_string(com_name)\n",
    "    # print(com_name)\n",
    "\n",
    "    return com_name\n",
    "\n",
    "\n",
    "def look_for_coms(app_list, chamber):\n",
    "    elements = driver.find_elements(By.XPATH, \"//tr[@role='button']\")\n",
    "    # print(f'length of elements results: {len(elements)}')\n",
    "    for ele in elements:\n",
    "        # print(ele)\n",
    "        com_name = split_and_clean(ele)\n",
    "        if chamber == \"house\":\n",
    "            if com_name in h_com_names:\n",
    "                app_list.append(ele)\n",
    "                # print(f'appended {com_name}')\n",
    "        if chamber == \"senate\":\n",
    "            if com_name in s_com_names:\n",
    "                app_list.append(ele)\n",
    "            # print(f'appended {com_name}')\n",
    "\n",
    "\n",
    "def look_for_coms_by_keywords(app_list):\n",
    "    #find committee rows\n",
    "    elements = driver.find_elements(By.XPATH, \"//tr[@role='button']\")\n",
    "    # print(f'length of elements results: {len(elements)}')\n",
    "    keywords = ['[Ee]ducation', '[Cc]hildren', '[Yy]oung']\n",
    "    pat = re.compile(\"|\".join(keywords))\n",
    "    for ele in elements:\n",
    "        # print(ele)\n",
    "    \n",
    "        \n",
    "        com_name = split_and_clean(ele)\n",
    "        if re.search(pat,com_name):\n",
    "            app_list.append(ele)\n",
    "\n",
    "\n",
    "    "
   ]
  },
  {
   "cell_type": "code",
   "execution_count": 75,
   "metadata": {},
   "outputs": [
    {
     "name": "stdout",
     "output_type": "stream",
     "text": [
      "[<selenium.webdriver.remote.webelement.WebElement (session=\"43dd50451b5ce31d55dbfc14eacc71d8\", element=\"f.4D6FFF93B8D9BE8937AAF8574364FEFA.d.71DA3AA6C74AAC9E9857AE442A02A265.e.25\")>, <selenium.webdriver.remote.webelement.WebElement (session=\"43dd50451b5ce31d55dbfc14eacc71d8\", element=\"f.4D6FFF93B8D9BE8937AAF8574364FEFA.d.71DA3AA6C74AAC9E9857AE442A02A265.e.30\")>, <selenium.webdriver.remote.webelement.WebElement (session=\"43dd50451b5ce31d55dbfc14eacc71d8\", element=\"f.4D6FFF93B8D9BE8937AAF8574364FEFA.d.71DA3AA6C74AAC9E9857AE442A02A265.e.77\")>, <selenium.webdriver.remote.webelement.WebElement (session=\"43dd50451b5ce31d55dbfc14eacc71d8\", element=\"f.4D6FFF93B8D9BE8937AAF8574364FEFA.d.71DA3AA6C74AAC9E9857AE442A02A265.e.78\")>]\n"
     ]
    }
   ],
   "source": [
    "#house comm info\n",
    "driver.get(house_url)\n",
    "time.sleep(2)\n",
    "\n",
    "\n",
    "processed_h = []\n",
    "while len(h_com_names) > len(processed_h):\n",
    "#first look\n",
    "    page_processed = []\n",
    "    look_for_coms(page_processed, \"house\")\n",
    "    for ele in page_processed:\n",
    "        time.sleep(1)\n",
    "        ele.click()\n",
    "\n",
    "        download_button = driver.find_element(By.XPATH, \"//button[@aria-label='Download CSV']\")\n",
    "        driver.execute_script(\"arguments[0].click();\", download_button)\n",
    "\n",
    "        # download = driver.find_element(By.XPATH, \"//button[@aria-label='Download CSV']\")\n",
    "        # download.click()\n",
    "        time.sleep(1)\n",
    "        close = driver.find_element(By.XPATH, \"//button[starts-with(@aria-label, 'Close')]\")\n",
    "        close.click()\n",
    "        processed_h.append(ele)\n",
    "\n",
    "\n",
    "\n",
    "    next_page = driver.find_element(By.XPATH, \"//button[@aria-label='Next Page']\")\n",
    "    next_page.click()\n",
    "    time.sleep(2)\n",
    "    \n",
    "print(processed_h)"
   ]
  },
  {
   "cell_type": "code",
   "execution_count": 84,
   "metadata": {},
   "outputs": [
    {
     "name": "stdout",
     "output_type": "stream",
     "text": [
      "1\n"
     ]
    },
    {
     "ename": "InvalidSelectorException",
     "evalue": "Message: invalid selector: Unable to locate an element with the xpath expression //button[@aria-label='Download CSV' and starts-with(@id='headlessui')] because of the following error:\nSyntaxError: Failed to execute 'evaluate' on 'Document': The string '//button[@aria-label='Download CSV' and starts-with(@id='headlessui')]' is not a valid XPath expression.\n  (Session info: chrome=134.0.6998.36); For documentation on this error, please visit: https://www.selenium.dev/documentation/webdriver/troubleshooting/errors#invalid-selector-exception\nStacktrace:\n\tGetHandleVerifier [0x00E6B5A3+24387]\n\t(No symbol) [0x00DF5904]\n\t(No symbol) [0x00CD0753]\n\t(No symbol) [0x00CD7137]\n\t(No symbol) [0x00CD93AA]\n\t(No symbol) [0x00CD9427]\n\t(No symbol) [0x00D18431]\n\t(No symbol) [0x00D18EFB]\n\t(No symbol) [0x00D619C2]\n\t(No symbol) [0x00D3D894]\n\t(No symbol) [0x00D5F138]\n\t(No symbol) [0x00D3D646]\n\t(No symbol) [0x00D0C59F]\n\t(No symbol) [0x00D0D8E4]\n\tGetHandleVerifier [0x0116D883+3179043]\n\tGetHandleVerifier [0x01186CF9+3282585]\n\tGetHandleVerifier [0x0118167C+3260444]\n\tGetHandleVerifier [0x00F04330+650448]\n\t(No symbol) [0x00DFED0D]\n\t(No symbol) [0x00DFBAF8]\n\t(No symbol) [0x00DFBC99]\n\t(No symbol) [0x00DEE530]\n\tBaseThreadInitThunk [0x75F05D49+25]\n\tRtlInitializeExceptionChain [0x770CCDEB+107]\n\tRtlGetAppContainerNamedObjectPath [0x770CCD71+561]\n",
     "output_type": "error",
     "traceback": [
      "\u001b[1;31m---------------------------------------------------------------------------\u001b[0m",
      "\u001b[1;31mInvalidSelectorException\u001b[0m                  Traceback (most recent call last)",
      "Cell \u001b[1;32mIn[84], line 21\u001b[0m\n\u001b[0;32m     19\u001b[0m     ele\u001b[38;5;241m.\u001b[39mclick()\n\u001b[0;32m     20\u001b[0m     time\u001b[38;5;241m.\u001b[39msleep(\u001b[38;5;241m2\u001b[39m)\n\u001b[1;32m---> 21\u001b[0m     download_button \u001b[38;5;241m=\u001b[39m \u001b[43mdriver\u001b[49m\u001b[38;5;241;43m.\u001b[39;49m\u001b[43mfind_element\u001b[49m\u001b[43m(\u001b[49m\u001b[43mBy\u001b[49m\u001b[38;5;241;43m.\u001b[39;49m\u001b[43mXPATH\u001b[49m\u001b[43m,\u001b[49m\u001b[43m \u001b[49m\u001b[38;5;124;43m\"\u001b[39;49m\u001b[38;5;124;43m//button[@aria-label=\u001b[39;49m\u001b[38;5;124;43m'\u001b[39;49m\u001b[38;5;124;43mDownload CSV\u001b[39;49m\u001b[38;5;124;43m'\u001b[39;49m\u001b[38;5;124;43m and starts-with(@id=\u001b[39;49m\u001b[38;5;124;43m'\u001b[39;49m\u001b[38;5;124;43mheadlessui\u001b[39;49m\u001b[38;5;124;43m'\u001b[39;49m\u001b[38;5;124;43m)]\u001b[39;49m\u001b[38;5;124;43m\"\u001b[39;49m\u001b[43m)\u001b[49m\n\u001b[0;32m     22\u001b[0m     driver\u001b[38;5;241m.\u001b[39mexecute_script(\u001b[38;5;124m\"\u001b[39m\u001b[38;5;124marguments[0].click();\u001b[39m\u001b[38;5;124m\"\u001b[39m, download_button)\n\u001b[0;32m     24\u001b[0m \u001b[38;5;66;03m# download = driver.find_element(By.XPATH, \"//button[@aria-label='Download CSV']\")\u001b[39;00m\n\u001b[0;32m     25\u001b[0m \u001b[38;5;66;03m# download.click()\u001b[39;00m\n",
      "File \u001b[1;32mc:\\Users\\clutz\\hunt_env\\Lib\\site-packages\\selenium\\webdriver\\remote\\webdriver.py:748\u001b[0m, in \u001b[0;36mWebDriver.find_element\u001b[1;34m(self, by, value)\u001b[0m\n\u001b[0;32m    745\u001b[0m     by \u001b[38;5;241m=\u001b[39m By\u001b[38;5;241m.\u001b[39mCSS_SELECTOR\n\u001b[0;32m    746\u001b[0m     value \u001b[38;5;241m=\u001b[39m \u001b[38;5;124mf\u001b[39m\u001b[38;5;124m'\u001b[39m\u001b[38;5;124m[name=\u001b[39m\u001b[38;5;124m\"\u001b[39m\u001b[38;5;132;01m{\u001b[39;00mvalue\u001b[38;5;132;01m}\u001b[39;00m\u001b[38;5;124m\"\u001b[39m\u001b[38;5;124m]\u001b[39m\u001b[38;5;124m'\u001b[39m\n\u001b[1;32m--> 748\u001b[0m \u001b[38;5;28;01mreturn\u001b[39;00m \u001b[38;5;28;43mself\u001b[39;49m\u001b[38;5;241;43m.\u001b[39;49m\u001b[43mexecute\u001b[49m\u001b[43m(\u001b[49m\u001b[43mCommand\u001b[49m\u001b[38;5;241;43m.\u001b[39;49m\u001b[43mFIND_ELEMENT\u001b[49m\u001b[43m,\u001b[49m\u001b[43m \u001b[49m\u001b[43m{\u001b[49m\u001b[38;5;124;43m\"\u001b[39;49m\u001b[38;5;124;43musing\u001b[39;49m\u001b[38;5;124;43m\"\u001b[39;49m\u001b[43m:\u001b[49m\u001b[43m \u001b[49m\u001b[43mby\u001b[49m\u001b[43m,\u001b[49m\u001b[43m \u001b[49m\u001b[38;5;124;43m\"\u001b[39;49m\u001b[38;5;124;43mvalue\u001b[39;49m\u001b[38;5;124;43m\"\u001b[39;49m\u001b[43m:\u001b[49m\u001b[43m \u001b[49m\u001b[43mvalue\u001b[49m\u001b[43m}\u001b[49m\u001b[43m)\u001b[49m[\u001b[38;5;124m\"\u001b[39m\u001b[38;5;124mvalue\u001b[39m\u001b[38;5;124m\"\u001b[39m]\n",
      "File \u001b[1;32mc:\\Users\\clutz\\hunt_env\\Lib\\site-packages\\selenium\\webdriver\\remote\\webdriver.py:354\u001b[0m, in \u001b[0;36mWebDriver.execute\u001b[1;34m(self, driver_command, params)\u001b[0m\n\u001b[0;32m    352\u001b[0m response \u001b[38;5;241m=\u001b[39m \u001b[38;5;28mself\u001b[39m\u001b[38;5;241m.\u001b[39mcommand_executor\u001b[38;5;241m.\u001b[39mexecute(driver_command, params)\n\u001b[0;32m    353\u001b[0m \u001b[38;5;28;01mif\u001b[39;00m response:\n\u001b[1;32m--> 354\u001b[0m     \u001b[38;5;28;43mself\u001b[39;49m\u001b[38;5;241;43m.\u001b[39;49m\u001b[43merror_handler\u001b[49m\u001b[38;5;241;43m.\u001b[39;49m\u001b[43mcheck_response\u001b[49m\u001b[43m(\u001b[49m\u001b[43mresponse\u001b[49m\u001b[43m)\u001b[49m\n\u001b[0;32m    355\u001b[0m     response[\u001b[38;5;124m\"\u001b[39m\u001b[38;5;124mvalue\u001b[39m\u001b[38;5;124m\"\u001b[39m] \u001b[38;5;241m=\u001b[39m \u001b[38;5;28mself\u001b[39m\u001b[38;5;241m.\u001b[39m_unwrap_value(response\u001b[38;5;241m.\u001b[39mget(\u001b[38;5;124m\"\u001b[39m\u001b[38;5;124mvalue\u001b[39m\u001b[38;5;124m\"\u001b[39m, \u001b[38;5;28;01mNone\u001b[39;00m))\n\u001b[0;32m    356\u001b[0m     \u001b[38;5;28;01mreturn\u001b[39;00m response\n",
      "File \u001b[1;32mc:\\Users\\clutz\\hunt_env\\Lib\\site-packages\\selenium\\webdriver\\remote\\errorhandler.py:229\u001b[0m, in \u001b[0;36mErrorHandler.check_response\u001b[1;34m(self, response)\u001b[0m\n\u001b[0;32m    227\u001b[0m         alert_text \u001b[38;5;241m=\u001b[39m value[\u001b[38;5;124m\"\u001b[39m\u001b[38;5;124malert\u001b[39m\u001b[38;5;124m\"\u001b[39m]\u001b[38;5;241m.\u001b[39mget(\u001b[38;5;124m\"\u001b[39m\u001b[38;5;124mtext\u001b[39m\u001b[38;5;124m\"\u001b[39m)\n\u001b[0;32m    228\u001b[0m     \u001b[38;5;28;01mraise\u001b[39;00m exception_class(message, screen, stacktrace, alert_text)  \u001b[38;5;66;03m# type: ignore[call-arg]  # mypy is not smart enough here\u001b[39;00m\n\u001b[1;32m--> 229\u001b[0m \u001b[38;5;28;01mraise\u001b[39;00m exception_class(message, screen, stacktrace)\n",
      "\u001b[1;31mInvalidSelectorException\u001b[0m: Message: invalid selector: Unable to locate an element with the xpath expression //button[@aria-label='Download CSV' and starts-with(@id='headlessui')] because of the following error:\nSyntaxError: Failed to execute 'evaluate' on 'Document': The string '//button[@aria-label='Download CSV' and starts-with(@id='headlessui')]' is not a valid XPath expression.\n  (Session info: chrome=134.0.6998.36); For documentation on this error, please visit: https://www.selenium.dev/documentation/webdriver/troubleshooting/errors#invalid-selector-exception\nStacktrace:\n\tGetHandleVerifier [0x00E6B5A3+24387]\n\t(No symbol) [0x00DF5904]\n\t(No symbol) [0x00CD0753]\n\t(No symbol) [0x00CD7137]\n\t(No symbol) [0x00CD93AA]\n\t(No symbol) [0x00CD9427]\n\t(No symbol) [0x00D18431]\n\t(No symbol) [0x00D18EFB]\n\t(No symbol) [0x00D619C2]\n\t(No symbol) [0x00D3D894]\n\t(No symbol) [0x00D5F138]\n\t(No symbol) [0x00D3D646]\n\t(No symbol) [0x00D0C59F]\n\t(No symbol) [0x00D0D8E4]\n\tGetHandleVerifier [0x0116D883+3179043]\n\tGetHandleVerifier [0x01186CF9+3282585]\n\tGetHandleVerifier [0x0118167C+3260444]\n\tGetHandleVerifier [0x00F04330+650448]\n\t(No symbol) [0x00DFED0D]\n\t(No symbol) [0x00DFBAF8]\n\t(No symbol) [0x00DFBC99]\n\t(No symbol) [0x00DEE530]\n\tBaseThreadInitThunk [0x75F05D49+25]\n\tRtlInitializeExceptionChain [0x770CCDEB+107]\n\tRtlGetAppContainerNamedObjectPath [0x770CCD71+561]\n"
     ]
    }
   ],
   "source": [
    "#senate comm info\n",
    "driver.get(senate_url)\n",
    "time.sleep(2)\n",
    "\n",
    "from selenium.common.exceptions import WebDriverException\n",
    "\n",
    "processed_s = []\n",
    "i = 0\n",
    "while i < 5:\n",
    "#first look\n",
    "    i += 1\n",
    "    print(i)\n",
    "\n",
    "    look_for_coms_by_keywords(processed_s)\n",
    "    # next_page = driver.find_element(By.XPATH, \"//button[@aria-label='Next Page']\")\n",
    "    \n",
    "    # next_page.click()\n",
    "    for ele in processed_s:\n",
    "        ele.click()\n",
    "        time.sleep(2)\n",
    "        download_button = driver.find_element(By.XPATH, \"//button[@aria-label='Download CSV' and starts-with(@id='headlessui')]\")\n",
    "        driver.execute_script(\"arguments[0].click();\", download_button)\n",
    "    \n",
    "    # download = driver.find_element(By.XPATH, \"//button[@aria-label='Download CSV']\")\n",
    "    # download.click()\n",
    "    time.sleep(1)\n",
    "    # close = driver.find_element(By.XPATH, \"//button[starts-with(@aria-label, 'Close')]\")\n",
    "    # close.click()\n",
    "    # print(\"clicked\")\n",
    "next_page = driver.find_element(By.XPATH, \"//button[@aria-label='Next Page']\")\n",
    "next_page.click()\n",
    "time.sleep(2)\n",
    "\n",
    "# /html/body/div[4]/div[3]/div/div/div[2]/div[2]/div/div[1]/div/button[1]\n",
    "# //*[@id=\"headlessui-dialog-panel-25\"]/div[2]/div/div[1]/div/button[1]\n",
    "\n",
    "print(processed_s)\n"
   ]
  },
  {
   "cell_type": "code",
   "execution_count": null,
   "metadata": {},
   "outputs": [],
   "source": [
    "processed = processed_s + processed_h\n",
    "\n",
    "for p in processed:\n",
    "    "
   ]
  },
  {
   "cell_type": "code",
   "execution_count": 52,
   "metadata": {},
   "outputs": [
    {
     "name": "stdout",
     "output_type": "stream",
     "text": [
      "['children and youth health', 'education policy', 'finance and taxation education', 'finance and taxation general fund']\n",
      "['committee', 'finance and taxation general fund', 'finance and taxation education', 'education policy', 'children and youth health', 'finance and taxation general fund', 'finance and taxation education', 'education policy', 'children and youth health']\n"
     ]
    }
   ],
   "source": [
    "print(processed)\n",
    "print(s_com_names)"
   ]
  },
  {
   "cell_type": "code",
   "execution_count": null,
   "metadata": {},
   "outputs": [],
   "source": [
    "\n",
    "\n",
    "\n",
    "\n",
    "html_from_page = driver.page_source\n",
    "soup = BeautifulSoup(html_from_page, 'html.parser')\n",
    "links = soup.find_all(\"a\", href = True)\n",
    "print(links)\n",
    "\n"
   ]
  },
  {
   "cell_type": "code",
   "execution_count": null,
   "metadata": {},
   "outputs": [],
   "source": [
    "\n",
    "page_url = r'https://www.ncleg.gov/Committees#HouseStanding'\n",
    "driver.get(page_url)\n",
    "\n",
    "html_from_page = driver.page_source\n",
    "soup = BeautifulSoup(html_from_page, 'html.parser')\n",
    "\n",
    "links = soup.find_all(\"a\", {\"class\": \"list-group-item list-group-item-action filteredGroup searchable\"})\n"
   ]
  },
  {
   "cell_type": "code",
   "execution_count": null,
   "metadata": {},
   "outputs": [],
   "source": [
    "import os, sys, json, datetime, re  # Provides OS-dependent functionality, system-specific parameters, JSON handling, and date/time manipulation\n",
    "import pandas as pd             # Provides data structures and data analysis tools\n",
    "import numpy as np              # Supports large, multi-dimensional arrays and matrices\n",
    "import requests\n",
    "import time\n",
    "from tqdm import tqdm\n",
    "\n",
    "from bs4 import BeautifulSoup"
   ]
  },
  {
   "cell_type": "code",
   "execution_count": null,
   "metadata": {},
   "outputs": [],
   "source": [
    "response = requests.get(url, verify = False).content\n",
    "df_list = pd.read_html(response)\n",
    "print(type(df_list[0]))\n",
    "df = df_list[0]"
   ]
  },
  {
   "cell_type": "markdown",
   "metadata": {},
   "source": [
    "%% For AL"
   ]
  },
  {
   "cell_type": "markdown",
   "metadata": {},
   "source": [
    "\n",
    "<br>\n",
    "This will require committee names <br>\n",
    "to match what is on the website.<br>\n",
    "***double check that this is the case****<br>\n"
   ]
  },
  {
   "cell_type": "code",
   "execution_count": null,
   "metadata": {},
   "outputs": [],
   "source": [
    "from selenium import webdriver\n",
    "from selenium.webdriver.common.by import By\n",
    "from selenium.webdriver.chrome.service import Service\n",
    "from selenium.webdriver.chrome.options import Options\n",
    "from selenium.webdriver.common.action_chains import ActionChains\n",
    "import time\n",
    "from selenium.webdriver.support.ui import WebDriverWait\n",
    "from selenium.webdriver.support import expected_conditions as EC"
   ]
  },
  {
   "cell_type": "markdown",
   "metadata": {},
   "source": [
    "Path to your WebDriver executable (adjust if necessary)"
   ]
  },
  {
   "cell_type": "code",
   "execution_count": null,
   "metadata": {},
   "outputs": [],
   "source": [
    "webdriver_path = r\"C:\\Users\\clutz\\hunt_env\\chrome driver\\chromedriver-win64\\chromedriver.exe\""
   ]
  },
  {
   "cell_type": "markdown",
   "metadata": {},
   "source": [
    "Set up Chrome options"
   ]
  },
  {
   "cell_type": "code",
   "execution_count": null,
   "metadata": {},
   "outputs": [],
   "source": [
    "chrome_options = Options()\n",
    "# chrome_options.add_argument(\"--headless\")  # Run in headless mode (no GUI)"
   ]
  },
  {
   "cell_type": "markdown",
   "metadata": {},
   "source": [
    "Set up WebDriver service"
   ]
  },
  {
   "cell_type": "code",
   "execution_count": null,
   "metadata": {},
   "outputs": [],
   "source": [
    "service = Service(webdriver_path)"
   ]
  },
  {
   "cell_type": "markdown",
   "metadata": {},
   "source": [
    "Initialize WebDriver"
   ]
  },
  {
   "cell_type": "code",
   "execution_count": null,
   "metadata": {},
   "outputs": [],
   "source": [
    "driver = webdriver.Chrome(service=service, options=chrome_options)"
   ]
  },
  {
   "cell_type": "markdown",
   "metadata": {},
   "source": [
    "%%% senate"
   ]
  },
  {
   "cell_type": "code",
   "execution_count": null,
   "metadata": {},
   "outputs": [],
   "source": [
    "dfs = {}\n",
    "try:\n",
    "    # Open the target URL\n",
    "    driver.get('https://alison.legislature.state.al.us/committees-senate-standing-current-year')\n",
    "\n",
    "    # Wait for the page to load and the tbody to be present\n",
    "    wait = WebDriverWait(driver, 20)\n",
    "\n",
    "    # Use a broader selector or additional waits to ensure the page is fully loaded\n",
    "    tbody = wait.until(EC.presence_of_element_located((By.CSS_SELECTOR, \"tbody\")))\n",
    "\n",
    "    # Debug: Print the HTML of the tbody to verify its presence\n",
    "    # print(tbody.get_attribute('outerHTML'))\n",
    "\n",
    "    # Find all rows within the tbody\n",
    "    rows = wait.until(EC.visibility_of_all_elements_located((By.CSS_SELECTOR, \"tbody tr\")))\n",
    "    #list of committee names (replace with logic to pull from csv and filter by appropriate state)\n",
    "    coms = ['Education Policy','Finance and Taxation Education','Finance and Taxation General Fund','Children and Youth Health','Healthcare']"
   ]
  },
  {
   "cell_type": "code",
   "execution_count": null,
   "metadata": {},
   "outputs": [],
   "source": [
    "    # go through each committee and check if relevant and save table to dict\n",
    "    for row in rows:\n",
    "        time.sleep(2)  # Adjust sleep time if necessary to allow the table to load\n",
    "        ActionChains(driver).move_to_element(row).click().perform()\n",
    "        time.sleep(2)  # Adjust sleep time if necessary to allow the table to load\n",
    "        html_from_page = driver.page_source\n",
    "        soup = BeautifulSoup(html_from_page, 'html.parser')\n",
    "        modal_div = soup.find_all(\"div\", class_= \"ReactModalPortal\")\n",
    "        for m in modal_div:\n",
    "            # print(m)\n",
    "            if len(str(m)) > 36:\n",
    "                div = m\n",
    "                break\n",
    "\n",
    "        # print(div)\n",
    "        header = div.find(\"h1\")\n",
    "        header = str(header).split('\">', 1)[-1].split('</h1', 1)[0].replace('Members','').strip()\n",
    "        pass_through = False\n",
    "        for h in coms:\n",
    "            if str(header) in h:\n",
    "                pass_through = True\n",
    "            else:\n",
    "                continue\n",
    "        #close if not a relevant committee\n",
    "        if pass_through != True:\n",
    "            print(str(header) + ' is not a valid committee')\n",
    "            close_button_pot = driver.find_element(By.XPATH, \"/html/body/div[6]/div/div/div/div[1]/button\")\n",
    "            # time.sleep(5)  # Adjust sleep time if necessary to allow the table to load\n",
    "            ActionChains(driver).move_to_element(close_button_pot).click().perform()\n",
    "            # time.sleep(5)  # Adjust sleep time if necessary to allow the table to load\n",
    "            continue\n",
    "        \n",
    "        #fetch table\n",
    "        df_list = pd.read_html(html_from_page)\n",
    "        df = df_list[-1]\n",
    "        \n",
    "       \n",
    "        #close popup\n",
    "        close_button_pot = driver.find_element(By.XPATH, \"/html/body/div[6]/div/div/div/div[1]/button\")\n",
    "        ActionChains(driver).move_to_element(close_button_pot).click().perform()\n",
    "        \n",
    "        # save table\n",
    "        dfs[header] = df"
   ]
  },
  {
   "cell_type": "code",
   "execution_count": null,
   "metadata": {},
   "outputs": [],
   "source": [
    "finally:\n",
    "    # Close the WebDriver\n",
    "    driver.quit()"
   ]
  },
  {
   "cell_type": "markdown",
   "metadata": {},
   "source": [
    "%%% house"
   ]
  },
  {
   "cell_type": "code",
   "execution_count": null,
   "metadata": {},
   "outputs": [],
   "source": [
    "dfs = {}\n",
    "try:\n",
    "    # Open the target URL\n",
    "    driver.get('https://alison.legislature.state.al.us/committees-house-standing-current')\n",
    "\n",
    "    # Wait for the page to load and the tbody to be present\n",
    "    wait = WebDriverWait(driver, 20)\n",
    "\n",
    "    # Use a broader selector or additional waits to ensure the page is fully loaded\n",
    "    tbody = wait.until(EC.presence_of_element_located((By.CSS_SELECTOR, \"tbody\")))\n",
    "\n",
    "    # Debug: Print the HTML of the tbody to verify its presence\n",
    "    # print(tbody.get_attribute('outerHTML'))\n",
    "    \n",
    "    coms = [\"Education Policy\",\"Ways and Means General Fund\",\"Ways and Means Education\",\"Health\",\"Children and Senior Advocacy\"]\n",
    "    \n",
    "    \n",
    "    \n",
    "    \n",
    "    # Find all rows within the tbody\n",
    "    rows = wait.until(EC.visibility_of_all_elements_located((By.CSS_SELECTOR, \"tbody tr\")))\n",
    "    #list of committee names (replace with logic to pull from csv and filter by appropriate state)\n",
    "\n",
    "    # go through each committee and check if relevant and save table to dict\n",
    "    for row in rows:\n",
    "        time.sleep(2)  # Adjust sleep time if necessary to allow the table to load\n",
    "        ActionChains(driver).move_to_element(row).click().perform()\n",
    "        time.sleep(2)  # Adjust sleep time if necessary to allow the table to load\n",
    "        html_from_page = driver.page_source\n",
    "        soup = BeautifulSoup(html_from_page, 'html.parser')\n",
    "        modal_div = soup.find_all(\"div\", class_= \"ReactModalPortal\")\n",
    "        for m in modal_div:\n",
    "            # print(m)\n",
    "            if len(str(m)) > 36:\n",
    "                div = m\n",
    "                break\n",
    "\n",
    "        # print(div)\n",
    "        header = div.find(\"h1\")\n",
    "        header = str(header).split('\">', 1)[-1].split('</h1', 1)[0].replace('Members','').strip()\n",
    "        pass_through = False\n",
    "        for h in coms:\n",
    "            if str(header) in h:\n",
    "                pass_through = True\n",
    "            else:\n",
    "                continue\n",
    "        #close if not a relevant committee\n",
    "        if pass_through != True:\n",
    "            print(str(header) + ' is not a valid committee')\n",
    "            close_button_pot = driver.find_element(By.XPATH, \"/html/body/div[6]/div/div/div/div[1]/button\")\n",
    "            # time.sleep(5)  # Adjust sleep time if necessary to allow the table to load\n",
    "            ActionChains(driver).move_to_element(close_button_pot).click().perform()\n",
    "            # time.sleep(5)  # Adjust sleep time if necessary to allow the table to load\n",
    "            continue\n",
    "        \n",
    "        #fetch table\n",
    "        df_list = pd.read_html(html_from_page)\n",
    "        df = df_list[-1]\n",
    "        \n",
    "       \n",
    "        #close popup\n",
    "        close_button_pot = driver.find_element(By.XPATH, \"/html/body/div[6]/div/div/div/div[1]/button\")\n",
    "        ActionChains(driver).move_to_element(close_button_pot).click().perform()\n",
    "        \n",
    "        # save table\n",
    "        dfs[header] = df"
   ]
  },
  {
   "cell_type": "code",
   "execution_count": null,
   "metadata": {},
   "outputs": [],
   "source": [
    "finally:\n",
    "    # Close the WebDriver\n",
    "    driver.quit()\n",
    "# %%\n",
    "for k,v in dfs.items():\n",
    "    print(k)\n",
    "    print(v)"
   ]
  },
  {
   "cell_type": "markdown",
   "metadata": {},
   "source": [
    "%%"
   ]
  },
  {
   "cell_type": "code",
   "execution_count": null,
   "metadata": {},
   "outputs": [],
   "source": [
    "headers = {'User-Agent': \"Mozilla/5.0 (Windows NT 10.0; Win64; x64) AppleWebKit/537.36 (KHTML, like Gecko) Chrome/42.0.2311.135 Safari/537.36 Edge/12.246\"}\n",
    "r = requests.get(url, headers=headers)"
   ]
  },
  {
   "cell_type": "markdown",
   "metadata": {},
   "source": [
    "%%"
   ]
  }
 ],
 "metadata": {
  "kernelspec": {
   "display_name": "hunt_env",
   "language": "python",
   "name": "python3"
  },
  "language_info": {
   "codemirror_mode": {
    "name": "ipython",
    "version": 3
   },
   "file_extension": ".py",
   "mimetype": "text/x-python",
   "name": "python",
   "nbconvert_exporter": "python",
   "pygments_lexer": "ipython3",
   "version": "3.12.5"
  }
 },
 "nbformat": 4,
 "nbformat_minor": 2
}
