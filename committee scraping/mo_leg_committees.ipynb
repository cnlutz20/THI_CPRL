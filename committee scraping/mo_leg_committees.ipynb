{
 "cells": [
  {
   "cell_type": "markdown",
   "metadata": {},
   "source": [
    "%%"
   ]
  },
  {
   "cell_type": "code",
   "execution_count": 53,
   "metadata": {},
   "outputs": [],
   "source": [
    "import os, sys, json, datetime, re  # Provides OS-dependent functionality, system-specific parameters, JSON handling, and date/time manipulation\n",
    "import pandas as pd             # Provides data structures and data analysis tools\n",
    "import numpy as np              # Supports large, multi-dimensional arrays and matrices\n",
    "import requests\n",
    "import time\n",
    "import glob\n",
    "# from tqdm import tqdm\n",
    "from tqdm.notebook import tqdm_notebook, tqdm\n",
    "import urllib3\n",
    "urllib3.disable_warnings(urllib3.exceptions.InsecureRequestWarning)\n",
    "from bs4 import BeautifulSoup\n",
    "from lxml import etree, html\n",
    "from selenium import webdriver\n",
    "from selenium.webdriver.common.by import By\n",
    "from selenium.webdriver.chrome.service import Service\n",
    "from selenium.webdriver.chrome.options import Options\n",
    "from selenium.webdriver.common.action_chains import ActionChains\n",
    "import time\n",
    "from selenium.webdriver.support.ui import WebDriverWait\n",
    "from selenium.webdriver.support import expected_conditions as EC\n",
    "\n",
    "from cprl_functions.state_capture import thi_states,state_ref, state_coding, state_pat, state_abv_pat\n",
    "from cprl_functions.text_printing import bordered\n",
    "from cprl_functions.defined_functions import create_pk, extract_title_and_name, get_recent_file\n",
    "from unidecode import unidecode\n",
    "\n",
    "from selenium import webdriver\n",
    "from selenium.webdriver.chrome.service import Service as ChromeService\n",
    "from webdriver_manager.chrome import ChromeDriverManager"
   ]
  },
  {
   "cell_type": "code",
   "execution_count": 54,
   "metadata": {},
   "outputs": [],
   "source": [
    "from bs4 import BeautifulSoup"
   ]
  },
  {
   "cell_type": "code",
   "execution_count": 55,
   "metadata": {},
   "outputs": [],
   "source": [
    "# aggregate chamber info list\n",
    "mo_com_dfs = {}"
   ]
  },
  {
   "cell_type": "code",
   "execution_count": 56,
   "metadata": {},
   "outputs": [],
   "source": [
    "def create_pk2(state, chamber, district, mls):\n",
    "    \n",
    "    if not re.search(r'^[A-Z]{2}$', state):\n",
    "        \n",
    "        error = 'func error: state is wrong'\n",
    "        return print(error)\n",
    "        \n",
    "\n",
    "    state_code = state_coding.get(state)\n",
    "    \n",
    "    if not re.search(r'[Hh]ouse|[Ss]enate', chamber):\n",
    "        error = 'func error: chamber wrong'\n",
    "        return print(error)\n",
    "    elif re.search(r'[Hh]ouse',chamber):\n",
    "        chamber_code = 0\n",
    "    else:\n",
    "        chamber_code = 1\n",
    "\n",
    "    if not re.search(r'^\\d+$', district):\n",
    "        return print('func error: district is more than just numbers')\n",
    "    else:\n",
    "        dist_code = str(district).strip().zfill(3)\n",
    "\n",
    "    if mls == 'y':\n",
    "        print('im not set up for that yet')\n",
    "    else:\n",
    "        seat = '00'\n",
    "\n",
    "    fpk = int(f'{state_code}{chamber_code}{dist_code}{seat}')\n",
    "    return fpk\n",
    "\n",
    "    "
   ]
  },
  {
   "cell_type": "markdown",
   "metadata": {},
   "source": [
    "# Senate"
   ]
  },
  {
   "cell_type": "code",
   "execution_count": 66,
   "metadata": {},
   "outputs": [
    {
     "name": "stdout",
     "output_type": "stream",
     "text": [
      "Index(['chamber', 'com_name', 'name', 'role', 'district'], dtype='object')\n"
     ]
    }
   ],
   "source": [
    "file = r'c:\\Users\\clutz\\THE HUNT INSTITUTE\\The Hunt Institute Team Site - Documents\\Development (formerly Grants Management)\\!Administrative\\Christian\\THII\\legislator data\\committee info\\committee update files\\MO_senate.xlsx'\n",
    "mo_senate = pd.read_excel(file)\n",
    "# print(mo_senate.columns)\n",
    "mo_senate = mo_senate.rename(columns={'com name': 'com_name'})\n",
    "print(mo_senate.columns)\n",
    "\n"
   ]
  },
  {
   "cell_type": "code",
   "execution_count": 58,
   "metadata": {},
   "outputs": [],
   "source": [
    "mo_com_dfs['senate'] = mo_senate"
   ]
  },
  {
   "cell_type": "code",
   "execution_count": 59,
   "metadata": {},
   "outputs": [
    {
     "name": "stderr",
     "output_type": "stream",
     "text": [
      "Enabling notebook extension jupyter-js-widgets/extension...\n",
      "      - Validating: ok\n"
     ]
    }
   ],
   "source": [
    "!jupyter nbextension enable --py widgetsnbextension\n"
   ]
  },
  {
   "cell_type": "markdown",
   "metadata": {},
   "source": [
    "# House\n",
    "download csv files from site and put into a folder shown below"
   ]
  },
  {
   "cell_type": "code",
   "execution_count": 60,
   "metadata": {},
   "outputs": [
    {
     "name": "stdout",
     "output_type": "stream",
     "text": [
      "Budget_comm.csv\n",
      "elementary_secondary_education_comm.csv\n",
      "higher_ed_and_workforce_comm.csv\n",
      "join_comm_on_education.csv\n",
      "subcommittee_on_app_edu_comm.csv\n",
      "ways_and_means_comm.csv\n"
     ]
    }
   ],
   "source": [
    "os.chdir(r'C:\\Users\\clutz\\THE HUNT INSTITUTE\\The Hunt Institute Team Site - Documents\\Development (formerly Grants Management)\\!Administrative\\Christian\\THII\\legislator data\\committee info\\committee update files\\to scrape\\MO')\n",
    "house_files = glob.glob(r'*')\n",
    "print(*house_files, sep = '\\n')\n",
    "\n"
   ]
  },
  {
   "cell_type": "code",
   "execution_count": 74,
   "metadata": {},
   "outputs": [
    {
     "name": "stdout",
     "output_type": "stream",
     "text": [
      "Index(['FirstName', 'LastName', 'LeadershipPositionCurrent', 'Party',\n",
      "       'CapitolFax', 'Phone', 'Room', 'District', 'cp', 'CommitteeName'],\n",
      "      dtype='object')\n",
      "     FirstName  LastName                           LeadershipPositionCurrent       Party    CapitolFax         Phone   Room  District          cp CommitteeName\n",
      "0    Rep. Dirk    Deaton                                                      Republican                573-751-9801    309       159       Chair        Budget\n",
      "1  Rep. Bishop  Davidson                                                      Republican                573-751-2381  306-B       130  Vice-Chair        Budget\n",
      "Index(['FirstName', 'LastName', 'LeadershipPositionCurrent', 'Party',\n",
      "       'CapitolFax', 'Phone', 'Room', 'District', 'cp', 'CommitteeName'],\n",
      "      dtype='object')\n",
      "   FirstName   LastName                           LeadershipPositionCurrent       Party    CapitolFax         Phone   Room  District          cp                       CommitteeName\n",
      "0    Rep. Ed      Lewis                                                      Republican                573-751-6566    312         6       Chair  Elementary and Secondary Education\n",
      "1  Rep. Brad  Banderman                                                      Republican                573-751-0549  114-A       119  Vice-Chair  Elementary and Secondary Education\n",
      "Index(['FirstName', 'LastName', 'LeadershipPositionCurrent', 'Party',\n",
      "       'CapitolFax', 'Phone', 'Room', 'District', 'cp', 'CommitteeName'],\n",
      "      dtype='object')\n",
      "     FirstName LastName                           LeadershipPositionCurrent       Party    CapitolFax         Phone Room  District          cp                               CommitteeName\n",
      "0   Rep. Chris    Brown                                                      Republican                573-751-9458  235        16       Chair  Higher Education and Workforce Development\n",
      "1  Rep. Sherri  Gallick                                                      Republican                573-751-1344  300        62  Vice-Chair  Higher Education and Workforce Development\n",
      "Index(['FirstName', 'LastName', 'LeadershipPositionCurrent', 'Party',\n",
      "       'CapitolFax', 'Phone', 'Room', 'District', 'cp', 'CommitteeName'],\n",
      "      dtype='object')\n",
      "    FirstName  LastName                           LeadershipPositionCurrent       Party    CapitolFax         Phone   Room  District        cp                 CommitteeName\n",
      "0  Rep. Darin  Chappell                                                      Republican                573-751-3819  200-B       137  Co-Chair  Joint Committee on Education\n",
      "1   Sen. Jill    Carter                                                 NaN  Republican           NaN           NaN    NaN        32  Co-Chair  Joint Committee on Education\n",
      "Index(['FirstName', 'LastName', 'LeadershipPositionCurrent', 'Party',\n",
      "       'CapitolFax', 'Phone', 'Room', 'District', 'cp', 'CommitteeName'],\n",
      "      dtype='object')\n",
      "     FirstName  LastName                           LeadershipPositionCurrent       Party    CapitolFax         Phone   Room  District          cp                               CommitteeName\n",
      "0  Rep. Bishop  Davidson                                                      Republican                573-751-2381  306-B       130       Chair  Subcommittee on Appropriations - Education\n",
      "1      Rep. Ed     Lewis                                                      Republican                573-751-6566    312         6  Vice-Chair  Subcommittee on Appropriations - Education\n",
      "Index(['FirstName', 'LastName', 'LeadershipPositionCurrent', 'Party',\n",
      "       'CapitolFax', 'Phone', 'Room', 'District', 'cp', 'CommitteeName'],\n",
      "      dtype='object')\n",
      "      FirstName LastName                           LeadershipPositionCurrent       Party    CapitolFax         Phone   Room  District          cp   CommitteeName\n",
      "0     Rep. Mike   McGirl                                                      Republican                573-751-2398    303       118       Chair  Ways and Means\n",
      "1  Rep. Michael    Davis                                                      Republican                573-751-2175  110-B        56  Vice-Chair  Ways and Means\n"
     ]
    }
   ],
   "source": [
    "#compile and narrow files\n",
    "house_dfs = []\n",
    "for file in house_files:\n",
    "    df = pd.read_csv(file)\n",
    "    print(df.columns)\n",
    "    print(df.head(2).to_string())\n",
    "\n",
    "    df = df.loc[:,['FirstName', 'LastName','District', 'cp']]\n",
    "    df['name'] = df['FirstName'] + ' ' + df['LastName']\n",
    "    df['name'] = df['name'].str.replace('Rep.', '').str.strip()\n",
    "    df['CommitteeName'] = file.replace('_', ' '). replace('.csv', '').title()\n",
    "    df['chamber'] = 'house'\n",
    "    df = df.rename(columns={'District': 'district', 'cp':'role', 'CommitteeName': 'com_name'})\n",
    "    df = df.loc[:,['chamber', 'com_name', 'name', 'role', 'district']]\n",
    "    \n",
    "    house_dfs.append(df)\n",
    "\n"
   ]
  },
  {
   "cell_type": "code",
   "execution_count": null,
   "metadata": {},
   "outputs": [],
   "source": [
    "mo_house_coms = pd.concat(house_dfs).reset_index(drop=True)\n",
    "# print(list(set(house_coms['role'].to_list())))\n",
    "mo_house_coms"
   ]
  },
  {
   "cell_type": "code",
   "execution_count": null,
   "metadata": {},
   "outputs": [],
   "source": [
    "mo_coms_df = pd.concat([mo_house_coms,mo_senate]).reset_index(drop=True)\n",
    "mo_coms_df\n",
    "\n",
    "\n"
   ]
  },
  {
   "cell_type": "markdown",
   "metadata": {},
   "source": [
    "#clean and assign"
   ]
  },
  {
   "cell_type": "code",
   "execution_count": 84,
   "metadata": {},
   "outputs": [
    {
     "data": {
      "application/vnd.jupyter.widget-view+json": {
       "model_id": "7b875e52b7ff4c3a8fb5742c312e1263",
       "version_major": 2,
       "version_minor": 0
      },
      "text/plain": [
       "  0%|          | 0/125 [00:00<?, ?it/s]"
      ]
     },
     "metadata": {},
     "output_type": "display_data"
    },
    {
     "name": "stdout",
     "output_type": "stream",
     "text": [
      "34015900\n",
      "34013000\n",
      "34013500\n",
      "34012900\n",
      "34015700\n",
      "34014900\n",
      "34013700\n",
      "34000200\n",
      "34002900\n",
      "34015800\n",
      "34002700\n",
      "34006500\n",
      "34013600\n",
      "34012600\n",
      "34008200\n",
      "34000600\n",
      "34004400\n",
      "34012400\n",
      "34007800\n",
      "34013100\n",
      "34007300\n",
      "34000500\n",
      "34000400\n",
      "34004500\n",
      "34002000\n",
      "34008400\n",
      "34004800\n",
      "34012300\n",
      "34014700\n",
      "34012800\n",
      "34002200\n",
      "34000600\n",
      "34011900\n",
      "34004500\n",
      "34016000\n",
      "34007000\n",
      "34009000\n",
      "34006300\n",
      "34014000\n",
      "34012000\n",
      "34000800\n",
      "34003800\n",
      "34012700\n",
      "34011700\n",
      "34016300\n",
      "34009900\n",
      "34004400\n",
      "34003900\n",
      "34015500\n",
      "34005200\n",
      "34014100\n",
      "34006800\n",
      "34008700\n",
      "34011100\n",
      "34001600\n",
      "34006200\n",
      "34013600\n",
      "34001700\n",
      "34005800\n",
      "34002500\n",
      "34007300\n",
      "34006100\n",
      "34001100\n",
      "34006800\n",
      "34013300\n",
      "34013900\n",
      "34010600\n",
      "34011600\n",
      "34013700\n",
      "34003200\n",
      "34007600\n",
      "34013000\n",
      "34000600\n",
      "34016300\n",
      "34005200\n",
      "34006600\n",
      "34003100\n",
      "34002200\n",
      "34003300\n",
      "34001700\n",
      "34000200\n",
      "34001900\n",
      "34013000\n",
      "34000600\n",
      "34004500\n",
      "34013700\n",
      "34000200\n",
      "34004400\n",
      "34007300\n",
      "34011800\n",
      "34005600\n",
      "34008400\n",
      "34003200\n",
      "34008800\n",
      "34010700\n",
      "34007500\n",
      "34006400\n",
      "34003400\n",
      "34011600\n",
      "34103000\n",
      "34101200\n",
      "34102500\n",
      "34101600\n",
      "34100800\n",
      "34102800\n",
      "34101000\n",
      "34100300\n",
      "34103300\n",
      "34100400\n",
      "34101700\n",
      "34100900\n",
      "34101400\n",
      "34103100\n",
      "34103300\n",
      "34101500\n",
      "34100300\n",
      "34101700\n",
      "34100200\n",
      "34101900\n",
      "34103200\n",
      "34101100\n",
      "34103100\n",
      "34103300\n",
      "34100700\n",
      "34101700\n"
     ]
    }
   ],
   "source": [
    "#assign fpk\n",
    "\n",
    "tqdm.pandas()\n",
    "\n",
    "\n",
    "lens = []\n",
    "mo_coms_df['fpk'] = np.nan \n",
    "\n",
    "    # for row in mo_senate.itertuples(index=True):\n",
    "for row in tqdm_notebook(mo_coms_df.itertuples(index=True),total=len(mo_coms_df)):\n",
    "    \n",
    "\n",
    "    fpk = create_pk2(\"MO\", row.chamber, str(row.district), 'n')\n",
    "    print(fpk)\n",
    "\n",
    "    mo_coms_df.loc[row.Index,'fpk'] = fpk\n",
    "\n",
    "\n",
    "\n",
    "fpk_pop = mo_coms_df.pop('fpk')\n",
    "mo_coms_df.insert(0,\"fpk\", fpk_pop)\n"
   ]
  },
  {
   "cell_type": "code",
   "execution_count": null,
   "metadata": {},
   "outputs": [
    {
     "data": {
      "text/html": [
       "<div>\n",
       "<style scoped>\n",
       "    .dataframe tbody tr th:only-of-type {\n",
       "        vertical-align: middle;\n",
       "    }\n",
       "\n",
       "    .dataframe tbody tr th {\n",
       "        vertical-align: top;\n",
       "    }\n",
       "\n",
       "    .dataframe thead th {\n",
       "        text-align: right;\n",
       "    }\n",
       "</style>\n",
       "<table border=\"1\" class=\"dataframe\">\n",
       "  <thead>\n",
       "    <tr style=\"text-align: right;\">\n",
       "      <th></th>\n",
       "      <th>fpk</th>\n",
       "      <th>chamber</th>\n",
       "      <th>com_name</th>\n",
       "      <th>name</th>\n",
       "      <th>role</th>\n",
       "      <th>district</th>\n",
       "    </tr>\n",
       "  </thead>\n",
       "  <tbody>\n",
       "    <tr>\n",
       "      <th>0</th>\n",
       "      <td>34015900.0</td>\n",
       "      <td>house</td>\n",
       "      <td>Budget Comm</td>\n",
       "      <td>Dirk Deaton</td>\n",
       "      <td>Chair</td>\n",
       "      <td>159</td>\n",
       "    </tr>\n",
       "    <tr>\n",
       "      <th>1</th>\n",
       "      <td>34013000.0</td>\n",
       "      <td>house</td>\n",
       "      <td>Budget Comm</td>\n",
       "      <td>Bishop Davidson</td>\n",
       "      <td>Vice-Chair</td>\n",
       "      <td>130</td>\n",
       "    </tr>\n",
       "    <tr>\n",
       "      <th>2</th>\n",
       "      <td>34013500.0</td>\n",
       "      <td>house</td>\n",
       "      <td>Budget Comm</td>\n",
       "      <td>Betsy Fogle</td>\n",
       "      <td>Ranking Minority Member</td>\n",
       "      <td>135</td>\n",
       "    </tr>\n",
       "    <tr>\n",
       "      <th>3</th>\n",
       "      <td>34012900.0</td>\n",
       "      <td>house</td>\n",
       "      <td>Budget Comm</td>\n",
       "      <td>John Black</td>\n",
       "      <td>NaN</td>\n",
       "      <td>129</td>\n",
       "    </tr>\n",
       "    <tr>\n",
       "      <th>4</th>\n",
       "      <td>34015700.0</td>\n",
       "      <td>house</td>\n",
       "      <td>Budget Comm</td>\n",
       "      <td>Mitch Boggs</td>\n",
       "      <td>NaN</td>\n",
       "      <td>157</td>\n",
       "    </tr>\n",
       "    <tr>\n",
       "      <th>...</th>\n",
       "      <td>...</td>\n",
       "      <td>...</td>\n",
       "      <td>...</td>\n",
       "      <td>...</td>\n",
       "      <td>...</td>\n",
       "      <td>...</td>\n",
       "    </tr>\n",
       "    <tr>\n",
       "      <th>120</th>\n",
       "      <td>34101100.0</td>\n",
       "      <td>Senate</td>\n",
       "      <td>Families, Senior, and Health</td>\n",
       "      <td>Senator Nicola</td>\n",
       "      <td>Vice-Chair</td>\n",
       "      <td>11</td>\n",
       "    </tr>\n",
       "    <tr>\n",
       "      <th>121</th>\n",
       "      <td>34103100.0</td>\n",
       "      <td>Senate</td>\n",
       "      <td>Families, Senior, and Health</td>\n",
       "      <td>Senator Brattin</td>\n",
       "      <td>Member</td>\n",
       "      <td>31</td>\n",
       "    </tr>\n",
       "    <tr>\n",
       "      <th>122</th>\n",
       "      <td>34103300.0</td>\n",
       "      <td>Senate</td>\n",
       "      <td>Families, Senior, and Health</td>\n",
       "      <td>Senator Hudson</td>\n",
       "      <td>Member</td>\n",
       "      <td>33</td>\n",
       "    </tr>\n",
       "    <tr>\n",
       "      <th>123</th>\n",
       "      <td>34100700.0</td>\n",
       "      <td>Senate</td>\n",
       "      <td>Families, Senior, and Health</td>\n",
       "      <td>Senator Lewis</td>\n",
       "      <td>Member</td>\n",
       "      <td>7</td>\n",
       "    </tr>\n",
       "    <tr>\n",
       "      <th>124</th>\n",
       "      <td>34101700.0</td>\n",
       "      <td>Senate</td>\n",
       "      <td>Families, Senior, and Health</td>\n",
       "      <td>Senator Nurrenbern</td>\n",
       "      <td>Member</td>\n",
       "      <td>17</td>\n",
       "    </tr>\n",
       "  </tbody>\n",
       "</table>\n",
       "<p>125 rows × 6 columns</p>\n",
       "</div>"
      ],
      "text/plain": [
       "            fpk chamber                      com_name                name  \\\n",
       "0    34015900.0   house                   Budget Comm         Dirk Deaton   \n",
       "1    34013000.0   house                   Budget Comm     Bishop Davidson   \n",
       "2    34013500.0   house                   Budget Comm         Betsy Fogle   \n",
       "3    34012900.0   house                   Budget Comm          John Black   \n",
       "4    34015700.0   house                   Budget Comm         Mitch Boggs   \n",
       "..          ...     ...                           ...                 ...   \n",
       "120  34101100.0  Senate  Families, Senior, and Health      Senator Nicola   \n",
       "121  34103100.0  Senate  Families, Senior, and Health     Senator Brattin   \n",
       "122  34103300.0  Senate  Families, Senior, and Health      Senator Hudson   \n",
       "123  34100700.0  Senate  Families, Senior, and Health       Senator Lewis   \n",
       "124  34101700.0  Senate  Families, Senior, and Health  Senator Nurrenbern   \n",
       "\n",
       "                        role  district  \n",
       "0                      Chair       159  \n",
       "1                 Vice-Chair       130  \n",
       "2    Ranking Minority Member       135  \n",
       "3                        NaN       129  \n",
       "4                        NaN       157  \n",
       "..                       ...       ...  \n",
       "120               Vice-Chair        11  \n",
       "121                   Member        31  \n",
       "122                   Member        33  \n",
       "123                   Member         7  \n",
       "124                   Member        17  \n",
       "\n",
       "[125 rows x 6 columns]"
      ]
     },
     "execution_count": 85,
     "metadata": {},
     "output_type": "execute_result"
    }
   ],
   "source": []
  },
  {
   "cell_type": "code",
   "execution_count": 86,
   "metadata": {},
   "outputs": [],
   "source": [
    "#set up\n",
    "ref_path = r\"C:\\Users\\clutz\\THE HUNT INSTITUTE\\The Hunt Institute Team Site - Documents\\Development (formerly Grants Management)\\!Administrative\\Christian\\THII\\legislator data\\key_creation\\2025\"\n",
    "leg_ref =pd.read_excel(get_recent_file(\"*\", ref_path))\n",
    "leg_ref = leg_ref[leg_ref['state abbreviation'] == \"MO\"]\n",
    "# print(leg_ref.columns)\n",
    "# print(leg_ref.head())\n",
    "# leg_ref\n"
   ]
  },
  {
   "cell_type": "code",
   "execution_count": 87,
   "metadata": {},
   "outputs": [],
   "source": [
    "def get_subset(df, fpk_col, fpk):\n",
    "    df_new = df[df[fpk_col] == fpk]\n",
    "    return df_new"
   ]
  },
  {
   "cell_type": "code",
   "execution_count": null,
   "metadata": {},
   "outputs": [
    {
     "name": "stdout",
     "output_type": "stream",
     "text": [
      "Pandas(chamber='Senate', _1='Appropiations', name='Senator Hough', role='Chair', district=30)\n",
      "Pandas(chamber='Senate', _1='Appropiations', name='Senator Black', role='Vice-Chair', district=12)\n",
      "Pandas(chamber='Senate', _1='Appropiations', name='Senator Bean', role='Member', district=25)\n",
      "Pandas(chamber='Senate', _1='Appropiations', name='Senator Brown', role='Member', district=16)\n",
      "Pandas(chamber='Senate', _1='Appropiations', name='Senator Cierpiot', role='Member', district=8)\n",
      "Pandas(chamber='Senate', _1='Appropiations', name='Senator Crawford', role='Member', district=28)\n",
      "Pandas(chamber='Senate', _1='Appropiations', name='Senator Fitzwater', role='Member', district=10)\n",
      "Pandas(chamber='Senate', _1='Appropiations', name='Senator Henderson', role='Member', district=3)\n",
      "Pandas(chamber='Senate', _1='Appropiations', name='Senator Hudson', role='Member', district=33)\n",
      "Pandas(chamber='Senate', _1='Appropiations', name='Senator May', role='Member', district=4)\n",
      "Pandas(chamber='Senate', _1='Appropiations', name='Senator Nurrenbern', role='Member', district=17)\n",
      "Pandas(chamber='Senate', _1='Appropiations', name='Senator Washington', role='Member', district=9)\n",
      "Pandas(chamber='Senate', _1='Appropiations', name='Senator Williams', role='Member', district=14)\n",
      "Pandas(chamber='Senate', _1='Education', name='Senator Brattin', role='Chair', district=31)\n",
      "Pandas(chamber='Senate', _1='Education', name='Senator Hudson', role='Vice-Chair', district=33)\n",
      "Pandas(chamber='Senate', _1='Education', name='Senator Gregory', role='Member', district=15)\n",
      "Pandas(chamber='Senate', _1='Education', name='Senator Henderson', role='Member', district=3)\n",
      "Pandas(chamber='Senate', _1='Education', name='Senator Nurrenbern', role='Member', district=17)\n",
      "Pandas(chamber='Senate', _1='Education', name='Senator Schroer', role='Member', district=2)\n",
      "Pandas(chamber='Senate', _1='Education', name='Senator Webber', role='Member', district=19)\n",
      "Pandas(chamber='Senate', _1='Families, Senior, and Health', name='Senator Carter', role='Chair', district=32)\n",
      "Pandas(chamber='Senate', _1='Families, Senior, and Health', name='Senator Nicola', role='Vice-Chair', district=11)\n",
      "Pandas(chamber='Senate', _1='Families, Senior, and Health', name='Senator Brattin', role='Member', district=31)\n",
      "Pandas(chamber='Senate', _1='Families, Senior, and Health', name='Senator Hudson', role='Member', district=33)\n",
      "Pandas(chamber='Senate', _1='Families, Senior, and Health', name='Senator Lewis', role='Member', district=7)\n",
      "Pandas(chamber='Senate', _1='Families, Senior, and Health', name='Senator Nurrenbern', role='Member', district=17)\n"
     ]
    }
   ],
   "source": [
    "for row in mo_senate.itertuples(index=False):\n",
    "    print(row)\n",
    "    if row.chamber == 'Senate':\n",
    "        chamber_code"
   ]
  },
  {
   "cell_type": "code",
   "execution_count": null,
   "metadata": {},
   "outputs": [
    {
     "name": "stdout",
     "output_type": "stream",
     "text": [
      "[1]\n"
     ]
    },
    {
     "data": {
      "text/plain": [
       "'\\nif this returns anything other than [1] that means that the fpk match isnt fully clean\\n'"
      ]
     },
     "execution_count": 88,
     "metadata": {},
     "output_type": "execute_result"
    }
   ],
   "source": [
    "#checking that all are assigned correctly\n",
    "lens = []\n",
    "for row in mo_coms_df.itertuples(index=False):\n",
    "    sub_df = get_subset(leg_ref, 'full_pk', int(row.fpk))\n",
    "    lens.append(len(sub_df))\n",
    "    if len(sub_df) >1:\n",
    "        print(row)\n",
    "        print(f'sub df :')\n",
    "        for row in sub_df.itertuples(index=False):\n",
    "            print(row)\n",
    "    elif len(sub_df) <1:\n",
    "        print(row)\n",
    "        print(sub_df)\n",
    "        \n",
    "    # print(sub_df)\n",
    "print(list(set(lens)))\n",
    "\n",
    "\n",
    "\"\"\"\n",
    "if this returns anything other than [1] that means that the fpk match isnt fully clean\n",
    "\"\"\""
   ]
  },
  {
   "cell_type": "code",
   "execution_count": 91,
   "metadata": {},
   "outputs": [],
   "source": [
    "#export\n",
    "#export\n",
    "com_folder = r'C:\\Users\\clutz\\THE HUNT INSTITUTE\\The Hunt Institute Team Site - Documents\\Development (formerly Grants Management)\\!Administrative\\Christian\\THII\\legislator data\\committee info\\committee update files\\full_pk_assigned'\n",
    "file_name = os.path.join(com_folder,\"mo_com_info.xlsx\")\n",
    "mo_coms_df.to_excel(file_name, index=False)"
   ]
  }
 ],
 "metadata": {
  "kernelspec": {
   "display_name": "hunt_env",
   "language": "python",
   "name": "python3"
  },
  "language_info": {
   "codemirror_mode": {
    "name": "ipython",
    "version": 3
   },
   "file_extension": ".py",
   "mimetype": "text/x-python",
   "name": "python",
   "nbconvert_exporter": "python",
   "pygments_lexer": "ipython3",
   "version": "3.12.5"
  }
 },
 "nbformat": 4,
 "nbformat_minor": 2
}
