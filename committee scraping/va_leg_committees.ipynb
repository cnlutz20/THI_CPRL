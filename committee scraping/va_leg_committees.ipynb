{
 "cells": [
  {
   "cell_type": "code",
   "execution_count": 6,
   "metadata": {},
   "outputs": [],
   "source": [
    "import os, sys, json, datetime, re  # Provides OS-dependent functionality, system-specific parameters, JSON handling, and date/time manipulation\n",
    "import pandas as pd             # Provides data structures and data analysis tools\n",
    "import numpy as np              # Supports large, multi-dimensional arrays and matrices\n",
    "import requests\n",
    "import time\n",
    "from tqdm import tqdm\n",
    "import urllib3\n",
    "urllib3.disable_warnings(urllib3.exceptions.InsecureRequestWarning)\n",
    "from bs4 import BeautifulSoup\n",
    "from lxml import etree, html\n",
    "from selenium import webdriver\n",
    "from selenium.webdriver.common.by import By\n",
    "from selenium.webdriver.chrome.service import Service\n",
    "from selenium.webdriver.chrome.options import Options\n",
    "from selenium.webdriver.common.action_chains import ActionChains\n",
    "import time\n",
    "from selenium.webdriver.support.ui import WebDriverWait\n",
    "from selenium.webdriver.support import expected_conditions as EC\n",
    "\n",
    "from cprl_functions.state_capture import thi_states,state_ref, state_coding, state_pat, state_abv_pat\n",
    "from cprl_functions.text_printing import bordered\n",
    "from cprl_functions.defined_functions import create_pk, extract_title_and_name, get_recent_file\n",
    "from unidecode import unidecode\n",
    "\n",
    "from selenium import webdriver\n",
    "from selenium.webdriver.chrome.service import Service as ChromeService\n",
    "from webdriver_manager.chrome import ChromeDriverManager"
   ]
  },
  {
   "cell_type": "markdown",
   "metadata": {},
   "source": [
    "## Set up"
   ]
  },
  {
   "cell_type": "code",
   "execution_count": 7,
   "metadata": {},
   "outputs": [
    {
     "data": {
      "text/plain": [
       "{'AL': 10,\n",
       " 'AK': 11,\n",
       " 'AZ': 12,\n",
       " 'AR': 13,\n",
       " 'CA': 14,\n",
       " 'CO': 15,\n",
       " 'CT': 16,\n",
       " 'DE': 17,\n",
       " 'FL': 18,\n",
       " 'GA': 19,\n",
       " 'HI': 20,\n",
       " 'ID': 21,\n",
       " 'IL': 22,\n",
       " 'IN': 23,\n",
       " 'IA': 24,\n",
       " 'KS': 25,\n",
       " 'KY': 26,\n",
       " 'LA': 27,\n",
       " 'ME': 28,\n",
       " 'MD': 29,\n",
       " 'MA': 30,\n",
       " 'MI': 31,\n",
       " 'MN': 32,\n",
       " 'MS': 33,\n",
       " 'MO': 34,\n",
       " 'MT': 35,\n",
       " 'NE': 36,\n",
       " 'NV': 37,\n",
       " 'NH': 38,\n",
       " 'NJ': 39,\n",
       " 'NM': 40,\n",
       " 'NY': 41,\n",
       " 'NC': 42,\n",
       " 'ND': 43,\n",
       " 'OH': 44,\n",
       " 'OK': 45,\n",
       " 'OR': 46,\n",
       " 'PA': 47,\n",
       " 'RI': 48,\n",
       " 'SC': 49,\n",
       " 'SD': 50,\n",
       " 'TN': 51,\n",
       " 'TX': 52,\n",
       " 'UT': 53,\n",
       " 'VT': 54,\n",
       " 'VA': 55,\n",
       " 'WA': 56,\n",
       " 'WV': 57,\n",
       " 'WI': 58,\n",
       " 'WY': 59,\n",
       " 'DC': 60}"
      ]
     },
     "execution_count": 7,
     "metadata": {},
     "output_type": "execute_result"
    }
   ],
   "source": [
    "state_coding"
   ]
  },
  {
   "cell_type": "code",
   "execution_count": 9,
   "metadata": {},
   "outputs": [],
   "source": [
    "#driver set up\n",
    "webdriver_path = r\"C:\\Users\\clutz\\hunt_env\\chrome driver\\chromedriver-win64\\chromedriver.exe\"\n",
    "chrome_options = Options()\n",
    "# chrome_options.add_argument('--headless')\n",
    "# chrome_options.add_argument(\"--headless\")  # Run in headless mode (no GUI)\n",
    "# Set up WebDriver service\n",
    "service = Service(webdriver_path)\n",
    "\n",
    "#call on driver\n",
    "driver = webdriver.Chrome(service=ChromeService(ChromeDriverManager().install()), options=chrome_options)\n"
   ]
  },
  {
   "cell_type": "code",
   "execution_count": 10,
   "metadata": {},
   "outputs": [],
   "source": [
    "#list declaration\n",
    "ok_coms_dfs = []"
   ]
  },
  {
   "cell_type": "markdown",
   "metadata": {},
   "source": [
    "# Senate"
   ]
  },
  {
   "cell_type": "code",
   "execution_count": 11,
   "metadata": {},
   "outputs": [
    {
     "name": "stdout",
     "output_type": "stream",
     "text": [
      "['https://lis.virginia.gov/session-details/20251/committee-information/S04/committee-details', 'https://lis.virginia.gov/session-details/20251/committee-information/S05/committee-details', 'https://lis.virginia.gov/session-details/20251/committee-information/S09/committee-details']\n"
     ]
    }
   ],
   "source": [
    "senate_urls = \"\"\"https://lis.virginia.gov/session-details/20251/committee-information/S04/committee-details\n",
    "https://lis.virginia.gov/session-details/20251/committee-information/S05/committee-details\n",
    "https://lis.virginia.gov/session-details/20251/committee-information/S09/committee-details\"\"\"\n",
    "\n",
    "senate_urls = senate_urls.split('\\n')\n",
    "print(senate_urls)"
   ]
  },
  {
   "cell_type": "code",
   "execution_count": 12,
   "metadata": {},
   "outputs": [],
   "source": [
    "com_dfs = []\n",
    "for url in senate_urls:\n",
    "    driver.get(url)\n",
    "    time.sleep(3)\n",
    "    #general info\n",
    "    comname = driver.find_element(By.CSS_SELECTOR, 'div.details-header')\n",
    "    comname = comname.text.replace('Senate', '').strip()\n",
    "    \n",
    "    #\n",
    "    members = driver.find_element(By.XPATH, \"//*[@class='details-section']\")\n",
    "    members = members.find_elements(By.TAG_NAME, \"a\")\n",
    "    com_mems = []\n",
    "    for m in members:\n",
    "        \n",
    "        \n",
    "        if re.search(r'/(.+/)', m.text):\n",
    "            position = re.extract(r'\\((.+)\\)')\n",
    "            position = position.group(1)\n",
    "        else:\n",
    "            position = 'member'\n",
    "        \n",
    "        url = m.get_attribute('href')\n",
    "\n",
    "        df = pd.DataFrame(({'url':[url],'position':[position]}))\n",
    "        com_mems.append(df)\n",
    "    com_df = pd.concat(com_mems).reset_index(drop=True)\n",
    "    com_df['com_name'] = comname\n",
    "    com_dfs.append(com_df)\n",
    "\n",
    "\n",
    "va_senate_coms = pd.concat(com_dfs)\n",
    "\n",
    "    \n",
    "    # print(len(members))\n",
    "    # for m in members:\n",
    "    # members = members.find_elements(By.CSS_SELECTOR, 'a')\n",
    "\n",
    "    # for m in members:"
   ]
  },
  {
   "cell_type": "code",
   "execution_count": 16,
   "metadata": {},
   "outputs": [],
   "source": [
    "def create_pk2(state, chamber, district, mls):\n",
    "    \n",
    "    if not re.search(r'^[A-Z]{2}$', state):\n",
    "        \n",
    "        error = 'func error: state is wrong'\n",
    "        return print(error)\n",
    "        \n",
    "\n",
    "    state_code = state_coding.get(state)\n",
    "    \n",
    "    if not re.search(r'[Hh]ouse|[Ss]enate', chamber):\n",
    "        error = 'func error: chamber wrong'\n",
    "        return print(error)\n",
    "    elif re.search(r'[Hh]ouse',chamber):\n",
    "        chamber_code = 0\n",
    "    else:\n",
    "        chamber_code = 1\n",
    "\n",
    "    if not re.search(r'^\\d+$', district):\n",
    "        return print('func error: district is more than just numbers')\n",
    "    else:\n",
    "        dist_code = str(district).strip().zfill(3)\n",
    "\n",
    "    if mls == 'y':\n",
    "        print('im not set up for that yet')\n",
    "    else:\n",
    "        seat = '00'\n",
    "\n",
    "    fpk = int(f'{state_code}{chamber_code}{dist_code}{seat}')\n",
    "    return fpk\n",
    "\n",
    "    "
   ]
  },
  {
   "cell_type": "code",
   "execution_count": 17,
   "metadata": {},
   "outputs": [
    {
     "name": "stderr",
     "output_type": "stream",
     "text": [
      "Enabling notebook extension jupyter-js-widgets/extension...\n",
      "      - Validating: ok\n"
     ]
    }
   ],
   "source": [
    "!jupyter nbextension enable --py widgetsnbextension\n"
   ]
  },
  {
   "cell_type": "code",
   "execution_count": 18,
   "metadata": {},
   "outputs": [
    {
     "data": {
      "application/vnd.jupyter.widget-view+json": {
       "model_id": "dc6da29911b64b9493114c4d5014b32b",
       "version_major": 2,
       "version_minor": 0
      },
      "text/plain": [
       "  0%|          | 0/45 [00:00<?, ?it/s]"
      ]
     },
     "metadata": {},
     "output_type": "display_data"
    },
    {
     "name": "stdout",
     "output_type": "stream",
     "text": [
      "55101500\n",
      "55101800\n",
      "55102300\n",
      "55100400\n",
      "55100800\n",
      "55100600\n",
      "55104000\n",
      "55103800\n",
      "55101400\n",
      "55100300\n",
      "55101300\n",
      "55101600\n",
      "55102700\n",
      "55103600\n",
      "55101900\n",
      "55101800\n",
      "55101100\n",
      "55102300\n",
      "55103500\n",
      "55103900\n",
      "55102600\n",
      "55100200\n",
      "55102500\n",
      "55102800\n",
      "55104000\n",
      "55103400\n",
      "55102900\n",
      "55103800\n",
      "55100600\n",
      "55101500\n",
      "55104000\n",
      "55102600\n",
      "55102800\n",
      "55103400\n",
      "55102000\n",
      "55102200\n",
      "55100300\n",
      "55101700\n",
      "55101600\n",
      "55102100\n",
      "55103300\n",
      "55103100\n",
      "55100100\n",
      "55103700\n",
      "55101900\n"
     ]
    }
   ],
   "source": [
    "from tqdm.notebook import tqdm_notebook, tqdm\n",
    "tqdm.pandas()\n",
    "import pandas as pd \n",
    "\n",
    "\n",
    "# tqdm_notebook().pandas()\n",
    "\n",
    "# df = pd.DataFrame({'a' : ['foo', 'bar'], 'b' : ['spam', 'eggs']}) \n",
    "# df.progress_apply(lambda row: row['a'] + row['b'], axis = 1)\n",
    "# .progress_apply(lambda row: row['a'] + row['b'], axis = 1)\n",
    "\n",
    "lens = []\n",
    "va_senate_coms['name'] = np.nan\n",
    "va_senate_coms['district'] = np.nan\n",
    "va_senate_coms['fpk'] = np.nan \n",
    "\n",
    "# for row in va_senate_coms.itertuples(index=True):\n",
    "for row in tqdm_notebook(va_senate_coms.itertuples(index=True),total=len(va_senate_coms)):\n",
    "    driver.get(row.url)\n",
    "    # time.sleep(3)\n",
    "    wait = WebDriverWait(driver, 10)  # Waits up to 10 seconds\n",
    "    # print(row)\n",
    "\n",
    "    element = wait.until(EC.presence_of_element_located((By.CSS_SELECTOR, \".details-header\")))\n",
    "    # print(element.text)\n",
    "    ele_split = element.text.split('-')\n",
    "    \n",
    "    #name the split strings\n",
    "    name_string = ele_split[0]\n",
    "    dis_string = ele_split[1]\n",
    "\n",
    "    name = name_string.split('(')[0]\n",
    "    district = re.search(r'District (\\d+)', dis_string).group(1)\n",
    "\n",
    "    fpk = create_pk2(\"VA\", \"Senate\", district, 'n')\n",
    "    print(fpk)\n",
    "    va_senate_coms.loc[row.Index,'name'] = name\n",
    "    va_senate_coms.loc[row.Index,'district'] = district\n",
    "    va_senate_coms.loc[row.Index,'fpk'] = fpk\n",
    "\n",
    "\n",
    "    # re.split()\n",
    "# print(lens)\n"
   ]
  },
  {
   "cell_type": "markdown",
   "metadata": {},
   "source": [
    "## Cleaning"
   ]
  },
  {
   "cell_type": "code",
   "execution_count": 26,
   "metadata": {},
   "outputs": [],
   "source": [
    "pop_fpk = va_senate_coms.pop('fpk')\n"
   ]
  },
  {
   "cell_type": "code",
   "execution_count": null,
   "metadata": {},
   "outputs": [],
   "source": [
    "va_senate_coms.insert(0,'fpk',pop_fpk)\n"
   ]
  },
  {
   "cell_type": "code",
   "execution_count": 31,
   "metadata": {},
   "outputs": [],
   "source": [
    "\n",
    "va_senate_coms = va_senate_coms.drop('url', axis = 1)"
   ]
  },
  {
   "cell_type": "markdown",
   "metadata": {},
   "source": [
    "# House Data Gathering\n",
    "this was manually pulled together, just pulling in here to merge with scraped data"
   ]
  },
  {
   "cell_type": "code",
   "execution_count": 45,
   "metadata": {},
   "outputs": [
    {
     "data": {
      "text/html": [
       "<div>\n",
       "<style scoped>\n",
       "    .dataframe tbody tr th:only-of-type {\n",
       "        vertical-align: middle;\n",
       "    }\n",
       "\n",
       "    .dataframe tbody tr th {\n",
       "        vertical-align: top;\n",
       "    }\n",
       "\n",
       "    .dataframe thead th {\n",
       "        text-align: right;\n",
       "    }\n",
       "</style>\n",
       "<table border=\"1\" class=\"dataframe\">\n",
       "  <thead>\n",
       "    <tr style=\"text-align: right;\">\n",
       "      <th></th>\n",
       "      <th>chamber</th>\n",
       "      <th>com_name</th>\n",
       "      <th>name</th>\n",
       "      <th>position</th>\n",
       "      <th>district</th>\n",
       "    </tr>\n",
       "  </thead>\n",
       "  <tbody>\n",
       "    <tr>\n",
       "      <th>0</th>\n",
       "      <td>House</td>\n",
       "      <td>Appropriations - Higher Education Subcommittee</td>\n",
       "      <td>Betsy B. Carr</td>\n",
       "      <td>Chair</td>\n",
       "      <td>78</td>\n",
       "    </tr>\n",
       "    <tr>\n",
       "      <th>1</th>\n",
       "      <td>House</td>\n",
       "      <td>Appropriations - Higher Education Subcommittee</td>\n",
       "      <td>Mark D. Sickles</td>\n",
       "      <td>Member</td>\n",
       "      <td>17</td>\n",
       "    </tr>\n",
       "    <tr>\n",
       "      <th>2</th>\n",
       "      <td>House</td>\n",
       "      <td>Appropriations - Higher Education Subcommittee</td>\n",
       "      <td>David A. Reid</td>\n",
       "      <td>Member</td>\n",
       "      <td>28</td>\n",
       "    </tr>\n",
       "    <tr>\n",
       "      <th>3</th>\n",
       "      <td>House</td>\n",
       "      <td>Appropriations - Higher Education Subcommittee</td>\n",
       "      <td>Rodney T. Willett</td>\n",
       "      <td>Member</td>\n",
       "      <td>58</td>\n",
       "    </tr>\n",
       "    <tr>\n",
       "      <th>4</th>\n",
       "      <td>House</td>\n",
       "      <td>Appropriations - Higher Education Subcommittee</td>\n",
       "      <td>Alex Q. Askew</td>\n",
       "      <td>Member</td>\n",
       "      <td>95</td>\n",
       "    </tr>\n",
       "    <tr>\n",
       "      <th>...</th>\n",
       "      <td>...</td>\n",
       "      <td>...</td>\n",
       "      <td>...</td>\n",
       "      <td>...</td>\n",
       "      <td>...</td>\n",
       "    </tr>\n",
       "    <tr>\n",
       "      <th>66</th>\n",
       "      <td>House</td>\n",
       "      <td>Health and Human Services</td>\n",
       "      <td>Howard Otto Wachsmann Jr.</td>\n",
       "      <td>Member</td>\n",
       "      <td>83</td>\n",
       "    </tr>\n",
       "    <tr>\n",
       "      <th>67</th>\n",
       "      <td>House</td>\n",
       "      <td>Health and Human Services</td>\n",
       "      <td>Kimberly A. Taylor</td>\n",
       "      <td>Member</td>\n",
       "      <td>82</td>\n",
       "    </tr>\n",
       "    <tr>\n",
       "      <th>68</th>\n",
       "      <td>House</td>\n",
       "      <td>Health and Human Services</td>\n",
       "      <td>N. Baxter Ennis</td>\n",
       "      <td>Member</td>\n",
       "      <td>89</td>\n",
       "    </tr>\n",
       "    <tr>\n",
       "      <th>69</th>\n",
       "      <td>House</td>\n",
       "      <td>Health and Human Services</td>\n",
       "      <td>Geary M. Higgins</td>\n",
       "      <td>Member</td>\n",
       "      <td>30</td>\n",
       "    </tr>\n",
       "    <tr>\n",
       "      <th>70</th>\n",
       "      <td>House</td>\n",
       "      <td>Health and Human Services</td>\n",
       "      <td>David L. Owen</td>\n",
       "      <td>Member</td>\n",
       "      <td>57</td>\n",
       "    </tr>\n",
       "  </tbody>\n",
       "</table>\n",
       "<p>71 rows × 5 columns</p>\n",
       "</div>"
      ],
      "text/plain": [
       "   chamber                                        com_name  \\\n",
       "0    House  Appropriations - Higher Education Subcommittee   \n",
       "1    House  Appropriations - Higher Education Subcommittee   \n",
       "2    House  Appropriations - Higher Education Subcommittee   \n",
       "3    House  Appropriations - Higher Education Subcommittee   \n",
       "4    House  Appropriations - Higher Education Subcommittee   \n",
       "..     ...                                             ...   \n",
       "66   House                       Health and Human Services   \n",
       "67   House                       Health and Human Services   \n",
       "68   House                       Health and Human Services   \n",
       "69   House                       Health and Human Services   \n",
       "70   House                       Health and Human Services   \n",
       "\n",
       "                         name position  district  \n",
       "0              Betsy B. Carr     Chair        78  \n",
       "1             Mark D. Sickles   Member        17  \n",
       "2               David A. Reid   Member        28  \n",
       "3           Rodney T. Willett   Member        58  \n",
       "4               Alex Q. Askew   Member        95  \n",
       "..                        ...      ...       ...  \n",
       "66  Howard Otto Wachsmann Jr.   Member        83  \n",
       "67         Kimberly A. Taylor   Member        82  \n",
       "68            N. Baxter Ennis   Member        89  \n",
       "69           Geary M. Higgins   Member        30  \n",
       "70              David L. Owen   Member        57  \n",
       "\n",
       "[71 rows x 5 columns]"
      ]
     },
     "execution_count": 45,
     "metadata": {},
     "output_type": "execute_result"
    }
   ],
   "source": [
    "file = r'c:\\Users\\clutz\\THE HUNT INSTITUTE\\The Hunt Institute Team Site - Documents\\Development (formerly Grants Management)\\!Administrative\\Christian\\THII\\legislator data\\committee info\\committee update files\\VA_house_comms.xlsx'\n",
    "\n",
    "va_house_data = pd.read_excel(file)\n",
    "va_house_data = va_house_data.rename(columns = {'com name': 'com_name', 'role': 'position'})\n",
    "va_house_data"
   ]
  },
  {
   "cell_type": "code",
   "execution_count": 46,
   "metadata": {},
   "outputs": [
    {
     "name": "stdout",
     "output_type": "stream",
     "text": [
      "Index(['fpk', 'position', 'com_name', 'name', 'district'], dtype='object')\n"
     ]
    }
   ],
   "source": [
    "print(va_senate_coms.columns)"
   ]
  },
  {
   "cell_type": "markdown",
   "metadata": {},
   "source": [
    "## cleaning\n",
    "- adding pk"
   ]
  },
  {
   "cell_type": "code",
   "execution_count": 54,
   "metadata": {},
   "outputs": [
    {
     "data": {
      "application/vnd.jupyter.widget-view+json": {
       "model_id": "73e87cc94e4e4d2388ef564bc4fffb6f",
       "version_major": 2,
       "version_minor": 0
      },
      "text/plain": [
       "  0%|          | 0/71 [00:00<?, ?it/s]"
      ]
     },
     "metadata": {},
     "output_type": "display_data"
    }
   ],
   "source": [
    "\n",
    "# for row in va_house_data.itertuples(index=True):\n",
    "va_house_data['fpk'] = np.nan\n",
    "for row in tqdm_notebook(va_house_data.itertuples(index=True),total=len(va_house_data)):\n",
    "# for row in tqdm_notebook(va_house_data.items()):\n",
    "    # print(row.name)\n",
    "    # print(row.district)\n",
    "    \n",
    "    \n",
    "\n",
    "\n",
    "    fpk = create_pk2(\"VA\", \"House\", str(row.district), 'n')\n",
    "    # print(fpk)\n",
    "    va_house_data.loc[row.Index,'fpk'] = fpk\n",
    "\n",
    "pop_fpk = va_house_data.pop('fpk')\n",
    "va_house_data.insert(0,'fpk',pop_fpk)\n"
   ]
  },
  {
   "cell_type": "code",
   "execution_count": 55,
   "metadata": {},
   "outputs": [
    {
     "data": {
      "text/html": [
       "<div>\n",
       "<style scoped>\n",
       "    .dataframe tbody tr th:only-of-type {\n",
       "        vertical-align: middle;\n",
       "    }\n",
       "\n",
       "    .dataframe tbody tr th {\n",
       "        vertical-align: top;\n",
       "    }\n",
       "\n",
       "    .dataframe thead th {\n",
       "        text-align: right;\n",
       "    }\n",
       "</style>\n",
       "<table border=\"1\" class=\"dataframe\">\n",
       "  <thead>\n",
       "    <tr style=\"text-align: right;\">\n",
       "      <th></th>\n",
       "      <th>fpk</th>\n",
       "      <th>chamber</th>\n",
       "      <th>com_name</th>\n",
       "      <th>name</th>\n",
       "      <th>position</th>\n",
       "      <th>district</th>\n",
       "    </tr>\n",
       "  </thead>\n",
       "  <tbody>\n",
       "    <tr>\n",
       "      <th>0</th>\n",
       "      <td>55007800.0</td>\n",
       "      <td>House</td>\n",
       "      <td>Appropriations - Higher Education Subcommittee</td>\n",
       "      <td>Betsy B. Carr</td>\n",
       "      <td>Chair</td>\n",
       "      <td>78</td>\n",
       "    </tr>\n",
       "    <tr>\n",
       "      <th>1</th>\n",
       "      <td>55001700.0</td>\n",
       "      <td>House</td>\n",
       "      <td>Appropriations - Higher Education Subcommittee</td>\n",
       "      <td>Mark D. Sickles</td>\n",
       "      <td>Member</td>\n",
       "      <td>17</td>\n",
       "    </tr>\n",
       "    <tr>\n",
       "      <th>2</th>\n",
       "      <td>55002800.0</td>\n",
       "      <td>House</td>\n",
       "      <td>Appropriations - Higher Education Subcommittee</td>\n",
       "      <td>David A. Reid</td>\n",
       "      <td>Member</td>\n",
       "      <td>28</td>\n",
       "    </tr>\n",
       "    <tr>\n",
       "      <th>3</th>\n",
       "      <td>55005800.0</td>\n",
       "      <td>House</td>\n",
       "      <td>Appropriations - Higher Education Subcommittee</td>\n",
       "      <td>Rodney T. Willett</td>\n",
       "      <td>Member</td>\n",
       "      <td>58</td>\n",
       "    </tr>\n",
       "    <tr>\n",
       "      <th>4</th>\n",
       "      <td>55009500.0</td>\n",
       "      <td>House</td>\n",
       "      <td>Appropriations - Higher Education Subcommittee</td>\n",
       "      <td>Alex Q. Askew</td>\n",
       "      <td>Member</td>\n",
       "      <td>95</td>\n",
       "    </tr>\n",
       "    <tr>\n",
       "      <th>...</th>\n",
       "      <td>...</td>\n",
       "      <td>...</td>\n",
       "      <td>...</td>\n",
       "      <td>...</td>\n",
       "      <td>...</td>\n",
       "      <td>...</td>\n",
       "    </tr>\n",
       "    <tr>\n",
       "      <th>66</th>\n",
       "      <td>55008300.0</td>\n",
       "      <td>House</td>\n",
       "      <td>Health and Human Services</td>\n",
       "      <td>Howard Otto Wachsmann Jr.</td>\n",
       "      <td>Member</td>\n",
       "      <td>83</td>\n",
       "    </tr>\n",
       "    <tr>\n",
       "      <th>67</th>\n",
       "      <td>55008200.0</td>\n",
       "      <td>House</td>\n",
       "      <td>Health and Human Services</td>\n",
       "      <td>Kimberly A. Taylor</td>\n",
       "      <td>Member</td>\n",
       "      <td>82</td>\n",
       "    </tr>\n",
       "    <tr>\n",
       "      <th>68</th>\n",
       "      <td>55008900.0</td>\n",
       "      <td>House</td>\n",
       "      <td>Health and Human Services</td>\n",
       "      <td>N. Baxter Ennis</td>\n",
       "      <td>Member</td>\n",
       "      <td>89</td>\n",
       "    </tr>\n",
       "    <tr>\n",
       "      <th>69</th>\n",
       "      <td>55003000.0</td>\n",
       "      <td>House</td>\n",
       "      <td>Health and Human Services</td>\n",
       "      <td>Geary M. Higgins</td>\n",
       "      <td>Member</td>\n",
       "      <td>30</td>\n",
       "    </tr>\n",
       "    <tr>\n",
       "      <th>70</th>\n",
       "      <td>55005700.0</td>\n",
       "      <td>House</td>\n",
       "      <td>Health and Human Services</td>\n",
       "      <td>David L. Owen</td>\n",
       "      <td>Member</td>\n",
       "      <td>57</td>\n",
       "    </tr>\n",
       "  </tbody>\n",
       "</table>\n",
       "<p>71 rows × 6 columns</p>\n",
       "</div>"
      ],
      "text/plain": [
       "           fpk chamber                                        com_name  \\\n",
       "0   55007800.0   House  Appropriations - Higher Education Subcommittee   \n",
       "1   55001700.0   House  Appropriations - Higher Education Subcommittee   \n",
       "2   55002800.0   House  Appropriations - Higher Education Subcommittee   \n",
       "3   55005800.0   House  Appropriations - Higher Education Subcommittee   \n",
       "4   55009500.0   House  Appropriations - Higher Education Subcommittee   \n",
       "..         ...     ...                                             ...   \n",
       "66  55008300.0   House                       Health and Human Services   \n",
       "67  55008200.0   House                       Health and Human Services   \n",
       "68  55008900.0   House                       Health and Human Services   \n",
       "69  55003000.0   House                       Health and Human Services   \n",
       "70  55005700.0   House                       Health and Human Services   \n",
       "\n",
       "                         name position  district  \n",
       "0              Betsy B. Carr     Chair        78  \n",
       "1             Mark D. Sickles   Member        17  \n",
       "2               David A. Reid   Member        28  \n",
       "3           Rodney T. Willett   Member        58  \n",
       "4               Alex Q. Askew   Member        95  \n",
       "..                        ...      ...       ...  \n",
       "66  Howard Otto Wachsmann Jr.   Member        83  \n",
       "67         Kimberly A. Taylor   Member        82  \n",
       "68            N. Baxter Ennis   Member        89  \n",
       "69           Geary M. Higgins   Member        30  \n",
       "70              David L. Owen   Member        57  \n",
       "\n",
       "[71 rows x 6 columns]"
      ]
     },
     "execution_count": 55,
     "metadata": {},
     "output_type": "execute_result"
    }
   ],
   "source": [
    "va_house_data"
   ]
  },
  {
   "cell_type": "code",
   "execution_count": null,
   "metadata": {},
   "outputs": [],
   "source": [
    "# QA/QC"
   ]
  },
  {
   "cell_type": "code",
   "execution_count": 63,
   "metadata": {},
   "outputs": [
    {
     "name": "stdout",
     "output_type": "stream",
     "text": [
      "Index(['fpk', 'com_name', 'name', 'position', 'district'], dtype='object')\n",
      "Index(['fpk', 'com_name', 'name', 'position', 'district'], dtype='object')\n"
     ]
    }
   ],
   "source": [
    "# clean and reorganize columns\n",
    "dfs = [va_house_data,va_senate_coms]\n",
    "for i,df in enumerate(dfs):\n",
    "    # print(type(df))\n",
    "    df = df.loc[:,['fpk', 'com_name', 'name','position','district']]\n",
    "    # print(type(df))\n",
    "    dfs[i] = df\n",
    "    print(df.columns)\n",
    "va_com_info = pd.concat(dfs).reset_index(drop = True)\n",
    "\n"
   ]
  },
  {
   "cell_type": "code",
   "execution_count": null,
   "metadata": {},
   "outputs": [],
   "source": [
    "#set up\n",
    "ref_path = r\"C:\\Users\\clutz\\THE HUNT INSTITUTE\\The Hunt Institute Team Site - Documents\\Development (formerly Grants Management)\\!Administrative\\Christian\\THII\\legislator data\\key_creation\\2025\"\n",
    "leg_ref =pd.read_excel(get_recent_file(\"*\", ref_path))\n",
    "leg_ref = leg_ref[leg_ref['state abbreviation'] == \"VA\"]\n",
    "# print(leg_ref.columns)\n",
    "# print(leg_ref.head())\n",
    "# leg_ref\n"
   ]
  },
  {
   "cell_type": "code",
   "execution_count": 67,
   "metadata": {},
   "outputs": [],
   "source": [
    "def get_subset(df, fpk_col, fpk):\n",
    "    df_new = df[df[fpk_col] == fpk]\n",
    "    return df_new"
   ]
  },
  {
   "cell_type": "code",
   "execution_count": 74,
   "metadata": {},
   "outputs": [
    {
     "name": "stdout",
     "output_type": "stream",
     "text": [
      "[1]\n"
     ]
    },
    {
     "data": {
      "text/plain": [
       "'\\nif this returns anything other than [1] that means that the fpk match isnt fully clean\\n'"
      ]
     },
     "execution_count": 74,
     "metadata": {},
     "output_type": "execute_result"
    }
   ],
   "source": [
    "#checking that all are assigned correctly\n",
    "lens = []\n",
    "for row in va_com_info.itertuples(index=False):\n",
    "    sub_df = get_subset(leg_ref, 'full_pk', int(row.fpk))\n",
    "    lens.append(len(sub_df))\n",
    "    if len(sub_df) >1:\n",
    "        print(row)\n",
    "        print(f'sub df :')\n",
    "        for row in sub_df.itertuples(index=False):\n",
    "            print(row)\n",
    "    elif len(sub_df) <1:\n",
    "        print(row)\n",
    "        print(sub_df)\n",
    "        \n",
    "    # print(sub_df)\n",
    "print(list(set(lens)))\n",
    "\n",
    "\n",
    "\"\"\"\n",
    "if this returns anything other than [1] that means that the fpk match isnt fully clean\n",
    "\"\"\""
   ]
  },
  {
   "cell_type": "code",
   "execution_count": 77,
   "metadata": {},
   "outputs": [],
   "source": [
    "#export\n",
    "com_folder = r'C:\\Users\\clutz\\THE HUNT INSTITUTE\\The Hunt Institute Team Site - Documents\\Development (formerly Grants Management)\\!Administrative\\Christian\\THII\\legislator data\\committee info\\committee update files\\full_pk_assigned'\n",
    "file_name = os.path.join(com_folder,\"va_com_info.xlsx\")\n",
    "va_com_info.to_excel(file_name, index=False)"
   ]
  },
  {
   "cell_type": "code",
   "execution_count": null,
   "metadata": {},
   "outputs": [],
   "source": []
  }
 ],
 "metadata": {
  "kernelspec": {
   "display_name": "hunt_env",
   "language": "python",
   "name": "python3"
  },
  "language_info": {
   "codemirror_mode": {
    "name": "ipython",
    "version": 3
   },
   "file_extension": ".py",
   "mimetype": "text/x-python",
   "name": "python",
   "nbconvert_exporter": "python",
   "pygments_lexer": "ipython3",
   "version": "3.12.5"
  }
 },
 "nbformat": 4,
 "nbformat_minor": 2
}
