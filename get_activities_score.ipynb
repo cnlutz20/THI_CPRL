{
 "cells": [
  {
   "cell_type": "markdown",
   "metadata": {},
   "source": [
    "### Imports"
   ]
  },
  {
   "cell_type": "code",
   "execution_count": 1,
   "metadata": {},
   "outputs": [],
   "source": [
    "\n",
    "import os, sys, json, datetime, re, xlrd  # Provides OS-dependent functionality, system-specific parameters, JSON handling, and date/time manipulation\n",
    "import pandas as pd             # Provides data structures and data analysis tools\n",
    "from openpyxl import Workbook\n",
    "import numpy as np              # Supports large, multi-dimensional arrays and matrices\n",
    "import requests\n",
    "import glob\n",
    "import time\n",
    "from tqdm import tqdm\n",
    "import urllib3\n",
    "urllib3.disable_warnings(urllib3.exceptions.InsecureRequestWarning)\n",
    "import warnings\n",
    "warnings.simplefilter(action='ignore', category=FutureWarning)\n",
    "pd.options.mode.chained_assignment = None  # default='warn'\n",
    "from IPython.display import display_markdown"
   ]
  },
  {
   "cell_type": "markdown",
   "metadata": {},
   "source": [
    "### Definitions"
   ]
  },
  {
   "cell_type": "code",
   "execution_count": 2,
   "metadata": {},
   "outputs": [],
   "source": [
    "def bordered(text):\n",
    "    \n",
    "    if isinstance(text, int):\n",
    "        text = str(text)\n",
    "    try:\n",
    "        lines = text.splitlines()\n",
    "        width = max(len(s) for s in lines)\n",
    "        res = ['┌' + '─' * width + '┐']\n",
    "        for s in lines:\n",
    "            res.append('│' + (s + ' ' * width)[:width] + '│')\n",
    "        res.append('└' + '─' * width + '┘')\n",
    "        return '\\n'.join(res)\n",
    "    except:\n",
    "        lines = [text]\n",
    "        width = len(str(lines[0]))\n",
    "        res = ['┌' + '─' * width + '┐']\n",
    "        for s in lines:\n",
    "            res.append('│' + (s + ' ' * width)[:width] + '│')\n",
    "        res.append('└' + '─' * width + '┘')\n",
    "        return '\\n'.join(res)\n",
    "\n",
    "\n",
    "\n",
    "    "
   ]
  },
  {
   "cell_type": "markdown",
   "metadata": {},
   "source": [
    "### gathering leg files"
   ]
  },
  {
   "cell_type": "code",
   "execution_count": 3,
   "metadata": {},
   "outputs": [
    {
     "name": "stdout",
     "output_type": "stream",
     "text": [
      "deleting: archive\\officials_download_quorum_10_4.xlsx\n",
      "deleting: IL\\Il_committee_data_from_quorum.xlsx\n",
      "deleting: IN\\IN_committee_data_from_quorum.xlsx\n"
     ]
    }
   ],
   "source": [
    "os.chdir(r'C:\\Users\\clutz\\OneDrive - THE HUNT INSTITUTE\\Documents\\Data\\legislator data')\n",
    "legislator_files = glob.glob('**/*.xlsx') \n",
    "\n",
    "for i,file in enumerate(legislator_files):\n",
    "    if '_legislators' not in str(file):\n",
    "        print(\"deleting: \" + str(legislator_files[i]))\n",
    "        del legislator_files[i] "
   ]
  },
  {
   "cell_type": "code",
   "execution_count": 4,
   "metadata": {},
   "outputs": [
    {
     "name": "stdout",
     "output_type": "stream",
     "text": [
      "working on file:AL\\AL_legislators.xlsx\n",
      "working on file:CT\\CT_legislators.xlsx\n",
      "working on file:IL\\IL_legislators.xlsx\n",
      "working on file:IN\\IN_legislators.xlsx\n",
      "working on file:KS\\KS_legislators.xlsx\n",
      "working on file:MO\\MO_legislators.xlsx\n",
      "working on file:NC\\NC_legislators.xlsx\n",
      "working on file:ND\\ND_legislators.xlsx\n",
      "working on file:NM\\NM_legislators.xlsx\n",
      "working on file:OH\\OH_legislators.xlsx\n",
      "working on file:OK\\OK_legislators.xlsx\n",
      "working on file:VA\\VA_legislators.xlsx\n",
      "working on file:WV\\WV_legislators.xlsx\n"
     ]
    }
   ],
   "source": [
    "\n",
    "#compiles legislator files into one file\n",
    "dfs = []\n",
    "for i,file in enumerate(legislator_files):\n",
    "    print('working on file:' + str(file))\n",
    "    # file = legislator_files[0]\n",
    "    # xls = pd.ExcelFile(file)\n",
    "    sheets_dict = pd.read_excel(file, engine=\"openpyxl\", sheet_name=None)\n",
    "    sheet_names = list(sheets_dict.keys())\n",
    "    for s in sheet_names:\n",
    "        df = pd.read_excel(file, engine=\"openpyxl\", sheet_name=s)\n",
    "        dfs.append(df)\n",
    "    df = pd.concat(dfs)"
   ]
  },
  {
   "cell_type": "code",
   "execution_count": 5,
   "metadata": {},
   "outputs": [],
   "source": [
    "all_legs = pd.concat(dfs)\n",
    "os.chdir(r'C:\\Users\\clutz\\OneDrive - THE HUNT INSTITUTE\\Documents\\Data\\attendance data\\exports')\n",
    "# all_legs.to_csv('list_of_legislators_11_8_2024.csv')"
   ]
  },
  {
   "cell_type": "markdown",
   "metadata": {},
   "source": [
    "### gathering attendance data"
   ]
  },
  {
   "cell_type": "code",
   "execution_count": 6,
   "metadata": {},
   "outputs": [],
   "source": [
    "# import files\n",
    "os.chdir(r'C:\\Users\\clutz\\OneDrive - THE HUNT INSTITUTE\\Documents\\Data\\attendance data')\n",
    "events = glob.glob(\"*.xlsx\")\n"
   ]
  },
  {
   "cell_type": "code",
   "execution_count": 7,
   "metadata": {},
   "outputs": [],
   "source": [
    "#regex list set up\n",
    "state_list = [\n",
    "    \"Alabama\", \"Alaska\", \"Arizona\", \"Arkansas\", \"California\", \"Colorado\", \n",
    "    \"Connecticut\", \"Delaware\", \"Florida\", \"Georgia\", \"Hawaii\", \"Idaho\", \n",
    "    \"Illinois\", \"Indiana\", \"Iowa\", \"Kansas\", \"Kentucky\", \"Louisiana\", \n",
    "    \"Maine\", \"Maryland\", \"Massachusetts\", \"Michigan\", \"Minnesota\", \n",
    "    \"Mississippi\", \"Missouri\", \"Montana\", \"Nebraska\", \"Nevada\", \n",
    "    \"New Hampshire\", \"New Jersey\", \"New Mexico\", \"New York\", \n",
    "    \"North Carolina\", \"North Dakota\", \"Ohio\", \"Oklahoma\", \"Oregon\", \n",
    "    \"Pennsylvania\", \"Rhode Island\", \"South Carolina\", \"South Dakota\", \n",
    "    \"Tennessee\", \"Texas\", \"Utah\", \"Vermont\", \"Virginia\", \"Washington\", \n",
    "    \"West Virginia\", \"Wisconsin\", \"Wyoming\", \"District of Columbia\"\n",
    "]\n",
    "state_abbreviations = [\n",
    "    \"AL\", \"AK\", \"AZ\", \"AR\", \"CA\", \"CO\", \"CT\", \"DE\", \"FL\", \"GA\", \n",
    "    \"HI\", \"ID\", \"IL\", \"IN\", \"IA\", \"KS\", \"KY\", \"LA\", \"ME\", \"MD\", \n",
    "    \"MA\", \"MI\", \"MN\", \"MS\", \"MO\", \"MT\", \"NE\", \"NV\", \"NH\", \"NJ\", \n",
    "    \"NM\", \"NY\", \"NC\", \"ND\", \"OH\", \"OK\", \"OR\", \"PA\", \"RI\", \"SC\", \n",
    "    \"SD\", \"TN\", \"TX\", \"UT\", \"VT\", \"VA\", \"WA\", \"WV\", \"WI\", \"WY\", \"DC\"\n",
    "]\n",
    "#editing for finding state intitals at beginning of string only\n",
    "state_abbreviations_reg = []\n",
    "for abv in state_abbreviations:\n",
    "    for_regex = f'^{abv}'\n",
    "    state_abbreviations_reg.append(for_regex)\n",
    "#compiling regex patterns for looking for states\n",
    "state_pat = re.compile(\"|\".join(state_list))\n",
    "state_abv_pat = re.compile(\"|\".join(state_abbreviations_reg))\n",
    "# print(state_abv_pat)\n",
    "state_ref = dict(zip(state_list, state_abbreviations))"
   ]
  },
  {
   "cell_type": "markdown",
   "metadata": {},
   "source": [
    "### Filling in State info\n",
    "\n",
    "looks for state names in the title, org, and state fields"
   ]
  },
  {
   "cell_type": "code",
   "execution_count": 8,
   "metadata": {},
   "outputs": [],
   "source": [
    "dfs = []\n",
    "vals_changed = 0\n",
    "for event in events:\n",
    "    df = pd.read_excel(event)\n",
    "    # print('######################')\n",
    "    # print(bordered(event))\n",
    "    \n",
    "    # print(*df.columns)\n",
    "    event_name = str(event).split('.')[0].strip().replace('_', ' ')\n",
    "    df = df.iloc[:,:8]\n",
    "    df.loc[:,'event name'] = event_name\n",
    "    \n",
    "    break_all = False\n",
    "    # #print(df)\n",
    "    # continue\n",
    "    for i,state in enumerate(df['state']):\n",
    "       \n",
    "        # #print('----------------------------')\n",
    "        # if isinstance(state, float):\n",
    "        # if re.search(r'[Rr]epresentative|[Ss]enator|[Ll]egislator',str(df['title'].iloc[i])) or re.search(r'[Ss]enate|[Hh]ouse of ([Rr]epresentatives)?(Delegates)?|[Dd]istrict|[Ss]tate [Hh]ouse', str(df['org'].iloc[i])):\n",
    "    \n",
    "    \n",
    "        # display_markdown(f'### title', raw=True)\n",
    "        # print(df.loc[i,'title'])\n",
    "        # display_markdown(f'### org', raw=True)\n",
    "        # print(df.loc[i,'org'])\n",
    "    \n",
    "    \n",
    "    \n",
    "        # continue\n",
    "        #print(\"^^^^^^^^^^^\")\n",
    "        #print(\"found a match\")\n",
    "        # #print(df.loc[i,['first_name', 'last_name']])\n",
    "        \n",
    "        testing_string = str(df['title'].iloc[i]) + \" \" + str(df['org'].iloc[i])\n",
    "        # #print(testing_string)\n",
    "        testing_string = testing_string.lstrip('nan').lstrip().strip()\n",
    "        # #print(re.match(r'[Rr]epresentative|[Ss]enator|[Ll]egislator|[Ss]enate|[Hh]ouse of ([Rr]epresentatives)?(Delegates)?|[Dd]istrict|[Ss]tate [Hh]ouse',str(testing_string)))\n",
    "        # continue\n",
    "        # #print('###########')\n",
    "        # #print(df.loc[i, list(df.columns[:5]) + [df.columns[-1]]])\n",
    "        # #print('\\n')\n",
    "        state_match_uc = re.findall(state_pat, str(df['org'].iloc[i]))\n",
    "        state_match = [x for x in state_match_uc if len(x) > 0]\n",
    "        \n",
    "        # First match test\n",
    "        if len(state_match) == 0:\n",
    "            #print('no regular state match')\n",
    "            #print(state_match_uc)\n",
    "            state_abv_match_uc = re.findall(state_abv_pat, str(df['org'].iloc[i]))\n",
    "            state_abv_match = [x for x in state_abv_match_uc if len(x) > 0]\n",
    "            # Second match test\n",
    "            if len(state_abv_match) == 0:\n",
    "                #print('no state abbreviation match')\n",
    "                #print(state_abv_match_uc)\n",
    "                state_abv_event_match_uc = re.findall(state_abv_pat, str(df['event name'].iloc[i]))\n",
    "                state_abv_event_match = [x for x in state_abv_event_match_uc if len(x) > 0]\n",
    "                # Third match test\n",
    "                if len(state_abv_event_match) == 0:\n",
    "                    #print('no state abv event match')\n",
    "                    #print(state_abv_event_match_uc)\n",
    "                    break\n",
    "                elif len(state_abv_event_match) > 1:\n",
    "                    #print('more than one match?')\n",
    "                    break_all = True\n",
    "                    break\n",
    "                else:\n",
    "                    #print(\"abv in event match\")\n",
    "                    state_val = str(state_abv_event_match[0])\n",
    "                    # df.loc[i,'state'] = None\n",
    "                    df.loc[i,'state'] = str(df.loc[i,'state'])\n",
    "                    df.loc[i,'state'] = state_val\n",
    "                    #print(state_val)\n",
    "                    vals_changed += 1\n",
    "            elif len(state_abv_match) > 1:\n",
    "                #print('more than one match?')\n",
    "                #print(state_abv_match)\n",
    "                #print(df.loc[i, list(df.columns[:5]) + [df.columns[-1]]])\n",
    "                break_all = True\n",
    "                break\n",
    "            else:\n",
    "                #print(\"regular abreviation match\")\n",
    "                \n",
    "                state_val = str(state_abv_match[0])\n",
    "                # df.loc[i,'state'] = None\n",
    "                df.loc[i,'state'] = str(df.loc[i,'state'])\n",
    "                df.loc[i,'state'] = state_val\n",
    "                #print(state_val)\n",
    "                vals_changed += 1\n",
    "\n",
    "            # #print('###########')\n",
    "            # #print(df.loc[i, list(df.columns[:5]) + [df.columns[-1]]])\n",
    "            # #print('\\n')\n",
    "            # break\n",
    "        elif len(state_match) > 1:\n",
    "            #print(\"more than one match?\")\n",
    "            break_all = True\n",
    "            break\n",
    "        else:\n",
    "            #print(\"normal state match\")\n",
    "            state_val_dirty = str(state_match[0])\n",
    "            state_val = state_ref.get(state_val_dirty)\n",
    "            df.loc[i,'state'] = str(df.loc[i,'state'])\n",
    "            # df.loc[i,'state'] = None\n",
    "            df.loc[i,'state'] = state_val\n",
    "            #print(state_val)\n",
    "            vals_changed += 1\n",
    "        # else:\n",
    "        #     # #print('#########################')\n",
    "        #     # #print('NOT A REP OR SEN')\n",
    "        #     # #print(df.loc[i,['first_name','last_name','title', 'org']])\n",
    "        #     continue\n",
    "            # #print(df.loc[i, list(df.columns[3:5]) + [df.columns[-1]]])\n",
    "            # #print('\\n')\n",
    "    if break_all == True:\n",
    "        break\n",
    "    dfs.append(df)\n",
    "event_data = pd.concat(dfs)\n",
    "event_data.reset_index(inplace=True, drop = True)"
   ]
  },
  {
   "cell_type": "code",
   "execution_count": 9,
   "metadata": {},
   "outputs": [],
   "source": [
    "\n",
    "#looks for state names and replaces them with state initials\n",
    "for i,j in enumerate(event_data['state']):\n",
    "    \n",
    "    if isinstance(j, float):\n",
    "        continue\n",
    "    elif re.search(r'[A-Z]{2}', str(j)):\n",
    "        continue\n",
    "    else:\n",
    "        val = state_ref.get(str(j))\n",
    "        event_data.loc[i,'state'] = str(val)"
   ]
  },
  {
   "cell_type": "code",
   "execution_count": 10,
   "metadata": {},
   "outputs": [],
   "source": [
    "os.chdir(r'C:\\Users\\clutz\\OneDrive - THE HUNT INSTITUTE\\Documents\\Data\\attendance data\\exports')\n",
    "# event_data.to_csv(\"event_data_export_11_7_2024.csv\", index=False)"
   ]
  },
  {
   "cell_type": "markdown",
   "metadata": {},
   "source": [
    "### refining data\n",
    "\n",
    "This section refines the data done into only legislators and then split by whether districts are found or not\n",
    "\n",
    "Later on hopefully we wont need to split up by no districts"
   ]
  },
  {
   "cell_type": "code",
   "execution_count": 11,
   "metadata": {},
   "outputs": [],
   "source": [
    "#pattern set up\n",
    "title_pattern = r'[Rr]epresentative|[Ss]enator|[Ll]egislator'\n",
    "org_pattern = r'[Ss]enate|[Hh]ouse of ([Rr]epresentatives)?(Delegates)?|(?<!School )(?:House District|District)|[Ss]tate [Hh]ouse'"
   ]
  },
  {
   "cell_type": "code",
   "execution_count": 12,
   "metadata": {},
   "outputs": [
    {
     "name": "stderr",
     "output_type": "stream",
     "text": [
      "C:\\Users\\clutz\\AppData\\Local\\Temp\\ipykernel_14284\\2199197650.py:6: UserWarning: This pattern is interpreted as a regular expression, and has match groups. To actually get the groups, use str.extract.\n",
      "  no_districts = filtered_df[~(filtered_df['org'].str.contains(r'[Dd]istrict\\s?\\d{1,3}|[Dd](-|\\s)?\\d{2,3}', regex=True) |\n",
      "C:\\Users\\clutz\\AppData\\Local\\Temp\\ipykernel_14284\\2199197650.py:7: UserWarning: This pattern is interpreted as a regular expression, and has match groups. To actually get the groups, use str.extract.\n",
      "  filtered_df['title'].str.contains(r'[Dd]istrict\\s?\\d{1,3}|[Dd](-|\\s)?\\d{2,3}', regex=True))]\n",
      "C:\\Users\\clutz\\AppData\\Local\\Temp\\ipykernel_14284\\2199197650.py:16: UserWarning: This pattern is interpreted as a regular expression, and has match groups. To actually get the groups, use str.extract.\n",
      "  w_districts = filtered_df[(filtered_df['org'].str.contains(r'[Dd]istrict\\s?\\d{1,3}|[Dd](-|\\s)?\\d{2,3}', regex=True) |\n",
      "C:\\Users\\clutz\\AppData\\Local\\Temp\\ipykernel_14284\\2199197650.py:17: UserWarning: This pattern is interpreted as a regular expression, and has match groups. To actually get the groups, use str.extract.\n",
      "  filtered_df['title'].str.contains(r'[Dd]istrict\\s?\\d{1,3}|[Dd](-|\\s)?\\d{2,3}', regex=True))]\n"
     ]
    }
   ],
   "source": [
    "\n",
    "#filter for state legislators\n",
    "filtered_df = event_data[event_data['title'].astype(str).apply(lambda x: bool(re.search(title_pattern, x))) |\n",
    "                 event_data['org'].astype(str).apply(lambda x: bool(re.search(org_pattern, x)))]\n",
    "\n",
    "#filter out where can't find district number\n",
    "no_districts = filtered_df[~(filtered_df['org'].str.contains(r'[Dd]istrict\\s?\\d{1,3}|[Dd](-|\\s)?\\d{2,3}', regex=True) | \n",
    "                filtered_df['title'].str.contains(r'[Dd]istrict\\s?\\d{1,3}|[Dd](-|\\s)?\\d{2,3}', regex=True))]\n",
    "\n",
    "\n",
    "#Data export\n",
    "# os.chdir(r'C:\\Users\\clutz\\OneDrive - THE HUNT INSTITUTE\\Documents\\Data\\attendance data\\exports')\n",
    "# no_districts.to_csv('no_districts.csv', index=False)\n",
    "\n",
    "\n",
    "#regine values with districts\n",
    "w_districts = filtered_df[(filtered_df['org'].str.contains(r'[Dd]istrict\\s?\\d{1,3}|[Dd](-|\\s)?\\d{2,3}', regex=True) | \n",
    "                filtered_df['title'].str.contains(r'[Dd]istrict\\s?\\d{1,3}|[Dd](-|\\s)?\\d{2,3}', regex=True))]\n",
    "\n",
    "w_districts.reset_index(inplace=True, drop=True)\n",
    "w_districts['chamber'] = \"\""
   ]
  },
  {
   "cell_type": "code",
   "execution_count": 13,
   "metadata": {},
   "outputs": [],
   "source": [
    "i = 0\n",
    "for a,b in zip(w_districts.title, w_districts.org):\n",
    "    # print('#######################')\n",
    "    # print('***********')\n",
    "    # print(a)\n",
    "    # print('***********')\n",
    "    # print(b)\n",
    "    # continue\n",
    "    has_a = False\n",
    "    has_b = False\n",
    "    if 'district' in str(a).lower() or re.search(r'[Dd]-?\\s?\\d{1,3}', str(a)):\n",
    "        match_a = re.findall(r'[Dd]istrict\\s?\\d{1,3}|[Dd]-?\\s?\\d{1,3}', str(a))\n",
    "        match_a = [x for x in match_a if len(x) > 0]\n",
    "        if len(match_a) == 0:\n",
    "            print('no results for title')\n",
    "            print(a)\n",
    "            \n",
    "        else:\n",
    "            has_a = True\n",
    "            match = match_a[0]\n",
    "            # print(\"a match: \" + match)\n",
    "            # print('################')\n",
    "            # print(match_a)\n",
    "        # print(str(dis))\n",
    "    \n",
    "    if 'district' in str(b).lower() or re.search(r'[Dd]-?\\s?\\d{1,3}', str(b)):\n",
    "        match_b = re.findall(r'[Dd]istrict\\s?\\d{1,3}|[Dd]-?\\s?\\d{1,3}', str(b))\n",
    "        match_b = [x for x in match_b if len(x) > 0]\n",
    "        if len(match_b) == 0:\n",
    "            print('no results for org')\n",
    "            print(b)\n",
    "        \n",
    "        else:\n",
    "            has_b = True\n",
    "            match = match_b[0]\n",
    "            # print(\"b match: \" + match)\n",
    "            # print('################')\n",
    "            # print(match_b)\n",
    "    # else:\n",
    "    #     print('no results')\n",
    "    #     print(a)\n",
    "    #     print(b)\n",
    "\n",
    "\n",
    "    if has_b == True or has_a == True:\n",
    "        match_final = re.findall(r'\\d+', str(match))\n",
    "        # print(\"final match: \" + str(match_final[0]))\n",
    "        # print(\"putting it on row: \" + str(i))\n",
    "        w_districts.loc[i, 'district'] = str(match_final[0]).strip().lstrip('0')\n",
    "\n",
    "    i +=1"
   ]
  },
  {
   "cell_type": "markdown",
   "metadata": {},
   "source": [
    "### Fix for no districts\n",
    "The chunk below brings in a manually edited file that incorporates districts from match where available\n",
    "missing info mostly comes from states where we have not pulled legislator data"
   ]
  },
  {
   "cell_type": "code",
   "execution_count": 14,
   "metadata": {},
   "outputs": [],
   "source": [
    "patch_file = r\"C:\\Users\\clutz\\OneDrive - THE HUNT INSTITUTE\\Documents\\Data\\attendance data\\archive\\no_districts_attendance_patch.xlsx\"\n",
    "districts_patch = pd.read_excel(patch_file)\n",
    "\n",
    "patched_df = pd.concat([w_districts,districts_patch])\n",
    "patched_df.reset_index(inplace=True, drop=True)\n",
    "i = 0\n",
    "for a,b in zip(patched_df.title, patched_df.org):\n",
    "    if re.search(r'[Hh]ouse|[Ss]enate', str(b)):\n",
    "        if re.search(r'[Hh]ouse', str(b)):\n",
    "            chamber = \"House\"\n",
    "        elif re.search(r'[Ss]enate', str(b)):\n",
    "            chamber = \"Senate\"\n",
    "    elif re.search(r'[Rr]epresentative|[Ss]enator|[Dd]elegate', str(a)):\n",
    "        if re.search(r'[Rr]epresentative|[Dd]elegate', str(a)):\n",
    "            chamber = \"House\"\n",
    "        elif re.search(r'[Ss]enator', str(a)):\n",
    "            chamber = \"Senate\"\n",
    "\n",
    "    try:\n",
    "        patched_df.loc[i,'chamber'] = str(chamber)\n",
    "        i += 1\n",
    "    except:\n",
    "        i += 1\n",
    "        continue\n",
    "\n"
   ]
  },
  {
   "cell_type": "markdown",
   "metadata": {},
   "source": [
    "### compiling events\n",
    "\n",
    "takes all of the events "
   ]
  },
  {
   "cell_type": "code",
   "execution_count": null,
   "metadata": {},
   "outputs": [
    {
     "data": {
      "text/html": [
       "<div>\n",
       "<style scoped>\n",
       "    .dataframe tbody tr th:only-of-type {\n",
       "        vertical-align: middle;\n",
       "    }\n",
       "\n",
       "    .dataframe tbody tr th {\n",
       "        vertical-align: top;\n",
       "    }\n",
       "\n",
       "    .dataframe thead th {\n",
       "        text-align: right;\n",
       "    }\n",
       "</style>\n",
       "<table border=\"1\" class=\"dataframe\">\n",
       "  <thead>\n",
       "    <tr style=\"text-align: right;\">\n",
       "      <th></th>\n",
       "      <th>first_name</th>\n",
       "      <th>last_name</th>\n",
       "      <th>honorific</th>\n",
       "      <th>title</th>\n",
       "      <th>org</th>\n",
       "      <th>district</th>\n",
       "      <th>role</th>\n",
       "      <th>state</th>\n",
       "      <th>event name</th>\n",
       "      <th>chamber</th>\n",
       "      <th>helper</th>\n",
       "    </tr>\n",
       "  </thead>\n",
       "  <tbody>\n",
       "    <tr>\n",
       "      <th>0</th>\n",
       "      <td>Kyra</td>\n",
       "      <td>Hoffner</td>\n",
       "      <td>Senator</td>\n",
       "      <td>District 014 Senator</td>\n",
       "      <td>Deleware Senate</td>\n",
       "      <td>14</td>\n",
       "      <td>NaN</td>\n",
       "      <td>DE</td>\n",
       "      <td>DE LEG ED Dinner 2023</td>\n",
       "      <td>Senate</td>\n",
       "      <td>DE-Senate-14</td>\n",
       "    </tr>\n",
       "    <tr>\n",
       "      <th>1</th>\n",
       "      <td>Russell</td>\n",
       "      <td>Huxtable</td>\n",
       "      <td>Senator</td>\n",
       "      <td>District 006 Senator</td>\n",
       "      <td>Deleware Senate</td>\n",
       "      <td>6</td>\n",
       "      <td>NaN</td>\n",
       "      <td>DE</td>\n",
       "      <td>DE LEG ED Dinner 2023</td>\n",
       "      <td>Senate</td>\n",
       "      <td>DE-Senate-6</td>\n",
       "    </tr>\n",
       "    <tr>\n",
       "      <th>2</th>\n",
       "      <td>Laura</td>\n",
       "      <td>Sturgeon</td>\n",
       "      <td>Senator</td>\n",
       "      <td>District 004 Senator</td>\n",
       "      <td>Deleware Senate</td>\n",
       "      <td>4</td>\n",
       "      <td>NaN</td>\n",
       "      <td>DE</td>\n",
       "      <td>DE LEG ED Dinner 2023</td>\n",
       "      <td>Senate</td>\n",
       "      <td>DE-Senate-4</td>\n",
       "    </tr>\n",
       "    <tr>\n",
       "      <th>3</th>\n",
       "      <td>Jeff</td>\n",
       "      <td>Hilovsky</td>\n",
       "      <td>Representative</td>\n",
       "      <td>District 004 Representative</td>\n",
       "      <td>Deleware House of Representatives</td>\n",
       "      <td>4</td>\n",
       "      <td>NaN</td>\n",
       "      <td>DE</td>\n",
       "      <td>DE LEG ED Dinner 2023</td>\n",
       "      <td>House</td>\n",
       "      <td>DE-House-4</td>\n",
       "    </tr>\n",
       "    <tr>\n",
       "      <th>4</th>\n",
       "      <td>Sophie</td>\n",
       "      <td>Phillips</td>\n",
       "      <td>Representative</td>\n",
       "      <td>District 018 Representative</td>\n",
       "      <td>Deleware House of Representatives</td>\n",
       "      <td>18</td>\n",
       "      <td>NaN</td>\n",
       "      <td>DE</td>\n",
       "      <td>DE LEG ED Dinner 2023</td>\n",
       "      <td>House</td>\n",
       "      <td>DE-House-18</td>\n",
       "    </tr>\n",
       "    <tr>\n",
       "      <th>...</th>\n",
       "      <td>...</td>\n",
       "      <td>...</td>\n",
       "      <td>...</td>\n",
       "      <td>...</td>\n",
       "      <td>...</td>\n",
       "      <td>...</td>\n",
       "      <td>...</td>\n",
       "      <td>...</td>\n",
       "      <td>...</td>\n",
       "      <td>...</td>\n",
       "      <td>...</td>\n",
       "    </tr>\n",
       "    <tr>\n",
       "      <th>473</th>\n",
       "      <td>Mike</td>\n",
       "      <td>Pushkin</td>\n",
       "      <td>Delegate</td>\n",
       "      <td>NaN</td>\n",
       "      <td>WV House of Delegates</td>\n",
       "      <td>54</td>\n",
       "      <td>NaN</td>\n",
       "      <td>WV</td>\n",
       "      <td>WV SLR 2023</td>\n",
       "      <td>House</td>\n",
       "      <td>WV-House-54</td>\n",
       "    </tr>\n",
       "    <tr>\n",
       "      <th>474</th>\n",
       "      <td>Andy</td>\n",
       "      <td>Shamblin</td>\n",
       "      <td>Delegate</td>\n",
       "      <td>NaN</td>\n",
       "      <td>WV House of Delegates</td>\n",
       "      <td>59</td>\n",
       "      <td>NaN</td>\n",
       "      <td>WV</td>\n",
       "      <td>WV SLR 2023</td>\n",
       "      <td>House</td>\n",
       "      <td>WV-House-59</td>\n",
       "    </tr>\n",
       "    <tr>\n",
       "      <th>475</th>\n",
       "      <td>Kayla</td>\n",
       "      <td>Young</td>\n",
       "      <td>Delegate</td>\n",
       "      <td>NaN</td>\n",
       "      <td>WV House of Delegates</td>\n",
       "      <td>56</td>\n",
       "      <td>speaker</td>\n",
       "      <td>WV</td>\n",
       "      <td>WV SLR 2023</td>\n",
       "      <td>House</td>\n",
       "      <td>WV-House-56</td>\n",
       "    </tr>\n",
       "    <tr>\n",
       "      <th>476</th>\n",
       "      <td>Hank</td>\n",
       "      <td>Hager</td>\n",
       "      <td>NaN</td>\n",
       "      <td>Chief Counsel</td>\n",
       "      <td>West Virginia State Senate Education Committee</td>\n",
       "      <td>NaN</td>\n",
       "      <td>Invited Guests</td>\n",
       "      <td>WV</td>\n",
       "      <td>WV SLR 2024</td>\n",
       "      <td>Senate</td>\n",
       "      <td>WV-Senate-nan</td>\n",
       "    </tr>\n",
       "    <tr>\n",
       "      <th>477</th>\n",
       "      <td>Brenda</td>\n",
       "      <td>Stanley</td>\n",
       "      <td>Senator</td>\n",
       "      <td>Senator</td>\n",
       "      <td>Oklahoma State Senate</td>\n",
       "      <td>42</td>\n",
       "      <td>Legislator</td>\n",
       "      <td>OK</td>\n",
       "      <td>OK SLR 2023</td>\n",
       "      <td>Senate</td>\n",
       "      <td>OK-Senate-42</td>\n",
       "    </tr>\n",
       "  </tbody>\n",
       "</table>\n",
       "<p>478 rows × 11 columns</p>\n",
       "</div>"
      ],
      "text/plain": [
       "    first_name last_name       honorific                        title  \\\n",
       "0         Kyra   Hoffner         Senator         District 014 Senator   \n",
       "1      Russell  Huxtable         Senator         District 006 Senator   \n",
       "2        Laura  Sturgeon         Senator         District 004 Senator   \n",
       "3         Jeff  Hilovsky  Representative  District 004 Representative   \n",
       "4       Sophie  Phillips  Representative  District 018 Representative   \n",
       "..         ...       ...             ...                          ...   \n",
       "473       Mike   Pushkin        Delegate                          NaN   \n",
       "474       Andy  Shamblin        Delegate                          NaN   \n",
       "475      Kayla     Young        Delegate                          NaN   \n",
       "476       Hank     Hager             NaN                Chief Counsel   \n",
       "477     Brenda   Stanley         Senator                      Senator   \n",
       "\n",
       "                                                org district            role  \\\n",
       "0                                   Deleware Senate       14             NaN   \n",
       "1                                   Deleware Senate        6             NaN   \n",
       "2                                   Deleware Senate        4             NaN   \n",
       "3                 Deleware House of Representatives        4             NaN   \n",
       "4                 Deleware House of Representatives       18             NaN   \n",
       "..                                              ...      ...             ...   \n",
       "473                           WV House of Delegates       54             NaN   \n",
       "474                           WV House of Delegates       59             NaN   \n",
       "475                           WV House of Delegates       56         speaker   \n",
       "476  West Virginia State Senate Education Committee      NaN  Invited Guests   \n",
       "477                           Oklahoma State Senate       42      Legislator   \n",
       "\n",
       "    state             event name chamber         helper  \n",
       "0      DE  DE LEG ED Dinner 2023  Senate   DE-Senate-14  \n",
       "1      DE  DE LEG ED Dinner 2023  Senate    DE-Senate-6  \n",
       "2      DE  DE LEG ED Dinner 2023  Senate    DE-Senate-4  \n",
       "3      DE  DE LEG ED Dinner 2023   House     DE-House-4  \n",
       "4      DE  DE LEG ED Dinner 2023   House    DE-House-18  \n",
       "..    ...                    ...     ...            ...  \n",
       "473    WV            WV SLR 2023   House    WV-House-54  \n",
       "474    WV            WV SLR 2023   House    WV-House-59  \n",
       "475    WV            WV SLR 2023   House    WV-House-56  \n",
       "476    WV            WV SLR 2024  Senate  WV-Senate-nan  \n",
       "477    OK            OK SLR 2023  Senate   OK-Senate-42  \n",
       "\n",
       "[478 rows x 11 columns]"
      ]
     },
     "execution_count": 29,
     "metadata": {},
     "output_type": "execute_result"
    }
   ],
   "source": [
    "\n",
    "\n",
    "\n",
    "#creating helper column\n",
    "patched_df['helper'] = patched_df['state'].astype(str)+ \"-\"+ patched_df['chamber'].astype(str)+ \"-\"+patched_df['district'].astype(str)\n",
    "\n",
    "patched_df.loc[patched_df['state'].isna() | (patched_df['state'] == \"\") | (patched_df['district'].isna()), 'helper'] = None\n",
    "\n",
    "patch_minus_nan = patched_df[~(patched_df['helper'].isna())]\n",
    "# print(patch_minus_nan.columns)\n",
    "thi_states_df = patch_minus_nan.loc[:,['helper','first_name', 'last_name', 'honorific', 'title', 'org', 'district',\n",
    "       'role', 'state', 'event name']]\n",
    "\n",
    "grouped_df = thi_states_df.groupby('helper').agg({\n",
    "    'first_name': 'first',\n",
    "    'last_name': 'first',\n",
    "    'honorific': 'first',\n",
    "    'title': 'first',\n",
    "    'org': 'first',\n",
    "    'district': 'first',\n",
    "    'state': 'first',\n",
    "    'event name': lambda x: '|'.join(\n",
    "        f\"{sc} ({ac})\" if not pd.isna(ac) else f\"{sc}\"\n",
    "        for sc, ac in zip(thi_states_df.loc[x.index, 'event name'], thi_states_df.loc[x.index, 'role'])),\n",
    "\n",
    "}).reset_index()\n",
    "# grouped_df.reset_index()\n",
    "grouped_df.rename(columns={'event name': 'events'}, inplace=True)\n",
    "\n",
    "\n",
    "\n"
   ]
  },
  {
   "cell_type": "markdown",
   "metadata": {},
   "source": [
    "## Scoring\n",
    "\n",
    "Cell below calculates the activities score from the attendance data"
   ]
  },
  {
   "cell_type": "code",
   "execution_count": 22,
   "metadata": {},
   "outputs": [
    {
     "data": {
      "text/markdown": [
       " ## Corey Paris"
      ]
     },
     "metadata": {},
     "output_type": "display_data"
    },
    {
     "data": {
      "text/markdown": [
       " ## ECLS 2024"
      ]
     },
     "metadata": {},
     "output_type": "display_data"
    },
    {
     "name": "stdout",
     "output_type": "stream",
     "text": [
      "ECLS 2024\n",
      "no state match\n",
      "adding 10 for full day event with no other attributes\n",
      "┌──┐\n",
      "│10│\n",
      "└──┘\n",
      "[10]\n",
      "total:  10\n"
     ]
    },
    {
     "data": {
      "text/markdown": [
       " ## Tammy Exum"
      ]
     },
     "metadata": {},
     "output_type": "display_data"
    },
    {
     "data": {
      "text/markdown": [
       " ## ECLS 2024"
      ]
     },
     "metadata": {},
     "output_type": "display_data"
    },
    {
     "name": "stdout",
     "output_type": "stream",
     "text": [
      "ECLS 2024\n",
      "no state match\n",
      "adding 10 for full day event with no other attributes\n",
      "┌──┐\n",
      "│10│\n",
      "└──┘\n",
      "[10]\n",
      "total:  10\n"
     ]
    },
    {
     "data": {
      "text/markdown": [
       " ## Kate Farrar"
      ]
     },
     "metadata": {},
     "output_type": "display_data"
    },
    {
     "data": {
      "text/markdown": [
       " ## ECLS 2024"
      ]
     },
     "metadata": {},
     "output_type": "display_data"
    },
    {
     "name": "stdout",
     "output_type": "stream",
     "text": [
      "ECLS 2024\n",
      "no state match\n",
      "adding 10 for full day event with no other attributes\n",
      "┌──┐\n",
      "│10│\n",
      "└──┘\n",
      "[10]\n",
      "total:  10\n"
     ]
    },
    {
     "data": {
      "text/markdown": [
       " ## Michelle Cook"
      ]
     },
     "metadata": {},
     "output_type": "display_data"
    },
    {
     "data": {
      "text/markdown": [
       " ## ECLS 2024"
      ]
     },
     "metadata": {},
     "output_type": "display_data"
    },
    {
     "name": "stdout",
     "output_type": "stream",
     "text": [
      "ECLS 2024\n",
      "no state match\n",
      "adding 10 for full day event with no other attributes\n",
      "┌──┐\n",
      "│10│\n",
      "└──┘\n",
      "[10]\n",
      "total:  10\n"
     ]
    },
    {
     "data": {
      "text/markdown": [
       " ## Toni Walker"
      ]
     },
     "metadata": {},
     "output_type": "display_data"
    },
    {
     "data": {
      "text/markdown": [
       " ## ECLS 2024"
      ]
     },
     "metadata": {},
     "output_type": "display_data"
    },
    {
     "name": "stdout",
     "output_type": "stream",
     "text": [
      "ECLS 2024\n",
      "no state match\n",
      "adding 10 for full day event with no other attributes\n",
      "┌──┐\n",
      "│10│\n",
      "└──┘\n",
      "[10]\n",
      "total:  10\n"
     ]
    },
    {
     "data": {
      "text/markdown": [
       " ## Moira Rader"
      ]
     },
     "metadata": {},
     "output_type": "display_data"
    },
    {
     "data": {
      "text/markdown": [
       " ## ECLS 2024"
      ]
     },
     "metadata": {},
     "output_type": "display_data"
    },
    {
     "name": "stdout",
     "output_type": "stream",
     "text": [
      "ECLS 2024\n",
      "no state match\n",
      "adding 10 for full day event with no other attributes\n",
      "┌──┐\n",
      "│10│\n",
      "└──┘\n"
     ]
    },
    {
     "data": {
      "text/markdown": [
       " ## HKF C10 S1 (HKF)"
      ]
     },
     "metadata": {},
     "output_type": "display_data"
    },
    {
     "name": "stdout",
     "output_type": "stream",
     "text": [
      "HKF C10 S1 (HKF)\n",
      "no state match\n",
      "adding 10 for full day event with no other attributes\n",
      "adding 20 for Moira Rader due to being hkf\n",
      "┌──┐\n",
      "│30│\n",
      "└──┘\n",
      "[10, 30]\n",
      "total:  40\n"
     ]
    },
    {
     "data": {
      "text/markdown": [
       " ## James Maroney"
      ]
     },
     "metadata": {},
     "output_type": "display_data"
    },
    {
     "data": {
      "text/markdown": [
       " ## ECLS 2024"
      ]
     },
     "metadata": {},
     "output_type": "display_data"
    },
    {
     "name": "stdout",
     "output_type": "stream",
     "text": [
      "ECLS 2024\n",
      "no state match\n",
      "adding 10 for full day event with no other attributes\n",
      "┌──┐\n",
      "│10│\n",
      "└──┘\n",
      "[10]\n",
      "total:  10\n"
     ]
    },
    {
     "data": {
      "text/markdown": [
       " ## Cece Maher"
      ]
     },
     "metadata": {},
     "output_type": "display_data"
    },
    {
     "data": {
      "text/markdown": [
       " ## ECLS 2024"
      ]
     },
     "metadata": {},
     "output_type": "display_data"
    },
    {
     "name": "stdout",
     "output_type": "stream",
     "text": [
      "ECLS 2024\n",
      "no state match\n",
      "adding 10 for full day event with no other attributes\n",
      "┌──┐\n",
      "│10│\n",
      "└──┘\n",
      "[10]\n",
      "total:  10\n"
     ]
    },
    {
     "data": {
      "text/markdown": [
       " ## Eric Berthel"
      ]
     },
     "metadata": {},
     "output_type": "display_data"
    },
    {
     "data": {
      "text/markdown": [
       " ## ECLS 2024"
      ]
     },
     "metadata": {},
     "output_type": "display_data"
    },
    {
     "name": "stdout",
     "output_type": "stream",
     "text": [
      "ECLS 2024\n",
      "no state match\n",
      "adding 10 for full day event with no other attributes\n",
      "┌──┐\n",
      "│10│\n",
      "└──┘\n",
      "[10]\n",
      "total:  10\n"
     ]
    },
    {
     "data": {
      "text/markdown": [
       " ## Sophie Phillips"
      ]
     },
     "metadata": {},
     "output_type": "display_data"
    },
    {
     "data": {
      "text/markdown": [
       " ## DE LEG ED Dinner 2023"
      ]
     },
     "metadata": {},
     "output_type": "display_data"
    },
    {
     "name": "stdout",
     "output_type": "stream",
     "text": [
      "adding 5 for Sophie Phillips due to being a lunch or dinner\n",
      "┌─┐\n",
      "│5│\n",
      "└─┘\n",
      "[5]\n",
      "total:  5\n"
     ]
    },
    {
     "data": {
      "text/markdown": [
       " ## Cyndie Romer"
      ]
     },
     "metadata": {},
     "output_type": "display_data"
    },
    {
     "data": {
      "text/markdown": [
       " ## DE LEG ED Dinner 2023"
      ]
     },
     "metadata": {},
     "output_type": "display_data"
    },
    {
     "name": "stdout",
     "output_type": "stream",
     "text": [
      "adding 5 for Cyndie Romer due to being a lunch or dinner\n",
      "┌─┐\n",
      "│5│\n",
      "└─┘\n",
      "[5]\n",
      "total:  5\n"
     ]
    },
    {
     "data": {
      "text/markdown": [
       " ## Madinah Wilson-Anton"
      ]
     },
     "metadata": {},
     "output_type": "display_data"
    },
    {
     "data": {
      "text/markdown": [
       " ## DE LEG ED Dinner 2023"
      ]
     },
     "metadata": {},
     "output_type": "display_data"
    },
    {
     "name": "stdout",
     "output_type": "stream",
     "text": [
      "adding 5 for Madinah Wilson-Anton due to being a lunch or dinner\n",
      "┌─┐\n",
      "│5│\n",
      "└─┘\n",
      "[5]\n",
      "total:  5\n"
     ]
    },
    {
     "data": {
      "text/markdown": [
       " ## Lyndon Yearick"
      ]
     },
     "metadata": {},
     "output_type": "display_data"
    },
    {
     "data": {
      "text/markdown": [
       " ## DE LEG ED Dinner 2023"
      ]
     },
     "metadata": {},
     "output_type": "display_data"
    },
    {
     "name": "stdout",
     "output_type": "stream",
     "text": [
      "adding 5 for Lyndon Yearick due to being a lunch or dinner\n",
      "┌─┐\n",
      "│5│\n",
      "└─┘\n",
      "[5]\n",
      "total:  5\n"
     ]
    },
    {
     "data": {
      "text/markdown": [
       " ## Jeff Hilovsky"
      ]
     },
     "metadata": {},
     "output_type": "display_data"
    },
    {
     "data": {
      "text/markdown": [
       " ## DE LEG ED Dinner 2023"
      ]
     },
     "metadata": {},
     "output_type": "display_data"
    },
    {
     "name": "stdout",
     "output_type": "stream",
     "text": [
      "adding 5 for Jeff Hilovsky due to being a lunch or dinner\n",
      "┌─┐\n",
      "│5│\n",
      "└─┘\n",
      "[5]\n",
      "total:  5\n"
     ]
    },
    {
     "data": {
      "text/markdown": [
       " ## Kyra Hoffner"
      ]
     },
     "metadata": {},
     "output_type": "display_data"
    },
    {
     "data": {
      "text/markdown": [
       " ## DE LEG ED Dinner 2023"
      ]
     },
     "metadata": {},
     "output_type": "display_data"
    },
    {
     "name": "stdout",
     "output_type": "stream",
     "text": [
      "adding 5 for Kyra Hoffner due to being a lunch or dinner\n",
      "┌─┐\n",
      "│5│\n",
      "└─┘\n",
      "[5]\n",
      "total:  5\n"
     ]
    },
    {
     "data": {
      "text/markdown": [
       " ## Laura Sturgeon"
      ]
     },
     "metadata": {},
     "output_type": "display_data"
    },
    {
     "data": {
      "text/markdown": [
       " ## DE LEG ED Dinner 2023"
      ]
     },
     "metadata": {},
     "output_type": "display_data"
    },
    {
     "name": "stdout",
     "output_type": "stream",
     "text": [
      "adding 5 for Laura Sturgeon due to being a lunch or dinner\n",
      "┌─┐\n",
      "│5│\n",
      "└─┘\n",
      "[5]\n",
      "total:  5\n"
     ]
    },
    {
     "data": {
      "text/markdown": [
       " ## Russell Huxtable"
      ]
     },
     "metadata": {},
     "output_type": "display_data"
    },
    {
     "data": {
      "text/markdown": [
       " ## DE LEG ED Dinner 2023"
      ]
     },
     "metadata": {},
     "output_type": "display_data"
    },
    {
     "name": "stdout",
     "output_type": "stream",
     "text": [
      "adding 5 for Russell Huxtable due to being a lunch or dinner\n",
      "┌─┐\n",
      "│5│\n",
      "└─┘\n",
      "[5]\n",
      "total:  5\n"
     ]
    },
    {
     "data": {
      "text/markdown": [
       " ## Aaron Ortiz"
      ]
     },
     "metadata": {},
     "output_type": "display_data"
    },
    {
     "data": {
      "text/markdown": [
       " ## ECLS 2024"
      ]
     },
     "metadata": {},
     "output_type": "display_data"
    },
    {
     "name": "stdout",
     "output_type": "stream",
     "text": [
      "ECLS 2024\n",
      "no state match\n",
      "adding 10 for full day event with no other attributes\n",
      "┌──┐\n",
      "│10│\n",
      "└──┘\n",
      "[10]\n",
      "total:  10\n"
     ]
    },
    {
     "data": {
      "text/markdown": [
       " ## Mary Beth Canty"
      ]
     },
     "metadata": {},
     "output_type": "display_data"
    },
    {
     "data": {
      "text/markdown": [
       " ## ECLS 2024 (Team Lead, Presenter)"
      ]
     },
     "metadata": {},
     "output_type": "display_data"
    },
    {
     "name": "stdout",
     "output_type": "stream",
     "text": [
      "found a speaker\n",
      "ECLS 2024 (Team Lead, Presenter)\n",
      "no state match\n",
      "adding 10 for full day event with no other attributes\n",
      "┌──┐\n",
      "│10│\n",
      "└──┘\n"
     ]
    },
    {
     "data": {
      "text/markdown": [
       " ## HKF C10 S1 (HKF)"
      ]
     },
     "metadata": {},
     "output_type": "display_data"
    },
    {
     "name": "stdout",
     "output_type": "stream",
     "text": [
      "HKF C10 S1 (HKF)\n",
      "no state match\n",
      "adding 10 for full day event with no other attributes\n",
      "adding 20 for Mary Beth Canty due to being hkf\n",
      "┌──┐\n",
      "│30│\n",
      "└──┘\n",
      "[10, 30]\n",
      "total:  40\n"
     ]
    },
    {
     "data": {
      "text/markdown": [
       " ## Joyce Mason"
      ]
     },
     "metadata": {},
     "output_type": "display_data"
    },
    {
     "data": {
      "text/markdown": [
       " ## ECLS 2024"
      ]
     },
     "metadata": {},
     "output_type": "display_data"
    },
    {
     "name": "stdout",
     "output_type": "stream",
     "text": [
      "ECLS 2024\n",
      "no state match\n",
      "adding 10 for full day event with no other attributes\n",
      "┌──┐\n",
      "│10│\n",
      "└──┘\n",
      "[10]\n",
      "total:  10\n"
     ]
    },
    {
     "data": {
      "text/markdown": [
       " ## Kyle Miller"
      ]
     },
     "metadata": {},
     "output_type": "display_data"
    },
    {
     "data": {
      "text/markdown": [
       " ## ECLS 2024"
      ]
     },
     "metadata": {},
     "output_type": "display_data"
    },
    {
     "name": "stdout",
     "output_type": "stream",
     "text": [
      "ECLS 2024\n",
      "no state match\n",
      "adding 10 for full day event with no other attributes\n",
      "┌──┐\n",
      "│10│\n",
      "└──┘\n",
      "[10]\n",
      "total:  10\n"
     ]
    },
    {
     "data": {
      "text/markdown": [
       " ## Susan Ruiz"
      ]
     },
     "metadata": {},
     "output_type": "display_data"
    },
    {
     "data": {
      "text/markdown": [
       " ## ECLS 2024"
      ]
     },
     "metadata": {},
     "output_type": "display_data"
    },
    {
     "name": "stdout",
     "output_type": "stream",
     "text": [
      "ECLS 2024\n",
      "no state match\n",
      "adding 10 for full day event with no other attributes\n",
      "┌──┐\n",
      "│10│\n",
      "└──┘\n",
      "[10]\n",
      "total:  10\n"
     ]
    },
    {
     "data": {
      "text/markdown": [
       " ## Dinah Sykes"
      ]
     },
     "metadata": {},
     "output_type": "display_data"
    },
    {
     "data": {
      "text/markdown": [
       " ## ECLS 2024"
      ]
     },
     "metadata": {},
     "output_type": "display_data"
    },
    {
     "name": "stdout",
     "output_type": "stream",
     "text": [
      "ECLS 2024\n",
      "no state match\n",
      "adding 10 for full day event with no other attributes\n",
      "┌──┐\n",
      "│10│\n",
      "└──┘\n",
      "[10]\n",
      "total:  10\n"
     ]
    },
    {
     "data": {
      "text/markdown": [
       " ## Pat Pettey"
      ]
     },
     "metadata": {},
     "output_type": "display_data"
    },
    {
     "data": {
      "text/markdown": [
       " ## ECLS 2024"
      ]
     },
     "metadata": {},
     "output_type": "display_data"
    },
    {
     "name": "stdout",
     "output_type": "stream",
     "text": [
      "ECLS 2024\n",
      "no state match\n",
      "adding 10 for full day event with no other attributes\n",
      "┌──┐\n",
      "│10│\n",
      "└──┘\n",
      "[10]\n",
      "total:  10\n"
     ]
    },
    {
     "data": {
      "text/markdown": [
       " ## Philip Oehlerking"
      ]
     },
     "metadata": {},
     "output_type": "display_data"
    },
    {
     "data": {
      "text/markdown": [
       " ## MO SLR 2023"
      ]
     },
     "metadata": {},
     "output_type": "display_data"
    },
    {
     "name": "stdout",
     "output_type": "stream",
     "text": [
      "adding 15 for Philip Oehlerking due to being an slr\n",
      "┌──┐\n",
      "│15│\n",
      "└──┘\n",
      "[15]\n",
      "total:  15\n"
     ]
    },
    {
     "data": {
      "text/markdown": [
       " ## Richard West"
      ]
     },
     "metadata": {},
     "output_type": "display_data"
    },
    {
     "data": {
      "text/markdown": [
       " ## MO SLR 2023"
      ]
     },
     "metadata": {},
     "output_type": "display_data"
    },
    {
     "name": "stdout",
     "output_type": "stream",
     "text": [
      "adding 15 for Richard West due to being an slr\n",
      "┌──┐\n",
      "│15│\n",
      "└──┘\n",
      "[15]\n",
      "total:  15\n"
     ]
    },
    {
     "data": {
      "text/markdown": [
       " ## Adam Schwadron"
      ]
     },
     "metadata": {},
     "output_type": "display_data"
    },
    {
     "data": {
      "text/markdown": [
       " ## MO SLR 2023"
      ]
     },
     "metadata": {},
     "output_type": "display_data"
    },
    {
     "name": "stdout",
     "output_type": "stream",
     "text": [
      "adding 15 for Adam Schwadron due to being an slr\n",
      "┌──┐\n",
      "│15│\n",
      "└──┘\n",
      "[15]\n",
      "total:  15\n"
     ]
    },
    {
     "data": {
      "text/markdown": [
       " ## Travis Wilson"
      ]
     },
     "metadata": {},
     "output_type": "display_data"
    },
    {
     "data": {
      "text/markdown": [
       " ## MO SLR 2023"
      ]
     },
     "metadata": {},
     "output_type": "display_data"
    },
    {
     "name": "stdout",
     "output_type": "stream",
     "text": [
      "adding 15 for Travis Wilson due to being an slr\n",
      "┌──┐\n",
      "│15│\n",
      "└──┘\n",
      "[15]\n",
      "total:  15\n"
     ]
    },
    {
     "data": {
      "text/markdown": [
       " ## Kyle Marquart"
      ]
     },
     "metadata": {},
     "output_type": "display_data"
    },
    {
     "data": {
      "text/markdown": [
       " ## MO SLR 2023"
      ]
     },
     "metadata": {},
     "output_type": "display_data"
    },
    {
     "name": "stdout",
     "output_type": "stream",
     "text": [
      "adding 15 for Kyle Marquart due to being an slr\n",
      "┌──┐\n",
      "│15│\n",
      "└──┘\n",
      "[15]\n",
      "total:  15\n"
     ]
    },
    {
     "data": {
      "text/markdown": [
       " ## Gary Bonacker"
      ]
     },
     "metadata": {},
     "output_type": "display_data"
    },
    {
     "data": {
      "text/markdown": [
       " ## MO SLR 2023"
      ]
     },
     "metadata": {},
     "output_type": "display_data"
    },
    {
     "name": "stdout",
     "output_type": "stream",
     "text": [
      "adding 15 for Gary Bonacker due to being an slr\n",
      "┌──┐\n",
      "│15│\n",
      "└──┘\n",
      "[15]\n",
      "total:  15\n"
     ]
    },
    {
     "data": {
      "text/markdown": [
       " ## Phil Amato"
      ]
     },
     "metadata": {},
     "output_type": "display_data"
    },
    {
     "data": {
      "text/markdown": [
       " ## MO SLR 2023"
      ]
     },
     "metadata": {},
     "output_type": "display_data"
    },
    {
     "name": "stdout",
     "output_type": "stream",
     "text": [
      "adding 15 for Phil Amato due to being an slr\n",
      "┌──┐\n",
      "│15│\n",
      "└──┘\n",
      "[15]\n",
      "total:  15\n"
     ]
    },
    {
     "data": {
      "text/markdown": [
       " ## Brad Banderman"
      ]
     },
     "metadata": {},
     "output_type": "display_data"
    },
    {
     "data": {
      "text/markdown": [
       " ## MO SLR 2023"
      ]
     },
     "metadata": {},
     "output_type": "display_data"
    },
    {
     "name": "stdout",
     "output_type": "stream",
     "text": [
      "adding 15 for Brad Banderman due to being an slr\n",
      "┌──┐\n",
      "│15│\n",
      "└──┘\n",
      "[15]\n",
      "total:  15\n"
     ]
    },
    {
     "data": {
      "text/markdown": [
       " ## Tara Peters"
      ]
     },
     "metadata": {},
     "output_type": "display_data"
    },
    {
     "data": {
      "text/markdown": [
       " ## MO SLR 2023"
      ]
     },
     "metadata": {},
     "output_type": "display_data"
    },
    {
     "name": "stdout",
     "output_type": "stream",
     "text": [
      "adding 15 for Tara Peters due to being an slr\n",
      "┌──┐\n",
      "│15│\n",
      "└──┘\n",
      "[15]\n",
      "total:  15\n"
     ]
    },
    {
     "data": {
      "text/markdown": [
       " ## Don Mayhew"
      ]
     },
     "metadata": {},
     "output_type": "display_data"
    },
    {
     "data": {
      "text/markdown": [
       " ## MO SLR 2023"
      ]
     },
     "metadata": {},
     "output_type": "display_data"
    },
    {
     "name": "stdout",
     "output_type": "stream",
     "text": [
      "adding 15 for Don Mayhew due to being an slr\n",
      "┌──┐\n",
      "│15│\n",
      "└──┘\n",
      "[15]\n",
      "total:  15\n"
     ]
    },
    {
     "data": {
      "text/markdown": [
       " ## Ann Kelley"
      ]
     },
     "metadata": {},
     "output_type": "display_data"
    },
    {
     "data": {
      "text/markdown": [
       " ## MO SLR 2023"
      ]
     },
     "metadata": {},
     "output_type": "display_data"
    },
    {
     "name": "stdout",
     "output_type": "stream",
     "text": [
      "adding 15 for Ann Kelley due to being an slr\n",
      "┌──┐\n",
      "│15│\n",
      "└──┘\n",
      "[15]\n",
      "total:  15\n"
     ]
    },
    {
     "data": {
      "text/markdown": [
       " ## Alex Riley"
      ]
     },
     "metadata": {},
     "output_type": "display_data"
    },
    {
     "data": {
      "text/markdown": [
       " ## MO SLR 2023"
      ]
     },
     "metadata": {},
     "output_type": "display_data"
    },
    {
     "name": "stdout",
     "output_type": "stream",
     "text": [
      "adding 15 for Alex Riley due to being an slr\n",
      "┌──┐\n",
      "│15│\n",
      "└──┘\n",
      "[15]\n",
      "total:  15\n"
     ]
    },
    {
     "data": {
      "text/markdown": [
       " ## Stephanie Hein"
      ]
     },
     "metadata": {},
     "output_type": "display_data"
    },
    {
     "data": {
      "text/markdown": [
       " ## MO SLR 2023"
      ]
     },
     "metadata": {},
     "output_type": "display_data"
    },
    {
     "name": "stdout",
     "output_type": "stream",
     "text": [
      "adding 15 for Stephanie Hein due to being an slr\n",
      "┌──┐\n",
      "│15│\n",
      "└──┘\n"
     ]
    },
    {
     "data": {
      "text/markdown": [
       " ## ECLS 2024"
      ]
     },
     "metadata": {},
     "output_type": "display_data"
    },
    {
     "name": "stdout",
     "output_type": "stream",
     "text": [
      "ECLS 2024\n",
      "no state match\n",
      "adding 10 for full day event with no other attributes\n",
      "┌──┐\n",
      "│10│\n",
      "└──┘\n",
      "[15, 10]\n",
      "total:  25\n"
     ]
    },
    {
     "data": {
      "text/markdown": [
       " ## Jamie Gragg"
      ]
     },
     "metadata": {},
     "output_type": "display_data"
    },
    {
     "data": {
      "text/markdown": [
       " ## MO SLR 2023"
      ]
     },
     "metadata": {},
     "output_type": "display_data"
    },
    {
     "name": "stdout",
     "output_type": "stream",
     "text": [
      "adding 15 for Jamie Gragg due to being an slr\n",
      "┌──┐\n",
      "│15│\n",
      "└──┘\n",
      "[15]\n",
      "total:  15\n"
     ]
    },
    {
     "data": {
      "text/markdown": [
       " ## Bennie Cook"
      ]
     },
     "metadata": {},
     "output_type": "display_data"
    },
    {
     "data": {
      "text/markdown": [
       " ## MO SLR 2023 (speaker)"
      ]
     },
     "metadata": {},
     "output_type": "display_data"
    },
    {
     "name": "stdout",
     "output_type": "stream",
     "text": [
      "found a speaker\n",
      "adding 15 for Bennie Cook due to being an slr\n",
      "adding 0 for Bennie Cook for being in state speaker\n",
      "┌──┐\n",
      "│15│\n",
      "└──┘\n",
      "[15]\n",
      "total:  15\n"
     ]
    },
    {
     "data": {
      "text/markdown": [
       " ## Barry Hovis"
      ]
     },
     "metadata": {},
     "output_type": "display_data"
    },
    {
     "data": {
      "text/markdown": [
       " ## MO SLR 2023"
      ]
     },
     "metadata": {},
     "output_type": "display_data"
    },
    {
     "name": "stdout",
     "output_type": "stream",
     "text": [
      "adding 15 for Barry Hovis due to being an slr\n",
      "┌──┐\n",
      "│15│\n",
      "└──┘\n",
      "[15]\n",
      "total:  15\n"
     ]
    },
    {
     "data": {
      "text/markdown": [
       " ## Maggie Nurrenbern"
      ]
     },
     "metadata": {},
     "output_type": "display_data"
    },
    {
     "data": {
      "text/markdown": [
       " ## MO SLR 2023 (speaker)"
      ]
     },
     "metadata": {},
     "output_type": "display_data"
    },
    {
     "name": "stdout",
     "output_type": "stream",
     "text": [
      "found a speaker\n",
      "adding 15 for Maggie Nurrenbern due to being an slr\n",
      "adding 0 for Maggie Nurrenbern for being in state speaker\n",
      "┌──┐\n",
      "│15│\n",
      "└──┘\n",
      "[15]\n",
      "total:  15\n"
     ]
    },
    {
     "data": {
      "text/markdown": [
       " ## Hardy Billington"
      ]
     },
     "metadata": {},
     "output_type": "display_data"
    },
    {
     "data": {
      "text/markdown": [
       " ## MO SLR 2023"
      ]
     },
     "metadata": {},
     "output_type": "display_data"
    },
    {
     "name": "stdout",
     "output_type": "stream",
     "text": [
      "adding 15 for Hardy Billington due to being an slr\n",
      "┌──┐\n",
      "│15│\n",
      "└──┘\n",
      "[15]\n",
      "total:  15\n"
     ]
    },
    {
     "data": {
      "text/markdown": [
       " ## Travis Smith"
      ]
     },
     "metadata": {},
     "output_type": "display_data"
    },
    {
     "data": {
      "text/markdown": [
       " ## MO SLR 2023"
      ]
     },
     "metadata": {},
     "output_type": "display_data"
    },
    {
     "name": "stdout",
     "output_type": "stream",
     "text": [
      "adding 15 for Travis Smith due to being an slr\n",
      "┌──┐\n",
      "│15│\n",
      "└──┘\n",
      "[15]\n",
      "total:  15\n"
     ]
    },
    {
     "data": {
      "text/markdown": [
       " ## Ingrid Burnett"
      ]
     },
     "metadata": {},
     "output_type": "display_data"
    },
    {
     "data": {
      "text/markdown": [
       " ## MO SLR 2023"
      ]
     },
     "metadata": {},
     "output_type": "display_data"
    },
    {
     "name": "stdout",
     "output_type": "stream",
     "text": [
      "adding 15 for Ingrid Burnett due to being an slr\n",
      "┌──┐\n",
      "│15│\n",
      "└──┘\n",
      "[15]\n",
      "total:  15\n"
     ]
    },
    {
     "data": {
      "text/markdown": [
       " ## Dan Stacy"
      ]
     },
     "metadata": {},
     "output_type": "display_data"
    },
    {
     "data": {
      "text/markdown": [
       " ## MO SLR 2023"
      ]
     },
     "metadata": {},
     "output_type": "display_data"
    },
    {
     "name": "stdout",
     "output_type": "stream",
     "text": [
      "adding 15 for Dan Stacy due to being an slr\n",
      "┌──┐\n",
      "│15│\n",
      "└──┘\n",
      "[15]\n",
      "total:  15\n"
     ]
    },
    {
     "data": {
      "text/markdown": [
       " ## Kemp Strickler"
      ]
     },
     "metadata": {},
     "output_type": "display_data"
    },
    {
     "data": {
      "text/markdown": [
       " ## MO SLR 2023"
      ]
     },
     "metadata": {},
     "output_type": "display_data"
    },
    {
     "name": "stdout",
     "output_type": "stream",
     "text": [
      "adding 15 for Kemp Strickler due to being an slr\n",
      "┌──┐\n",
      "│15│\n",
      "└──┘\n",
      "[15]\n",
      "total:  15\n"
     ]
    },
    {
     "data": {
      "text/markdown": [
       " ## Greg Sharpe"
      ]
     },
     "metadata": {},
     "output_type": "display_data"
    },
    {
     "data": {
      "text/markdown": [
       " ## MO SLR 2023"
      ]
     },
     "metadata": {},
     "output_type": "display_data"
    },
    {
     "name": "stdout",
     "output_type": "stream",
     "text": [
      "adding 15 for Greg Sharpe due to being an slr\n",
      "┌──┐\n",
      "│15│\n",
      "└──┘\n",
      "[15]\n",
      "total:  15\n"
     ]
    },
    {
     "data": {
      "text/markdown": [
       " ## Kathy Steinhoff"
      ]
     },
     "metadata": {},
     "output_type": "display_data"
    },
    {
     "data": {
      "text/markdown": [
       " ## MO SLR 2023"
      ]
     },
     "metadata": {},
     "output_type": "display_data"
    },
    {
     "name": "stdout",
     "output_type": "stream",
     "text": [
      "adding 15 for Kathy Steinhoff due to being an slr\n",
      "┌──┐\n",
      "│15│\n",
      "└──┘\n",
      "[15]\n",
      "total:  15\n"
     ]
    },
    {
     "data": {
      "text/markdown": [
       " ## Adrian Plank"
      ]
     },
     "metadata": {},
     "output_type": "display_data"
    },
    {
     "data": {
      "text/markdown": [
       " ## MO SLR 2023"
      ]
     },
     "metadata": {},
     "output_type": "display_data"
    },
    {
     "name": "stdout",
     "output_type": "stream",
     "text": [
      "adding 15 for Adrian Plank due to being an slr\n",
      "┌──┐\n",
      "│15│\n",
      "└──┘\n",
      "[15]\n",
      "total:  15\n"
     ]
    },
    {
     "data": {
      "text/markdown": [
       " ## Tim Taylor"
      ]
     },
     "metadata": {},
     "output_type": "display_data"
    },
    {
     "data": {
      "text/markdown": [
       " ## MO SLR 2023"
      ]
     },
     "metadata": {},
     "output_type": "display_data"
    },
    {
     "name": "stdout",
     "output_type": "stream",
     "text": [
      "adding 15 for Tim Taylor due to being an slr\n",
      "┌──┐\n",
      "│15│\n",
      "└──┘\n",
      "[15]\n",
      "total:  15\n"
     ]
    },
    {
     "data": {
      "text/markdown": [
       " ## Jim Schulte"
      ]
     },
     "metadata": {},
     "output_type": "display_data"
    },
    {
     "data": {
      "text/markdown": [
       " ## MO SLR 2023"
      ]
     },
     "metadata": {},
     "output_type": "display_data"
    },
    {
     "name": "stdout",
     "output_type": "stream",
     "text": [
      "adding 15 for Jim Schulte due to being an slr\n",
      "┌──┐\n",
      "│15│\n",
      "└──┘\n",
      "[15]\n",
      "total:  15\n"
     ]
    },
    {
     "data": {
      "text/markdown": [
       " ## Brad Pollitt"
      ]
     },
     "metadata": {},
     "output_type": "display_data"
    },
    {
     "data": {
      "text/markdown": [
       " ## MO SLR 2023 (speaker)"
      ]
     },
     "metadata": {},
     "output_type": "display_data"
    },
    {
     "name": "stdout",
     "output_type": "stream",
     "text": [
      "found a speaker\n",
      "adding 15 for Brad Pollitt due to being an slr\n",
      "adding 0 for Brad Pollitt for being in state speaker\n",
      "┌──┐\n",
      "│15│\n",
      "└──┘\n",
      "[15]\n",
      "total:  15\n"
     ]
    },
    {
     "data": {
      "text/markdown": [
       " ## Willard Haley"
      ]
     },
     "metadata": {},
     "output_type": "display_data"
    },
    {
     "data": {
      "text/markdown": [
       " ## MO SLR 2023"
      ]
     },
     "metadata": {},
     "output_type": "display_data"
    },
    {
     "name": "stdout",
     "output_type": "stream",
     "text": [
      "adding 15 for Willard Haley due to being an slr\n",
      "┌──┐\n",
      "│15│\n",
      "└──┘\n",
      "[15]\n",
      "total:  15\n"
     ]
    },
    {
     "data": {
      "text/markdown": [
       " ## Ed Lewis"
      ]
     },
     "metadata": {},
     "output_type": "display_data"
    },
    {
     "data": {
      "text/markdown": [
       " ## MO SLR 2023"
      ]
     },
     "metadata": {},
     "output_type": "display_data"
    },
    {
     "name": "stdout",
     "output_type": "stream",
     "text": [
      "adding 15 for Ed Lewis due to being an slr\n",
      "┌──┐\n",
      "│15│\n",
      "└──┘\n",
      "[15]\n",
      "total:  15\n"
     ]
    },
    {
     "data": {
      "text/markdown": [
       " ## Dave Griffith"
      ]
     },
     "metadata": {},
     "output_type": "display_data"
    },
    {
     "data": {
      "text/markdown": [
       " ## MO SLR 2023"
      ]
     },
     "metadata": {},
     "output_type": "display_data"
    },
    {
     "name": "stdout",
     "output_type": "stream",
     "text": [
      "adding 15 for Dave Griffith due to being an slr\n",
      "┌──┐\n",
      "│15│\n",
      "└──┘\n",
      "[15]\n",
      "total:  15\n"
     ]
    },
    {
     "data": {
      "text/markdown": [
       " ## Sherri Gallick"
      ]
     },
     "metadata": {},
     "output_type": "display_data"
    },
    {
     "data": {
      "text/markdown": [
       " ## MO SLR 2023"
      ]
     },
     "metadata": {},
     "output_type": "display_data"
    },
    {
     "name": "stdout",
     "output_type": "stream",
     "text": [
      "adding 15 for Sherri Gallick due to being an slr\n",
      "┌──┐\n",
      "│15│\n",
      "└──┘\n",
      "[15]\n",
      "total:  15\n"
     ]
    },
    {
     "data": {
      "text/markdown": [
       " ## Gretchen Bangert"
      ]
     },
     "metadata": {},
     "output_type": "display_data"
    },
    {
     "data": {
      "text/markdown": [
       " ## MO SLR 2023"
      ]
     },
     "metadata": {},
     "output_type": "display_data"
    },
    {
     "name": "stdout",
     "output_type": "stream",
     "text": [
      "adding 15 for Gretchen Bangert due to being an slr\n",
      "┌──┐\n",
      "│15│\n",
      "└──┘\n",
      "[15]\n",
      "total:  15\n"
     ]
    },
    {
     "data": {
      "text/markdown": [
       " ## LaDonna Appelbaum"
      ]
     },
     "metadata": {},
     "output_type": "display_data"
    },
    {
     "data": {
      "text/markdown": [
       " ## MO SLR 2023"
      ]
     },
     "metadata": {},
     "output_type": "display_data"
    },
    {
     "name": "stdout",
     "output_type": "stream",
     "text": [
      "adding 15 for LaDonna Appelbaum due to being an slr\n",
      "┌──┐\n",
      "│15│\n",
      "└──┘\n",
      "[15]\n",
      "total:  15\n"
     ]
    },
    {
     "data": {
      "text/markdown": [
       " ## Doug Clemens"
      ]
     },
     "metadata": {},
     "output_type": "display_data"
    },
    {
     "data": {
      "text/markdown": [
       " ## MO SLR 2023"
      ]
     },
     "metadata": {},
     "output_type": "display_data"
    },
    {
     "name": "stdout",
     "output_type": "stream",
     "text": [
      "adding 15 for Doug Clemens due to being an slr\n",
      "┌──┐\n",
      "│15│\n",
      "└──┘\n",
      "[15]\n",
      "total:  15\n"
     ]
    },
    {
     "data": {
      "text/markdown": [
       " ## Del Taylor"
      ]
     },
     "metadata": {},
     "output_type": "display_data"
    },
    {
     "data": {
      "text/markdown": [
       " ## MO SLR 2023"
      ]
     },
     "metadata": {},
     "output_type": "display_data"
    },
    {
     "name": "stdout",
     "output_type": "stream",
     "text": [
      "adding 15 for Del Taylor due to being an slr\n",
      "┌──┐\n",
      "│15│\n",
      "└──┘\n",
      "[15]\n",
      "total:  15\n"
     ]
    },
    {
     "data": {
      "text/markdown": [
       " ## Joe Adams"
      ]
     },
     "metadata": {},
     "output_type": "display_data"
    },
    {
     "data": {
      "text/markdown": [
       " ## MO SLR 2023"
      ]
     },
     "metadata": {},
     "output_type": "display_data"
    },
    {
     "name": "stdout",
     "output_type": "stream",
     "text": [
      "adding 15 for Joe Adams due to being an slr\n",
      "┌──┐\n",
      "│15│\n",
      "└──┘\n",
      "[15]\n",
      "total:  15\n"
     ]
    },
    {
     "data": {
      "text/markdown": [
       " ## Brad Christ"
      ]
     },
     "metadata": {},
     "output_type": "display_data"
    },
    {
     "data": {
      "text/markdown": [
       " ## MO SLR 2023 (speaker)"
      ]
     },
     "metadata": {},
     "output_type": "display_data"
    },
    {
     "name": "stdout",
     "output_type": "stream",
     "text": [
      "found a speaker\n",
      "adding 15 for Brad Christ due to being an slr\n",
      "adding 0 for Brad Christ for being in state speaker\n",
      "┌──┐\n",
      "│15│\n",
      "└──┘\n",
      "[15]\n",
      "total:  15\n"
     ]
    },
    {
     "data": {
      "text/markdown": [
       " ## Deb Lavender"
      ]
     },
     "metadata": {},
     "output_type": "display_data"
    },
    {
     "data": {
      "text/markdown": [
       " ## MO SLR 2023"
      ]
     },
     "metadata": {},
     "output_type": "display_data"
    },
    {
     "name": "stdout",
     "output_type": "stream",
     "text": [
      "adding 15 for Deb Lavender due to being an slr\n",
      "┌──┐\n",
      "│15│\n",
      "└──┘\n",
      "[15]\n",
      "total:  15\n"
     ]
    },
    {
     "data": {
      "text/markdown": [
       " ## Brian Williams"
      ]
     },
     "metadata": {},
     "output_type": "display_data"
    },
    {
     "data": {
      "text/markdown": [
       " ## MO SLR 2023 (speaker)"
      ]
     },
     "metadata": {},
     "output_type": "display_data"
    },
    {
     "name": "stdout",
     "output_type": "stream",
     "text": [
      "found a speaker\n",
      "adding 15 for Brian Williams due to being an slr\n",
      "adding 0 for Brian Williams for being in state speaker\n",
      "┌──┐\n",
      "│15│\n",
      "└──┘\n"
     ]
    },
    {
     "data": {
      "text/markdown": [
       " ## ECLS 2024 (Presenter)"
      ]
     },
     "metadata": {},
     "output_type": "display_data"
    },
    {
     "name": "stdout",
     "output_type": "stream",
     "text": [
      "found a speaker\n",
      "ECLS 2024 (Presenter)\n",
      "no state match\n",
      "adding 10 for full day event with no other attributes\n",
      "┌──┐\n",
      "│10│\n",
      "└──┘\n",
      "[15, 10]\n",
      "total:  25\n"
     ]
    },
    {
     "data": {
      "text/markdown": [
       " ## Lauren Arthur"
      ]
     },
     "metadata": {},
     "output_type": "display_data"
    },
    {
     "data": {
      "text/markdown": [
       " ## MO SLR 2023 (speaker)"
      ]
     },
     "metadata": {},
     "output_type": "display_data"
    },
    {
     "name": "stdout",
     "output_type": "stream",
     "text": [
      "found a speaker\n",
      "adding 15 for Lauren Arthur due to being an slr\n",
      "adding 0 for Lauren Arthur for being in state speaker\n",
      "┌──┐\n",
      "│15│\n",
      "└──┘\n",
      "[15]\n",
      "total:  15\n"
     ]
    },
    {
     "data": {
      "text/markdown": [
       " ## Curtis Trent"
      ]
     },
     "metadata": {},
     "output_type": "display_data"
    },
    {
     "data": {
      "text/markdown": [
       " ## MO SLR 2023 (speaker)"
      ]
     },
     "metadata": {},
     "output_type": "display_data"
    },
    {
     "name": "stdout",
     "output_type": "stream",
     "text": [
      "found a speaker\n",
      "adding 15 for Curtis Trent due to being an slr\n",
      "adding 0 for Curtis Trent for being in state speaker\n",
      "┌──┐\n",
      "│15│\n",
      "└──┘\n"
     ]
    },
    {
     "data": {
      "text/markdown": [
       " ## HKF C10 S1 (HKF)"
      ]
     },
     "metadata": {},
     "output_type": "display_data"
    },
    {
     "name": "stdout",
     "output_type": "stream",
     "text": [
      "HKF C10 S1 (HKF)\n",
      "no state match\n",
      "adding 10 for full day event with no other attributes\n",
      "adding 20 for Curtis Trent due to being hkf\n",
      "┌──┐\n",
      "│30│\n",
      "└──┘\n",
      "[15, 30]\n",
      "total:  45\n"
     ]
    },
    {
     "data": {
      "text/markdown": [
       " ## Barbara Washington"
      ]
     },
     "metadata": {},
     "output_type": "display_data"
    },
    {
     "data": {
      "text/markdown": [
       " ## ECLS 2024"
      ]
     },
     "metadata": {},
     "output_type": "display_data"
    },
    {
     "name": "stdout",
     "output_type": "stream",
     "text": [
      "ECLS 2024\n",
      "no state match\n",
      "adding 10 for full day event with no other attributes\n",
      "┌──┐\n",
      "│10│\n",
      "└──┘\n",
      "[10]\n",
      "total:  10\n"
     ]
    },
    {
     "data": {
      "text/markdown": [
       " ## John Torbett"
      ]
     },
     "metadata": {},
     "output_type": "display_data"
    },
    {
     "data": {
      "text/markdown": [
       " ## HSPF C4 M2 (Speakers)"
      ]
     },
     "metadata": {},
     "output_type": "display_data"
    },
    {
     "name": "stdout",
     "output_type": "stream",
     "text": [
      "found a speaker\n",
      "HSPF C4 M2 (Speakers)\n",
      "no state match\n",
      "adding 15 for John Torbett due to being in an dev program\n",
      "┌──┐\n",
      "│15│\n",
      "└──┘\n"
     ]
    },
    {
     "data": {
      "text/markdown": [
       " ## NC EC Roundtable 2024"
      ]
     },
     "metadata": {},
     "output_type": "display_data"
    },
    {
     "name": "stdout",
     "output_type": "stream",
     "text": [
      "adding 10 for full day event with no other attributes\n",
      "┌──┐\n",
      "│10│\n",
      "└──┘\n"
     ]
    },
    {
     "data": {
      "text/markdown": [
       " ## NC HLR 2024 (Invited Guests )"
      ]
     },
     "metadata": {},
     "output_type": "display_data"
    },
    {
     "name": "stdout",
     "output_type": "stream",
     "text": [
      "adding 15 for John Torbett due to being an slr\n",
      "┌──┐\n",
      "│15│\n",
      "└──┘\n",
      "[15, 10, 15]\n",
      "total:  40\n"
     ]
    },
    {
     "data": {
      "text/markdown": [
       " ## Donnie Loftis"
      ]
     },
     "metadata": {},
     "output_type": "display_data"
    },
    {
     "data": {
      "text/markdown": [
       " ## HSPF C4 M1 (Speakers)"
      ]
     },
     "metadata": {},
     "output_type": "display_data"
    },
    {
     "name": "stdout",
     "output_type": "stream",
     "text": [
      "found a speaker\n",
      "HSPF C4 M1 (Speakers)\n",
      "no state match\n",
      "adding 15 for Donnie Loftis due to being in an dev program\n",
      "┌──┐\n",
      "│15│\n",
      "└──┘\n"
     ]
    },
    {
     "data": {
      "text/markdown": [
       " ## NC EC Roundtable 2024"
      ]
     },
     "metadata": {},
     "output_type": "display_data"
    },
    {
     "name": "stdout",
     "output_type": "stream",
     "text": [
      "adding 10 for full day event with no other attributes\n",
      "┌──┐\n",
      "│10│\n",
      "└──┘\n",
      "[15, 10]\n",
      "total:  25\n"
     ]
    },
    {
     "data": {
      "text/markdown": [
       " ## Eric Ager"
      ]
     },
     "metadata": {},
     "output_type": "display_data"
    },
    {
     "data": {
      "text/markdown": [
       " ## NC EC Roundtable 2024"
      ]
     },
     "metadata": {},
     "output_type": "display_data"
    },
    {
     "name": "stdout",
     "output_type": "stream",
     "text": [
      "adding 10 for full day event with no other attributes\n",
      "┌──┐\n",
      "│10│\n",
      "└──┘\n",
      "[10]\n",
      "total:  10\n"
     ]
    },
    {
     "data": {
      "text/markdown": [
       " ## Lindsey Prather"
      ]
     },
     "metadata": {},
     "output_type": "display_data"
    },
    {
     "data": {
      "text/markdown": [
       " ## NC HLR 2024 (Legislator)"
      ]
     },
     "metadata": {},
     "output_type": "display_data"
    },
    {
     "name": "stdout",
     "output_type": "stream",
     "text": [
      "adding 15 for Lindsey Prather due to being an slr\n",
      "┌──┐\n",
      "│15│\n",
      "└──┘\n"
     ]
    },
    {
     "data": {
      "text/markdown": [
       " ## ElevateNC C4 M3 (Cohort Member)"
      ]
     },
     "metadata": {},
     "output_type": "display_data"
    },
    {
     "name": "stdout",
     "output_type": "stream",
     "text": [
      "ElevateNC C4 M3 (Cohort Member)\n",
      "no state match\n",
      "adding 15 for Lindsey Prather due to being in an dev program\n",
      "┌──┐\n",
      "│15│\n",
      "└──┘\n",
      "[15, 15]\n",
      "total:  30\n"
     ]
    },
    {
     "data": {
      "text/markdown": [
       " ## Shelly Willingham"
      ]
     },
     "metadata": {},
     "output_type": "display_data"
    },
    {
     "data": {
      "text/markdown": [
       " ## NC HLR 2024 (Legislator)"
      ]
     },
     "metadata": {},
     "output_type": "display_data"
    },
    {
     "name": "stdout",
     "output_type": "stream",
     "text": [
      "adding 15 for Shelly Willingham due to being an slr\n",
      "┌──┐\n",
      "│15│\n",
      "└──┘\n",
      "[15]\n",
      "total:  15\n"
     ]
    },
    {
     "data": {
      "text/markdown": [
       " ## Donna White"
      ]
     },
     "metadata": {},
     "output_type": "display_data"
    },
    {
     "data": {
      "text/markdown": [
       " ## NC EC Roundtable 2024"
      ]
     },
     "metadata": {},
     "output_type": "display_data"
    },
    {
     "name": "stdout",
     "output_type": "stream",
     "text": [
      "adding 10 for full day event with no other attributes\n",
      "┌──┐\n",
      "│10│\n",
      "└──┘\n",
      "[10]\n",
      "total:  10\n"
     ]
    },
    {
     "data": {
      "text/markdown": [
       " ## Vernetta Alston"
      ]
     },
     "metadata": {},
     "output_type": "display_data"
    },
    {
     "data": {
      "text/markdown": [
       " ## NC EC Roundtable 2024"
      ]
     },
     "metadata": {},
     "output_type": "display_data"
    },
    {
     "name": "stdout",
     "output_type": "stream",
     "text": [
      "adding 10 for full day event with no other attributes\n",
      "┌──┐\n",
      "│10│\n",
      "└──┘\n",
      "[10]\n",
      "total:  10\n"
     ]
    },
    {
     "data": {
      "text/markdown": [
       " ## Frank Sossamon"
      ]
     },
     "metadata": {},
     "output_type": "display_data"
    },
    {
     "data": {
      "text/markdown": [
       " ## NC EC Roundtable 2024"
      ]
     },
     "metadata": {},
     "output_type": "display_data"
    },
    {
     "name": "stdout",
     "output_type": "stream",
     "text": [
      "adding 10 for full day event with no other attributes\n",
      "┌──┐\n",
      "│10│\n",
      "└──┘\n"
     ]
    },
    {
     "data": {
      "text/markdown": [
       " ## NC HLR 2024 (Legislator)"
      ]
     },
     "metadata": {},
     "output_type": "display_data"
    },
    {
     "name": "stdout",
     "output_type": "stream",
     "text": [
      "adding 15 for Frank Sossamon due to being an slr\n",
      "┌──┐\n",
      "│15│\n",
      "└──┘\n"
     ]
    },
    {
     "data": {
      "text/markdown": [
       " ## ElevateNC C4 M3 (Cohort Member)"
      ]
     },
     "metadata": {},
     "output_type": "display_data"
    },
    {
     "name": "stdout",
     "output_type": "stream",
     "text": [
      "ElevateNC C4 M3 (Cohort Member)\n",
      "no state match\n",
      "adding 15 for Frank Sossamon due to being in an dev program\n",
      "┌──┐\n",
      "│15│\n",
      "└──┘\n",
      "[10, 15, 15]\n",
      "total:  40\n"
     ]
    },
    {
     "data": {
      "text/markdown": [
       " ## Tim Longest"
      ]
     },
     "metadata": {},
     "output_type": "display_data"
    },
    {
     "data": {
      "text/markdown": [
       " ## NC HLR 2024 (Legislator)"
      ]
     },
     "metadata": {},
     "output_type": "display_data"
    },
    {
     "name": "stdout",
     "output_type": "stream",
     "text": [
      "adding 15 for Tim Longest due to being an slr\n",
      "┌──┐\n",
      "│15│\n",
      "└──┘\n",
      "[15]\n",
      "total:  15\n"
     ]
    },
    {
     "data": {
      "text/markdown": [
       " ## Julie von Haefen"
      ]
     },
     "metadata": {},
     "output_type": "display_data"
    },
    {
     "data": {
      "text/markdown": [
       " ## NC HLR 2024 (Legislator)"
      ]
     },
     "metadata": {},
     "output_type": "display_data"
    },
    {
     "name": "stdout",
     "output_type": "stream",
     "text": [
      "adding 15 for Julie von Haefen due to being an slr\n",
      "┌──┐\n",
      "│15│\n",
      "└──┘\n"
     ]
    },
    {
     "data": {
      "text/markdown": [
       " ## ECLS 2024"
      ]
     },
     "metadata": {},
     "output_type": "display_data"
    },
    {
     "name": "stdout",
     "output_type": "stream",
     "text": [
      "ECLS 2024\n",
      "no state match\n",
      "adding 10 for full day event with no other attributes\n",
      "┌──┐\n",
      "│10│\n",
      "└──┘\n",
      "[15, 10]\n",
      "total:  25\n"
     ]
    },
    {
     "data": {
      "text/markdown": [
       " ## James Roberson"
      ]
     },
     "metadata": {},
     "output_type": "display_data"
    },
    {
     "data": {
      "text/markdown": [
       " ## NC HLR 2024 (Legislator)"
      ]
     },
     "metadata": {},
     "output_type": "display_data"
    },
    {
     "name": "stdout",
     "output_type": "stream",
     "text": [
      "adding 15 for James Roberson due to being an slr\n",
      "┌──┐\n",
      "│15│\n",
      "└──┘\n",
      "[15]\n",
      "total:  15\n"
     ]
    },
    {
     "data": {
      "text/markdown": [
       " ## Charles Smith"
      ]
     },
     "metadata": {},
     "output_type": "display_data"
    },
    {
     "data": {
      "text/markdown": [
       " ## NC HLR 2024 (Funder)"
      ]
     },
     "metadata": {},
     "output_type": "display_data"
    },
    {
     "name": "stdout",
     "output_type": "stream",
     "text": [
      "adding 15 for Charles Smith due to being an slr\n",
      "┌──┐\n",
      "│15│\n",
      "└──┘\n",
      "[15]\n",
      "total:  15\n"
     ]
    },
    {
     "data": {
      "text/markdown": [
       " ## Garland Pierce"
      ]
     },
     "metadata": {},
     "output_type": "display_data"
    },
    {
     "data": {
      "text/markdown": [
       " ## NC HLR 2024 (Legislator)"
      ]
     },
     "metadata": {},
     "output_type": "display_data"
    },
    {
     "name": "stdout",
     "output_type": "stream",
     "text": [
      "adding 15 for Garland Pierce due to being an slr\n",
      "┌──┐\n",
      "│15│\n",
      "└──┘\n",
      "[15]\n",
      "total:  15\n"
     ]
    },
    {
     "data": {
      "text/markdown": [
       " ## Renee Price"
      ]
     },
     "metadata": {},
     "output_type": "display_data"
    },
    {
     "data": {
      "text/markdown": [
       " ## NC EC Roundtable 2024"
      ]
     },
     "metadata": {},
     "output_type": "display_data"
    },
    {
     "name": "stdout",
     "output_type": "stream",
     "text": [
      "adding 10 for full day event with no other attributes\n",
      "┌──┐\n",
      "│10│\n",
      "└──┘\n"
     ]
    },
    {
     "data": {
      "text/markdown": [
       " ## NC HLR 2024 (Legislator)"
      ]
     },
     "metadata": {},
     "output_type": "display_data"
    },
    {
     "name": "stdout",
     "output_type": "stream",
     "text": [
      "adding 15 for Renee Price due to being an slr\n",
      "┌──┐\n",
      "│15│\n",
      "└──┘\n",
      "[10, 15]\n",
      "total:  25\n"
     ]
    },
    {
     "data": {
      "text/markdown": [
       " ## Ashton Clemmons"
      ]
     },
     "metadata": {},
     "output_type": "display_data"
    },
    {
     "data": {
      "text/markdown": [
       " ## HSPF C4 M1 (Speakers)"
      ]
     },
     "metadata": {},
     "output_type": "display_data"
    },
    {
     "name": "stdout",
     "output_type": "stream",
     "text": [
      "found a speaker\n",
      "HSPF C4 M1 (Speakers)\n",
      "no state match\n",
      "adding 15 for Ashton Clemmons due to being in an dev program\n",
      "┌──┐\n",
      "│15│\n",
      "└──┘\n"
     ]
    },
    {
     "data": {
      "text/markdown": [
       " ## NC EC Roundtable 2024"
      ]
     },
     "metadata": {},
     "output_type": "display_data"
    },
    {
     "name": "stdout",
     "output_type": "stream",
     "text": [
      "adding 10 for full day event with no other attributes\n",
      "┌──┐\n",
      "│10│\n",
      "└──┘\n"
     ]
    },
    {
     "data": {
      "text/markdown": [
       " ## NC EC Roundtable 2024"
      ]
     },
     "metadata": {},
     "output_type": "display_data"
    },
    {
     "name": "stdout",
     "output_type": "stream",
     "text": [
      "adding 10 for full day event with no other attributes\n",
      "┌──┐\n",
      "│10│\n",
      "└──┘\n",
      "[15, 10, 10]\n",
      "total:  35\n"
     ]
    },
    {
     "data": {
      "text/markdown": [
       " ## Amos Quick III"
      ]
     },
     "metadata": {},
     "output_type": "display_data"
    },
    {
     "data": {
      "text/markdown": [
       " ## NC HLR 2024 (Legislator)"
      ]
     },
     "metadata": {},
     "output_type": "display_data"
    },
    {
     "name": "stdout",
     "output_type": "stream",
     "text": [
      "adding 15 for Amos Quick III due to being an slr\n",
      "┌──┐\n",
      "│15│\n",
      "└──┘\n",
      "[15]\n",
      "total:  15\n"
     ]
    },
    {
     "data": {
      "text/markdown": [
       " ## Stephen Ross"
      ]
     },
     "metadata": {},
     "output_type": "display_data"
    },
    {
     "data": {
      "text/markdown": [
       " ## NC EC Roundtable 2024"
      ]
     },
     "metadata": {},
     "output_type": "display_data"
    },
    {
     "name": "stdout",
     "output_type": "stream",
     "text": [
      "adding 10 for full day event with no other attributes\n",
      "┌──┐\n",
      "│10│\n",
      "└──┘\n"
     ]
    },
    {
     "data": {
      "text/markdown": [
       " ## NC HLR 2024 (Legislator)"
      ]
     },
     "metadata": {},
     "output_type": "display_data"
    },
    {
     "name": "stdout",
     "output_type": "stream",
     "text": [
      "adding 15 for Stephen Ross due to being an slr\n",
      "┌──┐\n",
      "│15│\n",
      "└──┘\n",
      "[10, 15]\n",
      "total:  25\n"
     ]
    },
    {
     "data": {
      "text/markdown": [
       " ## David Willis"
      ]
     },
     "metadata": {},
     "output_type": "display_data"
    },
    {
     "data": {
      "text/markdown": [
       " ## NC HLR 2024 (Legislator)"
      ]
     },
     "metadata": {},
     "output_type": "display_data"
    },
    {
     "name": "stdout",
     "output_type": "stream",
     "text": [
      "adding 15 for David Willis due to being an slr\n",
      "┌──┐\n",
      "│15│\n",
      "└──┘\n"
     ]
    },
    {
     "data": {
      "text/markdown": [
       " ## NC EC Roundtable 2024"
      ]
     },
     "metadata": {},
     "output_type": "display_data"
    },
    {
     "name": "stdout",
     "output_type": "stream",
     "text": [
      "adding 10 for full day event with no other attributes\n",
      "┌──┐\n",
      "│10│\n",
      "└──┘\n",
      "[15, 10]\n",
      "total:  25\n"
     ]
    },
    {
     "data": {
      "text/markdown": [
       " ## Diamond Staton-Williams"
      ]
     },
     "metadata": {},
     "output_type": "display_data"
    },
    {
     "data": {
      "text/markdown": [
       " ## NC HLR 2024 (Legislator)"
      ]
     },
     "metadata": {},
     "output_type": "display_data"
    },
    {
     "name": "stdout",
     "output_type": "stream",
     "text": [
      "adding 15 for Diamond Staton-Williams due to being an slr\n",
      "┌──┐\n",
      "│15│\n",
      "└──┘\n",
      "[15]\n",
      "total:  15\n"
     ]
    },
    {
     "data": {
      "text/markdown": [
       " ## Gloristine Brown"
      ]
     },
     "metadata": {},
     "output_type": "display_data"
    },
    {
     "data": {
      "text/markdown": [
       " ## NC EC Roundtable 2024"
      ]
     },
     "metadata": {},
     "output_type": "display_data"
    },
    {
     "name": "stdout",
     "output_type": "stream",
     "text": [
      "adding 10 for full day event with no other attributes\n",
      "┌──┐\n",
      "│10│\n",
      "└──┘\n"
     ]
    },
    {
     "data": {
      "text/markdown": [
       " ## NC HLR 2024 (Legislator)"
      ]
     },
     "metadata": {},
     "output_type": "display_data"
    },
    {
     "name": "stdout",
     "output_type": "stream",
     "text": [
      "adding 15 for Gloristine Brown due to being an slr\n",
      "┌──┐\n",
      "│15│\n",
      "└──┘\n",
      "[10, 15]\n",
      "total:  25\n"
     ]
    },
    {
     "data": {
      "text/markdown": [
       " ## Kevin Crutchfield"
      ]
     },
     "metadata": {},
     "output_type": "display_data"
    },
    {
     "data": {
      "text/markdown": [
       " ## NC EC Roundtable 2024"
      ]
     },
     "metadata": {},
     "output_type": "display_data"
    },
    {
     "name": "stdout",
     "output_type": "stream",
     "text": [
      "adding 10 for full day event with no other attributes\n",
      "┌──┐\n",
      "│10│\n",
      "└──┘\n",
      "[10]\n",
      "total:  10\n"
     ]
    },
    {
     "data": {
      "text/markdown": [
       " ## Timothy Reeder"
      ]
     },
     "metadata": {},
     "output_type": "display_data"
    },
    {
     "data": {
      "text/markdown": [
       " ## NC EC Roundtable 2024"
      ]
     },
     "metadata": {},
     "output_type": "display_data"
    },
    {
     "name": "stdout",
     "output_type": "stream",
     "text": [
      "adding 10 for full day event with no other attributes\n",
      "┌──┐\n",
      "│10│\n",
      "└──┘\n"
     ]
    },
    {
     "data": {
      "text/markdown": [
       " ## NC HLR 2024 (Legislator)"
      ]
     },
     "metadata": {},
     "output_type": "display_data"
    },
    {
     "name": "stdout",
     "output_type": "stream",
     "text": [
      "adding 15 for Timothy Reeder due to being an slr\n",
      "┌──┐\n",
      "│15│\n",
      "└──┘\n",
      "[10, 15]\n",
      "total:  25\n"
     ]
    },
    {
     "data": {
      "text/markdown": [
       " ## Nasif Majeed"
      ]
     },
     "metadata": {},
     "output_type": "display_data"
    },
    {
     "data": {
      "text/markdown": [
       " ## NC HLR 2024 (Legislator)"
      ]
     },
     "metadata": {},
     "output_type": "display_data"
    },
    {
     "name": "stdout",
     "output_type": "stream",
     "text": [
      "adding 15 for Nasif Majeed due to being an slr\n",
      "┌──┐\n",
      "│15│\n",
      "└──┘\n",
      "[15]\n",
      "total:  15\n"
     ]
    },
    {
     "data": {
      "text/markdown": [
       " ## Jim Burgin"
      ]
     },
     "metadata": {},
     "output_type": "display_data"
    },
    {
     "data": {
      "text/markdown": [
       " ## NCCCS M4 (Invited Guests )"
      ]
     },
     "metadata": {},
     "output_type": "display_data"
    },
    {
     "name": "stdout",
     "output_type": "stream",
     "text": [
      "adding 10 for full day event with no other attributes\n",
      "┌──┐\n",
      "│10│\n",
      "└──┘\n",
      "[10]\n",
      "total:  10\n"
     ]
    },
    {
     "data": {
      "text/markdown": [
       " ## Natalie Murdock"
      ]
     },
     "metadata": {},
     "output_type": "display_data"
    },
    {
     "data": {
      "text/markdown": [
       " ## ElevateNC C4 M3 (Cohort Member)"
      ]
     },
     "metadata": {},
     "output_type": "display_data"
    },
    {
     "name": "stdout",
     "output_type": "stream",
     "text": [
      "ElevateNC C4 M3 (Cohort Member)\n",
      "no state match\n",
      "adding 15 for Natalie Murdock due to being in an dev program\n",
      "┌──┐\n",
      "│15│\n",
      "└──┘\n",
      "[15]\n",
      "total:  15\n"
     ]
    },
    {
     "data": {
      "text/markdown": [
       " ## Graig Meyer"
      ]
     },
     "metadata": {},
     "output_type": "display_data"
    },
    {
     "data": {
      "text/markdown": [
       " ## NC HLR 2024 (Legislator)"
      ]
     },
     "metadata": {},
     "output_type": "display_data"
    },
    {
     "name": "stdout",
     "output_type": "stream",
     "text": [
      "adding 15 for Graig Meyer due to being an slr\n",
      "┌──┐\n",
      "│15│\n",
      "└──┘\n",
      "[15]\n",
      "total:  15\n"
     ]
    },
    {
     "data": {
      "text/markdown": [
       " ## Amy Galey"
      ]
     },
     "metadata": {},
     "output_type": "display_data"
    },
    {
     "data": {
      "text/markdown": [
       " ## HSPF C4 M3 (Speakers)"
      ]
     },
     "metadata": {},
     "output_type": "display_data"
    },
    {
     "name": "stdout",
     "output_type": "stream",
     "text": [
      "found a speaker\n",
      "HSPF C4 M3 (Speakers)\n",
      "no state match\n",
      "adding 15 for Amy Galey due to being in an dev program\n",
      "┌──┐\n",
      "│15│\n",
      "└──┘\n"
     ]
    },
    {
     "data": {
      "text/markdown": [
       " ## NC HLR 2024 (Legislator)"
      ]
     },
     "metadata": {},
     "output_type": "display_data"
    },
    {
     "name": "stdout",
     "output_type": "stream",
     "text": [
      "adding 15 for Amy Galey due to being an slr\n",
      "┌──┐\n",
      "│15│\n",
      "└──┘\n"
     ]
    },
    {
     "data": {
      "text/markdown": [
       " ## ECLS 2024"
      ]
     },
     "metadata": {},
     "output_type": "display_data"
    },
    {
     "name": "stdout",
     "output_type": "stream",
     "text": [
      "ECLS 2024\n",
      "no state match\n",
      "adding 10 for full day event with no other attributes\n",
      "┌──┐\n",
      "│10│\n",
      "└──┘\n"
     ]
    },
    {
     "data": {
      "text/markdown": [
       " ## HKF C10 S1 (HKF)"
      ]
     },
     "metadata": {},
     "output_type": "display_data"
    },
    {
     "name": "stdout",
     "output_type": "stream",
     "text": [
      "HKF C10 S1 (HKF)\n",
      "no state match\n",
      "adding 10 for full day event with no other attributes\n",
      "adding 20 for Amy Galey due to being hkf\n",
      "┌──┐\n",
      "│30│\n",
      "└──┘\n",
      "[15, 15, 10, 30]\n",
      "total:  70\n"
     ]
    },
    {
     "data": {
      "text/markdown": [
       " ## Gladys Robinson"
      ]
     },
     "metadata": {},
     "output_type": "display_data"
    },
    {
     "data": {
      "text/markdown": [
       " ## HSPF C4 M3 (Speakers)"
      ]
     },
     "metadata": {},
     "output_type": "display_data"
    },
    {
     "name": "stdout",
     "output_type": "stream",
     "text": [
      "found a speaker\n",
      "HSPF C4 M3 (Speakers)\n",
      "no state match\n",
      "adding 15 for Gladys Robinson due to being in an dev program\n",
      "┌──┐\n",
      "│15│\n",
      "└──┘\n",
      "[15]\n",
      "total:  15\n"
     ]
    },
    {
     "data": {
      "text/markdown": [
       " ## DeAndrea Salvador"
      ]
     },
     "metadata": {},
     "output_type": "display_data"
    },
    {
     "data": {
      "text/markdown": [
       " ## NC EC Roundtable 2024"
      ]
     },
     "metadata": {},
     "output_type": "display_data"
    },
    {
     "name": "stdout",
     "output_type": "stream",
     "text": [
      "adding 10 for full day event with no other attributes\n",
      "┌──┐\n",
      "│10│\n",
      "└──┘\n",
      "[10]\n",
      "total:  10\n"
     ]
    },
    {
     "data": {
      "text/markdown": [
       " ## Buck Newton"
      ]
     },
     "metadata": {},
     "output_type": "display_data"
    },
    {
     "data": {
      "text/markdown": [
       " ## NC HLR 2024 (Invited Guests )"
      ]
     },
     "metadata": {},
     "output_type": "display_data"
    },
    {
     "name": "stdout",
     "output_type": "stream",
     "text": [
      "adding 15 for Buck Newton due to being an slr\n",
      "┌──┐\n",
      "│15│\n",
      "└──┘\n",
      "[15]\n",
      "total:  15\n"
     ]
    },
    {
     "data": {
      "text/markdown": [
       " ## Rachel Hunt"
      ]
     },
     "metadata": {},
     "output_type": "display_data"
    },
    {
     "data": {
      "text/markdown": [
       " ## NC HLR 2024 (Legislator)"
      ]
     },
     "metadata": {},
     "output_type": "display_data"
    },
    {
     "name": "stdout",
     "output_type": "stream",
     "text": [
      "adding 15 for Rachel Hunt due to being an slr\n",
      "┌──┐\n",
      "│15│\n",
      "└──┘\n"
     ]
    },
    {
     "data": {
      "text/markdown": [
       " ## ECLS 2024 (Presenter)"
      ]
     },
     "metadata": {},
     "output_type": "display_data"
    },
    {
     "name": "stdout",
     "output_type": "stream",
     "text": [
      "found a speaker\n",
      "ECLS 2024 (Presenter)\n",
      "no state match\n",
      "adding 10 for full day event with no other attributes\n",
      "┌──┐\n",
      "│10│\n",
      "└──┘\n",
      "[15, 10]\n",
      "total:  25\n"
     ]
    },
    {
     "data": {
      "text/markdown": [
       " ## David Richter"
      ]
     },
     "metadata": {},
     "output_type": "display_data"
    },
    {
     "data": {
      "text/markdown": [
       " ## ND SLR 2024 (Legislator)"
      ]
     },
     "metadata": {},
     "output_type": "display_data"
    },
    {
     "name": "stdout",
     "output_type": "stream",
     "text": [
      "adding 15 for David Richter due to being an slr\n",
      "┌──┐\n",
      "│15│\n",
      "└──┘\n"
     ]
    },
    {
     "data": {
      "text/markdown": [
       " ## ND SLR 2023"
      ]
     },
     "metadata": {},
     "output_type": "display_data"
    },
    {
     "name": "stdout",
     "output_type": "stream",
     "text": [
      "adding 15 for David Richter due to being an slr\n",
      "┌──┐\n",
      "│15│\n",
      "└──┘\n"
     ]
    },
    {
     "data": {
      "text/markdown": [
       " ## ND SLR 2023 (Opening Remarks)"
      ]
     },
     "metadata": {},
     "output_type": "display_data"
    },
    {
     "name": "stdout",
     "output_type": "stream",
     "text": [
      "adding 15 for David Richter due to being an slr\n",
      "┌──┐\n",
      "│15│\n",
      "└──┘\n",
      "[15, 15, 15]\n",
      "total:  45\n"
     ]
    },
    {
     "data": {
      "text/markdown": [
       " ## Mitch Ostlie"
      ]
     },
     "metadata": {},
     "output_type": "display_data"
    },
    {
     "data": {
      "text/markdown": [
       " ## ND SLR 2024 (Legislator)"
      ]
     },
     "metadata": {},
     "output_type": "display_data"
    },
    {
     "name": "stdout",
     "output_type": "stream",
     "text": [
      "adding 15 for Mitch Ostlie due to being an slr\n",
      "┌──┐\n",
      "│15│\n",
      "└──┘\n"
     ]
    },
    {
     "data": {
      "text/markdown": [
       " ## ND SLR 2024 (Legislator)"
      ]
     },
     "metadata": {},
     "output_type": "display_data"
    },
    {
     "name": "stdout",
     "output_type": "stream",
     "text": [
      "adding 15 for Mitch Ostlie due to being an slr\n",
      "┌──┐\n",
      "│15│\n",
      "└──┘\n",
      "[15, 15]\n",
      "total:  30\n"
     ]
    },
    {
     "data": {
      "text/markdown": [
       " ## Jim Jonas"
      ]
     },
     "metadata": {},
     "output_type": "display_data"
    },
    {
     "data": {
      "text/markdown": [
       " ## ND SLR 2024 (Legislator)"
      ]
     },
     "metadata": {},
     "output_type": "display_data"
    },
    {
     "name": "stdout",
     "output_type": "stream",
     "text": [
      "adding 15 for Jim Jonas due to being an slr\n",
      "┌──┐\n",
      "│15│\n",
      "└──┘\n"
     ]
    },
    {
     "data": {
      "text/markdown": [
       " ## ND SLR 2023"
      ]
     },
     "metadata": {},
     "output_type": "display_data"
    },
    {
     "name": "stdout",
     "output_type": "stream",
     "text": [
      "adding 15 for Jim Jonas due to being an slr\n",
      "┌──┐\n",
      "│15│\n",
      "└──┘\n",
      "[15, 15]\n",
      "total:  30\n"
     ]
    },
    {
     "data": {
      "text/markdown": [
       " ## Robin Weisz"
      ]
     },
     "metadata": {},
     "output_type": "display_data"
    },
    {
     "data": {
      "text/markdown": [
       " ## ND SLR 2024 (Legislator)"
      ]
     },
     "metadata": {},
     "output_type": "display_data"
    },
    {
     "name": "stdout",
     "output_type": "stream",
     "text": [
      "adding 15 for Robin Weisz due to being an slr\n",
      "┌──┐\n",
      "│15│\n",
      "└──┘\n"
     ]
    },
    {
     "data": {
      "text/markdown": [
       " ## ND SLR 2023"
      ]
     },
     "metadata": {},
     "output_type": "display_data"
    },
    {
     "name": "stdout",
     "output_type": "stream",
     "text": [
      "adding 15 for Robin Weisz due to being an slr\n",
      "┌──┐\n",
      "│15│\n",
      "└──┘\n",
      "[15, 15]\n",
      "total:  30\n"
     ]
    },
    {
     "data": {
      "text/markdown": [
       " ## Dennis Johnson"
      ]
     },
     "metadata": {},
     "output_type": "display_data"
    },
    {
     "data": {
      "text/markdown": [
       " ## ND SLR 2023"
      ]
     },
     "metadata": {},
     "output_type": "display_data"
    },
    {
     "name": "stdout",
     "output_type": "stream",
     "text": [
      "adding 15 for Dennis Johnson due to being an slr\n",
      "┌──┐\n",
      "│15│\n",
      "└──┘\n",
      "[15]\n",
      "total:  15\n"
     ]
    },
    {
     "data": {
      "text/markdown": [
       " ## Mark Sanford"
      ]
     },
     "metadata": {},
     "output_type": "display_data"
    },
    {
     "data": {
      "text/markdown": [
       " ## ND SLR 2024 (Legislator)"
      ]
     },
     "metadata": {},
     "output_type": "display_data"
    },
    {
     "name": "stdout",
     "output_type": "stream",
     "text": [
      "adding 15 for Mark Sanford due to being an slr\n",
      "┌──┐\n",
      "│15│\n",
      "└──┘\n"
     ]
    },
    {
     "data": {
      "text/markdown": [
       " ## ND SLR 2023"
      ]
     },
     "metadata": {},
     "output_type": "display_data"
    },
    {
     "name": "stdout",
     "output_type": "stream",
     "text": [
      "adding 15 for Mark Sanford due to being an slr\n",
      "┌──┐\n",
      "│15│\n",
      "└──┘\n",
      "[15, 15]\n",
      "total:  30\n"
     ]
    },
    {
     "data": {
      "text/markdown": [
       " ## David Monson"
      ]
     },
     "metadata": {},
     "output_type": "display_data"
    },
    {
     "data": {
      "text/markdown": [
       " ## ND SLR 2024 (Legislator)"
      ]
     },
     "metadata": {},
     "output_type": "display_data"
    },
    {
     "name": "stdout",
     "output_type": "stream",
     "text": [
      "adding 15 for David Monson due to being an slr\n",
      "┌──┐\n",
      "│15│\n",
      "└──┘\n"
     ]
    },
    {
     "data": {
      "text/markdown": [
       " ## ND SLR 2023"
      ]
     },
     "metadata": {},
     "output_type": "display_data"
    },
    {
     "name": "stdout",
     "output_type": "stream",
     "text": [
      "adding 15 for David Monson due to being an slr\n",
      "┌──┐\n",
      "│15│\n",
      "└──┘\n",
      "[15, 15]\n",
      "total:  30\n"
     ]
    },
    {
     "data": {
      "text/markdown": [
       " ## Donald Longmuir"
      ]
     },
     "metadata": {},
     "output_type": "display_data"
    },
    {
     "data": {
      "text/markdown": [
       " ## ND SLR 2024 (Legislator)"
      ]
     },
     "metadata": {},
     "output_type": "display_data"
    },
    {
     "name": "stdout",
     "output_type": "stream",
     "text": [
      "adding 15 for Donald Longmuir due to being an slr\n",
      "┌──┐\n",
      "│15│\n",
      "└──┘\n"
     ]
    },
    {
     "data": {
      "text/markdown": [
       " ## ND SLR 2023"
      ]
     },
     "metadata": {},
     "output_type": "display_data"
    },
    {
     "name": "stdout",
     "output_type": "stream",
     "text": [
      "adding 15 for Donald Longmuir due to being an slr\n",
      "┌──┐\n",
      "│15│\n",
      "└──┘\n",
      "[15, 15]\n",
      "total:  30\n"
     ]
    },
    {
     "data": {
      "text/markdown": [
       " ## Mike Beltz"
      ]
     },
     "metadata": {},
     "output_type": "display_data"
    },
    {
     "data": {
      "text/markdown": [
       " ## ND SLR 2024 (Legislator)"
      ]
     },
     "metadata": {},
     "output_type": "display_data"
    },
    {
     "name": "stdout",
     "output_type": "stream",
     "text": [
      "adding 15 for Mike Beltz due to being an slr\n",
      "┌──┐\n",
      "│15│\n",
      "└──┘\n"
     ]
    },
    {
     "data": {
      "text/markdown": [
       " ## ND SLR 2023"
      ]
     },
     "metadata": {},
     "output_type": "display_data"
    },
    {
     "name": "stdout",
     "output_type": "stream",
     "text": [
      "adding 15 for Mike Beltz due to being an slr\n",
      "┌──┐\n",
      "│15│\n",
      "└──┘\n",
      "[15, 15]\n",
      "total:  30\n"
     ]
    },
    {
     "data": {
      "text/markdown": [
       " ## LaurieBeth Hager"
      ]
     },
     "metadata": {},
     "output_type": "display_data"
    },
    {
     "data": {
      "text/markdown": [
       " ## ND SLR 2024 (Legislator)"
      ]
     },
     "metadata": {},
     "output_type": "display_data"
    },
    {
     "name": "stdout",
     "output_type": "stream",
     "text": [
      "adding 15 for LaurieBeth Hager due to being an slr\n",
      "┌──┐\n",
      "│15│\n",
      "└──┘\n"
     ]
    },
    {
     "data": {
      "text/markdown": [
       " ## ND SLR 2023"
      ]
     },
     "metadata": {},
     "output_type": "display_data"
    },
    {
     "name": "stdout",
     "output_type": "stream",
     "text": [
      "adding 15 for LaurieBeth Hager due to being an slr\n",
      "┌──┐\n",
      "│15│\n",
      "└──┘\n",
      "[15, 15]\n",
      "total:  30\n"
     ]
    },
    {
     "data": {
      "text/markdown": [
       " ## Brandy Pyle"
      ]
     },
     "metadata": {},
     "output_type": "display_data"
    },
    {
     "data": {
      "text/markdown": [
       " ## ND SLR 2023 (Opening Remarks)"
      ]
     },
     "metadata": {},
     "output_type": "display_data"
    },
    {
     "name": "stdout",
     "output_type": "stream",
     "text": [
      "adding 15 for Brandy Pyle due to being an slr\n",
      "┌──┐\n",
      "│15│\n",
      "└──┘\n",
      "[15]\n",
      "total:  15\n"
     ]
    },
    {
     "data": {
      "text/markdown": [
       " ## Cynthia Schreiber-Beck"
      ]
     },
     "metadata": {},
     "output_type": "display_data"
    },
    {
     "data": {
      "text/markdown": [
       " ## ND SLR 2024 (Legislator)"
      ]
     },
     "metadata": {},
     "output_type": "display_data"
    },
    {
     "name": "stdout",
     "output_type": "stream",
     "text": [
      "adding 15 for Cynthia Schreiber-Beck due to being an slr\n",
      "┌──┐\n",
      "│15│\n",
      "└──┘\n"
     ]
    },
    {
     "data": {
      "text/markdown": [
       " ## ECLS 2024"
      ]
     },
     "metadata": {},
     "output_type": "display_data"
    },
    {
     "name": "stdout",
     "output_type": "stream",
     "text": [
      "ECLS 2024\n",
      "no state match\n",
      "adding 10 for full day event with no other attributes\n",
      "┌──┐\n",
      "│10│\n",
      "└──┘\n"
     ]
    },
    {
     "data": {
      "text/markdown": [
       " ## ND Literacy taskforce 2024"
      ]
     },
     "metadata": {},
     "output_type": "display_data"
    },
    {
     "name": "stdout",
     "output_type": "stream",
     "text": [
      "adding 10 for full day event with no other attributes\n",
      "┌──┐\n",
      "│10│\n",
      "└──┘\n"
     ]
    },
    {
     "data": {
      "text/markdown": [
       " ## ND SLR 2023 (Opening Remarks)"
      ]
     },
     "metadata": {},
     "output_type": "display_data"
    },
    {
     "name": "stdout",
     "output_type": "stream",
     "text": [
      "adding 15 for Cynthia Schreiber-Beck due to being an slr\n",
      "┌──┐\n",
      "│15│\n",
      "└──┘\n",
      "[15, 10, 10, 15]\n",
      "total:  50\n"
     ]
    },
    {
     "data": {
      "text/markdown": [
       " ## SuAnn Olson"
      ]
     },
     "metadata": {},
     "output_type": "display_data"
    },
    {
     "data": {
      "text/markdown": [
       " ## ND SLR 2023"
      ]
     },
     "metadata": {},
     "output_type": "display_data"
    },
    {
     "name": "stdout",
     "output_type": "stream",
     "text": [
      "adding 15 for SuAnn Olson due to being an slr\n",
      "┌──┐\n",
      "│15│\n",
      "└──┘\n"
     ]
    },
    {
     "data": {
      "text/markdown": [
       " ## ND SLR 2023"
      ]
     },
     "metadata": {},
     "output_type": "display_data"
    },
    {
     "name": "stdout",
     "output_type": "stream",
     "text": [
      "adding 15 for SuAnn Olson due to being an slr\n",
      "┌──┐\n",
      "│15│\n",
      "└──┘\n",
      "[15, 15]\n",
      "total:  30\n"
     ]
    },
    {
     "data": {
      "text/markdown": [
       " ## Glenn Bosch"
      ]
     },
     "metadata": {},
     "output_type": "display_data"
    },
    {
     "data": {
      "text/markdown": [
       " ## ND SLR 2024 (Legislator)"
      ]
     },
     "metadata": {},
     "output_type": "display_data"
    },
    {
     "name": "stdout",
     "output_type": "stream",
     "text": [
      "adding 15 for Glenn Bosch due to being an slr\n",
      "┌──┐\n",
      "│15│\n",
      "└──┘\n"
     ]
    },
    {
     "data": {
      "text/markdown": [
       " ## ND SLR 2023"
      ]
     },
     "metadata": {},
     "output_type": "display_data"
    },
    {
     "name": "stdout",
     "output_type": "stream",
     "text": [
      "adding 15 for Glenn Bosch due to being an slr\n",
      "┌──┐\n",
      "│15│\n",
      "└──┘\n",
      "[15, 15]\n",
      "total:  30\n"
     ]
    },
    {
     "data": {
      "text/markdown": [
       " ## Karen Rohr"
      ]
     },
     "metadata": {},
     "output_type": "display_data"
    },
    {
     "data": {
      "text/markdown": [
       " ## ND SLR 2024 (Legislator)"
      ]
     },
     "metadata": {},
     "output_type": "display_data"
    },
    {
     "name": "stdout",
     "output_type": "stream",
     "text": [
      "adding 15 for Karen Rohr due to being an slr\n",
      "┌──┐\n",
      "│15│\n",
      "└──┘\n"
     ]
    },
    {
     "data": {
      "text/markdown": [
       " ## ND SLR 2023"
      ]
     },
     "metadata": {},
     "output_type": "display_data"
    },
    {
     "name": "stdout",
     "output_type": "stream",
     "text": [
      "adding 15 for Karen Rohr due to being an slr\n",
      "┌──┐\n",
      "│15│\n",
      "└──┘\n"
     ]
    },
    {
     "data": {
      "text/markdown": [
       " ## ND SLR 2023"
      ]
     },
     "metadata": {},
     "output_type": "display_data"
    },
    {
     "name": "stdout",
     "output_type": "stream",
     "text": [
      "adding 15 for Karen Rohr due to being an slr\n",
      "┌──┐\n",
      "│15│\n",
      "└──┘\n",
      "[15, 15, 15]\n",
      "total:  45\n"
     ]
    },
    {
     "data": {
      "text/markdown": [
       " ## Pat Heinert"
      ]
     },
     "metadata": {},
     "output_type": "display_data"
    },
    {
     "data": {
      "text/markdown": [
       " ## ND SLR 2024 (Legislator)"
      ]
     },
     "metadata": {},
     "output_type": "display_data"
    },
    {
     "name": "stdout",
     "output_type": "stream",
     "text": [
      "adding 15 for Pat Heinert due to being an slr\n",
      "┌──┐\n",
      "│15│\n",
      "└──┘\n"
     ]
    },
    {
     "data": {
      "text/markdown": [
       " ## ND SLR 2023 (Opening Remarks)"
      ]
     },
     "metadata": {},
     "output_type": "display_data"
    },
    {
     "name": "stdout",
     "output_type": "stream",
     "text": [
      "adding 15 for Pat Heinert due to being an slr\n",
      "┌──┐\n",
      "│15│\n",
      "└──┘\n"
     ]
    },
    {
     "data": {
      "text/markdown": [
       " ## ND SLR 2023"
      ]
     },
     "metadata": {},
     "output_type": "display_data"
    },
    {
     "name": "stdout",
     "output_type": "stream",
     "text": [
      "adding 15 for Pat Heinert due to being an slr\n",
      "┌──┐\n",
      "│15│\n",
      "└──┘\n",
      "[15, 15, 15]\n",
      "total:  45\n"
     ]
    },
    {
     "data": {
      "text/markdown": [
       " ## Anna Novak"
      ]
     },
     "metadata": {},
     "output_type": "display_data"
    },
    {
     "data": {
      "text/markdown": [
       " ## ND SLR 2023"
      ]
     },
     "metadata": {},
     "output_type": "display_data"
    },
    {
     "name": "stdout",
     "output_type": "stream",
     "text": [
      "adding 15 for Anna Novak due to being an slr\n",
      "┌──┐\n",
      "│15│\n",
      "└──┘\n"
     ]
    },
    {
     "data": {
      "text/markdown": [
       " ## ND SLR 2023"
      ]
     },
     "metadata": {},
     "output_type": "display_data"
    },
    {
     "name": "stdout",
     "output_type": "stream",
     "text": [
      "adding 15 for Anna Novak due to being an slr\n",
      "┌──┐\n",
      "│15│\n",
      "└──┘\n",
      "[15, 15]\n",
      "total:  30\n"
     ]
    },
    {
     "data": {
      "text/markdown": [
       " ## Karen Karls"
      ]
     },
     "metadata": {},
     "output_type": "display_data"
    },
    {
     "data": {
      "text/markdown": [
       " ## ND SLR 2024 (Legislator)"
      ]
     },
     "metadata": {},
     "output_type": "display_data"
    },
    {
     "name": "stdout",
     "output_type": "stream",
     "text": [
      "adding 15 for Karen Karls due to being an slr\n",
      "┌──┐\n",
      "│15│\n",
      "└──┘\n"
     ]
    },
    {
     "data": {
      "text/markdown": [
       " ## ND SLR 2024 (Legislator)"
      ]
     },
     "metadata": {},
     "output_type": "display_data"
    },
    {
     "name": "stdout",
     "output_type": "stream",
     "text": [
      "adding 15 for Karen Karls due to being an slr\n",
      "┌──┐\n",
      "│15│\n",
      "└──┘\n",
      "[15, 15]\n",
      "total:  30\n"
     ]
    },
    {
     "data": {
      "text/markdown": [
       " ## Dori Hauck"
      ]
     },
     "metadata": {},
     "output_type": "display_data"
    },
    {
     "data": {
      "text/markdown": [
       " ## ND SLR 2024 (Legislator)"
      ]
     },
     "metadata": {},
     "output_type": "display_data"
    },
    {
     "name": "stdout",
     "output_type": "stream",
     "text": [
      "adding 15 for Dori Hauck due to being an slr\n",
      "┌──┐\n",
      "│15│\n",
      "└──┘\n",
      "[15]\n",
      "total:  15\n"
     ]
    },
    {
     "data": {
      "text/markdown": [
       " ## Vicky Steiner"
      ]
     },
     "metadata": {},
     "output_type": "display_data"
    },
    {
     "data": {
      "text/markdown": [
       " ## ND SLR 2024 (Legislator)"
      ]
     },
     "metadata": {},
     "output_type": "display_data"
    },
    {
     "name": "stdout",
     "output_type": "stream",
     "text": [
      "adding 15 for Vicky Steiner due to being an slr\n",
      "┌──┐\n",
      "│15│\n",
      "└──┘\n"
     ]
    },
    {
     "data": {
      "text/markdown": [
       " ## ND SLR 2024 (Legislator)"
      ]
     },
     "metadata": {},
     "output_type": "display_data"
    },
    {
     "name": "stdout",
     "output_type": "stream",
     "text": [
      "adding 15 for Vicky Steiner due to being an slr\n",
      "┌──┐\n",
      "│15│\n",
      "└──┘\n"
     ]
    },
    {
     "data": {
      "text/markdown": [
       " ## ND SLR 2023"
      ]
     },
     "metadata": {},
     "output_type": "display_data"
    },
    {
     "name": "stdout",
     "output_type": "stream",
     "text": [
      "adding 15 for Vicky Steiner due to being an slr\n",
      "┌──┐\n",
      "│15│\n",
      "└──┘\n"
     ]
    },
    {
     "data": {
      "text/markdown": [
       " ## ND SLR 2023 (Resource Expert)"
      ]
     },
     "metadata": {},
     "output_type": "display_data"
    },
    {
     "name": "stdout",
     "output_type": "stream",
     "text": [
      "adding 15 for Vicky Steiner due to being an slr\n",
      "┌──┐\n",
      "│15│\n",
      "└──┘\n",
      "[15, 15, 15, 15]\n",
      "total:  60\n"
     ]
    },
    {
     "data": {
      "text/markdown": [
       " ## JoAnne Rademacher"
      ]
     },
     "metadata": {},
     "output_type": "display_data"
    },
    {
     "data": {
      "text/markdown": [
       " ## ND SLR 2024 (Legislator)"
      ]
     },
     "metadata": {},
     "output_type": "display_data"
    },
    {
     "name": "stdout",
     "output_type": "stream",
     "text": [
      "adding 15 for JoAnne Rademacher due to being an slr\n",
      "┌──┐\n",
      "│15│\n",
      "└──┘\n",
      "[15]\n",
      "total:  15\n"
     ]
    },
    {
     "data": {
      "text/markdown": [
       " ## Clayton Fegley"
      ]
     },
     "metadata": {},
     "output_type": "display_data"
    },
    {
     "data": {
      "text/markdown": [
       " ## ND SLR 2024 (Legislator)"
      ]
     },
     "metadata": {},
     "output_type": "display_data"
    },
    {
     "name": "stdout",
     "output_type": "stream",
     "text": [
      "adding 15 for Clayton Fegley due to being an slr\n",
      "┌──┐\n",
      "│15│\n",
      "└──┘\n",
      "[15]\n",
      "total:  15\n"
     ]
    },
    {
     "data": {
      "text/markdown": [
       " ## Michelle Strinden"
      ]
     },
     "metadata": {},
     "output_type": "display_data"
    },
    {
     "data": {
      "text/markdown": [
       " ## ND SLR 2024 (Legislator)"
      ]
     },
     "metadata": {},
     "output_type": "display_data"
    },
    {
     "name": "stdout",
     "output_type": "stream",
     "text": [
      "adding 15 for Michelle Strinden due to being an slr\n",
      "┌──┐\n",
      "│15│\n",
      "└──┘\n",
      "[15]\n",
      "total:  15\n"
     ]
    },
    {
     "data": {
      "text/markdown": [
       " ## Claire Cory"
      ]
     },
     "metadata": {},
     "output_type": "display_data"
    },
    {
     "data": {
      "text/markdown": [
       " ## ND SLR 2024 (Legislator)"
      ]
     },
     "metadata": {},
     "output_type": "display_data"
    },
    {
     "name": "stdout",
     "output_type": "stream",
     "text": [
      "adding 15 for Claire Cory due to being an slr\n",
      "┌──┐\n",
      "│15│\n",
      "└──┘\n"
     ]
    },
    {
     "data": {
      "text/markdown": [
       " ## ECLS 2024 (Presenter)"
      ]
     },
     "metadata": {},
     "output_type": "display_data"
    },
    {
     "name": "stdout",
     "output_type": "stream",
     "text": [
      "found a speaker\n",
      "ECLS 2024 (Presenter)\n",
      "no state match\n",
      "adding 10 for full day event with no other attributes\n",
      "┌──┐\n",
      "│10│\n",
      "└──┘\n"
     ]
    },
    {
     "data": {
      "text/markdown": [
       " ## ND SLR 2023"
      ]
     },
     "metadata": {},
     "output_type": "display_data"
    },
    {
     "name": "stdout",
     "output_type": "stream",
     "text": [
      "adding 15 for Claire Cory due to being an slr\n",
      "┌──┐\n",
      "│15│\n",
      "└──┘\n",
      "[15, 10, 15]\n",
      "total:  40\n"
     ]
    },
    {
     "data": {
      "text/markdown": [
       " ## Eric Murphy"
      ]
     },
     "metadata": {},
     "output_type": "display_data"
    },
    {
     "data": {
      "text/markdown": [
       " ## ND SLR 2023"
      ]
     },
     "metadata": {},
     "output_type": "display_data"
    },
    {
     "name": "stdout",
     "output_type": "stream",
     "text": [
      "adding 15 for Eric Murphy due to being an slr\n",
      "┌──┐\n",
      "│15│\n",
      "└──┘\n",
      "[15]\n",
      "total:  15\n"
     ]
    },
    {
     "data": {
      "text/markdown": [
       " ## Josh Boschee"
      ]
     },
     "metadata": {},
     "output_type": "display_data"
    },
    {
     "data": {
      "text/markdown": [
       " ## ND SLR 2024 (Legislator)"
      ]
     },
     "metadata": {},
     "output_type": "display_data"
    },
    {
     "name": "stdout",
     "output_type": "stream",
     "text": [
      "adding 15 for Josh Boschee due to being an slr\n",
      "┌──┐\n",
      "│15│\n",
      "└──┘\n"
     ]
    },
    {
     "data": {
      "text/markdown": [
       " ## ECLS 2024"
      ]
     },
     "metadata": {},
     "output_type": "display_data"
    },
    {
     "name": "stdout",
     "output_type": "stream",
     "text": [
      "ECLS 2024\n",
      "no state match\n",
      "adding 10 for full day event with no other attributes\n",
      "┌──┐\n",
      "│10│\n",
      "└──┘\n",
      "[15, 10]\n",
      "total:  25\n"
     ]
    },
    {
     "data": {
      "text/markdown": [
       " ## Carrie McLeod"
      ]
     },
     "metadata": {},
     "output_type": "display_data"
    },
    {
     "data": {
      "text/markdown": [
       " ## ND SLR 2024 (Legislator)"
      ]
     },
     "metadata": {},
     "output_type": "display_data"
    },
    {
     "name": "stdout",
     "output_type": "stream",
     "text": [
      "adding 15 for Carrie McLeod due to being an slr\n",
      "┌──┐\n",
      "│15│\n",
      "└──┘\n",
      "[15]\n",
      "total:  15\n"
     ]
    },
    {
     "data": {
      "text/markdown": [
       " ## Mike Motschenbacher"
      ]
     },
     "metadata": {},
     "output_type": "display_data"
    },
    {
     "data": {
      "text/markdown": [
       " ## ND SLR 2024 (Legislator)"
      ]
     },
     "metadata": {},
     "output_type": "display_data"
    },
    {
     "name": "stdout",
     "output_type": "stream",
     "text": [
      "adding 15 for Mike Motschenbacher due to being an slr\n",
      "┌──┐\n",
      "│15│\n",
      "└──┘\n",
      "[15]\n",
      "total:  15\n"
     ]
    },
    {
     "data": {
      "text/markdown": [
       " ## Jay Fisher"
      ]
     },
     "metadata": {},
     "output_type": "display_data"
    },
    {
     "data": {
      "text/markdown": [
       " ## ND SLR 2023"
      ]
     },
     "metadata": {},
     "output_type": "display_data"
    },
    {
     "name": "stdout",
     "output_type": "stream",
     "text": [
      "adding 15 for Jay Fisher due to being an slr\n",
      "┌──┐\n",
      "│15│\n",
      "└──┘\n",
      "[15]\n",
      "total:  15\n"
     ]
    },
    {
     "data": {
      "text/markdown": [
       " ## Dick Anderson"
      ]
     },
     "metadata": {},
     "output_type": "display_data"
    },
    {
     "data": {
      "text/markdown": [
       " ## ND SLR 2024 (Legislator)"
      ]
     },
     "metadata": {},
     "output_type": "display_data"
    },
    {
     "name": "stdout",
     "output_type": "stream",
     "text": [
      "adding 15 for Dick Anderson due to being an slr\n",
      "┌──┐\n",
      "│15│\n",
      "└──┘\n"
     ]
    },
    {
     "data": {
      "text/markdown": [
       " ## ND SLR 2023 (Moderator)"
      ]
     },
     "metadata": {},
     "output_type": "display_data"
    },
    {
     "name": "stdout",
     "output_type": "stream",
     "text": [
      "adding 15 for Dick Anderson due to being an slr\n",
      "┌──┐\n",
      "│15│\n",
      "└──┘\n",
      "[15, 15]\n",
      "total:  30\n"
     ]
    },
    {
     "data": {
      "text/markdown": [
       " ## Mike Berg"
      ]
     },
     "metadata": {},
     "output_type": "display_data"
    },
    {
     "data": {
      "text/markdown": [
       " ## ND SLR 2024 (Legislator)"
      ]
     },
     "metadata": {},
     "output_type": "display_data"
    },
    {
     "name": "stdout",
     "output_type": "stream",
     "text": [
      "adding 15 for Mike Berg due to being an slr\n",
      "┌──┐\n",
      "│15│\n",
      "└──┘\n",
      "[15]\n",
      "total:  15\n"
     ]
    },
    {
     "data": {
      "text/markdown": [
       " ## Jayme Davis"
      ]
     },
     "metadata": {},
     "output_type": "display_data"
    },
    {
     "data": {
      "text/markdown": [
       " ## ND SLR 2023"
      ]
     },
     "metadata": {},
     "output_type": "display_data"
    },
    {
     "name": "stdout",
     "output_type": "stream",
     "text": [
      "adding 15 for Jayme Davis due to being an slr\n",
      "┌──┐\n",
      "│15│\n",
      "└──┘\n",
      "[15]\n",
      "total:  15\n"
     ]
    },
    {
     "data": {
      "text/markdown": [
       " ## Ryan Braunberger"
      ]
     },
     "metadata": {},
     "output_type": "display_data"
    },
    {
     "data": {
      "text/markdown": [
       " ## ND SLR 2024 (Legislator)"
      ]
     },
     "metadata": {},
     "output_type": "display_data"
    },
    {
     "name": "stdout",
     "output_type": "stream",
     "text": [
      "adding 15 for Ryan Braunberger due to being an slr\n",
      "┌──┐\n",
      "│15│\n",
      "└──┘\n"
     ]
    },
    {
     "data": {
      "text/markdown": [
       " ## ECLS 2024"
      ]
     },
     "metadata": {},
     "output_type": "display_data"
    },
    {
     "name": "stdout",
     "output_type": "stream",
     "text": [
      "ECLS 2024\n",
      "no state match\n",
      "adding 10 for full day event with no other attributes\n",
      "┌──┐\n",
      "│10│\n",
      "└──┘\n"
     ]
    },
    {
     "data": {
      "text/markdown": [
       " ## ND SLR 2023"
      ]
     },
     "metadata": {},
     "output_type": "display_data"
    },
    {
     "name": "stdout",
     "output_type": "stream",
     "text": [
      "adding 15 for Ryan Braunberger due to being an slr\n",
      "┌──┐\n",
      "│15│\n",
      "└──┘\n",
      "[15, 10, 15]\n",
      "total:  40\n"
     ]
    },
    {
     "data": {
      "text/markdown": [
       " ## Tim Mathern"
      ]
     },
     "metadata": {},
     "output_type": "display_data"
    },
    {
     "data": {
      "text/markdown": [
       " ## ND SLR 2023"
      ]
     },
     "metadata": {},
     "output_type": "display_data"
    },
    {
     "name": "stdout",
     "output_type": "stream",
     "text": [
      "adding 15 for Tim Mathern due to being an slr\n",
      "┌──┐\n",
      "│15│\n",
      "└──┘\n",
      "[15]\n",
      "total:  15\n"
     ]
    },
    {
     "data": {
      "text/markdown": [
       " ## Cole Conley"
      ]
     },
     "metadata": {},
     "output_type": "display_data"
    },
    {
     "data": {
      "text/markdown": [
       " ## ND SLR 2024 (Legislator)"
      ]
     },
     "metadata": {},
     "output_type": "display_data"
    },
    {
     "name": "stdout",
     "output_type": "stream",
     "text": [
      "adding 15 for Cole Conley due to being an slr\n",
      "┌──┐\n",
      "│15│\n",
      "└──┘\n"
     ]
    },
    {
     "data": {
      "text/markdown": [
       " ## ND SLR 2023"
      ]
     },
     "metadata": {},
     "output_type": "display_data"
    },
    {
     "name": "stdout",
     "output_type": "stream",
     "text": [
      "adding 15 for Cole Conley due to being an slr\n",
      "┌──┐\n",
      "│15│\n",
      "└──┘\n",
      "[15, 15]\n",
      "total:  30\n"
     ]
    },
    {
     "data": {
      "text/markdown": [
       " ## Judy Lee"
      ]
     },
     "metadata": {},
     "output_type": "display_data"
    },
    {
     "data": {
      "text/markdown": [
       " ## ND SLR 2024 (Legislator)"
      ]
     },
     "metadata": {},
     "output_type": "display_data"
    },
    {
     "name": "stdout",
     "output_type": "stream",
     "text": [
      "adding 15 for Judy Lee due to being an slr\n",
      "┌──┐\n",
      "│15│\n",
      "└──┘\n",
      "[15]\n",
      "total:  15\n"
     ]
    },
    {
     "data": {
      "text/markdown": [
       " ## Judy Estenson"
      ]
     },
     "metadata": {},
     "output_type": "display_data"
    },
    {
     "data": {
      "text/markdown": [
       " ## ND SLR 2024 (Legislator)"
      ]
     },
     "metadata": {},
     "output_type": "display_data"
    },
    {
     "name": "stdout",
     "output_type": "stream",
     "text": [
      "adding 15 for Judy Estenson due to being an slr\n",
      "┌──┐\n",
      "│15│\n",
      "└──┘\n"
     ]
    },
    {
     "data": {
      "text/markdown": [
       " ## ND SLR 2023"
      ]
     },
     "metadata": {},
     "output_type": "display_data"
    },
    {
     "name": "stdout",
     "output_type": "stream",
     "text": [
      "adding 15 for Judy Estenson due to being an slr\n",
      "┌──┐\n",
      "│15│\n",
      "└──┘\n",
      "[15, 15]\n",
      "total:  30\n"
     ]
    },
    {
     "data": {
      "text/markdown": [
       " ## David Clemens"
      ]
     },
     "metadata": {},
     "output_type": "display_data"
    },
    {
     "data": {
      "text/markdown": [
       " ## ND SLR 2023"
      ]
     },
     "metadata": {},
     "output_type": "display_data"
    },
    {
     "name": "stdout",
     "output_type": "stream",
     "text": [
      "adding 15 for David Clemens due to being an slr\n",
      "┌──┐\n",
      "│15│\n",
      "└──┘\n",
      "[15]\n",
      "total:  15\n"
     ]
    },
    {
     "data": {
      "text/markdown": [
       " ## Randy Lemm"
      ]
     },
     "metadata": {},
     "output_type": "display_data"
    },
    {
     "data": {
      "text/markdown": [
       " ## ND SLR 2023"
      ]
     },
     "metadata": {},
     "output_type": "display_data"
    },
    {
     "name": "stdout",
     "output_type": "stream",
     "text": [
      "adding 15 for Randy Lemm due to being an slr\n",
      "┌──┐\n",
      "│15│\n",
      "└──┘\n",
      "[15]\n",
      "total:  15\n"
     ]
    },
    {
     "data": {
      "text/markdown": [
       " ## Kathy Hogan"
      ]
     },
     "metadata": {},
     "output_type": "display_data"
    },
    {
     "data": {
      "text/markdown": [
       " ## ND SLR 2023"
      ]
     },
     "metadata": {},
     "output_type": "display_data"
    },
    {
     "name": "stdout",
     "output_type": "stream",
     "text": [
      "adding 15 for Kathy Hogan due to being an slr\n",
      "┌──┐\n",
      "│15│\n",
      "└──┘\n",
      "[15]\n",
      "total:  15\n"
     ]
    },
    {
     "data": {
      "text/markdown": [
       " ## Todd Beard"
      ]
     },
     "metadata": {},
     "output_type": "display_data"
    },
    {
     "data": {
      "text/markdown": [
       " ## ND SLR 2024 (Legislator)"
      ]
     },
     "metadata": {},
     "output_type": "display_data"
    },
    {
     "name": "stdout",
     "output_type": "stream",
     "text": [
      "adding 15 for Todd Beard due to being an slr\n",
      "┌──┐\n",
      "│15│\n",
      "└──┘\n",
      "[15]\n",
      "total:  15\n"
     ]
    },
    {
     "data": {
      "text/markdown": [
       " ## Mike Wobbema"
      ]
     },
     "metadata": {},
     "output_type": "display_data"
    },
    {
     "data": {
      "text/markdown": [
       " ## ND SLR 2024 (Legislator)"
      ]
     },
     "metadata": {},
     "output_type": "display_data"
    },
    {
     "name": "stdout",
     "output_type": "stream",
     "text": [
      "adding 15 for Mike Wobbema due to being an slr\n",
      "┌──┐\n",
      "│15│\n",
      "└──┘\n"
     ]
    },
    {
     "data": {
      "text/markdown": [
       " ## ND SLR 2023"
      ]
     },
     "metadata": {},
     "output_type": "display_data"
    },
    {
     "name": "stdout",
     "output_type": "stream",
     "text": [
      "adding 15 for Mike Wobbema due to being an slr\n",
      "┌──┐\n",
      "│15│\n",
      "└──┘\n",
      "[15, 15]\n",
      "total:  30\n"
     ]
    },
    {
     "data": {
      "text/markdown": [
       " ## Kristin Roers"
      ]
     },
     "metadata": {},
     "output_type": "display_data"
    },
    {
     "data": {
      "text/markdown": [
       " ## ND SLR 2024 (Legislator)"
      ]
     },
     "metadata": {},
     "output_type": "display_data"
    },
    {
     "name": "stdout",
     "output_type": "stream",
     "text": [
      "adding 15 for Kristin Roers due to being an slr\n",
      "┌──┐\n",
      "│15│\n",
      "└──┘\n",
      "[15]\n",
      "total:  15\n"
     ]
    },
    {
     "data": {
      "text/markdown": [
       " ## Bob Paulson"
      ]
     },
     "metadata": {},
     "output_type": "display_data"
    },
    {
     "data": {
      "text/markdown": [
       " ## ND SLR 2023"
      ]
     },
     "metadata": {},
     "output_type": "display_data"
    },
    {
     "name": "stdout",
     "output_type": "stream",
     "text": [
      "adding 15 for Bob Paulson due to being an slr\n",
      "┌──┐\n",
      "│15│\n",
      "└──┘\n",
      "[15]\n",
      "total:  15\n"
     ]
    },
    {
     "data": {
      "text/markdown": [
       " ## Diane Larson"
      ]
     },
     "metadata": {},
     "output_type": "display_data"
    },
    {
     "data": {
      "text/markdown": [
       " ## ND SLR 2024 (Legislator)"
      ]
     },
     "metadata": {},
     "output_type": "display_data"
    },
    {
     "name": "stdout",
     "output_type": "stream",
     "text": [
      "adding 15 for Diane Larson due to being an slr\n",
      "┌──┐\n",
      "│15│\n",
      "└──┘\n"
     ]
    },
    {
     "data": {
      "text/markdown": [
       " ## ND SLR 2023"
      ]
     },
     "metadata": {},
     "output_type": "display_data"
    },
    {
     "name": "stdout",
     "output_type": "stream",
     "text": [
      "adding 15 for Diane Larson due to being an slr\n",
      "┌──┐\n",
      "│15│\n",
      "└──┘\n",
      "[15, 15]\n",
      "total:  30\n"
     ]
    },
    {
     "data": {
      "text/markdown": [
       " ## Donald Schaible"
      ]
     },
     "metadata": {},
     "output_type": "display_data"
    },
    {
     "data": {
      "text/markdown": [
       " ## ND SLR 2024 (Legislator)"
      ]
     },
     "metadata": {},
     "output_type": "display_data"
    },
    {
     "name": "stdout",
     "output_type": "stream",
     "text": [
      "adding 15 for Donald Schaible due to being an slr\n",
      "┌──┐\n",
      "│15│\n",
      "└──┘\n"
     ]
    },
    {
     "data": {
      "text/markdown": [
       " ## ND Literacy taskforce 2024"
      ]
     },
     "metadata": {},
     "output_type": "display_data"
    },
    {
     "name": "stdout",
     "output_type": "stream",
     "text": [
      "adding 10 for full day event with no other attributes\n",
      "┌──┐\n",
      "│10│\n",
      "└──┘\n"
     ]
    },
    {
     "data": {
      "text/markdown": [
       " ## ND SLR 2023"
      ]
     },
     "metadata": {},
     "output_type": "display_data"
    },
    {
     "name": "stdout",
     "output_type": "stream",
     "text": [
      "adding 15 for Donald Schaible due to being an slr\n",
      "┌──┐\n",
      "│15│\n",
      "└──┘\n",
      "[15, 10, 15]\n",
      "total:  40\n"
     ]
    },
    {
     "data": {
      "text/markdown": [
       " ## Dick Dever"
      ]
     },
     "metadata": {},
     "output_type": "display_data"
    },
    {
     "data": {
      "text/markdown": [
       " ## ND SLR 2023"
      ]
     },
     "metadata": {},
     "output_type": "display_data"
    },
    {
     "name": "stdout",
     "output_type": "stream",
     "text": [
      "adding 15 for Dick Dever due to being an slr\n",
      "┌──┐\n",
      "│15│\n",
      "└──┘\n",
      "[15]\n",
      "total:  15\n"
     ]
    },
    {
     "data": {
      "text/markdown": [
       " ## Sean Cleary"
      ]
     },
     "metadata": {},
     "output_type": "display_data"
    },
    {
     "data": {
      "text/markdown": [
       " ## ND SLR 2023"
      ]
     },
     "metadata": {},
     "output_type": "display_data"
    },
    {
     "name": "stdout",
     "output_type": "stream",
     "text": [
      "adding 15 for Sean Cleary due to being an slr\n",
      "┌──┐\n",
      "│15│\n",
      "└──┘\n",
      "[15]\n",
      "total:  15\n"
     ]
    },
    {
     "data": {
      "text/markdown": [
       " ## Desiree van Oosting"
      ]
     },
     "metadata": {},
     "output_type": "display_data"
    },
    {
     "data": {
      "text/markdown": [
       " ## ND SLR 2024 (Legislator)"
      ]
     },
     "metadata": {},
     "output_type": "display_data"
    },
    {
     "name": "stdout",
     "output_type": "stream",
     "text": [
      "adding 15 for Desiree van Oosting due to being an slr\n",
      "┌──┐\n",
      "│15│\n",
      "└──┘\n"
     ]
    },
    {
     "data": {
      "text/markdown": [
       " ## ND SLR 2023 (Opening Remarks)"
      ]
     },
     "metadata": {},
     "output_type": "display_data"
    },
    {
     "name": "stdout",
     "output_type": "stream",
     "text": [
      "adding 15 for Desiree van Oosting due to being an slr\n",
      "┌──┐\n",
      "│15│\n",
      "└──┘\n",
      "[15, 15]\n",
      "total:  30\n"
     ]
    },
    {
     "data": {
      "text/markdown": [
       " ## Dean Rummel"
      ]
     },
     "metadata": {},
     "output_type": "display_data"
    },
    {
     "data": {
      "text/markdown": [
       " ## ND TRR M1"
      ]
     },
     "metadata": {},
     "output_type": "display_data"
    },
    {
     "name": "stdout",
     "output_type": "stream",
     "text": [
      "adding 10 for full day event with no other attributes\n",
      "┌──┐\n",
      "│10│\n",
      "└──┘\n"
     ]
    },
    {
     "data": {
      "text/markdown": [
       " ## ND TRR m2"
      ]
     },
     "metadata": {},
     "output_type": "display_data"
    },
    {
     "name": "stdout",
     "output_type": "stream",
     "text": [
      "adding 10 for full day event with no other attributes\n",
      "┌──┐\n",
      "│10│\n",
      "└──┘\n"
     ]
    },
    {
     "data": {
      "text/markdown": [
       " ## ND TRR m3"
      ]
     },
     "metadata": {},
     "output_type": "display_data"
    },
    {
     "name": "stdout",
     "output_type": "stream",
     "text": [
      "adding 10 for full day event with no other attributes\n",
      "┌──┐\n",
      "│10│\n",
      "└──┘\n"
     ]
    },
    {
     "data": {
      "text/markdown": [
       " ## ND SLR 2023"
      ]
     },
     "metadata": {},
     "output_type": "display_data"
    },
    {
     "name": "stdout",
     "output_type": "stream",
     "text": [
      "adding 15 for Dean Rummel due to being an slr\n",
      "┌──┐\n",
      "│15│\n",
      "└──┘\n",
      "[10, 10, 10, 15]\n",
      "total:  45\n"
     ]
    },
    {
     "data": {
      "text/markdown": [
       " ## Chuck Walen"
      ]
     },
     "metadata": {},
     "output_type": "display_data"
    },
    {
     "data": {
      "text/markdown": [
       " ## ND SLR 2024 (Legislator)"
      ]
     },
     "metadata": {},
     "output_type": "display_data"
    },
    {
     "name": "stdout",
     "output_type": "stream",
     "text": [
      "adding 15 for Chuck Walen due to being an slr\n",
      "┌──┐\n",
      "│15│\n",
      "└──┘\n",
      "[15]\n",
      "total:  15\n"
     ]
    },
    {
     "data": {
      "text/markdown": [
       " ## Kyle Davison"
      ]
     },
     "metadata": {},
     "output_type": "display_data"
    },
    {
     "data": {
      "text/markdown": [
       " ## ND SLR 2024 (Legislator)"
      ]
     },
     "metadata": {},
     "output_type": "display_data"
    },
    {
     "name": "stdout",
     "output_type": "stream",
     "text": [
      "adding 15 for Kyle Davison due to being an slr\n",
      "┌──┐\n",
      "│15│\n",
      "└──┘\n"
     ]
    },
    {
     "data": {
      "text/markdown": [
       " ## ND SLR 2023"
      ]
     },
     "metadata": {},
     "output_type": "display_data"
    },
    {
     "name": "stdout",
     "output_type": "stream",
     "text": [
      "adding 15 for Kyle Davison due to being an slr\n",
      "┌──┐\n",
      "│15│\n",
      "└──┘\n",
      "[15, 15]\n",
      "total:  30\n"
     ]
    },
    {
     "data": {
      "text/markdown": [
       " ## Jeff Barta"
      ]
     },
     "metadata": {},
     "output_type": "display_data"
    },
    {
     "data": {
      "text/markdown": [
       " ## ND SLR 2023"
      ]
     },
     "metadata": {},
     "output_type": "display_data"
    },
    {
     "name": "stdout",
     "output_type": "stream",
     "text": [
      "adding 15 for Jeff Barta due to being an slr\n",
      "┌──┐\n",
      "│15│\n",
      "└──┘\n",
      "[15]\n",
      "total:  15\n"
     ]
    },
    {
     "data": {
      "text/markdown": [
       " ## Merrill Piepkorn"
      ]
     },
     "metadata": {},
     "output_type": "display_data"
    },
    {
     "data": {
      "text/markdown": [
       " ## ND SLR 2023"
      ]
     },
     "metadata": {},
     "output_type": "display_data"
    },
    {
     "name": "stdout",
     "output_type": "stream",
     "text": [
      "adding 15 for Merrill Piepkorn due to being an slr\n",
      "┌──┐\n",
      "│15│\n",
      "└──┘\n",
      "[15]\n",
      "total:  15\n"
     ]
    },
    {
     "data": {
      "text/markdown": [
       " ## Jim Roers"
      ]
     },
     "metadata": {},
     "output_type": "display_data"
    },
    {
     "data": {
      "text/markdown": [
       " ## ND SLR 2023"
      ]
     },
     "metadata": {},
     "output_type": "display_data"
    },
    {
     "name": "stdout",
     "output_type": "stream",
     "text": [
      "adding 15 for Jim Roers due to being an slr\n",
      "┌──┐\n",
      "│15│\n",
      "└──┘\n",
      "[15]\n",
      "total:  15\n"
     ]
    },
    {
     "data": {
      "text/markdown": [
       " ## Michelle Axtman"
      ]
     },
     "metadata": {},
     "output_type": "display_data"
    },
    {
     "data": {
      "text/markdown": [
       " ## ND SLR 2023"
      ]
     },
     "metadata": {},
     "output_type": "display_data"
    },
    {
     "name": "stdout",
     "output_type": "stream",
     "text": [
      "adding 15 for Michelle Axtman due to being an slr\n",
      "┌──┐\n",
      "│15│\n",
      "└──┘\n",
      "[15]\n",
      "total:  15\n"
     ]
    },
    {
     "data": {
      "text/markdown": [
       " ## William Soules"
      ]
     },
     "metadata": {},
     "output_type": "display_data"
    },
    {
     "data": {
      "text/markdown": [
       " ## ECLS 2024"
      ]
     },
     "metadata": {},
     "output_type": "display_data"
    },
    {
     "name": "stdout",
     "output_type": "stream",
     "text": [
      "ECLS 2024\n",
      "no state match\n",
      "adding 10 for full day event with no other attributes\n",
      "┌──┐\n",
      "│10│\n",
      "└──┘\n",
      "[10]\n",
      "total:  10\n"
     ]
    },
    {
     "data": {
      "text/markdown": [
       " ## Leo Jaramillo"
      ]
     },
     "metadata": {},
     "output_type": "display_data"
    },
    {
     "data": {
      "text/markdown": [
       " ## ECLS 2024"
      ]
     },
     "metadata": {},
     "output_type": "display_data"
    },
    {
     "name": "stdout",
     "output_type": "stream",
     "text": [
      "ECLS 2024\n",
      "no state match\n",
      "adding 10 for full day event with no other attributes\n",
      "┌──┐\n",
      "│10│\n",
      "└──┘\n",
      "[10]\n",
      "total:  10\n"
     ]
    },
    {
     "data": {
      "text/markdown": [
       " ## Dontavius Jarrells"
      ]
     },
     "metadata": {},
     "output_type": "display_data"
    },
    {
     "data": {
      "text/markdown": [
       " ## OH SLR 2023"
      ]
     },
     "metadata": {},
     "output_type": "display_data"
    },
    {
     "name": "stdout",
     "output_type": "stream",
     "text": [
      "adding 15 for Dontavius Jarrells due to being an slr\n",
      "┌──┐\n",
      "│15│\n",
      "└──┘\n",
      "[15]\n",
      "total:  15\n"
     ]
    },
    {
     "data": {
      "text/markdown": [
       " ## Sean Brennan"
      ]
     },
     "metadata": {},
     "output_type": "display_data"
    },
    {
     "data": {
      "text/markdown": [
       " ## OH SLR 2023"
      ]
     },
     "metadata": {},
     "output_type": "display_data"
    },
    {
     "name": "stdout",
     "output_type": "stream",
     "text": [
      "adding 15 for Sean Brennan due to being an slr\n",
      "┌──┐\n",
      "│15│\n",
      "└──┘\n",
      "[15]\n",
      "total:  15\n"
     ]
    },
    {
     "data": {
      "text/markdown": [
       " ## Darnell  Brewer"
      ]
     },
     "metadata": {},
     "output_type": "display_data"
    },
    {
     "data": {
      "text/markdown": [
       " ## OH SLR 2023"
      ]
     },
     "metadata": {},
     "output_type": "display_data"
    },
    {
     "name": "stdout",
     "output_type": "stream",
     "text": [
      "adding 15 for Darnell  Brewer due to being an slr\n",
      "┌──┐\n",
      "│15│\n",
      "└──┘\n",
      "[15]\n",
      "total:  15\n"
     ]
    },
    {
     "data": {
      "text/markdown": [
       " ## Elliot Forhan"
      ]
     },
     "metadata": {},
     "output_type": "display_data"
    },
    {
     "data": {
      "text/markdown": [
       " ## OH SLR 2023"
      ]
     },
     "metadata": {},
     "output_type": "display_data"
    },
    {
     "name": "stdout",
     "output_type": "stream",
     "text": [
      "adding 15 for Elliot Forhan due to being an slr\n",
      "┌──┐\n",
      "│15│\n",
      "└──┘\n",
      "[15]\n",
      "total:  15\n"
     ]
    },
    {
     "data": {
      "text/markdown": [
       " ## Juanita  Brent"
      ]
     },
     "metadata": {},
     "output_type": "display_data"
    },
    {
     "data": {
      "text/markdown": [
       " ## OH SLR 2023"
      ]
     },
     "metadata": {},
     "output_type": "display_data"
    },
    {
     "name": "stdout",
     "output_type": "stream",
     "text": [
      "adding 15 for Juanita  Brent due to being an slr\n",
      "┌──┐\n",
      "│15│\n",
      "└──┘\n"
     ]
    },
    {
     "data": {
      "text/markdown": [
       " ## OH SLR 2024 (Legislator)"
      ]
     },
     "metadata": {},
     "output_type": "display_data"
    },
    {
     "name": "stdout",
     "output_type": "stream",
     "text": [
      "adding 15 for Juanita  Brent due to being an slr\n",
      "┌──┐\n",
      "│15│\n",
      "└──┘\n"
     ]
    },
    {
     "data": {
      "text/markdown": [
       " ## ECLS 2024 (Presenter)"
      ]
     },
     "metadata": {},
     "output_type": "display_data"
    },
    {
     "name": "stdout",
     "output_type": "stream",
     "text": [
      "found a speaker\n",
      "ECLS 2024 (Presenter)\n",
      "no state match\n",
      "adding 10 for full day event with no other attributes\n",
      "┌──┐\n",
      "│10│\n",
      "└──┘\n",
      "[15, 15, 10]\n",
      "total:  40\n"
     ]
    },
    {
     "data": {
      "text/markdown": [
       " ## Dani  Isaacsohn"
      ]
     },
     "metadata": {},
     "output_type": "display_data"
    },
    {
     "data": {
      "text/markdown": [
       " ## OH SLR 2023"
      ]
     },
     "metadata": {},
     "output_type": "display_data"
    },
    {
     "name": "stdout",
     "output_type": "stream",
     "text": [
      "adding 15 for Dani  Isaacsohn due to being an slr\n",
      "┌──┐\n",
      "│15│\n",
      "└──┘\n",
      "[15]\n",
      "total:  15\n"
     ]
    },
    {
     "data": {
      "text/markdown": [
       " ## Jessica Miranda"
      ]
     },
     "metadata": {},
     "output_type": "display_data"
    },
    {
     "data": {
      "text/markdown": [
       " ## OH SLR 2023"
      ]
     },
     "metadata": {},
     "output_type": "display_data"
    },
    {
     "name": "stdout",
     "output_type": "stream",
     "text": [
      "adding 15 for Jessica Miranda due to being an slr\n",
      "┌──┐\n",
      "│15│\n",
      "└──┘\n",
      "[15]\n",
      "total:  15\n"
     ]
    },
    {
     "data": {
      "text/markdown": [
       " ## Mary  Lightbody"
      ]
     },
     "metadata": {},
     "output_type": "display_data"
    },
    {
     "data": {
      "text/markdown": [
       " ## OH SLR 2023"
      ]
     },
     "metadata": {},
     "output_type": "display_data"
    },
    {
     "name": "stdout",
     "output_type": "stream",
     "text": [
      "adding 15 for Mary  Lightbody due to being an slr\n",
      "┌──┐\n",
      "│15│\n",
      "└──┘\n",
      "[15]\n",
      "total:  15\n"
     ]
    },
    {
     "data": {
      "text/markdown": [
       " ## Jim Thomas"
      ]
     },
     "metadata": {},
     "output_type": "display_data"
    },
    {
     "data": {
      "text/markdown": [
       " ## OH SLR 2024 (Legislator)"
      ]
     },
     "metadata": {},
     "output_type": "display_data"
    },
    {
     "name": "stdout",
     "output_type": "stream",
     "text": [
      "adding 15 for Jim Thomas due to being an slr\n",
      "┌──┐\n",
      "│15│\n",
      "└──┘\n",
      "[15]\n",
      "total:  15\n"
     ]
    },
    {
     "data": {
      "text/markdown": [
       " ## Gayle  Manning "
      ]
     },
     "metadata": {},
     "output_type": "display_data"
    },
    {
     "data": {
      "text/markdown": [
       " ## OH SLR 2023"
      ]
     },
     "metadata": {},
     "output_type": "display_data"
    },
    {
     "name": "stdout",
     "output_type": "stream",
     "text": [
      "adding 15 for Gayle  Manning  due to being an slr\n",
      "┌──┐\n",
      "│15│\n",
      "└──┘\n"
     ]
    },
    {
     "data": {
      "text/markdown": [
       " ## OH SLR 2024 (Legislator)"
      ]
     },
     "metadata": {},
     "output_type": "display_data"
    },
    {
     "name": "stdout",
     "output_type": "stream",
     "text": [
      "adding 15 for Gayle  Manning  due to being an slr\n",
      "┌──┐\n",
      "│15│\n",
      "└──┘\n",
      "[15, 15]\n",
      "total:  30\n"
     ]
    },
    {
     "data": {
      "text/markdown": [
       " ## Joe  Miller "
      ]
     },
     "metadata": {},
     "output_type": "display_data"
    },
    {
     "data": {
      "text/markdown": [
       " ## OH SLR 2023"
      ]
     },
     "metadata": {},
     "output_type": "display_data"
    },
    {
     "name": "stdout",
     "output_type": "stream",
     "text": [
      "adding 15 for Joe  Miller  due to being an slr\n",
      "┌──┐\n",
      "│15│\n",
      "└──┘\n"
     ]
    },
    {
     "data": {
      "text/markdown": [
       " ## OH SLR 2024 (Legislator)"
      ]
     },
     "metadata": {},
     "output_type": "display_data"
    },
    {
     "name": "stdout",
     "output_type": "stream",
     "text": [
      "adding 15 for Joe  Miller  due to being an slr\n",
      "┌──┐\n",
      "│15│\n",
      "└──┘\n",
      "[15, 15]\n",
      "total:  30\n"
     ]
    },
    {
     "data": {
      "text/markdown": [
       " ## Adam  Mathews"
      ]
     },
     "metadata": {},
     "output_type": "display_data"
    },
    {
     "data": {
      "text/markdown": [
       " ## OH SLR 2023"
      ]
     },
     "metadata": {},
     "output_type": "display_data"
    },
    {
     "name": "stdout",
     "output_type": "stream",
     "text": [
      "adding 15 for Adam  Mathews due to being an slr\n",
      "┌──┐\n",
      "│15│\n",
      "└──┘\n",
      "[15]\n",
      "total:  15\n"
     ]
    },
    {
     "data": {
      "text/markdown": [
       " ## Adam Bird "
      ]
     },
     "metadata": {},
     "output_type": "display_data"
    },
    {
     "data": {
      "text/markdown": [
       " ## OH SLR 2023"
      ]
     },
     "metadata": {},
     "output_type": "display_data"
    },
    {
     "name": "stdout",
     "output_type": "stream",
     "text": [
      "adding 15 for Adam Bird  due to being an slr\n",
      "┌──┐\n",
      "│15│\n",
      "└──┘\n"
     ]
    },
    {
     "data": {
      "text/markdown": [
       " ## OH SLR 2024 (Legislator)"
      ]
     },
     "metadata": {},
     "output_type": "display_data"
    },
    {
     "name": "stdout",
     "output_type": "stream",
     "text": [
      "adding 15 for Adam Bird  due to being an slr\n",
      "┌──┐\n",
      "│15│\n",
      "└──┘\n"
     ]
    },
    {
     "data": {
      "text/markdown": [
       " ## OH SLR 2024 (Invited Guest)"
      ]
     },
     "metadata": {},
     "output_type": "display_data"
    },
    {
     "name": "stdout",
     "output_type": "stream",
     "text": [
      "adding 15 for Adam Bird  due to being an slr\n",
      "┌──┐\n",
      "│15│\n",
      "└──┘\n",
      "[15, 15, 15]\n",
      "total:  45\n"
     ]
    },
    {
     "data": {
      "text/markdown": [
       " ## Jim Hoops"
      ]
     },
     "metadata": {},
     "output_type": "display_data"
    },
    {
     "data": {
      "text/markdown": [
       " ## OH SLR 2024 (Legislator)"
      ]
     },
     "metadata": {},
     "output_type": "display_data"
    },
    {
     "name": "stdout",
     "output_type": "stream",
     "text": [
      "adding 15 for Jim Hoops due to being an slr\n",
      "┌──┐\n",
      "│15│\n",
      "└──┘\n",
      "[15]\n",
      "total:  15\n"
     ]
    },
    {
     "data": {
      "text/markdown": [
       " ## Tracy Richardson "
      ]
     },
     "metadata": {},
     "output_type": "display_data"
    },
    {
     "data": {
      "text/markdown": [
       " ## OH SLR 2023"
      ]
     },
     "metadata": {},
     "output_type": "display_data"
    },
    {
     "name": "stdout",
     "output_type": "stream",
     "text": [
      "adding 15 for Tracy Richardson  due to being an slr\n",
      "┌──┐\n",
      "│15│\n",
      "└──┘\n"
     ]
    },
    {
     "data": {
      "text/markdown": [
       " ## OH SLR 2024 (Legislator)"
      ]
     },
     "metadata": {},
     "output_type": "display_data"
    },
    {
     "name": "stdout",
     "output_type": "stream",
     "text": [
      "adding 15 for Tracy Richardson  due to being an slr\n",
      "┌──┐\n",
      "│15│\n",
      "└──┘\n",
      "[15, 15]\n",
      "total:  30\n"
     ]
    },
    {
     "data": {
      "text/markdown": [
       " ## Riordan McClain"
      ]
     },
     "metadata": {},
     "output_type": "display_data"
    },
    {
     "data": {
      "text/markdown": [
       " ## OH SLR 2024 (Legislator)"
      ]
     },
     "metadata": {},
     "output_type": "display_data"
    },
    {
     "name": "stdout",
     "output_type": "stream",
     "text": [
      "adding 15 for Riordan McClain due to being an slr\n",
      "┌──┐\n",
      "│15│\n",
      "└──┘\n",
      "[15]\n",
      "total:  15\n"
     ]
    },
    {
     "data": {
      "text/markdown": [
       " ## Gary Click"
      ]
     },
     "metadata": {},
     "output_type": "display_data"
    },
    {
     "data": {
      "text/markdown": [
       " ## OH SLR 2023"
      ]
     },
     "metadata": {},
     "output_type": "display_data"
    },
    {
     "name": "stdout",
     "output_type": "stream",
     "text": [
      "adding 15 for Gary Click due to being an slr\n",
      "┌──┐\n",
      "│15│\n",
      "└──┘\n",
      "[15]\n",
      "total:  15\n"
     ]
    },
    {
     "data": {
      "text/markdown": [
       " ## Jay Edwards"
      ]
     },
     "metadata": {},
     "output_type": "display_data"
    },
    {
     "data": {
      "text/markdown": [
       " ## OH SLR 2023"
      ]
     },
     "metadata": {},
     "output_type": "display_data"
    },
    {
     "name": "stdout",
     "output_type": "stream",
     "text": [
      "adding 15 for Jay Edwards due to being an slr\n",
      "┌──┐\n",
      "│15│\n",
      "└──┘\n",
      "[15]\n",
      "total:  15\n"
     ]
    },
    {
     "data": {
      "text/markdown": [
       " ## Don Jones"
      ]
     },
     "metadata": {},
     "output_type": "display_data"
    },
    {
     "data": {
      "text/markdown": [
       " ## OH SLR 2023"
      ]
     },
     "metadata": {},
     "output_type": "display_data"
    },
    {
     "name": "stdout",
     "output_type": "stream",
     "text": [
      "adding 15 for Don Jones due to being an slr\n",
      "┌──┐\n",
      "│15│\n",
      "└──┘\n",
      "[15]\n",
      "total:  15\n"
     ]
    },
    {
     "data": {
      "text/markdown": [
       " ## Sarah Fowler Arthur"
      ]
     },
     "metadata": {},
     "output_type": "display_data"
    },
    {
     "data": {
      "text/markdown": [
       " ## OH SLR 2024 (Legislator)"
      ]
     },
     "metadata": {},
     "output_type": "display_data"
    },
    {
     "name": "stdout",
     "output_type": "stream",
     "text": [
      "adding 15 for Sarah Fowler Arthur due to being an slr\n",
      "┌──┐\n",
      "│15│\n",
      "└──┘\n",
      "[15]\n",
      "total:  15\n"
     ]
    },
    {
     "data": {
      "text/markdown": [
       " ## Andrew Brenner"
      ]
     },
     "metadata": {},
     "output_type": "display_data"
    },
    {
     "data": {
      "text/markdown": [
       " ## OH SLR 2023"
      ]
     },
     "metadata": {},
     "output_type": "display_data"
    },
    {
     "name": "stdout",
     "output_type": "stream",
     "text": [
      "adding 15 for Andrew Brenner due to being an slr\n",
      "┌──┐\n",
      "│15│\n",
      "└──┘\n"
     ]
    },
    {
     "data": {
      "text/markdown": [
       " ## OH SLR 2024 (Legislator)"
      ]
     },
     "metadata": {},
     "output_type": "display_data"
    },
    {
     "name": "stdout",
     "output_type": "stream",
     "text": [
      "adding 15 for Andrew Brenner due to being an slr\n",
      "┌──┐\n",
      "│15│\n",
      "└──┘\n",
      "[15, 15]\n",
      "total:  30\n"
     ]
    },
    {
     "data": {
      "text/markdown": [
       " ## Bill  DeMora"
      ]
     },
     "metadata": {},
     "output_type": "display_data"
    },
    {
     "data": {
      "text/markdown": [
       " ## OH SLR 2023"
      ]
     },
     "metadata": {},
     "output_type": "display_data"
    },
    {
     "name": "stdout",
     "output_type": "stream",
     "text": [
      "adding 15 for Bill  DeMora due to being an slr\n",
      "┌──┐\n",
      "│15│\n",
      "└──┘\n",
      "[15]\n",
      "total:  15\n"
     ]
    },
    {
     "data": {
      "text/markdown": [
       " ## Vernon Sykes"
      ]
     },
     "metadata": {},
     "output_type": "display_data"
    },
    {
     "data": {
      "text/markdown": [
       " ## OH SLR 2023"
      ]
     },
     "metadata": {},
     "output_type": "display_data"
    },
    {
     "name": "stdout",
     "output_type": "stream",
     "text": [
      "adding 15 for Vernon Sykes due to being an slr\n",
      "┌──┐\n",
      "│15│\n",
      "└──┘\n"
     ]
    },
    {
     "data": {
      "text/markdown": [
       " ## OH SLR 2024 (Legislator)"
      ]
     },
     "metadata": {},
     "output_type": "display_data"
    },
    {
     "name": "stdout",
     "output_type": "stream",
     "text": [
      "adding 15 for Vernon Sykes due to being an slr\n",
      "┌──┐\n",
      "│15│\n",
      "└──┘\n",
      "[15, 15]\n",
      "total:  30\n"
     ]
    },
    {
     "data": {
      "text/markdown": [
       " ## Michele  Reynolds"
      ]
     },
     "metadata": {},
     "output_type": "display_data"
    },
    {
     "data": {
      "text/markdown": [
       " ## OH SLR 2023"
      ]
     },
     "metadata": {},
     "output_type": "display_data"
    },
    {
     "name": "stdout",
     "output_type": "stream",
     "text": [
      "adding 15 for Michele  Reynolds due to being an slr\n",
      "┌──┐\n",
      "│15│\n",
      "└──┘\n"
     ]
    },
    {
     "data": {
      "text/markdown": [
       " ## OH SLR 2024 (Legislator)"
      ]
     },
     "metadata": {},
     "output_type": "display_data"
    },
    {
     "name": "stdout",
     "output_type": "stream",
     "text": [
      "adding 15 for Michele  Reynolds due to being an slr\n",
      "┌──┐\n",
      "│15│\n",
      "└──┘\n",
      "[15, 15]\n",
      "total:  30\n"
     ]
    },
    {
     "data": {
      "text/markdown": [
       " ## Catherine Ingram"
      ]
     },
     "metadata": {},
     "output_type": "display_data"
    },
    {
     "data": {
      "text/markdown": [
       " ## OH SLR 2023"
      ]
     },
     "metadata": {},
     "output_type": "display_data"
    },
    {
     "name": "stdout",
     "output_type": "stream",
     "text": [
      "adding 15 for Catherine Ingram due to being an slr\n",
      "┌──┐\n",
      "│15│\n",
      "└──┘\n"
     ]
    },
    {
     "data": {
      "text/markdown": [
       " ## OH SLR 2024 (Legislator)"
      ]
     },
     "metadata": {},
     "output_type": "display_data"
    },
    {
     "name": "stdout",
     "output_type": "stream",
     "text": [
      "adding 15 for Catherine Ingram due to being an slr\n",
      "┌──┐\n",
      "│15│\n",
      "└──┘\n"
     ]
    },
    {
     "data": {
      "text/markdown": [
       " ## ECLS 2024"
      ]
     },
     "metadata": {},
     "output_type": "display_data"
    },
    {
     "name": "stdout",
     "output_type": "stream",
     "text": [
      "ECLS 2024\n",
      "no state match\n",
      "adding 10 for full day event with no other attributes\n",
      "┌──┐\n",
      "│10│\n",
      "└──┘\n",
      "[15, 15, 10]\n",
      "total:  40\n"
     ]
    },
    {
     "data": {
      "text/markdown": [
       " ## Marilyn Stark"
      ]
     },
     "metadata": {},
     "output_type": "display_data"
    },
    {
     "data": {
      "text/markdown": [
       " ## OK SLR 2023 (Legislator)"
      ]
     },
     "metadata": {},
     "output_type": "display_data"
    },
    {
     "name": "stdout",
     "output_type": "stream",
     "text": [
      "adding 15 for Marilyn Stark due to being an slr\n",
      "┌──┐\n",
      "│15│\n",
      "└──┘\n",
      "[15]\n",
      "total:  15\n"
     ]
    },
    {
     "data": {
      "text/markdown": [
       " ## Neil Hays"
      ]
     },
     "metadata": {},
     "output_type": "display_data"
    },
    {
     "data": {
      "text/markdown": [
       " ## OK SLR 2023 (Legislator)"
      ]
     },
     "metadata": {},
     "output_type": "display_data"
    },
    {
     "name": "stdout",
     "output_type": "stream",
     "text": [
      "adding 15 for Neil Hays due to being an slr\n",
      "┌──┐\n",
      "│15│\n",
      "└──┘\n",
      "[15]\n",
      "total:  15\n"
     ]
    },
    {
     "data": {
      "text/markdown": [
       " ## Ronny Johns"
      ]
     },
     "metadata": {},
     "output_type": "display_data"
    },
    {
     "data": {
      "text/markdown": [
       " ## OK SLR 2024 (Legislator)"
      ]
     },
     "metadata": {},
     "output_type": "display_data"
    },
    {
     "name": "stdout",
     "output_type": "stream",
     "text": [
      "adding 15 for Ronny Johns due to being an slr\n",
      "┌──┐\n",
      "│15│\n",
      "└──┘\n"
     ]
    },
    {
     "data": {
      "text/markdown": [
       " ## OK SLR 2023 (Legislator)"
      ]
     },
     "metadata": {},
     "output_type": "display_data"
    },
    {
     "name": "stdout",
     "output_type": "stream",
     "text": [
      "adding 15 for Ronny Johns due to being an slr\n",
      "┌──┐\n",
      "│15│\n",
      "└──┘\n",
      "[15, 15]\n",
      "total:  30\n"
     ]
    },
    {
     "data": {
      "text/markdown": [
       " ## Danny Sterling"
      ]
     },
     "metadata": {},
     "output_type": "display_data"
    },
    {
     "data": {
      "text/markdown": [
       " ## OK SLR 2024 (Legislator)"
      ]
     },
     "metadata": {},
     "output_type": "display_data"
    },
    {
     "name": "stdout",
     "output_type": "stream",
     "text": [
      "adding 15 for Danny Sterling due to being an slr\n",
      "┌──┐\n",
      "│15│\n",
      "└──┘\n"
     ]
    },
    {
     "data": {
      "text/markdown": [
       " ## OK SLR 2023 (Legislator)"
      ]
     },
     "metadata": {},
     "output_type": "display_data"
    },
    {
     "name": "stdout",
     "output_type": "stream",
     "text": [
      "adding 15 for Danny Sterling due to being an slr\n",
      "┌──┐\n",
      "│15│\n",
      "└──┘\n",
      "[15, 15]\n",
      "total:  30\n"
     ]
    },
    {
     "data": {
      "text/markdown": [
       " ## John Talley"
      ]
     },
     "metadata": {},
     "output_type": "display_data"
    },
    {
     "data": {
      "text/markdown": [
       " ## OK SLR 2023 (Legislator)"
      ]
     },
     "metadata": {},
     "output_type": "display_data"
    },
    {
     "name": "stdout",
     "output_type": "stream",
     "text": [
      "adding 15 for John Talley due to being an slr\n",
      "┌──┐\n",
      "│15│\n",
      "└──┘\n",
      "[15]\n",
      "total:  15\n"
     ]
    },
    {
     "data": {
      "text/markdown": [
       " ## Trish Ranson"
      ]
     },
     "metadata": {},
     "output_type": "display_data"
    },
    {
     "data": {
      "text/markdown": [
       " ## OK SLR 2023 (Legislator)"
      ]
     },
     "metadata": {},
     "output_type": "display_data"
    },
    {
     "name": "stdout",
     "output_type": "stream",
     "text": [
      "adding 15 for Trish Ranson due to being an slr\n",
      "┌──┐\n",
      "│15│\n",
      "└──┘\n"
     ]
    },
    {
     "data": {
      "text/markdown": [
       " ## OK SLR 2024 (Legislator)"
      ]
     },
     "metadata": {},
     "output_type": "display_data"
    },
    {
     "name": "stdout",
     "output_type": "stream",
     "text": [
      "adding 15 for Trish Ranson due to being an slr\n",
      "┌──┐\n",
      "│15│\n",
      "└──┘\n",
      "[15, 15]\n",
      "total:  30\n"
     ]
    },
    {
     "data": {
      "text/markdown": [
       " ## John George"
      ]
     },
     "metadata": {},
     "output_type": "display_data"
    },
    {
     "data": {
      "text/markdown": [
       " ## OK SLR 2024 (Legislator)"
      ]
     },
     "metadata": {},
     "output_type": "display_data"
    },
    {
     "name": "stdout",
     "output_type": "stream",
     "text": [
      "adding 15 for John George due to being an slr\n",
      "┌──┐\n",
      "│15│\n",
      "└──┘\n",
      "[15]\n",
      "total:  15\n"
     ]
    },
    {
     "data": {
      "text/markdown": [
       " ## chad caldwell"
      ]
     },
     "metadata": {},
     "output_type": "display_data"
    },
    {
     "data": {
      "text/markdown": [
       " ## OK SLR 2023 (Legislator)"
      ]
     },
     "metadata": {},
     "output_type": "display_data"
    },
    {
     "name": "stdout",
     "output_type": "stream",
     "text": [
      "adding 15 for chad caldwell due to being an slr\n",
      "┌──┐\n",
      "│15│\n",
      "└──┘\n",
      "[15]\n",
      "total:  15\n"
     ]
    },
    {
     "data": {
      "text/markdown": [
       " ## Denise Crosswhite Hader"
      ]
     },
     "metadata": {},
     "output_type": "display_data"
    },
    {
     "data": {
      "text/markdown": [
       " ## OK SLR 2023 (Legislator)"
      ]
     },
     "metadata": {},
     "output_type": "display_data"
    },
    {
     "name": "stdout",
     "output_type": "stream",
     "text": [
      "adding 15 for Denise Crosswhite Hader due to being an slr\n",
      "┌──┐\n",
      "│15│\n",
      "└──┘\n",
      "[15]\n",
      "total:  15\n"
     ]
    },
    {
     "data": {
      "text/markdown": [
       " ## Cindy Roe"
      ]
     },
     "metadata": {},
     "output_type": "display_data"
    },
    {
     "data": {
      "text/markdown": [
       " ## OK SLR 2024 (Legislator)"
      ]
     },
     "metadata": {},
     "output_type": "display_data"
    },
    {
     "name": "stdout",
     "output_type": "stream",
     "text": [
      "adding 15 for Cindy Roe due to being an slr\n",
      "┌──┐\n",
      "│15│\n",
      "└──┘\n"
     ]
    },
    {
     "data": {
      "text/markdown": [
       " ## OK SLR 2023 (Legislator)"
      ]
     },
     "metadata": {},
     "output_type": "display_data"
    },
    {
     "name": "stdout",
     "output_type": "stream",
     "text": [
      "adding 15 for Cindy Roe due to being an slr\n",
      "┌──┐\n",
      "│15│\n",
      "└──┘\n",
      "[15, 15]\n",
      "total:  30\n"
     ]
    },
    {
     "data": {
      "text/markdown": [
       " ## Annie Menz"
      ]
     },
     "metadata": {},
     "output_type": "display_data"
    },
    {
     "data": {
      "text/markdown": [
       " ## OK SLR 2023 (Legislator)"
      ]
     },
     "metadata": {},
     "output_type": "display_data"
    },
    {
     "name": "stdout",
     "output_type": "stream",
     "text": [
      "adding 15 for Annie Menz due to being an slr\n",
      "┌──┐\n",
      "│15│\n",
      "└──┘\n",
      "[15]\n",
      "total:  15\n"
     ]
    },
    {
     "data": {
      "text/markdown": [
       " ## Tammy Townley"
      ]
     },
     "metadata": {},
     "output_type": "display_data"
    },
    {
     "data": {
      "text/markdown": [
       " ## OK SLR 2024 (Legislator)"
      ]
     },
     "metadata": {},
     "output_type": "display_data"
    },
    {
     "name": "stdout",
     "output_type": "stream",
     "text": [
      "adding 15 for Tammy Townley due to being an slr\n",
      "┌──┐\n",
      "│15│\n",
      "└──┘\n",
      "[15]\n",
      "total:  15\n"
     ]
    },
    {
     "data": {
      "text/markdown": [
       " ## Josh CANTRELL"
      ]
     },
     "metadata": {},
     "output_type": "display_data"
    },
    {
     "data": {
      "text/markdown": [
       " ## OK SLR 2023 (Legislator)"
      ]
     },
     "metadata": {},
     "output_type": "display_data"
    },
    {
     "name": "stdout",
     "output_type": "stream",
     "text": [
      "adding 15 for Josh CANTRELL due to being an slr\n",
      "┌──┐\n",
      "│15│\n",
      "└──┘\n"
     ]
    },
    {
     "data": {
      "text/markdown": [
       " ## OK SLR 2024 (Legislator)"
      ]
     },
     "metadata": {},
     "output_type": "display_data"
    },
    {
     "name": "stdout",
     "output_type": "stream",
     "text": [
      "adding 15 for Josh CANTRELL due to being an slr\n",
      "┌──┐\n",
      "│15│\n",
      "└──┘\n",
      "[15, 15]\n",
      "total:  30\n"
     ]
    },
    {
     "data": {
      "text/markdown": [
       " ## Mark McBride"
      ]
     },
     "metadata": {},
     "output_type": "display_data"
    },
    {
     "data": {
      "text/markdown": [
       " ## OK SLR 2023 (Legislator)"
      ]
     },
     "metadata": {},
     "output_type": "display_data"
    },
    {
     "name": "stdout",
     "output_type": "stream",
     "text": [
      "adding 15 for Mark McBride due to being an slr\n",
      "┌──┐\n",
      "│15│\n",
      "└──┘\n",
      "[15]\n",
      "total:  15\n"
     ]
    },
    {
     "data": {
      "text/markdown": [
       " ## Kevin West"
      ]
     },
     "metadata": {},
     "output_type": "display_data"
    },
    {
     "data": {
      "text/markdown": [
       " ## OK SLR 2023 (Legislator)"
      ]
     },
     "metadata": {},
     "output_type": "display_data"
    },
    {
     "name": "stdout",
     "output_type": "stream",
     "text": [
      "adding 15 for Kevin West due to being an slr\n",
      "┌──┐\n",
      "│15│\n",
      "└──┘\n",
      "[15]\n",
      "total:  15\n"
     ]
    },
    {
     "data": {
      "text/markdown": [
       " ## Dick Lowe"
      ]
     },
     "metadata": {},
     "output_type": "display_data"
    },
    {
     "data": {
      "text/markdown": [
       " ## OK SLR 2024 (Legislator)"
      ]
     },
     "metadata": {},
     "output_type": "display_data"
    },
    {
     "name": "stdout",
     "output_type": "stream",
     "text": [
      "adding 15 for Dick Lowe due to being an slr\n",
      "┌──┐\n",
      "│15│\n",
      "└──┘\n",
      "[15]\n",
      "total:  15\n"
     ]
    },
    {
     "data": {
      "text/markdown": [
       " ## Anthony Moore"
      ]
     },
     "metadata": {},
     "output_type": "display_data"
    },
    {
     "data": {
      "text/markdown": [
       " ## OK SLR 2024 (Legislator)"
      ]
     },
     "metadata": {},
     "output_type": "display_data"
    },
    {
     "name": "stdout",
     "output_type": "stream",
     "text": [
      "adding 15 for Anthony Moore due to being an slr\n",
      "┌──┐\n",
      "│15│\n",
      "└──┘\n",
      "[15]\n",
      "total:  15\n"
     ]
    },
    {
     "data": {
      "text/markdown": [
       " ## Rhonda Baker"
      ]
     },
     "metadata": {},
     "output_type": "display_data"
    },
    {
     "data": {
      "text/markdown": [
       " ## OK SLR 2024 (Legislator "
      ]
     },
     "metadata": {},
     "output_type": "display_data"
    },
    {
     "name": "stdout",
     "output_type": "stream",
     "text": [
      "adding 15 for Rhonda Baker due to being an slr\n",
      "┌──┐\n",
      "│15│\n",
      "└──┘\n"
     ]
    },
    {
     "data": {
      "text/markdown": [
       " ##  Speaker)"
      ]
     },
     "metadata": {},
     "output_type": "display_data"
    },
    {
     "name": "stdout",
     "output_type": "stream",
     "text": [
      " Speaker)\n",
      "no state match\n",
      "adding 10 for full day event with no other attributes\n",
      "┌──┐\n",
      "│10│\n",
      "└──┘\n"
     ]
    },
    {
     "data": {
      "text/markdown": [
       " ## HKF C10 S1 (HKF)"
      ]
     },
     "metadata": {},
     "output_type": "display_data"
    },
    {
     "name": "stdout",
     "output_type": "stream",
     "text": [
      "HKF C10 S1 (HKF)\n",
      "no state match\n",
      "adding 10 for full day event with no other attributes\n",
      "adding 20 for Rhonda Baker due to being hkf\n",
      "┌──┐\n",
      "│30│\n",
      "└──┘\n"
     ]
    },
    {
     "data": {
      "text/markdown": [
       " ## OK SLR 2023 (Legislator)"
      ]
     },
     "metadata": {},
     "output_type": "display_data"
    },
    {
     "name": "stdout",
     "output_type": "stream",
     "text": [
      "adding 15 for Rhonda Baker due to being an slr\n",
      "┌──┐\n",
      "│15│\n",
      "└──┘\n",
      "[15, 10, 30, 15]\n",
      "total:  70\n"
     ]
    },
    {
     "data": {
      "text/markdown": [
       " ## Toni Hasenbeck"
      ]
     },
     "metadata": {},
     "output_type": "display_data"
    },
    {
     "data": {
      "text/markdown": [
       " ## OK SLR 2024 (Legislator)"
      ]
     },
     "metadata": {},
     "output_type": "display_data"
    },
    {
     "name": "stdout",
     "output_type": "stream",
     "text": [
      "adding 15 for Toni Hasenbeck due to being an slr\n",
      "┌──┐\n",
      "│15│\n",
      "└──┘\n"
     ]
    },
    {
     "data": {
      "text/markdown": [
       " ## OK SLR 2023 (Speaker)"
      ]
     },
     "metadata": {},
     "output_type": "display_data"
    },
    {
     "name": "stdout",
     "output_type": "stream",
     "text": [
      "found a speaker\n",
      "adding 15 for Toni Hasenbeck due to being an slr\n",
      "adding 0 for Toni Hasenbeck for being in state speaker\n",
      "┌──┐\n",
      "│15│\n",
      "└──┘\n",
      "[15, 15]\n",
      "total:  30\n"
     ]
    },
    {
     "data": {
      "text/markdown": [
       " ## Clay Staires"
      ]
     },
     "metadata": {},
     "output_type": "display_data"
    },
    {
     "data": {
      "text/markdown": [
       " ## OK SLR 2023 (Legislator)"
      ]
     },
     "metadata": {},
     "output_type": "display_data"
    },
    {
     "name": "stdout",
     "output_type": "stream",
     "text": [
      "adding 15 for Clay Staires due to being an slr\n",
      "┌──┐\n",
      "│15│\n",
      "└──┘\n"
     ]
    },
    {
     "data": {
      "text/markdown": [
       " ## OK SLR 2024 (Legislator)"
      ]
     },
     "metadata": {},
     "output_type": "display_data"
    },
    {
     "name": "stdout",
     "output_type": "stream",
     "text": [
      "adding 15 for Clay Staires due to being an slr\n",
      "┌──┐\n",
      "│15│\n",
      "└──┘\n",
      "[15, 15]\n",
      "total:  30\n"
     ]
    },
    {
     "data": {
      "text/markdown": [
       " ## Lonnie Sims"
      ]
     },
     "metadata": {},
     "output_type": "display_data"
    },
    {
     "data": {
      "text/markdown": [
       " ## OK SLR 2023 (Legislator)"
      ]
     },
     "metadata": {},
     "output_type": "display_data"
    },
    {
     "name": "stdout",
     "output_type": "stream",
     "text": [
      "adding 15 for Lonnie Sims due to being an slr\n",
      "┌──┐\n",
      "│15│\n",
      "└──┘\n",
      "[15]\n",
      "total:  15\n"
     ]
    },
    {
     "data": {
      "text/markdown": [
       " ## Mark Tedford"
      ]
     },
     "metadata": {},
     "output_type": "display_data"
    },
    {
     "data": {
      "text/markdown": [
       " ## OK SLR 2023 (Legislator)"
      ]
     },
     "metadata": {},
     "output_type": "display_data"
    },
    {
     "name": "stdout",
     "output_type": "stream",
     "text": [
      "adding 15 for Mark Tedford due to being an slr\n",
      "┌──┐\n",
      "│15│\n",
      "└──┘\n",
      "[15]\n",
      "total:  15\n"
     ]
    },
    {
     "data": {
      "text/markdown": [
       " ## Suzanne Schreiber"
      ]
     },
     "metadata": {},
     "output_type": "display_data"
    },
    {
     "data": {
      "text/markdown": [
       " ## OK SLR 2024 (Legislator)"
      ]
     },
     "metadata": {},
     "output_type": "display_data"
    },
    {
     "name": "stdout",
     "output_type": "stream",
     "text": [
      "adding 15 for Suzanne Schreiber due to being an slr\n",
      "┌──┐\n",
      "│15│\n",
      "└──┘\n"
     ]
    },
    {
     "data": {
      "text/markdown": [
       " ## OK SLR 2023 (Legislator)"
      ]
     },
     "metadata": {},
     "output_type": "display_data"
    },
    {
     "name": "stdout",
     "output_type": "stream",
     "text": [
      "adding 15 for Suzanne Schreiber due to being an slr\n",
      "┌──┐\n",
      "│15│\n",
      "└──┘\n",
      "[15, 15]\n",
      "total:  30\n"
     ]
    },
    {
     "data": {
      "text/markdown": [
       " ## Amanda Swope"
      ]
     },
     "metadata": {},
     "output_type": "display_data"
    },
    {
     "data": {
      "text/markdown": [
       " ## OK SLR 2024 (Legislator)"
      ]
     },
     "metadata": {},
     "output_type": "display_data"
    },
    {
     "name": "stdout",
     "output_type": "stream",
     "text": [
      "adding 15 for Amanda Swope due to being an slr\n",
      "┌──┐\n",
      "│15│\n",
      "└──┘\n",
      "[15]\n",
      "total:  15\n"
     ]
    },
    {
     "data": {
      "text/markdown": [
       " ## Monroe Nichols"
      ]
     },
     "metadata": {},
     "output_type": "display_data"
    },
    {
     "data": {
      "text/markdown": [
       " ## OK SLR 2024 (Legislator)"
      ]
     },
     "metadata": {},
     "output_type": "display_data"
    },
    {
     "name": "stdout",
     "output_type": "stream",
     "text": [
      "adding 15 for Monroe Nichols due to being an slr\n",
      "┌──┐\n",
      "│15│\n",
      "└──┘\n",
      "[15]\n",
      "total:  15\n"
     ]
    },
    {
     "data": {
      "text/markdown": [
       " ## Mark Vancuren"
      ]
     },
     "metadata": {},
     "output_type": "display_data"
    },
    {
     "data": {
      "text/markdown": [
       " ## OK SLR 2024 (Legislator)"
      ]
     },
     "metadata": {},
     "output_type": "display_data"
    },
    {
     "name": "stdout",
     "output_type": "stream",
     "text": [
      "adding 15 for Mark Vancuren due to being an slr\n",
      "┌──┐\n",
      "│15│\n",
      "└──┘\n"
     ]
    },
    {
     "data": {
      "text/markdown": [
       " ## OK SLR 2023 (Legislator)"
      ]
     },
     "metadata": {},
     "output_type": "display_data"
    },
    {
     "name": "stdout",
     "output_type": "stream",
     "text": [
      "adding 15 for Mark Vancuren due to being an slr\n",
      "┌──┐\n",
      "│15│\n",
      "└──┘\n",
      "[15, 15]\n",
      "total:  30\n"
     ]
    },
    {
     "data": {
      "text/markdown": [
       " ## Ross Ford"
      ]
     },
     "metadata": {},
     "output_type": "display_data"
    },
    {
     "data": {
      "text/markdown": [
       " ## OK SLR 2023 (Legislator)"
      ]
     },
     "metadata": {},
     "output_type": "display_data"
    },
    {
     "name": "stdout",
     "output_type": "stream",
     "text": [
      "adding 15 for Ross Ford due to being an slr\n",
      "┌──┐\n",
      "│15│\n",
      "└──┘\n",
      "[15]\n",
      "total:  15\n"
     ]
    },
    {
     "data": {
      "text/markdown": [
       " ## John Waldron"
      ]
     },
     "metadata": {},
     "output_type": "display_data"
    },
    {
     "data": {
      "text/markdown": [
       " ## OK SLR 2024 (Legislator)"
      ]
     },
     "metadata": {},
     "output_type": "display_data"
    },
    {
     "name": "stdout",
     "output_type": "stream",
     "text": [
      "adding 15 for John Waldron due to being an slr\n",
      "┌──┐\n",
      "│15│\n",
      "└──┘\n"
     ]
    },
    {
     "data": {
      "text/markdown": [
       " ## OK SLR 2023 (Legislator)"
      ]
     },
     "metadata": {},
     "output_type": "display_data"
    },
    {
     "name": "stdout",
     "output_type": "stream",
     "text": [
      "adding 15 for John Waldron due to being an slr\n",
      "┌──┐\n",
      "│15│\n",
      "└──┘\n",
      "[15, 15]\n",
      "total:  30\n"
     ]
    },
    {
     "data": {
      "text/markdown": [
       " ## Melissa Provenzano"
      ]
     },
     "metadata": {},
     "output_type": "display_data"
    },
    {
     "data": {
      "text/markdown": [
       " ## OK SLR 2024 (Legislator)"
      ]
     },
     "metadata": {},
     "output_type": "display_data"
    },
    {
     "name": "stdout",
     "output_type": "stream",
     "text": [
      "adding 15 for Melissa Provenzano due to being an slr\n",
      "┌──┐\n",
      "│15│\n",
      "└──┘\n",
      "[15]\n",
      "total:  15\n"
     ]
    },
    {
     "data": {
      "text/markdown": [
       " ## Stan May"
      ]
     },
     "metadata": {},
     "output_type": "display_data"
    },
    {
     "data": {
      "text/markdown": [
       " ## OK SLR 2024 (Legislator)"
      ]
     },
     "metadata": {},
     "output_type": "display_data"
    },
    {
     "name": "stdout",
     "output_type": "stream",
     "text": [
      "adding 15 for Stan May due to being an slr\n",
      "┌──┐\n",
      "│15│\n",
      "└──┘\n"
     ]
    },
    {
     "data": {
      "text/markdown": [
       " ## OK SLR 2023 (Legislator)"
      ]
     },
     "metadata": {},
     "output_type": "display_data"
    },
    {
     "name": "stdout",
     "output_type": "stream",
     "text": [
      "adding 15 for Stan May due to being an slr\n",
      "┌──┐\n",
      "│15│\n",
      "└──┘\n",
      "[15, 15]\n",
      "total:  30\n"
     ]
    },
    {
     "data": {
      "text/markdown": [
       " ## Ellyn Hefner"
      ]
     },
     "metadata": {},
     "output_type": "display_data"
    },
    {
     "data": {
      "text/markdown": [
       " ## OK SLR 2024 (Legislator)"
      ]
     },
     "metadata": {},
     "output_type": "display_data"
    },
    {
     "name": "stdout",
     "output_type": "stream",
     "text": [
      "adding 15 for Ellyn Hefner due to being an slr\n",
      "┌──┐\n",
      "│15│\n",
      "└──┘\n"
     ]
    },
    {
     "data": {
      "text/markdown": [
       " ## OK SLR 2023 (Legislator)"
      ]
     },
     "metadata": {},
     "output_type": "display_data"
    },
    {
     "name": "stdout",
     "output_type": "stream",
     "text": [
      "adding 15 for Ellyn Hefner due to being an slr\n",
      "┌──┐\n",
      "│15│\n",
      "└──┘\n",
      "[15, 15]\n",
      "total:  30\n"
     ]
    },
    {
     "data": {
      "text/markdown": [
       " ## Arturo Alonso Sandoval"
      ]
     },
     "metadata": {},
     "output_type": "display_data"
    },
    {
     "data": {
      "text/markdown": [
       " ## OK SLR 2023 (Legislator)"
      ]
     },
     "metadata": {},
     "output_type": "display_data"
    },
    {
     "name": "stdout",
     "output_type": "stream",
     "text": [
      "adding 15 for Arturo Alonso Sandoval due to being an slr\n",
      "┌──┐\n",
      "│15│\n",
      "└──┘\n",
      "[15]\n",
      "total:  15\n"
     ]
    },
    {
     "data": {
      "text/markdown": [
       " ## Forrest Bennett"
      ]
     },
     "metadata": {},
     "output_type": "display_data"
    },
    {
     "data": {
      "text/markdown": [
       " ## OK SLR 2024 (Legislator)"
      ]
     },
     "metadata": {},
     "output_type": "display_data"
    },
    {
     "name": "stdout",
     "output_type": "stream",
     "text": [
      "adding 15 for Forrest Bennett due to being an slr\n",
      "┌──┐\n",
      "│15│\n",
      "└──┘\n",
      "[15]\n",
      "total:  15\n"
     ]
    },
    {
     "data": {
      "text/markdown": [
       " ## Mickey Dollens"
      ]
     },
     "metadata": {},
     "output_type": "display_data"
    },
    {
     "data": {
      "text/markdown": [
       " ## OK SLR 2023 (Legislator)"
      ]
     },
     "metadata": {},
     "output_type": "display_data"
    },
    {
     "name": "stdout",
     "output_type": "stream",
     "text": [
      "adding 15 for Mickey Dollens due to being an slr\n",
      "┌──┐\n",
      "│15│\n",
      "└──┘\n",
      "[15]\n",
      "total:  15\n"
     ]
    },
    {
     "data": {
      "text/markdown": [
       " ## Andy Fugate"
      ]
     },
     "metadata": {},
     "output_type": "display_data"
    },
    {
     "data": {
      "text/markdown": [
       " ## OK SLR 2024 (Legislator)"
      ]
     },
     "metadata": {},
     "output_type": "display_data"
    },
    {
     "name": "stdout",
     "output_type": "stream",
     "text": [
      "adding 15 for Andy Fugate due to being an slr\n",
      "┌──┐\n",
      "│15│\n",
      "└──┘\n"
     ]
    },
    {
     "data": {
      "text/markdown": [
       " ## OK SLR 2023 (Legislator)"
      ]
     },
     "metadata": {},
     "output_type": "display_data"
    },
    {
     "name": "stdout",
     "output_type": "stream",
     "text": [
      "adding 15 for Andy Fugate due to being an slr\n",
      "┌──┐\n",
      "│15│\n",
      "└──┘\n",
      "[15, 15]\n",
      "total:  30\n"
     ]
    },
    {
     "data": {
      "text/markdown": [
       " ## Preston Stinson"
      ]
     },
     "metadata": {},
     "output_type": "display_data"
    },
    {
     "data": {
      "text/markdown": [
       " ## OK SLR 2023 (Legislator)"
      ]
     },
     "metadata": {},
     "output_type": "display_data"
    },
    {
     "name": "stdout",
     "output_type": "stream",
     "text": [
      "adding 15 for Preston Stinson due to being an slr\n",
      "┌──┐\n",
      "│15│\n",
      "└──┘\n",
      "[15]\n",
      "total:  15\n"
     ]
    },
    {
     "data": {
      "text/markdown": [
       " ## Dean Davis"
      ]
     },
     "metadata": {},
     "output_type": "display_data"
    },
    {
     "data": {
      "text/markdown": [
       " ## OK SLR 2024 (Legislator)"
      ]
     },
     "metadata": {},
     "output_type": "display_data"
    },
    {
     "name": "stdout",
     "output_type": "stream",
     "text": [
      "adding 15 for Dean Davis due to being an slr\n",
      "┌──┐\n",
      "│15│\n",
      "└──┘\n"
     ]
    },
    {
     "data": {
      "text/markdown": [
       " ## OK SLR 2023 (Legislator)"
      ]
     },
     "metadata": {},
     "output_type": "display_data"
    },
    {
     "name": "stdout",
     "output_type": "stream",
     "text": [
      "adding 15 for Dean Davis due to being an slr\n",
      "┌──┐\n",
      "│15│\n",
      "└──┘\n",
      "[15, 15]\n",
      "total:  30\n"
     ]
    },
    {
     "data": {
      "text/markdown": [
       " ## Micheal Bergstrom"
      ]
     },
     "metadata": {},
     "output_type": "display_data"
    },
    {
     "data": {
      "text/markdown": [
       " ## OK SLR 2023 (Legislator)"
      ]
     },
     "metadata": {},
     "output_type": "display_data"
    },
    {
     "name": "stdout",
     "output_type": "stream",
     "text": [
      "adding 15 for Micheal Bergstrom due to being an slr\n",
      "┌──┐\n",
      "│15│\n",
      "└──┘\n",
      "[15]\n",
      "total:  15\n"
     ]
    },
    {
     "data": {
      "text/markdown": [
       " ## Mary Boren"
      ]
     },
     "metadata": {},
     "output_type": "display_data"
    },
    {
     "data": {
      "text/markdown": [
       " ## OK SLR 2023 (Speaker)"
      ]
     },
     "metadata": {},
     "output_type": "display_data"
    },
    {
     "name": "stdout",
     "output_type": "stream",
     "text": [
      "found a speaker\n",
      "adding 15 for Mary Boren due to being an slr\n",
      "adding 0 for Mary Boren for being in state speaker\n",
      "┌──┐\n",
      "│15│\n",
      "└──┘\n",
      "[15]\n",
      "total:  15\n"
     ]
    },
    {
     "data": {
      "text/markdown": [
       " ## Jack Stewart"
      ]
     },
     "metadata": {},
     "output_type": "display_data"
    },
    {
     "data": {
      "text/markdown": [
       " ## OK SLR 2023 (Legislator)"
      ]
     },
     "metadata": {},
     "output_type": "display_data"
    },
    {
     "name": "stdout",
     "output_type": "stream",
     "text": [
      "adding 15 for Jack Stewart due to being an slr\n",
      "┌──┐\n",
      "│15│\n",
      "└──┘\n"
     ]
    },
    {
     "data": {
      "text/markdown": [
       " ## OK SLR 2024 (Legislator)"
      ]
     },
     "metadata": {},
     "output_type": "display_data"
    },
    {
     "name": "stdout",
     "output_type": "stream",
     "text": [
      "adding 15 for Jack Stewart due to being an slr\n",
      "┌──┐\n",
      "│15│\n",
      "└──┘\n",
      "[15, 15]\n",
      "total:  30\n"
     ]
    },
    {
     "data": {
      "text/markdown": [
       " ## Roland Pederson"
      ]
     },
     "metadata": {},
     "output_type": "display_data"
    },
    {
     "data": {
      "text/markdown": [
       " ## OK SLR 2023 (Legislator)"
      ]
     },
     "metadata": {},
     "output_type": "display_data"
    },
    {
     "name": "stdout",
     "output_type": "stream",
     "text": [
      "adding 15 for Roland Pederson due to being an slr\n",
      "┌──┐\n",
      "│15│\n",
      "└──┘\n",
      "[15]\n",
      "total:  15\n"
     ]
    },
    {
     "data": {
      "text/markdown": [
       " ## Grant Green"
      ]
     },
     "metadata": {},
     "output_type": "display_data"
    },
    {
     "data": {
      "text/markdown": [
       " ## OK SLR 2023 (Legislator)"
      ]
     },
     "metadata": {},
     "output_type": "display_data"
    },
    {
     "name": "stdout",
     "output_type": "stream",
     "text": [
      "adding 15 for Grant Green due to being an slr\n",
      "┌──┐\n",
      "│15│\n",
      "└──┘\n",
      "[15]\n",
      "total:  15\n"
     ]
    },
    {
     "data": {
      "text/markdown": [
       " ## Jo Anna Dossett"
      ]
     },
     "metadata": {},
     "output_type": "display_data"
    },
    {
     "data": {
      "text/markdown": [
       " ## OK SLR 2024 (Legislator)"
      ]
     },
     "metadata": {},
     "output_type": "display_data"
    },
    {
     "name": "stdout",
     "output_type": "stream",
     "text": [
      "adding 15 for Jo Anna Dossett due to being an slr\n",
      "┌──┐\n",
      "│15│\n",
      "└──┘\n"
     ]
    },
    {
     "data": {
      "text/markdown": [
       " ## OK SLR 2023 (Legislator)"
      ]
     },
     "metadata": {},
     "output_type": "display_data"
    },
    {
     "name": "stdout",
     "output_type": "stream",
     "text": [
      "adding 15 for Jo Anna Dossett due to being an slr\n",
      "┌──┐\n",
      "│15│\n",
      "└──┘\n",
      "[15, 15]\n",
      "total:  30\n"
     ]
    },
    {
     "data": {
      "text/markdown": [
       " ## Carri Hicks"
      ]
     },
     "metadata": {},
     "output_type": "display_data"
    },
    {
     "data": {
      "text/markdown": [
       " ## OK SLR 2024 (Legislator)"
      ]
     },
     "metadata": {},
     "output_type": "display_data"
    },
    {
     "name": "stdout",
     "output_type": "stream",
     "text": [
      "adding 15 for Carri Hicks due to being an slr\n",
      "┌──┐\n",
      "│15│\n",
      "└──┘\n"
     ]
    },
    {
     "data": {
      "text/markdown": [
       " ## OK SLR 2023 (Legislator)"
      ]
     },
     "metadata": {},
     "output_type": "display_data"
    },
    {
     "name": "stdout",
     "output_type": "stream",
     "text": [
      "adding 15 for Carri Hicks due to being an slr\n",
      "┌──┐\n",
      "│15│\n",
      "└──┘\n",
      "[15, 15]\n",
      "total:  30\n"
     ]
    },
    {
     "data": {
      "text/markdown": [
       " ## Brenda Stanley"
      ]
     },
     "metadata": {},
     "output_type": "display_data"
    },
    {
     "data": {
      "text/markdown": [
       " ## OK SLR 2023 (Legislator)"
      ]
     },
     "metadata": {},
     "output_type": "display_data"
    },
    {
     "name": "stdout",
     "output_type": "stream",
     "text": [
      "adding 15 for Brenda Stanley due to being an slr\n",
      "┌──┐\n",
      "│15│\n",
      "└──┘\n"
     ]
    },
    {
     "data": {
      "text/markdown": [
       " ## OK SLR 2023 (Legislator)"
      ]
     },
     "metadata": {},
     "output_type": "display_data"
    },
    {
     "name": "stdout",
     "output_type": "stream",
     "text": [
      "adding 15 for Brenda Stanley due to being an slr\n",
      "┌──┐\n",
      "│15│\n",
      "└──┘\n",
      "[15, 15]\n",
      "total:  30\n"
     ]
    },
    {
     "data": {
      "text/markdown": [
       " ## Jessica Garvin"
      ]
     },
     "metadata": {},
     "output_type": "display_data"
    },
    {
     "data": {
      "text/markdown": [
       " ## OK SLR 2024 (Legislator)"
      ]
     },
     "metadata": {},
     "output_type": "display_data"
    },
    {
     "name": "stdout",
     "output_type": "stream",
     "text": [
      "adding 15 for Jessica Garvin due to being an slr\n",
      "┌──┐\n",
      "│15│\n",
      "└──┘\n"
     ]
    },
    {
     "data": {
      "text/markdown": [
       " ## OK SLR 2023 (Legislator)"
      ]
     },
     "metadata": {},
     "output_type": "display_data"
    },
    {
     "name": "stdout",
     "output_type": "stream",
     "text": [
      "adding 15 for Jessica Garvin due to being an slr\n",
      "┌──┐\n",
      "│15│\n",
      "└──┘\n",
      "[15, 15]\n",
      "total:  30\n"
     ]
    },
    {
     "data": {
      "text/markdown": [
       " ## George Young"
      ]
     },
     "metadata": {},
     "output_type": "display_data"
    },
    {
     "data": {
      "text/markdown": [
       " ## OK SLR 2023 (Legislator)"
      ]
     },
     "metadata": {},
     "output_type": "display_data"
    },
    {
     "name": "stdout",
     "output_type": "stream",
     "text": [
      "adding 15 for George Young due to being an slr\n",
      "┌──┐\n",
      "│15│\n",
      "└──┘\n",
      "[15]\n",
      "total:  15\n"
     ]
    },
    {
     "data": {
      "text/markdown": [
       " ## George Burns"
      ]
     },
     "metadata": {},
     "output_type": "display_data"
    },
    {
     "data": {
      "text/markdown": [
       " ## OK SLR 2023 (Legislator)"
      ]
     },
     "metadata": {},
     "output_type": "display_data"
    },
    {
     "name": "stdout",
     "output_type": "stream",
     "text": [
      "adding 15 for George Burns due to being an slr\n",
      "┌──┐\n",
      "│15│\n",
      "└──┘\n",
      "[15]\n",
      "total:  15\n"
     ]
    },
    {
     "data": {
      "text/markdown": [
       " ## Deon Tedder"
      ]
     },
     "metadata": {},
     "output_type": "display_data"
    },
    {
     "data": {
      "text/markdown": [
       " ## SC Leg Ed Dinner 2023"
      ]
     },
     "metadata": {},
     "output_type": "display_data"
    },
    {
     "name": "stdout",
     "output_type": "stream",
     "text": [
      "adding 5 for Deon Tedder due to being a lunch or dinner\n",
      "┌─┐\n",
      "│5│\n",
      "└─┘\n",
      "[5]\n",
      "total:  5\n"
     ]
    },
    {
     "data": {
      "text/markdown": [
       " ## Leonidas Stavrinakis"
      ]
     },
     "metadata": {},
     "output_type": "display_data"
    },
    {
     "data": {
      "text/markdown": [
       " ## SC Leg Ed Dinner 2023"
      ]
     },
     "metadata": {},
     "output_type": "display_data"
    },
    {
     "name": "stdout",
     "output_type": "stream",
     "text": [
      "adding 5 for Leonidas Stavrinakis due to being a lunch or dinner\n",
      "┌─┐\n",
      "│5│\n",
      "└─┘\n",
      "[5]\n",
      "total:  5\n"
     ]
    },
    {
     "data": {
      "text/markdown": [
       " ## Michael Rivers"
      ]
     },
     "metadata": {},
     "output_type": "display_data"
    },
    {
     "data": {
      "text/markdown": [
       " ## SC Leg Ed Dinner 2023"
      ]
     },
     "metadata": {},
     "output_type": "display_data"
    },
    {
     "name": "stdout",
     "output_type": "stream",
     "text": [
      "adding 5 for Michael Rivers due to being a lunch or dinner\n",
      "┌─┐\n",
      "│5│\n",
      "└─┘\n",
      "[5]\n",
      "total:  5\n"
     ]
    },
    {
     "data": {
      "text/markdown": [
       " ## Bill Hager"
      ]
     },
     "metadata": {},
     "output_type": "display_data"
    },
    {
     "data": {
      "text/markdown": [
       " ## SC Leg Ed Dinner 2023"
      ]
     },
     "metadata": {},
     "output_type": "display_data"
    },
    {
     "name": "stdout",
     "output_type": "stream",
     "text": [
      "adding 5 for Bill Hager due to being a lunch or dinner\n",
      "┌─┐\n",
      "│5│\n",
      "└─┘\n",
      "[5]\n",
      "total:  5\n"
     ]
    },
    {
     "data": {
      "text/markdown": [
       " ## Jeffrey Bradley"
      ]
     },
     "metadata": {},
     "output_type": "display_data"
    },
    {
     "data": {
      "text/markdown": [
       " ## SC Leg Ed Dinner 2023"
      ]
     },
     "metadata": {},
     "output_type": "display_data"
    },
    {
     "name": "stdout",
     "output_type": "stream",
     "text": [
      "adding 5 for Jeffrey Bradley due to being a lunch or dinner\n",
      "┌─┐\n",
      "│5│\n",
      "└─┘\n",
      "[5]\n",
      "total:  5\n"
     ]
    },
    {
     "data": {
      "text/markdown": [
       " ## Shannon Erickson"
      ]
     },
     "metadata": {},
     "output_type": "display_data"
    },
    {
     "data": {
      "text/markdown": [
       " ## SC Leg Ed Dinner 2023"
      ]
     },
     "metadata": {},
     "output_type": "display_data"
    },
    {
     "name": "stdout",
     "output_type": "stream",
     "text": [
      "adding 5 for Shannon Erickson due to being a lunch or dinner\n",
      "┌─┐\n",
      "│5│\n",
      "└─┘\n",
      "[5]\n",
      "total:  5\n"
     ]
    },
    {
     "data": {
      "text/markdown": [
       " ## Chandra Dilliard"
      ]
     },
     "metadata": {},
     "output_type": "display_data"
    },
    {
     "data": {
      "text/markdown": [
       " ## SC Leg Ed Dinner 2023"
      ]
     },
     "metadata": {},
     "output_type": "display_data"
    },
    {
     "name": "stdout",
     "output_type": "stream",
     "text": [
      "adding 5 for Chandra Dilliard due to being a lunch or dinner\n",
      "┌─┐\n",
      "│5│\n",
      "└─┘\n",
      "[5]\n",
      "total:  5\n"
     ]
    },
    {
     "data": {
      "text/markdown": [
       " ## Bruce Bannister"
      ]
     },
     "metadata": {},
     "output_type": "display_data"
    },
    {
     "data": {
      "text/markdown": [
       " ## SC Leg Ed Dinner 2023"
      ]
     },
     "metadata": {},
     "output_type": "display_data"
    },
    {
     "name": "stdout",
     "output_type": "stream",
     "text": [
      "adding 5 for Bruce Bannister due to being a lunch or dinner\n",
      "┌─┐\n",
      "│5│\n",
      "└─┘\n",
      "[5]\n",
      "total:  5\n"
     ]
    },
    {
     "data": {
      "text/markdown": [
       " ## David Vaughn"
      ]
     },
     "metadata": {},
     "output_type": "display_data"
    },
    {
     "data": {
      "text/markdown": [
       " ## SC Leg Ed Dinner 2023"
      ]
     },
     "metadata": {},
     "output_type": "display_data"
    },
    {
     "name": "stdout",
     "output_type": "stream",
     "text": [
      "adding 5 for David Vaughn due to being a lunch or dinner\n",
      "┌─┐\n",
      "│5│\n",
      "└─┘\n",
      "[5]\n",
      "total:  5\n"
     ]
    },
    {
     "data": {
      "text/markdown": [
       " ## Dennis Moss"
      ]
     },
     "metadata": {},
     "output_type": "display_data"
    },
    {
     "data": {
      "text/markdown": [
       " ## SC Leg Ed Dinner 2023"
      ]
     },
     "metadata": {},
     "output_type": "display_data"
    },
    {
     "name": "stdout",
     "output_type": "stream",
     "text": [
      "adding 5 for Dennis Moss due to being a lunch or dinner\n",
      "┌─┐\n",
      "│5│\n",
      "└─┘\n",
      "[5]\n",
      "total:  5\n"
     ]
    },
    {
     "data": {
      "text/markdown": [
       " ## Max Hyde"
      ]
     },
     "metadata": {},
     "output_type": "display_data"
    },
    {
     "data": {
      "text/markdown": [
       " ## SC Leg Ed Dinner 2023"
      ]
     },
     "metadata": {},
     "output_type": "display_data"
    },
    {
     "name": "stdout",
     "output_type": "stream",
     "text": [
      "adding 5 for Max Hyde due to being a lunch or dinner\n",
      "┌─┐\n",
      "│5│\n",
      "└─┘\n",
      "[5]\n",
      "total:  5\n"
     ]
    },
    {
     "data": {
      "text/markdown": [
       " ## Doug Gilliam"
      ]
     },
     "metadata": {},
     "output_type": "display_data"
    },
    {
     "data": {
      "text/markdown": [
       " ## SC Leg Ed Dinner 2023"
      ]
     },
     "metadata": {},
     "output_type": "display_data"
    },
    {
     "name": "stdout",
     "output_type": "stream",
     "text": [
      "adding 5 for Doug Gilliam due to being a lunch or dinner\n",
      "┌─┐\n",
      "│5│\n",
      "└─┘\n",
      "[5]\n",
      "total:  5\n"
     ]
    },
    {
     "data": {
      "text/markdown": [
       " ## Brandon Newton"
      ]
     },
     "metadata": {},
     "output_type": "display_data"
    },
    {
     "data": {
      "text/markdown": [
       " ## SC Leg Ed Dinner 2023"
      ]
     },
     "metadata": {},
     "output_type": "display_data"
    },
    {
     "name": "stdout",
     "output_type": "stream",
     "text": [
      "adding 5 for Brandon Newton due to being a lunch or dinner\n",
      "┌─┐\n",
      "│5│\n",
      "└─┘\n",
      "[5]\n",
      "total:  5\n"
     ]
    },
    {
     "data": {
      "text/markdown": [
       " ## John C King"
      ]
     },
     "metadata": {},
     "output_type": "display_data"
    },
    {
     "data": {
      "text/markdown": [
       " ## SC Leg Ed Dinner 2023"
      ]
     },
     "metadata": {},
     "output_type": "display_data"
    },
    {
     "name": "stdout",
     "output_type": "stream",
     "text": [
      "adding 5 for John C King due to being a lunch or dinner\n",
      "┌─┐\n",
      "│5│\n",
      "└─┘\n",
      "[5]\n",
      "total:  5\n"
     ]
    },
    {
     "data": {
      "text/markdown": [
       " ## Neal Collins"
      ]
     },
     "metadata": {},
     "output_type": "display_data"
    },
    {
     "data": {
      "text/markdown": [
       " ## SC Leg Ed Dinner 2023"
      ]
     },
     "metadata": {},
     "output_type": "display_data"
    },
    {
     "name": "stdout",
     "output_type": "stream",
     "text": [
      "adding 5 for Neal Collins due to being a lunch or dinner\n",
      "┌─┐\n",
      "│5│\n",
      "└─┘\n",
      "[5]\n",
      "total:  5\n"
     ]
    },
    {
     "data": {
      "text/markdown": [
       " ## Timothy McGinnis"
      ]
     },
     "metadata": {},
     "output_type": "display_data"
    },
    {
     "data": {
      "text/markdown": [
       " ## SC Leg Ed Dinner 2023"
      ]
     },
     "metadata": {},
     "output_type": "display_data"
    },
    {
     "name": "stdout",
     "output_type": "stream",
     "text": [
      "adding 5 for Timothy McGinnis due to being a lunch or dinner\n",
      "┌─┐\n",
      "│5│\n",
      "└─┘\n",
      "[5]\n",
      "total:  5\n"
     ]
    },
    {
     "data": {
      "text/markdown": [
       " ## Terry Alexander"
      ]
     },
     "metadata": {},
     "output_type": "display_data"
    },
    {
     "data": {
      "text/markdown": [
       " ## SC Leg Ed Dinner 2023"
      ]
     },
     "metadata": {},
     "output_type": "display_data"
    },
    {
     "name": "stdout",
     "output_type": "stream",
     "text": [
      "adding 5 for Terry Alexander due to being a lunch or dinner\n",
      "┌─┐\n",
      "│5│\n",
      "└─┘\n",
      "[5]\n",
      "total:  5\n"
     ]
    },
    {
     "data": {
      "text/markdown": [
       " ## April  Cromer"
      ]
     },
     "metadata": {},
     "output_type": "display_data"
    },
    {
     "data": {
      "text/markdown": [
       " ## SC Leg Ed Dinner 2023"
      ]
     },
     "metadata": {},
     "output_type": "display_data"
    },
    {
     "name": "stdout",
     "output_type": "stream",
     "text": [
      "adding 5 for April  Cromer due to being a lunch or dinner\n",
      "┌─┐\n",
      "│5│\n",
      "└─┘\n",
      "[5]\n",
      "total:  5\n"
     ]
    },
    {
     "data": {
      "text/markdown": [
       " ## Murrell Smith"
      ]
     },
     "metadata": {},
     "output_type": "display_data"
    },
    {
     "data": {
      "text/markdown": [
       " ## SC Leg Ed Dinner 2023"
      ]
     },
     "metadata": {},
     "output_type": "display_data"
    },
    {
     "name": "stdout",
     "output_type": "stream",
     "text": [
      "adding 5 for Murrell Smith due to being a lunch or dinner\n",
      "┌─┐\n",
      "│5│\n",
      "└─┘\n",
      "[5]\n",
      "total:  5\n"
     ]
    },
    {
     "data": {
      "text/markdown": [
       " ## Heather Crawford"
      ]
     },
     "metadata": {},
     "output_type": "display_data"
    },
    {
     "data": {
      "text/markdown": [
       " ## SC Leg Ed Dinner 2023"
      ]
     },
     "metadata": {},
     "output_type": "display_data"
    },
    {
     "name": "stdout",
     "output_type": "stream",
     "text": [
      "adding 5 for Heather Crawford due to being a lunch or dinner\n",
      "┌─┐\n",
      "│5│\n",
      "└─┘\n",
      "[5]\n",
      "total:  5\n"
     ]
    },
    {
     "data": {
      "text/markdown": [
       " ## Leon Howard"
      ]
     },
     "metadata": {},
     "output_type": "display_data"
    },
    {
     "data": {
      "text/markdown": [
       " ## SC Leg Ed Dinner 2023"
      ]
     },
     "metadata": {},
     "output_type": "display_data"
    },
    {
     "name": "stdout",
     "output_type": "stream",
     "text": [
      "adding 5 for Leon Howard due to being a lunch or dinner\n",
      "┌─┐\n",
      "│5│\n",
      "└─┘\n",
      "[5]\n",
      "total:  5\n"
     ]
    },
    {
     "data": {
      "text/markdown": [
       " ## Kambrell Garvin"
      ]
     },
     "metadata": {},
     "output_type": "display_data"
    },
    {
     "data": {
      "text/markdown": [
       " ## SC Leg Ed Dinner 2023"
      ]
     },
     "metadata": {},
     "output_type": "display_data"
    },
    {
     "name": "stdout",
     "output_type": "stream",
     "text": [
      "adding 5 for Kambrell Garvin due to being a lunch or dinner\n",
      "┌─┐\n",
      "│5│\n",
      "└─┘\n",
      "[5]\n",
      "total:  5\n"
     ]
    },
    {
     "data": {
      "text/markdown": [
       " ## Jermaine Johnson"
      ]
     },
     "metadata": {},
     "output_type": "display_data"
    },
    {
     "data": {
      "text/markdown": [
       " ## SC Leg Ed Dinner 2023"
      ]
     },
     "metadata": {},
     "output_type": "display_data"
    },
    {
     "name": "stdout",
     "output_type": "stream",
     "text": [
      "adding 5 for Jermaine Johnson due to being a lunch or dinner\n",
      "┌─┐\n",
      "│5│\n",
      "└─┘\n"
     ]
    },
    {
     "data": {
      "text/markdown": [
       " ## SC Leg Ed Dinner 2023"
      ]
     },
     "metadata": {},
     "output_type": "display_data"
    },
    {
     "name": "stdout",
     "output_type": "stream",
     "text": [
      "adding 5 for Jermaine Johnson due to being a lunch or dinner\n",
      "┌─┐\n",
      "│5│\n",
      "└─┘\n",
      "[5, 5]\n",
      "total:  10\n"
     ]
    },
    {
     "data": {
      "text/markdown": [
       " ## William Clyburn"
      ]
     },
     "metadata": {},
     "output_type": "display_data"
    },
    {
     "data": {
      "text/markdown": [
       " ## SC Leg Ed Dinner 2023"
      ]
     },
     "metadata": {},
     "output_type": "display_data"
    },
    {
     "name": "stdout",
     "output_type": "stream",
     "text": [
      "adding 5 for William Clyburn due to being a lunch or dinner\n",
      "┌─┐\n",
      "│5│\n",
      "└─┘\n",
      "[5]\n",
      "total:  5\n"
     ]
    },
    {
     "data": {
      "text/markdown": [
       " ## Paula  Calhoon"
      ]
     },
     "metadata": {},
     "output_type": "display_data"
    },
    {
     "data": {
      "text/markdown": [
       " ## SC Leg Ed Dinner 2023"
      ]
     },
     "metadata": {},
     "output_type": "display_data"
    },
    {
     "name": "stdout",
     "output_type": "stream",
     "text": [
      "adding 5 for Paula  Calhoon due to being a lunch or dinner\n",
      "┌─┐\n",
      "│5│\n",
      "└─┘\n",
      "[5]\n",
      "total:  5\n"
     ]
    },
    {
     "data": {
      "text/markdown": [
       " ## Micah Caskey"
      ]
     },
     "metadata": {},
     "output_type": "display_data"
    },
    {
     "data": {
      "text/markdown": [
       " ## SC Leg Ed Dinner 2023"
      ]
     },
     "metadata": {},
     "output_type": "display_data"
    },
    {
     "name": "stdout",
     "output_type": "stream",
     "text": [
      "adding 5 for Micah Caskey due to being a lunch or dinner\n",
      "┌─┐\n",
      "│5│\n",
      "└─┘\n",
      "[5]\n",
      "total:  5\n"
     ]
    },
    {
     "data": {
      "text/markdown": [
       " ## Lonnie Hosey"
      ]
     },
     "metadata": {},
     "output_type": "display_data"
    },
    {
     "data": {
      "text/markdown": [
       " ## SC Leg Ed Dinner 2023"
      ]
     },
     "metadata": {},
     "output_type": "display_data"
    },
    {
     "name": "stdout",
     "output_type": "stream",
     "text": [
      "adding 5 for Lonnie Hosey due to being a lunch or dinner\n",
      "┌─┐\n",
      "│5│\n",
      "└─┘\n",
      "[5]\n",
      "total:  5\n"
     ]
    },
    {
     "data": {
      "text/markdown": [
       " ## Greg Hembree"
      ]
     },
     "metadata": {},
     "output_type": "display_data"
    },
    {
     "data": {
      "text/markdown": [
       " ## SC Leg Ed Dinner 2023"
      ]
     },
     "metadata": {},
     "output_type": "display_data"
    },
    {
     "name": "stdout",
     "output_type": "stream",
     "text": [
      "adding 5 for Greg Hembree due to being a lunch or dinner\n",
      "┌─┐\n",
      "│5│\n",
      "└─┘\n",
      "[5]\n",
      "total:  5\n"
     ]
    },
    {
     "data": {
      "text/markdown": [
       " ## Dwight Loftis"
      ]
     },
     "metadata": {},
     "output_type": "display_data"
    },
    {
     "data": {
      "text/markdown": [
       " ## SC Leg Ed Dinner 2023"
      ]
     },
     "metadata": {},
     "output_type": "display_data"
    },
    {
     "name": "stdout",
     "output_type": "stream",
     "text": [
      "adding 5 for Dwight Loftis due to being a lunch or dinner\n",
      "┌─┐\n",
      "│5│\n",
      "└─┘\n",
      "[5]\n",
      "total:  5\n"
     ]
    },
    {
     "data": {
      "text/markdown": [
       " ## Ross Turner"
      ]
     },
     "metadata": {},
     "output_type": "display_data"
    },
    {
     "data": {
      "text/markdown": [
       " ## SC Leg Ed Dinner 2023"
      ]
     },
     "metadata": {},
     "output_type": "display_data"
    },
    {
     "name": "stdout",
     "output_type": "stream",
     "text": [
      "adding 5 for Ross Turner due to being a lunch or dinner\n",
      "┌─┐\n",
      "│5│\n",
      "└─┘\n",
      "[5]\n",
      "total:  5\n"
     ]
    },
    {
     "data": {
      "text/markdown": [
       " ## Michael Cherry"
      ]
     },
     "metadata": {},
     "output_type": "display_data"
    },
    {
     "data": {
      "text/markdown": [
       " ## ECLS 2024"
      ]
     },
     "metadata": {},
     "output_type": "display_data"
    },
    {
     "name": "stdout",
     "output_type": "stream",
     "text": [
      "ECLS 2024\n",
      "no state match\n",
      "adding 10 for full day event with no other attributes\n",
      "┌──┐\n",
      "│10│\n",
      "└──┘\n",
      "[10]\n",
      "total:  10\n"
     ]
    },
    {
     "data": {
      "text/markdown": [
       " ## Tara Durant"
      ]
     },
     "metadata": {},
     "output_type": "display_data"
    },
    {
     "data": {
      "text/markdown": [
       " ## ECLS 2024"
      ]
     },
     "metadata": {},
     "output_type": "display_data"
    },
    {
     "name": "stdout",
     "output_type": "stream",
     "text": [
      "ECLS 2024\n",
      "no state match\n",
      "adding 10 for full day event with no other attributes\n",
      "┌──┐\n",
      "│10│\n",
      "└──┘\n",
      "[10]\n",
      "total:  10\n"
     ]
    },
    {
     "data": {
      "text/markdown": [
       " ##  Erica Moore"
      ]
     },
     "metadata": {},
     "output_type": "display_data"
    },
    {
     "data": {
      "text/markdown": [
       " ## WV SLR 2024 (Legislator)"
      ]
     },
     "metadata": {},
     "output_type": "display_data"
    },
    {
     "name": "stdout",
     "output_type": "stream",
     "text": [
      "adding 15 for  Erica Moore due to being an slr\n",
      "┌──┐\n",
      "│15│\n",
      "└──┘\n",
      "[15]\n",
      "total:  15\n"
     ]
    },
    {
     "data": {
      "text/markdown": [
       " ##  Kathie Hess Crouse"
      ]
     },
     "metadata": {},
     "output_type": "display_data"
    },
    {
     "data": {
      "text/markdown": [
       " ## WV SLR 2024 (Legislator)"
      ]
     },
     "metadata": {},
     "output_type": "display_data"
    },
    {
     "name": "stdout",
     "output_type": "stream",
     "text": [
      "adding 15 for  Kathie Hess Crouse due to being an slr\n",
      "┌──┐\n",
      "│15│\n",
      "└──┘\n",
      "[15]\n",
      "total:  15\n"
     ]
    },
    {
     "data": {
      "text/markdown": [
       " ##  David Green"
      ]
     },
     "metadata": {},
     "output_type": "display_data"
    },
    {
     "data": {
      "text/markdown": [
       " ## WV SLR 2024 (Legislator)"
      ]
     },
     "metadata": {},
     "output_type": "display_data"
    },
    {
     "name": "stdout",
     "output_type": "stream",
     "text": [
      "adding 15 for  David Green due to being an slr\n",
      "┌──┐\n",
      "│15│\n",
      "└──┘\n",
      "[15]\n",
      "total:  15\n"
     ]
    },
    {
     "data": {
      "text/markdown": [
       " ##  Debbie Warner"
      ]
     },
     "metadata": {},
     "output_type": "display_data"
    },
    {
     "data": {
      "text/markdown": [
       " ## WV SLR 2024 (Legislator)"
      ]
     },
     "metadata": {},
     "output_type": "display_data"
    },
    {
     "name": "stdout",
     "output_type": "stream",
     "text": [
      "adding 15 for  Debbie Warner due to being an slr\n",
      "┌──┐\n",
      "│15│\n",
      "└──┘\n",
      "[15]\n",
      "total:  15\n"
     ]
    },
    {
     "data": {
      "text/markdown": [
       " ## Mike Pushkin"
      ]
     },
     "metadata": {},
     "output_type": "display_data"
    },
    {
     "data": {
      "text/markdown": [
       " ## WV SLR 2023"
      ]
     },
     "metadata": {},
     "output_type": "display_data"
    },
    {
     "name": "stdout",
     "output_type": "stream",
     "text": [
      "adding 15 for Mike Pushkin due to being an slr\n",
      "┌──┐\n",
      "│15│\n",
      "└──┘\n",
      "[15]\n",
      "total:  15\n"
     ]
    },
    {
     "data": {
      "text/markdown": [
       " ## Kayla Young"
      ]
     },
     "metadata": {},
     "output_type": "display_data"
    },
    {
     "data": {
      "text/markdown": [
       " ## WV SLR 2023 (speaker)"
      ]
     },
     "metadata": {},
     "output_type": "display_data"
    },
    {
     "name": "stdout",
     "output_type": "stream",
     "text": [
      "found a speaker\n",
      "adding 15 for Kayla Young due to being an slr\n",
      "adding 0 for Kayla Young for being in state speaker\n",
      "┌──┐\n",
      "│15│\n",
      "└──┘\n",
      "[15]\n",
      "total:  15\n"
     ]
    },
    {
     "data": {
      "text/markdown": [
       " ## Andy Shamblin"
      ]
     },
     "metadata": {},
     "output_type": "display_data"
    },
    {
     "data": {
      "text/markdown": [
       " ## WV SLR 2023"
      ]
     },
     "metadata": {},
     "output_type": "display_data"
    },
    {
     "name": "stdout",
     "output_type": "stream",
     "text": [
      "adding 15 for Andy Shamblin due to being an slr\n",
      "┌──┐\n",
      "│15│\n",
      "└──┘\n",
      "[15]\n",
      "total:  15\n"
     ]
    },
    {
     "data": {
      "text/markdown": [
       " ##  Lori Dittman"
      ]
     },
     "metadata": {},
     "output_type": "display_data"
    },
    {
     "data": {
      "text/markdown": [
       " ## WV SLR 2024 (Legislator)"
      ]
     },
     "metadata": {},
     "output_type": "display_data"
    },
    {
     "name": "stdout",
     "output_type": "stream",
     "text": [
      "adding 15 for  Lori Dittman due to being an slr\n",
      "┌──┐\n",
      "│15│\n",
      "└──┘\n"
     ]
    },
    {
     "data": {
      "text/markdown": [
       " ## WV SLR 2023 (speaker)"
      ]
     },
     "metadata": {},
     "output_type": "display_data"
    },
    {
     "name": "stdout",
     "output_type": "stream",
     "text": [
      "found a speaker\n",
      "adding 15 for  Lori Dittman due to being an slr\n",
      "adding 0 for  Lori Dittman for being in state speaker\n",
      "┌──┐\n",
      "│15│\n",
      "└──┘\n",
      "[15, 15]\n",
      "total:  30\n"
     ]
    },
    {
     "data": {
      "text/markdown": [
       " ## Keith Marple"
      ]
     },
     "metadata": {},
     "output_type": "display_data"
    },
    {
     "data": {
      "text/markdown": [
       " ## WV SLR 2023"
      ]
     },
     "metadata": {},
     "output_type": "display_data"
    },
    {
     "name": "stdout",
     "output_type": "stream",
     "text": [
      "adding 15 for Keith Marple due to being an slr\n",
      "┌──┐\n",
      "│15│\n",
      "└──┘\n",
      "[15]\n",
      "total:  15\n"
     ]
    },
    {
     "data": {
      "text/markdown": [
       " ##  Laura Kimble"
      ]
     },
     "metadata": {},
     "output_type": "display_data"
    },
    {
     "data": {
      "text/markdown": [
       " ## WV SLR 2024 (Legislator)"
      ]
     },
     "metadata": {},
     "output_type": "display_data"
    },
    {
     "name": "stdout",
     "output_type": "stream",
     "text": [
      "adding 15 for  Laura Kimble due to being an slr\n",
      "┌──┐\n",
      "│15│\n",
      "└──┘\n",
      "[15]\n",
      "total:  15\n"
     ]
    },
    {
     "data": {
      "text/markdown": [
       " ##  Joey Garcia"
      ]
     },
     "metadata": {},
     "output_type": "display_data"
    },
    {
     "data": {
      "text/markdown": [
       " ## WV SLR 2024 (Legislator)"
      ]
     },
     "metadata": {},
     "output_type": "display_data"
    },
    {
     "name": "stdout",
     "output_type": "stream",
     "text": [
      "adding 15 for  Joey Garcia due to being an slr\n",
      "┌──┐\n",
      "│15│\n",
      "└──┘\n",
      "[15]\n",
      "total:  15\n"
     ]
    },
    {
     "data": {
      "text/markdown": [
       " ##  Geno Chiarelli"
      ]
     },
     "metadata": {},
     "output_type": "display_data"
    },
    {
     "data": {
      "text/markdown": [
       " ## WV SLR 2024 (Legislator)"
      ]
     },
     "metadata": {},
     "output_type": "display_data"
    },
    {
     "name": "stdout",
     "output_type": "stream",
     "text": [
      "adding 15 for  Geno Chiarelli due to being an slr\n",
      "┌──┐\n",
      "│15│\n",
      "└──┘\n",
      "[15]\n",
      "total:  15\n"
     ]
    },
    {
     "data": {
      "text/markdown": [
       " ##  Anitra Hamilton"
      ]
     },
     "metadata": {},
     "output_type": "display_data"
    },
    {
     "data": {
      "text/markdown": [
       " ## WV SLR 2024 (Legislator)"
      ]
     },
     "metadata": {},
     "output_type": "display_data"
    },
    {
     "name": "stdout",
     "output_type": "stream",
     "text": [
      "adding 15 for  Anitra Hamilton due to being an slr\n",
      "┌──┐\n",
      "│15│\n",
      "└──┘\n",
      "[15]\n",
      "total:  15\n"
     ]
    },
    {
     "data": {
      "text/markdown": [
       " ##  Darren Thorne"
      ]
     },
     "metadata": {},
     "output_type": "display_data"
    },
    {
     "data": {
      "text/markdown": [
       " ## WV SLR 2024 (Legislator)"
      ]
     },
     "metadata": {},
     "output_type": "display_data"
    },
    {
     "name": "stdout",
     "output_type": "stream",
     "text": [
      "adding 15 for  Darren Thorne due to being an slr\n",
      "┌──┐\n",
      "│15│\n",
      "└──┘\n",
      "[15]\n",
      "total:  15\n"
     ]
    },
    {
     "data": {
      "text/markdown": [
       " ## Michael Hite"
      ]
     },
     "metadata": {},
     "output_type": "display_data"
    },
    {
     "data": {
      "text/markdown": [
       " ## WV SLR 2023"
      ]
     },
     "metadata": {},
     "output_type": "display_data"
    },
    {
     "name": "stdout",
     "output_type": "stream",
     "text": [
      "adding 15 for Michael Hite due to being an slr\n",
      "┌──┐\n",
      "│15│\n",
      "└──┘\n",
      "[15]\n",
      "total:  15\n"
     ]
    },
    {
     "data": {
      "text/markdown": [
       " ##  Laura Wakim Chapman"
      ]
     },
     "metadata": {},
     "output_type": "display_data"
    },
    {
     "data": {
      "text/markdown": [
       " ## WV SLR 2024 (Legislator)"
      ]
     },
     "metadata": {},
     "output_type": "display_data"
    },
    {
     "name": "stdout",
     "output_type": "stream",
     "text": [
      "adding 15 for  Laura Wakim Chapman due to being an slr\n",
      "┌──┐\n",
      "│15│\n",
      "└──┘\n"
     ]
    },
    {
     "data": {
      "text/markdown": [
       " ## ECLS 2024"
      ]
     },
     "metadata": {},
     "output_type": "display_data"
    },
    {
     "name": "stdout",
     "output_type": "stream",
     "text": [
      "ECLS 2024\n",
      "no state match\n",
      "adding 10 for full day event with no other attributes\n",
      "┌──┐\n",
      "│10│\n",
      "└──┘\n",
      "[15, 10]\n",
      "total:  25\n"
     ]
    },
    {
     "data": {
      "text/markdown": [
       " ##  Ben Queen"
      ]
     },
     "metadata": {},
     "output_type": "display_data"
    },
    {
     "data": {
      "text/markdown": [
       " ## WV SLR 2024 (Legislator)"
      ]
     },
     "metadata": {},
     "output_type": "display_data"
    },
    {
     "name": "stdout",
     "output_type": "stream",
     "text": [
      "adding 15 for  Ben Queen due to being an slr\n",
      "┌──┐\n",
      "│15│\n",
      "└──┘\n"
     ]
    },
    {
     "data": {
      "text/markdown": [
       " ## WV SLR 2023 (speaker)"
      ]
     },
     "metadata": {},
     "output_type": "display_data"
    },
    {
     "name": "stdout",
     "output_type": "stream",
     "text": [
      "found a speaker\n",
      "adding 15 for  Ben Queen due to being an slr\n",
      "adding 0 for  Ben Queen for being in state speaker\n",
      "┌──┐\n",
      "│15│\n",
      "└──┘\n",
      "[15, 15]\n",
      "total:  30\n"
     ]
    },
    {
     "data": {
      "text/markdown": [
       " ## Michael Oliverio"
      ]
     },
     "metadata": {},
     "output_type": "display_data"
    },
    {
     "data": {
      "text/markdown": [
       " ## ECLS 2024"
      ]
     },
     "metadata": {},
     "output_type": "display_data"
    },
    {
     "name": "stdout",
     "output_type": "stream",
     "text": [
      "ECLS 2024\n",
      "no state match\n",
      "adding 10 for full day event with no other attributes\n",
      "┌──┐\n",
      "│10│\n",
      "└──┘\n"
     ]
    },
    {
     "data": {
      "text/markdown": [
       " ## HKF C10 S1 (HKF)"
      ]
     },
     "metadata": {},
     "output_type": "display_data"
    },
    {
     "name": "stdout",
     "output_type": "stream",
     "text": [
      "HKF C10 S1 (HKF)\n",
      "no state match\n",
      "adding 10 for full day event with no other attributes\n",
      "adding 20 for Michael Oliverio due to being hkf\n",
      "┌──┐\n",
      "│30│\n",
      "└──┘\n"
     ]
    },
    {
     "data": {
      "text/markdown": [
       " ## WV SLR 2023 (speaker)"
      ]
     },
     "metadata": {},
     "output_type": "display_data"
    },
    {
     "name": "stdout",
     "output_type": "stream",
     "text": [
      "found a speaker\n",
      "adding 15 for Michael Oliverio due to being an slr\n",
      "adding 0 for Michael Oliverio for being in state speaker\n",
      "┌──┐\n",
      "│15│\n",
      "└──┘\n",
      "[10, 30, 15]\n",
      "total:  55\n"
     ]
    },
    {
     "data": {
      "text/markdown": [
       " ##  Jay Taylor"
      ]
     },
     "metadata": {},
     "output_type": "display_data"
    },
    {
     "data": {
      "text/markdown": [
       " ## WV SLR 2024 (Legislator)"
      ]
     },
     "metadata": {},
     "output_type": "display_data"
    },
    {
     "name": "stdout",
     "output_type": "stream",
     "text": [
      "adding 15 for  Jay Taylor due to being an slr\n",
      "┌──┐\n",
      "│15│\n",
      "└──┘\n",
      "[15]\n",
      "total:  15\n"
     ]
    },
    {
     "data": {
      "text/markdown": [
       " ##  Patricia Rucker "
      ]
     },
     "metadata": {},
     "output_type": "display_data"
    },
    {
     "data": {
      "text/markdown": [
       " ## WV SLR 2024 (Legislator)"
      ]
     },
     "metadata": {},
     "output_type": "display_data"
    },
    {
     "name": "stdout",
     "output_type": "stream",
     "text": [
      "adding 15 for  Patricia Rucker  due to being an slr\n",
      "┌──┐\n",
      "│15│\n",
      "└──┘\n"
     ]
    },
    {
     "data": {
      "text/markdown": [
       " ## WV SLR 2023 (speaker)"
      ]
     },
     "metadata": {},
     "output_type": "display_data"
    },
    {
     "name": "stdout",
     "output_type": "stream",
     "text": [
      "found a speaker\n",
      "adding 15 for  Patricia Rucker  due to being an slr\n",
      "adding 0 for  Patricia Rucker  for being in state speaker\n",
      "┌──┐\n",
      "│15│\n",
      "└──┘\n",
      "[15, 15]\n",
      "total:  30\n"
     ]
    },
    {
     "data": {
      "text/markdown": [
       " ##  Eric Nelson"
      ]
     },
     "metadata": {},
     "output_type": "display_data"
    },
    {
     "data": {
      "text/markdown": [
       " ## WV SLR 2024 (Legislator)"
      ]
     },
     "metadata": {},
     "output_type": "display_data"
    },
    {
     "name": "stdout",
     "output_type": "stream",
     "text": [
      "adding 15 for  Eric Nelson due to being an slr\n",
      "┌──┐\n",
      "│15│\n",
      "└──┘\n"
     ]
    },
    {
     "data": {
      "text/markdown": [
       " ## WV SLR 2023"
      ]
     },
     "metadata": {},
     "output_type": "display_data"
    },
    {
     "name": "stdout",
     "output_type": "stream",
     "text": [
      "adding 15 for  Eric Nelson due to being an slr\n",
      "┌──┐\n",
      "│15│\n",
      "└──┘\n",
      "[15, 15]\n",
      "total:  30\n"
     ]
    },
    {
     "data": {
      "text/markdown": [
       " ## Charles Clements"
      ]
     },
     "metadata": {},
     "output_type": "display_data"
    },
    {
     "data": {
      "text/markdown": [
       " ## ECLS 2024"
      ]
     },
     "metadata": {},
     "output_type": "display_data"
    },
    {
     "name": "stdout",
     "output_type": "stream",
     "text": [
      "ECLS 2024\n",
      "no state match\n",
      "adding 10 for full day event with no other attributes\n",
      "┌──┐\n",
      "│10│\n",
      "└──┘\n"
     ]
    },
    {
     "data": {
      "text/markdown": [
       " ## WV SLR 2023 (speaker)"
      ]
     },
     "metadata": {},
     "output_type": "display_data"
    },
    {
     "name": "stdout",
     "output_type": "stream",
     "text": [
      "found a speaker\n",
      "adding 15 for Charles Clements due to being an slr\n",
      "adding 0 for Charles Clements for being in state speaker\n",
      "┌──┐\n",
      "│15│\n",
      "└──┘\n",
      "[10, 15]\n",
      "total:  25\n"
     ]
    }
   ],
   "source": [
    "\n",
    "grouped_df.loc[:, 'activities_score'] = 0\n",
    "for i,j in enumerate(grouped_df['events']):\n",
    "    \n",
    "    \n",
    "    # split up events\n",
    "    event_split = str(j).split('|')\n",
    "    events = \";\".join(event_split)\n",
    "    # if len(event_split) < 2:\n",
    "    #     continue\n",
    "\n",
    "\n",
    "    # print(grouped_df.loc[i,['first_name','last_name' ]])\n",
    "    fname = grouped_df.at[i,'first_name']\n",
    "    lname = grouped_df.at[i,'last_name']\n",
    "\n",
    "\n",
    "    names = [fname, lname]\n",
    "    name = \" \".join(names)\n",
    "    \n",
    "    \n",
    "    \n",
    "    \n",
    "    display_markdown(f' ## {name}', raw=True)\n",
    "    # print(bordered(events))\n",
    "\n",
    "\n",
    "    scores = []\n",
    "    for event in event_split:\n",
    "\n",
    "        display_markdown(f' ## {event}', raw=True)\n",
    "        # #print(name)\n",
    "        score = 0\n",
    "        speaker = False\n",
    "        is_hkf = False\n",
    "        dev_program = False\n",
    "        in_state = False\n",
    "        out_state = False\n",
    "        is_slr = False\n",
    "        dinner_or_lunch = False\n",
    "        # non_slr = False\n",
    "        speaker = False\n",
    "        # #print('#################')\n",
    "        # #print(*grouped_df.loc[i,['helper','first_name', 'last_name', 'events']], sep=\" \\ \")\n",
    "        \n",
    "        \n",
    "        # #print(bordered(event))\n",
    "        if re.search(r'\\(.+\\)', str(event)):\n",
    "            match = re.findall(r'\\(.+\\)', str(event))\n",
    "            match_refine = [x for x in match if len(x) != 0]\n",
    "            #print(\"match refine results\", match_refine)\n",
    "            if len(match_refine) != 0:\n",
    "                for m in match_refine:\n",
    "                    if re.search('speaker|presenter', str(m).lower()):\n",
    "                        print('found a speaker')\n",
    "                        speaker = True\n",
    "                    elif 'HKF' in str(m):\n",
    "                        #print('THERE IS HKF IN THE RESULTS')\n",
    "                        is_hkf = True\n",
    "                \n",
    "        \n",
    "        \n",
    "        if re.search(r'[Dd]inner|[Ll]unch', str(event)):\n",
    "            dinner_or_lunch = True\n",
    "\n",
    "\n",
    "        state = str(grouped_df.loc[i,'helper']).split('-')[0].strip()\n",
    "        \n",
    "        # #print(re.match('ECLS', str(event)))\n",
    "        \n",
    "        if 'ECLS' not in str(event) or \"HKF\" not in str(event):\n",
    "            #print(\"no ecls or hKF\")\n",
    "            try:\n",
    "                event_state = re.findall(state_abv_pat, str(event))[0].strip()\n",
    "                if event_state == state:\n",
    "                #print(\"states match\")\n",
    "                    in_state = True\n",
    "                else:\n",
    "                    out_state = True\n",
    "            except:\n",
    "                \n",
    "                print(str(event))\n",
    "                print('no state match')\n",
    "                \n",
    "\n",
    "            \n",
    "\n",
    "        else:\n",
    "            out_state = True\n",
    "            \n",
    "            \n",
    "\n",
    "        if 'HSPF' in str(event) or 'Elevate' in str(event):\n",
    "            dev_program = True\n",
    "\n",
    "        if re.search(r'SLR|HLR',str(event)):\n",
    "            is_slr = True\n",
    "\n",
    "        if re.search(r'\\s[Mm]\\d', str(event)):\n",
    "            non_slr = True\n",
    "        \n",
    "        variables = [\n",
    "        speaker,\n",
    "        is_hkf,\n",
    "        dev_program,\n",
    "        in_state,\n",
    "        out_state,\n",
    "        is_slr,\n",
    "        dinner_or_lunch\n",
    "        ]\n",
    "        # #print('quick look at logic')\n",
    "        # for var_name, var_value in zip(['speaker', 'is_hfk', 'dev_program', 'in_state', 'out_state', 'is_slr', 'dinner_or_lunch', 'non_slr', 'out_of_state'], variables):\n",
    "        #     #print(bordered(f\"{var_name}: {var_value}\"))\n",
    "        \n",
    "\n",
    "        #Event data\n",
    "        if is_slr == True:\n",
    "            score += 15\n",
    "            print(f'adding 15 for {name} due to being an slr')\n",
    "        # else:\n",
    "        #     score += 10\n",
    "        #     #print(f'adding 10 for {name}')\n",
    "\n",
    "        elif dev_program == True:\n",
    "            score += 15\n",
    "            print(f'adding 15 for {name} due to being in an dev program')\n",
    "        elif dinner_or_lunch == True:\n",
    "            score += 5\n",
    "            print(f'adding 5 for {name} due to being a lunch or dinner')\n",
    "        else:\n",
    "            score += 10\n",
    "            print(\"adding 10 for full day event with no other attributes\")\n",
    "\n",
    "        \n",
    "        #check for speaker\n",
    "        if speaker == True:\n",
    "            if in_state == True:\n",
    "                score += 0\n",
    "                #if in state no additional points\n",
    "                print(f'adding 0 for {name} for being in state speaker')\n",
    "            elif out_state == True:\n",
    "                #if out of state add 5 more points for speakers\n",
    "                print(f'adding 5 for {name} due ot being a speaker at an out of state event')\n",
    "                score += 5\n",
    "        \n",
    "        # check for hkf\n",
    "        if is_hkf == True:\n",
    "            score += 20\n",
    "            print(f'adding 20 for {name} due to being hkf')\n",
    "\n",
    "\n",
    "        \n",
    "        print(bordered(score))\n",
    "        scores.append(score)\n",
    "\n",
    "    # display_markdown(f' ### {name}', raw=True)\n",
    "    print(scores)\n",
    "    total = sum(scores)\n",
    "    print(\"total: \",total)\n",
    "    \n",
    "    \n",
    "    grouped_df.loc[i, 'activities_score'] = total\n",
    "\n",
    "\n",
    "            \n",
    "\n",
    "\n",
    "    # continue\n",
    "\n",
    "        # print(\"%%%%%%%%%%%%%%%\")\n",
    "        # print(*match_refine, sep=' - ')\n",
    "        # print('%%%%%%%%%%%%%%%')\n",
    "\n",
    "    # continue\n",
    "\n",
    "    # speaker = False\n",
    "    # for event in event_split:\n",
    "    #     if re.search(r'\\(.+\\)', str(event)):\n",
    "    #         match = re.findall(r'\\(.+\\)', str(event))\n",
    "    #         match = match[0]\n",
    "    #         if 'speaker' in str(match).lower():\n",
    "    #             speaker = True\n",
    "            \n",
    "    # if len(event_split) == 1"
   ]
  },
  {
   "cell_type": "code",
   "execution_count": null,
   "metadata": {},
   "outputs": [],
   "source": [
    "relationship_scores = grouped_df.loc[:,['helper', 'activities_score']]\n",
    "os.chdir(r'C:\\Users\\clutz\\OneDrive - THE HUNT INSTITUTE\\Documents\\Data\\legislator data\\scoring files')\n",
    "relationship_scores.to_csv('relationship_scores.csv', index = False)"
   ]
  },
  {
   "cell_type": "markdown",
   "metadata": {},
   "source": [
    "### make lookup\n",
    "\n",
    "the chunk below cuts down the dataframe to two columns for a look up value"
   ]
  },
  {
   "cell_type": "code",
   "execution_count": null,
   "metadata": {},
   "outputs": [],
   "source": [
    "\n",
    "\n"
   ]
  },
  {
   "cell_type": "code",
   "execution_count": null,
   "metadata": {},
   "outputs": [],
   "source": [
    "\n",
    "os.chdir(r'C:\\Users\\clutz\\OneDrive - THE HUNT INSTITUTE\\Documents\\Data\\attendance data\\exports')\n",
    "no_districts.to_csv(\"no_districts_export_11_7_2024.csv\", index=False)"
   ]
  },
  {
   "cell_type": "markdown",
   "metadata": {},
   "source": [
    "%%"
   ]
  },
  {
   "cell_type": "code",
   "execution_count": null,
   "metadata": {},
   "outputs": [],
   "source": [
    "only_legs_event\n",
    "if re.search(r'[Rr]epresentative|[Ss]enator|[Ll]egislator',str(df['title'].iloc[i])) or re.search(r'[Ss]enate|[Hh]ouse of ([Rr]epresentatives)?(Delegates)?|[Dd]istrict|[Ss]tate [Hh]ouse', str(df['org'].iloc[i])):"
   ]
  },
  {
   "cell_type": "code",
   "execution_count": null,
   "metadata": {},
   "outputs": [],
   "source": [
    "only_legs_event = "
   ]
  }
 ],
 "metadata": {
  "kernelspec": {
   "display_name": "hunt_env",
   "language": "python",
   "name": "python3"
  },
  "language_info": {
   "codemirror_mode": {
    "name": "ipython",
    "version": 3
   },
   "file_extension": ".py",
   "mimetype": "text/x-python",
   "name": "python",
   "nbconvert_exporter": "python",
   "pygments_lexer": "ipython3",
   "version": "3.12.5"
  }
 },
 "nbformat": 4,
 "nbformat_minor": 2
}
