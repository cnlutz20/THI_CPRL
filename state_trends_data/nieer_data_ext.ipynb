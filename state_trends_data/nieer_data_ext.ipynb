{
 "cells": [
  {
   "cell_type": "markdown",
   "metadata": {},
   "source": [
    "%%"
   ]
  },
  {
   "cell_type": "code",
   "execution_count": 1,
   "metadata": {},
   "outputs": [],
   "source": [
    "import os, re\n",
    "import pandas as pd\n",
    "import glob as glob\n",
    "from tqdm import tqdm\n",
    "from tabula.io import read_pdf\n",
    "import pdfplumber"
   ]
  },
  {
   "cell_type": "markdown",
   "metadata": {},
   "source": [
    "%%"
   ]
  },
  {
   "cell_type": "code",
   "execution_count": 2,
   "metadata": {},
   "outputs": [],
   "source": [
    "os.chdir(r'C:\\Users\\clutz\\THE HUNT INSTITUTE\\The Hunt Institute Team Site - Documents\\Development (formerly Grants Management)\\!Administrative\\Christian\\State Trends Data\\nieer')\n",
    "files = glob.glob(\"*\")\n",
    "# %%"
   ]
  },
  {
   "cell_type": "markdown",
   "metadata": {},
   "source": [
    "Open the PDF and extract tables from page 16"
   ]
  },
  {
   "cell_type": "code",
   "execution_count": 3,
   "metadata": {},
   "outputs": [],
   "source": [
    "with pdfplumber.open(files[0]) as pdf:\n",
    "    page = pdf.pages[15]  # Page 16 (0-indexed)\n",
    "    # im = page.to_image(resolution=150)\n",
    "    # im.debug_tablefinder({\"horizontal_strategy\": \"text\"})\n",
    "    # im.show()\n",
    "    table_settings = {\"horizontal_strategy\": \"text\"}\n",
    "    table=page.extract_table(table_settings)\n",
    "    new_table = pd.DataFrame(table[1::],columns=table[0])\n",
    "\n",
    "\n",
    "    # tablesettings = {\"horizontal_strategy\": \"text\"}\n",
    "    # page_ext = page.debug_tablefinder(table_settings=tablesettings)\n",
    "    # page_ext.to_image(resolution=150)\n",
    "    new_table\n"
   ]
  },
  {
   "cell_type": "code",
   "execution_count": null,
   "metadata": {},
   "outputs": [],
   "source": [
    "    tables = page.extract_tables({\"horizontal_strategy\": \"text\"})\n",
    "    for table in tables:\n",
    "        print(table)  # Print extracted tables row-by-row"
   ]
  },
  {
   "cell_type": "markdown",
   "metadata": {},
   "source": [
    "%%"
   ]
  },
  {
   "cell_type": "code",
   "execution_count": null,
   "metadata": {},
   "outputs": [],
   "source": [
    "tables = []\n",
    "for i,file in enumerate(files):\n",
    "    \n",
    "    if i > 0:\n",
    "        break\n",
    "    file = files[0]\n",
    "    print(file)\n",
    "    with pdfplumber.open(file) as pdf:\n",
    "        pages = pdf.pages\n",
    "        for page in tqdm(pages):\n",
    "            tables_found = page.find_tables() \n",
    "            if len(tables_found) == 0:\n",
    "                continue\n",
    "            else:\n",
    "                table = page.extract_tables()\n",
    "                tables.append(table)\n",
    "                # print(tb.columns)"
   ]
  },
  {
   "cell_type": "markdown",
   "metadata": {},
   "source": [
    "%%"
   ]
  },
  {
   "cell_type": "code",
   "execution_count": null,
   "metadata": {},
   "outputs": [],
   "source": [
    "for table in tables:\n",
    "    print(pd.DataFrame(table).to_string())\n",
    "        # print(first_page.page_number)\n",
    "        # print(first_page.find_tables())\n",
    "        # print(first_page.chars[0])\n",
    "# %%"
   ]
  }
 ],
 "metadata": {
  "kernelspec": {
   "display_name": "hunt_env",
   "language": "python",
   "name": "python3"
  },
  "language_info": {
   "codemirror_mode": {
    "name": "ipython",
    "version": 3
   },
   "file_extension": ".py",
   "mimetype": "text/x-python",
   "name": "python",
   "nbconvert_exporter": "python",
   "pygments_lexer": "ipython3",
   "version": "3.12.5"
  }
 },
 "nbformat": 4,
 "nbformat_minor": 2
}
