{
 "cells": [
  {
   "cell_type": "code",
   "execution_count": 1,
   "metadata": {},
   "outputs": [],
   "source": [
    "#imports\n",
    "import os, sys, json  # Provides OS-dependent functionality, system-specific parameters, JSON handling\n",
    "import pandas as pd             # Provides data structures and data analysis tools\n",
    "import numpy as np              # Supports large, multi-dimensional arrays and matrices\n",
    "import requests\n",
    "import time\n",
    "import xlsxwriter\n",
    "from tqdm import tqdm\n",
    "from datetime import date #date/time manipulation\n",
    "import glob as glob\n",
    "\n",
    "import urllib3\n",
    "urllib3.disable_warnings(urllib3.exceptions.InsecureRequestWarning)\n",
    "import warnings\n",
    "warnings.simplefilter(action='ignore', category=FutureWarning)\n",
    "pd.options.mode.chained_assignment = None  # default='warn'\n",
    "from IPython.display import display_markdown\n",
    "\n",
    "\n",
    "from cprl_functions.state_capture import thi_states,state_ref, state_coding, state_coding_r, state_pat, state_abv_pat\n",
    "from cprl_functions.text_printing import bordered\n",
    "from cprl_functions.defined_functions import create_pk, add_seats, get_key, get_recent_file\n",
    "# %%"
   ]
  },
  {
   "cell_type": "markdown",
   "metadata": {},
   "source": [
    "# Script purpose\n",
    "Inputs:\n",
    "- leg ref\n",
    "- \n",
    "\n",
    "Outputs:\n",
    "com_info for selected state"
   ]
  },
  {
   "cell_type": "code",
   "execution_count": null,
   "metadata": {},
   "outputs": [],
   "source": [
    "#pull in leg ref\n",
    "leg_ref = pd.read_csv(get_recent_file(\"*.csv\", r\"C:\\Users\\clutz\\THE HUNT INSTITUTE\\The Hunt Institute Team Site - Documents\\Development (formerly Grants Management)\\!Administrative\\Christian\\THII\\legislator data\\key_creation\\2025\"))\n",
    "print(leg_ref.columns)\n",
    "# leg_ref.head(2)\n",
    "\n",
    "\n",
    "setup = leg_ref.loc[:,['state abbreviation', 'chamber']]\n",
    "setup = setup.drop_duplicates()"
   ]
  },
  {
   "cell_type": "code",
   "execution_count": 4,
   "metadata": {},
   "outputs": [],
   "source": [
    "def get_subset(chamber,state):\n",
    "    state_leg_ref = leg_ref[(leg_ref['chamber'] == chamber) & (leg_ref['state abbreviation'] == state)].reset_index(drop = False)\n",
    "    print(state_leg_ref.head().to_string())\n",
    "    return state_leg_ref"
   ]
  },
  {
   "cell_type": "markdown",
   "metadata": {},
   "source": [
    "## Pull in committee data files"
   ]
  },
  {
   "cell_type": "code",
   "execution_count": 21,
   "metadata": {},
   "outputs": [],
   "source": [
    "committee_info_folder = r'C:\\Users\\clutz\\THE HUNT INSTITUTE\\The Hunt Institute Team Site - Documents\\Development (formerly Grants Management)\\!Administrative\\Christian\\THII\\legislator data\\committee info\\committee update files'"
   ]
  },
  {
   "cell_type": "code",
   "execution_count": null,
   "metadata": {},
   "outputs": [],
   "source": [
    "#testing get_subset\n",
    "# com_ref = get_subset('House', 'MO')\n",
    "# com_ref = com_ref.drop('index', axis = 1)\n",
    "# com_ref"
   ]
  },
  {
   "cell_type": "markdown",
   "metadata": {},
   "source": [
    "# Begin Assisgnment loop"
   ]
  },
  {
   "cell_type": "code",
   "execution_count": null,
   "metadata": {},
   "outputs": [],
   "source": [
    "# state declaration\n",
    "state = \"VA\""
   ]
  },
  {
   "cell_type": "code",
   "execution_count": null,
   "metadata": {},
   "outputs": [
    {
     "name": "stdout",
     "output_type": "stream",
     "text": [
      "['MO_senate.xlsx', 'ND_coms.xlsx', 'VA_house_comms.xlsx']\n",
      "VA_house_comms.xlsx\n"
     ]
    }
   ],
   "source": [
    "#get desired file\n",
    "import re\n",
    "os.chdir(committee_info_folder)\n",
    "files = glob.glob('*.xlsx')\n",
    "print(files)\n",
    "state_abrv = state\n",
    "for file in files:\n",
    "    if re.search(rf'^{state_abrv}', str(file)):\n",
    "        needed_file = file\n",
    "        break\n",
    "\n",
    "com_data = pd.read_excel(needed_file)\n",
    "# com_data\n"
   ]
  },
  {
   "cell_type": "code",
   "execution_count": null,
   "metadata": {},
   "outputs": [],
   "source": [
    "#checking names\n",
    "for c in com_data.columns:\n",
    "    if 'name' in c:\n",
    "        needed_col = c\n",
    "        print(needed_col)\n",
    "unique_names = list(set(com_data.loc[:,f'{needed_col}'].to_list()))\n",
    "\n",
    "more_unique = [x for x in unique_names if len(x.strip().split(' ')) > 2]\n",
    "print(*more_unique, sep= \"\\n\")\n"
   ]
  },
  {
   "cell_type": "code",
   "execution_count": null,
   "metadata": {},
   "outputs": [],
   "source": [
    "def get_lname(name):\n",
    "    # This pattern captures either a compound last name starting with a common prefix (La, Du, De)\n",
    "    # or a single-word last name, ignoring optional suffixes.\n",
    "    pattern = re.compile(\n",
    "        r'(?P<last>(?:(?:La|Du|De)\\s+\\S+)|\\S+)\\s*(?:Jr\\.?|Sr\\.?|II|III|IV)?\\s*$',\n",
    "        re.UNICODE\n",
    "    )\n",
    "    match = pattern.search(name)\n",
    "    if match:\n",
    "        return match.group('last')\n",
    "    else:\n",
    "        print(f\"No match for: {name}\")\n",
    "        return None\n",
    "\n",
    "    "
   ]
  },
  {
   "cell_type": "code",
   "execution_count": null,
   "metadata": {},
   "outputs": [
    {
     "name": "stdout",
     "output_type": "stream",
     "text": [
      "   index     full_pk primary_key  district_code state abbreviation chamber                    title first name  last name       party  district  date assumed office                                  name  tenure leader  state_code  chamber_code\n",
      "0    817  34001700.0      340017           17.0                 MO   House  Missouri Representative       Bill      Allen  Republican      17.0                 2022         MO Rep. Bill Allen (R-MO-017)       3    NaN        34.0           0.0\n",
      "1    818  34011300.0      340113          113.0                 MO   House  Missouri Representative       Phil      Amato  Republican     113.0                 2022         MO Rep. Phil Amato (R-MO-113)       3    NaN        34.0           0.0\n",
      "2    819  34007600.0      340076           76.0                 MO   House  Missouri Representative     Marlon   Anderson    Democrat      76.0                 2020    MO Rep. Marlon Anderson (D-MO-076)       5    NaN        34.0           0.0\n",
      "3    820  34007100.0      340071           71.0                 MO   House  Missouri Representative    LaDonna  Appelbaum    Democrat      71.0                 2018  MO Rep. LaDonna Appelbaum (D-MO-071)       7    NaN        34.0           0.0\n",
      "4    821  34001400.0      340014           14.0                 MO   House  Missouri Representative     Ashley       Aune    Democrat      14.0                 2020        MO Rep. Ashley Aune (D-MO-014)       5    NaN        34.0           0.0\n",
      "   index     full_pk primary_key  district_code state abbreviation chamber             title first name     last name       party  district  date assumed office                                  name  tenure leader  state_code  chamber_code\n",
      "0    980  34102500.0      341025           25.0                 MO  Senate  Missouri Senator      Jason          Bean  Republican      25.0                 2020         MO Sen. Jason Bean (R-MO-025)       5    NaN        34.0           1.0\n",
      "1    981  34100100.0      341001            1.0                 MO  Senate  Missouri Senator       Doug          Beck    Democrat       1.0                 2020          MO Sen. Doug Beck (D-MO-001)       5    NaN        34.0           1.0\n",
      "2    982  34100600.0      341006            6.0                 MO  Senate  Missouri Senator       Mike  Bernskoetter  Republican       6.0                 2018  MO Sen. Mike Bernskoetter (R-MO-006)       7    NaN        34.0           1.0\n",
      "3    983  34101200.0      341012           12.0                 MO  Senate  Missouri Senator      Rusty         Black  Republican      12.0                 2022        MO Sen. Rusty Black (R-MO-012)       3    NaN        34.0           1.0\n",
      "4    984  34103100.0      341031           31.0                 MO  Senate  Missouri Senator       Rick       Brattin  Republican      31.0                 2020       MO Sen. Rick Brattin (R-MO-031)       5    NaN        34.0           1.0\n"
     ]
    }
   ],
   "source": [
    "#set up com ref\n",
    "\n",
    "com_house = get_subset(\"House\", state)\n",
    "com_senate = get_subset(\"Senate\", state)\n",
    "\n",
    "com_ref = pd.concat([com_house, com_senate]).reset_index(drop=False)\n"
   ]
  },
  {
   "cell_type": "code",
   "execution_count": null,
   "metadata": {},
   "outputs": [
    {
     "data": {
      "text/html": [
       "<div>\n",
       "<style scoped>\n",
       "    .dataframe tbody tr th:only-of-type {\n",
       "        vertical-align: middle;\n",
       "    }\n",
       "\n",
       "    .dataframe tbody tr th {\n",
       "        vertical-align: top;\n",
       "    }\n",
       "\n",
       "    .dataframe thead th {\n",
       "        text-align: right;\n",
       "    }\n",
       "</style>\n",
       "<table border=\"1\" class=\"dataframe\">\n",
       "  <thead>\n",
       "    <tr style=\"text-align: right;\">\n",
       "      <th></th>\n",
       "      <th>chamber</th>\n",
       "      <th>com name</th>\n",
       "      <th>name</th>\n",
       "      <th>role</th>\n",
       "      <th>district</th>\n",
       "      <th>full_pk</th>\n",
       "    </tr>\n",
       "  </thead>\n",
       "  <tbody>\n",
       "  </tbody>\n",
       "</table>\n",
       "</div>"
      ],
      "text/plain": [
       "Empty DataFrame\n",
       "Columns: [chamber, com name, name, role, district, full_pk]\n",
       "Index: []"
      ]
     },
     "execution_count": 58,
     "metadata": {},
     "output_type": "execute_result"
    }
   ],
   "source": [
    "#go through al rows and assign fpk\n",
    "\n",
    "\"\"\"\n",
    "This section will popup automatically\n",
    "with a view of rows not assigned an fpk\n",
    "\"\"\"\n",
    "\n",
    "#iterate rows\n",
    "com_data['full_pk'] = np.nan\n",
    "for i, row in com_data.iterrows():\n",
    "    # print(i)\n",
    "    # print(row['name'])\n",
    "    # print(row['chamber'])\n",
    "    if row['chamber'] == 'Senate':\n",
    "        ref = com_senate\n",
    "    else:\n",
    "        ref = com_house\n",
    "    # print(type(row['district']))\n",
    "\n",
    "\n",
    "    results = ref[ref['district_code'].astype(int) == row['district']]\n",
    "    if len(results) > 1:\n",
    "        print(results.head().to_string())\n",
    "        print('ISSUE HERE')\n",
    "        break\n",
    "    full_pk = int(results['full_pk'].iloc[0])\n",
    "    com_data.loc[i,'full_pk'] = full_pk\n",
    "\n",
    "#check for empty values\n",
    "com_data[com_data['full_pk'].isna()]"
   ]
  },
  {
   "cell_type": "code",
   "execution_count": null,
   "metadata": {},
   "outputs": [],
   "source": [
    "\n",
    "#final clean and export\n",
    "com_data.insert(0, 'full_pk', com_data.pop('full_pk'))\n",
    "com_data.to_excel(fr'C:\\Users\\clutz\\THE HUNT INSTITUTE\\The Hunt Institute Team Site - Documents\\Development (formerly Grants Management)\\!Administrative\\Christian\\THII\\legislator data\\committee info\\committee update files\\full_pk_assigned\\{state}_com_info.xlsx', index = False)\n"
   ]
  },
  {
   "cell_type": "markdown",
   "metadata": {},
   "source": [
    "# Appendix"
   ]
  },
  {
   "cell_type": "code",
   "execution_count": null,
   "metadata": {},
   "outputs": [],
   "source": [
    "# *testing* for logic to get last name\n",
    "import re\n",
    "\n",
    "names = [\n",
    "    \"Elgie R. Sims Jr.\",\n",
    "    'Elizabeth \"Lisa\" Hernandez',\n",
    "    \"Amy L. Grant\",\n",
    "    \"Terra Costa Howard\",\n",
    "    \"Julie A. Morrison\",\n",
    "    \"Laura Faver Dias\",\n",
    "    \"William E Hauter\",\n",
    "    \"Aarón M. Ortíz\",\n",
    "    \"Kimberly Du Buclet\",\n",
    "    \"Suzanne M. Ness\",\n",
    "    \"Andrew S. Chesney\",\n",
    "    \"Janet Yang Rohr\",\n",
    "    \"Mary Beth Canty\",\n",
    "    \"Jason R. Bunting\",\n",
    "    \"Michael J. Coffey Jr.\",\n",
    "    \"Li Arellano Jr.\",\n",
    "    \"Kimberly A. Lightford\",\n",
    "    \"Joe C. Sosnowski\",\n",
    "    \"Adam M. Niemerg\",\n",
    "    'William \"Will\" Davis',\n",
    "    \"Sally J. Turner\",\n",
    "    \"Kevin John Olickal\",\n",
    "    \"Camille Y. Lilly\",\n",
    "    \"La Shawn K. Ford\",\n",
    "    \"Marcus C. Evans Jr.\",\n",
    "    \"Wayne A. Rosenthal\",\n",
    "    \"Michael W. Halpin\",\n",
    "    \"Christopher \\\"C.D.\\\" Davidsmeyer\",\n",
    "    \"Darby A. Hills\",\n",
    "    \"Nicole La Ha\",\n",
    "    \"Tracy Katz Muhl\"\n",
    "]\n",
    "\n",
    "# Regex pattern explanation:\n",
    "#   - (?P<last>...): Captures the last name in a named group \"last\".\n",
    "#   - (?:[A-Za-zÀ-ÖØ-öø-ÿ]+(?:\\s+[A-Za-zÀ-ÖØ-öø-ÿ]+)*):\n",
    "#         Matches one or more letters (including accented letters) possibly followed by additional words (for multi-word last names).\n",
    "#   - \\s*(?:Jr\\.?|Sr\\.?|II|III|IV)?\\s*$:\n",
    "#         Optionally matches common suffixes (Jr., Sr., II, III, IV) and any trailing whitespace until the end of the string.\n",
    "pattern = re.compile(r'(?P<last>(?:[A-Za-zÀ-ÖØ-öø-ÿ]+(?:\\s+[A-Za-zÀ-ÖØ-öø-ÿ]+)*))\\s*(?:Jr\\.?|Sr\\.?|II|III|IV)?\\s*$', re.UNICODE)\n",
    "\n",
    "for name in names:\n",
    "    match = pattern.search(name)\n",
    "    if match:\n",
    "        print(f\"Name: {name} --> Last Name: {match.group('last')}\")\n",
    "    else:\n",
    "        print(f\"No match for: {name}\")\n"
   ]
  },
  {
   "cell_type": "code",
   "execution_count": null,
   "metadata": {},
   "outputs": [],
   "source": []
  }
 ],
 "metadata": {
  "kernelspec": {
   "display_name": "hunt_env",
   "language": "python",
   "name": "python3"
  },
  "language_info": {
   "codemirror_mode": {
    "name": "ipython",
    "version": 3
   },
   "file_extension": ".py",
   "mimetype": "text/x-python",
   "name": "python",
   "nbconvert_exporter": "python",
   "pygments_lexer": "ipython3",
   "version": "3.12.5"
  }
 },
 "nbformat": 4,
 "nbformat_minor": 2
}
