{
 "cells": [
  {
   "cell_type": "markdown",
   "metadata": {},
   "source": [
    "## Setup\n"
   ]
  },
  {
   "cell_type": "code",
   "execution_count": 19,
   "metadata": {},
   "outputs": [],
   "source": [
    "#imports\n",
    "import os, sys, json  # Provides OS-dependent functionality, system-specific parameters, JSON handling\n",
    "import pandas as pd             # Provides data structures and data analysis tools\n",
    "import numpy as np              # Supports large, multi-dimensional arrays and matrices\n",
    "import requests\n",
    "import time\n",
    "import xlsxwriter\n",
    "from tqdm import tqdm\n",
    "from datetime import date #date/time manipulation\n",
    "\n",
    "import urllib3\n",
    "urllib3.disable_warnings(urllib3.exceptions.InsecureRequestWarning)\n",
    "import warnings\n",
    "warnings.simplefilter(action='ignore', category=FutureWarning)\n",
    "pd.options.mode.chained_assignment = None  # default='warn'\n",
    "from IPython.display import display_markdown\n",
    "# %%"
   ]
  },
  {
   "cell_type": "markdown",
   "metadata": {},
   "source": [
    "#### Definitions"
   ]
  },
  {
   "cell_type": "code",
   "execution_count": 20,
   "metadata": {},
   "outputs": [],
   "source": [
    "#Intial legislator data cleaning\n",
    "def make_initial_df(df, state, chamber):\n",
    "    result = df[(df['State Abbreviation'] == state) & (df['Chamber'] == chamber)]\n",
    "    return result"
   ]
  },
  {
   "cell_type": "code",
   "execution_count": 21,
   "metadata": {},
   "outputs": [],
   "source": [
    "#get legislator details such as district, tenure, party, etc\n",
    "def calc_leg_details(state_chamber) :\n",
    "    track_cols = ['State Abbreviation','Chamber','Title', 'First Name',\n",
    "        'Last Name', 'Party', 'District', 'Date Assumed Office', 'Committee List',\n",
    "        ]\n",
    "    state_chamber = state_chamber[track_cols]\n",
    "    \n",
    "    # Calculate tenure\n",
    "    current_year = date.today().year\n",
    "    # print(type(current_year))\n",
    "    state_chamber['tenure'] = current_year - state_chamber['Date Assumed Office']\n",
    "    state_chamber['leader'] = np.nan\n",
    "    try:\n",
    "        state_chamber['leader'] = state_chamber['Committee List'].apply(lambda x: str(x).split('|', 1)[0] if len(str(x).split('|', 1)) == 2 else np.nan)\n",
    "    except:\n",
    "        print(\"something wrong with leader column creation\")\n",
    "    return state_chamber"
   ]
  },
  {
   "cell_type": "code",
   "execution_count": 22,
   "metadata": {},
   "outputs": [],
   "source": [
    "# get committees definition\n",
    "def get_comms(df, state, chamber):\n",
    "    result = df[(df['state'] == state) & (df['branch'] == chamber)]\n",
    "    comms_list = result['committee'].to_list()\n",
    "    \n",
    "    return comms_list"
   ]
  },
  {
   "cell_type": "code",
   "execution_count": 23,
   "metadata": {},
   "outputs": [],
   "source": [
    "#create final state leg file\n",
    "def create_state_leg_files(df, state_list):\n",
    "    current_date = str(date.today())\n",
    "    current_date = current_date.replace('-', '_')\n",
    "    for state in state_list:\n",
    "        house = make_initial_df(df, str(state), \"House\")\n",
    "        house_df = calc_leg_details(house)\n",
    "        # print(house)\n",
    "        senate = make_initial_df(df, state, \"Senate\")\n",
    "        senate_df = calc_leg_details(senate)\n",
    "        if senate_df is None:\n",
    "            print(f'something wrong with {state} senate')\n",
    "            print(senate.to_string())\n",
    "            break\n",
    "        if house_df is None:\n",
    "            print(f'something wrong with {state} house')\n",
    "            print(house.to_string())\n",
    "            break\n",
    "        \n",
    "        if len(senate_df) == 0:\n",
    "            print('zero length')\n",
    "            print(state)\n",
    "            return None\n",
    "        elif len(house_df) == 0 :\n",
    "            print(state)\n",
    "            print('zero length')\n",
    "            return None\n",
    "        new_path = f'C:\\\\Users\\\\clutz\\\\OneDrive - THE HUNT INSTITUTE\\\\Documents\\\\Data\\\\legislator data\\\\{state}\\\\'\n",
    "        if not os.path.exists(new_path):\n",
    "            os.makedirs(new_path)\n",
    "        os.chdir(new_path)\n",
    "        \n",
    "        # Create a Pandas Excel writer using XlsxWriter as the engine.\n",
    "        file_name = f'{state}_legislators_{current_date}.xlsx'\n",
    "        writer = pd.ExcelWriter(file_name, engine='xlsxwriter')\n",
    "        # Write each dataframe to a different worksheet.\n",
    "        house_sheet = f'{state}_house'\n",
    "        senate_sheet = f'{state}_senate'\n",
    "        house_df.to_excel(writer, sheet_name=house_sheet, index=False)\n",
    "        senate_df.to_excel(writer, sheet_name=senate_sheet, index=False)\n",
    "        # Close the Pandas Excel writer and output the Excel file.\n",
    "        writer.close()"
   ]
  },
  {
   "cell_type": "markdown",
   "metadata": {},
   "source": [
    "### Data Gathering"
   ]
  },
  {
   "cell_type": "code",
   "execution_count": 24,
   "metadata": {},
   "outputs": [],
   "source": [
    "#states to pull info for\n",
    "states = ['ND', 'NM', 'OH', 'OK', 'VA', 'WV', 'AL', 'CT', 'IL', 'IN', 'KS', 'MO', 'NC']"
   ]
  },
  {
   "cell_type": "code",
   "execution_count": 25,
   "metadata": {},
   "outputs": [],
   "source": [
    "#get officials from quorum sheets download; currently coming from data_tracking_v2 sheet on quorum\n",
    "officials_file = r\"C:\\Users\\clutz\\OneDrive - THE HUNT INSTITUTE\\Documents\\Data\\legislator data\\data_tracking_v2.xlsx\"\n",
    "officials = pd.read_excel(officials_file)"
   ]
  },
  {
   "cell_type": "code",
   "execution_count": 26,
   "metadata": {},
   "outputs": [],
   "source": [
    "#get list of committees for each state legislative chamber\n",
    "comms_file = r\"C:\\Users\\clutz\\OneDrive - THE HUNT INSTITUTE\\Documents\\Data\\legislator data\\committees_data.xlsx\"\n",
    "comms = pd.read_excel(comms_file)"
   ]
  },
  {
   "cell_type": "code",
   "execution_count": 27,
   "metadata": {},
   "outputs": [],
   "source": [
    "# Final Call\n",
    "# create_state_leg_files(officials, states)\n",
    "# %% one off creations\n",
    "create_state_leg_files(officials, ['WV'])"
   ]
  },
  {
   "cell_type": "markdown",
   "metadata": {},
   "source": [
    "# Individual Calls"
   ]
  },
  {
   "cell_type": "markdown",
   "metadata": {},
   "source": [
    "### NC \n",
    "#### House\n"
   ]
  },
  {
   "cell_type": "code",
   "execution_count": null,
   "metadata": {},
   "outputs": [],
   "source": [
    "nc_house = make_initial_df(officials, \"NC\", \"House\")\n",
    "nc_house_df = calc_leg_details(nc_house)\n",
    "os.chdir(r'C:\\Users\\clutz\\OneDrive - THE HUNT INSTITUTE\\Documents\\Data\\legislator data\\nc\\cleaned')\n",
    "nc_house_df.to_csv('nc_house_officials.csv')"
   ]
  },
  {
   "cell_type": "markdown",
   "metadata": {},
   "source": [
    "\n",
    "#### senate\n"
   ]
  },
  {
   "cell_type": "code",
   "execution_count": null,
   "metadata": {},
   "outputs": [],
   "source": [
    "\n",
    "nc_senate = make_initial_df(officials, \"NC\", \"Senate\")\n",
    "nc_senate_df = calc_leg_details(nc_senate)\n",
    "os.chdir(r'C:\\Users\\clutz\\OneDrive - THE HUNT INSTITUTE\\Documents\\Data\\legislator data\\nc\\cleaned')\n",
    "nc_senate_df.to_csv('nc_senate_officials.csv', index=False)"
   ]
  },
  {
   "cell_type": "markdown",
   "metadata": {},
   "source": [
    "### Illinois"
   ]
  },
  {
   "cell_type": "code",
   "execution_count": null,
   "metadata": {},
   "outputs": [],
   "source": [
    "#senate\n",
    "il_house = make_initial_df(officials, \"IL\", \"House\")\n",
    "il_house_df = calc_leg_details(il_house)"
   ]
  },
  {
   "cell_type": "code",
   "execution_count": null,
   "metadata": {},
   "outputs": [],
   "source": [
    "# House\n",
    "nd_house = make_initial_df(officials, \"ND\", \"House\")\n",
    "nd_house_df = calc_leg_details(nd_house)"
   ]
  },
  {
   "cell_type": "code",
   "execution_count": null,
   "metadata": {},
   "outputs": [],
   "source": [
    "#Senate\n",
    "nd_senate = make_initial_df(officials, \"ND\", \"Senate\")\n",
    "nd_senate_df = calc_leg_details(nd_senate)"
   ]
  },
  {
   "cell_type": "code",
   "execution_count": null,
   "metadata": {},
   "outputs": [],
   "source": [
    "os.chdir(r'C:\\Users\\clutz\\OneDrive - THE HUNT INSTITUTE\\Documents\\Data\\legislator data\\nd')\n",
    "# Create a Pandas Excel writer using XlsxWriter as the engine.\n",
    "writer = pd.ExcelWriter('ND_legislators.xlsx', engine='xlsxwriter')\n",
    "# Write each dataframe to a different worksheet."
   ]
  },
  {
   "cell_type": "markdown",
   "metadata": {},
   "source": [
    "### North Dakota\n",
    "#### House"
   ]
  },
  {
   "cell_type": "code",
   "execution_count": null,
   "metadata": {},
   "outputs": [],
   "source": [
    "nd_house = make_initial_df(officials, \"ND\", \"House\")\n",
    "nd_house_df = calc_leg_details(nd_house)"
   ]
  },
  {
   "cell_type": "markdown",
   "metadata": {},
   "source": [
    "#### Senate"
   ]
  },
  {
   "cell_type": "code",
   "execution_count": null,
   "metadata": {},
   "outputs": [],
   "source": [
    "nd_senate = make_initial_df(officials, \"ND\", \"Senate\")\n",
    "nd_senate_df = calc_leg_details(nd_senate)"
   ]
  },
  {
   "cell_type": "code",
   "execution_count": null,
   "metadata": {},
   "outputs": [],
   "source": [
    "#writing to excel for ND\n",
    "nd_house_df.to_excel(writer, sheet_name='nd_house', index=False)\n",
    "nd_senate_df.to_excel(writer, sheet_name='nd_senate', index=False)\n",
    "# Close the Pandas Excel writer and output the Excel file.\n",
    "writer.close()\n",
    "\n",
    "\n",
    "os.chdir(f'C:\\\\Users\\\\clutz\\\\OneDrive - THE HUNT INSTITUTE\\\\Documents\\\\Data\\\\legislator data\\\\{state}')\n",
    "# Create a Pandas Excel writer using XlsxWriter as the engine.\n",
    "writer = pd.ExcelWriter('ND_legislators.xlsx', engine='xlsxwriter')\n",
    "# Write each dataframe to a different worksheet."
   ]
  },
  {
   "cell_type": "markdown",
   "metadata": {},
   "source": [
    "### New Mexico"
   ]
  },
  {
   "cell_type": "code",
   "execution_count": null,
   "metadata": {},
   "outputs": [],
   "source": [
    "#House\n",
    "nm_house = make_initial_df(officials, \"NM\", \"House\")\n",
    "nm_house_df = calc_leg_details(nm_house)"
   ]
  },
  {
   "cell_type": "code",
   "execution_count": null,
   "metadata": {},
   "outputs": [],
   "source": [
    "#Senate\n",
    "nm_senate = make_initial_df(officials, \"NM\", \"Senate\")\n",
    "nm_senate_df = calc_leg_details(nm_senate)"
   ]
  }
 ],
 "metadata": {
  "kernelspec": {
   "display_name": "hunt_env",
   "language": "python",
   "name": "python3"
  },
  "language_info": {
   "codemirror_mode": {
    "name": "ipython",
    "version": 3
   },
   "file_extension": ".py",
   "mimetype": "text/x-python",
   "name": "python",
   "nbconvert_exporter": "python",
   "pygments_lexer": "ipython3",
   "version": "3.12.5"
  }
 },
 "nbformat": 4,
 "nbformat_minor": 2
}
