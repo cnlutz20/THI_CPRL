{
 "cells": [
  {
   "cell_type": "markdown",
   "metadata": {},
   "source": [
    "%%<br>\n",
    "mports"
   ]
  },
  {
   "cell_type": "code",
   "execution_count": 2,
   "metadata": {},
   "outputs": [],
   "source": [
    "import os, sys, json, re  # Provides OS-dependent functionality, system-specific parameters, JSON handling\n",
    "import pandas as pd             # Provides data structures and data analysis tools\n",
    "import numpy as np              # Supports large, multi-dimensional arrays and matrices\n",
    "import requests\n",
    "import time\n",
    "import glob\n",
    "import xlsxwriter\n",
    "from tqdm import tqdm\n",
    "from datetime import date #date/time manipulation\n",
    "import lxml\n",
    "import urllib3\n",
    "urllib3.disable_warnings(urllib3.exceptions.InsecureRequestWarning)\n",
    "import warnings\n",
    "warnings.simplefilter(action='ignore', category=FutureWarning)\n",
    "pd.options.mode.chained_assignment = None  # default='warn'\n",
    "from IPython.display import display_markdown\n",
    "\n",
    "from cprl_functions.state_capture import thi_states,state_ref, state_coding, state_pat, state_abv_pat\n",
    "from cprl_functions.text_printing import bordered\n",
    "from cprl_functions.defined_functions import create_pk, add_seats\n",
    "\n",
    "import requests\n",
    "\n",
    "from bs4 import BeautifulSoup,SoupStrainer\n",
    "from io import StringIO"
   ]
  },
  {
   "cell_type": "code",
   "execution_count": 3,
   "metadata": {},
   "outputs": [],
   "source": [
    "soup_url = r'https://ballotpedia.org/State_Legislative_Districts'\n",
    "# %%"
   ]
  },
  {
   "cell_type": "code",
   "execution_count": 4,
   "metadata": {},
   "outputs": [],
   "source": [
    "all_districts = []\n",
    "response = requests.get(soup_url, verify = False)\n",
    "soup = BeautifulSoup(response.content, 'html.parser')\n",
    "state_districts = soup.find_all(\"a\", href = True)"
   ]
  },
  {
   "cell_type": "code",
   "execution_count": 5,
   "metadata": {},
   "outputs": [],
   "source": [
    "h_refs = []\n",
    "for url in state_districts:\n",
    "    if 'state legislative districts' in str(url):\n",
    "        # print(url)\n",
    "        base = \"https://ballotpedia.org/\"\n",
    "        full_url = base + str(url.text).replace(' ',\"_\")\n",
    "        h_refs.append(full_url)"
   ]
  },
  {
   "cell_type": "markdown",
   "metadata": {},
   "source": [
    "print(*h_refs, sep=\"\\n\")"
   ]
  },
  {
   "cell_type": "code",
   "execution_count": 6,
   "metadata": {},
   "outputs": [],
   "source": [
    "# Fetches all of the districts (commented out until needed to repull)\n",
    "# for ref in h_refs:\n",
    "#     url = ref\n",
    "    \n",
    "#     page = requests.get(url)\n",
    "    \n",
    "#     os.chdir(r'C:\\Users\\clutz\\OneDrive - THE HUNT INSTITUTE\\Documents\\Data\\txt files for troubleshooting')\n",
    "\n",
    "#     # Write the page's text content to a file\n",
    "#     # with open('output_soup_strainer.txt', \"w\", encoding=\"utf-8\") as f:\n",
    "#     #     f.write(page.text)\n",
    "#     # print(page.content)\n",
    "#     table_strainer = SoupStrainer('table', id='officeholder-table')\n",
    "#     page_soup = BeautifulSoup(page.content, 'html.parser', parse_only=table_strainer)\n",
    "\n",
    "#     # print(page_soup.content)\n",
    "#     # print(type(page_soup))\n",
    "#     districts = page_soup.find_all(\"a\")\n",
    "#     total_districts = []\n",
    "#     # print(page_soup.prettify())\n",
    "#     for d in districts:\n",
    "#         total_districts.append(d.text)\n",
    "#         # print(d.text)\n",
    "#     all_districts.extend(total_districts)\n"
   ]
  },
  {
   "cell_type": "code",
   "execution_count": 7,
   "metadata": {},
   "outputs": [],
   "source": [
    "\n",
    "\n",
    "# # Save data to JSON file\n",
    "# os.chdir(r'C:\\Users\\clutz\\OneDrive - THE HUNT INSTITUTE\\Documents\\Data\\json save data')\n",
    "# with open(f\"all_districts_{str(date.today()).replace('-', '_')}.json\", \"w\") as f:\n",
    "#     json.dump(all_districts, f)\n",
    "#     save_file_name = f.name\n",
    "#     print(save_file_name)"
   ]
  },
  {
   "cell_type": "code",
   "execution_count": 8,
   "metadata": {},
   "outputs": [],
   "source": [
    "#loading districts webscraping data\n",
    "os.chdir(r'C:\\Users\\clutz\\OneDrive - THE HUNT INSTITUTE\\Documents\\Data\\json save data')\n",
    "json_files = glob.glob('*.json')\n",
    "\n",
    "max_mtime = 0\n",
    "for dirname,subdirs,files in os.walk(\".\"):\n",
    "    for fname in files:\n",
    "        full_path = os.path.join(dirname, fname)\n",
    "        mtime = os.stat(full_path).st_mtime\n",
    "        if mtime > max_mtime:\n",
    "            max_mtime = mtime\n",
    "            max_dir = dirname\n",
    "            max_file = fname\n",
    "save_file_name = max_file\n"
   ]
  },
  {
   "cell_type": "code",
   "execution_count": 9,
   "metadata": {},
   "outputs": [],
   "source": [
    "\n",
    "\n",
    "\n",
    "with open(f'{save_file_name}', \"r\") as f:\n",
    "    all_districts = json.load(f)\n"
   ]
  },
  {
   "cell_type": "code",
   "execution_count": 10,
   "metadata": {},
   "outputs": [],
   "source": [
    "state_intitals = []\n",
    "for state in all_districts:\n",
    "    state_match = re.findall(state_pat, state)[0]\n",
    "    ref_lookup = state_ref.get(str(state_match))\n",
    "    state_intitals.append(ref_lookup)"
   ]
  },
  {
   "cell_type": "code",
   "execution_count": 11,
   "metadata": {},
   "outputs": [],
   "source": [
    "def filter_row(row, string_column):\n",
    "    # Check conditions using an if-else statement\n",
    "    if re.search(r'[Hh]ouse|[Rr]epresentative', str(row[string_column])):\n",
    "        return \"House\"\n",
    "    elif re.search(r'[Ss]enate', str(row[string_column])):\n",
    "        return \"Senate\"\n",
    "    else:\n",
    "        return 'Unknown'\n"
   ]
  },
  {
   "cell_type": "code",
   "execution_count": null,
   "metadata": {},
   "outputs": [],
   "source": [
    "\n"
   ]
  },
  {
   "cell_type": "code",
   "execution_count": 12,
   "metadata": {},
   "outputs": [
    {
     "data": {
      "text/html": [
       "<div>\n",
       "<style scoped>\n",
       "    .dataframe tbody tr th:only-of-type {\n",
       "        vertical-align: middle;\n",
       "    }\n",
       "\n",
       "    .dataframe tbody tr th {\n",
       "        vertical-align: top;\n",
       "    }\n",
       "\n",
       "    .dataframe thead th {\n",
       "        text-align: right;\n",
       "    }\n",
       "</style>\n",
       "<table border=\"1\" class=\"dataframe\">\n",
       "  <thead>\n",
       "    <tr style=\"text-align: right;\">\n",
       "      <th></th>\n",
       "      <th>state_abbreviation</th>\n",
       "      <th>district_string</th>\n",
       "      <th>chamber</th>\n",
       "      <th>district</th>\n",
       "    </tr>\n",
       "  </thead>\n",
       "  <tbody>\n",
       "    <tr>\n",
       "      <th>0</th>\n",
       "      <td>AL</td>\n",
       "      <td>Alabama State Senate District 1</td>\n",
       "      <td>Senate</td>\n",
       "      <td>1</td>\n",
       "    </tr>\n",
       "    <tr>\n",
       "      <th>1</th>\n",
       "      <td>AL</td>\n",
       "      <td>Alabama State Senate District 2</td>\n",
       "      <td>Senate</td>\n",
       "      <td>2</td>\n",
       "    </tr>\n",
       "    <tr>\n",
       "      <th>2</th>\n",
       "      <td>AL</td>\n",
       "      <td>Alabama State Senate District 3</td>\n",
       "      <td>Senate</td>\n",
       "      <td>3</td>\n",
       "    </tr>\n",
       "    <tr>\n",
       "      <th>3</th>\n",
       "      <td>AL</td>\n",
       "      <td>Alabama State Senate District 4</td>\n",
       "      <td>Senate</td>\n",
       "      <td>4</td>\n",
       "    </tr>\n",
       "    <tr>\n",
       "      <th>4</th>\n",
       "      <td>AL</td>\n",
       "      <td>Alabama State Senate District 5</td>\n",
       "      <td>Senate</td>\n",
       "      <td>5</td>\n",
       "    </tr>\n",
       "    <tr>\n",
       "      <th>...</th>\n",
       "      <td>...</td>\n",
       "      <td>...</td>\n",
       "      <td>...</td>\n",
       "      <td>...</td>\n",
       "    </tr>\n",
       "    <tr>\n",
       "      <th>1989</th>\n",
       "      <td>WV</td>\n",
       "      <td>West Virginia House of Delegates District 96</td>\n",
       "      <td>House</td>\n",
       "      <td>96</td>\n",
       "    </tr>\n",
       "    <tr>\n",
       "      <th>1990</th>\n",
       "      <td>WV</td>\n",
       "      <td>West Virginia House of Delegates District 97</td>\n",
       "      <td>House</td>\n",
       "      <td>97</td>\n",
       "    </tr>\n",
       "    <tr>\n",
       "      <th>1991</th>\n",
       "      <td>WV</td>\n",
       "      <td>West Virginia House of Delegates District 98</td>\n",
       "      <td>House</td>\n",
       "      <td>98</td>\n",
       "    </tr>\n",
       "    <tr>\n",
       "      <th>1992</th>\n",
       "      <td>WV</td>\n",
       "      <td>West Virginia House of Delegates District 99</td>\n",
       "      <td>House</td>\n",
       "      <td>99</td>\n",
       "    </tr>\n",
       "    <tr>\n",
       "      <th>1993</th>\n",
       "      <td>WV</td>\n",
       "      <td>West Virginia House of Delegates District 100</td>\n",
       "      <td>House</td>\n",
       "      <td>100</td>\n",
       "    </tr>\n",
       "  </tbody>\n",
       "</table>\n",
       "<p>1994 rows × 4 columns</p>\n",
       "</div>"
      ],
      "text/plain": [
       "     state_abbreviation                                district_string  \\\n",
       "0                    AL                Alabama State Senate District 1   \n",
       "1                    AL                Alabama State Senate District 2   \n",
       "2                    AL                Alabama State Senate District 3   \n",
       "3                    AL                Alabama State Senate District 4   \n",
       "4                    AL                Alabama State Senate District 5   \n",
       "...                 ...                                            ...   \n",
       "1989                 WV   West Virginia House of Delegates District 96   \n",
       "1990                 WV   West Virginia House of Delegates District 97   \n",
       "1991                 WV   West Virginia House of Delegates District 98   \n",
       "1992                 WV   West Virginia House of Delegates District 99   \n",
       "1993                 WV  West Virginia House of Delegates District 100   \n",
       "\n",
       "     chamber district  \n",
       "0     Senate        1  \n",
       "1     Senate        2  \n",
       "2     Senate        3  \n",
       "3     Senate        4  \n",
       "4     Senate        5  \n",
       "...      ...      ...  \n",
       "1989   House       96  \n",
       "1990   House       97  \n",
       "1991   House       98  \n",
       "1992   House       99  \n",
       "1993   House      100  \n",
       "\n",
       "[1994 rows x 4 columns]"
      ]
     },
     "execution_count": 12,
     "metadata": {},
     "output_type": "execute_result"
    }
   ],
   "source": [
    "districts_w_intials = pd.DataFrame({'state_abbreviation': state_intitals,'district_string': all_districts})\n",
    "districts_w_intials = districts_w_intials[~districts_w_intials['district_string'].str.contains(r'[Hh]istorical|9[AB]{1}', regex=True)]\n",
    "thi_state_districts = districts_w_intials[districts_w_intials['state_abbreviation'].isin(thi_states)]\n",
    "\n",
    "thi_state_districts.reset_index(inplace=True, drop=True)\n",
    "\n",
    "\n",
    "thi_state_districts['chamber'] = thi_state_districts.apply(\n",
    "    filter_row, args=('district_string',), axis=1\n",
    ")\n",
    "\n",
    "thi_state_districts[\"district\"] = thi_state_districts[\"district_string\"].str.extractall(r\"(\\d+)\").unstack().fillna('').apply(' '.join, 1)\n",
    "\n",
    "\n",
    "# Apply the filtering function row-wise\n",
    "# filtered_df = thi_state_districts[thi_state_districts.apply(filter_row, args=('district_string',), axis=1)]\n",
    "# thi_state_districts['chamber'] = \"\"\n",
    "# thi_state_districts['chamber'] = \"\"\n",
    "thi_state_districts"
   ]
  },
  {
   "cell_type": "code",
   "execution_count": null,
   "metadata": {},
   "outputs": [],
   "source": [
    "#create pk for leg seats from ballot pedia\n",
    "\n",
    "leg_keys, leg_keys_dupes = create_pk(thi_state_districts, 'district', 'chamber')\n",
    "\n",
    "# leg_lookup = pd.concat([leg_keys_wseats,leg_keys_dupes_wseats])\n",
    "leg_lookup = pd.concat([leg_keys,leg_keys_dupes])\n",
    "\n",
    "\n",
    "#uncomment for help troubleshooting\n",
    "#  os.chdir(r'C:\\Users\\clutz\\OneDrive - THE HUNT INSTITUTE\\Documents\\Data\\legislator data')\n",
    "# leg_lookup.to_csv('leg_lookup.csv')\n",
    "\n",
    "\n"
   ]
  },
  {
   "cell_type": "code",
   "execution_count": 46,
   "metadata": {},
   "outputs": [],
   "source": [
    "\n",
    "#getting and creating key for all leg files\n",
    "\n",
    "all_leg_data = r\"C:\\Users\\clutz\\THE HUNT INSTITUTE\\The Hunt Institute Team Site - Documents\\Development (formerly Grants Management)\\!Administrative\\Christian\\Legislators Data\\leg_data_update_10_2024\\all_legs_files_2024_11_22.csv\" \n",
    "\n",
    "all_leg_df = pd.read_csv(all_leg_data)\n",
    "\n",
    "\n",
    "all_leg_wkey, all_leg_dupes_wkey = create_pk(all_leg_df, 'district', 'Chamber')\n",
    "# all_leg_wkey, all_leg_dupes_wkey = add_seats(all_leg_wkey, all_leg_dupes_wkey, 'First Name', 'Last Name', keep_names = True)\n",
    "all_leg_lookup = pd.concat([all_leg_wkey, all_leg_dupes_wkey])\n",
    "\n",
    "\n",
    "#uncomment for help troubleshooting\n",
    "# os.chdir(r'C:\\Users\\clutz\\OneDrive - THE HUNT INSTITUTE\\Documents\\Data\\legislator data')\n",
    "# all_leg_lookup.to_csv('all_leg_lookup.csv')\n",
    "\n",
    "all_leg_lookup_for_merge = all_leg_lookup.loc[:,['primary_key', 'First Name', 'Last Name']]\n",
    "leg_lookup_for_merge = leg_lookup.loc[:,['primary_key','state_abbreviation']] \n",
    "\n",
    "\n",
    "merge_1 = pd.merge(leg_lookup_for_merge, all_leg_lookup_for_merge, how='left', left_on='primary_key', right_on='primary_key')\n",
    "\n",
    "#gets multiseat districts\n",
    "merge_1_dupes = merge_1[merge_1.duplicated(subset='primary_key',keep=False)]\n",
    "#gets only non multiseat districts\n",
    "merge_1_nodupes = merge_1[~merge_1.duplicated(subset='primary_key',keep=False)]\n"
   ]
  },
  {
   "cell_type": "code",
   "execution_count": 54,
   "metadata": {},
   "outputs": [
    {
     "name": "stdout",
     "output_type": "stream",
     "text": [
      "full_pk,primary_key,state_abbreviation,First Name,Last Name,seat_num\n"
     ]
    }
   ],
   "source": [
    "# these are fine\n",
    "merge_wseats = add_seats(df = merge_1_nodupes, keep_names = True)\n",
    "\n",
    "merge_1_dupes = merge_1_dupes.drop_duplicates()\n",
    "\n"
   ]
  },
  {
   "cell_type": "code",
   "execution_count": 61,
   "metadata": {},
   "outputs": [
    {
     "name": "stdout",
     "output_type": "stream",
     "text": [
      "full_pk,primary_key,state_abbreviation_x,state_abbreviation_y,First Name,Last Name,seat_num\n",
      "full_pk,primary_key,state_abbreviation,district_string,chamber,district,state_code,chamber_code,district_code,seat_num\n",
      "full_pk,primary_key,state_abbreviation,district_string,chamber,district,state_code,chamber_code,district_code,seat_num\n",
      "full ref columns: Index(['full_pk', 'primary_key', 'state_abbreviation', 'First Name',\n",
      "       'Last Name', 'seat_num', 'state_abbreviation_x',\n",
      "       'state_abbreviation_y'],\n",
      "      dtype='object')\n",
      "ref back columns: Index(['full_pk', 'primary_key', 'state_abbreviation', 'district_string',\n",
      "       'chamber', 'district', 'state_code', 'chamber_code', 'district_code',\n",
      "       'seat_num'],\n",
      "      dtype='object')\n"
     ]
    }
   ],
   "source": [
    "\n",
    "\n",
    "\n",
    "#truncated for lookup ease and cleaner look\n",
    "leg_keys_dupes_for_merge = leg_keys_dupes.loc[:,['primary_key','state_abbreviation']] \n",
    "\n",
    "#full seats list for ref to merge left\n",
    "# seats_ref = add_seats(df_duplicates = leg_keys_dupes_for_merge)\n",
    "\n",
    "# merge_dupes_wseats = add_seats(df_duplicates=merge_1_dupes, keep_names = True)\n",
    "#merges the absolute positions with the values found from legislator files\n",
    "merge_2 = pd.merge(leg_keys_dupes_for_merge, merge_1_dupes, how='left', left_on='primary_key', right_on='primary_key')\n",
    "merge_2 = merge_2.drop_duplicates()\n",
    "\n",
    "merge_2 = add_seats(df_duplicates = merge_2, keep_names = True)\n",
    "\n",
    "\n",
    "\n",
    "to_combine = [merge_wseats, merge_2]\n",
    "full_ref = pd.concat(to_combine)\n",
    "full_ref.reset_index(inplace = True, drop = True)\n",
    "\n",
    "leg_keys_wseats, leg_keys_dupes_wseats = add_seats(df = leg_keys, df_duplicates = leg_keys_dupes, keep_names = True)\n",
    "ref_back = pd.concat([leg_keys_wseats, leg_keys_dupes_wseats])\n",
    "ref_back.reset_index(inplace = True, drop = True)\n",
    "\n",
    "print(f'full ref columns: {full_ref.columns}')\n",
    "print(f'ref back columns: {ref_back.columns}')\n",
    "\n",
    "\n",
    "\n",
    "\n",
    "#reference for checking vacancies\n",
    "\n",
    "#from final merge also should be the final lookup##\n",
    "leg_lookup_df = full_ref.loc[:,['full_pk', 'primary_key','First Name', 'Last Name']]\n",
    "\n",
    "#from intial data\n",
    "ref_back = ref_back.loc[:,['full_pk', 'state_abbreviation']]\n",
    "# full_ref = full_ref.drop(['state_abbreviation_x', 'state_abbreviation_y'], axis = 1)\n",
    "\n",
    "\n",
    "# test = pd.merge(ref_back, full_ref, how='left', left_on='full_pk', right_on='full_pk')\n",
    "\n",
    "leg_lookup_df.to_csv(r'C:\\Users\\clutz\\OneDrive - THE HUNT INSTITUTE\\Documents\\Data\\legislator data\\connectors\\leg_lookup_df.csv', index = False)\n"
   ]
  },
  {
   "cell_type": "code",
   "execution_count": null,
   "metadata": {},
   "outputs": [],
   "source": []
  },
  {
   "cell_type": "markdown",
   "metadata": {},
   "source": [
    "%%splitting up district numbers from rest of string"
   ]
  },
  {
   "cell_type": "code",
   "execution_count": null,
   "metadata": {},
   "outputs": [],
   "source": [
    "\n",
    "def create_pk(df,column):\n",
    "    lengths = []\n",
    "    df.loc[:,'state_code'] = np.nan\n",
    "    df.loc[:,'chamber_code'] = np.nan\n",
    "    df.loc[:,'district'] = np.nan\n",
    "    df.loc[:,'primary_key'] = np.nan\n",
    "    for i,j in enumerate(df[f'{column}']):\n",
    "        # print(str(j))\n",
    "        # print(row)\n",
    "        district_raw = re.split(r'\\s(?=District)', str(j))\n",
    "        match = re.findall(r'\\s\\d+', str(district_raw))[0]\n",
    "        match = match.strip()\n",
    "        if len(match) == 2:\n",
    "            district_code = '0' + str(match)\n",
    "        elif len(match) == 1:\n",
    "            district_code = '00'+str(match)\n",
    "        else:\n",
    "            district_code = str(match)\n",
    "        district_len = len(match)\n",
    "        lengths.append(district_len)\n",
    "        ext_state = df.loc[i,'state_abbreviation']\n",
    "        state_code = state_coding.get(ext_state)\n",
    "        if 'house' in str(j).lower():\n",
    "            chamber_code = '0'\n",
    "        elif 'senate' in str(j).lower():\n",
    "            chamber_code = '1'\n",
    "        else:\n",
    "            print(f'unknown chamber: {str(j)}')\n",
    "            break\n",
    "        \n",
    "        # display_markdown(f'#### {ext_state} - {chamber_code} - {district_raw}', raw=True)\n",
    "        key_code = f'{state_code}{chamber_code}{district_code}'\n",
    "        \n",
    "        \n",
    "        df.loc[i,'state_code'] = state_code\n",
    "        df.loc[i,'chamber_code'] = chamber_code\n",
    "        df.loc[i,'district'] = match\n",
    "        df.loc[i,'primary_key'] = key_code\n",
    "    return df"
   ]
  },
  {
   "cell_type": "code",
   "execution_count": null,
   "metadata": {},
   "outputs": [],
   "source": []
  },
  {
   "cell_type": "code",
   "execution_count": null,
   "metadata": {},
   "outputs": [],
   "source": [
    "#dont touch original\n",
    "\n",
    "lengths = []\n",
    "thi_state_districts['state_code'] = np.nan\n",
    "thi_state_districts['chamber_code'] = np.nan\n",
    "thi_state_districts['district'] = np.nan\n",
    "thi_state_districts['primary_key'] = np.nan\n",
    "for i,j in enumerate(thi_state_districts['district_string']):\n",
    "    # print(str(j))\n",
    "    # print(row)\n",
    "    district_raw = re.split(r'\\s(?=District)', str(j))\n",
    "    match = re.findall(r'\\s\\d+', str(district_raw))[0]\n",
    "    match = match.strip()\n",
    "    if len(match) == 2:\n",
    "        district_code = '0' + str(match)\n",
    "    elif len(match) == 1:\n",
    "        district_code = '00'+str(match)\n",
    "    else:\n",
    "        district_code = str(match)\n",
    "    district_len = len(match)\n",
    "    lengths.append(district_len)\n",
    "    ext_state = thi_state_districts.loc[i,'state_abbreviation']\n",
    "    state_code = state_coding.get(ext_state)\n",
    "    if 'house' in str(j).lower():\n",
    "        chamber_code = '0'\n",
    "    elif 'senate' in str(j).lower():\n",
    "        chamber_code = '1'\n",
    "    else:\n",
    "        print(f'unknown chamber: {str(j)}')\n",
    "        break\n",
    "    \n",
    "    # display_markdown(f'#### {ext_state} - {chamber_code} - {district_raw}', raw=True)\n",
    "    key_code = f'{state_code}{chamber_code}{district_code}'\n",
    "    \n",
    "    \n",
    "    thi_state_districts.loc[i,'state_code'] = state_code\n",
    "    thi_state_districts.loc[i,'chamber_code'] = chamber_code\n",
    "    thi_state_districts.loc[i,'district'] = match\n",
    "    thi_state_districts.loc[i,'primary_key'] = key_code"
   ]
  },
  {
   "cell_type": "code",
   "execution_count": null,
   "metadata": {},
   "outputs": [],
   "source": [
    "    \n",
    "    \n",
    "# %% takes duplicates of primary keys and assigns a seat num"
   ]
  },
  {
   "cell_type": "markdown",
   "metadata": {},
   "source": [
    "eat num of 00 means there is only one seat (no multi-member districts)"
   ]
  },
  {
   "cell_type": "code",
   "execution_count": null,
   "metadata": {},
   "outputs": [],
   "source": [
    "thi_state_districts['count'] = thi_state_districts['primary_key'].map(thi_state_districts['primary_key'].value_counts())\n",
    "thi_state_districts['seat_num'] = thi_state_districts.groupby('primary_key').cumcount() + 1\n",
    "thi_state_districts.loc[thi_state_districts['count'] == 1, 'seat_num'] = 0\n",
    "thi_state_districts = thi_state_districts.drop(columns='count')\n",
    "thi_state_districts['seat_num'] = thi_state_districts['seat_num'].apply(lambda x: f'{x:02d}')\n",
    "thi_state_districts['final_primary_key'] = thi_state_districts['primary_key'] + thi_state_districts['seat_num']\n",
    "# %%"
   ]
  },
  {
   "cell_type": "code",
   "execution_count": null,
   "metadata": {},
   "outputs": [],
   "source": [
    "# %%"
   ]
  },
  {
   "cell_type": "code",
   "execution_count": null,
   "metadata": {},
   "outputs": [],
   "source": [
    "duplicate = thi_state_districts[thi_state_districts.duplicated('primary_key')]\n",
    "\n",
    "    # print(str(j))\n",
    "    # print(district_len)\n",
    "    "
   ]
  },
  {
   "cell_type": "markdown",
   "metadata": {},
   "source": [
    "print(max(lengths))"
   ]
  },
  {
   "cell_type": "code",
   "execution_count": null,
   "metadata": {},
   "outputs": [],
   "source": [
    "    # print(line.split('District')[-1])"
   ]
  },
  {
   "cell_type": "markdown",
   "metadata": {},
   "source": [
    "%%"
   ]
  },
  {
   "cell_type": "code",
   "execution_count": null,
   "metadata": {},
   "outputs": [],
   "source": [
    "print(*all_districts, sep='\\n')"
   ]
  },
  {
   "cell_type": "code",
   "execution_count": null,
   "metadata": {},
   "outputs": [],
   "source": [
    "[print(x) for x in thi_state_districts]\n",
    "\n",
    "    # states.append(str(state_match))\n",
    "# %%"
   ]
  },
  {
   "cell_type": "code",
   "execution_count": null,
   "metadata": {},
   "outputs": [],
   "source": [
    "states = sorted(list(set(states)))\n",
    "print(len(states))\n",
    "print(*states, sep=\"\\n\")"
   ]
  },
  {
   "cell_type": "code",
   "execution_count": null,
   "metadata": {},
   "outputs": [],
   "source": [
    "for i,j in enumerate(states):\n",
    "    code = str(i+1)\n",
    "    if len(code) == 1:\n",
    "        code = \"0\"+code\n",
    "    df = pd.DataFrame({'state': [j], 'code':[code]})\n",
    "    print(df.to_string())"
   ]
  },
  {
   "cell_type": "markdown",
   "metadata": {},
   "source": [
    "%%"
   ]
  },
  {
   "cell_type": "code",
   "execution_count": null,
   "metadata": {},
   "outputs": [],
   "source": [
    "    \n",
    "    break\n",
    "    print(page.status_code)\n",
    "    print(page.content[:500])  # Preview the content\n",
    "    \n",
    "    # df_list = pd.read_html(page_soup.prettify())\n",
    "    # print(len(df_list))\n",
    "    # print(type(df_list))"
   ]
  },
  {
   "cell_type": "code",
   "execution_count": null,
   "metadata": {},
   "outputs": [],
   "source": [
    "    # print(df)\n",
    "\n",
    "    # dis_soup = BeautifulSoup(response.content, 'html.parser')\n",
    "    # ditricts_tags = dis_soup.find_all(\"td\")\n",
    "    # for d in ditricts_tags:\n",
    "    #     print(d)\n",
    "    \n",
    "\t"
   ]
  },
  {
   "cell_type": "markdown",
   "metadata": {},
   "source": [
    "%%"
   ]
  }
 ],
 "metadata": {
  "kernelspec": {
   "display_name": "hunt_env",
   "language": "python",
   "name": "python3"
  },
  "language_info": {
   "codemirror_mode": {
    "name": "ipython",
    "version": 3
   },
   "file_extension": ".py",
   "mimetype": "text/x-python",
   "name": "python",
   "nbconvert_exporter": "python",
   "pygments_lexer": "ipython3",
   "version": "3.12.5"
  }
 },
 "nbformat": 4,
 "nbformat_minor": 2
}
