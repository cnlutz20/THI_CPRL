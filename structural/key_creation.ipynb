{
 "cells": [
  {
   "cell_type": "markdown",
   "metadata": {},
   "source": [
    "%%<br>\n",
    "mports"
   ]
  },
  {
   "cell_type": "code",
   "execution_count": 1,
   "metadata": {},
   "outputs": [],
   "source": [
    "import os, sys, json, re  # Provides OS-dependent functionality, system-specific parameters, JSON handling\n",
    "import pandas as pd             # Provides data structures and data analysis tools\n",
    "import numpy as np              # Supports large, multi-dimensional arrays and matrices\n",
    "import requests\n",
    "import time\n",
    "import xlsxwriter\n",
    "from tqdm import tqdm\n",
    "from datetime import date #date/time manipulation\n",
    "import lxml\n",
    "import urllib3\n",
    "urllib3.disable_warnings(urllib3.exceptions.InsecureRequestWarning)\n",
    "import warnings\n",
    "warnings.simplefilter(action='ignore', category=FutureWarning)\n",
    "pd.options.mode.chained_assignment = None  # default='warn'\n",
    "from IPython.display import display_markdown\n",
    "\n",
    "from cprl_functions.state_capture import thi_states,state_ref, state_coding, state_pat, state_abv_pat\n",
    "from cprl_functions.text_printing import bordered\n",
    "from cprl_functions.defined_functions import create_pk\n",
    "\n",
    "import requests\n",
    "\n",
    "from bs4 import BeautifulSoup,SoupStrainer\n",
    "from io import StringIO"
   ]
  },
  {
   "cell_type": "code",
   "execution_count": 2,
   "metadata": {},
   "outputs": [],
   "source": [
    "soup_url = r'https://ballotpedia.org/State_Legislative_Districts'\n",
    "# %%"
   ]
  },
  {
   "cell_type": "code",
   "execution_count": 3,
   "metadata": {},
   "outputs": [],
   "source": [
    "all_districts = []\n",
    "response = requests.get(soup_url, verify = False)\n",
    "soup = BeautifulSoup(response.content, 'html.parser')\n",
    "state_districts = soup.find_all(\"a\", href = True)"
   ]
  },
  {
   "cell_type": "code",
   "execution_count": 4,
   "metadata": {},
   "outputs": [],
   "source": [
    "h_refs = []\n",
    "for url in state_districts:\n",
    "    if 'state legislative districts' in str(url):\n",
    "        # print(url)\n",
    "        base = \"https://ballotpedia.org/\"\n",
    "        full_url = base + str(url.text).replace(' ',\"_\")\n",
    "        h_refs.append(full_url)"
   ]
  },
  {
   "cell_type": "markdown",
   "metadata": {},
   "source": [
    "print(*h_refs, sep=\"\\n\")"
   ]
  },
  {
   "cell_type": "code",
   "execution_count": 5,
   "metadata": {},
   "outputs": [],
   "source": [
    "for ref in h_refs:\n",
    "    url = ref\n",
    "    \n",
    "    page = requests.get(url)\n",
    "    \n",
    "    os.chdir(r'C:\\Users\\clutz\\OneDrive - THE HUNT INSTITUTE\\Documents\\Data\\txt files for troubleshooting')\n",
    "\n",
    "    # Write the page's text content to a file\n",
    "    # with open('output_soup_strainer.txt', \"w\", encoding=\"utf-8\") as f:\n",
    "    #     f.write(page.text)\n",
    "    # print(page.content)\n",
    "    table_strainer = SoupStrainer('table', id='officeholder-table')\n",
    "    page_soup = BeautifulSoup(page.content, 'html.parser', parse_only=table_strainer)\n",
    "\n",
    "    # print(page_soup.content)\n",
    "    # print(type(page_soup))\n",
    "    districts = page_soup.find_all(\"a\")\n",
    "    total_districts = []\n",
    "    # print(page_soup.prettify())\n",
    "    for d in districts:\n",
    "        total_districts.append(d.text)\n",
    "        # print(d.text)\n",
    "    all_districts.extend(total_districts)"
   ]
  },
  {
   "cell_type": "code",
   "execution_count": 7,
   "metadata": {},
   "outputs": [],
   "source": [
    "state_intitals = []\n",
    "for state in all_districts:\n",
    "    state_match = re.findall(state_pat, state)[0]\n",
    "    ref_lookup = state_ref.get(str(state_match))\n",
    "    state_intitals.append(ref_lookup)"
   ]
  },
  {
   "cell_type": "code",
   "execution_count": null,
   "metadata": {},
   "outputs": [],
   "source": [
    "def filter_row(row, string_column):\n",
    "    # Check conditions using an if-else statement\n",
    "    if re.search(r'[Hh]ouse|[Rr]epresentative', str(row[string_column])):\n",
    "        return \"House\"\n",
    "    elif re.search\n",
    "                 \n",
    "        return True  # Row matches the condition\n",
    "    else:\n",
    "        return False  # Row does not match the condition\n",
    "    \n",
    "    def determine_chamber(title):\n",
    "    if 'House' in title:\n",
    "        return 'House'\n",
    "    elif 'Senate' in title:\n",
    "        return 'Senate'\n",
    "    else:\n",
    "        return 'Unknown'\n",
    "\n",
    "# Apply the filtering function row-wise\n",
    "filtered_df = event_data[event_data.apply(filter_row, axis=1)]"
   ]
  },
  {
   "cell_type": "code",
   "execution_count": 8,
   "metadata": {},
   "outputs": [
    {
     "data": {
      "text/html": [
       "<div>\n",
       "<style scoped>\n",
       "    .dataframe tbody tr th:only-of-type {\n",
       "        vertical-align: middle;\n",
       "    }\n",
       "\n",
       "    .dataframe tbody tr th {\n",
       "        vertical-align: top;\n",
       "    }\n",
       "\n",
       "    .dataframe thead th {\n",
       "        text-align: right;\n",
       "    }\n",
       "</style>\n",
       "<table border=\"1\" class=\"dataframe\">\n",
       "  <thead>\n",
       "    <tr style=\"text-align: right;\">\n",
       "      <th></th>\n",
       "      <th>state_abbreviation</th>\n",
       "      <th>district_string</th>\n",
       "    </tr>\n",
       "  </thead>\n",
       "  <tbody>\n",
       "    <tr>\n",
       "      <th>0</th>\n",
       "      <td>AL</td>\n",
       "      <td>Alabama State Senate District 1</td>\n",
       "    </tr>\n",
       "    <tr>\n",
       "      <th>1</th>\n",
       "      <td>AL</td>\n",
       "      <td>Alabama State Senate District 2</td>\n",
       "    </tr>\n",
       "    <tr>\n",
       "      <th>2</th>\n",
       "      <td>AL</td>\n",
       "      <td>Alabama State Senate District 3</td>\n",
       "    </tr>\n",
       "    <tr>\n",
       "      <th>3</th>\n",
       "      <td>AL</td>\n",
       "      <td>Alabama State Senate District 4</td>\n",
       "    </tr>\n",
       "    <tr>\n",
       "      <th>4</th>\n",
       "      <td>AL</td>\n",
       "      <td>Alabama State Senate District 5</td>\n",
       "    </tr>\n",
       "    <tr>\n",
       "      <th>...</th>\n",
       "      <td>...</td>\n",
       "      <td>...</td>\n",
       "    </tr>\n",
       "    <tr>\n",
       "      <th>1993</th>\n",
       "      <td>WV</td>\n",
       "      <td>West Virginia House of Delegates District 96</td>\n",
       "    </tr>\n",
       "    <tr>\n",
       "      <th>1994</th>\n",
       "      <td>WV</td>\n",
       "      <td>West Virginia House of Delegates District 97</td>\n",
       "    </tr>\n",
       "    <tr>\n",
       "      <th>1995</th>\n",
       "      <td>WV</td>\n",
       "      <td>West Virginia House of Delegates District 98</td>\n",
       "    </tr>\n",
       "    <tr>\n",
       "      <th>1996</th>\n",
       "      <td>WV</td>\n",
       "      <td>West Virginia House of Delegates District 99</td>\n",
       "    </tr>\n",
       "    <tr>\n",
       "      <th>1997</th>\n",
       "      <td>WV</td>\n",
       "      <td>West Virginia House of Delegates District 100</td>\n",
       "    </tr>\n",
       "  </tbody>\n",
       "</table>\n",
       "<p>1998 rows × 2 columns</p>\n",
       "</div>"
      ],
      "text/plain": [
       "     state_abbreviation                                district_string\n",
       "0                    AL                Alabama State Senate District 1\n",
       "1                    AL                Alabama State Senate District 2\n",
       "2                    AL                Alabama State Senate District 3\n",
       "3                    AL                Alabama State Senate District 4\n",
       "4                    AL                Alabama State Senate District 5\n",
       "...                 ...                                            ...\n",
       "1993                 WV   West Virginia House of Delegates District 96\n",
       "1994                 WV   West Virginia House of Delegates District 97\n",
       "1995                 WV   West Virginia House of Delegates District 98\n",
       "1996                 WV   West Virginia House of Delegates District 99\n",
       "1997                 WV  West Virginia House of Delegates District 100\n",
       "\n",
       "[1998 rows x 2 columns]"
      ]
     },
     "execution_count": 8,
     "metadata": {},
     "output_type": "execute_result"
    }
   ],
   "source": [
    "districts_w_intials = pd.DataFrame({'state_abbreviation': state_intitals,'district_string': all_districts})\n",
    "thi_state_districts = districts_w_intials[districts_w_intials['state_abbreviation'].isin(thi_states)]\n",
    "thi_state_districts.reset_index(inplace=True, drop=True)\n",
    "# thi_state_districts['chamber'] = \"\"\n",
    "# thi_state_districts['chamber'] = \"\"\n",
    "thi_state_districts"
   ]
  },
  {
   "cell_type": "code",
   "execution_count": null,
   "metadata": {},
   "outputs": [],
   "source": [
    "#create pk\n",
    "\n",
    "districts_w_keys, key_duplicates = create_pk(thi_state_districts, 'district_string', )"
   ]
  },
  {
   "cell_type": "markdown",
   "metadata": {},
   "source": [
    "%%splitting up district numbers from rest of string"
   ]
  },
  {
   "cell_type": "code",
   "execution_count": null,
   "metadata": {},
   "outputs": [
    {
     "ename": "",
     "evalue": "",
     "output_type": "error",
     "traceback": [
      "\u001b[1;31mThe Kernel crashed while executing code in the current cell or a previous cell. \n",
      "\u001b[1;31mPlease review the code in the cell(s) to identify a possible cause of the failure. \n",
      "\u001b[1;31mClick <a href='https://aka.ms/vscodeJupyterKernelCrash'>here</a> for more info. \n",
      "\u001b[1;31mView Jupyter <a href='command:jupyter.viewOutput'>log</a> for further details."
     ]
    }
   ],
   "source": [
    "\n",
    "def create_pk(df,column):\n",
    "    lengths = []\n",
    "    df.loc[:,'state_code'] = np.nan\n",
    "    df.loc[:,'chamber_code'] = np.nan\n",
    "    df.loc[:,'district'] = np.nan\n",
    "    df.loc[:,'primary_key'] = np.nan\n",
    "    for i,j in enumerate(df[f'{column}']):\n",
    "        # print(str(j))\n",
    "        # print(row)\n",
    "        district_raw = re.split(r'\\s(?=District)', str(j))\n",
    "        match = re.findall(r'\\s\\d+', str(district_raw))[0]\n",
    "        match = match.strip()\n",
    "        if len(match) == 2:\n",
    "            district_code = '0' + str(match)\n",
    "        elif len(match) == 1:\n",
    "            district_code = '00'+str(match)\n",
    "        else:\n",
    "            district_code = str(match)\n",
    "        district_len = len(match)\n",
    "        lengths.append(district_len)\n",
    "        ext_state = df.loc[i,'state_abbreviation']\n",
    "        state_code = state_coding.get(ext_state)\n",
    "        if 'house' in str(j).lower():\n",
    "            chamber_code = '0'\n",
    "        elif 'senate' in str(j).lower():\n",
    "            chamber_code = '1'\n",
    "        else:\n",
    "            print(f'unknown chamber: {str(j)}')\n",
    "            break\n",
    "        \n",
    "        # display_markdown(f'#### {ext_state} - {chamber_code} - {district_raw}', raw=True)\n",
    "        key_code = f'{state_code}{chamber_code}{district_code}'\n",
    "        \n",
    "        \n",
    "        df.loc[i,'state_code'] = state_code\n",
    "        df.loc[i,'chamber_code'] = chamber_code\n",
    "        df.loc[i,'district'] = match\n",
    "        df.loc[i,'primary_key'] = key_code\n",
    "    return df"
   ]
  },
  {
   "cell_type": "code",
   "execution_count": null,
   "metadata": {},
   "outputs": [],
   "source": [
    "#dont touch original\n",
    "\n",
    "lengths = []\n",
    "thi_state_districts['state_code'] = np.nan\n",
    "thi_state_districts['chamber_code'] = np.nan\n",
    "thi_state_districts['district'] = np.nan\n",
    "thi_state_districts['primary_key'] = np.nan\n",
    "for i,j in enumerate(thi_state_districts['district_string']):\n",
    "    # print(str(j))\n",
    "    # print(row)\n",
    "    district_raw = re.split(r'\\s(?=District)', str(j))\n",
    "    match = re.findall(r'\\s\\d+', str(district_raw))[0]\n",
    "    match = match.strip()\n",
    "    if len(match) == 2:\n",
    "        district_code = '0' + str(match)\n",
    "    elif len(match) == 1:\n",
    "        district_code = '00'+str(match)\n",
    "    else:\n",
    "        district_code = str(match)\n",
    "    district_len = len(match)\n",
    "    lengths.append(district_len)\n",
    "    ext_state = thi_state_districts.loc[i,'state_abbreviation']\n",
    "    state_code = state_coding.get(ext_state)\n",
    "    if 'house' in str(j).lower():\n",
    "        chamber_code = '0'\n",
    "    elif 'senate' in str(j).lower():\n",
    "        chamber_code = '1'\n",
    "    else:\n",
    "        print(f'unknown chamber: {str(j)}')\n",
    "        break\n",
    "    \n",
    "    # display_markdown(f'#### {ext_state} - {chamber_code} - {district_raw}', raw=True)\n",
    "    key_code = f'{state_code}{chamber_code}{district_code}'\n",
    "    \n",
    "    \n",
    "    thi_state_districts.loc[i,'state_code'] = state_code\n",
    "    thi_state_districts.loc[i,'chamber_code'] = chamber_code\n",
    "    thi_state_districts.loc[i,'district'] = match\n",
    "    thi_state_districts.loc[i,'primary_key'] = key_code"
   ]
  },
  {
   "cell_type": "code",
   "execution_count": null,
   "metadata": {},
   "outputs": [],
   "source": [
    "    \n",
    "    \n",
    "# %% takes duplicates of primary keys and assigns a seat num"
   ]
  },
  {
   "cell_type": "markdown",
   "metadata": {},
   "source": [
    "eat num of 00 means there is only one seat (no multi-member districts)"
   ]
  },
  {
   "cell_type": "code",
   "execution_count": null,
   "metadata": {},
   "outputs": [],
   "source": [
    "thi_state_districts['count'] = thi_state_districts['primary_key'].map(thi_state_districts['primary_key'].value_counts())\n",
    "thi_state_districts['seat_num'] = thi_state_districts.groupby('primary_key').cumcount() + 1\n",
    "thi_state_districts.loc[thi_state_districts['count'] == 1, 'seat_num'] = 0\n",
    "thi_state_districts = thi_state_districts.drop(columns='count')\n",
    "thi_state_districts['seat_num'] = thi_state_districts['seat_num'].apply(lambda x: f'{x:02d}')\n",
    "thi_state_districts['final_primary_key'] = thi_state_districts['primary_key'] + thi_state_districts['seat_num']\n",
    "# %%"
   ]
  },
  {
   "cell_type": "code",
   "execution_count": null,
   "metadata": {},
   "outputs": [],
   "source": [
    "# %%"
   ]
  },
  {
   "cell_type": "code",
   "execution_count": null,
   "metadata": {},
   "outputs": [],
   "source": [
    "duplicate = thi_state_districts[thi_state_districts.duplicated('primary_key')]\n",
    "\n",
    "    # print(str(j))\n",
    "    # print(district_len)\n",
    "    "
   ]
  },
  {
   "cell_type": "markdown",
   "metadata": {},
   "source": [
    "print(max(lengths))"
   ]
  },
  {
   "cell_type": "code",
   "execution_count": null,
   "metadata": {},
   "outputs": [],
   "source": [
    "    # print(line.split('District')[-1])"
   ]
  },
  {
   "cell_type": "markdown",
   "metadata": {},
   "source": [
    "%%"
   ]
  },
  {
   "cell_type": "code",
   "execution_count": null,
   "metadata": {},
   "outputs": [],
   "source": [
    "print(*all_districts, sep='\\n')"
   ]
  },
  {
   "cell_type": "code",
   "execution_count": null,
   "metadata": {},
   "outputs": [],
   "source": [
    "[print(x) for x in thi_state_districts]\n",
    "\n",
    "    # states.append(str(state_match))\n",
    "# %%"
   ]
  },
  {
   "cell_type": "code",
   "execution_count": null,
   "metadata": {},
   "outputs": [],
   "source": [
    "states = sorted(list(set(states)))\n",
    "print(len(states))\n",
    "print(*states, sep=\"\\n\")"
   ]
  },
  {
   "cell_type": "code",
   "execution_count": null,
   "metadata": {},
   "outputs": [],
   "source": [
    "for i,j in enumerate(states):\n",
    "    code = str(i+1)\n",
    "    if len(code) == 1:\n",
    "        code = \"0\"+code\n",
    "    df = pd.DataFrame({'state': [j], 'code':[code]})\n",
    "    print(df.to_string())"
   ]
  },
  {
   "cell_type": "markdown",
   "metadata": {},
   "source": [
    "%%"
   ]
  },
  {
   "cell_type": "code",
   "execution_count": null,
   "metadata": {},
   "outputs": [],
   "source": [
    "    \n",
    "    break\n",
    "    print(page.status_code)\n",
    "    print(page.content[:500])  # Preview the content\n",
    "    \n",
    "    # df_list = pd.read_html(page_soup.prettify())\n",
    "    # print(len(df_list))\n",
    "    # print(type(df_list))"
   ]
  },
  {
   "cell_type": "code",
   "execution_count": null,
   "metadata": {},
   "outputs": [],
   "source": [
    "    # print(df)\n",
    "\n",
    "    # dis_soup = BeautifulSoup(response.content, 'html.parser')\n",
    "    # ditricts_tags = dis_soup.find_all(\"td\")\n",
    "    # for d in ditricts_tags:\n",
    "    #     print(d)\n",
    "    \n",
    "\t"
   ]
  },
  {
   "cell_type": "markdown",
   "metadata": {},
   "source": [
    "%%"
   ]
  }
 ],
 "metadata": {
  "kernelspec": {
   "display_name": "hunt_env",
   "language": "python",
   "name": "python3"
  },
  "language_info": {
   "codemirror_mode": {
    "name": "ipython",
    "version": 3
   },
   "file_extension": ".py",
   "mimetype": "text/x-python",
   "name": "python",
   "nbconvert_exporter": "python",
   "pygments_lexer": "ipython3",
   "version": "3.12.5"
  }
 },
 "nbformat": 4,
 "nbformat_minor": 2
}
