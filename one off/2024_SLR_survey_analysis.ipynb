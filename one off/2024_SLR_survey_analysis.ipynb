


import os, sys, json, datetime  # Provides OS-dependent functionality, system-specific parameters, JSON handling, and date/time manipulation
import pandas as pd             # Provides data structures and data analysis tools
import numpy as np              # Supports large, multi-dimensional arrays and matrices
import requests
import time
import glob
import re
from tqdm import tqdm
import shutil

file = r'C:\Users\clutz\OneDrive - THE HUNT INSTITUTE\Documents\Data\tableau\survey view\data sources\master_survey_sheet.csv'

survey_data = pd.read_csv(file)


